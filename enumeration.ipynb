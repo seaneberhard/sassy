{
 "cells": [
  {
   "cell_type": "markdown",
   "metadata": {},
   "source": [
    "Goal: Find a non-Schurian coherent set configuration / set association scheme\n",
    "\n",
    "Via a Hamming-type construction this would give a non-Schurian PCC with large automorphism group."
   ]
  },
  {
   "cell_type": "code",
   "execution_count": 1,
   "metadata": {},
   "outputs": [],
   "source": [
    "from sassy import SAS"
   ]
  },
  {
   "cell_type": "code",
   "execution_count": 2,
   "metadata": {},
   "outputs": [
    {
     "name": "stdout",
     "output_type": "stream",
     "text": [
      "WL step (full):\n"
     ]
    },
    {
     "data": {
      "application/vnd.jupyter.widget-view+json": {
       "model_id": "48ed2737c9844d55a6fc42a55507f4ea",
       "version_major": 2,
       "version_minor": 0
      },
      "text/plain": [
       "  0%|          | 0/25100 [00:00<?, ?it/s]"
      ]
     },
     "metadata": {},
     "output_type": "display_data"
    },
    {
     "name": "stdout",
     "output_type": "stream",
     "text": [
      "Rank: 9 --> 10\n",
      "WL step (full):\n"
     ]
    },
    {
     "data": {
      "application/vnd.jupyter.widget-view+json": {
       "model_id": "8061dbb70a23444b956525e18e0fa8e5",
       "version_major": 2,
       "version_minor": 0
      },
      "text/plain": [
       "  0%|          | 0/25100 [00:00<?, ?it/s]"
      ]
     },
     "metadata": {},
     "output_type": "display_data"
    },
    {
     "name": "stdout",
     "output_type": "stream",
     "text": [
      "Rank: 10 --> 10\n"
     ]
    },
    {
     "data": {
      "text/plain": [
       "(6, 10, [1, 1, 2, 2, 2, 1, 1], True, True, 'C2 x S4')"
      ]
     },
     "execution_count": 2,
     "metadata": {},
     "output_type": "execute_result"
    }
   ],
   "source": [
    "## basic unit test\n",
    "X = SAS(6)\n",
    "X.separate([{1, 2}, {3, 4}, {5, 6}])\n",
    "X.wl_full(log_progress=True)\n",
    "X.summary()"
   ]
  },
  {
   "cell_type": "markdown",
   "metadata": {},
   "source": [
    "expected: $\\texttt{(6, 10, [1, 1, 2, 2, 2, 1, 1], True, True, 'C2 x S4')}$\n"
   ]
  },
  {
   "cell_type": "markdown",
   "metadata": {},
   "source": [
    "## $n \\leq 5$"
   ]
  },
  {
   "cell_type": "code",
   "execution_count": 3,
   "metadata": {
    "scrolled": true
   },
   "outputs": [
    {
     "name": "stdout",
     "output_type": "stream",
     "text": [
      "Searching for coherent refinements of <SAS of degree 1 and ranks [1, 1]>\n",
      "Summary: (1, 2, [1, 1], True, True, '1')\n"
     ]
    },
    {
     "data": {
      "application/vnd.jupyter.widget-view+json": {
       "model_id": "214f6bb0c04d41d6afb17487bcc0b8f1",
       "version_major": 2,
       "version_minor": 0
      },
      "text/plain": [
       "0it [00:00, ?it/s]"
      ]
     },
     "metadata": {},
     "output_type": "display_data"
    },
    {
     "name": "stdout",
     "output_type": "stream",
     "text": [
      "Testing 0 designs with WL... (triangles only)\n"
     ]
    },
    {
     "data": {
      "application/vnd.jupyter.widget-view+json": {
       "model_id": "be34e60488dd41ad9e50eb46c6fb7d3c",
       "version_major": 2,
       "version_minor": 0
      },
      "text/plain": [
       "0it [00:00, ?it/s]"
      ]
     },
     "metadata": {},
     "output_type": "display_data"
    },
    {
     "name": "stdout",
     "output_type": "stream",
     "text": [
      "Searching for coherent refinements of <SAS of degree 2 and ranks [1, 1, 1]>\n",
      "Summary: (2, 3, [1, 1, 1], True, True, 'C2')\n"
     ]
    },
    {
     "data": {
      "application/vnd.jupyter.widget-view+json": {
       "model_id": "538609193bf4404db3db103ab804bd6a",
       "version_major": 2,
       "version_minor": 0
      },
      "text/plain": [
       "0it [00:00, ?it/s]"
      ]
     },
     "metadata": {},
     "output_type": "display_data"
    },
    {
     "name": "stdout",
     "output_type": "stream",
     "text": [
      "Testing 0 designs with WL... (triangles only)\n"
     ]
    },
    {
     "data": {
      "application/vnd.jupyter.widget-view+json": {
       "model_id": "898614424b754237b13a47cae59c200c",
       "version_major": 2,
       "version_minor": 0
      },
      "text/plain": [
       "0it [00:00, ?it/s]"
      ]
     },
     "metadata": {},
     "output_type": "display_data"
    },
    {
     "name": "stdout",
     "output_type": "stream",
     "text": [
      "Searching for coherent refinements of <SAS of degree 2 and ranks [1, 2, 1]>\n",
      "Summary: (2, 4, [1, 2, 1], False, True, '1')\n"
     ]
    },
    {
     "data": {
      "application/vnd.jupyter.widget-view+json": {
       "model_id": "49f4f218426546b696a41e34868953c8",
       "version_major": 2,
       "version_minor": 0
      },
      "text/plain": [
       "0it [00:00, ?it/s]"
      ]
     },
     "metadata": {},
     "output_type": "display_data"
    },
    {
     "name": "stdout",
     "output_type": "stream",
     "text": [
      "Testing 0 designs with WL... (triangles only)\n"
     ]
    },
    {
     "data": {
      "application/vnd.jupyter.widget-view+json": {
       "model_id": "fdf5e1db442b4989a149dc1729945d5a",
       "version_major": 2,
       "version_minor": 0
      },
      "text/plain": [
       "0it [00:00, ?it/s]"
      ]
     },
     "metadata": {},
     "output_type": "display_data"
    },
    {
     "name": "stdout",
     "output_type": "stream",
     "text": [
      "Searching for coherent refinements of <SAS of degree 3 and ranks [1, 1, 1, 1]>\n",
      "Summary: (3, 4, [1, 1, 1, 1], True, True, 'S3')\n"
     ]
    },
    {
     "data": {
      "application/vnd.jupyter.widget-view+json": {
       "model_id": "4f81193f1c764fcf9817c27985753d70",
       "version_major": 2,
       "version_minor": 0
      },
      "text/plain": [
       "0it [00:00, ?it/s]"
      ]
     },
     "metadata": {},
     "output_type": "display_data"
    },
    {
     "name": "stdout",
     "output_type": "stream",
     "text": [
      "Testing 0 designs with WL... (triangles only)\n"
     ]
    },
    {
     "data": {
      "application/vnd.jupyter.widget-view+json": {
       "model_id": "f52edf18b8c646d3924c745a2fb70565",
       "version_major": 2,
       "version_minor": 0
      },
      "text/plain": [
       "0it [00:00, ?it/s]"
      ]
     },
     "metadata": {},
     "output_type": "display_data"
    },
    {
     "name": "stdout",
     "output_type": "stream",
     "text": [
      "Searching for coherent refinements of <SAS of degree 3 and ranks [1, 2, 2, 1]>\n",
      "Summary: (3, 6, [1, 2, 2, 1], False, True, 'C2')\n"
     ]
    },
    {
     "data": {
      "application/vnd.jupyter.widget-view+json": {
       "model_id": "39d4ba1dd2344f4ba3ec866257cb3a11",
       "version_major": 2,
       "version_minor": 0
      },
      "text/plain": [
       "0it [00:00, ?it/s]"
      ]
     },
     "metadata": {},
     "output_type": "display_data"
    },
    {
     "name": "stdout",
     "output_type": "stream",
     "text": [
      "Testing 0 designs with WL... (triangles only)\n"
     ]
    },
    {
     "data": {
      "application/vnd.jupyter.widget-view+json": {
       "model_id": "ac1750ff9e2d4598962a894ee2b34c09",
       "version_major": 2,
       "version_minor": 0
      },
      "text/plain": [
       "0it [00:00, ?it/s]"
      ]
     },
     "metadata": {},
     "output_type": "display_data"
    },
    {
     "name": "stdout",
     "output_type": "stream",
     "text": [
      "Searching for coherent refinements of <SAS of degree 3 and ranks [1, 3, 3, 1]>\n",
      "Summary: (3, 8, [1, 3, 3, 1], False, True, '1')\n"
     ]
    },
    {
     "data": {
      "application/vnd.jupyter.widget-view+json": {
       "model_id": "93041b359a5d4188a93ff0cd64bc1f2f",
       "version_major": 2,
       "version_minor": 0
      },
      "text/plain": [
       "0it [00:00, ?it/s]"
      ]
     },
     "metadata": {},
     "output_type": "display_data"
    },
    {
     "name": "stdout",
     "output_type": "stream",
     "text": [
      "Testing 0 designs with WL... (triangles only)\n"
     ]
    },
    {
     "data": {
      "application/vnd.jupyter.widget-view+json": {
       "model_id": "5294ff84448b42bb82527edab22d578a",
       "version_major": 2,
       "version_minor": 0
      },
      "text/plain": [
       "0it [00:00, ?it/s]"
      ]
     },
     "metadata": {},
     "output_type": "display_data"
    },
    {
     "name": "stdout",
     "output_type": "stream",
     "text": [
      "Searching for coherent refinements of <SAS of degree 4 and ranks [1, 1, 1, 1, 1]>\n",
      "Summary: (4, 5, [1, 1, 1, 1, 1], True, True, 'S4')\n"
     ]
    },
    {
     "data": {
      "application/vnd.jupyter.widget-view+json": {
       "model_id": "2bbc949d4b9a41c2b0edc62284ca7200",
       "version_major": 2,
       "version_minor": 0
      },
      "text/plain": [
       "0it [00:00, ?it/s]"
      ]
     },
     "metadata": {},
     "output_type": "display_data"
    },
    {
     "name": "stdout",
     "output_type": "stream",
     "text": [
      "Enumerating monochromatic designs on level 2\n"
     ]
    },
    {
     "data": {
      "application/vnd.jupyter.widget-view+json": {
       "model_id": "adc8fd2b73094412a1c2e93a9a7de87d",
       "version_major": 2,
       "version_minor": 0
      },
      "text/plain": [
       "0it [00:00, ?it/s]"
      ]
     },
     "metadata": {},
     "output_type": "display_data"
    },
    {
     "name": "stdout",
     "output_type": "stream",
     "text": [
      "Testing 1 designs with WL... (triangles only)\n"
     ]
    },
    {
     "data": {
      "application/vnd.jupyter.widget-view+json": {
       "model_id": "4b1b0d37fbe34f1ba283e602dfa5adf1",
       "version_major": 2,
       "version_minor": 0
      },
      "text/plain": [
       "  0%|          | 0/1 [00:00<?, ?it/s]"
      ]
     },
     "metadata": {},
     "output_type": "display_data"
    },
    {
     "name": "stdout",
     "output_type": "stream",
     "text": [
      "Found: <SAS of degree 4 and ranks [1, 1, 2, 1, 1]>\n",
      "Summary: (4, 6, [1, 1, 2, 1, 1], True, True, 'D4')\n",
      "Searching for coherent refinements of <SAS of degree 4 and ranks [1, 1, 2, 1, 1]>\n",
      "Summary: (4, 6, [1, 1, 2, 1, 1], True, True, 'D4')\n"
     ]
    },
    {
     "data": {
      "application/vnd.jupyter.widget-view+json": {
       "model_id": "ae07fc866fef4f2ba17e36a005f07e9d",
       "version_major": 2,
       "version_minor": 0
      },
      "text/plain": [
       "0it [00:00, ?it/s]"
      ]
     },
     "metadata": {},
     "output_type": "display_data"
    },
    {
     "name": "stdout",
     "output_type": "stream",
     "text": [
      "Enumerating monochromatic designs on level 2\n"
     ]
    },
    {
     "data": {
      "application/vnd.jupyter.widget-view+json": {
       "model_id": "b102bf4a947a405d958a7681c7c8a649",
       "version_major": 2,
       "version_minor": 0
      },
      "text/plain": [
       "0it [00:00, ?it/s]"
      ]
     },
     "metadata": {},
     "output_type": "display_data"
    },
    {
     "name": "stdout",
     "output_type": "stream",
     "text": [
      "Testing 1 designs with WL... (triangles only)\n"
     ]
    },
    {
     "data": {
      "application/vnd.jupyter.widget-view+json": {
       "model_id": "c9a978c37d9d474ead36180bf42313f5",
       "version_major": 2,
       "version_minor": 0
      },
      "text/plain": [
       "  0%|          | 0/1 [00:00<?, ?it/s]"
      ]
     },
     "metadata": {},
     "output_type": "display_data"
    },
    {
     "name": "stdout",
     "output_type": "stream",
     "text": [
      "Found: <SAS of degree 4 and ranks [1, 1, 3, 1, 1]>\n",
      "Summary: (4, 7, [1, 1, 3, 1, 1], True, True, 'C2 x C2')\n",
      "Searching for coherent refinements of <SAS of degree 4 and ranks [1, 1, 3, 1, 1]>\n",
      "Summary: (4, 7, [1, 1, 3, 1, 1], True, True, 'C2 x C2')\n"
     ]
    },
    {
     "data": {
      "application/vnd.jupyter.widget-view+json": {
       "model_id": "fbc60db9e04c4defb5bcb629790b71e2",
       "version_major": 2,
       "version_minor": 0
      },
      "text/plain": [
       "0it [00:00, ?it/s]"
      ]
     },
     "metadata": {},
     "output_type": "display_data"
    },
    {
     "name": "stdout",
     "output_type": "stream",
     "text": [
      "Enumerating monochromatic designs on level 2\n"
     ]
    },
    {
     "data": {
      "application/vnd.jupyter.widget-view+json": {
       "model_id": "0c5590ddb72d46648e93f1fcd8809e83",
       "version_major": 2,
       "version_minor": 0
      },
      "text/plain": [
       "0it [00:00, ?it/s]"
      ]
     },
     "metadata": {},
     "output_type": "display_data"
    },
    {
     "name": "stdout",
     "output_type": "stream",
     "text": [
      "Testing 0 designs with WL... (triangles only)\n"
     ]
    },
    {
     "data": {
      "application/vnd.jupyter.widget-view+json": {
       "model_id": "ad07467c89c74976b3d364a16915814a",
       "version_major": 2,
       "version_minor": 0
      },
      "text/plain": [
       "0it [00:00, ?it/s]"
      ]
     },
     "metadata": {},
     "output_type": "display_data"
    },
    {
     "name": "stdout",
     "output_type": "stream",
     "text": [
      "Searching for coherent refinements of <SAS of degree 4 and ranks [1, 2, 2, 2, 1]>\n",
      "Summary: (4, 8, [1, 2, 2, 2, 1], False, True, 'S3')\n"
     ]
    },
    {
     "data": {
      "application/vnd.jupyter.widget-view+json": {
       "model_id": "fcf30730a2dd4dfa861a7b0d08cc28f2",
       "version_major": 2,
       "version_minor": 0
      },
      "text/plain": [
       "0it [00:00, ?it/s]"
      ]
     },
     "metadata": {},
     "output_type": "display_data"
    },
    {
     "name": "stdout",
     "output_type": "stream",
     "text": [
      "Enumerating monochromatic designs on level 2\n"
     ]
    },
    {
     "data": {
      "application/vnd.jupyter.widget-view+json": {
       "model_id": "1ac62417bdda4456b628c8d74d697265",
       "version_major": 2,
       "version_minor": 0
      },
      "text/plain": [
       "0it [00:00, ?it/s]"
      ]
     },
     "metadata": {},
     "output_type": "display_data"
    },
    {
     "name": "stdout",
     "output_type": "stream",
     "text": [
      "Testing 0 designs with WL... (triangles only)\n"
     ]
    },
    {
     "data": {
      "application/vnd.jupyter.widget-view+json": {
       "model_id": "0f875aecb11c4c5e977aee04373ba4ab",
       "version_major": 2,
       "version_minor": 0
      },
      "text/plain": [
       "0it [00:00, ?it/s]"
      ]
     },
     "metadata": {},
     "output_type": "display_data"
    },
    {
     "name": "stdout",
     "output_type": "stream",
     "text": [
      "Searching for coherent refinements of <SAS of degree 4 and ranks [1, 2, 3, 2, 1]>\n",
      "Summary: (4, 9, [1, 2, 3, 2, 1], False, True, 'C2 x C2')\n"
     ]
    },
    {
     "data": {
      "application/vnd.jupyter.widget-view+json": {
       "model_id": "1fe1dffc199e40ed91cda6b99c76806c",
       "version_major": 2,
       "version_minor": 0
      },
      "text/plain": [
       "0it [00:00, ?it/s]"
      ]
     },
     "metadata": {},
     "output_type": "display_data"
    },
    {
     "name": "stdout",
     "output_type": "stream",
     "text": [
      "Enumerating monochromatic designs on level 2\n"
     ]
    },
    {
     "data": {
      "application/vnd.jupyter.widget-view+json": {
       "model_id": "76b72575c8184adea7d507ebcd8cd437",
       "version_major": 2,
       "version_minor": 0
      },
      "text/plain": [
       "0it [00:00, ?it/s]"
      ]
     },
     "metadata": {},
     "output_type": "display_data"
    },
    {
     "name": "stdout",
     "output_type": "stream",
     "text": [
      "Testing 1 designs with WL... (triangles only)\n"
     ]
    },
    {
     "data": {
      "application/vnd.jupyter.widget-view+json": {
       "model_id": "5caecd40089145d3a1fd6c62d8f238d0",
       "version_major": 2,
       "version_minor": 0
      },
      "text/plain": [
       "  0%|          | 0/1 [00:00<?, ?it/s]"
      ]
     },
     "metadata": {},
     "output_type": "display_data"
    },
    {
     "name": "stdout",
     "output_type": "stream",
     "text": [
      "Found: <SAS of degree 4 and ranks [1, 2, 4, 2, 1]>\n",
      "Summary: (4, 10, [1, 2, 4, 2, 1], False, True, 'C2')\n",
      "Searching for coherent refinements of <SAS of degree 4 and ranks [1, 2, 4, 2, 1]>\n",
      "Summary: (4, 10, [1, 2, 4, 2, 1], False, True, 'C2')\n"
     ]
    },
    {
     "data": {
      "application/vnd.jupyter.widget-view+json": {
       "model_id": "292bb626582645889351cda9e03358ad",
       "version_major": 2,
       "version_minor": 0
      },
      "text/plain": [
       "0it [00:00, ?it/s]"
      ]
     },
     "metadata": {},
     "output_type": "display_data"
    },
    {
     "name": "stdout",
     "output_type": "stream",
     "text": [
      "Enumerating monochromatic designs on level 2\n"
     ]
    },
    {
     "data": {
      "application/vnd.jupyter.widget-view+json": {
       "model_id": "8f30545be2eb49ec84781c5691c3487f",
       "version_major": 2,
       "version_minor": 0
      },
      "text/plain": [
       "0it [00:00, ?it/s]"
      ]
     },
     "metadata": {},
     "output_type": "display_data"
    },
    {
     "name": "stdout",
     "output_type": "stream",
     "text": [
      "Testing 0 designs with WL... (triangles only)\n"
     ]
    },
    {
     "data": {
      "application/vnd.jupyter.widget-view+json": {
       "model_id": "ba1d06f7ac1a402f9f6c71f91b748d80",
       "version_major": 2,
       "version_minor": 0
      },
      "text/plain": [
       "0it [00:00, ?it/s]"
      ]
     },
     "metadata": {},
     "output_type": "display_data"
    },
    {
     "name": "stdout",
     "output_type": "stream",
     "text": [
      "Searching for coherent refinements of <SAS of degree 4 and ranks [1, 3, 4, 3, 1]>\n",
      "Summary: (4, 12, [1, 3, 4, 3, 1], False, True, 'C2')\n"
     ]
    },
    {
     "data": {
      "application/vnd.jupyter.widget-view+json": {
       "model_id": "8afb2ee2aeae4ad9893198527ac6d6ef",
       "version_major": 2,
       "version_minor": 0
      },
      "text/plain": [
       "0it [00:00, ?it/s]"
      ]
     },
     "metadata": {},
     "output_type": "display_data"
    },
    {
     "name": "stdout",
     "output_type": "stream",
     "text": [
      "Enumerating monochromatic designs on level 2\n"
     ]
    },
    {
     "data": {
      "application/vnd.jupyter.widget-view+json": {
       "model_id": "7e947745c8a54a4fbd8bb449a0e6d6e9",
       "version_major": 2,
       "version_minor": 0
      },
      "text/plain": [
       "0it [00:00, ?it/s]"
      ]
     },
     "metadata": {},
     "output_type": "display_data"
    },
    {
     "name": "stdout",
     "output_type": "stream",
     "text": [
      "Testing 0 designs with WL... (triangles only)\n"
     ]
    },
    {
     "data": {
      "application/vnd.jupyter.widget-view+json": {
       "model_id": "d687ee4c3aaf493c8ccb561533caf9c0",
       "version_major": 2,
       "version_minor": 0
      },
      "text/plain": [
       "0it [00:00, ?it/s]"
      ]
     },
     "metadata": {},
     "output_type": "display_data"
    },
    {
     "name": "stdout",
     "output_type": "stream",
     "text": [
      "Searching for coherent refinements of <SAS of degree 4 and ranks [1, 4, 6, 4, 1]>\n",
      "Summary: (4, 16, [1, 4, 6, 4, 1], False, True, '1')\n"
     ]
    },
    {
     "data": {
      "application/vnd.jupyter.widget-view+json": {
       "model_id": "9837397d59334d1ba3f298ea14017e48",
       "version_major": 2,
       "version_minor": 0
      },
      "text/plain": [
       "0it [00:00, ?it/s]"
      ]
     },
     "metadata": {},
     "output_type": "display_data"
    },
    {
     "name": "stdout",
     "output_type": "stream",
     "text": [
      "Enumerating monochromatic designs on level 2\n"
     ]
    },
    {
     "data": {
      "application/vnd.jupyter.widget-view+json": {
       "model_id": "9e9395bc5ecf45c49750c4096736d928",
       "version_major": 2,
       "version_minor": 0
      },
      "text/plain": [
       "0it [00:00, ?it/s]"
      ]
     },
     "metadata": {},
     "output_type": "display_data"
    },
    {
     "name": "stdout",
     "output_type": "stream",
     "text": [
      "Testing 0 designs with WL... (triangles only)\n"
     ]
    },
    {
     "data": {
      "application/vnd.jupyter.widget-view+json": {
       "model_id": "e4e85a1397a643f583b4bfa76acbfaaa",
       "version_major": 2,
       "version_minor": 0
      },
      "text/plain": [
       "0it [00:00, ?it/s]"
      ]
     },
     "metadata": {},
     "output_type": "display_data"
    },
    {
     "name": "stdout",
     "output_type": "stream",
     "text": [
      "Searching for coherent refinements of <SAS of degree 5 and ranks [1, 1, 1, 1, 1, 1]>\n",
      "Summary: (5, 6, [1, 1, 1, 1, 1, 1], True, True, 'S5')\n"
     ]
    },
    {
     "data": {
      "application/vnd.jupyter.widget-view+json": {
       "model_id": "0ed9290365454611bc25dcabde92108d",
       "version_major": 2,
       "version_minor": 0
      },
      "text/plain": [
       "0it [00:00, ?it/s]"
      ]
     },
     "metadata": {},
     "output_type": "display_data"
    },
    {
     "name": "stdout",
     "output_type": "stream",
     "text": [
      "Enumerating monochromatic designs on level 2\n"
     ]
    },
    {
     "data": {
      "application/vnd.jupyter.widget-view+json": {
       "model_id": "63d8e9cdf3c545a986699d7c37aa7b58",
       "version_major": 2,
       "version_minor": 0
      },
      "text/plain": [
       "0it [00:00, ?it/s]"
      ]
     },
     "metadata": {},
     "output_type": "display_data"
    },
    {
     "name": "stdout",
     "output_type": "stream",
     "text": [
      "Testing 1 designs with WL... (triangles only)\n"
     ]
    },
    {
     "data": {
      "application/vnd.jupyter.widget-view+json": {
       "model_id": "b8d6801d2ea84f94ba8c9b19a250ab8b",
       "version_major": 2,
       "version_minor": 0
      },
      "text/plain": [
       "  0%|          | 0/1 [00:00<?, ?it/s]"
      ]
     },
     "metadata": {},
     "output_type": "display_data"
    },
    {
     "name": "stdout",
     "output_type": "stream",
     "text": [
      "Found: <SAS of degree 5 and ranks [1, 1, 2, 2, 1, 1]>\n",
      "Summary: (5, 8, [1, 1, 2, 2, 1, 1], True, True, 'D5')\n",
      "Searching for coherent refinements of <SAS of degree 5 and ranks [1, 1, 2, 2, 1, 1]>\n",
      "Summary: (5, 8, [1, 1, 2, 2, 1, 1], True, True, 'D5')\n"
     ]
    },
    {
     "data": {
      "application/vnd.jupyter.widget-view+json": {
       "model_id": "3349d7af349f44eabf5fdfe5a4d5432e",
       "version_major": 2,
       "version_minor": 0
      },
      "text/plain": [
       "0it [00:00, ?it/s]"
      ]
     },
     "metadata": {},
     "output_type": "display_data"
    },
    {
     "name": "stdout",
     "output_type": "stream",
     "text": [
      "Enumerating monochromatic designs on level 2\n"
     ]
    },
    {
     "data": {
      "application/vnd.jupyter.widget-view+json": {
       "model_id": "40b5607acdf04181b57de323deea9b60",
       "version_major": 2,
       "version_minor": 0
      },
      "text/plain": [
       "0it [00:00, ?it/s]"
      ]
     },
     "metadata": {},
     "output_type": "display_data"
    },
    {
     "name": "stdout",
     "output_type": "stream",
     "text": [
      "Testing 0 designs with WL... (triangles only)\n"
     ]
    },
    {
     "data": {
      "application/vnd.jupyter.widget-view+json": {
       "model_id": "d106928bf84a4499a4ffdec5c96a9196",
       "version_major": 2,
       "version_minor": 0
      },
      "text/plain": [
       "0it [00:00, ?it/s]"
      ]
     },
     "metadata": {},
     "output_type": "display_data"
    },
    {
     "name": "stdout",
     "output_type": "stream",
     "text": [
      "Searching for coherent refinements of <SAS of degree 5 and ranks [1, 2, 2, 2, 2, 1]>\n",
      "Summary: (5, 10, [1, 2, 2, 2, 2, 1], False, True, 'S4')\n"
     ]
    },
    {
     "data": {
      "application/vnd.jupyter.widget-view+json": {
       "model_id": "6353268759854cc0b1d1162879ec1bb0",
       "version_major": 2,
       "version_minor": 0
      },
      "text/plain": [
       "0it [00:00, ?it/s]"
      ]
     },
     "metadata": {},
     "output_type": "display_data"
    },
    {
     "name": "stdout",
     "output_type": "stream",
     "text": [
      "Enumerating monochromatic designs on level 2\n"
     ]
    },
    {
     "data": {
      "application/vnd.jupyter.widget-view+json": {
       "model_id": "cec9ed6bd0e6421182f1a9af2e940593",
       "version_major": 2,
       "version_minor": 0
      },
      "text/plain": [
       "0it [00:00, ?it/s]"
      ]
     },
     "metadata": {},
     "output_type": "display_data"
    },
    {
     "name": "stdout",
     "output_type": "stream",
     "text": [
      "Testing 1 designs with WL... (triangles only)\n"
     ]
    },
    {
     "data": {
      "application/vnd.jupyter.widget-view+json": {
       "model_id": "9a4c3a326bab4024981eb8be81113f9d",
       "version_major": 2,
       "version_minor": 0
      },
      "text/plain": [
       "  0%|          | 0/1 [00:00<?, ?it/s]"
      ]
     },
     "metadata": {},
     "output_type": "display_data"
    },
    {
     "name": "stdout",
     "output_type": "stream",
     "text": [
      "Found: <SAS of degree 5 and ranks [1, 2, 3, 3, 2, 1]>\n",
      "Summary: (5, 12, [1, 2, 3, 3, 2, 1], False, True, 'D4')\n",
      "Searching for coherent refinements of <SAS of degree 5 and ranks [1, 2, 3, 3, 2, 1]>\n",
      "Summary: (5, 12, [1, 2, 3, 3, 2, 1], False, True, 'D4')\n"
     ]
    },
    {
     "data": {
      "application/vnd.jupyter.widget-view+json": {
       "model_id": "6cdd8f741a444d22a98a276440585fa4",
       "version_major": 2,
       "version_minor": 0
      },
      "text/plain": [
       "0it [00:00, ?it/s]"
      ]
     },
     "metadata": {},
     "output_type": "display_data"
    },
    {
     "name": "stdout",
     "output_type": "stream",
     "text": [
      "Enumerating monochromatic designs on level 2\n"
     ]
    },
    {
     "data": {
      "application/vnd.jupyter.widget-view+json": {
       "model_id": "34b2f7659ec24b47b361be0245fabe88",
       "version_major": 2,
       "version_minor": 0
      },
      "text/plain": [
       "0it [00:00, ?it/s]"
      ]
     },
     "metadata": {},
     "output_type": "display_data"
    },
    {
     "name": "stdout",
     "output_type": "stream",
     "text": [
      "Testing 1 designs with WL... (triangles only)\n"
     ]
    },
    {
     "data": {
      "application/vnd.jupyter.widget-view+json": {
       "model_id": "8c71c514a010484caafef1162c7dca90",
       "version_major": 2,
       "version_minor": 0
      },
      "text/plain": [
       "  0%|          | 0/1 [00:00<?, ?it/s]"
      ]
     },
     "metadata": {},
     "output_type": "display_data"
    },
    {
     "name": "stdout",
     "output_type": "stream",
     "text": [
      "Found: <SAS of degree 5 and ranks [1, 2, 4, 4, 2, 1]>\n",
      "Summary: (5, 14, [1, 2, 4, 4, 2, 1], False, True, 'C2 x C2')\n",
      "Searching for coherent refinements of <SAS of degree 5 and ranks [1, 2, 4, 4, 2, 1]>\n",
      "Summary: (5, 14, [1, 2, 4, 4, 2, 1], False, True, 'C2 x C2')\n"
     ]
    },
    {
     "data": {
      "application/vnd.jupyter.widget-view+json": {
       "model_id": "12edbe179e444bfc8a3b0f6cf7fa7480",
       "version_major": 2,
       "version_minor": 0
      },
      "text/plain": [
       "0it [00:00, ?it/s]"
      ]
     },
     "metadata": {},
     "output_type": "display_data"
    },
    {
     "name": "stdout",
     "output_type": "stream",
     "text": [
      "Enumerating monochromatic designs on level 2\n"
     ]
    },
    {
     "data": {
      "application/vnd.jupyter.widget-view+json": {
       "model_id": "7d5cc26503404cee8af1a8a0a341c283",
       "version_major": 2,
       "version_minor": 0
      },
      "text/plain": [
       "0it [00:00, ?it/s]"
      ]
     },
     "metadata": {},
     "output_type": "display_data"
    },
    {
     "name": "stdout",
     "output_type": "stream",
     "text": [
      "Testing 0 designs with WL... (triangles only)\n"
     ]
    },
    {
     "data": {
      "application/vnd.jupyter.widget-view+json": {
       "model_id": "493bff92a1894cffb38d814ce45fee1b",
       "version_major": 2,
       "version_minor": 0
      },
      "text/plain": [
       "0it [00:00, ?it/s]"
      ]
     },
     "metadata": {},
     "output_type": "display_data"
    },
    {
     "name": "stdout",
     "output_type": "stream",
     "text": [
      "Searching for coherent refinements of <SAS of degree 5 and ranks [1, 2, 3, 3, 2, 1]>\n",
      "Summary: (5, 12, [1, 2, 3, 3, 2, 1], False, True, 'D6')\n"
     ]
    },
    {
     "data": {
      "application/vnd.jupyter.widget-view+json": {
       "model_id": "1d747196e55843588f50567f06fb92d3",
       "version_major": 2,
       "version_minor": 0
      },
      "text/plain": [
       "0it [00:00, ?it/s]"
      ]
     },
     "metadata": {},
     "output_type": "display_data"
    },
    {
     "name": "stdout",
     "output_type": "stream",
     "text": [
      "Enumerating monochromatic designs on level 2\n"
     ]
    },
    {
     "data": {
      "application/vnd.jupyter.widget-view+json": {
       "model_id": "89950437d16c4b398327469dc678d829",
       "version_major": 2,
       "version_minor": 0
      },
      "text/plain": [
       "0it [00:00, ?it/s]"
      ]
     },
     "metadata": {},
     "output_type": "display_data"
    },
    {
     "name": "stdout",
     "output_type": "stream",
     "text": [
      "Testing 0 designs with WL... (triangles only)\n"
     ]
    },
    {
     "data": {
      "application/vnd.jupyter.widget-view+json": {
       "model_id": "12a1b6d91d9740459cf4b85eb46ecf7d",
       "version_major": 2,
       "version_minor": 0
      },
      "text/plain": [
       "0it [00:00, ?it/s]"
      ]
     },
     "metadata": {},
     "output_type": "display_data"
    },
    {
     "name": "stdout",
     "output_type": "stream",
     "text": [
      "Searching for coherent refinements of <SAS of degree 5 and ranks [1, 3, 4, 4, 3, 1]>\n",
      "Summary: (5, 16, [1, 3, 4, 4, 3, 1], False, True, 'S3')\n"
     ]
    },
    {
     "data": {
      "application/vnd.jupyter.widget-view+json": {
       "model_id": "1ce3ec779cbb43a7bbc68718eb95a503",
       "version_major": 2,
       "version_minor": 0
      },
      "text/plain": [
       "0it [00:00, ?it/s]"
      ]
     },
     "metadata": {},
     "output_type": "display_data"
    },
    {
     "name": "stdout",
     "output_type": "stream",
     "text": [
      "Enumerating monochromatic designs on level 2\n"
     ]
    },
    {
     "data": {
      "application/vnd.jupyter.widget-view+json": {
       "model_id": "b6f13f64c2da42fb821c3791d8dac3f4",
       "version_major": 2,
       "version_minor": 0
      },
      "text/plain": [
       "0it [00:00, ?it/s]"
      ]
     },
     "metadata": {},
     "output_type": "display_data"
    },
    {
     "name": "stdout",
     "output_type": "stream",
     "text": [
      "Testing 0 designs with WL... (triangles only)\n"
     ]
    },
    {
     "data": {
      "application/vnd.jupyter.widget-view+json": {
       "model_id": "339f08c3349045f58f91c12675163dde",
       "version_major": 2,
       "version_minor": 0
      },
      "text/plain": [
       "0it [00:00, ?it/s]"
      ]
     },
     "metadata": {},
     "output_type": "display_data"
    },
    {
     "name": "stdout",
     "output_type": "stream",
     "text": [
      "Searching for coherent refinements of <SAS of degree 5 and ranks [1, 3, 5, 5, 3, 1]>\n",
      "Summary: (5, 18, [1, 3, 5, 5, 3, 1], False, True, 'C2 x C2')\n"
     ]
    },
    {
     "data": {
      "application/vnd.jupyter.widget-view+json": {
       "model_id": "f8fd964eca0643e49fe22348549be649",
       "version_major": 2,
       "version_minor": 0
      },
      "text/plain": [
       "0it [00:00, ?it/s]"
      ]
     },
     "metadata": {},
     "output_type": "display_data"
    },
    {
     "name": "stdout",
     "output_type": "stream",
     "text": [
      "Enumerating monochromatic designs on level 2\n"
     ]
    },
    {
     "data": {
      "application/vnd.jupyter.widget-view+json": {
       "model_id": "2ee2de2a10db4e758f847c559bcb6a0f",
       "version_major": 2,
       "version_minor": 0
      },
      "text/plain": [
       "0it [00:00, ?it/s]"
      ]
     },
     "metadata": {},
     "output_type": "display_data"
    },
    {
     "name": "stdout",
     "output_type": "stream",
     "text": [
      "Testing 1 designs with WL... (triangles only)\n"
     ]
    },
    {
     "data": {
      "application/vnd.jupyter.widget-view+json": {
       "model_id": "3d04bd855d794d0dacdfef9ce86803de",
       "version_major": 2,
       "version_minor": 0
      },
      "text/plain": [
       "  0%|          | 0/1 [00:00<?, ?it/s]"
      ]
     },
     "metadata": {},
     "output_type": "display_data"
    },
    {
     "name": "stdout",
     "output_type": "stream",
     "text": [
      "Found: <SAS of degree 5 and ranks [1, 3, 6, 6, 3, 1]>\n",
      "Summary: (5, 20, [1, 3, 6, 6, 3, 1], False, True, 'C2')\n",
      "Searching for coherent refinements of <SAS of degree 5 and ranks [1, 3, 6, 6, 3, 1]>\n",
      "Summary: (5, 20, [1, 3, 6, 6, 3, 1], False, True, 'C2')\n"
     ]
    },
    {
     "data": {
      "application/vnd.jupyter.widget-view+json": {
       "model_id": "d38198b7c9624880b395d3eab91aad4b",
       "version_major": 2,
       "version_minor": 0
      },
      "text/plain": [
       "0it [00:00, ?it/s]"
      ]
     },
     "metadata": {},
     "output_type": "display_data"
    },
    {
     "name": "stdout",
     "output_type": "stream",
     "text": [
      "Enumerating monochromatic designs on level 2\n"
     ]
    },
    {
     "data": {
      "application/vnd.jupyter.widget-view+json": {
       "model_id": "0d92fd9c4a7b426e998a4748d945100c",
       "version_major": 2,
       "version_minor": 0
      },
      "text/plain": [
       "0it [00:00, ?it/s]"
      ]
     },
     "metadata": {},
     "output_type": "display_data"
    },
    {
     "name": "stdout",
     "output_type": "stream",
     "text": [
      "Testing 0 designs with WL... (triangles only)\n"
     ]
    },
    {
     "data": {
      "application/vnd.jupyter.widget-view+json": {
       "model_id": "ffbb37e1108d4749a8836cd3c2ae2439",
       "version_major": 2,
       "version_minor": 0
      },
      "text/plain": [
       "0it [00:00, ?it/s]"
      ]
     },
     "metadata": {},
     "output_type": "display_data"
    },
    {
     "name": "stdout",
     "output_type": "stream",
     "text": [
      "Searching for coherent refinements of <SAS of degree 5 and ranks [1, 4, 7, 7, 4, 1]>\n",
      "Summary: (5, 24, [1, 4, 7, 7, 4, 1], False, True, 'C2')\n"
     ]
    },
    {
     "data": {
      "application/vnd.jupyter.widget-view+json": {
       "model_id": "7f759fa61f7944a7bc8628cab59f4569",
       "version_major": 2,
       "version_minor": 0
      },
      "text/plain": [
       "0it [00:00, ?it/s]"
      ]
     },
     "metadata": {},
     "output_type": "display_data"
    },
    {
     "name": "stdout",
     "output_type": "stream",
     "text": [
      "Enumerating monochromatic designs on level 2\n"
     ]
    },
    {
     "data": {
      "application/vnd.jupyter.widget-view+json": {
       "model_id": "68a3f09c884d42af8dd95065ed3a8dad",
       "version_major": 2,
       "version_minor": 0
      },
      "text/plain": [
       "0it [00:00, ?it/s]"
      ]
     },
     "metadata": {},
     "output_type": "display_data"
    },
    {
     "name": "stdout",
     "output_type": "stream",
     "text": [
      "Testing 0 designs with WL... (triangles only)\n"
     ]
    },
    {
     "data": {
      "application/vnd.jupyter.widget-view+json": {
       "model_id": "a1e7d0cf2b0b46b086810b88c6c973c2",
       "version_major": 2,
       "version_minor": 0
      },
      "text/plain": [
       "0it [00:00, ?it/s]"
      ]
     },
     "metadata": {},
     "output_type": "display_data"
    },
    {
     "name": "stdout",
     "output_type": "stream",
     "text": [
      "Searching for coherent refinements of <SAS of degree 5 and ranks [1, 5, 10, 10, 5, 1]>\n",
      "Summary: (5, 32, [1, 5, 10, 10, 5, 1], False, True, '1')\n"
     ]
    },
    {
     "data": {
      "application/vnd.jupyter.widget-view+json": {
       "model_id": "135170510d764441b17834960a2fab84",
       "version_major": 2,
       "version_minor": 0
      },
      "text/plain": [
       "0it [00:00, ?it/s]"
      ]
     },
     "metadata": {},
     "output_type": "display_data"
    },
    {
     "name": "stdout",
     "output_type": "stream",
     "text": [
      "Enumerating monochromatic designs on level 2\n"
     ]
    },
    {
     "data": {
      "application/vnd.jupyter.widget-view+json": {
       "model_id": "5de75f55ae004edd96aff93408c91786",
       "version_major": 2,
       "version_minor": 0
      },
      "text/plain": [
       "0it [00:00, ?it/s]"
      ]
     },
     "metadata": {},
     "output_type": "display_data"
    },
    {
     "name": "stdout",
     "output_type": "stream",
     "text": [
      "Testing 0 designs with WL... (triangles only)\n"
     ]
    },
    {
     "data": {
      "application/vnd.jupyter.widget-view+json": {
       "model_id": "6b91937b469f43c3b27a72f4ff7e6152",
       "version_major": 2,
       "version_minor": 0
      },
      "text/plain": [
       "0it [00:00, ?it/s]"
      ]
     },
     "metadata": {},
     "output_type": "display_data"
    }
   ],
   "source": [
    "all_sas = []\n",
    "for n in [1..5]:\n",
    "    all_sas.extend(SAS.find_all(n, verbosity=2))"
   ]
  },
  {
   "cell_type": "code",
   "execution_count": 4,
   "metadata": {},
   "outputs": [
    {
     "data": {
      "text/html": [
       "<div class=\"notruncate\">\n",
       "<table  class=\"table_form\">\n",
       "<tbody>\n",
       "<tr>\n",
       "<th>n</th>\n",
       "<th>total rank</th>\n",
       "<th>ranks</th>\n",
       "<th>homogeneous?</th>\n",
       "<th>schurian?</th>\n",
       "<th><script type=\"math/tex\">\\mathrm{Aut}(\\mathfrak{S})</script></th>\n",
       "</tr>\n",
       "<tr class =\"row-a\">\n",
       "<td><script type=\"math/tex\">1</script></td>\n",
       "<td><script type=\"math/tex\">2</script></td>\n",
       "<td><script type=\"math/tex\">\\left[1, 1\\right]</script></td>\n",
       "<td><script type=\"math/tex\">\\mathrm{True}</script></td>\n",
       "<td><script type=\"math/tex\">\\mathrm{True}</script></td>\n",
       "<td>1</td>\n",
       "</tr>\n",
       "<tr class =\"row-b\">\n",
       "<td><script type=\"math/tex\">2</script></td>\n",
       "<td><script type=\"math/tex\">3</script></td>\n",
       "<td><script type=\"math/tex\">\\left[1, 1, 1\\right]</script></td>\n",
       "<td><script type=\"math/tex\">\\mathrm{True}</script></td>\n",
       "<td><script type=\"math/tex\">\\mathrm{True}</script></td>\n",
       "<td>C2</td>\n",
       "</tr>\n",
       "<tr class =\"row-a\">\n",
       "<td><script type=\"math/tex\">2</script></td>\n",
       "<td><script type=\"math/tex\">4</script></td>\n",
       "<td><script type=\"math/tex\">\\left[1, 2, 1\\right]</script></td>\n",
       "<td><script type=\"math/tex\">\\mathrm{False}</script></td>\n",
       "<td><script type=\"math/tex\">\\mathrm{True}</script></td>\n",
       "<td>1</td>\n",
       "</tr>\n",
       "<tr class =\"row-b\">\n",
       "<td><script type=\"math/tex\">3</script></td>\n",
       "<td><script type=\"math/tex\">4</script></td>\n",
       "<td><script type=\"math/tex\">\\left[1, 1, 1, 1\\right]</script></td>\n",
       "<td><script type=\"math/tex\">\\mathrm{True}</script></td>\n",
       "<td><script type=\"math/tex\">\\mathrm{True}</script></td>\n",
       "<td>S3</td>\n",
       "</tr>\n",
       "<tr class =\"row-a\">\n",
       "<td><script type=\"math/tex\">3</script></td>\n",
       "<td><script type=\"math/tex\">6</script></td>\n",
       "<td><script type=\"math/tex\">\\left[1, 2, 2, 1\\right]</script></td>\n",
       "<td><script type=\"math/tex\">\\mathrm{False}</script></td>\n",
       "<td><script type=\"math/tex\">\\mathrm{True}</script></td>\n",
       "<td>C2</td>\n",
       "</tr>\n",
       "<tr class =\"row-b\">\n",
       "<td><script type=\"math/tex\">3</script></td>\n",
       "<td><script type=\"math/tex\">8</script></td>\n",
       "<td><script type=\"math/tex\">\\left[1, 3, 3, 1\\right]</script></td>\n",
       "<td><script type=\"math/tex\">\\mathrm{False}</script></td>\n",
       "<td><script type=\"math/tex\">\\mathrm{True}</script></td>\n",
       "<td>1</td>\n",
       "</tr>\n",
       "<tr class =\"row-a\">\n",
       "<td><script type=\"math/tex\">4</script></td>\n",
       "<td><script type=\"math/tex\">5</script></td>\n",
       "<td><script type=\"math/tex\">\\left[1, 1, 1, 1, 1\\right]</script></td>\n",
       "<td><script type=\"math/tex\">\\mathrm{True}</script></td>\n",
       "<td><script type=\"math/tex\">\\mathrm{True}</script></td>\n",
       "<td>S4</td>\n",
       "</tr>\n",
       "<tr class =\"row-b\">\n",
       "<td><script type=\"math/tex\">4</script></td>\n",
       "<td><script type=\"math/tex\">6</script></td>\n",
       "<td><script type=\"math/tex\">\\left[1, 1, 2, 1, 1\\right]</script></td>\n",
       "<td><script type=\"math/tex\">\\mathrm{True}</script></td>\n",
       "<td><script type=\"math/tex\">\\mathrm{True}</script></td>\n",
       "<td>D4</td>\n",
       "</tr>\n",
       "<tr class =\"row-a\">\n",
       "<td><script type=\"math/tex\">4</script></td>\n",
       "<td><script type=\"math/tex\">7</script></td>\n",
       "<td><script type=\"math/tex\">\\left[1, 1, 3, 1, 1\\right]</script></td>\n",
       "<td><script type=\"math/tex\">\\mathrm{True}</script></td>\n",
       "<td><script type=\"math/tex\">\\mathrm{True}</script></td>\n",
       "<td>C2 x C2</td>\n",
       "</tr>\n",
       "<tr class =\"row-b\">\n",
       "<td><script type=\"math/tex\">4</script></td>\n",
       "<td><script type=\"math/tex\">8</script></td>\n",
       "<td><script type=\"math/tex\">\\left[1, 2, 2, 2, 1\\right]</script></td>\n",
       "<td><script type=\"math/tex\">\\mathrm{False}</script></td>\n",
       "<td><script type=\"math/tex\">\\mathrm{True}</script></td>\n",
       "<td>S3</td>\n",
       "</tr>\n",
       "<tr class =\"row-a\">\n",
       "<td><script type=\"math/tex\">4</script></td>\n",
       "<td><script type=\"math/tex\">9</script></td>\n",
       "<td><script type=\"math/tex\">\\left[1, 2, 3, 2, 1\\right]</script></td>\n",
       "<td><script type=\"math/tex\">\\mathrm{False}</script></td>\n",
       "<td><script type=\"math/tex\">\\mathrm{True}</script></td>\n",
       "<td>C2 x C2</td>\n",
       "</tr>\n",
       "<tr class =\"row-b\">\n",
       "<td><script type=\"math/tex\">4</script></td>\n",
       "<td><script type=\"math/tex\">10</script></td>\n",
       "<td><script type=\"math/tex\">\\left[1, 2, 4, 2, 1\\right]</script></td>\n",
       "<td><script type=\"math/tex\">\\mathrm{False}</script></td>\n",
       "<td><script type=\"math/tex\">\\mathrm{True}</script></td>\n",
       "<td>C2</td>\n",
       "</tr>\n",
       "<tr class =\"row-a\">\n",
       "<td><script type=\"math/tex\">4</script></td>\n",
       "<td><script type=\"math/tex\">12</script></td>\n",
       "<td><script type=\"math/tex\">\\left[1, 3, 4, 3, 1\\right]</script></td>\n",
       "<td><script type=\"math/tex\">\\mathrm{False}</script></td>\n",
       "<td><script type=\"math/tex\">\\mathrm{True}</script></td>\n",
       "<td>C2</td>\n",
       "</tr>\n",
       "<tr class =\"row-b\">\n",
       "<td><script type=\"math/tex\">4</script></td>\n",
       "<td><script type=\"math/tex\">16</script></td>\n",
       "<td><script type=\"math/tex\">\\left[1, 4, 6, 4, 1\\right]</script></td>\n",
       "<td><script type=\"math/tex\">\\mathrm{False}</script></td>\n",
       "<td><script type=\"math/tex\">\\mathrm{True}</script></td>\n",
       "<td>1</td>\n",
       "</tr>\n",
       "<tr class =\"row-a\">\n",
       "<td><script type=\"math/tex\">5</script></td>\n",
       "<td><script type=\"math/tex\">6</script></td>\n",
       "<td><script type=\"math/tex\">\\left[1, 1, 1, 1, 1, 1\\right]</script></td>\n",
       "<td><script type=\"math/tex\">\\mathrm{True}</script></td>\n",
       "<td><script type=\"math/tex\">\\mathrm{True}</script></td>\n",
       "<td>S5</td>\n",
       "</tr>\n",
       "<tr class =\"row-b\">\n",
       "<td><script type=\"math/tex\">5</script></td>\n",
       "<td><script type=\"math/tex\">8</script></td>\n",
       "<td><script type=\"math/tex\">\\left[1, 1, 2, 2, 1, 1\\right]</script></td>\n",
       "<td><script type=\"math/tex\">\\mathrm{True}</script></td>\n",
       "<td><script type=\"math/tex\">\\mathrm{True}</script></td>\n",
       "<td>D5</td>\n",
       "</tr>\n",
       "<tr class =\"row-a\">\n",
       "<td><script type=\"math/tex\">5</script></td>\n",
       "<td><script type=\"math/tex\">10</script></td>\n",
       "<td><script type=\"math/tex\">\\left[1, 2, 2, 2, 2, 1\\right]</script></td>\n",
       "<td><script type=\"math/tex\">\\mathrm{False}</script></td>\n",
       "<td><script type=\"math/tex\">\\mathrm{True}</script></td>\n",
       "<td>S4</td>\n",
       "</tr>\n",
       "<tr class =\"row-b\">\n",
       "<td><script type=\"math/tex\">5</script></td>\n",
       "<td><script type=\"math/tex\">12</script></td>\n",
       "<td><script type=\"math/tex\">\\left[1, 2, 3, 3, 2, 1\\right]</script></td>\n",
       "<td><script type=\"math/tex\">\\mathrm{False}</script></td>\n",
       "<td><script type=\"math/tex\">\\mathrm{True}</script></td>\n",
       "<td>D4</td>\n",
       "</tr>\n",
       "<tr class =\"row-a\">\n",
       "<td><script type=\"math/tex\">5</script></td>\n",
       "<td><script type=\"math/tex\">14</script></td>\n",
       "<td><script type=\"math/tex\">\\left[1, 2, 4, 4, 2, 1\\right]</script></td>\n",
       "<td><script type=\"math/tex\">\\mathrm{False}</script></td>\n",
       "<td><script type=\"math/tex\">\\mathrm{True}</script></td>\n",
       "<td>C2 x C2</td>\n",
       "</tr>\n",
       "<tr class =\"row-b\">\n",
       "<td><script type=\"math/tex\">5</script></td>\n",
       "<td><script type=\"math/tex\">12</script></td>\n",
       "<td><script type=\"math/tex\">\\left[1, 2, 3, 3, 2, 1\\right]</script></td>\n",
       "<td><script type=\"math/tex\">\\mathrm{False}</script></td>\n",
       "<td><script type=\"math/tex\">\\mathrm{True}</script></td>\n",
       "<td>D6</td>\n",
       "</tr>\n",
       "<tr class =\"row-a\">\n",
       "<td><script type=\"math/tex\">5</script></td>\n",
       "<td><script type=\"math/tex\">16</script></td>\n",
       "<td><script type=\"math/tex\">\\left[1, 3, 4, 4, 3, 1\\right]</script></td>\n",
       "<td><script type=\"math/tex\">\\mathrm{False}</script></td>\n",
       "<td><script type=\"math/tex\">\\mathrm{True}</script></td>\n",
       "<td>S3</td>\n",
       "</tr>\n",
       "<tr class =\"row-b\">\n",
       "<td><script type=\"math/tex\">5</script></td>\n",
       "<td><script type=\"math/tex\">18</script></td>\n",
       "<td><script type=\"math/tex\">\\left[1, 3, 5, 5, 3, 1\\right]</script></td>\n",
       "<td><script type=\"math/tex\">\\mathrm{False}</script></td>\n",
       "<td><script type=\"math/tex\">\\mathrm{True}</script></td>\n",
       "<td>C2 x C2</td>\n",
       "</tr>\n",
       "<tr class =\"row-a\">\n",
       "<td><script type=\"math/tex\">5</script></td>\n",
       "<td><script type=\"math/tex\">20</script></td>\n",
       "<td><script type=\"math/tex\">\\left[1, 3, 6, 6, 3, 1\\right]</script></td>\n",
       "<td><script type=\"math/tex\">\\mathrm{False}</script></td>\n",
       "<td><script type=\"math/tex\">\\mathrm{True}</script></td>\n",
       "<td>C2</td>\n",
       "</tr>\n",
       "<tr class =\"row-b\">\n",
       "<td><script type=\"math/tex\">5</script></td>\n",
       "<td><script type=\"math/tex\">24</script></td>\n",
       "<td><script type=\"math/tex\">\\left[1, 4, 7, 7, 4, 1\\right]</script></td>\n",
       "<td><script type=\"math/tex\">\\mathrm{False}</script></td>\n",
       "<td><script type=\"math/tex\">\\mathrm{True}</script></td>\n",
       "<td>C2</td>\n",
       "</tr>\n",
       "<tr class =\"row-a\">\n",
       "<td><script type=\"math/tex\">5</script></td>\n",
       "<td><script type=\"math/tex\">32</script></td>\n",
       "<td><script type=\"math/tex\">\\left[1, 5, 10, 10, 5, 1\\right]</script></td>\n",
       "<td><script type=\"math/tex\">\\mathrm{False}</script></td>\n",
       "<td><script type=\"math/tex\">\\mathrm{True}</script></td>\n",
       "<td>1</td>\n",
       "</tr>\n",
       "</tbody>\n",
       "</table>\n",
       "</div>"
      ],
      "text/plain": [
       "  n   total rank   ranks                  homogeneous?   schurian?   $\\mathrm{Aut}(\\mathfrak{S})$\n",
       "+---+------------+----------------------+--------------+-----------+------------------------------+\n",
       "  1   2            [1, 1]                 True           True        1\n",
       "  2   3            [1, 1, 1]              True           True        C2\n",
       "  2   4            [1, 2, 1]              False          True        1\n",
       "  3   4            [1, 1, 1, 1]           True           True        S3\n",
       "  3   6            [1, 2, 2, 1]           False          True        C2\n",
       "  3   8            [1, 3, 3, 1]           False          True        1\n",
       "  4   5            [1, 1, 1, 1, 1]        True           True        S4\n",
       "  4   6            [1, 1, 2, 1, 1]        True           True        D4\n",
       "  4   7            [1, 1, 3, 1, 1]        True           True        C2 x C2\n",
       "  4   8            [1, 2, 2, 2, 1]        False          True        S3\n",
       "  4   9            [1, 2, 3, 2, 1]        False          True        C2 x C2\n",
       "  4   10           [1, 2, 4, 2, 1]        False          True        C2\n",
       "  4   12           [1, 3, 4, 3, 1]        False          True        C2\n",
       "  4   16           [1, 4, 6, 4, 1]        False          True        1\n",
       "  5   6            [1, 1, 1, 1, 1, 1]     True           True        S5\n",
       "  5   8            [1, 1, 2, 2, 1, 1]     True           True        D5\n",
       "  5   10           [1, 2, 2, 2, 2, 1]     False          True        S4\n",
       "  5   12           [1, 2, 3, 3, 2, 1]     False          True        D4\n",
       "  5   14           [1, 2, 4, 4, 2, 1]     False          True        C2 x C2\n",
       "  5   12           [1, 2, 3, 3, 2, 1]     False          True        D6\n",
       "  5   16           [1, 3, 4, 4, 3, 1]     False          True        S3\n",
       "  5   18           [1, 3, 5, 5, 3, 1]     False          True        C2 x C2\n",
       "  5   20           [1, 3, 6, 6, 3, 1]     False          True        C2\n",
       "  5   24           [1, 4, 7, 7, 4, 1]     False          True        C2\n",
       "  5   32           [1, 5, 10, 10, 5, 1]   False          True        1"
      ]
     },
     "execution_count": 4,
     "metadata": {},
     "output_type": "execute_result"
    }
   ],
   "source": [
    "table([s.summary() for s in all_sas],\n",
    "      header_row=('n', 'total rank', 'ranks', 'homogeneous?', 'schurian?', r'$\\mathrm{Aut}(\\mathfrak{S})$'))"
   ]
  },
  {
   "cell_type": "markdown",
   "metadata": {},
   "source": [
    "## $n = 6$"
   ]
  },
  {
   "cell_type": "code",
   "execution_count": 5,
   "metadata": {},
   "outputs": [],
   "source": [
    "n = 6"
   ]
  },
  {
   "cell_type": "code",
   "execution_count": 6,
   "metadata": {
    "scrolled": true
   },
   "outputs": [
    {
     "name": "stdout",
     "output_type": "stream",
     "text": [
      "Searching for coherent refinements of <SAS of degree 6 and ranks [1, 1, 1, 1, 1, 1, 1]>\n",
      "Summary: (6, 7, [1, 1, 1, 1, 1, 1, 1], True, True, 'S6')\n"
     ]
    },
    {
     "data": {
      "application/vnd.jupyter.widget-view+json": {
       "model_id": "03cc88ccb3a94474bf0647fb9e1129ea",
       "version_major": 2,
       "version_minor": 0
      },
      "text/plain": [
       "0it [00:00, ?it/s]"
      ]
     },
     "metadata": {},
     "output_type": "display_data"
    },
    {
     "name": "stdout",
     "output_type": "stream",
     "text": [
      "Enumerating monochromatic designs on level 2\n"
     ]
    },
    {
     "data": {
      "application/vnd.jupyter.widget-view+json": {
       "model_id": "2b093a6fcffe4e34aa70ad9920785657",
       "version_major": 2,
       "version_minor": 0
      },
      "text/plain": [
       "0it [00:00, ?it/s]"
      ]
     },
     "metadata": {},
     "output_type": "display_data"
    },
    {
     "name": "stdout",
     "output_type": "stream",
     "text": [
      "Enumerating monochromatic designs on level 3\n"
     ]
    },
    {
     "data": {
      "application/vnd.jupyter.widget-view+json": {
       "model_id": "57feaf468f3a4499b7b1be07ba293466",
       "version_major": 2,
       "version_minor": 0
      },
      "text/plain": [
       "0it [00:00, ?it/s]"
      ]
     },
     "metadata": {},
     "output_type": "display_data"
    },
    {
     "name": "stdout",
     "output_type": "stream",
     "text": [
      "Testing 4 designs with WL... (triangles only)\n"
     ]
    },
    {
     "data": {
      "application/vnd.jupyter.widget-view+json": {
       "model_id": "41b30c1bc22a4891833239fac0029ef8",
       "version_major": 2,
       "version_minor": 0
      },
      "text/plain": [
       "  0%|          | 0/4 [00:00<?, ?it/s]"
      ]
     },
     "metadata": {},
     "output_type": "display_data"
    },
    {
     "name": "stdout",
     "output_type": "stream",
     "text": [
      "Found: <SAS of degree 6 and ranks [1, 1, 2, 2, 2, 1, 1]>\n",
      "Summary: (6, 10, [1, 1, 2, 2, 2, 1, 1], True, True, 'C2 x S4')\n",
      "Found: <SAS of degree 6 and ranks [1, 1, 1, 2, 1, 1, 1]>\n",
      "Summary: (6, 8, [1, 1, 1, 2, 1, 1, 1], True, True, 'A5')\n",
      "Found: <SAS of degree 6 and ranks [1, 1, 2, 2, 2, 1, 1]>\n",
      "Summary: (6, 10, [1, 1, 2, 2, 2, 1, 1], True, True, '(S3 x S3) : C2')\n",
      "Found: <SAS of degree 6 and ranks [1, 1, 3, 3, 3, 1, 1]>\n",
      "Summary: (6, 13, [1, 1, 3, 3, 3, 1, 1], True, True, 'D6')\n",
      "Searching for coherent refinements of <SAS of degree 6 and ranks [1, 1, 2, 2, 2, 1, 1]>\n",
      "Summary: (6, 10, [1, 1, 2, 2, 2, 1, 1], True, True, 'C2 x S4')\n"
     ]
    },
    {
     "data": {
      "application/vnd.jupyter.widget-view+json": {
       "model_id": "f037d98e8b3e417cb358cc181bc38a2d",
       "version_major": 2,
       "version_minor": 0
      },
      "text/plain": [
       "0it [00:00, ?it/s]"
      ]
     },
     "metadata": {},
     "output_type": "display_data"
    },
    {
     "name": "stdout",
     "output_type": "stream",
     "text": [
      "Enumerating monochromatic designs on level 2\n"
     ]
    },
    {
     "data": {
      "application/vnd.jupyter.widget-view+json": {
       "model_id": "eee02b88cb8343a8b5e40d6be8edfa19",
       "version_major": 2,
       "version_minor": 0
      },
      "text/plain": [
       "0it [00:00, ?it/s]"
      ]
     },
     "metadata": {},
     "output_type": "display_data"
    },
    {
     "name": "stdout",
     "output_type": "stream",
     "text": [
      "Enumerating monochromatic designs on level 3\n"
     ]
    },
    {
     "data": {
      "application/vnd.jupyter.widget-view+json": {
       "model_id": "33476da0d16c4f26ae766af63e386080",
       "version_major": 2,
       "version_minor": 0
      },
      "text/plain": [
       "0it [00:00, ?it/s]"
      ]
     },
     "metadata": {},
     "output_type": "display_data"
    },
    {
     "name": "stdout",
     "output_type": "stream",
     "text": [
      "Testing 6 designs with WL... (triangles only)\n"
     ]
    },
    {
     "data": {
      "application/vnd.jupyter.widget-view+json": {
       "model_id": "efee68878d234bf4828d7a336ec8f1d4",
       "version_major": 2,
       "version_minor": 0
      },
      "text/plain": [
       "  0%|          | 0/6 [00:00<?, ?it/s]"
      ]
     },
     "metadata": {},
     "output_type": "display_data"
    },
    {
     "name": "stdout",
     "output_type": "stream",
     "text": [
      "Found: <SAS of degree 6 and ranks [1, 1, 4, 4, 4, 1, 1]>\n",
      "Summary: (6, 16, [1, 1, 4, 4, 4, 1, 1], True, True, 'S3')\n",
      "Found: <SAS of degree 6 and ranks [1, 1, 2, 3, 2, 1, 1]>\n",
      "Summary: (6, 11, [1, 1, 2, 3, 2, 1, 1], True, True, 'C2 x A4')\n",
      "Found: <SAS of degree 6 and ranks [1, 1, 2, 3, 2, 1, 1]>\n",
      "Summary: (6, 11, [1, 1, 2, 3, 2, 1, 1], True, True, 'S4')\n",
      "Searching for coherent refinements of <SAS of degree 6 and ranks [1, 1, 1, 2, 1, 1, 1]>\n",
      "Summary: (6, 8, [1, 1, 1, 2, 1, 1, 1], True, True, 'A5')\n"
     ]
    },
    {
     "data": {
      "application/vnd.jupyter.widget-view+json": {
       "model_id": "41a127f8a0c34fe08f38296c4e6806ac",
       "version_major": 2,
       "version_minor": 0
      },
      "text/plain": [
       "0it [00:00, ?it/s]"
      ]
     },
     "metadata": {},
     "output_type": "display_data"
    },
    {
     "name": "stdout",
     "output_type": "stream",
     "text": [
      "Enumerating monochromatic designs on level 3\n"
     ]
    },
    {
     "data": {
      "application/vnd.jupyter.widget-view+json": {
       "model_id": "6e59641b0abe443f9636245197d8dabe",
       "version_major": 2,
       "version_minor": 0
      },
      "text/plain": [
       "0it [00:00, ?it/s]"
      ]
     },
     "metadata": {},
     "output_type": "display_data"
    },
    {
     "name": "stdout",
     "output_type": "stream",
     "text": [
      "Testing 0 designs with WL... (triangles only)\n"
     ]
    },
    {
     "data": {
      "application/vnd.jupyter.widget-view+json": {
       "model_id": "d867ef50f9af4416bdb29459101a0e9f",
       "version_major": 2,
       "version_minor": 0
      },
      "text/plain": [
       "0it [00:00, ?it/s]"
      ]
     },
     "metadata": {},
     "output_type": "display_data"
    },
    {
     "name": "stdout",
     "output_type": "stream",
     "text": [
      "Searching for coherent refinements of <SAS of degree 6 and ranks [1, 1, 2, 2, 2, 1, 1]>\n",
      "Summary: (6, 10, [1, 1, 2, 2, 2, 1, 1], True, True, '(S3 x S3) : C2')\n"
     ]
    },
    {
     "data": {
      "application/vnd.jupyter.widget-view+json": {
       "model_id": "316c7b28099d4dc1a10f3c3cc0c78719",
       "version_major": 2,
       "version_minor": 0
      },
      "text/plain": [
       "0it [00:00, ?it/s]"
      ]
     },
     "metadata": {},
     "output_type": "display_data"
    },
    {
     "name": "stdout",
     "output_type": "stream",
     "text": [
      "Enumerating monochromatic designs on level 2\n"
     ]
    },
    {
     "data": {
      "application/vnd.jupyter.widget-view+json": {
       "model_id": "6d9d33fe3c1e452dbd0f74c1d5bfdbde",
       "version_major": 2,
       "version_minor": 0
      },
      "text/plain": [
       "0it [00:00, ?it/s]"
      ]
     },
     "metadata": {},
     "output_type": "display_data"
    },
    {
     "name": "stdout",
     "output_type": "stream",
     "text": [
      "Enumerating monochromatic designs on level 3\n"
     ]
    },
    {
     "data": {
      "application/vnd.jupyter.widget-view+json": {
       "model_id": "acd8b8e7c55944a3b3e3ff5215634b3d",
       "version_major": 2,
       "version_minor": 0
      },
      "text/plain": [
       "0it [00:00, ?it/s]"
      ]
     },
     "metadata": {},
     "output_type": "display_data"
    },
    {
     "name": "stdout",
     "output_type": "stream",
     "text": [
      "Testing 1 designs with WL... (triangles only)\n"
     ]
    },
    {
     "data": {
      "application/vnd.jupyter.widget-view+json": {
       "model_id": "4e915d451228428eb7a1ef6530146d37",
       "version_major": 2,
       "version_minor": 0
      },
      "text/plain": [
       "  0%|          | 0/1 [00:00<?, ?it/s]"
      ]
     },
     "metadata": {},
     "output_type": "display_data"
    },
    {
     "name": "stdout",
     "output_type": "stream",
     "text": [
      "Searching for coherent refinements of <SAS of degree 6 and ranks [1, 1, 3, 3, 3, 1, 1]>\n",
      "Summary: (6, 13, [1, 1, 3, 3, 3, 1, 1], True, True, 'D6')\n"
     ]
    },
    {
     "data": {
      "application/vnd.jupyter.widget-view+json": {
       "model_id": "e647889407d24bacb2ad0f1d2485fa55",
       "version_major": 2,
       "version_minor": 0
      },
      "text/plain": [
       "0it [00:00, ?it/s]"
      ]
     },
     "metadata": {},
     "output_type": "display_data"
    },
    {
     "name": "stdout",
     "output_type": "stream",
     "text": [
      "Enumerating monochromatic designs on level 2\n"
     ]
    },
    {
     "data": {
      "application/vnd.jupyter.widget-view+json": {
       "model_id": "22c872c7aac4436db153775218de6a4e",
       "version_major": 2,
       "version_minor": 0
      },
      "text/plain": [
       "0it [00:00, ?it/s]"
      ]
     },
     "metadata": {},
     "output_type": "display_data"
    },
    {
     "name": "stdout",
     "output_type": "stream",
     "text": [
      "Enumerating monochromatic designs on level 3\n"
     ]
    },
    {
     "data": {
      "application/vnd.jupyter.widget-view+json": {
       "model_id": "f54bf3ec1a294984b09e94e5e3401bcb",
       "version_major": 2,
       "version_minor": 0
      },
      "text/plain": [
       "0it [00:00, ?it/s]"
      ]
     },
     "metadata": {},
     "output_type": "display_data"
    },
    {
     "name": "stdout",
     "output_type": "stream",
     "text": [
      "Testing 2 designs with WL... (triangles only)\n"
     ]
    },
    {
     "data": {
      "application/vnd.jupyter.widget-view+json": {
       "model_id": "27fa3ef7d7154a619f291d0c3c9d82a4",
       "version_major": 2,
       "version_minor": 0
      },
      "text/plain": [
       "  0%|          | 0/2 [00:00<?, ?it/s]"
      ]
     },
     "metadata": {},
     "output_type": "display_data"
    },
    {
     "name": "stdout",
     "output_type": "stream",
     "text": [
      "Found: <SAS of degree 6 and ranks [1, 1, 3, 4, 3, 1, 1]>\n",
      "Summary: (6, 14, [1, 1, 3, 4, 3, 1, 1], True, True, 'C6')\n",
      "Searching for coherent refinements of <SAS of degree 6 and ranks [1, 1, 4, 4, 4, 1, 1]>\n",
      "Summary: (6, 16, [1, 1, 4, 4, 4, 1, 1], True, True, 'S3')\n"
     ]
    },
    {
     "data": {
      "application/vnd.jupyter.widget-view+json": {
       "model_id": "379aa45239854c97a2912cf404a0bd77",
       "version_major": 2,
       "version_minor": 0
      },
      "text/plain": [
       "0it [00:00, ?it/s]"
      ]
     },
     "metadata": {},
     "output_type": "display_data"
    },
    {
     "name": "stdout",
     "output_type": "stream",
     "text": [
      "Enumerating monochromatic designs on level 2\n"
     ]
    },
    {
     "data": {
      "application/vnd.jupyter.widget-view+json": {
       "model_id": "2fb1c592af754d5aa57702f8448ac9b2",
       "version_major": 2,
       "version_minor": 0
      },
      "text/plain": [
       "0it [00:00, ?it/s]"
      ]
     },
     "metadata": {},
     "output_type": "display_data"
    },
    {
     "name": "stdout",
     "output_type": "stream",
     "text": [
      "Enumerating monochromatic designs on level 3\n"
     ]
    },
    {
     "data": {
      "application/vnd.jupyter.widget-view+json": {
       "model_id": "6b107a0e4968430a989943783d0366f5",
       "version_major": 2,
       "version_minor": 0
      },
      "text/plain": [
       "0it [00:00, ?it/s]"
      ]
     },
     "metadata": {},
     "output_type": "display_data"
    },
    {
     "name": "stdout",
     "output_type": "stream",
     "text": [
      "Testing 0 designs with WL... (triangles only)\n"
     ]
    },
    {
     "data": {
      "application/vnd.jupyter.widget-view+json": {
       "model_id": "3577a7de382041b182925bb0fef7303a",
       "version_major": 2,
       "version_minor": 0
      },
      "text/plain": [
       "0it [00:00, ?it/s]"
      ]
     },
     "metadata": {},
     "output_type": "display_data"
    },
    {
     "name": "stdout",
     "output_type": "stream",
     "text": [
      "Searching for coherent refinements of <SAS of degree 6 and ranks [1, 1, 2, 3, 2, 1, 1]>\n",
      "Summary: (6, 11, [1, 1, 2, 3, 2, 1, 1], True, True, 'C2 x A4')\n"
     ]
    },
    {
     "data": {
      "application/vnd.jupyter.widget-view+json": {
       "model_id": "f7dbf3615f0640e9be2dea8477c6f052",
       "version_major": 2,
       "version_minor": 0
      },
      "text/plain": [
       "0it [00:00, ?it/s]"
      ]
     },
     "metadata": {},
     "output_type": "display_data"
    },
    {
     "name": "stdout",
     "output_type": "stream",
     "text": [
      "Enumerating monochromatic designs on level 3\n"
     ]
    },
    {
     "data": {
      "application/vnd.jupyter.widget-view+json": {
       "model_id": "e7098666ef044a70923acdfd5c3847d6",
       "version_major": 2,
       "version_minor": 0
      },
      "text/plain": [
       "0it [00:00, ?it/s]"
      ]
     },
     "metadata": {},
     "output_type": "display_data"
    },
    {
     "name": "stdout",
     "output_type": "stream",
     "text": [
      "Testing 1 designs with WL... (triangles only)\n"
     ]
    },
    {
     "data": {
      "application/vnd.jupyter.widget-view+json": {
       "model_id": "5f1b1fe71cd84df7a96d97c07e88b236",
       "version_major": 2,
       "version_minor": 0
      },
      "text/plain": [
       "  0%|          | 0/1 [00:00<?, ?it/s]"
      ]
     },
     "metadata": {},
     "output_type": "display_data"
    },
    {
     "name": "stdout",
     "output_type": "stream",
     "text": [
      "Found: <SAS of degree 6 and ranks [1, 1, 2, 4, 2, 1, 1]>\n",
      "Summary: (6, 12, [1, 1, 2, 4, 2, 1, 1], True, True, 'A4')\n",
      "Searching for coherent refinements of <SAS of degree 6 and ranks [1, 1, 2, 3, 2, 1, 1]>\n",
      "Summary: (6, 11, [1, 1, 2, 3, 2, 1, 1], True, True, 'S4')\n"
     ]
    },
    {
     "data": {
      "application/vnd.jupyter.widget-view+json": {
       "model_id": "359cebdb7d1645f2a1d9d27dc9a94916",
       "version_major": 2,
       "version_minor": 0
      },
      "text/plain": [
       "0it [00:00, ?it/s]"
      ]
     },
     "metadata": {},
     "output_type": "display_data"
    },
    {
     "name": "stdout",
     "output_type": "stream",
     "text": [
      "Enumerating monochromatic designs on level 3\n"
     ]
    },
    {
     "data": {
      "application/vnd.jupyter.widget-view+json": {
       "model_id": "b28cc6b19c79403482b943f5674dfb51",
       "version_major": 2,
       "version_minor": 0
      },
      "text/plain": [
       "0it [00:00, ?it/s]"
      ]
     },
     "metadata": {},
     "output_type": "display_data"
    },
    {
     "name": "stdout",
     "output_type": "stream",
     "text": [
      "Testing 1 designs with WL... (triangles only)\n"
     ]
    },
    {
     "data": {
      "application/vnd.jupyter.widget-view+json": {
       "model_id": "afbec80ca81d48ab960786585e1a6e65",
       "version_major": 2,
       "version_minor": 0
      },
      "text/plain": [
       "  0%|          | 0/1 [00:00<?, ?it/s]"
      ]
     },
     "metadata": {},
     "output_type": "display_data"
    },
    {
     "name": "stdout",
     "output_type": "stream",
     "text": [
      "Searching for coherent refinements of <SAS of degree 6 and ranks [1, 1, 3, 4, 3, 1, 1]>\n",
      "Summary: (6, 14, [1, 1, 3, 4, 3, 1, 1], True, True, 'C6')\n"
     ]
    },
    {
     "data": {
      "application/vnd.jupyter.widget-view+json": {
       "model_id": "f2d863db51074f3fb3ebac781e18dc71",
       "version_major": 2,
       "version_minor": 0
      },
      "text/plain": [
       "0it [00:00, ?it/s]"
      ]
     },
     "metadata": {},
     "output_type": "display_data"
    },
    {
     "name": "stdout",
     "output_type": "stream",
     "text": [
      "Enumerating monochromatic designs on level 3\n"
     ]
    },
    {
     "data": {
      "application/vnd.jupyter.widget-view+json": {
       "model_id": "f664e7c097c04ec2bb50c029cd74811c",
       "version_major": 2,
       "version_minor": 0
      },
      "text/plain": [
       "0it [00:00, ?it/s]"
      ]
     },
     "metadata": {},
     "output_type": "display_data"
    },
    {
     "name": "stdout",
     "output_type": "stream",
     "text": [
      "Testing 0 designs with WL... (triangles only)\n"
     ]
    },
    {
     "data": {
      "application/vnd.jupyter.widget-view+json": {
       "model_id": "1e6be64bcc3948be9c55678c88e6651a",
       "version_major": 2,
       "version_minor": 0
      },
      "text/plain": [
       "0it [00:00, ?it/s]"
      ]
     },
     "metadata": {},
     "output_type": "display_data"
    },
    {
     "name": "stdout",
     "output_type": "stream",
     "text": [
      "Searching for coherent refinements of <SAS of degree 6 and ranks [1, 1, 2, 4, 2, 1, 1]>\n",
      "Summary: (6, 12, [1, 1, 2, 4, 2, 1, 1], True, True, 'A4')\n"
     ]
    },
    {
     "data": {
      "application/vnd.jupyter.widget-view+json": {
       "model_id": "83c45c278f64475fb3d6ae6dd4b52f09",
       "version_major": 2,
       "version_minor": 0
      },
      "text/plain": [
       "0it [00:00, ?it/s]"
      ]
     },
     "metadata": {},
     "output_type": "display_data"
    },
    {
     "name": "stdout",
     "output_type": "stream",
     "text": [
      "Enumerating monochromatic designs on level 3\n"
     ]
    },
    {
     "data": {
      "application/vnd.jupyter.widget-view+json": {
       "model_id": "7d11bb3c3864403c946a490199825f07",
       "version_major": 2,
       "version_minor": 0
      },
      "text/plain": [
       "0it [00:00, ?it/s]"
      ]
     },
     "metadata": {},
     "output_type": "display_data"
    },
    {
     "name": "stdout",
     "output_type": "stream",
     "text": [
      "Testing 0 designs with WL... (triangles only)\n"
     ]
    },
    {
     "data": {
      "application/vnd.jupyter.widget-view+json": {
       "model_id": "752e6417e199490d9c3faf49050ffd95",
       "version_major": 2,
       "version_minor": 0
      },
      "text/plain": [
       "0it [00:00, ?it/s]"
      ]
     },
     "metadata": {},
     "output_type": "display_data"
    },
    {
     "name": "stdout",
     "output_type": "stream",
     "text": [
      "Searching for coherent refinements of <SAS of degree 6 and ranks [1, 2, 2, 2, 2, 2, 1]>\n",
      "Summary: (6, 12, [1, 2, 2, 2, 2, 2, 1], False, True, 'S5')\n"
     ]
    },
    {
     "data": {
      "application/vnd.jupyter.widget-view+json": {
       "model_id": "427e2c4aa0564392a80e16d4f9fcf244",
       "version_major": 2,
       "version_minor": 0
      },
      "text/plain": [
       "0it [00:00, ?it/s]"
      ]
     },
     "metadata": {},
     "output_type": "display_data"
    },
    {
     "name": "stdout",
     "output_type": "stream",
     "text": [
      "Enumerating monochromatic designs on level 2\n"
     ]
    },
    {
     "data": {
      "application/vnd.jupyter.widget-view+json": {
       "model_id": "9677fb28274d44b3b836eaf6a71437f8",
       "version_major": 2,
       "version_minor": 0
      },
      "text/plain": [
       "0it [00:00, ?it/s]"
      ]
     },
     "metadata": {},
     "output_type": "display_data"
    },
    {
     "name": "stdout",
     "output_type": "stream",
     "text": [
      "Enumerating monochromatic designs on level 3\n"
     ]
    },
    {
     "data": {
      "application/vnd.jupyter.widget-view+json": {
       "model_id": "216da729a6614c52965fc4314aab4a20",
       "version_major": 2,
       "version_minor": 0
      },
      "text/plain": [
       "0it [00:00, ?it/s]"
      ]
     },
     "metadata": {},
     "output_type": "display_data"
    },
    {
     "name": "stdout",
     "output_type": "stream",
     "text": [
      "Testing 1 designs with WL... (triangles only)\n"
     ]
    },
    {
     "data": {
      "application/vnd.jupyter.widget-view+json": {
       "model_id": "6bac7b0361b149c39d6f24f34edbafb4",
       "version_major": 2,
       "version_minor": 0
      },
      "text/plain": [
       "  0%|          | 0/1 [00:00<?, ?it/s]"
      ]
     },
     "metadata": {},
     "output_type": "display_data"
    },
    {
     "name": "stdout",
     "output_type": "stream",
     "text": [
      "Found: <SAS of degree 6 and ranks [1, 2, 3, 4, 3, 2, 1]>\n",
      "Summary: (6, 16, [1, 2, 3, 4, 3, 2, 1], False, True, 'D5')\n",
      "Searching for coherent refinements of <SAS of degree 6 and ranks [1, 2, 3, 4, 3, 2, 1]>\n",
      "Summary: (6, 16, [1, 2, 3, 4, 3, 2, 1], False, True, 'D5')\n"
     ]
    },
    {
     "data": {
      "application/vnd.jupyter.widget-view+json": {
       "model_id": "a887133251204562be32539fd17c9b2e",
       "version_major": 2,
       "version_minor": 0
      },
      "text/plain": [
       "0it [00:00, ?it/s]"
      ]
     },
     "metadata": {},
     "output_type": "display_data"
    },
    {
     "name": "stdout",
     "output_type": "stream",
     "text": [
      "Enumerating monochromatic designs on level 2\n"
     ]
    },
    {
     "data": {
      "application/vnd.jupyter.widget-view+json": {
       "model_id": "ae8f5e51d8f94bdf81a90f6d1f9fb049",
       "version_major": 2,
       "version_minor": 0
      },
      "text/plain": [
       "0it [00:00, ?it/s]"
      ]
     },
     "metadata": {},
     "output_type": "display_data"
    },
    {
     "name": "stdout",
     "output_type": "stream",
     "text": [
      "Enumerating monochromatic designs on level 3\n"
     ]
    },
    {
     "data": {
      "application/vnd.jupyter.widget-view+json": {
       "model_id": "7a877f6128ad45d09158819a340e096f",
       "version_major": 2,
       "version_minor": 0
      },
      "text/plain": [
       "0it [00:00, ?it/s]"
      ]
     },
     "metadata": {},
     "output_type": "display_data"
    },
    {
     "name": "stdout",
     "output_type": "stream",
     "text": [
      "Testing 0 designs with WL... (triangles only)\n"
     ]
    },
    {
     "data": {
      "application/vnd.jupyter.widget-view+json": {
       "model_id": "08f2b6f290fb49889808cdaf0c33a04e",
       "version_major": 2,
       "version_minor": 0
      },
      "text/plain": [
       "0it [00:00, ?it/s]"
      ]
     },
     "metadata": {},
     "output_type": "display_data"
    },
    {
     "name": "stdout",
     "output_type": "stream",
     "text": [
      "Searching for coherent refinements of <SAS of degree 6 and ranks [1, 2, 3, 3, 3, 2, 1]>\n",
      "Summary: (6, 15, [1, 2, 3, 3, 3, 2, 1], False, True, 'C2 x S4')\n"
     ]
    },
    {
     "data": {
      "application/vnd.jupyter.widget-view+json": {
       "model_id": "914890db98d34d559792bc559e63f57e",
       "version_major": 2,
       "version_minor": 0
      },
      "text/plain": [
       "0it [00:00, ?it/s]"
      ]
     },
     "metadata": {},
     "output_type": "display_data"
    },
    {
     "name": "stdout",
     "output_type": "stream",
     "text": [
      "Enumerating monochromatic designs on level 2\n"
     ]
    },
    {
     "data": {
      "application/vnd.jupyter.widget-view+json": {
       "model_id": "154cb1fde8884b83a34ce0f3343aeb18",
       "version_major": 2,
       "version_minor": 0
      },
      "text/plain": [
       "0it [00:00, ?it/s]"
      ]
     },
     "metadata": {},
     "output_type": "display_data"
    },
    {
     "name": "stdout",
     "output_type": "stream",
     "text": [
      "Enumerating monochromatic designs on level 3\n"
     ]
    },
    {
     "data": {
      "application/vnd.jupyter.widget-view+json": {
       "model_id": "4cb32fb1be7d4ca595004b54e8f1db70",
       "version_major": 2,
       "version_minor": 0
      },
      "text/plain": [
       "0it [00:00, ?it/s]"
      ]
     },
     "metadata": {},
     "output_type": "display_data"
    },
    {
     "name": "stdout",
     "output_type": "stream",
     "text": [
      "Testing 2 designs with WL... (triangles only)\n"
     ]
    },
    {
     "data": {
      "application/vnd.jupyter.widget-view+json": {
       "model_id": "0c2d2c97114a44ccaf7f01510ca48ef8",
       "version_major": 2,
       "version_minor": 0
      },
      "text/plain": [
       "  0%|          | 0/2 [00:00<?, ?it/s]"
      ]
     },
     "metadata": {},
     "output_type": "display_data"
    },
    {
     "name": "stdout",
     "output_type": "stream",
     "text": [
      "Found: <SAS of degree 6 and ranks [1, 2, 4, 4, 4, 2, 1]>\n",
      "Summary: (6, 18, [1, 2, 4, 4, 4, 2, 1], False, True, 'C2 x D4')\n",
      "Found: <SAS of degree 6 and ranks [1, 2, 5, 5, 5, 2, 1]>\n",
      "Summary: (6, 21, [1, 2, 5, 5, 5, 2, 1], False, True, 'D4')\n",
      "Searching for coherent refinements of <SAS of degree 6 and ranks [1, 2, 4, 4, 4, 2, 1]>\n",
      "Summary: (6, 18, [1, 2, 4, 4, 4, 2, 1], False, True, 'C2 x D4')\n"
     ]
    },
    {
     "data": {
      "application/vnd.jupyter.widget-view+json": {
       "model_id": "563092c3408240c2b70d377e6385ab86",
       "version_major": 2,
       "version_minor": 0
      },
      "text/plain": [
       "0it [00:00, ?it/s]"
      ]
     },
     "metadata": {},
     "output_type": "display_data"
    },
    {
     "name": "stdout",
     "output_type": "stream",
     "text": [
      "Enumerating monochromatic designs on level 2\n"
     ]
    },
    {
     "data": {
      "application/vnd.jupyter.widget-view+json": {
       "model_id": "2ef74693055c431c8087c4ec3de3d9d9",
       "version_major": 2,
       "version_minor": 0
      },
      "text/plain": [
       "0it [00:00, ?it/s]"
      ]
     },
     "metadata": {},
     "output_type": "display_data"
    },
    {
     "name": "stdout",
     "output_type": "stream",
     "text": [
      "Enumerating monochromatic designs on level 3\n"
     ]
    },
    {
     "data": {
      "application/vnd.jupyter.widget-view+json": {
       "model_id": "e719f47331634a549dc54861794b7a44",
       "version_major": 2,
       "version_minor": 0
      },
      "text/plain": [
       "0it [00:00, ?it/s]"
      ]
     },
     "metadata": {},
     "output_type": "display_data"
    },
    {
     "name": "stdout",
     "output_type": "stream",
     "text": [
      "Testing 4 designs with WL... (triangles only)\n"
     ]
    },
    {
     "data": {
      "application/vnd.jupyter.widget-view+json": {
       "model_id": "99d8b21f28d4432c943659e1a2f21174",
       "version_major": 2,
       "version_minor": 0
      },
      "text/plain": [
       "  0%|          | 0/4 [00:00<?, ?it/s]"
      ]
     },
     "metadata": {},
     "output_type": "display_data"
    },
    {
     "name": "stdout",
     "output_type": "stream",
     "text": [
      "Found: <SAS of degree 6 and ranks [1, 2, 4, 5, 4, 2, 1]>\n",
      "Summary: (6, 19, [1, 2, 4, 5, 4, 2, 1], False, True, 'D4')\n",
      "Found: <SAS of degree 6 and ranks [1, 2, 6, 6, 6, 2, 1]>\n",
      "Summary: (6, 24, [1, 2, 6, 6, 6, 2, 1], False, True, 'C2 x C2')\n",
      "Found: <SAS of degree 6 and ranks [1, 2, 5, 5, 5, 2, 1]>\n",
      "Summary: (6, 21, [1, 2, 5, 5, 5, 2, 1], False, True, 'C2 x C2 x C2')\n",
      "Searching for coherent refinements of <SAS of degree 6 and ranks [1, 2, 5, 5, 5, 2, 1]>\n",
      "Summary: (6, 21, [1, 2, 5, 5, 5, 2, 1], False, True, 'D4')\n"
     ]
    },
    {
     "data": {
      "application/vnd.jupyter.widget-view+json": {
       "model_id": "d6a3d05dc370445ca5571f0c1732f3a5",
       "version_major": 2,
       "version_minor": 0
      },
      "text/plain": [
       "0it [00:00, ?it/s]"
      ]
     },
     "metadata": {},
     "output_type": "display_data"
    },
    {
     "name": "stdout",
     "output_type": "stream",
     "text": [
      "Enumerating monochromatic designs on level 2\n"
     ]
    },
    {
     "data": {
      "application/vnd.jupyter.widget-view+json": {
       "model_id": "407bd422f58746d5b4fd1b493cc12316",
       "version_major": 2,
       "version_minor": 0
      },
      "text/plain": [
       "0it [00:00, ?it/s]"
      ]
     },
     "metadata": {},
     "output_type": "display_data"
    },
    {
     "name": "stdout",
     "output_type": "stream",
     "text": [
      "Enumerating monochromatic designs on level 3\n"
     ]
    },
    {
     "data": {
      "application/vnd.jupyter.widget-view+json": {
       "model_id": "488cc01a67fd4567b1846d88a5ae00d0",
       "version_major": 2,
       "version_minor": 0
      },
      "text/plain": [
       "0it [00:00, ?it/s]"
      ]
     },
     "metadata": {},
     "output_type": "display_data"
    },
    {
     "name": "stdout",
     "output_type": "stream",
     "text": [
      "Testing 2 designs with WL... (triangles only)\n"
     ]
    },
    {
     "data": {
      "application/vnd.jupyter.widget-view+json": {
       "model_id": "b964a6bb5ff8420493aaad57df5d6683",
       "version_major": 2,
       "version_minor": 0
      },
      "text/plain": [
       "  0%|          | 0/2 [00:00<?, ?it/s]"
      ]
     },
     "metadata": {},
     "output_type": "display_data"
    },
    {
     "name": "stdout",
     "output_type": "stream",
     "text": [
      "Found: <SAS of degree 6 and ranks [1, 2, 5, 6, 5, 2, 1]>\n",
      "Summary: (6, 22, [1, 2, 5, 6, 5, 2, 1], False, True, 'C4')\n",
      "Searching for coherent refinements of <SAS of degree 6 and ranks [1, 2, 4, 5, 4, 2, 1]>\n",
      "Summary: (6, 19, [1, 2, 4, 5, 4, 2, 1], False, True, 'D4')\n"
     ]
    },
    {
     "data": {
      "application/vnd.jupyter.widget-view+json": {
       "model_id": "954ebe95e71a483fa3ca24aa2e17fdc2",
       "version_major": 2,
       "version_minor": 0
      },
      "text/plain": [
       "0it [00:00, ?it/s]"
      ]
     },
     "metadata": {},
     "output_type": "display_data"
    },
    {
     "name": "stdout",
     "output_type": "stream",
     "text": [
      "Enumerating monochromatic designs on level 3\n"
     ]
    },
    {
     "data": {
      "application/vnd.jupyter.widget-view+json": {
       "model_id": "9744c7885bad45bd9e1e3b0017ca12da",
       "version_major": 2,
       "version_minor": 0
      },
      "text/plain": [
       "0it [00:00, ?it/s]"
      ]
     },
     "metadata": {},
     "output_type": "display_data"
    },
    {
     "name": "stdout",
     "output_type": "stream",
     "text": [
      "Testing 0 designs with WL... (triangles only)\n"
     ]
    },
    {
     "data": {
      "application/vnd.jupyter.widget-view+json": {
       "model_id": "de1298d435464b5492b0c82550f6ee19",
       "version_major": 2,
       "version_minor": 0
      },
      "text/plain": [
       "0it [00:00, ?it/s]"
      ]
     },
     "metadata": {},
     "output_type": "display_data"
    },
    {
     "name": "stdout",
     "output_type": "stream",
     "text": [
      "Searching for coherent refinements of <SAS of degree 6 and ranks [1, 2, 6, 6, 6, 2, 1]>\n",
      "Summary: (6, 24, [1, 2, 6, 6, 6, 2, 1], False, True, 'C2 x C2')\n"
     ]
    },
    {
     "data": {
      "application/vnd.jupyter.widget-view+json": {
       "model_id": "8685d52c688c43fb97210932149ccec8",
       "version_major": 2,
       "version_minor": 0
      },
      "text/plain": [
       "0it [00:00, ?it/s]"
      ]
     },
     "metadata": {},
     "output_type": "display_data"
    },
    {
     "name": "stdout",
     "output_type": "stream",
     "text": [
      "Enumerating monochromatic designs on level 2\n"
     ]
    },
    {
     "data": {
      "application/vnd.jupyter.widget-view+json": {
       "model_id": "d0e1029ff1504c5e8462f957008520b8",
       "version_major": 2,
       "version_minor": 0
      },
      "text/plain": [
       "0it [00:00, ?it/s]"
      ]
     },
     "metadata": {},
     "output_type": "display_data"
    },
    {
     "name": "stdout",
     "output_type": "stream",
     "text": [
      "Enumerating monochromatic designs on level 3\n"
     ]
    },
    {
     "data": {
      "application/vnd.jupyter.widget-view+json": {
       "model_id": "6cb55e09be62414192e0829a2e7b983c",
       "version_major": 2,
       "version_minor": 0
      },
      "text/plain": [
       "0it [00:00, ?it/s]"
      ]
     },
     "metadata": {},
     "output_type": "display_data"
    },
    {
     "name": "stdout",
     "output_type": "stream",
     "text": [
      "Testing 0 designs with WL... (triangles only)\n"
     ]
    },
    {
     "data": {
      "application/vnd.jupyter.widget-view+json": {
       "model_id": "c7d93a51751b4a4dafe194f3b2a2078a",
       "version_major": 2,
       "version_minor": 0
      },
      "text/plain": [
       "0it [00:00, ?it/s]"
      ]
     },
     "metadata": {},
     "output_type": "display_data"
    },
    {
     "name": "stdout",
     "output_type": "stream",
     "text": [
      "Searching for coherent refinements of <SAS of degree 6 and ranks [1, 2, 5, 5, 5, 2, 1]>\n",
      "Summary: (6, 21, [1, 2, 5, 5, 5, 2, 1], False, True, 'C2 x C2 x C2')\n"
     ]
    },
    {
     "data": {
      "application/vnd.jupyter.widget-view+json": {
       "model_id": "e5c89bf76bb94d38b89c8d7e824f425f",
       "version_major": 2,
       "version_minor": 0
      },
      "text/plain": [
       "0it [00:00, ?it/s]"
      ]
     },
     "metadata": {},
     "output_type": "display_data"
    },
    {
     "name": "stdout",
     "output_type": "stream",
     "text": [
      "Enumerating monochromatic designs on level 2\n"
     ]
    },
    {
     "data": {
      "application/vnd.jupyter.widget-view+json": {
       "model_id": "653aac3966134af3973a40bb6d6f1c25",
       "version_major": 2,
       "version_minor": 0
      },
      "text/plain": [
       "0it [00:00, ?it/s]"
      ]
     },
     "metadata": {},
     "output_type": "display_data"
    },
    {
     "name": "stdout",
     "output_type": "stream",
     "text": [
      "Enumerating monochromatic designs on level 3\n"
     ]
    },
    {
     "data": {
      "application/vnd.jupyter.widget-view+json": {
       "model_id": "b3ef8f5ed9f84166a4579c56ef1f5066",
       "version_major": 2,
       "version_minor": 0
      },
      "text/plain": [
       "0it [00:00, ?it/s]"
      ]
     },
     "metadata": {},
     "output_type": "display_data"
    },
    {
     "name": "stdout",
     "output_type": "stream",
     "text": [
      "Testing 1 designs with WL... (triangles only)\n"
     ]
    },
    {
     "data": {
      "application/vnd.jupyter.widget-view+json": {
       "model_id": "e913683cc94542fb8a5bd20e49d18e7b",
       "version_major": 2,
       "version_minor": 0
      },
      "text/plain": [
       "  0%|          | 0/1 [00:00<?, ?it/s]"
      ]
     },
     "metadata": {},
     "output_type": "display_data"
    },
    {
     "name": "stdout",
     "output_type": "stream",
     "text": [
      "Searching for coherent refinements of <SAS of degree 6 and ranks [1, 2, 5, 6, 5, 2, 1]>\n",
      "Summary: (6, 22, [1, 2, 5, 6, 5, 2, 1], False, True, 'C4')\n"
     ]
    },
    {
     "data": {
      "application/vnd.jupyter.widget-view+json": {
       "model_id": "fa67a394a75b44ed823248f2f28bda6d",
       "version_major": 2,
       "version_minor": 0
      },
      "text/plain": [
       "0it [00:00, ?it/s]"
      ]
     },
     "metadata": {},
     "output_type": "display_data"
    },
    {
     "name": "stdout",
     "output_type": "stream",
     "text": [
      "Enumerating monochromatic designs on level 3\n"
     ]
    },
    {
     "data": {
      "application/vnd.jupyter.widget-view+json": {
       "model_id": "3a515b60f9e44cf9982c0fc9d720aec5",
       "version_major": 2,
       "version_minor": 0
      },
      "text/plain": [
       "0it [00:00, ?it/s]"
      ]
     },
     "metadata": {},
     "output_type": "display_data"
    },
    {
     "name": "stdout",
     "output_type": "stream",
     "text": [
      "Testing 0 designs with WL... (triangles only)\n"
     ]
    },
    {
     "data": {
      "application/vnd.jupyter.widget-view+json": {
       "model_id": "b716d4dbe41347958c9cc138c48b26c4",
       "version_major": 2,
       "version_minor": 0
      },
      "text/plain": [
       "0it [00:00, ?it/s]"
      ]
     },
     "metadata": {},
     "output_type": "display_data"
    },
    {
     "name": "stdout",
     "output_type": "stream",
     "text": [
      "Searching for coherent refinements of <SAS of degree 6 and ranks [1, 3, 4, 4, 4, 3, 1]>\n",
      "Summary: (6, 20, [1, 3, 4, 4, 4, 3, 1], False, True, 'S4')\n"
     ]
    },
    {
     "data": {
      "application/vnd.jupyter.widget-view+json": {
       "model_id": "a92297dda4454d3ea19fc5bdcd905d18",
       "version_major": 2,
       "version_minor": 0
      },
      "text/plain": [
       "0it [00:00, ?it/s]"
      ]
     },
     "metadata": {},
     "output_type": "display_data"
    },
    {
     "name": "stdout",
     "output_type": "stream",
     "text": [
      "Enumerating monochromatic designs on level 2\n"
     ]
    },
    {
     "data": {
      "application/vnd.jupyter.widget-view+json": {
       "model_id": "5cadaf677cc44262aa9a3e53d37ad85c",
       "version_major": 2,
       "version_minor": 0
      },
      "text/plain": [
       "0it [00:00, ?it/s]"
      ]
     },
     "metadata": {},
     "output_type": "display_data"
    },
    {
     "name": "stdout",
     "output_type": "stream",
     "text": [
      "Enumerating monochromatic designs on level 3\n"
     ]
    },
    {
     "data": {
      "application/vnd.jupyter.widget-view+json": {
       "model_id": "ca3d5e1cfb55493c878ef1cc11a645d0",
       "version_major": 2,
       "version_minor": 0
      },
      "text/plain": [
       "0it [00:00, ?it/s]"
      ]
     },
     "metadata": {},
     "output_type": "display_data"
    },
    {
     "name": "stdout",
     "output_type": "stream",
     "text": [
      "Testing 1 designs with WL... (triangles only)\n"
     ]
    },
    {
     "data": {
      "application/vnd.jupyter.widget-view+json": {
       "model_id": "641ca4b241dd40bfb199fa556f51c53c",
       "version_major": 2,
       "version_minor": 0
      },
      "text/plain": [
       "  0%|          | 0/1 [00:00<?, ?it/s]"
      ]
     },
     "metadata": {},
     "output_type": "display_data"
    },
    {
     "name": "stdout",
     "output_type": "stream",
     "text": [
      "Found: <SAS of degree 6 and ranks [1, 3, 5, 6, 5, 3, 1]>\n",
      "Summary: (6, 24, [1, 3, 5, 6, 5, 3, 1], False, True, 'D4')\n",
      "Searching for coherent refinements of <SAS of degree 6 and ranks [1, 3, 5, 6, 5, 3, 1]>\n",
      "Summary: (6, 24, [1, 3, 5, 6, 5, 3, 1], False, True, 'D4')\n"
     ]
    },
    {
     "data": {
      "application/vnd.jupyter.widget-view+json": {
       "model_id": "f7683787525d49f3baa5208e90f04083",
       "version_major": 2,
       "version_minor": 0
      },
      "text/plain": [
       "0it [00:00, ?it/s]"
      ]
     },
     "metadata": {},
     "output_type": "display_data"
    },
    {
     "name": "stdout",
     "output_type": "stream",
     "text": [
      "Enumerating monochromatic designs on level 2\n"
     ]
    },
    {
     "data": {
      "application/vnd.jupyter.widget-view+json": {
       "model_id": "8455ea6859bf43caa609d3b3ea98094c",
       "version_major": 2,
       "version_minor": 0
      },
      "text/plain": [
       "0it [00:00, ?it/s]"
      ]
     },
     "metadata": {},
     "output_type": "display_data"
    },
    {
     "name": "stdout",
     "output_type": "stream",
     "text": [
      "Enumerating monochromatic designs on level 3\n"
     ]
    },
    {
     "data": {
      "application/vnd.jupyter.widget-view+json": {
       "model_id": "2a52ee5c5c33429abdd0e22b829d0e19",
       "version_major": 2,
       "version_minor": 0
      },
      "text/plain": [
       "0it [00:00, ?it/s]"
      ]
     },
     "metadata": {},
     "output_type": "display_data"
    },
    {
     "name": "stdout",
     "output_type": "stream",
     "text": [
      "Testing 1 designs with WL... (triangles only)\n"
     ]
    },
    {
     "data": {
      "application/vnd.jupyter.widget-view+json": {
       "model_id": "934fe7537f8649feb746213a08669443",
       "version_major": 2,
       "version_minor": 0
      },
      "text/plain": [
       "  0%|          | 0/1 [00:00<?, ?it/s]"
      ]
     },
     "metadata": {},
     "output_type": "display_data"
    },
    {
     "name": "stdout",
     "output_type": "stream",
     "text": [
      "Found: <SAS of degree 6 and ranks [1, 3, 6, 8, 6, 3, 1]>\n",
      "Summary: (6, 28, [1, 3, 6, 8, 6, 3, 1], False, True, 'C2 x C2')\n",
      "Searching for coherent refinements of <SAS of degree 6 and ranks [1, 3, 6, 8, 6, 3, 1]>\n",
      "Summary: (6, 28, [1, 3, 6, 8, 6, 3, 1], False, True, 'C2 x C2')\n"
     ]
    },
    {
     "data": {
      "application/vnd.jupyter.widget-view+json": {
       "model_id": "4e19f5b6e81041a79939bef3ed138688",
       "version_major": 2,
       "version_minor": 0
      },
      "text/plain": [
       "0it [00:00, ?it/s]"
      ]
     },
     "metadata": {},
     "output_type": "display_data"
    },
    {
     "name": "stdout",
     "output_type": "stream",
     "text": [
      "Enumerating monochromatic designs on level 2\n"
     ]
    },
    {
     "data": {
      "application/vnd.jupyter.widget-view+json": {
       "model_id": "c56adca3690d448cac0d64e9bd42bedb",
       "version_major": 2,
       "version_minor": 0
      },
      "text/plain": [
       "0it [00:00, ?it/s]"
      ]
     },
     "metadata": {},
     "output_type": "display_data"
    },
    {
     "name": "stdout",
     "output_type": "stream",
     "text": [
      "Enumerating monochromatic designs on level 3\n"
     ]
    },
    {
     "data": {
      "application/vnd.jupyter.widget-view+json": {
       "model_id": "6008194e82754cb28441fb7b379b46c2",
       "version_major": 2,
       "version_minor": 0
      },
      "text/plain": [
       "0it [00:00, ?it/s]"
      ]
     },
     "metadata": {},
     "output_type": "display_data"
    },
    {
     "name": "stdout",
     "output_type": "stream",
     "text": [
      "Testing 0 designs with WL... (triangles only)\n"
     ]
    },
    {
     "data": {
      "application/vnd.jupyter.widget-view+json": {
       "model_id": "62c0bc2b57494fd2b12fd4c559dce302",
       "version_major": 2,
       "version_minor": 0
      },
      "text/plain": [
       "0it [00:00, ?it/s]"
      ]
     },
     "metadata": {},
     "output_type": "display_data"
    },
    {
     "name": "stdout",
     "output_type": "stream",
     "text": [
      "Searching for coherent refinements of <SAS of degree 6 and ranks [1, 2, 3, 4, 3, 2, 1]>\n",
      "Summary: (6, 16, [1, 2, 3, 4, 3, 2, 1], False, True, 'S3 x S3')\n"
     ]
    },
    {
     "data": {
      "application/vnd.jupyter.widget-view+json": {
       "model_id": "08b790cc411041a5b0c9e86561bf7636",
       "version_major": 2,
       "version_minor": 0
      },
      "text/plain": [
       "0it [00:00, ?it/s]"
      ]
     },
     "metadata": {},
     "output_type": "display_data"
    },
    {
     "name": "stdout",
     "output_type": "stream",
     "text": [
      "Enumerating monochromatic designs on level 2\n"
     ]
    },
    {
     "data": {
      "application/vnd.jupyter.widget-view+json": {
       "model_id": "a363487bd4cb4bf8a949abc36e7f4af0",
       "version_major": 2,
       "version_minor": 0
      },
      "text/plain": [
       "0it [00:00, ?it/s]"
      ]
     },
     "metadata": {},
     "output_type": "display_data"
    },
    {
     "name": "stdout",
     "output_type": "stream",
     "text": [
      "Enumerating monochromatic designs on level 3\n"
     ]
    },
    {
     "data": {
      "application/vnd.jupyter.widget-view+json": {
       "model_id": "74e26d8472584ef6b1c5b9ecec08a96f",
       "version_major": 2,
       "version_minor": 0
      },
      "text/plain": [
       "0it [00:00, ?it/s]"
      ]
     },
     "metadata": {},
     "output_type": "display_data"
    },
    {
     "name": "stdout",
     "output_type": "stream",
     "text": [
      "Testing 1 designs with WL... (triangles only)\n"
     ]
    },
    {
     "data": {
      "application/vnd.jupyter.widget-view+json": {
       "model_id": "f0ecf42684874ecbb161de8595b57114",
       "version_major": 2,
       "version_minor": 0
      },
      "text/plain": [
       "  0%|          | 0/1 [00:00<?, ?it/s]"
      ]
     },
     "metadata": {},
     "output_type": "display_data"
    },
    {
     "name": "stdout",
     "output_type": "stream",
     "text": [
      "Found: <SAS of degree 6 and ranks [1, 2, 4, 6, 4, 2, 1]>\n",
      "Summary: (6, 20, [1, 2, 4, 6, 4, 2, 1], False, True, 'S3')\n",
      "Searching for coherent refinements of <SAS of degree 6 and ranks [1, 2, 4, 6, 4, 2, 1]>\n",
      "Summary: (6, 20, [1, 2, 4, 6, 4, 2, 1], False, True, 'S3')\n"
     ]
    },
    {
     "data": {
      "application/vnd.jupyter.widget-view+json": {
       "model_id": "d145092146aa4b79b21221d11f16f9e1",
       "version_major": 2,
       "version_minor": 0
      },
      "text/plain": [
       "0it [00:00, ?it/s]"
      ]
     },
     "metadata": {},
     "output_type": "display_data"
    },
    {
     "name": "stdout",
     "output_type": "stream",
     "text": [
      "Enumerating monochromatic designs on level 2\n"
     ]
    },
    {
     "data": {
      "application/vnd.jupyter.widget-view+json": {
       "model_id": "056f7aa3237945628d62aea95391c81c",
       "version_major": 2,
       "version_minor": 0
      },
      "text/plain": [
       "0it [00:00, ?it/s]"
      ]
     },
     "metadata": {},
     "output_type": "display_data"
    },
    {
     "name": "stdout",
     "output_type": "stream",
     "text": [
      "Enumerating monochromatic designs on level 3\n"
     ]
    },
    {
     "data": {
      "application/vnd.jupyter.widget-view+json": {
       "model_id": "39ab16076b8e4618955e3190c5f00874",
       "version_major": 2,
       "version_minor": 0
      },
      "text/plain": [
       "0it [00:00, ?it/s]"
      ]
     },
     "metadata": {},
     "output_type": "display_data"
    },
    {
     "name": "stdout",
     "output_type": "stream",
     "text": [
      "Testing 1 designs with WL... (triangles only)\n"
     ]
    },
    {
     "data": {
      "application/vnd.jupyter.widget-view+json": {
       "model_id": "7a1a03d6a9e44b09905aca8d6a72ba3d",
       "version_major": 2,
       "version_minor": 0
      },
      "text/plain": [
       "  0%|          | 0/1 [00:00<?, ?it/s]"
      ]
     },
     "metadata": {},
     "output_type": "display_data"
    },
    {
     "name": "stdout",
     "output_type": "stream",
     "text": [
      "Found: <SAS of degree 6 and ranks [1, 2, 5, 8, 5, 2, 1]>\n",
      "Summary: (6, 24, [1, 2, 5, 8, 5, 2, 1], False, True, 'C3')\n",
      "Searching for coherent refinements of <SAS of degree 6 and ranks [1, 2, 5, 8, 5, 2, 1]>\n",
      "Summary: (6, 24, [1, 2, 5, 8, 5, 2, 1], False, True, 'C3')\n"
     ]
    },
    {
     "data": {
      "application/vnd.jupyter.widget-view+json": {
       "model_id": "bffa898d938e42b28375cd28b1e6eb9e",
       "version_major": 2,
       "version_minor": 0
      },
      "text/plain": [
       "0it [00:00, ?it/s]"
      ]
     },
     "metadata": {},
     "output_type": "display_data"
    },
    {
     "name": "stdout",
     "output_type": "stream",
     "text": [
      "Enumerating monochromatic designs on level 2\n"
     ]
    },
    {
     "data": {
      "application/vnd.jupyter.widget-view+json": {
       "model_id": "c63803bacbcd48cd8810e078dbbe9729",
       "version_major": 2,
       "version_minor": 0
      },
      "text/plain": [
       "0it [00:00, ?it/s]"
      ]
     },
     "metadata": {},
     "output_type": "display_data"
    },
    {
     "name": "stdout",
     "output_type": "stream",
     "text": [
      "Enumerating monochromatic designs on level 3\n"
     ]
    },
    {
     "data": {
      "application/vnd.jupyter.widget-view+json": {
       "model_id": "e1124a842d4f425eab563b82d9c793f3",
       "version_major": 2,
       "version_minor": 0
      },
      "text/plain": [
       "0it [00:00, ?it/s]"
      ]
     },
     "metadata": {},
     "output_type": "display_data"
    },
    {
     "name": "stdout",
     "output_type": "stream",
     "text": [
      "Testing 0 designs with WL... (triangles only)\n"
     ]
    },
    {
     "data": {
      "application/vnd.jupyter.widget-view+json": {
       "model_id": "b32fd70f420a4fae82252660e7c87685",
       "version_major": 2,
       "version_minor": 0
      },
      "text/plain": [
       "0it [00:00, ?it/s]"
      ]
     },
     "metadata": {},
     "output_type": "display_data"
    },
    {
     "name": "stdout",
     "output_type": "stream",
     "text": [
      "Searching for coherent refinements of <SAS of degree 6 and ranks [1, 3, 5, 6, 5, 3, 1]>\n",
      "Summary: (6, 24, [1, 3, 5, 6, 5, 3, 1], False, True, 'D6')\n"
     ]
    },
    {
     "data": {
      "application/vnd.jupyter.widget-view+json": {
       "model_id": "d92794935aab4469b5dc5a8b53bc3a44",
       "version_major": 2,
       "version_minor": 0
      },
      "text/plain": [
       "0it [00:00, ?it/s]"
      ]
     },
     "metadata": {},
     "output_type": "display_data"
    },
    {
     "name": "stdout",
     "output_type": "stream",
     "text": [
      "Enumerating monochromatic designs on level 2\n"
     ]
    },
    {
     "data": {
      "application/vnd.jupyter.widget-view+json": {
       "model_id": "7afd19db428742fcb712675611cdcff1",
       "version_major": 2,
       "version_minor": 0
      },
      "text/plain": [
       "0it [00:00, ?it/s]"
      ]
     },
     "metadata": {},
     "output_type": "display_data"
    },
    {
     "name": "stdout",
     "output_type": "stream",
     "text": [
      "Enumerating monochromatic designs on level 3\n"
     ]
    },
    {
     "data": {
      "application/vnd.jupyter.widget-view+json": {
       "model_id": "1275e92cedcf47ca8dfa07ac546a89ba",
       "version_major": 2,
       "version_minor": 0
      },
      "text/plain": [
       "0it [00:00, ?it/s]"
      ]
     },
     "metadata": {},
     "output_type": "display_data"
    },
    {
     "name": "stdout",
     "output_type": "stream",
     "text": [
      "Testing 0 designs with WL... (triangles only)\n"
     ]
    },
    {
     "data": {
      "application/vnd.jupyter.widget-view+json": {
       "model_id": "47777e039e13481bb461f68efdd2b79d",
       "version_major": 2,
       "version_minor": 0
      },
      "text/plain": [
       "0it [00:00, ?it/s]"
      ]
     },
     "metadata": {},
     "output_type": "display_data"
    },
    {
     "name": "stdout",
     "output_type": "stream",
     "text": [
      "Searching for coherent refinements of <SAS of degree 6 and ranks [1, 4, 7, 8, 7, 4, 1]>\n",
      "Summary: (6, 32, [1, 4, 7, 8, 7, 4, 1], False, True, 'S3')\n"
     ]
    },
    {
     "data": {
      "application/vnd.jupyter.widget-view+json": {
       "model_id": "07995277186f40b98bf0c48de541dd75",
       "version_major": 2,
       "version_minor": 0
      },
      "text/plain": [
       "0it [00:00, ?it/s]"
      ]
     },
     "metadata": {},
     "output_type": "display_data"
    },
    {
     "name": "stdout",
     "output_type": "stream",
     "text": [
      "Enumerating monochromatic designs on level 2\n"
     ]
    },
    {
     "data": {
      "application/vnd.jupyter.widget-view+json": {
       "model_id": "b53237d0870d45469078b081648a6d64",
       "version_major": 2,
       "version_minor": 0
      },
      "text/plain": [
       "0it [00:00, ?it/s]"
      ]
     },
     "metadata": {},
     "output_type": "display_data"
    },
    {
     "name": "stdout",
     "output_type": "stream",
     "text": [
      "Enumerating monochromatic designs on level 3\n"
     ]
    },
    {
     "data": {
      "application/vnd.jupyter.widget-view+json": {
       "model_id": "3f878f7952bc43829ea114dd82169c43",
       "version_major": 2,
       "version_minor": 0
      },
      "text/plain": [
       "0it [00:00, ?it/s]"
      ]
     },
     "metadata": {},
     "output_type": "display_data"
    },
    {
     "name": "stdout",
     "output_type": "stream",
     "text": [
      "Testing 0 designs with WL... (triangles only)\n"
     ]
    },
    {
     "data": {
      "application/vnd.jupyter.widget-view+json": {
       "model_id": "64a97b32b5544aecb2e686ca3e7f3e2d",
       "version_major": 2,
       "version_minor": 0
      },
      "text/plain": [
       "0it [00:00, ?it/s]"
      ]
     },
     "metadata": {},
     "output_type": "display_data"
    },
    {
     "name": "stdout",
     "output_type": "stream",
     "text": [
      "Searching for coherent refinements of <SAS of degree 6 and ranks [1, 3, 6, 7, 6, 3, 1]>\n",
      "Summary: (6, 27, [1, 3, 6, 7, 6, 3, 1], False, True, 'C2 x C2 x C2')\n"
     ]
    },
    {
     "data": {
      "application/vnd.jupyter.widget-view+json": {
       "model_id": "517b11903c50481ebfa6c25919416db8",
       "version_major": 2,
       "version_minor": 0
      },
      "text/plain": [
       "0it [00:00, ?it/s]"
      ]
     },
     "metadata": {},
     "output_type": "display_data"
    },
    {
     "name": "stdout",
     "output_type": "stream",
     "text": [
      "Enumerating monochromatic designs on level 2\n"
     ]
    },
    {
     "data": {
      "application/vnd.jupyter.widget-view+json": {
       "model_id": "f049ee323acd43f391feb7a6cb4b46f4",
       "version_major": 2,
       "version_minor": 0
      },
      "text/plain": [
       "0it [00:00, ?it/s]"
      ]
     },
     "metadata": {},
     "output_type": "display_data"
    },
    {
     "name": "stdout",
     "output_type": "stream",
     "text": [
      "Enumerating monochromatic designs on level 3\n"
     ]
    },
    {
     "data": {
      "application/vnd.jupyter.widget-view+json": {
       "model_id": "f799cbd9e67c41eda5ea36f945ffd9c8",
       "version_major": 2,
       "version_minor": 0
      },
      "text/plain": [
       "0it [00:00, ?it/s]"
      ]
     },
     "metadata": {},
     "output_type": "display_data"
    },
    {
     "name": "stdout",
     "output_type": "stream",
     "text": [
      "Testing 2 designs with WL... (triangles only)\n"
     ]
    },
    {
     "data": {
      "application/vnd.jupyter.widget-view+json": {
       "model_id": "c85798a5ffc6495f9bc848da02c3cf81",
       "version_major": 2,
       "version_minor": 0
      },
      "text/plain": [
       "  0%|          | 0/2 [00:00<?, ?it/s]"
      ]
     },
     "metadata": {},
     "output_type": "display_data"
    },
    {
     "name": "stdout",
     "output_type": "stream",
     "text": [
      "Found: <SAS of degree 6 and ranks [1, 3, 7, 8, 7, 3, 1]>\n",
      "Summary: (6, 30, [1, 3, 7, 8, 7, 3, 1], False, True, 'C2 x C2')\n",
      "Found: <SAS of degree 6 and ranks [1, 3, 6, 8, 6, 3, 1]>\n",
      "Summary: (6, 28, [1, 3, 6, 8, 6, 3, 1], False, True, 'C2 x C2')\n",
      "Searching for coherent refinements of <SAS of degree 6 and ranks [1, 3, 7, 8, 7, 3, 1]>\n",
      "Summary: (6, 30, [1, 3, 7, 8, 7, 3, 1], False, True, 'C2 x C2')\n"
     ]
    },
    {
     "data": {
      "application/vnd.jupyter.widget-view+json": {
       "model_id": "18a286df339f4372b989ff550a72c5bd",
       "version_major": 2,
       "version_minor": 0
      },
      "text/plain": [
       "0it [00:00, ?it/s]"
      ]
     },
     "metadata": {},
     "output_type": "display_data"
    },
    {
     "name": "stdout",
     "output_type": "stream",
     "text": [
      "Enumerating monochromatic designs on level 2\n"
     ]
    },
    {
     "data": {
      "application/vnd.jupyter.widget-view+json": {
       "model_id": "eeb259277aca43ac808c01cf113b9af3",
       "version_major": 2,
       "version_minor": 0
      },
      "text/plain": [
       "0it [00:00, ?it/s]"
      ]
     },
     "metadata": {},
     "output_type": "display_data"
    },
    {
     "name": "stdout",
     "output_type": "stream",
     "text": [
      "Enumerating monochromatic designs on level 3\n"
     ]
    },
    {
     "data": {
      "application/vnd.jupyter.widget-view+json": {
       "model_id": "b196e18624e44837be6f0a64754a618b",
       "version_major": 2,
       "version_minor": 0
      },
      "text/plain": [
       "0it [00:00, ?it/s]"
      ]
     },
     "metadata": {},
     "output_type": "display_data"
    },
    {
     "name": "stdout",
     "output_type": "stream",
     "text": [
      "Testing 1 designs with WL... (triangles only)\n"
     ]
    },
    {
     "data": {
      "application/vnd.jupyter.widget-view+json": {
       "model_id": "f3fbc9a23f06496a800a23d11afe11ec",
       "version_major": 2,
       "version_minor": 0
      },
      "text/plain": [
       "  0%|          | 0/1 [00:00<?, ?it/s]"
      ]
     },
     "metadata": {},
     "output_type": "display_data"
    },
    {
     "name": "stdout",
     "output_type": "stream",
     "text": [
      "Found: <SAS of degree 6 and ranks [1, 3, 9, 10, 9, 3, 1]>\n",
      "Summary: (6, 36, [1, 3, 9, 10, 9, 3, 1], False, True, 'C2')\n",
      "Searching for coherent refinements of <SAS of degree 6 and ranks [1, 3, 6, 8, 6, 3, 1]>\n",
      "Summary: (6, 28, [1, 3, 6, 8, 6, 3, 1], False, True, 'C2 x C2')\n"
     ]
    },
    {
     "data": {
      "application/vnd.jupyter.widget-view+json": {
       "model_id": "87cd1723f9f843c8bb99cdd922c5be33",
       "version_major": 2,
       "version_minor": 0
      },
      "text/plain": [
       "0it [00:00, ?it/s]"
      ]
     },
     "metadata": {},
     "output_type": "display_data"
    },
    {
     "name": "stdout",
     "output_type": "stream",
     "text": [
      "Enumerating monochromatic designs on level 3\n"
     ]
    },
    {
     "data": {
      "application/vnd.jupyter.widget-view+json": {
       "model_id": "718068df6f604aa1aa75879922df2afe",
       "version_major": 2,
       "version_minor": 0
      },
      "text/plain": [
       "0it [00:00, ?it/s]"
      ]
     },
     "metadata": {},
     "output_type": "display_data"
    },
    {
     "name": "stdout",
     "output_type": "stream",
     "text": [
      "Testing 0 designs with WL... (triangles only)\n"
     ]
    },
    {
     "data": {
      "application/vnd.jupyter.widget-view+json": {
       "model_id": "623a94583187486fb9805c5eff57b443",
       "version_major": 2,
       "version_minor": 0
      },
      "text/plain": [
       "0it [00:00, ?it/s]"
      ]
     },
     "metadata": {},
     "output_type": "display_data"
    },
    {
     "name": "stdout",
     "output_type": "stream",
     "text": [
      "Searching for coherent refinements of <SAS of degree 6 and ranks [1, 3, 9, 10, 9, 3, 1]>\n",
      "Summary: (6, 36, [1, 3, 9, 10, 9, 3, 1], False, True, 'C2')\n"
     ]
    },
    {
     "data": {
      "application/vnd.jupyter.widget-view+json": {
       "model_id": "9b22e1c01c644e55a31d05d64047b0dd",
       "version_major": 2,
       "version_minor": 0
      },
      "text/plain": [
       "0it [00:00, ?it/s]"
      ]
     },
     "metadata": {},
     "output_type": "display_data"
    },
    {
     "name": "stdout",
     "output_type": "stream",
     "text": [
      "Enumerating monochromatic designs on level 2\n"
     ]
    },
    {
     "data": {
      "application/vnd.jupyter.widget-view+json": {
       "model_id": "4f4997854a0341d18cacf1c8b6691979",
       "version_major": 2,
       "version_minor": 0
      },
      "text/plain": [
       "0it [00:00, ?it/s]"
      ]
     },
     "metadata": {},
     "output_type": "display_data"
    },
    {
     "name": "stdout",
     "output_type": "stream",
     "text": [
      "Enumerating monochromatic designs on level 3\n"
     ]
    },
    {
     "data": {
      "application/vnd.jupyter.widget-view+json": {
       "model_id": "4fac270bb3564b2881f5fa42f94c6a27",
       "version_major": 2,
       "version_minor": 0
      },
      "text/plain": [
       "0it [00:00, ?it/s]"
      ]
     },
     "metadata": {},
     "output_type": "display_data"
    },
    {
     "name": "stdout",
     "output_type": "stream",
     "text": [
      "Testing 0 designs with WL... (triangles only)\n"
     ]
    },
    {
     "data": {
      "application/vnd.jupyter.widget-view+json": {
       "model_id": "db006870bc9347948555c04dff895fbe",
       "version_major": 2,
       "version_minor": 0
      },
      "text/plain": [
       "0it [00:00, ?it/s]"
      ]
     },
     "metadata": {},
     "output_type": "display_data"
    },
    {
     "name": "stdout",
     "output_type": "stream",
     "text": [
      "Searching for coherent refinements of <SAS of degree 6 and ranks [1, 4, 8, 10, 8, 4, 1]>\n",
      "Summary: (6, 36, [1, 4, 8, 10, 8, 4, 1], False, True, 'C2 x C2')\n"
     ]
    },
    {
     "data": {
      "application/vnd.jupyter.widget-view+json": {
       "model_id": "053fdf299ad5435e899dbb9841c829c8",
       "version_major": 2,
       "version_minor": 0
      },
      "text/plain": [
       "0it [00:00, ?it/s]"
      ]
     },
     "metadata": {},
     "output_type": "display_data"
    },
    {
     "name": "stdout",
     "output_type": "stream",
     "text": [
      "Enumerating monochromatic designs on level 2\n"
     ]
    },
    {
     "data": {
      "application/vnd.jupyter.widget-view+json": {
       "model_id": "0feb465f157c41599365b271b169e380",
       "version_major": 2,
       "version_minor": 0
      },
      "text/plain": [
       "0it [00:00, ?it/s]"
      ]
     },
     "metadata": {},
     "output_type": "display_data"
    },
    {
     "name": "stdout",
     "output_type": "stream",
     "text": [
      "Enumerating monochromatic designs on level 3\n"
     ]
    },
    {
     "data": {
      "application/vnd.jupyter.widget-view+json": {
       "model_id": "9e38cd1fc9964d9d950edb9aa613c705",
       "version_major": 2,
       "version_minor": 0
      },
      "text/plain": [
       "0it [00:00, ?it/s]"
      ]
     },
     "metadata": {},
     "output_type": "display_data"
    },
    {
     "name": "stdout",
     "output_type": "stream",
     "text": [
      "Testing 1 designs with WL... (triangles only)\n"
     ]
    },
    {
     "data": {
      "application/vnd.jupyter.widget-view+json": {
       "model_id": "9c4027d504f140c899609a3863d21fc4",
       "version_major": 2,
       "version_minor": 0
      },
      "text/plain": [
       "  0%|          | 0/1 [00:00<?, ?it/s]"
      ]
     },
     "metadata": {},
     "output_type": "display_data"
    },
    {
     "name": "stdout",
     "output_type": "stream",
     "text": [
      "Found: <SAS of degree 6 and ranks [1, 4, 9, 12, 9, 4, 1]>\n",
      "Summary: (6, 40, [1, 4, 9, 12, 9, 4, 1], False, True, 'C2')\n",
      "Searching for coherent refinements of <SAS of degree 6 and ranks [1, 4, 9, 12, 9, 4, 1]>\n",
      "Summary: (6, 40, [1, 4, 9, 12, 9, 4, 1], False, True, 'C2')\n"
     ]
    },
    {
     "data": {
      "application/vnd.jupyter.widget-view+json": {
       "model_id": "bc6e08cd5bd54692a9415e8875443d1d",
       "version_major": 2,
       "version_minor": 0
      },
      "text/plain": [
       "0it [00:00, ?it/s]"
      ]
     },
     "metadata": {},
     "output_type": "display_data"
    },
    {
     "name": "stdout",
     "output_type": "stream",
     "text": [
      "Enumerating monochromatic designs on level 2\n"
     ]
    },
    {
     "data": {
      "application/vnd.jupyter.widget-view+json": {
       "model_id": "980f702680cc43e98e39f23bb77349f8",
       "version_major": 2,
       "version_minor": 0
      },
      "text/plain": [
       "0it [00:00, ?it/s]"
      ]
     },
     "metadata": {},
     "output_type": "display_data"
    },
    {
     "name": "stdout",
     "output_type": "stream",
     "text": [
      "Enumerating monochromatic designs on level 3\n"
     ]
    },
    {
     "data": {
      "application/vnd.jupyter.widget-view+json": {
       "model_id": "9fa3375bd9c245c596218e4adcc0b9c4",
       "version_major": 2,
       "version_minor": 0
      },
      "text/plain": [
       "0it [00:00, ?it/s]"
      ]
     },
     "metadata": {},
     "output_type": "display_data"
    },
    {
     "name": "stdout",
     "output_type": "stream",
     "text": [
      "Testing 0 designs with WL... (triangles only)\n"
     ]
    },
    {
     "data": {
      "application/vnd.jupyter.widget-view+json": {
       "model_id": "a9bdf689af4947deb88ee621d6901efd",
       "version_major": 2,
       "version_minor": 0
      },
      "text/plain": [
       "0it [00:00, ?it/s]"
      ]
     },
     "metadata": {},
     "output_type": "display_data"
    },
    {
     "name": "stdout",
     "output_type": "stream",
     "text": [
      "Searching for coherent refinements of <SAS of degree 6 and ranks [1, 5, 11, 14, 11, 5, 1]>\n",
      "Summary: (6, 48, [1, 5, 11, 14, 11, 5, 1], False, True, 'C2')\n"
     ]
    },
    {
     "data": {
      "application/vnd.jupyter.widget-view+json": {
       "model_id": "f8f6faee9ff7480682f6c25011a01baa",
       "version_major": 2,
       "version_minor": 0
      },
      "text/plain": [
       "0it [00:00, ?it/s]"
      ]
     },
     "metadata": {},
     "output_type": "display_data"
    },
    {
     "name": "stdout",
     "output_type": "stream",
     "text": [
      "Enumerating monochromatic designs on level 2\n"
     ]
    },
    {
     "data": {
      "application/vnd.jupyter.widget-view+json": {
       "model_id": "f17c27a052264dedaade38659a7e1f66",
       "version_major": 2,
       "version_minor": 0
      },
      "text/plain": [
       "0it [00:00, ?it/s]"
      ]
     },
     "metadata": {},
     "output_type": "display_data"
    },
    {
     "name": "stdout",
     "output_type": "stream",
     "text": [
      "Enumerating monochromatic designs on level 3\n"
     ]
    },
    {
     "data": {
      "application/vnd.jupyter.widget-view+json": {
       "model_id": "ad21f0cb15024509a156bb4ce9dbc149",
       "version_major": 2,
       "version_minor": 0
      },
      "text/plain": [
       "0it [00:00, ?it/s]"
      ]
     },
     "metadata": {},
     "output_type": "display_data"
    },
    {
     "name": "stdout",
     "output_type": "stream",
     "text": [
      "Testing 0 designs with WL... (triangles only)\n"
     ]
    },
    {
     "data": {
      "application/vnd.jupyter.widget-view+json": {
       "model_id": "4e9f57be3be049ee8c8f773f7f84e28f",
       "version_major": 2,
       "version_minor": 0
      },
      "text/plain": [
       "0it [00:00, ?it/s]"
      ]
     },
     "metadata": {},
     "output_type": "display_data"
    },
    {
     "name": "stdout",
     "output_type": "stream",
     "text": [
      "Searching for coherent refinements of <SAS of degree 6 and ranks [1, 6, 15, 20, 15, 6, 1]>\n",
      "Summary: (6, 64, [1, 6, 15, 20, 15, 6, 1], False, True, '1')\n"
     ]
    },
    {
     "data": {
      "application/vnd.jupyter.widget-view+json": {
       "model_id": "fc28d2c483a44ac4828cab93942ccabe",
       "version_major": 2,
       "version_minor": 0
      },
      "text/plain": [
       "0it [00:00, ?it/s]"
      ]
     },
     "metadata": {},
     "output_type": "display_data"
    },
    {
     "name": "stdout",
     "output_type": "stream",
     "text": [
      "Enumerating monochromatic designs on level 2\n"
     ]
    },
    {
     "data": {
      "application/vnd.jupyter.widget-view+json": {
       "model_id": "25cfd914c86a469dace6eefaaa250d3d",
       "version_major": 2,
       "version_minor": 0
      },
      "text/plain": [
       "0it [00:00, ?it/s]"
      ]
     },
     "metadata": {},
     "output_type": "display_data"
    },
    {
     "name": "stdout",
     "output_type": "stream",
     "text": [
      "Enumerating monochromatic designs on level 3\n"
     ]
    },
    {
     "data": {
      "application/vnd.jupyter.widget-view+json": {
       "model_id": "4e2db2df083941008a13bbcabd3431d1",
       "version_major": 2,
       "version_minor": 0
      },
      "text/plain": [
       "0it [00:00, ?it/s]"
      ]
     },
     "metadata": {},
     "output_type": "display_data"
    },
    {
     "name": "stdout",
     "output_type": "stream",
     "text": [
      "Testing 0 designs with WL... (triangles only)\n"
     ]
    },
    {
     "data": {
      "application/vnd.jupyter.widget-view+json": {
       "model_id": "49d5bc8fc56a4b31bf6bf79684a4918e",
       "version_major": 2,
       "version_minor": 0
      },
      "text/plain": [
       "0it [00:00, ?it/s]"
      ]
     },
     "metadata": {},
     "output_type": "display_data"
    }
   ],
   "source": [
    "all_sas = []\n",
    "all_sas.extend(SAS.find_all(n, verbosity=2))"
   ]
  },
  {
   "cell_type": "code",
   "execution_count": 7,
   "metadata": {},
   "outputs": [
    {
     "data": {
      "text/html": [
       "<div class=\"notruncate\">\n",
       "<table  class=\"table_form\">\n",
       "<tbody>\n",
       "<tr>\n",
       "<th>n</th>\n",
       "<th>total rank</th>\n",
       "<th>ranks</th>\n",
       "<th>homogeneous?</th>\n",
       "<th>schurian?</th>\n",
       "<th><script type=\"math/tex\">\\mathrm{Aut}(\\mathfrak{S})</script></th>\n",
       "</tr>\n",
       "<tr class =\"row-a\">\n",
       "<td><script type=\"math/tex\">6</script></td>\n",
       "<td><script type=\"math/tex\">7</script></td>\n",
       "<td><script type=\"math/tex\">\\left[1, 1, 1, 1, 1, 1, 1\\right]</script></td>\n",
       "<td><script type=\"math/tex\">\\mathrm{True}</script></td>\n",
       "<td><script type=\"math/tex\">\\mathrm{True}</script></td>\n",
       "<td>S6</td>\n",
       "</tr>\n",
       "<tr class =\"row-b\">\n",
       "<td><script type=\"math/tex\">6</script></td>\n",
       "<td><script type=\"math/tex\">10</script></td>\n",
       "<td><script type=\"math/tex\">\\left[1, 1, 2, 2, 2, 1, 1\\right]</script></td>\n",
       "<td><script type=\"math/tex\">\\mathrm{True}</script></td>\n",
       "<td><script type=\"math/tex\">\\mathrm{True}</script></td>\n",
       "<td>C2 x S4</td>\n",
       "</tr>\n",
       "<tr class =\"row-a\">\n",
       "<td><script type=\"math/tex\">6</script></td>\n",
       "<td><script type=\"math/tex\">8</script></td>\n",
       "<td><script type=\"math/tex\">\\left[1, 1, 1, 2, 1, 1, 1\\right]</script></td>\n",
       "<td><script type=\"math/tex\">\\mathrm{True}</script></td>\n",
       "<td><script type=\"math/tex\">\\mathrm{True}</script></td>\n",
       "<td>A5</td>\n",
       "</tr>\n",
       "<tr class =\"row-b\">\n",
       "<td><script type=\"math/tex\">6</script></td>\n",
       "<td><script type=\"math/tex\">10</script></td>\n",
       "<td><script type=\"math/tex\">\\left[1, 1, 2, 2, 2, 1, 1\\right]</script></td>\n",
       "<td><script type=\"math/tex\">\\mathrm{True}</script></td>\n",
       "<td><script type=\"math/tex\">\\mathrm{True}</script></td>\n",
       "<td>(S3 x S3) : C2</td>\n",
       "</tr>\n",
       "<tr class =\"row-a\">\n",
       "<td><script type=\"math/tex\">6</script></td>\n",
       "<td><script type=\"math/tex\">13</script></td>\n",
       "<td><script type=\"math/tex\">\\left[1, 1, 3, 3, 3, 1, 1\\right]</script></td>\n",
       "<td><script type=\"math/tex\">\\mathrm{True}</script></td>\n",
       "<td><script type=\"math/tex\">\\mathrm{True}</script></td>\n",
       "<td>D6</td>\n",
       "</tr>\n",
       "<tr class =\"row-b\">\n",
       "<td><script type=\"math/tex\">6</script></td>\n",
       "<td><script type=\"math/tex\">16</script></td>\n",
       "<td><script type=\"math/tex\">\\left[1, 1, 4, 4, 4, 1, 1\\right]</script></td>\n",
       "<td><script type=\"math/tex\">\\mathrm{True}</script></td>\n",
       "<td><script type=\"math/tex\">\\mathrm{True}</script></td>\n",
       "<td>S3</td>\n",
       "</tr>\n",
       "<tr class =\"row-a\">\n",
       "<td><script type=\"math/tex\">6</script></td>\n",
       "<td><script type=\"math/tex\">11</script></td>\n",
       "<td><script type=\"math/tex\">\\left[1, 1, 2, 3, 2, 1, 1\\right]</script></td>\n",
       "<td><script type=\"math/tex\">\\mathrm{True}</script></td>\n",
       "<td><script type=\"math/tex\">\\mathrm{True}</script></td>\n",
       "<td>C2 x A4</td>\n",
       "</tr>\n",
       "<tr class =\"row-b\">\n",
       "<td><script type=\"math/tex\">6</script></td>\n",
       "<td><script type=\"math/tex\">11</script></td>\n",
       "<td><script type=\"math/tex\">\\left[1, 1, 2, 3, 2, 1, 1\\right]</script></td>\n",
       "<td><script type=\"math/tex\">\\mathrm{True}</script></td>\n",
       "<td><script type=\"math/tex\">\\mathrm{True}</script></td>\n",
       "<td>S4</td>\n",
       "</tr>\n",
       "<tr class =\"row-a\">\n",
       "<td><script type=\"math/tex\">6</script></td>\n",
       "<td><script type=\"math/tex\">14</script></td>\n",
       "<td><script type=\"math/tex\">\\left[1, 1, 3, 4, 3, 1, 1\\right]</script></td>\n",
       "<td><script type=\"math/tex\">\\mathrm{True}</script></td>\n",
       "<td><script type=\"math/tex\">\\mathrm{True}</script></td>\n",
       "<td>C6</td>\n",
       "</tr>\n",
       "<tr class =\"row-b\">\n",
       "<td><script type=\"math/tex\">6</script></td>\n",
       "<td><script type=\"math/tex\">12</script></td>\n",
       "<td><script type=\"math/tex\">\\left[1, 1, 2, 4, 2, 1, 1\\right]</script></td>\n",
       "<td><script type=\"math/tex\">\\mathrm{True}</script></td>\n",
       "<td><script type=\"math/tex\">\\mathrm{True}</script></td>\n",
       "<td>A4</td>\n",
       "</tr>\n",
       "<tr class =\"row-a\">\n",
       "<td><script type=\"math/tex\">6</script></td>\n",
       "<td><script type=\"math/tex\">12</script></td>\n",
       "<td><script type=\"math/tex\">\\left[1, 2, 2, 2, 2, 2, 1\\right]</script></td>\n",
       "<td><script type=\"math/tex\">\\mathrm{False}</script></td>\n",
       "<td><script type=\"math/tex\">\\mathrm{True}</script></td>\n",
       "<td>S5</td>\n",
       "</tr>\n",
       "<tr class =\"row-b\">\n",
       "<td><script type=\"math/tex\">6</script></td>\n",
       "<td><script type=\"math/tex\">16</script></td>\n",
       "<td><script type=\"math/tex\">\\left[1, 2, 3, 4, 3, 2, 1\\right]</script></td>\n",
       "<td><script type=\"math/tex\">\\mathrm{False}</script></td>\n",
       "<td><script type=\"math/tex\">\\mathrm{True}</script></td>\n",
       "<td>D5</td>\n",
       "</tr>\n",
       "<tr class =\"row-a\">\n",
       "<td><script type=\"math/tex\">6</script></td>\n",
       "<td><script type=\"math/tex\">15</script></td>\n",
       "<td><script type=\"math/tex\">\\left[1, 2, 3, 3, 3, 2, 1\\right]</script></td>\n",
       "<td><script type=\"math/tex\">\\mathrm{False}</script></td>\n",
       "<td><script type=\"math/tex\">\\mathrm{True}</script></td>\n",
       "<td>C2 x S4</td>\n",
       "</tr>\n",
       "<tr class =\"row-b\">\n",
       "<td><script type=\"math/tex\">6</script></td>\n",
       "<td><script type=\"math/tex\">18</script></td>\n",
       "<td><script type=\"math/tex\">\\left[1, 2, 4, 4, 4, 2, 1\\right]</script></td>\n",
       "<td><script type=\"math/tex\">\\mathrm{False}</script></td>\n",
       "<td><script type=\"math/tex\">\\mathrm{True}</script></td>\n",
       "<td>C2 x D4</td>\n",
       "</tr>\n",
       "<tr class =\"row-a\">\n",
       "<td><script type=\"math/tex\">6</script></td>\n",
       "<td><script type=\"math/tex\">21</script></td>\n",
       "<td><script type=\"math/tex\">\\left[1, 2, 5, 5, 5, 2, 1\\right]</script></td>\n",
       "<td><script type=\"math/tex\">\\mathrm{False}</script></td>\n",
       "<td><script type=\"math/tex\">\\mathrm{True}</script></td>\n",
       "<td>D4</td>\n",
       "</tr>\n",
       "<tr class =\"row-b\">\n",
       "<td><script type=\"math/tex\">6</script></td>\n",
       "<td><script type=\"math/tex\">19</script></td>\n",
       "<td><script type=\"math/tex\">\\left[1, 2, 4, 5, 4, 2, 1\\right]</script></td>\n",
       "<td><script type=\"math/tex\">\\mathrm{False}</script></td>\n",
       "<td><script type=\"math/tex\">\\mathrm{True}</script></td>\n",
       "<td>D4</td>\n",
       "</tr>\n",
       "<tr class =\"row-a\">\n",
       "<td><script type=\"math/tex\">6</script></td>\n",
       "<td><script type=\"math/tex\">24</script></td>\n",
       "<td><script type=\"math/tex\">\\left[1, 2, 6, 6, 6, 2, 1\\right]</script></td>\n",
       "<td><script type=\"math/tex\">\\mathrm{False}</script></td>\n",
       "<td><script type=\"math/tex\">\\mathrm{True}</script></td>\n",
       "<td>C2 x C2</td>\n",
       "</tr>\n",
       "<tr class =\"row-b\">\n",
       "<td><script type=\"math/tex\">6</script></td>\n",
       "<td><script type=\"math/tex\">21</script></td>\n",
       "<td><script type=\"math/tex\">\\left[1, 2, 5, 5, 5, 2, 1\\right]</script></td>\n",
       "<td><script type=\"math/tex\">\\mathrm{False}</script></td>\n",
       "<td><script type=\"math/tex\">\\mathrm{True}</script></td>\n",
       "<td>C2 x C2 x C2</td>\n",
       "</tr>\n",
       "<tr class =\"row-a\">\n",
       "<td><script type=\"math/tex\">6</script></td>\n",
       "<td><script type=\"math/tex\">22</script></td>\n",
       "<td><script type=\"math/tex\">\\left[1, 2, 5, 6, 5, 2, 1\\right]</script></td>\n",
       "<td><script type=\"math/tex\">\\mathrm{False}</script></td>\n",
       "<td><script type=\"math/tex\">\\mathrm{True}</script></td>\n",
       "<td>C4</td>\n",
       "</tr>\n",
       "<tr class =\"row-b\">\n",
       "<td><script type=\"math/tex\">6</script></td>\n",
       "<td><script type=\"math/tex\">20</script></td>\n",
       "<td><script type=\"math/tex\">\\left[1, 3, 4, 4, 4, 3, 1\\right]</script></td>\n",
       "<td><script type=\"math/tex\">\\mathrm{False}</script></td>\n",
       "<td><script type=\"math/tex\">\\mathrm{True}</script></td>\n",
       "<td>S4</td>\n",
       "</tr>\n",
       "<tr class =\"row-a\">\n",
       "<td><script type=\"math/tex\">6</script></td>\n",
       "<td><script type=\"math/tex\">24</script></td>\n",
       "<td><script type=\"math/tex\">\\left[1, 3, 5, 6, 5, 3, 1\\right]</script></td>\n",
       "<td><script type=\"math/tex\">\\mathrm{False}</script></td>\n",
       "<td><script type=\"math/tex\">\\mathrm{True}</script></td>\n",
       "<td>D4</td>\n",
       "</tr>\n",
       "<tr class =\"row-b\">\n",
       "<td><script type=\"math/tex\">6</script></td>\n",
       "<td><script type=\"math/tex\">28</script></td>\n",
       "<td><script type=\"math/tex\">\\left[1, 3, 6, 8, 6, 3, 1\\right]</script></td>\n",
       "<td><script type=\"math/tex\">\\mathrm{False}</script></td>\n",
       "<td><script type=\"math/tex\">\\mathrm{True}</script></td>\n",
       "<td>C2 x C2</td>\n",
       "</tr>\n",
       "<tr class =\"row-a\">\n",
       "<td><script type=\"math/tex\">6</script></td>\n",
       "<td><script type=\"math/tex\">16</script></td>\n",
       "<td><script type=\"math/tex\">\\left[1, 2, 3, 4, 3, 2, 1\\right]</script></td>\n",
       "<td><script type=\"math/tex\">\\mathrm{False}</script></td>\n",
       "<td><script type=\"math/tex\">\\mathrm{True}</script></td>\n",
       "<td>S3 x S3</td>\n",
       "</tr>\n",
       "<tr class =\"row-b\">\n",
       "<td><script type=\"math/tex\">6</script></td>\n",
       "<td><script type=\"math/tex\">20</script></td>\n",
       "<td><script type=\"math/tex\">\\left[1, 2, 4, 6, 4, 2, 1\\right]</script></td>\n",
       "<td><script type=\"math/tex\">\\mathrm{False}</script></td>\n",
       "<td><script type=\"math/tex\">\\mathrm{True}</script></td>\n",
       "<td>S3</td>\n",
       "</tr>\n",
       "<tr class =\"row-a\">\n",
       "<td><script type=\"math/tex\">6</script></td>\n",
       "<td><script type=\"math/tex\">24</script></td>\n",
       "<td><script type=\"math/tex\">\\left[1, 2, 5, 8, 5, 2, 1\\right]</script></td>\n",
       "<td><script type=\"math/tex\">\\mathrm{False}</script></td>\n",
       "<td><script type=\"math/tex\">\\mathrm{True}</script></td>\n",
       "<td>C3</td>\n",
       "</tr>\n",
       "<tr class =\"row-b\">\n",
       "<td><script type=\"math/tex\">6</script></td>\n",
       "<td><script type=\"math/tex\">24</script></td>\n",
       "<td><script type=\"math/tex\">\\left[1, 3, 5, 6, 5, 3, 1\\right]</script></td>\n",
       "<td><script type=\"math/tex\">\\mathrm{False}</script></td>\n",
       "<td><script type=\"math/tex\">\\mathrm{True}</script></td>\n",
       "<td>D6</td>\n",
       "</tr>\n",
       "<tr class =\"row-a\">\n",
       "<td><script type=\"math/tex\">6</script></td>\n",
       "<td><script type=\"math/tex\">32</script></td>\n",
       "<td><script type=\"math/tex\">\\left[1, 4, 7, 8, 7, 4, 1\\right]</script></td>\n",
       "<td><script type=\"math/tex\">\\mathrm{False}</script></td>\n",
       "<td><script type=\"math/tex\">\\mathrm{True}</script></td>\n",
       "<td>S3</td>\n",
       "</tr>\n",
       "<tr class =\"row-b\">\n",
       "<td><script type=\"math/tex\">6</script></td>\n",
       "<td><script type=\"math/tex\">27</script></td>\n",
       "<td><script type=\"math/tex\">\\left[1, 3, 6, 7, 6, 3, 1\\right]</script></td>\n",
       "<td><script type=\"math/tex\">\\mathrm{False}</script></td>\n",
       "<td><script type=\"math/tex\">\\mathrm{True}</script></td>\n",
       "<td>C2 x C2 x C2</td>\n",
       "</tr>\n",
       "<tr class =\"row-a\">\n",
       "<td><script type=\"math/tex\">6</script></td>\n",
       "<td><script type=\"math/tex\">30</script></td>\n",
       "<td><script type=\"math/tex\">\\left[1, 3, 7, 8, 7, 3, 1\\right]</script></td>\n",
       "<td><script type=\"math/tex\">\\mathrm{False}</script></td>\n",
       "<td><script type=\"math/tex\">\\mathrm{True}</script></td>\n",
       "<td>C2 x C2</td>\n",
       "</tr>\n",
       "<tr class =\"row-b\">\n",
       "<td><script type=\"math/tex\">6</script></td>\n",
       "<td><script type=\"math/tex\">28</script></td>\n",
       "<td><script type=\"math/tex\">\\left[1, 3, 6, 8, 6, 3, 1\\right]</script></td>\n",
       "<td><script type=\"math/tex\">\\mathrm{False}</script></td>\n",
       "<td><script type=\"math/tex\">\\mathrm{True}</script></td>\n",
       "<td>C2 x C2</td>\n",
       "</tr>\n",
       "<tr class =\"row-a\">\n",
       "<td><script type=\"math/tex\">6</script></td>\n",
       "<td><script type=\"math/tex\">36</script></td>\n",
       "<td><script type=\"math/tex\">\\left[1, 3, 9, 10, 9, 3, 1\\right]</script></td>\n",
       "<td><script type=\"math/tex\">\\mathrm{False}</script></td>\n",
       "<td><script type=\"math/tex\">\\mathrm{True}</script></td>\n",
       "<td>C2</td>\n",
       "</tr>\n",
       "<tr class =\"row-b\">\n",
       "<td><script type=\"math/tex\">6</script></td>\n",
       "<td><script type=\"math/tex\">36</script></td>\n",
       "<td><script type=\"math/tex\">\\left[1, 4, 8, 10, 8, 4, 1\\right]</script></td>\n",
       "<td><script type=\"math/tex\">\\mathrm{False}</script></td>\n",
       "<td><script type=\"math/tex\">\\mathrm{True}</script></td>\n",
       "<td>C2 x C2</td>\n",
       "</tr>\n",
       "<tr class =\"row-a\">\n",
       "<td><script type=\"math/tex\">6</script></td>\n",
       "<td><script type=\"math/tex\">40</script></td>\n",
       "<td><script type=\"math/tex\">\\left[1, 4, 9, 12, 9, 4, 1\\right]</script></td>\n",
       "<td><script type=\"math/tex\">\\mathrm{False}</script></td>\n",
       "<td><script type=\"math/tex\">\\mathrm{True}</script></td>\n",
       "<td>C2</td>\n",
       "</tr>\n",
       "<tr class =\"row-b\">\n",
       "<td><script type=\"math/tex\">6</script></td>\n",
       "<td><script type=\"math/tex\">48</script></td>\n",
       "<td><script type=\"math/tex\">\\left[1, 5, 11, 14, 11, 5, 1\\right]</script></td>\n",
       "<td><script type=\"math/tex\">\\mathrm{False}</script></td>\n",
       "<td><script type=\"math/tex\">\\mathrm{True}</script></td>\n",
       "<td>C2</td>\n",
       "</tr>\n",
       "<tr class =\"row-a\">\n",
       "<td><script type=\"math/tex\">6</script></td>\n",
       "<td><script type=\"math/tex\">64</script></td>\n",
       "<td><script type=\"math/tex\">\\left[1, 6, 15, 20, 15, 6, 1\\right]</script></td>\n",
       "<td><script type=\"math/tex\">\\mathrm{False}</script></td>\n",
       "<td><script type=\"math/tex\">\\mathrm{True}</script></td>\n",
       "<td>1</td>\n",
       "</tr>\n",
       "</tbody>\n",
       "</table>\n",
       "</div>"
      ],
      "text/plain": [
       "  n   total rank   ranks                      homogeneous?   schurian?   $\\mathrm{Aut}(\\mathfrak{S})$\n",
       "+---+------------+--------------------------+--------------+-----------+------------------------------+\n",
       "  6   7            [1, 1, 1, 1, 1, 1, 1]      True           True        S6\n",
       "  6   10           [1, 1, 2, 2, 2, 1, 1]      True           True        C2 x S4\n",
       "  6   8            [1, 1, 1, 2, 1, 1, 1]      True           True        A5\n",
       "  6   10           [1, 1, 2, 2, 2, 1, 1]      True           True        (S3 x S3) : C2\n",
       "  6   13           [1, 1, 3, 3, 3, 1, 1]      True           True        D6\n",
       "  6   16           [1, 1, 4, 4, 4, 1, 1]      True           True        S3\n",
       "  6   11           [1, 1, 2, 3, 2, 1, 1]      True           True        C2 x A4\n",
       "  6   11           [1, 1, 2, 3, 2, 1, 1]      True           True        S4\n",
       "  6   14           [1, 1, 3, 4, 3, 1, 1]      True           True        C6\n",
       "  6   12           [1, 1, 2, 4, 2, 1, 1]      True           True        A4\n",
       "  6   12           [1, 2, 2, 2, 2, 2, 1]      False          True        S5\n",
       "  6   16           [1, 2, 3, 4, 3, 2, 1]      False          True        D5\n",
       "  6   15           [1, 2, 3, 3, 3, 2, 1]      False          True        C2 x S4\n",
       "  6   18           [1, 2, 4, 4, 4, 2, 1]      False          True        C2 x D4\n",
       "  6   21           [1, 2, 5, 5, 5, 2, 1]      False          True        D4\n",
       "  6   19           [1, 2, 4, 5, 4, 2, 1]      False          True        D4\n",
       "  6   24           [1, 2, 6, 6, 6, 2, 1]      False          True        C2 x C2\n",
       "  6   21           [1, 2, 5, 5, 5, 2, 1]      False          True        C2 x C2 x C2\n",
       "  6   22           [1, 2, 5, 6, 5, 2, 1]      False          True        C4\n",
       "  6   20           [1, 3, 4, 4, 4, 3, 1]      False          True        S4\n",
       "  6   24           [1, 3, 5, 6, 5, 3, 1]      False          True        D4\n",
       "  6   28           [1, 3, 6, 8, 6, 3, 1]      False          True        C2 x C2\n",
       "  6   16           [1, 2, 3, 4, 3, 2, 1]      False          True        S3 x S3\n",
       "  6   20           [1, 2, 4, 6, 4, 2, 1]      False          True        S3\n",
       "  6   24           [1, 2, 5, 8, 5, 2, 1]      False          True        C3\n",
       "  6   24           [1, 3, 5, 6, 5, 3, 1]      False          True        D6\n",
       "  6   32           [1, 4, 7, 8, 7, 4, 1]      False          True        S3\n",
       "  6   27           [1, 3, 6, 7, 6, 3, 1]      False          True        C2 x C2 x C2\n",
       "  6   30           [1, 3, 7, 8, 7, 3, 1]      False          True        C2 x C2\n",
       "  6   28           [1, 3, 6, 8, 6, 3, 1]      False          True        C2 x C2\n",
       "  6   36           [1, 3, 9, 10, 9, 3, 1]     False          True        C2\n",
       "  6   36           [1, 4, 8, 10, 8, 4, 1]     False          True        C2 x C2\n",
       "  6   40           [1, 4, 9, 12, 9, 4, 1]     False          True        C2\n",
       "  6   48           [1, 5, 11, 14, 11, 5, 1]   False          True        C2\n",
       "  6   64           [1, 6, 15, 20, 15, 6, 1]   False          True        1"
      ]
     },
     "execution_count": 7,
     "metadata": {},
     "output_type": "execute_result"
    }
   ],
   "source": [
    "table([s.summary() for s in all_sas],\n",
    "      header_row=('n', 'total rank', 'ranks', 'homogeneous?', 'schurian?', r'$\\mathrm{Aut}(\\mathfrak{S})$'))"
   ]
  },
  {
   "cell_type": "markdown",
   "metadata": {},
   "source": [
    "## $n = 7$"
   ]
  },
  {
   "cell_type": "code",
   "execution_count": 8,
   "metadata": {},
   "outputs": [],
   "source": [
    "n = 7"
   ]
  },
  {
   "cell_type": "code",
   "execution_count": 9,
   "metadata": {},
   "outputs": [
    {
     "name": "stdout",
     "output_type": "stream",
     "text": [
      "Searching for coherent refinements of <SAS of degree 7 and ranks [1, 1, 1, 1, 1, 1, 1, 1]>\n",
      "Summary: (7, 8, [1, 1, 1, 1, 1, 1, 1, 1], True, True, 'S7')\n"
     ]
    },
    {
     "data": {
      "application/vnd.jupyter.widget-view+json": {
       "model_id": "54b11a0c9afb47b0b0c322294e570e41",
       "version_major": 2,
       "version_minor": 0
      },
      "text/plain": [
       "0it [00:00, ?it/s]"
      ]
     },
     "metadata": {},
     "output_type": "display_data"
    },
    {
     "name": "stdout",
     "output_type": "stream",
     "text": [
      "Enumerating monochromatic designs on level 2\n"
     ]
    },
    {
     "data": {
      "application/vnd.jupyter.widget-view+json": {
       "model_id": "24096d9767914dc2a1a03fbcfc8f0b5d",
       "version_major": 2,
       "version_minor": 0
      },
      "text/plain": [
       "0it [00:00, ?it/s]"
      ]
     },
     "metadata": {},
     "output_type": "display_data"
    },
    {
     "name": "stdout",
     "output_type": "stream",
     "text": [
      "Enumerating monochromatic designs on level 3\n"
     ]
    },
    {
     "data": {
      "application/vnd.jupyter.widget-view+json": {
       "model_id": "9c9adc89cb574c00aa486c9f0e6c84b8",
       "version_major": 2,
       "version_minor": 0
      },
      "text/plain": [
       "0it [00:00, ?it/s]"
      ]
     },
     "metadata": {},
     "output_type": "display_data"
    },
    {
     "name": "stdout",
     "output_type": "stream",
     "text": [
      "Testing 4 designs with WL... (triangles only)\n"
     ]
    },
    {
     "data": {
      "application/vnd.jupyter.widget-view+json": {
       "model_id": "7098efccb12145eaad5692b0f98fdd13",
       "version_major": 2,
       "version_minor": 0
      },
      "text/plain": [
       "  0%|          | 0/4 [00:00<?, ?it/s]"
      ]
     },
     "metadata": {},
     "output_type": "display_data"
    },
    {
     "name": "stdout",
     "output_type": "stream",
     "text": [
      "Found: <SAS of degree 7 and ranks [1, 1, 3, 4, 4, 3, 1, 1]>\n",
      "Summary: (7, 18, [1, 1, 3, 4, 4, 3, 1, 1], True, True, 'D7')\n",
      "Found: <SAS of degree 7 and ranks [1, 1, 1, 2, 2, 1, 1, 1]>\n",
      "Summary: (7, 10, [1, 1, 1, 2, 2, 1, 1, 1], True, True, 'C7 : C6')\n",
      "Found: <SAS of degree 7 and ranks [1, 1, 1, 2, 2, 1, 1, 1]>\n",
      "Summary: (7, 10, [1, 1, 1, 2, 2, 1, 1, 1], True, True, 'PSL(3,2)')\n",
      "Searching for coherent refinements of <SAS of degree 7 and ranks [1, 1, 3, 4, 4, 3, 1, 1]>\n",
      "Summary: (7, 18, [1, 1, 3, 4, 4, 3, 1, 1], True, True, 'D7')\n"
     ]
    },
    {
     "data": {
      "application/vnd.jupyter.widget-view+json": {
       "model_id": "2870fafb2e7d4c568fbb80025672371f",
       "version_major": 2,
       "version_minor": 0
      },
      "text/plain": [
       "0it [00:00, ?it/s]"
      ]
     },
     "metadata": {},
     "output_type": "display_data"
    },
    {
     "name": "stdout",
     "output_type": "stream",
     "text": [
      "Enumerating monochromatic designs on level 2\n"
     ]
    },
    {
     "data": {
      "application/vnd.jupyter.widget-view+json": {
       "model_id": "68a1b207c3e548e5b501938227281483",
       "version_major": 2,
       "version_minor": 0
      },
      "text/plain": [
       "0it [00:00, ?it/s]"
      ]
     },
     "metadata": {},
     "output_type": "display_data"
    },
    {
     "name": "stdout",
     "output_type": "stream",
     "text": [
      "Enumerating monochromatic designs on level 3\n"
     ]
    },
    {
     "data": {
      "application/vnd.jupyter.widget-view+json": {
       "model_id": "345520506af64d6fb027faa7babc7c9c",
       "version_major": 2,
       "version_minor": 0
      },
      "text/plain": [
       "0it [00:00, ?it/s]"
      ]
     },
     "metadata": {},
     "output_type": "display_data"
    },
    {
     "name": "stdout",
     "output_type": "stream",
     "text": [
      "Testing 1 designs with WL... (triangles only)\n"
     ]
    },
    {
     "data": {
      "application/vnd.jupyter.widget-view+json": {
       "model_id": "a342adbfb8db47c6b54431d48ffd9e5e",
       "version_major": 2,
       "version_minor": 0
      },
      "text/plain": [
       "  0%|          | 0/1 [00:00<?, ?it/s]"
      ]
     },
     "metadata": {},
     "output_type": "display_data"
    },
    {
     "name": "stdout",
     "output_type": "stream",
     "text": [
      "Found: <SAS of degree 7 and ranks [1, 1, 3, 5, 5, 3, 1, 1]>\n",
      "Summary: (7, 20, [1, 1, 3, 5, 5, 3, 1, 1], True, True, 'C7')\n",
      "Searching for coherent refinements of <SAS of degree 7 and ranks [1, 1, 1, 2, 2, 1, 1, 1]>\n",
      "Summary: (7, 10, [1, 1, 1, 2, 2, 1, 1, 1], True, True, 'C7 : C6')\n"
     ]
    },
    {
     "data": {
      "application/vnd.jupyter.widget-view+json": {
       "model_id": "cba6b384f39048a18ae687510d8bbfe3",
       "version_major": 2,
       "version_minor": 0
      },
      "text/plain": [
       "0it [00:00, ?it/s]"
      ]
     },
     "metadata": {},
     "output_type": "display_data"
    },
    {
     "name": "stdout",
     "output_type": "stream",
     "text": [
      "Enumerating monochromatic designs on level 3\n"
     ]
    },
    {
     "data": {
      "application/vnd.jupyter.widget-view+json": {
       "model_id": "8bbb40606ce045a5a2e7d0ec6422c266",
       "version_major": 2,
       "version_minor": 0
      },
      "text/plain": [
       "0it [00:00, ?it/s]"
      ]
     },
     "metadata": {},
     "output_type": "display_data"
    },
    {
     "name": "stdout",
     "output_type": "stream",
     "text": [
      "Testing 1 designs with WL... (triangles only)\n"
     ]
    },
    {
     "data": {
      "application/vnd.jupyter.widget-view+json": {
       "model_id": "e6741406778243399a5a46b8f62eb4c5",
       "version_major": 2,
       "version_minor": 0
      },
      "text/plain": [
       "  0%|          | 0/1 [00:00<?, ?it/s]"
      ]
     },
     "metadata": {},
     "output_type": "display_data"
    },
    {
     "name": "stdout",
     "output_type": "stream",
     "text": [
      "Found: <SAS of degree 7 and ranks [1, 1, 1, 3, 3, 1, 1, 1]>\n",
      "Summary: (7, 12, [1, 1, 1, 3, 3, 1, 1, 1], True, True, 'C7 : C3')\n",
      "Searching for coherent refinements of <SAS of degree 7 and ranks [1, 1, 1, 2, 2, 1, 1, 1]>\n",
      "Summary: (7, 10, [1, 1, 1, 2, 2, 1, 1, 1], True, True, 'PSL(3,2)')\n"
     ]
    },
    {
     "data": {
      "application/vnd.jupyter.widget-view+json": {
       "model_id": "c0c44839ce7948ffa05500de3755e6f1",
       "version_major": 2,
       "version_minor": 0
      },
      "text/plain": [
       "0it [00:00, ?it/s]"
      ]
     },
     "metadata": {},
     "output_type": "display_data"
    },
    {
     "name": "stdout",
     "output_type": "stream",
     "text": [
      "Enumerating monochromatic designs on level 3\n"
     ]
    },
    {
     "data": {
      "application/vnd.jupyter.widget-view+json": {
       "model_id": "a51e6c5ccfc54070bd9590aefd26fe10",
       "version_major": 2,
       "version_minor": 0
      },
      "text/plain": [
       "0it [00:00, ?it/s]"
      ]
     },
     "metadata": {},
     "output_type": "display_data"
    },
    {
     "name": "stdout",
     "output_type": "stream",
     "text": [
      "Testing 1 designs with WL... (triangles only)\n"
     ]
    },
    {
     "data": {
      "application/vnd.jupyter.widget-view+json": {
       "model_id": "90511a4453e7475380d7b40290ca5e3b",
       "version_major": 2,
       "version_minor": 0
      },
      "text/plain": [
       "  0%|          | 0/1 [00:00<?, ?it/s]"
      ]
     },
     "metadata": {},
     "output_type": "display_data"
    },
    {
     "name": "stdout",
     "output_type": "stream",
     "text": [
      "Searching for coherent refinements of <SAS of degree 7 and ranks [1, 1, 3, 5, 5, 3, 1, 1]>\n",
      "Summary: (7, 20, [1, 1, 3, 5, 5, 3, 1, 1], True, True, 'C7')\n"
     ]
    },
    {
     "data": {
      "application/vnd.jupyter.widget-view+json": {
       "model_id": "5352d306bd2044fbb8d21ca2ffb6a98a",
       "version_major": 2,
       "version_minor": 0
      },
      "text/plain": [
       "0it [00:00, ?it/s]"
      ]
     },
     "metadata": {},
     "output_type": "display_data"
    },
    {
     "name": "stdout",
     "output_type": "stream",
     "text": [
      "Enumerating monochromatic designs on level 3\n"
     ]
    },
    {
     "data": {
      "application/vnd.jupyter.widget-view+json": {
       "model_id": "e9307d87bbfe4c599d7a69ff8fad7d88",
       "version_major": 2,
       "version_minor": 0
      },
      "text/plain": [
       "0it [00:00, ?it/s]"
      ]
     },
     "metadata": {},
     "output_type": "display_data"
    },
    {
     "name": "stdout",
     "output_type": "stream",
     "text": [
      "Testing 0 designs with WL... (triangles only)\n"
     ]
    },
    {
     "data": {
      "application/vnd.jupyter.widget-view+json": {
       "model_id": "f4de8c1498c549878dc692af7c77f5a0",
       "version_major": 2,
       "version_minor": 0
      },
      "text/plain": [
       "0it [00:00, ?it/s]"
      ]
     },
     "metadata": {},
     "output_type": "display_data"
    },
    {
     "name": "stdout",
     "output_type": "stream",
     "text": [
      "Searching for coherent refinements of <SAS of degree 7 and ranks [1, 1, 1, 3, 3, 1, 1, 1]>\n",
      "Summary: (7, 12, [1, 1, 1, 3, 3, 1, 1, 1], True, True, 'C7 : C3')\n"
     ]
    },
    {
     "data": {
      "application/vnd.jupyter.widget-view+json": {
       "model_id": "133235ce50e54f40998612fb137d517a",
       "version_major": 2,
       "version_minor": 0
      },
      "text/plain": [
       "0it [00:00, ?it/s]"
      ]
     },
     "metadata": {},
     "output_type": "display_data"
    },
    {
     "name": "stdout",
     "output_type": "stream",
     "text": [
      "Enumerating monochromatic designs on level 3\n"
     ]
    },
    {
     "data": {
      "application/vnd.jupyter.widget-view+json": {
       "model_id": "b2a9c01940104e1fb1bc52acfe486d6f",
       "version_major": 2,
       "version_minor": 0
      },
      "text/plain": [
       "0it [00:00, ?it/s]"
      ]
     },
     "metadata": {},
     "output_type": "display_data"
    },
    {
     "name": "stdout",
     "output_type": "stream",
     "text": [
      "Testing 0 designs with WL... (triangles only)\n"
     ]
    },
    {
     "data": {
      "application/vnd.jupyter.widget-view+json": {
       "model_id": "410d3786a79d40d0a1666c19dd373724",
       "version_major": 2,
       "version_minor": 0
      },
      "text/plain": [
       "0it [00:00, ?it/s]"
      ]
     },
     "metadata": {},
     "output_type": "display_data"
    },
    {
     "name": "stdout",
     "output_type": "stream",
     "text": [
      "Searching for coherent refinements of <SAS of degree 7 and ranks [1, 2, 2, 2, 2, 2, 2, 1]>\n",
      "Summary: (7, 14, [1, 2, 2, 2, 2, 2, 2, 1], False, True, 'S6')\n"
     ]
    },
    {
     "data": {
      "application/vnd.jupyter.widget-view+json": {
       "model_id": "db09e3954985421baca1aaad7437b92b",
       "version_major": 2,
       "version_minor": 0
      },
      "text/plain": [
       "0it [00:00, ?it/s]"
      ]
     },
     "metadata": {},
     "output_type": "display_data"
    },
    {
     "name": "stdout",
     "output_type": "stream",
     "text": [
      "Enumerating monochromatic designs on level 2\n"
     ]
    },
    {
     "data": {
      "application/vnd.jupyter.widget-view+json": {
       "model_id": "c20ca57eba784596a9438de62e0b80a3",
       "version_major": 2,
       "version_minor": 0
      },
      "text/plain": [
       "0it [00:00, ?it/s]"
      ]
     },
     "metadata": {},
     "output_type": "display_data"
    },
    {
     "name": "stdout",
     "output_type": "stream",
     "text": [
      "Enumerating monochromatic designs on level 3\n"
     ]
    },
    {
     "data": {
      "application/vnd.jupyter.widget-view+json": {
       "model_id": "72a2dd3303a54761a682b3f20e9560b9",
       "version_major": 2,
       "version_minor": 0
      },
      "text/plain": [
       "0it [00:00, ?it/s]"
      ]
     },
     "metadata": {},
     "output_type": "display_data"
    },
    {
     "name": "stdout",
     "output_type": "stream",
     "text": [
      "Testing 4 designs with WL... (triangles only)\n"
     ]
    },
    {
     "data": {
      "application/vnd.jupyter.widget-view+json": {
       "model_id": "61c9b6fc2a4948458efb69aa38104ee0",
       "version_major": 2,
       "version_minor": 0
      },
      "text/plain": [
       "  0%|          | 0/4 [00:00<?, ?it/s]"
      ]
     },
     "metadata": {},
     "output_type": "display_data"
    },
    {
     "name": "stdout",
     "output_type": "stream",
     "text": [
      "Found: <SAS of degree 7 and ranks [1, 2, 3, 4, 4, 3, 2, 1]>\n",
      "Summary: (7, 20, [1, 2, 3, 4, 4, 3, 2, 1], False, True, 'C2 x S4')\n",
      "Found: <SAS of degree 7 and ranks [1, 2, 4, 6, 6, 4, 2, 1]>\n",
      "Summary: (7, 26, [1, 2, 4, 6, 6, 4, 2, 1], False, True, 'D6')\n",
      "Found: <SAS of degree 7 and ranks [1, 2, 2, 3, 3, 2, 2, 1]>\n",
      "Summary: (7, 16, [1, 2, 2, 3, 3, 2, 2, 1], False, True, 'A5')\n",
      "Found: <SAS of degree 7 and ranks [1, 2, 3, 4, 4, 3, 2, 1]>\n",
      "Summary: (7, 20, [1, 2, 3, 4, 4, 3, 2, 1], False, True, '(S3 x S3) : C2')\n",
      "Searching for coherent refinements of <SAS of degree 7 and ranks [1, 2, 3, 4, 4, 3, 2, 1]>\n",
      "Summary: (7, 20, [1, 2, 3, 4, 4, 3, 2, 1], False, True, 'C2 x S4')\n"
     ]
    },
    {
     "data": {
      "application/vnd.jupyter.widget-view+json": {
       "model_id": "7a240370478f4c8486313c4d279405ba",
       "version_major": 2,
       "version_minor": 0
      },
      "text/plain": [
       "0it [00:00, ?it/s]"
      ]
     },
     "metadata": {},
     "output_type": "display_data"
    },
    {
     "name": "stdout",
     "output_type": "stream",
     "text": [
      "Enumerating monochromatic designs on level 2\n"
     ]
    },
    {
     "data": {
      "application/vnd.jupyter.widget-view+json": {
       "model_id": "b4be772dc88d42a48cf43c5696790a9f",
       "version_major": 2,
       "version_minor": 0
      },
      "text/plain": [
       "0it [00:00, ?it/s]"
      ]
     },
     "metadata": {},
     "output_type": "display_data"
    },
    {
     "name": "stdout",
     "output_type": "stream",
     "text": [
      "Enumerating monochromatic designs on level 3\n"
     ]
    },
    {
     "data": {
      "application/vnd.jupyter.widget-view+json": {
       "model_id": "e80ce2d30a73468b93ede762cadeaea4",
       "version_major": 2,
       "version_minor": 0
      },
      "text/plain": [
       "0it [00:00, ?it/s]"
      ]
     },
     "metadata": {},
     "output_type": "display_data"
    },
    {
     "name": "stdout",
     "output_type": "stream",
     "text": [
      "Testing 6 designs with WL... (triangles only)\n"
     ]
    },
    {
     "data": {
      "application/vnd.jupyter.widget-view+json": {
       "model_id": "13f1a1ff6b594cf294069c90c845c4bf",
       "version_major": 2,
       "version_minor": 0
      },
      "text/plain": [
       "  0%|          | 0/6 [00:00<?, ?it/s]"
      ]
     },
     "metadata": {},
     "output_type": "display_data"
    },
    {
     "name": "stdout",
     "output_type": "stream",
     "text": [
      "Found: <SAS of degree 7 and ranks [1, 2, 5, 8, 8, 5, 2, 1]>\n",
      "Summary: (7, 32, [1, 2, 5, 8, 8, 5, 2, 1], False, True, 'S3')\n",
      "Found: <SAS of degree 7 and ranks [1, 2, 3, 5, 5, 3, 2, 1]>\n",
      "Summary: (7, 22, [1, 2, 3, 5, 5, 3, 2, 1], False, True, 'S4')\n",
      "Found: <SAS of degree 7 and ranks [1, 2, 3, 5, 5, 3, 2, 1]>\n",
      "Summary: (7, 22, [1, 2, 3, 5, 5, 3, 2, 1], False, True, 'C2 x A4')\n",
      "Searching for coherent refinements of <SAS of degree 7 and ranks [1, 2, 4, 6, 6, 4, 2, 1]>\n",
      "Summary: (7, 26, [1, 2, 4, 6, 6, 4, 2, 1], False, True, 'D6')\n"
     ]
    },
    {
     "data": {
      "application/vnd.jupyter.widget-view+json": {
       "model_id": "025d94f10dce4760b57ff312cc9e7eb2",
       "version_major": 2,
       "version_minor": 0
      },
      "text/plain": [
       "0it [00:00, ?it/s]"
      ]
     },
     "metadata": {},
     "output_type": "display_data"
    },
    {
     "name": "stdout",
     "output_type": "stream",
     "text": [
      "Enumerating monochromatic designs on level 2\n"
     ]
    },
    {
     "data": {
      "application/vnd.jupyter.widget-view+json": {
       "model_id": "2143d82a93994db2bceaa5c468aa8727",
       "version_major": 2,
       "version_minor": 0
      },
      "text/plain": [
       "0it [00:00, ?it/s]"
      ]
     },
     "metadata": {},
     "output_type": "display_data"
    },
    {
     "name": "stdout",
     "output_type": "stream",
     "text": [
      "Enumerating monochromatic designs on level 3\n"
     ]
    },
    {
     "data": {
      "application/vnd.jupyter.widget-view+json": {
       "model_id": "d6f13c91a3884b658079e9edf00c6ab6",
       "version_major": 2,
       "version_minor": 0
      },
      "text/plain": [
       "0it [00:00, ?it/s]"
      ]
     },
     "metadata": {},
     "output_type": "display_data"
    },
    {
     "name": "stdout",
     "output_type": "stream",
     "text": [
      "Testing 2 designs with WL... (triangles only)\n"
     ]
    },
    {
     "data": {
      "application/vnd.jupyter.widget-view+json": {
       "model_id": "9758a67b3dcd44bc95829e20e389fbad",
       "version_major": 2,
       "version_minor": 0
      },
      "text/plain": [
       "  0%|          | 0/2 [00:00<?, ?it/s]"
      ]
     },
     "metadata": {},
     "output_type": "display_data"
    },
    {
     "name": "stdout",
     "output_type": "stream",
     "text": [
      "Found: <SAS of degree 7 and ranks [1, 2, 4, 7, 7, 4, 2, 1]>\n",
      "Summary: (7, 28, [1, 2, 4, 7, 7, 4, 2, 1], False, True, 'C6')\n",
      "Searching for coherent refinements of <SAS of degree 7 and ranks [1, 2, 2, 3, 3, 2, 2, 1]>\n",
      "Summary: (7, 16, [1, 2, 2, 3, 3, 2, 2, 1], False, True, 'A5')\n"
     ]
    },
    {
     "data": {
      "application/vnd.jupyter.widget-view+json": {
       "model_id": "91001a6279d24fe69e5c52c901bf8e71",
       "version_major": 2,
       "version_minor": 0
      },
      "text/plain": [
       "0it [00:00, ?it/s]"
      ]
     },
     "metadata": {},
     "output_type": "display_data"
    },
    {
     "name": "stdout",
     "output_type": "stream",
     "text": [
      "Enumerating monochromatic designs on level 3\n"
     ]
    },
    {
     "data": {
      "application/vnd.jupyter.widget-view+json": {
       "model_id": "dd6031e4b3ca4584848489c9cb8cda74",
       "version_major": 2,
       "version_minor": 0
      },
      "text/plain": [
       "0it [00:00, ?it/s]"
      ]
     },
     "metadata": {},
     "output_type": "display_data"
    },
    {
     "name": "stdout",
     "output_type": "stream",
     "text": [
      "Testing 0 designs with WL... (triangles only)\n"
     ]
    },
    {
     "data": {
      "application/vnd.jupyter.widget-view+json": {
       "model_id": "ca1fb50412aa45b3a288447d52a6b7fb",
       "version_major": 2,
       "version_minor": 0
      },
      "text/plain": [
       "0it [00:00, ?it/s]"
      ]
     },
     "metadata": {},
     "output_type": "display_data"
    },
    {
     "name": "stdout",
     "output_type": "stream",
     "text": [
      "Searching for coherent refinements of <SAS of degree 7 and ranks [1, 2, 3, 4, 4, 3, 2, 1]>\n",
      "Summary: (7, 20, [1, 2, 3, 4, 4, 3, 2, 1], False, True, '(S3 x S3) : C2')\n"
     ]
    },
    {
     "data": {
      "application/vnd.jupyter.widget-view+json": {
       "model_id": "bf4d4729622a4930a974026ecd564bba",
       "version_major": 2,
       "version_minor": 0
      },
      "text/plain": [
       "0it [00:00, ?it/s]"
      ]
     },
     "metadata": {},
     "output_type": "display_data"
    },
    {
     "name": "stdout",
     "output_type": "stream",
     "text": [
      "Enumerating monochromatic designs on level 2\n"
     ]
    },
    {
     "data": {
      "application/vnd.jupyter.widget-view+json": {
       "model_id": "ddc5f1fcd27d4de4b7b4e42cb4919cf5",
       "version_major": 2,
       "version_minor": 0
      },
      "text/plain": [
       "0it [00:00, ?it/s]"
      ]
     },
     "metadata": {},
     "output_type": "display_data"
    },
    {
     "name": "stdout",
     "output_type": "stream",
     "text": [
      "Enumerating monochromatic designs on level 3\n"
     ]
    },
    {
     "data": {
      "application/vnd.jupyter.widget-view+json": {
       "model_id": "a82b40173c8b49e88d10e8cc69b33b1a",
       "version_major": 2,
       "version_minor": 0
      },
      "text/plain": [
       "0it [00:00, ?it/s]"
      ]
     },
     "metadata": {},
     "output_type": "display_data"
    },
    {
     "name": "stdout",
     "output_type": "stream",
     "text": [
      "Testing 1 designs with WL... (triangles only)\n"
     ]
    },
    {
     "data": {
      "application/vnd.jupyter.widget-view+json": {
       "model_id": "6ab01ee0173f473ab8aa62379d14f258",
       "version_major": 2,
       "version_minor": 0
      },
      "text/plain": [
       "  0%|          | 0/1 [00:00<?, ?it/s]"
      ]
     },
     "metadata": {},
     "output_type": "display_data"
    },
    {
     "name": "stdout",
     "output_type": "stream",
     "text": [
      "Searching for coherent refinements of <SAS of degree 7 and ranks [1, 2, 5, 8, 8, 5, 2, 1]>\n",
      "Summary: (7, 32, [1, 2, 5, 8, 8, 5, 2, 1], False, True, 'S3')\n"
     ]
    },
    {
     "data": {
      "application/vnd.jupyter.widget-view+json": {
       "model_id": "5da65941a28d4ec6b3078870307b0051",
       "version_major": 2,
       "version_minor": 0
      },
      "text/plain": [
       "0it [00:00, ?it/s]"
      ]
     },
     "metadata": {},
     "output_type": "display_data"
    },
    {
     "name": "stdout",
     "output_type": "stream",
     "text": [
      "Enumerating monochromatic designs on level 2\n"
     ]
    },
    {
     "data": {
      "application/vnd.jupyter.widget-view+json": {
       "model_id": "784dca05382b46859208b91a3a3eb772",
       "version_major": 2,
       "version_minor": 0
      },
      "text/plain": [
       "0it [00:00, ?it/s]"
      ]
     },
     "metadata": {},
     "output_type": "display_data"
    },
    {
     "name": "stdout",
     "output_type": "stream",
     "text": [
      "Enumerating monochromatic designs on level 3\n"
     ]
    },
    {
     "data": {
      "application/vnd.jupyter.widget-view+json": {
       "model_id": "761239430d8349d492bf4a584cfe165e",
       "version_major": 2,
       "version_minor": 0
      },
      "text/plain": [
       "0it [00:00, ?it/s]"
      ]
     },
     "metadata": {},
     "output_type": "display_data"
    },
    {
     "name": "stdout",
     "output_type": "stream",
     "text": [
      "Testing 0 designs with WL... (triangles only)\n"
     ]
    },
    {
     "data": {
      "application/vnd.jupyter.widget-view+json": {
       "model_id": "6cb21e98ba994d92a2e58dc5d369a623",
       "version_major": 2,
       "version_minor": 0
      },
      "text/plain": [
       "0it [00:00, ?it/s]"
      ]
     },
     "metadata": {},
     "output_type": "display_data"
    },
    {
     "name": "stdout",
     "output_type": "stream",
     "text": [
      "Searching for coherent refinements of <SAS of degree 7 and ranks [1, 2, 3, 5, 5, 3, 2, 1]>\n",
      "Summary: (7, 22, [1, 2, 3, 5, 5, 3, 2, 1], False, True, 'S4')\n"
     ]
    },
    {
     "data": {
      "application/vnd.jupyter.widget-view+json": {
       "model_id": "33092e7735904fe99c8d6f51f05e4157",
       "version_major": 2,
       "version_minor": 0
      },
      "text/plain": [
       "0it [00:00, ?it/s]"
      ]
     },
     "metadata": {},
     "output_type": "display_data"
    },
    {
     "name": "stdout",
     "output_type": "stream",
     "text": [
      "Enumerating monochromatic designs on level 3\n"
     ]
    },
    {
     "data": {
      "application/vnd.jupyter.widget-view+json": {
       "model_id": "abbd6d96ecff4b0493001e11dd5b1ef8",
       "version_major": 2,
       "version_minor": 0
      },
      "text/plain": [
       "0it [00:00, ?it/s]"
      ]
     },
     "metadata": {},
     "output_type": "display_data"
    },
    {
     "name": "stdout",
     "output_type": "stream",
     "text": [
      "Testing 1 designs with WL... (triangles only)\n"
     ]
    },
    {
     "data": {
      "application/vnd.jupyter.widget-view+json": {
       "model_id": "41aca498d74d430c90c97b2360acf508",
       "version_major": 2,
       "version_minor": 0
      },
      "text/plain": [
       "  0%|          | 0/1 [00:00<?, ?it/s]"
      ]
     },
     "metadata": {},
     "output_type": "display_data"
    },
    {
     "name": "stdout",
     "output_type": "stream",
     "text": [
      "Found: <SAS of degree 7 and ranks [1, 2, 3, 6, 6, 3, 2, 1]>\n",
      "Summary: (7, 24, [1, 2, 3, 6, 6, 3, 2, 1], False, True, 'A4')\n",
      "Searching for coherent refinements of <SAS of degree 7 and ranks [1, 2, 3, 5, 5, 3, 2, 1]>\n",
      "Summary: (7, 22, [1, 2, 3, 5, 5, 3, 2, 1], False, True, 'C2 x A4')\n"
     ]
    },
    {
     "data": {
      "application/vnd.jupyter.widget-view+json": {
       "model_id": "2918bf8e7f034f84bb611b0f598c452a",
       "version_major": 2,
       "version_minor": 0
      },
      "text/plain": [
       "0it [00:00, ?it/s]"
      ]
     },
     "metadata": {},
     "output_type": "display_data"
    },
    {
     "name": "stdout",
     "output_type": "stream",
     "text": [
      "Enumerating monochromatic designs on level 3\n"
     ]
    },
    {
     "data": {
      "application/vnd.jupyter.widget-view+json": {
       "model_id": "2efc572372f8424f9718204cde243740",
       "version_major": 2,
       "version_minor": 0
      },
      "text/plain": [
       "0it [00:00, ?it/s]"
      ]
     },
     "metadata": {},
     "output_type": "display_data"
    },
    {
     "name": "stdout",
     "output_type": "stream",
     "text": [
      "Testing 1 designs with WL... (triangles only)\n"
     ]
    },
    {
     "data": {
      "application/vnd.jupyter.widget-view+json": {
       "model_id": "ad2ea351bbd140e382affb1341a5be57",
       "version_major": 2,
       "version_minor": 0
      },
      "text/plain": [
       "  0%|          | 0/1 [00:00<?, ?it/s]"
      ]
     },
     "metadata": {},
     "output_type": "display_data"
    },
    {
     "name": "stdout",
     "output_type": "stream",
     "text": [
      "Searching for coherent refinements of <SAS of degree 7 and ranks [1, 2, 4, 7, 7, 4, 2, 1]>\n",
      "Summary: (7, 28, [1, 2, 4, 7, 7, 4, 2, 1], False, True, 'C6')\n"
     ]
    },
    {
     "data": {
      "application/vnd.jupyter.widget-view+json": {
       "model_id": "5fbb3dce95ab49a1981ae1898abca36e",
       "version_major": 2,
       "version_minor": 0
      },
      "text/plain": [
       "0it [00:00, ?it/s]"
      ]
     },
     "metadata": {},
     "output_type": "display_data"
    },
    {
     "name": "stdout",
     "output_type": "stream",
     "text": [
      "Enumerating monochromatic designs on level 3\n"
     ]
    },
    {
     "data": {
      "application/vnd.jupyter.widget-view+json": {
       "model_id": "b3425fc704ed453188775c9553bba9f3",
       "version_major": 2,
       "version_minor": 0
      },
      "text/plain": [
       "0it [00:00, ?it/s]"
      ]
     },
     "metadata": {},
     "output_type": "display_data"
    },
    {
     "name": "stdout",
     "output_type": "stream",
     "text": [
      "Testing 0 designs with WL... (triangles only)\n"
     ]
    },
    {
     "data": {
      "application/vnd.jupyter.widget-view+json": {
       "model_id": "018ca7c4f9394fce9885f3c57374f340",
       "version_major": 2,
       "version_minor": 0
      },
      "text/plain": [
       "0it [00:00, ?it/s]"
      ]
     },
     "metadata": {},
     "output_type": "display_data"
    },
    {
     "name": "stdout",
     "output_type": "stream",
     "text": [
      "Searching for coherent refinements of <SAS of degree 7 and ranks [1, 2, 3, 6, 6, 3, 2, 1]>\n",
      "Summary: (7, 24, [1, 2, 3, 6, 6, 3, 2, 1], False, True, 'A4')\n"
     ]
    },
    {
     "data": {
      "application/vnd.jupyter.widget-view+json": {
       "model_id": "a1efcbca04d14121aee26b327faad3cd",
       "version_major": 2,
       "version_minor": 0
      },
      "text/plain": [
       "0it [00:00, ?it/s]"
      ]
     },
     "metadata": {},
     "output_type": "display_data"
    },
    {
     "name": "stdout",
     "output_type": "stream",
     "text": [
      "Enumerating monochromatic designs on level 3\n"
     ]
    },
    {
     "data": {
      "application/vnd.jupyter.widget-view+json": {
       "model_id": "f2a69eb1309647949ab1608e834cfbb6",
       "version_major": 2,
       "version_minor": 0
      },
      "text/plain": [
       "0it [00:00, ?it/s]"
      ]
     },
     "metadata": {},
     "output_type": "display_data"
    },
    {
     "name": "stdout",
     "output_type": "stream",
     "text": [
      "Testing 0 designs with WL... (triangles only)\n"
     ]
    },
    {
     "data": {
      "application/vnd.jupyter.widget-view+json": {
       "model_id": "d7a00395071f439b8e7c2c20a46e17dd",
       "version_major": 2,
       "version_minor": 0
      },
      "text/plain": [
       "0it [00:00, ?it/s]"
      ]
     },
     "metadata": {},
     "output_type": "display_data"
    },
    {
     "name": "stdout",
     "output_type": "stream",
     "text": [
      "Searching for coherent refinements of <SAS of degree 7 and ranks [1, 2, 3, 3, 3, 3, 2, 1]>\n",
      "Summary: (7, 18, [1, 2, 3, 3, 3, 3, 2, 1], False, True, 'C2 x S5')\n"
     ]
    },
    {
     "data": {
      "application/vnd.jupyter.widget-view+json": {
       "model_id": "31cba185c0654fd5a61663bbabf02e6d",
       "version_major": 2,
       "version_minor": 0
      },
      "text/plain": [
       "0it [00:00, ?it/s]"
      ]
     },
     "metadata": {},
     "output_type": "display_data"
    },
    {
     "name": "stdout",
     "output_type": "stream",
     "text": [
      "Enumerating monochromatic designs on level 2\n"
     ]
    },
    {
     "data": {
      "application/vnd.jupyter.widget-view+json": {
       "model_id": "a06de2b298a74a6195cce1c6544d62bd",
       "version_major": 2,
       "version_minor": 0
      },
      "text/plain": [
       "0it [00:00, ?it/s]"
      ]
     },
     "metadata": {},
     "output_type": "display_data"
    },
    {
     "name": "stdout",
     "output_type": "stream",
     "text": [
      "Enumerating monochromatic designs on level 3\n"
     ]
    },
    {
     "data": {
      "application/vnd.jupyter.widget-view+json": {
       "model_id": "f50355feba5647f4bb54644b5715b560",
       "version_major": 2,
       "version_minor": 0
      },
      "text/plain": [
       "0it [00:00, ?it/s]"
      ]
     },
     "metadata": {},
     "output_type": "display_data"
    },
    {
     "name": "stdout",
     "output_type": "stream",
     "text": [
      "Testing 2 designs with WL... (triangles only)\n"
     ]
    },
    {
     "data": {
      "application/vnd.jupyter.widget-view+json": {
       "model_id": "7a5332355f36483b8bd97b555414ab4c",
       "version_major": 2,
       "version_minor": 0
      },
      "text/plain": [
       "  0%|          | 0/2 [00:00<?, ?it/s]"
      ]
     },
     "metadata": {},
     "output_type": "display_data"
    },
    {
     "name": "stdout",
     "output_type": "stream",
     "text": [
      "Found: <SAS of degree 7 and ranks [1, 2, 3, 4, 4, 3, 2, 1]>\n",
      "Summary: (7, 20, [1, 2, 3, 4, 4, 3, 2, 1], False, True, 'C5 : C4')\n",
      "Found: <SAS of degree 7 and ranks [1, 2, 4, 5, 5, 4, 2, 1]>\n",
      "Summary: (7, 24, [1, 2, 4, 5, 5, 4, 2, 1], False, True, 'D10')\n",
      "Searching for coherent refinements of <SAS of degree 7 and ranks [1, 2, 3, 4, 4, 3, 2, 1]>\n",
      "Summary: (7, 20, [1, 2, 3, 4, 4, 3, 2, 1], False, True, 'C5 : C4')\n"
     ]
    },
    {
     "data": {
      "application/vnd.jupyter.widget-view+json": {
       "model_id": "a61d878a28394aa6a907aa565c2ecd7a",
       "version_major": 2,
       "version_minor": 0
      },
      "text/plain": [
       "0it [00:00, ?it/s]"
      ]
     },
     "metadata": {},
     "output_type": "display_data"
    },
    {
     "name": "stdout",
     "output_type": "stream",
     "text": [
      "Enumerating monochromatic designs on level 3\n"
     ]
    },
    {
     "data": {
      "application/vnd.jupyter.widget-view+json": {
       "model_id": "59cca63ffef94b4981d512bcacaa0b41",
       "version_major": 2,
       "version_minor": 0
      },
      "text/plain": [
       "0it [00:00, ?it/s]"
      ]
     },
     "metadata": {},
     "output_type": "display_data"
    },
    {
     "name": "stdout",
     "output_type": "stream",
     "text": [
      "Testing 0 designs with WL... (triangles only)\n"
     ]
    },
    {
     "data": {
      "application/vnd.jupyter.widget-view+json": {
       "model_id": "cf088dc995f849cdadc23028b59cffa4",
       "version_major": 2,
       "version_minor": 0
      },
      "text/plain": [
       "0it [00:00, ?it/s]"
      ]
     },
     "metadata": {},
     "output_type": "display_data"
    },
    {
     "name": "stdout",
     "output_type": "stream",
     "text": [
      "Searching for coherent refinements of <SAS of degree 7 and ranks [1, 2, 4, 5, 5, 4, 2, 1]>\n",
      "Summary: (7, 24, [1, 2, 4, 5, 5, 4, 2, 1], False, True, 'D10')\n"
     ]
    },
    {
     "data": {
      "application/vnd.jupyter.widget-view+json": {
       "model_id": "9185d22da92e479d865ecebb882d2b25",
       "version_major": 2,
       "version_minor": 0
      },
      "text/plain": [
       "0it [00:00, ?it/s]"
      ]
     },
     "metadata": {},
     "output_type": "display_data"
    },
    {
     "name": "stdout",
     "output_type": "stream",
     "text": [
      "Enumerating monochromatic designs on level 2\n"
     ]
    },
    {
     "data": {
      "application/vnd.jupyter.widget-view+json": {
       "model_id": "a5b1a7316a3c459d9710194d905b6ad7",
       "version_major": 2,
       "version_minor": 0
      },
      "text/plain": [
       "0it [00:00, ?it/s]"
      ]
     },
     "metadata": {},
     "output_type": "display_data"
    },
    {
     "name": "stdout",
     "output_type": "stream",
     "text": [
      "Enumerating monochromatic designs on level 3\n"
     ]
    },
    {
     "data": {
      "application/vnd.jupyter.widget-view+json": {
       "model_id": "ef6b959914c341c78b40f8b3ce7d7878",
       "version_major": 2,
       "version_minor": 0
      },
      "text/plain": [
       "0it [00:00, ?it/s]"
      ]
     },
     "metadata": {},
     "output_type": "display_data"
    },
    {
     "name": "stdout",
     "output_type": "stream",
     "text": [
      "Testing 0 designs with WL... (triangles only)\n"
     ]
    },
    {
     "data": {
      "application/vnd.jupyter.widget-view+json": {
       "model_id": "19d5cb480dc84fefb7093db33fe8641a",
       "version_major": 2,
       "version_minor": 0
      },
      "text/plain": [
       "0it [00:00, ?it/s]"
      ]
     },
     "metadata": {},
     "output_type": "display_data"
    },
    {
     "name": "stdout",
     "output_type": "stream",
     "text": [
      "Searching for coherent refinements of <SAS of degree 7 and ranks [1, 3, 4, 4, 4, 4, 3, 1]>\n",
      "Summary: (7, 24, [1, 3, 4, 4, 4, 4, 3, 1], False, True, 'S5')\n"
     ]
    },
    {
     "data": {
      "application/vnd.jupyter.widget-view+json": {
       "model_id": "2c7f88792db642d8afddc7bcc17872f4",
       "version_major": 2,
       "version_minor": 0
      },
      "text/plain": [
       "0it [00:00, ?it/s]"
      ]
     },
     "metadata": {},
     "output_type": "display_data"
    },
    {
     "name": "stdout",
     "output_type": "stream",
     "text": [
      "Enumerating monochromatic designs on level 2\n"
     ]
    },
    {
     "data": {
      "application/vnd.jupyter.widget-view+json": {
       "model_id": "c767c3c430284466882ee8226445bd48",
       "version_major": 2,
       "version_minor": 0
      },
      "text/plain": [
       "0it [00:00, ?it/s]"
      ]
     },
     "metadata": {},
     "output_type": "display_data"
    },
    {
     "name": "stdout",
     "output_type": "stream",
     "text": [
      "Enumerating monochromatic designs on level 3\n"
     ]
    },
    {
     "data": {
      "application/vnd.jupyter.widget-view+json": {
       "model_id": "18795c83b8394251b9ecc4e68ec31509",
       "version_major": 2,
       "version_minor": 0
      },
      "text/plain": [
       "0it [00:00, ?it/s]"
      ]
     },
     "metadata": {},
     "output_type": "display_data"
    },
    {
     "name": "stdout",
     "output_type": "stream",
     "text": [
      "Testing 1 designs with WL... (triangles only)\n"
     ]
    },
    {
     "data": {
      "application/vnd.jupyter.widget-view+json": {
       "model_id": "71b1069eabbe4c5786e53a13dc46e76e",
       "version_major": 2,
       "version_minor": 0
      },
      "text/plain": [
       "  0%|          | 0/1 [00:00<?, ?it/s]"
      ]
     },
     "metadata": {},
     "output_type": "display_data"
    },
    {
     "name": "stdout",
     "output_type": "stream",
     "text": [
      "Found: <SAS of degree 7 and ranks [1, 3, 5, 7, 7, 5, 3, 1]>\n",
      "Summary: (7, 32, [1, 3, 5, 7, 7, 5, 3, 1], False, True, 'D5')\n",
      "Searching for coherent refinements of <SAS of degree 7 and ranks [1, 3, 5, 7, 7, 5, 3, 1]>\n",
      "Summary: (7, 32, [1, 3, 5, 7, 7, 5, 3, 1], False, True, 'D5')\n"
     ]
    },
    {
     "data": {
      "application/vnd.jupyter.widget-view+json": {
       "model_id": "21c5a1b3cb6c41779adb684cc1c454be",
       "version_major": 2,
       "version_minor": 0
      },
      "text/plain": [
       "0it [00:00, ?it/s]"
      ]
     },
     "metadata": {},
     "output_type": "display_data"
    },
    {
     "name": "stdout",
     "output_type": "stream",
     "text": [
      "Enumerating monochromatic designs on level 2\n"
     ]
    },
    {
     "data": {
      "application/vnd.jupyter.widget-view+json": {
       "model_id": "14e4d105e38d45fdb31a0e52b16994e6",
       "version_major": 2,
       "version_minor": 0
      },
      "text/plain": [
       "0it [00:00, ?it/s]"
      ]
     },
     "metadata": {},
     "output_type": "display_data"
    },
    {
     "name": "stdout",
     "output_type": "stream",
     "text": [
      "Enumerating monochromatic designs on level 3\n"
     ]
    },
    {
     "data": {
      "application/vnd.jupyter.widget-view+json": {
       "model_id": "c64ceed6c0794240ba41daa40a5f1f17",
       "version_major": 2,
       "version_minor": 0
      },
      "text/plain": [
       "0it [00:00, ?it/s]"
      ]
     },
     "metadata": {},
     "output_type": "display_data"
    },
    {
     "name": "stdout",
     "output_type": "stream",
     "text": [
      "Testing 0 designs with WL... (triangles only)\n"
     ]
    },
    {
     "data": {
      "application/vnd.jupyter.widget-view+json": {
       "model_id": "d6ff7ff956e8401b9f6855e2fe24c1aa",
       "version_major": 2,
       "version_minor": 0
      },
      "text/plain": [
       "0it [00:00, ?it/s]"
      ]
     },
     "metadata": {},
     "output_type": "display_data"
    },
    {
     "name": "stdout",
     "output_type": "stream",
     "text": [
      "Searching for coherent refinements of <SAS of degree 7 and ranks [1, 2, 3, 4, 4, 3, 2, 1]>\n",
      "Summary: (7, 20, [1, 2, 3, 4, 4, 3, 2, 1], False, True, 'S3 x S4')\n"
     ]
    },
    {
     "data": {
      "application/vnd.jupyter.widget-view+json": {
       "model_id": "56e36cae2b3441b0a85b154e512e7db8",
       "version_major": 2,
       "version_minor": 0
      },
      "text/plain": [
       "0it [00:00, ?it/s]"
      ]
     },
     "metadata": {},
     "output_type": "display_data"
    },
    {
     "name": "stdout",
     "output_type": "stream",
     "text": [
      "Enumerating monochromatic designs on level 2\n"
     ]
    },
    {
     "data": {
      "application/vnd.jupyter.widget-view+json": {
       "model_id": "0080e8e9bbcf4100acc13da71865a0ba",
       "version_major": 2,
       "version_minor": 0
      },
      "text/plain": [
       "0it [00:00, ?it/s]"
      ]
     },
     "metadata": {},
     "output_type": "display_data"
    },
    {
     "name": "stdout",
     "output_type": "stream",
     "text": [
      "Enumerating monochromatic designs on level 3\n"
     ]
    },
    {
     "data": {
      "application/vnd.jupyter.widget-view+json": {
       "model_id": "3968203cf76a4731b5681804e298240c",
       "version_major": 2,
       "version_minor": 0
      },
      "text/plain": [
       "0it [00:00, ?it/s]"
      ]
     },
     "metadata": {},
     "output_type": "display_data"
    },
    {
     "name": "stdout",
     "output_type": "stream",
     "text": [
      "Testing 2 designs with WL... (triangles only)\n"
     ]
    },
    {
     "data": {
      "application/vnd.jupyter.widget-view+json": {
       "model_id": "cb7159fc3159410ca22602092d69319e",
       "version_major": 2,
       "version_minor": 0
      },
      "text/plain": [
       "  0%|          | 0/2 [00:00<?, ?it/s]"
      ]
     },
     "metadata": {},
     "output_type": "display_data"
    },
    {
     "name": "stdout",
     "output_type": "stream",
     "text": [
      "Found: <SAS of degree 7 and ranks [1, 2, 4, 5, 5, 4, 2, 1]>\n",
      "Summary: (7, 24, [1, 2, 4, 5, 5, 4, 2, 1], False, True, 'D4 x S3')\n",
      "Found: <SAS of degree 7 and ranks [1, 2, 3, 5, 5, 3, 2, 1]>\n",
      "Summary: (7, 22, [1, 2, 3, 5, 5, 3, 2, 1], False, True, 'S4')\n",
      "Searching for coherent refinements of <SAS of degree 7 and ranks [1, 2, 4, 5, 5, 4, 2, 1]>\n",
      "Summary: (7, 24, [1, 2, 4, 5, 5, 4, 2, 1], False, True, 'D4 x S3')\n"
     ]
    },
    {
     "data": {
      "application/vnd.jupyter.widget-view+json": {
       "model_id": "79f127adcb864f9783b1736c9de72bde",
       "version_major": 2,
       "version_minor": 0
      },
      "text/plain": [
       "0it [00:00, ?it/s]"
      ]
     },
     "metadata": {},
     "output_type": "display_data"
    },
    {
     "name": "stdout",
     "output_type": "stream",
     "text": [
      "Enumerating monochromatic designs on level 2\n"
     ]
    },
    {
     "data": {
      "application/vnd.jupyter.widget-view+json": {
       "model_id": "511c7e2c9c4d484091a7f27875d64787",
       "version_major": 2,
       "version_minor": 0
      },
      "text/plain": [
       "0it [00:00, ?it/s]"
      ]
     },
     "metadata": {},
     "output_type": "display_data"
    },
    {
     "name": "stdout",
     "output_type": "stream",
     "text": [
      "Enumerating monochromatic designs on level 3\n"
     ]
    },
    {
     "data": {
      "application/vnd.jupyter.widget-view+json": {
       "model_id": "c3030da9fa974d9d8295914d85ebabe2",
       "version_major": 2,
       "version_minor": 0
      },
      "text/plain": [
       "0it [00:00, ?it/s]"
      ]
     },
     "metadata": {},
     "output_type": "display_data"
    },
    {
     "name": "stdout",
     "output_type": "stream",
     "text": [
      "Testing 1 designs with WL... (triangles only)\n"
     ]
    },
    {
     "data": {
      "application/vnd.jupyter.widget-view+json": {
       "model_id": "347acf6adf704ed4982013296767190a",
       "version_major": 2,
       "version_minor": 0
      },
      "text/plain": [
       "  0%|          | 0/1 [00:00<?, ?it/s]"
      ]
     },
     "metadata": {},
     "output_type": "display_data"
    },
    {
     "name": "stdout",
     "output_type": "stream",
     "text": [
      "Found: <SAS of degree 7 and ranks [1, 2, 5, 6, 6, 5, 2, 1]>\n",
      "Summary: (7, 28, [1, 2, 5, 6, 6, 5, 2, 1], False, True, 'C2 x C2 x S3')\n",
      "Searching for coherent refinements of <SAS of degree 7 and ranks [1, 2, 3, 5, 5, 3, 2, 1]>\n",
      "Summary: (7, 22, [1, 2, 3, 5, 5, 3, 2, 1], False, True, 'S4')\n"
     ]
    },
    {
     "data": {
      "application/vnd.jupyter.widget-view+json": {
       "model_id": "0d7d33d813114f8ea4bd7c5f6352b4de",
       "version_major": 2,
       "version_minor": 0
      },
      "text/plain": [
       "0it [00:00, ?it/s]"
      ]
     },
     "metadata": {},
     "output_type": "display_data"
    },
    {
     "name": "stdout",
     "output_type": "stream",
     "text": [
      "Enumerating monochromatic designs on level 3\n"
     ]
    },
    {
     "data": {
      "application/vnd.jupyter.widget-view+json": {
       "model_id": "a2dbd9be6c484b559c18193f89f10d7c",
       "version_major": 2,
       "version_minor": 0
      },
      "text/plain": [
       "0it [00:00, ?it/s]"
      ]
     },
     "metadata": {},
     "output_type": "display_data"
    },
    {
     "name": "stdout",
     "output_type": "stream",
     "text": [
      "Testing 1 designs with WL... (triangles only)\n"
     ]
    },
    {
     "data": {
      "application/vnd.jupyter.widget-view+json": {
       "model_id": "95f19fb97f5c403ba2efc1720ab9c3c7",
       "version_major": 2,
       "version_minor": 0
      },
      "text/plain": [
       "  0%|          | 0/1 [00:00<?, ?it/s]"
      ]
     },
     "metadata": {},
     "output_type": "display_data"
    },
    {
     "name": "stdout",
     "output_type": "stream",
     "text": [
      "Found: <SAS of degree 7 and ranks [1, 2, 3, 6, 6, 3, 2, 1]>\n",
      "Summary: (7, 24, [1, 2, 3, 6, 6, 3, 2, 1], False, True, 'A4')\n",
      "Searching for coherent refinements of <SAS of degree 7 and ranks [1, 2, 5, 6, 6, 5, 2, 1]>\n",
      "Summary: (7, 28, [1, 2, 5, 6, 6, 5, 2, 1], False, True, 'C2 x C2 x S3')\n"
     ]
    },
    {
     "data": {
      "application/vnd.jupyter.widget-view+json": {
       "model_id": "9fe53b1f365d4caea89050a012fbb6c3",
       "version_major": 2,
       "version_minor": 0
      },
      "text/plain": [
       "0it [00:00, ?it/s]"
      ]
     },
     "metadata": {},
     "output_type": "display_data"
    },
    {
     "name": "stdout",
     "output_type": "stream",
     "text": [
      "Enumerating monochromatic designs on level 2\n"
     ]
    },
    {
     "data": {
      "application/vnd.jupyter.widget-view+json": {
       "model_id": "e31ba826093c478fb11427db04b562e3",
       "version_major": 2,
       "version_minor": 0
      },
      "text/plain": [
       "0it [00:00, ?it/s]"
      ]
     },
     "metadata": {},
     "output_type": "display_data"
    },
    {
     "name": "stdout",
     "output_type": "stream",
     "text": [
      "Enumerating monochromatic designs on level 3\n"
     ]
    },
    {
     "data": {
      "application/vnd.jupyter.widget-view+json": {
       "model_id": "41ce8937cbde4b0d9b93fe5cb71b2946",
       "version_major": 2,
       "version_minor": 0
      },
      "text/plain": [
       "0it [00:00, ?it/s]"
      ]
     },
     "metadata": {},
     "output_type": "display_data"
    },
    {
     "name": "stdout",
     "output_type": "stream",
     "text": [
      "Testing 0 designs with WL... (triangles only)\n"
     ]
    },
    {
     "data": {
      "application/vnd.jupyter.widget-view+json": {
       "model_id": "9b43be209db9474eba4437cf86027a43",
       "version_major": 2,
       "version_minor": 0
      },
      "text/plain": [
       "0it [00:00, ?it/s]"
      ]
     },
     "metadata": {},
     "output_type": "display_data"
    },
    {
     "name": "stdout",
     "output_type": "stream",
     "text": [
      "Searching for coherent refinements of <SAS of degree 7 and ranks [1, 2, 3, 6, 6, 3, 2, 1]>\n",
      "Summary: (7, 24, [1, 2, 3, 6, 6, 3, 2, 1], False, True, 'A4')\n"
     ]
    },
    {
     "data": {
      "application/vnd.jupyter.widget-view+json": {
       "model_id": "a11953179f7b43a7b72c67b6784d8a5a",
       "version_major": 2,
       "version_minor": 0
      },
      "text/plain": [
       "0it [00:00, ?it/s]"
      ]
     },
     "metadata": {},
     "output_type": "display_data"
    },
    {
     "name": "stdout",
     "output_type": "stream",
     "text": [
      "Enumerating monochromatic designs on level 3\n"
     ]
    },
    {
     "data": {
      "application/vnd.jupyter.widget-view+json": {
       "model_id": "c6b66a24e5e04cf393187de7de13e26a",
       "version_major": 2,
       "version_minor": 0
      },
      "text/plain": [
       "0it [00:00, ?it/s]"
      ]
     },
     "metadata": {},
     "output_type": "display_data"
    },
    {
     "name": "stdout",
     "output_type": "stream",
     "text": [
      "Testing 0 designs with WL... (triangles only)\n"
     ]
    },
    {
     "data": {
      "application/vnd.jupyter.widget-view+json": {
       "model_id": "4e738e56fe6247c98edcd32a5424ba2a",
       "version_major": 2,
       "version_minor": 0
      },
      "text/plain": [
       "0it [00:00, ?it/s]"
      ]
     },
     "metadata": {},
     "output_type": "display_data"
    },
    {
     "name": "stdout",
     "output_type": "stream",
     "text": [
      "Searching for coherent refinements of <SAS of degree 7 and ranks [1, 3, 5, 6, 6, 5, 3, 1]>\n",
      "Summary: (7, 30, [1, 3, 5, 6, 6, 5, 3, 1], False, True, 'C2 x S4')\n"
     ]
    },
    {
     "data": {
      "application/vnd.jupyter.widget-view+json": {
       "model_id": "935f568e79064c15b7d5e34e410967a6",
       "version_major": 2,
       "version_minor": 0
      },
      "text/plain": [
       "0it [00:00, ?it/s]"
      ]
     },
     "metadata": {},
     "output_type": "display_data"
    },
    {
     "name": "stdout",
     "output_type": "stream",
     "text": [
      "Enumerating monochromatic designs on level 2\n"
     ]
    },
    {
     "data": {
      "application/vnd.jupyter.widget-view+json": {
       "model_id": "089896e978fe40c4a554383bf614fd3b",
       "version_major": 2,
       "version_minor": 0
      },
      "text/plain": [
       "0it [00:00, ?it/s]"
      ]
     },
     "metadata": {},
     "output_type": "display_data"
    },
    {
     "name": "stdout",
     "output_type": "stream",
     "text": [
      "Enumerating monochromatic designs on level 3\n"
     ]
    },
    {
     "data": {
      "application/vnd.jupyter.widget-view+json": {
       "model_id": "ddb0b17ba86845f1b6f35f7dae31c62d",
       "version_major": 2,
       "version_minor": 0
      },
      "text/plain": [
       "0it [00:00, ?it/s]"
      ]
     },
     "metadata": {},
     "output_type": "display_data"
    },
    {
     "name": "stdout",
     "output_type": "stream",
     "text": [
      "Testing 2 designs with WL... (triangles only)\n"
     ]
    },
    {
     "data": {
      "application/vnd.jupyter.widget-view+json": {
       "model_id": "ec5320b8a8124fccb32271aaab317d3b",
       "version_major": 2,
       "version_minor": 0
      },
      "text/plain": [
       "  0%|          | 0/2 [00:00<?, ?it/s]"
      ]
     },
     "metadata": {},
     "output_type": "display_data"
    },
    {
     "name": "stdout",
     "output_type": "stream",
     "text": [
      "Found: <SAS of degree 7 and ranks [1, 3, 6, 8, 8, 6, 3, 1]>\n",
      "Summary: (7, 36, [1, 3, 6, 8, 8, 6, 3, 1], False, True, 'C2 x D4')\n",
      "Found: <SAS of degree 7 and ranks [1, 3, 7, 10, 10, 7, 3, 1]>\n",
      "Summary: (7, 42, [1, 3, 7, 10, 10, 7, 3, 1], False, True, 'D4')\n",
      "Searching for coherent refinements of <SAS of degree 7 and ranks [1, 3, 6, 8, 8, 6, 3, 1]>\n",
      "Summary: (7, 36, [1, 3, 6, 8, 8, 6, 3, 1], False, True, 'C2 x D4')\n"
     ]
    },
    {
     "data": {
      "application/vnd.jupyter.widget-view+json": {
       "model_id": "620ead514e8b4702a7d0ce3589d9987d",
       "version_major": 2,
       "version_minor": 0
      },
      "text/plain": [
       "0it [00:00, ?it/s]"
      ]
     },
     "metadata": {},
     "output_type": "display_data"
    },
    {
     "name": "stdout",
     "output_type": "stream",
     "text": [
      "Enumerating monochromatic designs on level 2\n"
     ]
    },
    {
     "data": {
      "application/vnd.jupyter.widget-view+json": {
       "model_id": "9cb7d193ab72413398fae92ff77d071f",
       "version_major": 2,
       "version_minor": 0
      },
      "text/plain": [
       "0it [00:00, ?it/s]"
      ]
     },
     "metadata": {},
     "output_type": "display_data"
    },
    {
     "name": "stdout",
     "output_type": "stream",
     "text": [
      "Enumerating monochromatic designs on level 3\n"
     ]
    },
    {
     "data": {
      "application/vnd.jupyter.widget-view+json": {
       "model_id": "21c7ccd19a2b4da785f01103e9dc4e55",
       "version_major": 2,
       "version_minor": 0
      },
      "text/plain": [
       "0it [00:00, ?it/s]"
      ]
     },
     "metadata": {},
     "output_type": "display_data"
    },
    {
     "name": "stdout",
     "output_type": "stream",
     "text": [
      "Testing 4 designs with WL... (triangles only)\n"
     ]
    },
    {
     "data": {
      "application/vnd.jupyter.widget-view+json": {
       "model_id": "e839e9ed7d514db0831584b594126bd5",
       "version_major": 2,
       "version_minor": 0
      },
      "text/plain": [
       "  0%|          | 0/4 [00:00<?, ?it/s]"
      ]
     },
     "metadata": {},
     "output_type": "display_data"
    },
    {
     "name": "stdout",
     "output_type": "stream",
     "text": [
      "Found: <SAS of degree 7 and ranks [1, 3, 8, 12, 12, 8, 3, 1]>\n",
      "Summary: (7, 48, [1, 3, 8, 12, 12, 8, 3, 1], False, True, 'C2 x C2')\n",
      "Found: <SAS of degree 7 and ranks [1, 3, 6, 9, 9, 6, 3, 1]>\n",
      "Summary: (7, 38, [1, 3, 6, 9, 9, 6, 3, 1], False, True, 'D4')\n",
      "Found: <SAS of degree 7 and ranks [1, 3, 7, 10, 10, 7, 3, 1]>\n",
      "Summary: (7, 42, [1, 3, 7, 10, 10, 7, 3, 1], False, True, 'C2 x C2 x C2')\n",
      "Searching for coherent refinements of <SAS of degree 7 and ranks [1, 3, 7, 10, 10, 7, 3, 1]>\n",
      "Summary: (7, 42, [1, 3, 7, 10, 10, 7, 3, 1], False, True, 'D4')\n"
     ]
    },
    {
     "data": {
      "application/vnd.jupyter.widget-view+json": {
       "model_id": "8c008e0f8608489da29b7b490994fd98",
       "version_major": 2,
       "version_minor": 0
      },
      "text/plain": [
       "0it [00:00, ?it/s]"
      ]
     },
     "metadata": {},
     "output_type": "display_data"
    },
    {
     "name": "stdout",
     "output_type": "stream",
     "text": [
      "Enumerating monochromatic designs on level 2\n"
     ]
    },
    {
     "data": {
      "application/vnd.jupyter.widget-view+json": {
       "model_id": "ae61015c827743f48f7b385730b6da92",
       "version_major": 2,
       "version_minor": 0
      },
      "text/plain": [
       "0it [00:00, ?it/s]"
      ]
     },
     "metadata": {},
     "output_type": "display_data"
    },
    {
     "name": "stdout",
     "output_type": "stream",
     "text": [
      "Enumerating monochromatic designs on level 3\n"
     ]
    },
    {
     "data": {
      "application/vnd.jupyter.widget-view+json": {
       "model_id": "4af96532fee3418c8953cc771e50dd56",
       "version_major": 2,
       "version_minor": 0
      },
      "text/plain": [
       "0it [00:00, ?it/s]"
      ]
     },
     "metadata": {},
     "output_type": "display_data"
    },
    {
     "name": "stdout",
     "output_type": "stream",
     "text": [
      "Testing 2 designs with WL... (triangles only)\n"
     ]
    },
    {
     "data": {
      "application/vnd.jupyter.widget-view+json": {
       "model_id": "38ddeaac156f4a19afd4d2c9c8d8d24e",
       "version_major": 2,
       "version_minor": 0
      },
      "text/plain": [
       "  0%|          | 0/2 [00:00<?, ?it/s]"
      ]
     },
     "metadata": {},
     "output_type": "display_data"
    },
    {
     "name": "stdout",
     "output_type": "stream",
     "text": [
      "Found: <SAS of degree 7 and ranks [1, 3, 7, 11, 11, 7, 3, 1]>\n",
      "Summary: (7, 44, [1, 3, 7, 11, 11, 7, 3, 1], False, True, 'C4')\n",
      "Searching for coherent refinements of <SAS of degree 7 and ranks [1, 3, 8, 12, 12, 8, 3, 1]>\n",
      "Summary: (7, 48, [1, 3, 8, 12, 12, 8, 3, 1], False, True, 'C2 x C2')\n"
     ]
    },
    {
     "data": {
      "application/vnd.jupyter.widget-view+json": {
       "model_id": "8cdf3d7be1a043e499d0b85a8fed40e9",
       "version_major": 2,
       "version_minor": 0
      },
      "text/plain": [
       "0it [00:00, ?it/s]"
      ]
     },
     "metadata": {},
     "output_type": "display_data"
    },
    {
     "name": "stdout",
     "output_type": "stream",
     "text": [
      "Enumerating monochromatic designs on level 2\n"
     ]
    },
    {
     "data": {
      "application/vnd.jupyter.widget-view+json": {
       "model_id": "9e6b591412d048688dbd0b45b5e50c9a",
       "version_major": 2,
       "version_minor": 0
      },
      "text/plain": [
       "0it [00:00, ?it/s]"
      ]
     },
     "metadata": {},
     "output_type": "display_data"
    },
    {
     "name": "stdout",
     "output_type": "stream",
     "text": [
      "Enumerating monochromatic designs on level 3\n"
     ]
    },
    {
     "data": {
      "application/vnd.jupyter.widget-view+json": {
       "model_id": "32bc8288f1354093adfef208129ac20c",
       "version_major": 2,
       "version_minor": 0
      },
      "text/plain": [
       "0it [00:00, ?it/s]"
      ]
     },
     "metadata": {},
     "output_type": "display_data"
    },
    {
     "name": "stdout",
     "output_type": "stream",
     "text": [
      "Testing 0 designs with WL... (triangles only)\n"
     ]
    },
    {
     "data": {
      "application/vnd.jupyter.widget-view+json": {
       "model_id": "64d0664b7ceb4ec48002c7486855097c",
       "version_major": 2,
       "version_minor": 0
      },
      "text/plain": [
       "0it [00:00, ?it/s]"
      ]
     },
     "metadata": {},
     "output_type": "display_data"
    },
    {
     "name": "stdout",
     "output_type": "stream",
     "text": [
      "Searching for coherent refinements of <SAS of degree 7 and ranks [1, 3, 6, 9, 9, 6, 3, 1]>\n",
      "Summary: (7, 38, [1, 3, 6, 9, 9, 6, 3, 1], False, True, 'D4')\n"
     ]
    },
    {
     "data": {
      "application/vnd.jupyter.widget-view+json": {
       "model_id": "f887574a30cf48a982b7b469d7febcb3",
       "version_major": 2,
       "version_minor": 0
      },
      "text/plain": [
       "0it [00:00, ?it/s]"
      ]
     },
     "metadata": {},
     "output_type": "display_data"
    },
    {
     "name": "stdout",
     "output_type": "stream",
     "text": [
      "Enumerating monochromatic designs on level 3\n"
     ]
    },
    {
     "data": {
      "application/vnd.jupyter.widget-view+json": {
       "model_id": "b7c7dd33f5a149a5978c5aef4c97bc56",
       "version_major": 2,
       "version_minor": 0
      },
      "text/plain": [
       "0it [00:00, ?it/s]"
      ]
     },
     "metadata": {},
     "output_type": "display_data"
    },
    {
     "name": "stdout",
     "output_type": "stream",
     "text": [
      "Testing 0 designs with WL... (triangles only)\n"
     ]
    },
    {
     "data": {
      "application/vnd.jupyter.widget-view+json": {
       "model_id": "ce938eefb13140949d16328d8a3705e8",
       "version_major": 2,
       "version_minor": 0
      },
      "text/plain": [
       "0it [00:00, ?it/s]"
      ]
     },
     "metadata": {},
     "output_type": "display_data"
    },
    {
     "name": "stdout",
     "output_type": "stream",
     "text": [
      "Searching for coherent refinements of <SAS of degree 7 and ranks [1, 3, 7, 10, 10, 7, 3, 1]>\n",
      "Summary: (7, 42, [1, 3, 7, 10, 10, 7, 3, 1], False, True, 'C2 x C2 x C2')\n"
     ]
    },
    {
     "data": {
      "application/vnd.jupyter.widget-view+json": {
       "model_id": "48984d9a184642df83927eff0c1a0eb2",
       "version_major": 2,
       "version_minor": 0
      },
      "text/plain": [
       "0it [00:00, ?it/s]"
      ]
     },
     "metadata": {},
     "output_type": "display_data"
    },
    {
     "name": "stdout",
     "output_type": "stream",
     "text": [
      "Enumerating monochromatic designs on level 2\n"
     ]
    },
    {
     "data": {
      "application/vnd.jupyter.widget-view+json": {
       "model_id": "3e0781f3d1624f19be85851c9d66670b",
       "version_major": 2,
       "version_minor": 0
      },
      "text/plain": [
       "0it [00:00, ?it/s]"
      ]
     },
     "metadata": {},
     "output_type": "display_data"
    },
    {
     "name": "stdout",
     "output_type": "stream",
     "text": [
      "Enumerating monochromatic designs on level 3\n"
     ]
    },
    {
     "data": {
      "application/vnd.jupyter.widget-view+json": {
       "model_id": "a11e5e12ae774ca5b3e908c6852346d4",
       "version_major": 2,
       "version_minor": 0
      },
      "text/plain": [
       "0it [00:00, ?it/s]"
      ]
     },
     "metadata": {},
     "output_type": "display_data"
    },
    {
     "name": "stdout",
     "output_type": "stream",
     "text": [
      "Testing 1 designs with WL... (triangles only)\n"
     ]
    },
    {
     "data": {
      "application/vnd.jupyter.widget-view+json": {
       "model_id": "1fe4a9c920804c359be7bcaac4e8810a",
       "version_major": 2,
       "version_minor": 0
      },
      "text/plain": [
       "  0%|          | 0/1 [00:00<?, ?it/s]"
      ]
     },
     "metadata": {},
     "output_type": "display_data"
    },
    {
     "name": "stdout",
     "output_type": "stream",
     "text": [
      "Searching for coherent refinements of <SAS of degree 7 and ranks [1, 3, 7, 11, 11, 7, 3, 1]>\n",
      "Summary: (7, 44, [1, 3, 7, 11, 11, 7, 3, 1], False, True, 'C4')\n"
     ]
    },
    {
     "data": {
      "application/vnd.jupyter.widget-view+json": {
       "model_id": "72869b6d357c4c959fd89499797cc29f",
       "version_major": 2,
       "version_minor": 0
      },
      "text/plain": [
       "0it [00:00, ?it/s]"
      ]
     },
     "metadata": {},
     "output_type": "display_data"
    },
    {
     "name": "stdout",
     "output_type": "stream",
     "text": [
      "Enumerating monochromatic designs on level 3\n"
     ]
    },
    {
     "data": {
      "application/vnd.jupyter.widget-view+json": {
       "model_id": "6dc1aed54d5645019f1efef2bb137e27",
       "version_major": 2,
       "version_minor": 0
      },
      "text/plain": [
       "0it [00:00, ?it/s]"
      ]
     },
     "metadata": {},
     "output_type": "display_data"
    },
    {
     "name": "stdout",
     "output_type": "stream",
     "text": [
      "Testing 0 designs with WL... (triangles only)\n"
     ]
    },
    {
     "data": {
      "application/vnd.jupyter.widget-view+json": {
       "model_id": "3595a5a60be74bfca40000c0fde919c8",
       "version_major": 2,
       "version_minor": 0
      },
      "text/plain": [
       "0it [00:00, ?it/s]"
      ]
     },
     "metadata": {},
     "output_type": "display_data"
    },
    {
     "name": "stdout",
     "output_type": "stream",
     "text": [
      "Searching for coherent refinements of <SAS of degree 7 and ranks [1, 4, 7, 8, 8, 7, 4, 1]>\n",
      "Summary: (7, 40, [1, 4, 7, 8, 8, 7, 4, 1], False, True, 'S4')\n"
     ]
    },
    {
     "data": {
      "application/vnd.jupyter.widget-view+json": {
       "model_id": "00d9b20cffa64537bd2a923950ef641b",
       "version_major": 2,
       "version_minor": 0
      },
      "text/plain": [
       "0it [00:00, ?it/s]"
      ]
     },
     "metadata": {},
     "output_type": "display_data"
    },
    {
     "name": "stdout",
     "output_type": "stream",
     "text": [
      "Enumerating monochromatic designs on level 2\n"
     ]
    },
    {
     "data": {
      "application/vnd.jupyter.widget-view+json": {
       "model_id": "6beb29e622fb45b7b0b55db55d2c3766",
       "version_major": 2,
       "version_minor": 0
      },
      "text/plain": [
       "0it [00:00, ?it/s]"
      ]
     },
     "metadata": {},
     "output_type": "display_data"
    },
    {
     "name": "stdout",
     "output_type": "stream",
     "text": [
      "Enumerating monochromatic designs on level 3\n"
     ]
    },
    {
     "data": {
      "application/vnd.jupyter.widget-view+json": {
       "model_id": "0d353124d2eb435eb6e20f1d36caf1c3",
       "version_major": 2,
       "version_minor": 0
      },
      "text/plain": [
       "0it [00:00, ?it/s]"
      ]
     },
     "metadata": {},
     "output_type": "display_data"
    },
    {
     "name": "stdout",
     "output_type": "stream",
     "text": [
      "Testing 1 designs with WL... (triangles only)\n"
     ]
    },
    {
     "data": {
      "application/vnd.jupyter.widget-view+json": {
       "model_id": "9c3f83df81c649fa973b80eee6e3965c",
       "version_major": 2,
       "version_minor": 0
      },
      "text/plain": [
       "  0%|          | 0/1 [00:00<?, ?it/s]"
      ]
     },
     "metadata": {},
     "output_type": "display_data"
    },
    {
     "name": "stdout",
     "output_type": "stream",
     "text": [
      "Found: <SAS of degree 7 and ranks [1, 4, 8, 11, 11, 8, 4, 1]>\n",
      "Summary: (7, 48, [1, 4, 8, 11, 11, 8, 4, 1], False, True, 'D4')\n",
      "Searching for coherent refinements of <SAS of degree 7 and ranks [1, 4, 8, 11, 11, 8, 4, 1]>\n",
      "Summary: (7, 48, [1, 4, 8, 11, 11, 8, 4, 1], False, True, 'D4')\n"
     ]
    },
    {
     "data": {
      "application/vnd.jupyter.widget-view+json": {
       "model_id": "ba70b99d01054359af427486da0bc66c",
       "version_major": 2,
       "version_minor": 0
      },
      "text/plain": [
       "0it [00:00, ?it/s]"
      ]
     },
     "metadata": {},
     "output_type": "display_data"
    },
    {
     "name": "stdout",
     "output_type": "stream",
     "text": [
      "Enumerating monochromatic designs on level 2\n"
     ]
    },
    {
     "data": {
      "application/vnd.jupyter.widget-view+json": {
       "model_id": "86178008c72b41538852378ff754e274",
       "version_major": 2,
       "version_minor": 0
      },
      "text/plain": [
       "0it [00:00, ?it/s]"
      ]
     },
     "metadata": {},
     "output_type": "display_data"
    },
    {
     "name": "stdout",
     "output_type": "stream",
     "text": [
      "Enumerating monochromatic designs on level 3\n"
     ]
    },
    {
     "data": {
      "application/vnd.jupyter.widget-view+json": {
       "model_id": "4e478cc2fcf44c0fa380989242b186f1",
       "version_major": 2,
       "version_minor": 0
      },
      "text/plain": [
       "0it [00:00, ?it/s]"
      ]
     },
     "metadata": {},
     "output_type": "display_data"
    },
    {
     "name": "stdout",
     "output_type": "stream",
     "text": [
      "Testing 1 designs with WL... (triangles only)\n"
     ]
    },
    {
     "data": {
      "application/vnd.jupyter.widget-view+json": {
       "model_id": "cf195e72c66149109215668db8a02728",
       "version_major": 2,
       "version_minor": 0
      },
      "text/plain": [
       "  0%|          | 0/1 [00:00<?, ?it/s]"
      ]
     },
     "metadata": {},
     "output_type": "display_data"
    },
    {
     "name": "stdout",
     "output_type": "stream",
     "text": [
      "Found: <SAS of degree 7 and ranks [1, 4, 9, 14, 14, 9, 4, 1]>\n",
      "Summary: (7, 56, [1, 4, 9, 14, 14, 9, 4, 1], False, True, 'C2 x C2')\n",
      "Searching for coherent refinements of <SAS of degree 7 and ranks [1, 4, 9, 14, 14, 9, 4, 1]>\n",
      "Summary: (7, 56, [1, 4, 9, 14, 14, 9, 4, 1], False, True, 'C2 x C2')\n"
     ]
    },
    {
     "data": {
      "application/vnd.jupyter.widget-view+json": {
       "model_id": "722baf3146a44e9ca9afebfbdcb662fe",
       "version_major": 2,
       "version_minor": 0
      },
      "text/plain": [
       "0it [00:00, ?it/s]"
      ]
     },
     "metadata": {},
     "output_type": "display_data"
    },
    {
     "name": "stdout",
     "output_type": "stream",
     "text": [
      "Enumerating monochromatic designs on level 2\n"
     ]
    },
    {
     "data": {
      "application/vnd.jupyter.widget-view+json": {
       "model_id": "6db2df6ae59445c2b0aba421f6d45db2",
       "version_major": 2,
       "version_minor": 0
      },
      "text/plain": [
       "0it [00:00, ?it/s]"
      ]
     },
     "metadata": {},
     "output_type": "display_data"
    },
    {
     "name": "stdout",
     "output_type": "stream",
     "text": [
      "Enumerating monochromatic designs on level 3\n"
     ]
    },
    {
     "data": {
      "application/vnd.jupyter.widget-view+json": {
       "model_id": "0cd8ea5e8174400baef5e64e01133407",
       "version_major": 2,
       "version_minor": 0
      },
      "text/plain": [
       "0it [00:00, ?it/s]"
      ]
     },
     "metadata": {},
     "output_type": "display_data"
    },
    {
     "name": "stdout",
     "output_type": "stream",
     "text": [
      "Testing 0 designs with WL... (triangles only)\n"
     ]
    },
    {
     "data": {
      "application/vnd.jupyter.widget-view+json": {
       "model_id": "0e3e1aa05bf64b6fa08411f12ece1bc8",
       "version_major": 2,
       "version_minor": 0
      },
      "text/plain": [
       "0it [00:00, ?it/s]"
      ]
     },
     "metadata": {},
     "output_type": "display_data"
    },
    {
     "name": "stdout",
     "output_type": "stream",
     "text": [
      "Searching for coherent refinements of <SAS of degree 7 and ranks [1, 3, 5, 7, 7, 5, 3, 1]>\n",
      "Summary: (7, 32, [1, 3, 5, 7, 7, 5, 3, 1], False, True, 'S3 x S3')\n"
     ]
    },
    {
     "data": {
      "application/vnd.jupyter.widget-view+json": {
       "model_id": "9a3a8810d4ad4d63b5362b90c73934c2",
       "version_major": 2,
       "version_minor": 0
      },
      "text/plain": [
       "0it [00:00, ?it/s]"
      ]
     },
     "metadata": {},
     "output_type": "display_data"
    },
    {
     "name": "stdout",
     "output_type": "stream",
     "text": [
      "Enumerating monochromatic designs on level 2\n"
     ]
    },
    {
     "data": {
      "application/vnd.jupyter.widget-view+json": {
       "model_id": "2e32ce2102a84201a16a02a86d9efe1f",
       "version_major": 2,
       "version_minor": 0
      },
      "text/plain": [
       "0it [00:00, ?it/s]"
      ]
     },
     "metadata": {},
     "output_type": "display_data"
    },
    {
     "name": "stdout",
     "output_type": "stream",
     "text": [
      "Enumerating monochromatic designs on level 3\n"
     ]
    },
    {
     "data": {
      "application/vnd.jupyter.widget-view+json": {
       "model_id": "4a214770b7d645698cb997ec25171982",
       "version_major": 2,
       "version_minor": 0
      },
      "text/plain": [
       "0it [00:00, ?it/s]"
      ]
     },
     "metadata": {},
     "output_type": "display_data"
    },
    {
     "name": "stdout",
     "output_type": "stream",
     "text": [
      "Testing 1 designs with WL... (triangles only)\n"
     ]
    },
    {
     "data": {
      "application/vnd.jupyter.widget-view+json": {
       "model_id": "02a76874276748338f89befd60931f38",
       "version_major": 2,
       "version_minor": 0
      },
      "text/plain": [
       "  0%|          | 0/1 [00:00<?, ?it/s]"
      ]
     },
     "metadata": {},
     "output_type": "display_data"
    },
    {
     "name": "stdout",
     "output_type": "stream",
     "text": [
      "Found: <SAS of degree 7 and ranks [1, 3, 6, 10, 10, 6, 3, 1]>\n",
      "Summary: (7, 40, [1, 3, 6, 10, 10, 6, 3, 1], False, True, 'S3')\n",
      "Searching for coherent refinements of <SAS of degree 7 and ranks [1, 3, 6, 10, 10, 6, 3, 1]>\n",
      "Summary: (7, 40, [1, 3, 6, 10, 10, 6, 3, 1], False, True, 'S3')\n"
     ]
    },
    {
     "data": {
      "application/vnd.jupyter.widget-view+json": {
       "model_id": "d1e5f6a18f964437b8132d2d918e31be",
       "version_major": 2,
       "version_minor": 0
      },
      "text/plain": [
       "0it [00:00, ?it/s]"
      ]
     },
     "metadata": {},
     "output_type": "display_data"
    },
    {
     "name": "stdout",
     "output_type": "stream",
     "text": [
      "Enumerating monochromatic designs on level 2\n"
     ]
    },
    {
     "data": {
      "application/vnd.jupyter.widget-view+json": {
       "model_id": "df385c40aa2c41e2a02a22b8e3997efe",
       "version_major": 2,
       "version_minor": 0
      },
      "text/plain": [
       "0it [00:00, ?it/s]"
      ]
     },
     "metadata": {},
     "output_type": "display_data"
    },
    {
     "name": "stdout",
     "output_type": "stream",
     "text": [
      "Enumerating monochromatic designs on level 3\n"
     ]
    },
    {
     "data": {
      "application/vnd.jupyter.widget-view+json": {
       "model_id": "467c64bb848c47ad8f1056c94af3d6e7",
       "version_major": 2,
       "version_minor": 0
      },
      "text/plain": [
       "0it [00:00, ?it/s]"
      ]
     },
     "metadata": {},
     "output_type": "display_data"
    },
    {
     "name": "stdout",
     "output_type": "stream",
     "text": [
      "Testing 1 designs with WL... (triangles only)\n"
     ]
    },
    {
     "data": {
      "application/vnd.jupyter.widget-view+json": {
       "model_id": "c98366b1320b40a1a488ac9739ce25ab",
       "version_major": 2,
       "version_minor": 0
      },
      "text/plain": [
       "  0%|          | 0/1 [00:00<?, ?it/s]"
      ]
     },
     "metadata": {},
     "output_type": "display_data"
    },
    {
     "name": "stdout",
     "output_type": "stream",
     "text": [
      "Found: <SAS of degree 7 and ranks [1, 3, 7, 13, 13, 7, 3, 1]>\n",
      "Summary: (7, 48, [1, 3, 7, 13, 13, 7, 3, 1], False, True, 'C3')\n",
      "Searching for coherent refinements of <SAS of degree 7 and ranks [1, 3, 7, 13, 13, 7, 3, 1]>\n",
      "Summary: (7, 48, [1, 3, 7, 13, 13, 7, 3, 1], False, True, 'C3')\n"
     ]
    },
    {
     "data": {
      "application/vnd.jupyter.widget-view+json": {
       "model_id": "286f51026e1040908f0b9b2f72b6812b",
       "version_major": 2,
       "version_minor": 0
      },
      "text/plain": [
       "0it [00:00, ?it/s]"
      ]
     },
     "metadata": {},
     "output_type": "display_data"
    },
    {
     "name": "stdout",
     "output_type": "stream",
     "text": [
      "Enumerating monochromatic designs on level 2\n"
     ]
    },
    {
     "data": {
      "application/vnd.jupyter.widget-view+json": {
       "model_id": "e1c5dec6826a4954905ea30410f841c5",
       "version_major": 2,
       "version_minor": 0
      },
      "text/plain": [
       "0it [00:00, ?it/s]"
      ]
     },
     "metadata": {},
     "output_type": "display_data"
    },
    {
     "name": "stdout",
     "output_type": "stream",
     "text": [
      "Enumerating monochromatic designs on level 3\n"
     ]
    },
    {
     "data": {
      "application/vnd.jupyter.widget-view+json": {
       "model_id": "08f1dfa51c904c6b871f0cb105d766f6",
       "version_major": 2,
       "version_minor": 0
      },
      "text/plain": [
       "0it [00:00, ?it/s]"
      ]
     },
     "metadata": {},
     "output_type": "display_data"
    },
    {
     "name": "stdout",
     "output_type": "stream",
     "text": [
      "Testing 0 designs with WL... (triangles only)\n"
     ]
    },
    {
     "data": {
      "application/vnd.jupyter.widget-view+json": {
       "model_id": "3d3f16f84e0a48e9bb43aa7f18c8c0a7",
       "version_major": 2,
       "version_minor": 0
      },
      "text/plain": [
       "0it [00:00, ?it/s]"
      ]
     },
     "metadata": {},
     "output_type": "display_data"
    },
    {
     "name": "stdout",
     "output_type": "stream",
     "text": [
      "Searching for coherent refinements of <SAS of degree 7 and ranks [1, 3, 6, 8, 8, 6, 3, 1]>\n",
      "Summary: (7, 36, [1, 3, 6, 8, 8, 6, 3, 1], False, True, 'C2 x C2 x S3')\n"
     ]
    },
    {
     "data": {
      "application/vnd.jupyter.widget-view+json": {
       "model_id": "116b41039b2649cea5a4b613d95916d9",
       "version_major": 2,
       "version_minor": 0
      },
      "text/plain": [
       "0it [00:00, ?it/s]"
      ]
     },
     "metadata": {},
     "output_type": "display_data"
    },
    {
     "name": "stdout",
     "output_type": "stream",
     "text": [
      "Enumerating monochromatic designs on level 2\n"
     ]
    },
    {
     "data": {
      "application/vnd.jupyter.widget-view+json": {
       "model_id": "bdd7ba1c7a8845fdbf352c1ad70aeee9",
       "version_major": 2,
       "version_minor": 0
      },
      "text/plain": [
       "0it [00:00, ?it/s]"
      ]
     },
     "metadata": {},
     "output_type": "display_data"
    },
    {
     "name": "stdout",
     "output_type": "stream",
     "text": [
      "Enumerating monochromatic designs on level 3\n"
     ]
    },
    {
     "data": {
      "application/vnd.jupyter.widget-view+json": {
       "model_id": "734368acbcf94ab6aa4209a0fe0f2bdb",
       "version_major": 2,
       "version_minor": 0
      },
      "text/plain": [
       "0it [00:00, ?it/s]"
      ]
     },
     "metadata": {},
     "output_type": "display_data"
    },
    {
     "name": "stdout",
     "output_type": "stream",
     "text": [
      "Testing 1 designs with WL... (triangles only)\n"
     ]
    },
    {
     "data": {
      "application/vnd.jupyter.widget-view+json": {
       "model_id": "60afa715feee41688760ed645828273d",
       "version_major": 2,
       "version_minor": 0
      },
      "text/plain": [
       "  0%|          | 0/1 [00:00<?, ?it/s]"
      ]
     },
     "metadata": {},
     "output_type": "display_data"
    },
    {
     "name": "stdout",
     "output_type": "stream",
     "text": [
      "Found: <SAS of degree 7 and ranks [1, 3, 7, 9, 9, 7, 3, 1]>\n",
      "Summary: (7, 40, [1, 3, 7, 9, 9, 7, 3, 1], False, True, 'D6')\n",
      "Searching for coherent refinements of <SAS of degree 7 and ranks [1, 3, 7, 9, 9, 7, 3, 1]>\n",
      "Summary: (7, 40, [1, 3, 7, 9, 9, 7, 3, 1], False, True, 'D6')\n"
     ]
    },
    {
     "data": {
      "application/vnd.jupyter.widget-view+json": {
       "model_id": "ac398f526bb74a599655e2bfc7620ec5",
       "version_major": 2,
       "version_minor": 0
      },
      "text/plain": [
       "0it [00:00, ?it/s]"
      ]
     },
     "metadata": {},
     "output_type": "display_data"
    },
    {
     "name": "stdout",
     "output_type": "stream",
     "text": [
      "Enumerating monochromatic designs on level 2\n"
     ]
    },
    {
     "data": {
      "application/vnd.jupyter.widget-view+json": {
       "model_id": "c66d189131c44bd49f99e6ccf0b3fd15",
       "version_major": 2,
       "version_minor": 0
      },
      "text/plain": [
       "0it [00:00, ?it/s]"
      ]
     },
     "metadata": {},
     "output_type": "display_data"
    },
    {
     "name": "stdout",
     "output_type": "stream",
     "text": [
      "Enumerating monochromatic designs on level 3\n"
     ]
    },
    {
     "data": {
      "application/vnd.jupyter.widget-view+json": {
       "model_id": "c4c6b9593ddf4845bf7849fa4c5b1283",
       "version_major": 2,
       "version_minor": 0
      },
      "text/plain": [
       "0it [00:00, ?it/s]"
      ]
     },
     "metadata": {},
     "output_type": "display_data"
    },
    {
     "name": "stdout",
     "output_type": "stream",
     "text": [
      "Testing 0 designs with WL... (triangles only)\n"
     ]
    },
    {
     "data": {
      "application/vnd.jupyter.widget-view+json": {
       "model_id": "b9d70246c6b243e288587f15be525a0a",
       "version_major": 2,
       "version_minor": 0
      },
      "text/plain": [
       "0it [00:00, ?it/s]"
      ]
     },
     "metadata": {},
     "output_type": "display_data"
    },
    {
     "name": "stdout",
     "output_type": "stream",
     "text": [
      "Searching for coherent refinements of <SAS of degree 7 and ranks [1, 4, 8, 11, 11, 8, 4, 1]>\n",
      "Summary: (7, 48, [1, 4, 8, 11, 11, 8, 4, 1], False, True, 'D6')\n"
     ]
    },
    {
     "data": {
      "application/vnd.jupyter.widget-view+json": {
       "model_id": "e5fba4919c904ad58f7e6e47af7c368d",
       "version_major": 2,
       "version_minor": 0
      },
      "text/plain": [
       "0it [00:00, ?it/s]"
      ]
     },
     "metadata": {},
     "output_type": "display_data"
    },
    {
     "name": "stdout",
     "output_type": "stream",
     "text": [
      "Enumerating monochromatic designs on level 2\n"
     ]
    },
    {
     "data": {
      "application/vnd.jupyter.widget-view+json": {
       "model_id": "d41789536de44eb19e692df82fb150bc",
       "version_major": 2,
       "version_minor": 0
      },
      "text/plain": [
       "0it [00:00, ?it/s]"
      ]
     },
     "metadata": {},
     "output_type": "display_data"
    },
    {
     "name": "stdout",
     "output_type": "stream",
     "text": [
      "Enumerating monochromatic designs on level 3\n"
     ]
    },
    {
     "data": {
      "application/vnd.jupyter.widget-view+json": {
       "model_id": "7ac88bc62f434650b13067a2ca32fd56",
       "version_major": 2,
       "version_minor": 0
      },
      "text/plain": [
       "0it [00:00, ?it/s]"
      ]
     },
     "metadata": {},
     "output_type": "display_data"
    },
    {
     "name": "stdout",
     "output_type": "stream",
     "text": [
      "Testing 0 designs with WL... (triangles only)\n"
     ]
    },
    {
     "data": {
      "application/vnd.jupyter.widget-view+json": {
       "model_id": "2925a2027a014e63aac83f1673f52ec6",
       "version_major": 2,
       "version_minor": 0
      },
      "text/plain": [
       "0it [00:00, ?it/s]"
      ]
     },
     "metadata": {},
     "output_type": "display_data"
    },
    {
     "name": "stdout",
     "output_type": "stream",
     "text": [
      "Searching for coherent refinements of <SAS of degree 7 and ranks [1, 5, 11, 15, 15, 11, 5, 1]>\n",
      "Summary: (7, 64, [1, 5, 11, 15, 15, 11, 5, 1], False, True, 'S3')\n"
     ]
    },
    {
     "data": {
      "application/vnd.jupyter.widget-view+json": {
       "model_id": "725987e8b50946b4beffba22fd6cb33d",
       "version_major": 2,
       "version_minor": 0
      },
      "text/plain": [
       "0it [00:00, ?it/s]"
      ]
     },
     "metadata": {},
     "output_type": "display_data"
    },
    {
     "name": "stdout",
     "output_type": "stream",
     "text": [
      "Enumerating monochromatic designs on level 2\n"
     ]
    },
    {
     "data": {
      "application/vnd.jupyter.widget-view+json": {
       "model_id": "5e1974f9bd6b4542ba4d1159e6dfb741",
       "version_major": 2,
       "version_minor": 0
      },
      "text/plain": [
       "0it [00:00, ?it/s]"
      ]
     },
     "metadata": {},
     "output_type": "display_data"
    },
    {
     "name": "stdout",
     "output_type": "stream",
     "text": [
      "Enumerating monochromatic designs on level 3\n"
     ]
    },
    {
     "data": {
      "application/vnd.jupyter.widget-view+json": {
       "model_id": "881195e497604b4a9e0e518d5a1a935a",
       "version_major": 2,
       "version_minor": 0
      },
      "text/plain": [
       "0it [00:00, ?it/s]"
      ]
     },
     "metadata": {},
     "output_type": "display_data"
    },
    {
     "name": "stdout",
     "output_type": "stream",
     "text": [
      "Testing 0 designs with WL... (triangles only)\n"
     ]
    },
    {
     "data": {
      "application/vnd.jupyter.widget-view+json": {
       "model_id": "e4b6af30bb50482db3272f83397f65f0",
       "version_major": 2,
       "version_minor": 0
      },
      "text/plain": [
       "0it [00:00, ?it/s]"
      ]
     },
     "metadata": {},
     "output_type": "display_data"
    },
    {
     "name": "stdout",
     "output_type": "stream",
     "text": [
      "Searching for coherent refinements of <SAS of degree 7 and ranks [1, 4, 9, 13, 13, 9, 4, 1]>\n",
      "Summary: (7, 54, [1, 4, 9, 13, 13, 9, 4, 1], False, True, 'C2 x C2 x C2')\n"
     ]
    },
    {
     "data": {
      "application/vnd.jupyter.widget-view+json": {
       "model_id": "76f1c9dc2cf94a85a7feaaf32ba98610",
       "version_major": 2,
       "version_minor": 0
      },
      "text/plain": [
       "0it [00:00, ?it/s]"
      ]
     },
     "metadata": {},
     "output_type": "display_data"
    },
    {
     "name": "stdout",
     "output_type": "stream",
     "text": [
      "Enumerating monochromatic designs on level 2\n"
     ]
    },
    {
     "data": {
      "application/vnd.jupyter.widget-view+json": {
       "model_id": "a7672f19adf740b28e970f471d08733d",
       "version_major": 2,
       "version_minor": 0
      },
      "text/plain": [
       "0it [00:00, ?it/s]"
      ]
     },
     "metadata": {},
     "output_type": "display_data"
    },
    {
     "name": "stdout",
     "output_type": "stream",
     "text": [
      "Enumerating monochromatic designs on level 3\n"
     ]
    },
    {
     "data": {
      "application/vnd.jupyter.widget-view+json": {
       "model_id": "ea31fe6375b24901af99d2c52d3323e3",
       "version_major": 2,
       "version_minor": 0
      },
      "text/plain": [
       "0it [00:00, ?it/s]"
      ]
     },
     "metadata": {},
     "output_type": "display_data"
    },
    {
     "name": "stdout",
     "output_type": "stream",
     "text": [
      "Testing 2 designs with WL... (triangles only)\n"
     ]
    },
    {
     "data": {
      "application/vnd.jupyter.widget-view+json": {
       "model_id": "a2b5d5e7fae94343b49c2016f6c926e4",
       "version_major": 2,
       "version_minor": 0
      },
      "text/plain": [
       "  0%|          | 0/2 [00:00<?, ?it/s]"
      ]
     },
     "metadata": {},
     "output_type": "display_data"
    },
    {
     "name": "stdout",
     "output_type": "stream",
     "text": [
      "Found: <SAS of degree 7 and ranks [1, 4, 10, 15, 15, 10, 4, 1]>\n",
      "Summary: (7, 60, [1, 4, 10, 15, 15, 10, 4, 1], False, True, 'C2 x C2')\n",
      "Found: <SAS of degree 7 and ranks [1, 4, 9, 14, 14, 9, 4, 1]>\n",
      "Summary: (7, 56, [1, 4, 9, 14, 14, 9, 4, 1], False, True, 'C2 x C2')\n",
      "Searching for coherent refinements of <SAS of degree 7 and ranks [1, 4, 10, 15, 15, 10, 4, 1]>\n",
      "Summary: (7, 60, [1, 4, 10, 15, 15, 10, 4, 1], False, True, 'C2 x C2')\n"
     ]
    },
    {
     "data": {
      "application/vnd.jupyter.widget-view+json": {
       "model_id": "348682a7cc12445cabf791c626065614",
       "version_major": 2,
       "version_minor": 0
      },
      "text/plain": [
       "0it [00:00, ?it/s]"
      ]
     },
     "metadata": {},
     "output_type": "display_data"
    },
    {
     "name": "stdout",
     "output_type": "stream",
     "text": [
      "Enumerating monochromatic designs on level 2\n"
     ]
    },
    {
     "data": {
      "application/vnd.jupyter.widget-view+json": {
       "model_id": "a2d47ab02b454ef0aca1484aa77cafa5",
       "version_major": 2,
       "version_minor": 0
      },
      "text/plain": [
       "0it [00:00, ?it/s]"
      ]
     },
     "metadata": {},
     "output_type": "display_data"
    },
    {
     "name": "stdout",
     "output_type": "stream",
     "text": [
      "Enumerating monochromatic designs on level 3\n"
     ]
    },
    {
     "data": {
      "application/vnd.jupyter.widget-view+json": {
       "model_id": "06b5b40c72664694928ffdd97ca1097f",
       "version_major": 2,
       "version_minor": 0
      },
      "text/plain": [
       "0it [00:00, ?it/s]"
      ]
     },
     "metadata": {},
     "output_type": "display_data"
    },
    {
     "name": "stdout",
     "output_type": "stream",
     "text": [
      "Testing 1 designs with WL... (triangles only)\n"
     ]
    },
    {
     "data": {
      "application/vnd.jupyter.widget-view+json": {
       "model_id": "fed0da3398b64aeab805d38818b37a9a",
       "version_major": 2,
       "version_minor": 0
      },
      "text/plain": [
       "  0%|          | 0/1 [00:00<?, ?it/s]"
      ]
     },
     "metadata": {},
     "output_type": "display_data"
    },
    {
     "name": "stdout",
     "output_type": "stream",
     "text": [
      "Found: <SAS of degree 7 and ranks [1, 4, 12, 19, 19, 12, 4, 1]>\n",
      "Summary: (7, 72, [1, 4, 12, 19, 19, 12, 4, 1], False, True, 'C2')\n",
      "Searching for coherent refinements of <SAS of degree 7 and ranks [1, 4, 9, 14, 14, 9, 4, 1]>\n",
      "Summary: (7, 56, [1, 4, 9, 14, 14, 9, 4, 1], False, True, 'C2 x C2')\n"
     ]
    },
    {
     "data": {
      "application/vnd.jupyter.widget-view+json": {
       "model_id": "3e9c8950ac494647be3246f4595107b5",
       "version_major": 2,
       "version_minor": 0
      },
      "text/plain": [
       "0it [00:00, ?it/s]"
      ]
     },
     "metadata": {},
     "output_type": "display_data"
    },
    {
     "name": "stdout",
     "output_type": "stream",
     "text": [
      "Enumerating monochromatic designs on level 3\n"
     ]
    },
    {
     "data": {
      "application/vnd.jupyter.widget-view+json": {
       "model_id": "04920c937618447fb93c55d3fa460e09",
       "version_major": 2,
       "version_minor": 0
      },
      "text/plain": [
       "0it [00:00, ?it/s]"
      ]
     },
     "metadata": {},
     "output_type": "display_data"
    },
    {
     "name": "stdout",
     "output_type": "stream",
     "text": [
      "Testing 0 designs with WL... (triangles only)\n"
     ]
    },
    {
     "data": {
      "application/vnd.jupyter.widget-view+json": {
       "model_id": "7993948be5e6470f88348b333d7be124",
       "version_major": 2,
       "version_minor": 0
      },
      "text/plain": [
       "0it [00:00, ?it/s]"
      ]
     },
     "metadata": {},
     "output_type": "display_data"
    },
    {
     "name": "stdout",
     "output_type": "stream",
     "text": [
      "Searching for coherent refinements of <SAS of degree 7 and ranks [1, 4, 12, 19, 19, 12, 4, 1]>\n",
      "Summary: (7, 72, [1, 4, 12, 19, 19, 12, 4, 1], False, True, 'C2')\n"
     ]
    },
    {
     "data": {
      "application/vnd.jupyter.widget-view+json": {
       "model_id": "6707d2bd5d9f43c5b01fafae277db81d",
       "version_major": 2,
       "version_minor": 0
      },
      "text/plain": [
       "0it [00:00, ?it/s]"
      ]
     },
     "metadata": {},
     "output_type": "display_data"
    },
    {
     "name": "stdout",
     "output_type": "stream",
     "text": [
      "Enumerating monochromatic designs on level 2\n"
     ]
    },
    {
     "data": {
      "application/vnd.jupyter.widget-view+json": {
       "model_id": "e8d6e638781244718264e6a316bb8516",
       "version_major": 2,
       "version_minor": 0
      },
      "text/plain": [
       "0it [00:00, ?it/s]"
      ]
     },
     "metadata": {},
     "output_type": "display_data"
    },
    {
     "name": "stdout",
     "output_type": "stream",
     "text": [
      "Enumerating monochromatic designs on level 3\n"
     ]
    },
    {
     "data": {
      "application/vnd.jupyter.widget-view+json": {
       "model_id": "1f10a5ade3654240a20e245c42aba617",
       "version_major": 2,
       "version_minor": 0
      },
      "text/plain": [
       "0it [00:00, ?it/s]"
      ]
     },
     "metadata": {},
     "output_type": "display_data"
    },
    {
     "name": "stdout",
     "output_type": "stream",
     "text": [
      "Testing 0 designs with WL... (triangles only)\n"
     ]
    },
    {
     "data": {
      "application/vnd.jupyter.widget-view+json": {
       "model_id": "04b20a966dd44ce79cc759b6396e4cc2",
       "version_major": 2,
       "version_minor": 0
      },
      "text/plain": [
       "0it [00:00, ?it/s]"
      ]
     },
     "metadata": {},
     "output_type": "display_data"
    },
    {
     "name": "stdout",
     "output_type": "stream",
     "text": [
      "Searching for coherent refinements of <SAS of degree 7 and ranks [1, 5, 12, 18, 18, 12, 5, 1]>\n",
      "Summary: (7, 72, [1, 5, 12, 18, 18, 12, 5, 1], False, True, 'C2 x C2')\n"
     ]
    },
    {
     "data": {
      "application/vnd.jupyter.widget-view+json": {
       "model_id": "94520a98ca9c42a9b6c493727946522d",
       "version_major": 2,
       "version_minor": 0
      },
      "text/plain": [
       "0it [00:00, ?it/s]"
      ]
     },
     "metadata": {},
     "output_type": "display_data"
    },
    {
     "name": "stdout",
     "output_type": "stream",
     "text": [
      "Enumerating monochromatic designs on level 2\n"
     ]
    },
    {
     "data": {
      "application/vnd.jupyter.widget-view+json": {
       "model_id": "c0e4126575564efb8a4788db31649038",
       "version_major": 2,
       "version_minor": 0
      },
      "text/plain": [
       "0it [00:00, ?it/s]"
      ]
     },
     "metadata": {},
     "output_type": "display_data"
    },
    {
     "name": "stdout",
     "output_type": "stream",
     "text": [
      "Enumerating monochromatic designs on level 3\n"
     ]
    },
    {
     "data": {
      "application/vnd.jupyter.widget-view+json": {
       "model_id": "1f1994268a3d4b20a68a4e891b6285b5",
       "version_major": 2,
       "version_minor": 0
      },
      "text/plain": [
       "0it [00:00, ?it/s]"
      ]
     },
     "metadata": {},
     "output_type": "display_data"
    },
    {
     "name": "stdout",
     "output_type": "stream",
     "text": [
      "Testing 1 designs with WL... (triangles only)\n"
     ]
    },
    {
     "data": {
      "application/vnd.jupyter.widget-view+json": {
       "model_id": "61c76adc7c604b14b31bec8932776d2d",
       "version_major": 2,
       "version_minor": 0
      },
      "text/plain": [
       "  0%|          | 0/1 [00:00<?, ?it/s]"
      ]
     },
     "metadata": {},
     "output_type": "display_data"
    },
    {
     "name": "stdout",
     "output_type": "stream",
     "text": [
      "Found: <SAS of degree 7 and ranks [1, 5, 13, 21, 21, 13, 5, 1]>\n",
      "Summary: (7, 80, [1, 5, 13, 21, 21, 13, 5, 1], False, True, 'C2')\n",
      "Searching for coherent refinements of <SAS of degree 7 and ranks [1, 5, 13, 21, 21, 13, 5, 1]>\n",
      "Summary: (7, 80, [1, 5, 13, 21, 21, 13, 5, 1], False, True, 'C2')\n"
     ]
    },
    {
     "data": {
      "application/vnd.jupyter.widget-view+json": {
       "model_id": "6dd206109a2044cf886b88949cff6f50",
       "version_major": 2,
       "version_minor": 0
      },
      "text/plain": [
       "0it [00:00, ?it/s]"
      ]
     },
     "metadata": {},
     "output_type": "display_data"
    },
    {
     "name": "stdout",
     "output_type": "stream",
     "text": [
      "Enumerating monochromatic designs on level 2\n"
     ]
    },
    {
     "data": {
      "application/vnd.jupyter.widget-view+json": {
       "model_id": "f4044e2f045e4998899c9b488ca6713f",
       "version_major": 2,
       "version_minor": 0
      },
      "text/plain": [
       "0it [00:00, ?it/s]"
      ]
     },
     "metadata": {},
     "output_type": "display_data"
    },
    {
     "name": "stdout",
     "output_type": "stream",
     "text": [
      "Enumerating monochromatic designs on level 3\n"
     ]
    },
    {
     "data": {
      "application/vnd.jupyter.widget-view+json": {
       "model_id": "0e3980e983fb4e9f9460557f442910d0",
       "version_major": 2,
       "version_minor": 0
      },
      "text/plain": [
       "0it [00:00, ?it/s]"
      ]
     },
     "metadata": {},
     "output_type": "display_data"
    },
    {
     "name": "stdout",
     "output_type": "stream",
     "text": [
      "Testing 0 designs with WL... (triangles only)\n"
     ]
    },
    {
     "data": {
      "application/vnd.jupyter.widget-view+json": {
       "model_id": "383b552d1bb34c9ea52fa284c4863fe7",
       "version_major": 2,
       "version_minor": 0
      },
      "text/plain": [
       "0it [00:00, ?it/s]"
      ]
     },
     "metadata": {},
     "output_type": "display_data"
    },
    {
     "name": "stdout",
     "output_type": "stream",
     "text": [
      "Searching for coherent refinements of <SAS of degree 7 and ranks [1, 6, 16, 25, 25, 16, 6, 1]>\n",
      "Summary: (7, 96, [1, 6, 16, 25, 25, 16, 6, 1], False, True, 'C2')\n"
     ]
    },
    {
     "data": {
      "application/vnd.jupyter.widget-view+json": {
       "model_id": "194d1682f7494ce99f1aadfc43838198",
       "version_major": 2,
       "version_minor": 0
      },
      "text/plain": [
       "0it [00:00, ?it/s]"
      ]
     },
     "metadata": {},
     "output_type": "display_data"
    },
    {
     "name": "stdout",
     "output_type": "stream",
     "text": [
      "Enumerating monochromatic designs on level 2\n"
     ]
    },
    {
     "data": {
      "application/vnd.jupyter.widget-view+json": {
       "model_id": "295afe0d3d914138adaa104210741426",
       "version_major": 2,
       "version_minor": 0
      },
      "text/plain": [
       "0it [00:00, ?it/s]"
      ]
     },
     "metadata": {},
     "output_type": "display_data"
    },
    {
     "name": "stdout",
     "output_type": "stream",
     "text": [
      "Enumerating monochromatic designs on level 3\n"
     ]
    },
    {
     "data": {
      "application/vnd.jupyter.widget-view+json": {
       "model_id": "d2ebc07a25a54b01b70fb6ac1e9eae2f",
       "version_major": 2,
       "version_minor": 0
      },
      "text/plain": [
       "0it [00:00, ?it/s]"
      ]
     },
     "metadata": {},
     "output_type": "display_data"
    },
    {
     "name": "stdout",
     "output_type": "stream",
     "text": [
      "Testing 0 designs with WL... (triangles only)\n"
     ]
    },
    {
     "data": {
      "application/vnd.jupyter.widget-view+json": {
       "model_id": "c6718cf507604b8f8940a5bca7b7c236",
       "version_major": 2,
       "version_minor": 0
      },
      "text/plain": [
       "0it [00:00, ?it/s]"
      ]
     },
     "metadata": {},
     "output_type": "display_data"
    },
    {
     "name": "stdout",
     "output_type": "stream",
     "text": [
      "Searching for coherent refinements of <SAS of degree 7 and ranks [1, 7, 21, 35, 35, 21, 7, 1]>\n",
      "Summary: (7, 128, [1, 7, 21, 35, 35, 21, 7, 1], False, True, '1')\n"
     ]
    },
    {
     "data": {
      "application/vnd.jupyter.widget-view+json": {
       "model_id": "2f9a8267d8194d8886ca3b68117daab6",
       "version_major": 2,
       "version_minor": 0
      },
      "text/plain": [
       "0it [00:00, ?it/s]"
      ]
     },
     "metadata": {},
     "output_type": "display_data"
    },
    {
     "name": "stdout",
     "output_type": "stream",
     "text": [
      "Enumerating monochromatic designs on level 2\n"
     ]
    },
    {
     "data": {
      "application/vnd.jupyter.widget-view+json": {
       "model_id": "db9e81c8724142f59bfa717f8aa1f029",
       "version_major": 2,
       "version_minor": 0
      },
      "text/plain": [
       "0it [00:00, ?it/s]"
      ]
     },
     "metadata": {},
     "output_type": "display_data"
    },
    {
     "name": "stdout",
     "output_type": "stream",
     "text": [
      "Enumerating monochromatic designs on level 3\n"
     ]
    },
    {
     "data": {
      "application/vnd.jupyter.widget-view+json": {
       "model_id": "8569f220d56542dd99af7efef62165e4",
       "version_major": 2,
       "version_minor": 0
      },
      "text/plain": [
       "0it [00:00, ?it/s]"
      ]
     },
     "metadata": {},
     "output_type": "display_data"
    },
    {
     "name": "stdout",
     "output_type": "stream",
     "text": [
      "Testing 0 designs with WL... (triangles only)\n"
     ]
    },
    {
     "data": {
      "application/vnd.jupyter.widget-view+json": {
       "model_id": "41b2480dd4094429b934f265e2bfb26a",
       "version_major": 2,
       "version_minor": 0
      },
      "text/plain": [
       "0it [00:00, ?it/s]"
      ]
     },
     "metadata": {},
     "output_type": "display_data"
    }
   ],
   "source": [
    "all_sas = []\n",
    "all_sas.extend(SAS.find_all(n, verbosity=2))"
   ]
  },
  {
   "cell_type": "code",
   "execution_count": 10,
   "metadata": {},
   "outputs": [
    {
     "data": {
      "text/html": [
       "<div class=\"notruncate\">\n",
       "<table  class=\"table_form\">\n",
       "<tbody>\n",
       "<tr>\n",
       "<th>n</th>\n",
       "<th>total rank</th>\n",
       "<th>ranks</th>\n",
       "<th>homogeneous?</th>\n",
       "<th>schurian?</th>\n",
       "<th><script type=\"math/tex\">\\mathrm{Aut}(\\mathfrak{S})</script></th>\n",
       "</tr>\n",
       "<tr class =\"row-a\">\n",
       "<td><script type=\"math/tex\">7</script></td>\n",
       "<td><script type=\"math/tex\">8</script></td>\n",
       "<td><script type=\"math/tex\">\\left[1, 1, 1, 1, 1, 1, 1, 1\\right]</script></td>\n",
       "<td><script type=\"math/tex\">\\mathrm{True}</script></td>\n",
       "<td><script type=\"math/tex\">\\mathrm{True}</script></td>\n",
       "<td>S7</td>\n",
       "</tr>\n",
       "<tr class =\"row-b\">\n",
       "<td><script type=\"math/tex\">7</script></td>\n",
       "<td><script type=\"math/tex\">18</script></td>\n",
       "<td><script type=\"math/tex\">\\left[1, 1, 3, 4, 4, 3, 1, 1\\right]</script></td>\n",
       "<td><script type=\"math/tex\">\\mathrm{True}</script></td>\n",
       "<td><script type=\"math/tex\">\\mathrm{True}</script></td>\n",
       "<td>D7</td>\n",
       "</tr>\n",
       "<tr class =\"row-a\">\n",
       "<td><script type=\"math/tex\">7</script></td>\n",
       "<td><script type=\"math/tex\">10</script></td>\n",
       "<td><script type=\"math/tex\">\\left[1, 1, 1, 2, 2, 1, 1, 1\\right]</script></td>\n",
       "<td><script type=\"math/tex\">\\mathrm{True}</script></td>\n",
       "<td><script type=\"math/tex\">\\mathrm{True}</script></td>\n",
       "<td>C7 : C6</td>\n",
       "</tr>\n",
       "<tr class =\"row-b\">\n",
       "<td><script type=\"math/tex\">7</script></td>\n",
       "<td><script type=\"math/tex\">10</script></td>\n",
       "<td><script type=\"math/tex\">\\left[1, 1, 1, 2, 2, 1, 1, 1\\right]</script></td>\n",
       "<td><script type=\"math/tex\">\\mathrm{True}</script></td>\n",
       "<td><script type=\"math/tex\">\\mathrm{True}</script></td>\n",
       "<td>PSL(3,2)</td>\n",
       "</tr>\n",
       "<tr class =\"row-a\">\n",
       "<td><script type=\"math/tex\">7</script></td>\n",
       "<td><script type=\"math/tex\">20</script></td>\n",
       "<td><script type=\"math/tex\">\\left[1, 1, 3, 5, 5, 3, 1, 1\\right]</script></td>\n",
       "<td><script type=\"math/tex\">\\mathrm{True}</script></td>\n",
       "<td><script type=\"math/tex\">\\mathrm{True}</script></td>\n",
       "<td>C7</td>\n",
       "</tr>\n",
       "<tr class =\"row-b\">\n",
       "<td><script type=\"math/tex\">7</script></td>\n",
       "<td><script type=\"math/tex\">12</script></td>\n",
       "<td><script type=\"math/tex\">\\left[1, 1, 1, 3, 3, 1, 1, 1\\right]</script></td>\n",
       "<td><script type=\"math/tex\">\\mathrm{True}</script></td>\n",
       "<td><script type=\"math/tex\">\\mathrm{True}</script></td>\n",
       "<td>C7 : C3</td>\n",
       "</tr>\n",
       "<tr class =\"row-a\">\n",
       "<td><script type=\"math/tex\">7</script></td>\n",
       "<td><script type=\"math/tex\">14</script></td>\n",
       "<td><script type=\"math/tex\">\\left[1, 2, 2, 2, 2, 2, 2, 1\\right]</script></td>\n",
       "<td><script type=\"math/tex\">\\mathrm{False}</script></td>\n",
       "<td><script type=\"math/tex\">\\mathrm{True}</script></td>\n",
       "<td>S6</td>\n",
       "</tr>\n",
       "<tr class =\"row-b\">\n",
       "<td><script type=\"math/tex\">7</script></td>\n",
       "<td><script type=\"math/tex\">20</script></td>\n",
       "<td><script type=\"math/tex\">\\left[1, 2, 3, 4, 4, 3, 2, 1\\right]</script></td>\n",
       "<td><script type=\"math/tex\">\\mathrm{False}</script></td>\n",
       "<td><script type=\"math/tex\">\\mathrm{True}</script></td>\n",
       "<td>C2 x S4</td>\n",
       "</tr>\n",
       "<tr class =\"row-a\">\n",
       "<td><script type=\"math/tex\">7</script></td>\n",
       "<td><script type=\"math/tex\">26</script></td>\n",
       "<td><script type=\"math/tex\">\\left[1, 2, 4, 6, 6, 4, 2, 1\\right]</script></td>\n",
       "<td><script type=\"math/tex\">\\mathrm{False}</script></td>\n",
       "<td><script type=\"math/tex\">\\mathrm{True}</script></td>\n",
       "<td>D6</td>\n",
       "</tr>\n",
       "<tr class =\"row-b\">\n",
       "<td><script type=\"math/tex\">7</script></td>\n",
       "<td><script type=\"math/tex\">16</script></td>\n",
       "<td><script type=\"math/tex\">\\left[1, 2, 2, 3, 3, 2, 2, 1\\right]</script></td>\n",
       "<td><script type=\"math/tex\">\\mathrm{False}</script></td>\n",
       "<td><script type=\"math/tex\">\\mathrm{True}</script></td>\n",
       "<td>A5</td>\n",
       "</tr>\n",
       "<tr class =\"row-a\">\n",
       "<td><script type=\"math/tex\">7</script></td>\n",
       "<td><script type=\"math/tex\">20</script></td>\n",
       "<td><script type=\"math/tex\">\\left[1, 2, 3, 4, 4, 3, 2, 1\\right]</script></td>\n",
       "<td><script type=\"math/tex\">\\mathrm{False}</script></td>\n",
       "<td><script type=\"math/tex\">\\mathrm{True}</script></td>\n",
       "<td>(S3 x S3) : C2</td>\n",
       "</tr>\n",
       "<tr class =\"row-b\">\n",
       "<td><script type=\"math/tex\">7</script></td>\n",
       "<td><script type=\"math/tex\">32</script></td>\n",
       "<td><script type=\"math/tex\">\\left[1, 2, 5, 8, 8, 5, 2, 1\\right]</script></td>\n",
       "<td><script type=\"math/tex\">\\mathrm{False}</script></td>\n",
       "<td><script type=\"math/tex\">\\mathrm{True}</script></td>\n",
       "<td>S3</td>\n",
       "</tr>\n",
       "<tr class =\"row-a\">\n",
       "<td><script type=\"math/tex\">7</script></td>\n",
       "<td><script type=\"math/tex\">22</script></td>\n",
       "<td><script type=\"math/tex\">\\left[1, 2, 3, 5, 5, 3, 2, 1\\right]</script></td>\n",
       "<td><script type=\"math/tex\">\\mathrm{False}</script></td>\n",
       "<td><script type=\"math/tex\">\\mathrm{True}</script></td>\n",
       "<td>S4</td>\n",
       "</tr>\n",
       "<tr class =\"row-b\">\n",
       "<td><script type=\"math/tex\">7</script></td>\n",
       "<td><script type=\"math/tex\">22</script></td>\n",
       "<td><script type=\"math/tex\">\\left[1, 2, 3, 5, 5, 3, 2, 1\\right]</script></td>\n",
       "<td><script type=\"math/tex\">\\mathrm{False}</script></td>\n",
       "<td><script type=\"math/tex\">\\mathrm{True}</script></td>\n",
       "<td>C2 x A4</td>\n",
       "</tr>\n",
       "<tr class =\"row-a\">\n",
       "<td><script type=\"math/tex\">7</script></td>\n",
       "<td><script type=\"math/tex\">28</script></td>\n",
       "<td><script type=\"math/tex\">\\left[1, 2, 4, 7, 7, 4, 2, 1\\right]</script></td>\n",
       "<td><script type=\"math/tex\">\\mathrm{False}</script></td>\n",
       "<td><script type=\"math/tex\">\\mathrm{True}</script></td>\n",
       "<td>C6</td>\n",
       "</tr>\n",
       "<tr class =\"row-b\">\n",
       "<td><script type=\"math/tex\">7</script></td>\n",
       "<td><script type=\"math/tex\">24</script></td>\n",
       "<td><script type=\"math/tex\">\\left[1, 2, 3, 6, 6, 3, 2, 1\\right]</script></td>\n",
       "<td><script type=\"math/tex\">\\mathrm{False}</script></td>\n",
       "<td><script type=\"math/tex\">\\mathrm{True}</script></td>\n",
       "<td>A4</td>\n",
       "</tr>\n",
       "<tr class =\"row-a\">\n",
       "<td><script type=\"math/tex\">7</script></td>\n",
       "<td><script type=\"math/tex\">18</script></td>\n",
       "<td><script type=\"math/tex\">\\left[1, 2, 3, 3, 3, 3, 2, 1\\right]</script></td>\n",
       "<td><script type=\"math/tex\">\\mathrm{False}</script></td>\n",
       "<td><script type=\"math/tex\">\\mathrm{True}</script></td>\n",
       "<td>C2 x S5</td>\n",
       "</tr>\n",
       "<tr class =\"row-b\">\n",
       "<td><script type=\"math/tex\">7</script></td>\n",
       "<td><script type=\"math/tex\">20</script></td>\n",
       "<td><script type=\"math/tex\">\\left[1, 2, 3, 4, 4, 3, 2, 1\\right]</script></td>\n",
       "<td><script type=\"math/tex\">\\mathrm{False}</script></td>\n",
       "<td><script type=\"math/tex\">\\mathrm{True}</script></td>\n",
       "<td>C5 : C4</td>\n",
       "</tr>\n",
       "<tr class =\"row-a\">\n",
       "<td><script type=\"math/tex\">7</script></td>\n",
       "<td><script type=\"math/tex\">24</script></td>\n",
       "<td><script type=\"math/tex\">\\left[1, 2, 4, 5, 5, 4, 2, 1\\right]</script></td>\n",
       "<td><script type=\"math/tex\">\\mathrm{False}</script></td>\n",
       "<td><script type=\"math/tex\">\\mathrm{True}</script></td>\n",
       "<td>D10</td>\n",
       "</tr>\n",
       "<tr class =\"row-b\">\n",
       "<td><script type=\"math/tex\">7</script></td>\n",
       "<td><script type=\"math/tex\">24</script></td>\n",
       "<td><script type=\"math/tex\">\\left[1, 3, 4, 4, 4, 4, 3, 1\\right]</script></td>\n",
       "<td><script type=\"math/tex\">\\mathrm{False}</script></td>\n",
       "<td><script type=\"math/tex\">\\mathrm{True}</script></td>\n",
       "<td>S5</td>\n",
       "</tr>\n",
       "<tr class =\"row-a\">\n",
       "<td><script type=\"math/tex\">7</script></td>\n",
       "<td><script type=\"math/tex\">32</script></td>\n",
       "<td><script type=\"math/tex\">\\left[1, 3, 5, 7, 7, 5, 3, 1\\right]</script></td>\n",
       "<td><script type=\"math/tex\">\\mathrm{False}</script></td>\n",
       "<td><script type=\"math/tex\">\\mathrm{True}</script></td>\n",
       "<td>D5</td>\n",
       "</tr>\n",
       "<tr class =\"row-b\">\n",
       "<td><script type=\"math/tex\">7</script></td>\n",
       "<td><script type=\"math/tex\">20</script></td>\n",
       "<td><script type=\"math/tex\">\\left[1, 2, 3, 4, 4, 3, 2, 1\\right]</script></td>\n",
       "<td><script type=\"math/tex\">\\mathrm{False}</script></td>\n",
       "<td><script type=\"math/tex\">\\mathrm{True}</script></td>\n",
       "<td>S3 x S4</td>\n",
       "</tr>\n",
       "<tr class =\"row-a\">\n",
       "<td><script type=\"math/tex\">7</script></td>\n",
       "<td><script type=\"math/tex\">24</script></td>\n",
       "<td><script type=\"math/tex\">\\left[1, 2, 4, 5, 5, 4, 2, 1\\right]</script></td>\n",
       "<td><script type=\"math/tex\">\\mathrm{False}</script></td>\n",
       "<td><script type=\"math/tex\">\\mathrm{True}</script></td>\n",
       "<td>D4 x S3</td>\n",
       "</tr>\n",
       "<tr class =\"row-b\">\n",
       "<td><script type=\"math/tex\">7</script></td>\n",
       "<td><script type=\"math/tex\">22</script></td>\n",
       "<td><script type=\"math/tex\">\\left[1, 2, 3, 5, 5, 3, 2, 1\\right]</script></td>\n",
       "<td><script type=\"math/tex\">\\mathrm{False}</script></td>\n",
       "<td><script type=\"math/tex\">\\mathrm{True}</script></td>\n",
       "<td>S4</td>\n",
       "</tr>\n",
       "<tr class =\"row-a\">\n",
       "<td><script type=\"math/tex\">7</script></td>\n",
       "<td><script type=\"math/tex\">28</script></td>\n",
       "<td><script type=\"math/tex\">\\left[1, 2, 5, 6, 6, 5, 2, 1\\right]</script></td>\n",
       "<td><script type=\"math/tex\">\\mathrm{False}</script></td>\n",
       "<td><script type=\"math/tex\">\\mathrm{True}</script></td>\n",
       "<td>C2 x C2 x S3</td>\n",
       "</tr>\n",
       "<tr class =\"row-b\">\n",
       "<td><script type=\"math/tex\">7</script></td>\n",
       "<td><script type=\"math/tex\">24</script></td>\n",
       "<td><script type=\"math/tex\">\\left[1, 2, 3, 6, 6, 3, 2, 1\\right]</script></td>\n",
       "<td><script type=\"math/tex\">\\mathrm{False}</script></td>\n",
       "<td><script type=\"math/tex\">\\mathrm{True}</script></td>\n",
       "<td>A4</td>\n",
       "</tr>\n",
       "<tr class =\"row-a\">\n",
       "<td><script type=\"math/tex\">7</script></td>\n",
       "<td><script type=\"math/tex\">30</script></td>\n",
       "<td><script type=\"math/tex\">\\left[1, 3, 5, 6, 6, 5, 3, 1\\right]</script></td>\n",
       "<td><script type=\"math/tex\">\\mathrm{False}</script></td>\n",
       "<td><script type=\"math/tex\">\\mathrm{True}</script></td>\n",
       "<td>C2 x S4</td>\n",
       "</tr>\n",
       "<tr class =\"row-b\">\n",
       "<td><script type=\"math/tex\">7</script></td>\n",
       "<td><script type=\"math/tex\">36</script></td>\n",
       "<td><script type=\"math/tex\">\\left[1, 3, 6, 8, 8, 6, 3, 1\\right]</script></td>\n",
       "<td><script type=\"math/tex\">\\mathrm{False}</script></td>\n",
       "<td><script type=\"math/tex\">\\mathrm{True}</script></td>\n",
       "<td>C2 x D4</td>\n",
       "</tr>\n",
       "<tr class =\"row-a\">\n",
       "<td><script type=\"math/tex\">7</script></td>\n",
       "<td><script type=\"math/tex\">42</script></td>\n",
       "<td><script type=\"math/tex\">\\left[1, 3, 7, 10, 10, 7, 3, 1\\right]</script></td>\n",
       "<td><script type=\"math/tex\">\\mathrm{False}</script></td>\n",
       "<td><script type=\"math/tex\">\\mathrm{True}</script></td>\n",
       "<td>D4</td>\n",
       "</tr>\n",
       "<tr class =\"row-b\">\n",
       "<td><script type=\"math/tex\">7</script></td>\n",
       "<td><script type=\"math/tex\">48</script></td>\n",
       "<td><script type=\"math/tex\">\\left[1, 3, 8, 12, 12, 8, 3, 1\\right]</script></td>\n",
       "<td><script type=\"math/tex\">\\mathrm{False}</script></td>\n",
       "<td><script type=\"math/tex\">\\mathrm{True}</script></td>\n",
       "<td>C2 x C2</td>\n",
       "</tr>\n",
       "<tr class =\"row-a\">\n",
       "<td><script type=\"math/tex\">7</script></td>\n",
       "<td><script type=\"math/tex\">38</script></td>\n",
       "<td><script type=\"math/tex\">\\left[1, 3, 6, 9, 9, 6, 3, 1\\right]</script></td>\n",
       "<td><script type=\"math/tex\">\\mathrm{False}</script></td>\n",
       "<td><script type=\"math/tex\">\\mathrm{True}</script></td>\n",
       "<td>D4</td>\n",
       "</tr>\n",
       "<tr class =\"row-b\">\n",
       "<td><script type=\"math/tex\">7</script></td>\n",
       "<td><script type=\"math/tex\">42</script></td>\n",
       "<td><script type=\"math/tex\">\\left[1, 3, 7, 10, 10, 7, 3, 1\\right]</script></td>\n",
       "<td><script type=\"math/tex\">\\mathrm{False}</script></td>\n",
       "<td><script type=\"math/tex\">\\mathrm{True}</script></td>\n",
       "<td>C2 x C2 x C2</td>\n",
       "</tr>\n",
       "<tr class =\"row-a\">\n",
       "<td><script type=\"math/tex\">7</script></td>\n",
       "<td><script type=\"math/tex\">44</script></td>\n",
       "<td><script type=\"math/tex\">\\left[1, 3, 7, 11, 11, 7, 3, 1\\right]</script></td>\n",
       "<td><script type=\"math/tex\">\\mathrm{False}</script></td>\n",
       "<td><script type=\"math/tex\">\\mathrm{True}</script></td>\n",
       "<td>C4</td>\n",
       "</tr>\n",
       "<tr class =\"row-b\">\n",
       "<td><script type=\"math/tex\">7</script></td>\n",
       "<td><script type=\"math/tex\">40</script></td>\n",
       "<td><script type=\"math/tex\">\\left[1, 4, 7, 8, 8, 7, 4, 1\\right]</script></td>\n",
       "<td><script type=\"math/tex\">\\mathrm{False}</script></td>\n",
       "<td><script type=\"math/tex\">\\mathrm{True}</script></td>\n",
       "<td>S4</td>\n",
       "</tr>\n",
       "<tr class =\"row-a\">\n",
       "<td><script type=\"math/tex\">7</script></td>\n",
       "<td><script type=\"math/tex\">48</script></td>\n",
       "<td><script type=\"math/tex\">\\left[1, 4, 8, 11, 11, 8, 4, 1\\right]</script></td>\n",
       "<td><script type=\"math/tex\">\\mathrm{False}</script></td>\n",
       "<td><script type=\"math/tex\">\\mathrm{True}</script></td>\n",
       "<td>D4</td>\n",
       "</tr>\n",
       "<tr class =\"row-b\">\n",
       "<td><script type=\"math/tex\">7</script></td>\n",
       "<td><script type=\"math/tex\">56</script></td>\n",
       "<td><script type=\"math/tex\">\\left[1, 4, 9, 14, 14, 9, 4, 1\\right]</script></td>\n",
       "<td><script type=\"math/tex\">\\mathrm{False}</script></td>\n",
       "<td><script type=\"math/tex\">\\mathrm{True}</script></td>\n",
       "<td>C2 x C2</td>\n",
       "</tr>\n",
       "<tr class =\"row-a\">\n",
       "<td><script type=\"math/tex\">7</script></td>\n",
       "<td><script type=\"math/tex\">32</script></td>\n",
       "<td><script type=\"math/tex\">\\left[1, 3, 5, 7, 7, 5, 3, 1\\right]</script></td>\n",
       "<td><script type=\"math/tex\">\\mathrm{False}</script></td>\n",
       "<td><script type=\"math/tex\">\\mathrm{True}</script></td>\n",
       "<td>S3 x S3</td>\n",
       "</tr>\n",
       "<tr class =\"row-b\">\n",
       "<td><script type=\"math/tex\">7</script></td>\n",
       "<td><script type=\"math/tex\">40</script></td>\n",
       "<td><script type=\"math/tex\">\\left[1, 3, 6, 10, 10, 6, 3, 1\\right]</script></td>\n",
       "<td><script type=\"math/tex\">\\mathrm{False}</script></td>\n",
       "<td><script type=\"math/tex\">\\mathrm{True}</script></td>\n",
       "<td>S3</td>\n",
       "</tr>\n",
       "<tr class =\"row-a\">\n",
       "<td><script type=\"math/tex\">7</script></td>\n",
       "<td><script type=\"math/tex\">48</script></td>\n",
       "<td><script type=\"math/tex\">\\left[1, 3, 7, 13, 13, 7, 3, 1\\right]</script></td>\n",
       "<td><script type=\"math/tex\">\\mathrm{False}</script></td>\n",
       "<td><script type=\"math/tex\">\\mathrm{True}</script></td>\n",
       "<td>C3</td>\n",
       "</tr>\n",
       "<tr class =\"row-b\">\n",
       "<td><script type=\"math/tex\">7</script></td>\n",
       "<td><script type=\"math/tex\">36</script></td>\n",
       "<td><script type=\"math/tex\">\\left[1, 3, 6, 8, 8, 6, 3, 1\\right]</script></td>\n",
       "<td><script type=\"math/tex\">\\mathrm{False}</script></td>\n",
       "<td><script type=\"math/tex\">\\mathrm{True}</script></td>\n",
       "<td>C2 x C2 x S3</td>\n",
       "</tr>\n",
       "<tr class =\"row-a\">\n",
       "<td><script type=\"math/tex\">7</script></td>\n",
       "<td><script type=\"math/tex\">40</script></td>\n",
       "<td><script type=\"math/tex\">\\left[1, 3, 7, 9, 9, 7, 3, 1\\right]</script></td>\n",
       "<td><script type=\"math/tex\">\\mathrm{False}</script></td>\n",
       "<td><script type=\"math/tex\">\\mathrm{True}</script></td>\n",
       "<td>D6</td>\n",
       "</tr>\n",
       "<tr class =\"row-b\">\n",
       "<td><script type=\"math/tex\">7</script></td>\n",
       "<td><script type=\"math/tex\">48</script></td>\n",
       "<td><script type=\"math/tex\">\\left[1, 4, 8, 11, 11, 8, 4, 1\\right]</script></td>\n",
       "<td><script type=\"math/tex\">\\mathrm{False}</script></td>\n",
       "<td><script type=\"math/tex\">\\mathrm{True}</script></td>\n",
       "<td>D6</td>\n",
       "</tr>\n",
       "<tr class =\"row-a\">\n",
       "<td><script type=\"math/tex\">7</script></td>\n",
       "<td><script type=\"math/tex\">64</script></td>\n",
       "<td><script type=\"math/tex\">\\left[1, 5, 11, 15, 15, 11, 5, 1\\right]</script></td>\n",
       "<td><script type=\"math/tex\">\\mathrm{False}</script></td>\n",
       "<td><script type=\"math/tex\">\\mathrm{True}</script></td>\n",
       "<td>S3</td>\n",
       "</tr>\n",
       "<tr class =\"row-b\">\n",
       "<td><script type=\"math/tex\">7</script></td>\n",
       "<td><script type=\"math/tex\">54</script></td>\n",
       "<td><script type=\"math/tex\">\\left[1, 4, 9, 13, 13, 9, 4, 1\\right]</script></td>\n",
       "<td><script type=\"math/tex\">\\mathrm{False}</script></td>\n",
       "<td><script type=\"math/tex\">\\mathrm{True}</script></td>\n",
       "<td>C2 x C2 x C2</td>\n",
       "</tr>\n",
       "<tr class =\"row-a\">\n",
       "<td><script type=\"math/tex\">7</script></td>\n",
       "<td><script type=\"math/tex\">60</script></td>\n",
       "<td><script type=\"math/tex\">\\left[1, 4, 10, 15, 15, 10, 4, 1\\right]</script></td>\n",
       "<td><script type=\"math/tex\">\\mathrm{False}</script></td>\n",
       "<td><script type=\"math/tex\">\\mathrm{True}</script></td>\n",
       "<td>C2 x C2</td>\n",
       "</tr>\n",
       "<tr class =\"row-b\">\n",
       "<td><script type=\"math/tex\">7</script></td>\n",
       "<td><script type=\"math/tex\">56</script></td>\n",
       "<td><script type=\"math/tex\">\\left[1, 4, 9, 14, 14, 9, 4, 1\\right]</script></td>\n",
       "<td><script type=\"math/tex\">\\mathrm{False}</script></td>\n",
       "<td><script type=\"math/tex\">\\mathrm{True}</script></td>\n",
       "<td>C2 x C2</td>\n",
       "</tr>\n",
       "<tr class =\"row-a\">\n",
       "<td><script type=\"math/tex\">7</script></td>\n",
       "<td><script type=\"math/tex\">72</script></td>\n",
       "<td><script type=\"math/tex\">\\left[1, 4, 12, 19, 19, 12, 4, 1\\right]</script></td>\n",
       "<td><script type=\"math/tex\">\\mathrm{False}</script></td>\n",
       "<td><script type=\"math/tex\">\\mathrm{True}</script></td>\n",
       "<td>C2</td>\n",
       "</tr>\n",
       "<tr class =\"row-b\">\n",
       "<td><script type=\"math/tex\">7</script></td>\n",
       "<td><script type=\"math/tex\">72</script></td>\n",
       "<td><script type=\"math/tex\">\\left[1, 5, 12, 18, 18, 12, 5, 1\\right]</script></td>\n",
       "<td><script type=\"math/tex\">\\mathrm{False}</script></td>\n",
       "<td><script type=\"math/tex\">\\mathrm{True}</script></td>\n",
       "<td>C2 x C2</td>\n",
       "</tr>\n",
       "<tr class =\"row-a\">\n",
       "<td><script type=\"math/tex\">7</script></td>\n",
       "<td><script type=\"math/tex\">80</script></td>\n",
       "<td><script type=\"math/tex\">\\left[1, 5, 13, 21, 21, 13, 5, 1\\right]</script></td>\n",
       "<td><script type=\"math/tex\">\\mathrm{False}</script></td>\n",
       "<td><script type=\"math/tex\">\\mathrm{True}</script></td>\n",
       "<td>C2</td>\n",
       "</tr>\n",
       "<tr class =\"row-b\">\n",
       "<td><script type=\"math/tex\">7</script></td>\n",
       "<td><script type=\"math/tex\">96</script></td>\n",
       "<td><script type=\"math/tex\">\\left[1, 6, 16, 25, 25, 16, 6, 1\\right]</script></td>\n",
       "<td><script type=\"math/tex\">\\mathrm{False}</script></td>\n",
       "<td><script type=\"math/tex\">\\mathrm{True}</script></td>\n",
       "<td>C2</td>\n",
       "</tr>\n",
       "<tr class =\"row-a\">\n",
       "<td><script type=\"math/tex\">7</script></td>\n",
       "<td><script type=\"math/tex\">128</script></td>\n",
       "<td><script type=\"math/tex\">\\left[1, 7, 21, 35, 35, 21, 7, 1\\right]</script></td>\n",
       "<td><script type=\"math/tex\">\\mathrm{False}</script></td>\n",
       "<td><script type=\"math/tex\">\\mathrm{True}</script></td>\n",
       "<td>1</td>\n",
       "</tr>\n",
       "</tbody>\n",
       "</table>\n",
       "</div>"
      ],
      "text/plain": [
       "  n   total rank   ranks                          homogeneous?   schurian?   $\\mathrm{Aut}(\\mathfrak{S})$\n",
       "+---+------------+------------------------------+--------------+-----------+------------------------------+\n",
       "  7   8            [1, 1, 1, 1, 1, 1, 1, 1]       True           True        S7\n",
       "  7   18           [1, 1, 3, 4, 4, 3, 1, 1]       True           True        D7\n",
       "  7   10           [1, 1, 1, 2, 2, 1, 1, 1]       True           True        C7 : C6\n",
       "  7   10           [1, 1, 1, 2, 2, 1, 1, 1]       True           True        PSL(3,2)\n",
       "  7   20           [1, 1, 3, 5, 5, 3, 1, 1]       True           True        C7\n",
       "  7   12           [1, 1, 1, 3, 3, 1, 1, 1]       True           True        C7 : C3\n",
       "  7   14           [1, 2, 2, 2, 2, 2, 2, 1]       False          True        S6\n",
       "  7   20           [1, 2, 3, 4, 4, 3, 2, 1]       False          True        C2 x S4\n",
       "  7   26           [1, 2, 4, 6, 6, 4, 2, 1]       False          True        D6\n",
       "  7   16           [1, 2, 2, 3, 3, 2, 2, 1]       False          True        A5\n",
       "  7   20           [1, 2, 3, 4, 4, 3, 2, 1]       False          True        (S3 x S3) : C2\n",
       "  7   32           [1, 2, 5, 8, 8, 5, 2, 1]       False          True        S3\n",
       "  7   22           [1, 2, 3, 5, 5, 3, 2, 1]       False          True        S4\n",
       "  7   22           [1, 2, 3, 5, 5, 3, 2, 1]       False          True        C2 x A4\n",
       "  7   28           [1, 2, 4, 7, 7, 4, 2, 1]       False          True        C6\n",
       "  7   24           [1, 2, 3, 6, 6, 3, 2, 1]       False          True        A4\n",
       "  7   18           [1, 2, 3, 3, 3, 3, 2, 1]       False          True        C2 x S5\n",
       "  7   20           [1, 2, 3, 4, 4, 3, 2, 1]       False          True        C5 : C4\n",
       "  7   24           [1, 2, 4, 5, 5, 4, 2, 1]       False          True        D10\n",
       "  7   24           [1, 3, 4, 4, 4, 4, 3, 1]       False          True        S5\n",
       "  7   32           [1, 3, 5, 7, 7, 5, 3, 1]       False          True        D5\n",
       "  7   20           [1, 2, 3, 4, 4, 3, 2, 1]       False          True        S3 x S4\n",
       "  7   24           [1, 2, 4, 5, 5, 4, 2, 1]       False          True        D4 x S3\n",
       "  7   22           [1, 2, 3, 5, 5, 3, 2, 1]       False          True        S4\n",
       "  7   28           [1, 2, 5, 6, 6, 5, 2, 1]       False          True        C2 x C2 x S3\n",
       "  7   24           [1, 2, 3, 6, 6, 3, 2, 1]       False          True        A4\n",
       "  7   30           [1, 3, 5, 6, 6, 5, 3, 1]       False          True        C2 x S4\n",
       "  7   36           [1, 3, 6, 8, 8, 6, 3, 1]       False          True        C2 x D4\n",
       "  7   42           [1, 3, 7, 10, 10, 7, 3, 1]     False          True        D4\n",
       "  7   48           [1, 3, 8, 12, 12, 8, 3, 1]     False          True        C2 x C2\n",
       "  7   38           [1, 3, 6, 9, 9, 6, 3, 1]       False          True        D4\n",
       "  7   42           [1, 3, 7, 10, 10, 7, 3, 1]     False          True        C2 x C2 x C2\n",
       "  7   44           [1, 3, 7, 11, 11, 7, 3, 1]     False          True        C4\n",
       "  7   40           [1, 4, 7, 8, 8, 7, 4, 1]       False          True        S4\n",
       "  7   48           [1, 4, 8, 11, 11, 8, 4, 1]     False          True        D4\n",
       "  7   56           [1, 4, 9, 14, 14, 9, 4, 1]     False          True        C2 x C2\n",
       "  7   32           [1, 3, 5, 7, 7, 5, 3, 1]       False          True        S3 x S3\n",
       "  7   40           [1, 3, 6, 10, 10, 6, 3, 1]     False          True        S3\n",
       "  7   48           [1, 3, 7, 13, 13, 7, 3, 1]     False          True        C3\n",
       "  7   36           [1, 3, 6, 8, 8, 6, 3, 1]       False          True        C2 x C2 x S3\n",
       "  7   40           [1, 3, 7, 9, 9, 7, 3, 1]       False          True        D6\n",
       "  7   48           [1, 4, 8, 11, 11, 8, 4, 1]     False          True        D6\n",
       "  7   64           [1, 5, 11, 15, 15, 11, 5, 1]   False          True        S3\n",
       "  7   54           [1, 4, 9, 13, 13, 9, 4, 1]     False          True        C2 x C2 x C2\n",
       "  7   60           [1, 4, 10, 15, 15, 10, 4, 1]   False          True        C2 x C2\n",
       "  7   56           [1, 4, 9, 14, 14, 9, 4, 1]     False          True        C2 x C2\n",
       "  7   72           [1, 4, 12, 19, 19, 12, 4, 1]   False          True        C2\n",
       "  7   72           [1, 5, 12, 18, 18, 12, 5, 1]   False          True        C2 x C2\n",
       "  7   80           [1, 5, 13, 21, 21, 13, 5, 1]   False          True        C2\n",
       "  7   96           [1, 6, 16, 25, 25, 16, 6, 1]   False          True        C2\n",
       "  7   128          [1, 7, 21, 35, 35, 21, 7, 1]   False          True        1"
      ]
     },
     "execution_count": 10,
     "metadata": {},
     "output_type": "execute_result"
    }
   ],
   "source": [
    "table([s.summary() for s in all_sas],\n",
    "      header_row=('n', 'total rank', 'ranks', 'homogeneous?', 'schurian?', r'$\\mathrm{Aut}(\\mathfrak{S})$'))"
   ]
  },
  {
   "cell_type": "markdown",
   "metadata": {},
   "source": [
    "## $n = 8$"
   ]
  },
  {
   "cell_type": "code",
   "execution_count": 11,
   "metadata": {},
   "outputs": [],
   "source": [
    "n = 8"
   ]
  },
  {
   "cell_type": "code",
   "execution_count": null,
   "metadata": {
    "scrolled": true
   },
   "outputs": [
    {
     "name": "stdout",
     "output_type": "stream",
     "text": [
      "Searching for coherent refinements of <SAS of degree 8 and ranks [1, 1, 1, 1, 1, 1, 1, 1, 1]>\n",
      "Summary: (8, 9, [1, 1, 1, 1, 1, 1, 1, 1, 1], True, True, 'S8')\n"
     ]
    },
    {
     "data": {
      "application/vnd.jupyter.widget-view+json": {
       "model_id": "5c717824ff78470195e73cae890138a7",
       "version_major": 2,
       "version_minor": 0
      },
      "text/plain": [
       "0it [00:00, ?it/s]"
      ]
     },
     "metadata": {},
     "output_type": "display_data"
    },
    {
     "name": "stdout",
     "output_type": "stream",
     "text": [
      "Enumerating monochromatic designs on level 2\n"
     ]
    },
    {
     "data": {
      "application/vnd.jupyter.widget-view+json": {
       "model_id": "6828248d0a394170b8ff5eecb9536560",
       "version_major": 2,
       "version_minor": 0
      },
      "text/plain": [
       "0it [00:00, ?it/s]"
      ]
     },
     "metadata": {},
     "output_type": "display_data"
    },
    {
     "name": "stdout",
     "output_type": "stream",
     "text": [
      "Enumerating monochromatic designs on level 3\n"
     ]
    },
    {
     "data": {
      "application/vnd.jupyter.widget-view+json": {
       "model_id": "4a05fa54c7b74c178ad6d985f920df46",
       "version_major": 2,
       "version_minor": 0
      },
      "text/plain": [
       "0it [00:00, ?it/s]"
      ]
     },
     "metadata": {},
     "output_type": "display_data"
    },
    {
     "name": "stdout",
     "output_type": "stream",
     "text": [
      "Enumerating monochromatic designs on level 4\n"
     ]
    },
    {
     "data": {
      "application/vnd.jupyter.widget-view+json": {
       "model_id": "4ce7d3ff2e9149ecb389b5a349c388ea",
       "version_major": 2,
       "version_minor": 0
      },
      "text/plain": [
       "0it [00:00, ?it/s]"
      ]
     },
     "metadata": {},
     "output_type": "display_data"
    },
    {
     "name": "stdout",
     "output_type": "stream",
     "text": [
      "Testing 12 designs with WL... (triangles only)\n"
     ]
    },
    {
     "data": {
      "application/vnd.jupyter.widget-view+json": {
       "model_id": "9b8b66a4509244f09ee2724b12ae7a6c",
       "version_major": 2,
       "version_minor": 0
      },
      "text/plain": [
       "  0%|          | 0/12 [00:00<?, ?it/s]"
      ]
     },
     "metadata": {},
     "output_type": "display_data"
    },
    {
     "name": "stdout",
     "output_type": "stream",
     "text": [
      "Found: <SAS of degree 8 and ranks [1, 1, 2, 2, 3, 2, 2, 1, 1]>\n",
      "Summary: (8, 15, [1, 1, 2, 2, 3, 2, 2, 1, 1], True, True, '(S4 x S4) : C2')\n",
      "Found: <SAS of degree 8 and ranks [1, 1, 2, 2, 3, 2, 2, 1, 1]>\n",
      "Summary: (8, 15, [1, 1, 2, 2, 3, 2, 2, 1, 1], True, True, '((((C2 x C2 x C2 x C2) : C2) : C2) : C3) : C2')\n",
      "Found: <SAS of degree 8 and ranks [1, 1, 3, 3, 6, 3, 3, 1, 1]>\n",
      "Summary: (8, 22, [1, 1, 3, 3, 6, 3, 3, 1, 1], True, True, 'C2 x S4')\n",
      "Found: <SAS of degree 8 and ranks [1, 1, 3, 3, 5, 3, 3, 1, 1]>\n",
      "Summary: (8, 21, [1, 1, 3, 3, 5, 3, 3, 1, 1], True, True, '(((C2 x C2 x C2 x C2) : C2) : C2) : C2')\n",
      "Found: <SAS of degree 8 and ranks [1, 1, 4, 5, 8, 5, 4, 1, 1]>\n",
      "Summary: (8, 30, [1, 1, 4, 5, 8, 5, 4, 1, 1], True, True, 'D8')\n",
      "Found: <SAS of degree 8 and ranks [1, 1, 1, 1, 2, 1, 1, 1, 1]>\n",
      "Summary: (8, 10, [1, 1, 1, 1, 2, 1, 1, 1, 1], True, True, '(C2 x C2 x C2) : PSL(3,2)')\n",
      "Found: <SAS of degree 8 and ranks [1, 1, 1, 1, 2, 1, 1, 1, 1]>\n",
      "Summary: (8, 10, [1, 1, 1, 1, 2, 1, 1, 1, 1], True, True, 'PSL(3,2) : C2')\n",
      "Searching for coherent refinements of <SAS of degree 8 and ranks [1, 1, 2, 2, 3, 2, 2, 1, 1]>\n",
      "Summary: (8, 15, [1, 1, 2, 2, 3, 2, 2, 1, 1], True, True, '(S4 x S4) : C2')\n"
     ]
    },
    {
     "data": {
      "application/vnd.jupyter.widget-view+json": {
       "model_id": "31d7934ea539433d9f6fb8ab55fd7166",
       "version_major": 2,
       "version_minor": 0
      },
      "text/plain": [
       "0it [00:00, ?it/s]"
      ]
     },
     "metadata": {},
     "output_type": "display_data"
    },
    {
     "name": "stdout",
     "output_type": "stream",
     "text": [
      "Enumerating monochromatic designs on level 2\n"
     ]
    },
    {
     "data": {
      "application/vnd.jupyter.widget-view+json": {
       "model_id": "9888311869dc49ce96f107a71a6e27a3",
       "version_major": 2,
       "version_minor": 0
      },
      "text/plain": [
       "0it [00:00, ?it/s]"
      ]
     },
     "metadata": {},
     "output_type": "display_data"
    },
    {
     "name": "stdout",
     "output_type": "stream",
     "text": [
      "Enumerating monochromatic designs on level 3\n"
     ]
    },
    {
     "data": {
      "application/vnd.jupyter.widget-view+json": {
       "model_id": "9a7afe652aa34d57bfde25ac4ac8a48a",
       "version_major": 2,
       "version_minor": 0
      },
      "text/plain": [
       "0it [00:00, ?it/s]"
      ]
     },
     "metadata": {},
     "output_type": "display_data"
    },
    {
     "name": "stdout",
     "output_type": "stream",
     "text": [
      "Enumerating monochromatic designs on level 4\n"
     ]
    },
    {
     "data": {
      "application/vnd.jupyter.widget-view+json": {
       "model_id": "f243f560e19d40c0a140e44f4e77477b",
       "version_major": 2,
       "version_minor": 0
      },
      "text/plain": [
       "0it [00:00, ?it/s]"
      ]
     },
     "metadata": {},
     "output_type": "display_data"
    },
    {
     "name": "stdout",
     "output_type": "stream",
     "text": [
      "Testing 14 designs with WL... (triangles only)\n"
     ]
    },
    {
     "data": {
      "application/vnd.jupyter.widget-view+json": {
       "model_id": "810f1a153d5c441f84fa9163abc46db7",
       "version_major": 2,
       "version_minor": 0
      },
      "text/plain": [
       "  0%|          | 0/14 [00:00<?, ?it/s]"
      ]
     },
     "metadata": {},
     "output_type": "display_data"
    },
    {
     "name": "stdout",
     "output_type": "stream",
     "text": [
      "Checking for isomorphism...\n"
     ]
    },
    {
     "data": {
      "application/vnd.jupyter.widget-view+json": {
       "model_id": "a5892f18170848338b33c2749d09cc9b",
       "version_major": 2,
       "version_minor": 0
      },
      "text/plain": [
       "  0%|          | 0/40320 [00:00<?, ?it/s]"
      ]
     },
     "metadata": {},
     "output_type": "display_data"
    },
    {
     "name": "stdout",
     "output_type": "stream",
     "text": [
      "Found: <SAS of degree 8 and ranks [1, 1, 2, 2, 4, 2, 2, 1, 1]>\n",
      "Summary: (8, 16, [1, 1, 2, 2, 4, 2, 2, 1, 1], True, True, '(((C2 x C2 x C2 x C2) : C3) : C2) : C2')\n",
      "Found: <SAS of degree 8 and ranks [1, 1, 4, 4, 7, 4, 4, 1, 1]>\n",
      "Summary: (8, 27, [1, 1, 4, 4, 7, 4, 4, 1, 1], True, True, '((C2 x C2 x C2 x C2) : C2) : C2')\n",
      "Checking for isomorphism...\n"
     ]
    },
    {
     "data": {
      "application/vnd.jupyter.widget-view+json": {
       "model_id": "7d59ec79821f445c89b12d8e72a0450b",
       "version_major": 2,
       "version_minor": 0
      },
      "text/plain": [
       "  0%|          | 0/40320 [00:00<?, ?it/s]"
      ]
     },
     "metadata": {},
     "output_type": "display_data"
    }
   ],
   "source": [
    "all_sas = []\n",
    "all_sas.extend(SAS.find_all(n, verbosity=2))"
   ]
  },
  {
   "cell_type": "code",
   "execution_count": null,
   "metadata": {},
   "outputs": [],
   "source": [
    "table([s.summary() for s in all_sas])"
   ]
  },
  {
   "cell_type": "code",
   "execution_count": null,
   "metadata": {},
   "outputs": [],
   "source": [
    "table([s.summary() for s in all_sas if not s.is_schurian()])"
   ]
  }
 ],
 "metadata": {
  "kernelspec": {
   "display_name": "SageMath 9.1",
   "language": "sage",
   "name": "sagemath"
  },
  "language_info": {
   "codemirror_mode": {
    "name": "ipython",
    "version": 3
   },
   "file_extension": ".py",
   "mimetype": "text/x-python",
   "name": "python",
   "nbconvert_exporter": "python",
   "pygments_lexer": "ipython3",
   "version": "3.7.3"
  }
 },
 "nbformat": 4,
 "nbformat_minor": 2
}
