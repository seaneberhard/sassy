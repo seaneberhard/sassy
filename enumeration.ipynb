{
 "cells": [
  {
   "cell_type": "markdown",
   "metadata": {},
   "source": [
    "Goal: Find a non-Schurian coherent set configuration / set association scheme\n",
    "\n",
    "Via a Hamming-type construction this would give a non-Schurian PCC with large automorphism group."
   ]
  },
  {
   "cell_type": "code",
   "execution_count": 1,
   "metadata": {},
   "outputs": [],
   "source": [
    "from sassy import SAS"
   ]
  },
  {
   "cell_type": "code",
   "execution_count": 2,
   "metadata": {},
   "outputs": [
    {
     "name": "stdout",
     "output_type": "stream",
     "text": [
      "WL step:\n"
     ]
    },
    {
     "data": {
      "application/vnd.jupyter.widget-view+json": {
       "model_id": "b7e0412cdaf74d49a8a9189dce93982f",
       "version_major": 2,
       "version_minor": 0
      },
      "text/plain": [
       "  0%|          | 0/25100 [00:00<?, ?it/s]"
      ]
     },
     "metadata": {},
     "output_type": "display_data"
    },
    {
     "name": "stdout",
     "output_type": "stream",
     "text": [
      "Rank: 9 --> 10\n",
      "WL step:\n"
     ]
    },
    {
     "data": {
      "application/vnd.jupyter.widget-view+json": {
       "model_id": "9061bc6654d34cc3bdd360766a092f2e",
       "version_major": 2,
       "version_minor": 0
      },
      "text/plain": [
       "  0%|          | 0/25100 [00:00<?, ?it/s]"
      ]
     },
     "metadata": {},
     "output_type": "display_data"
    },
    {
     "name": "stdout",
     "output_type": "stream",
     "text": [
      "Rank: 10 --> 10\n"
     ]
    },
    {
     "data": {
      "text/plain": [
       "(6, 10, [1, 1, 2, 2, 2, 1, 1], True, True, 'C2 x S4')"
      ]
     },
     "execution_count": 2,
     "metadata": {},
     "output_type": "execute_result"
    }
   ],
   "source": [
    "## basic unit test\n",
    "X = SAS(6)\n",
    "X.separate([{1, 2}, {3, 4}, {5, 6}])\n",
    "X.wl_full(log_progress=True)\n",
    "X.summary()"
   ]
  },
  {
   "cell_type": "markdown",
   "metadata": {},
   "source": [
    "expected: $\\texttt{(6, 10, [1, 1, 2, 2, 2, 1, 1], True, True, 'C2 x S4')}$\n"
   ]
  },
  {
   "cell_type": "markdown",
   "metadata": {},
   "source": [
    "## $n \\leq 5$"
   ]
  },
  {
   "cell_type": "code",
   "execution_count": 3,
   "metadata": {
    "scrolled": true
   },
   "outputs": [
    {
     "name": "stdout",
     "output_type": "stream",
     "text": [
      "Searching for coherent refinements of <SAS of degree 1 and ranks [1, 1]>\n",
      "Summary: (1, 2, [1, 1], True, True, '1')\n"
     ]
    },
    {
     "data": {
      "application/vnd.jupyter.widget-view+json": {
       "model_id": "5a428927342547cc9e6e704dcb9b7883",
       "version_major": 2,
       "version_minor": 0
      },
      "text/plain": [
       "0it [00:00, ?it/s]"
      ]
     },
     "metadata": {},
     "output_type": "display_data"
    },
    {
     "name": "stdout",
     "output_type": "stream",
     "text": [
      "Testing 0 designs with WL... (triangles only)\n"
     ]
    },
    {
     "data": {
      "application/vnd.jupyter.widget-view+json": {
       "model_id": "ec19d2df54fa448ebfe9dd23b0b057dd",
       "version_major": 2,
       "version_minor": 0
      },
      "text/plain": [
       "0it [00:00, ?it/s]"
      ]
     },
     "metadata": {},
     "output_type": "display_data"
    },
    {
     "name": "stdout",
     "output_type": "stream",
     "text": [
      "Searching for coherent refinements of <SAS of degree 2 and ranks [1, 1, 1]>\n",
      "Summary: (2, 3, [1, 1, 1], True, True, 'C2')\n"
     ]
    },
    {
     "data": {
      "application/vnd.jupyter.widget-view+json": {
       "model_id": "bbeb0c93d8384cdcaa2ab03b8cf27090",
       "version_major": 2,
       "version_minor": 0
      },
      "text/plain": [
       "0it [00:00, ?it/s]"
      ]
     },
     "metadata": {},
     "output_type": "display_data"
    },
    {
     "name": "stdout",
     "output_type": "stream",
     "text": [
      "Enumerating monochromatic designs on level 1\n"
     ]
    },
    {
     "data": {
      "application/vnd.jupyter.widget-view+json": {
       "model_id": "1eebfc638db04556a843ed1ed5d0c1fa",
       "version_major": 2,
       "version_minor": 0
      },
      "text/plain": [
       "0it [00:00, ?it/s]"
      ]
     },
     "metadata": {},
     "output_type": "display_data"
    },
    {
     "name": "stdout",
     "output_type": "stream",
     "text": [
      "Testing 1 designs with WL... (triangles only)\n"
     ]
    },
    {
     "data": {
      "application/vnd.jupyter.widget-view+json": {
       "model_id": "cf5673ed8e9a4657bc7520332bda2ba3",
       "version_major": 2,
       "version_minor": 0
      },
      "text/plain": [
       "  0%|          | 0/1 [00:00<?, ?it/s]"
      ]
     },
     "metadata": {},
     "output_type": "display_data"
    },
    {
     "name": "stdout",
     "output_type": "stream",
     "text": [
      "Found: <SAS of degree 2 and ranks [1, 2, 1]>\n",
      "Summary: (2, 4, [1, 2, 1], False, True, '1')\n",
      "Searching for coherent refinements of <SAS of degree 2 and ranks [1, 2, 1]>\n",
      "Summary: (2, 4, [1, 2, 1], False, True, '1')\n"
     ]
    },
    {
     "data": {
      "application/vnd.jupyter.widget-view+json": {
       "model_id": "54b3eb2910b24e9daa85c77b19f8adfc",
       "version_major": 2,
       "version_minor": 0
      },
      "text/plain": [
       "0it [00:00, ?it/s]"
      ]
     },
     "metadata": {},
     "output_type": "display_data"
    },
    {
     "name": "stdout",
     "output_type": "stream",
     "text": [
      "Enumerating monochromatic designs on level 1\n"
     ]
    },
    {
     "data": {
      "application/vnd.jupyter.widget-view+json": {
       "model_id": "f69edc5e04914b9c8708b43118a60cab",
       "version_major": 2,
       "version_minor": 0
      },
      "text/plain": [
       "0it [00:00, ?it/s]"
      ]
     },
     "metadata": {},
     "output_type": "display_data"
    },
    {
     "name": "stdout",
     "output_type": "stream",
     "text": [
      "Testing 0 designs with WL... (triangles only)\n"
     ]
    },
    {
     "data": {
      "application/vnd.jupyter.widget-view+json": {
       "model_id": "1a6f4e06605b470b9309946481ff140f",
       "version_major": 2,
       "version_minor": 0
      },
      "text/plain": [
       "0it [00:00, ?it/s]"
      ]
     },
     "metadata": {},
     "output_type": "display_data"
    },
    {
     "name": "stdout",
     "output_type": "stream",
     "text": [
      "Searching for coherent refinements of <SAS of degree 3 and ranks [1, 1, 1, 1]>\n",
      "Summary: (3, 4, [1, 1, 1, 1], True, True, 'S3')\n"
     ]
    },
    {
     "data": {
      "application/vnd.jupyter.widget-view+json": {
       "model_id": "095d10c972434b8abd807ea93e8dff9b",
       "version_major": 2,
       "version_minor": 0
      },
      "text/plain": [
       "0it [00:00, ?it/s]"
      ]
     },
     "metadata": {},
     "output_type": "display_data"
    },
    {
     "name": "stdout",
     "output_type": "stream",
     "text": [
      "Enumerating monochromatic designs on level 1\n"
     ]
    },
    {
     "data": {
      "application/vnd.jupyter.widget-view+json": {
       "model_id": "2411c91513e045ac8e13977ebcdcb9e8",
       "version_major": 2,
       "version_minor": 0
      },
      "text/plain": [
       "0it [00:00, ?it/s]"
      ]
     },
     "metadata": {},
     "output_type": "display_data"
    },
    {
     "name": "stdout",
     "output_type": "stream",
     "text": [
      "Testing 1 designs with WL... (triangles only)\n"
     ]
    },
    {
     "data": {
      "application/vnd.jupyter.widget-view+json": {
       "model_id": "eb983f5a8b5f44e4b6395943d98567ec",
       "version_major": 2,
       "version_minor": 0
      },
      "text/plain": [
       "  0%|          | 0/1 [00:00<?, ?it/s]"
      ]
     },
     "metadata": {},
     "output_type": "display_data"
    },
    {
     "name": "stdout",
     "output_type": "stream",
     "text": [
      "Found: <SAS of degree 3 and ranks [1, 2, 2, 1]>\n",
      "Summary: (3, 6, [1, 2, 2, 1], False, True, 'C2')\n",
      "Searching for coherent refinements of <SAS of degree 3 and ranks [1, 2, 2, 1]>\n",
      "Summary: (3, 6, [1, 2, 2, 1], False, True, 'C2')\n"
     ]
    },
    {
     "data": {
      "application/vnd.jupyter.widget-view+json": {
       "model_id": "53fade58d82c4f50b18a60688c24d0a3",
       "version_major": 2,
       "version_minor": 0
      },
      "text/plain": [
       "0it [00:00, ?it/s]"
      ]
     },
     "metadata": {},
     "output_type": "display_data"
    },
    {
     "name": "stdout",
     "output_type": "stream",
     "text": [
      "Enumerating monochromatic designs on level 1\n"
     ]
    },
    {
     "data": {
      "application/vnd.jupyter.widget-view+json": {
       "model_id": "a7590e97318348c7963e12687c39cf7c",
       "version_major": 2,
       "version_minor": 0
      },
      "text/plain": [
       "0it [00:00, ?it/s]"
      ]
     },
     "metadata": {},
     "output_type": "display_data"
    },
    {
     "name": "stdout",
     "output_type": "stream",
     "text": [
      "Testing 1 designs with WL... (triangles only)\n"
     ]
    },
    {
     "data": {
      "application/vnd.jupyter.widget-view+json": {
       "model_id": "f8e38788985e47b081edbf171685ce1f",
       "version_major": 2,
       "version_minor": 0
      },
      "text/plain": [
       "  0%|          | 0/1 [00:00<?, ?it/s]"
      ]
     },
     "metadata": {},
     "output_type": "display_data"
    },
    {
     "name": "stdout",
     "output_type": "stream",
     "text": [
      "Found: <SAS of degree 3 and ranks [1, 3, 3, 1]>\n",
      "Summary: (3, 8, [1, 3, 3, 1], False, True, '1')\n",
      "Searching for coherent refinements of <SAS of degree 3 and ranks [1, 3, 3, 1]>\n",
      "Summary: (3, 8, [1, 3, 3, 1], False, True, '1')\n"
     ]
    },
    {
     "data": {
      "application/vnd.jupyter.widget-view+json": {
       "model_id": "fb38eafaa9704c5c9d07aee1ecbe6a06",
       "version_major": 2,
       "version_minor": 0
      },
      "text/plain": [
       "0it [00:00, ?it/s]"
      ]
     },
     "metadata": {},
     "output_type": "display_data"
    },
    {
     "name": "stdout",
     "output_type": "stream",
     "text": [
      "Enumerating monochromatic designs on level 1\n"
     ]
    },
    {
     "data": {
      "application/vnd.jupyter.widget-view+json": {
       "model_id": "e6ad21ad250d4c68a523ef8183aea197",
       "version_major": 2,
       "version_minor": 0
      },
      "text/plain": [
       "0it [00:00, ?it/s]"
      ]
     },
     "metadata": {},
     "output_type": "display_data"
    },
    {
     "name": "stdout",
     "output_type": "stream",
     "text": [
      "Testing 0 designs with WL... (triangles only)\n"
     ]
    },
    {
     "data": {
      "application/vnd.jupyter.widget-view+json": {
       "model_id": "181171f3e072484ea969ef1d72525006",
       "version_major": 2,
       "version_minor": 0
      },
      "text/plain": [
       "0it [00:00, ?it/s]"
      ]
     },
     "metadata": {},
     "output_type": "display_data"
    },
    {
     "name": "stdout",
     "output_type": "stream",
     "text": [
      "Searching for coherent refinements of <SAS of degree 4 and ranks [1, 1, 1, 1, 1]>\n",
      "Summary: (4, 5, [1, 1, 1, 1, 1], True, True, 'S4')\n"
     ]
    },
    {
     "data": {
      "application/vnd.jupyter.widget-view+json": {
       "model_id": "f8ab854c6d104bad9326222a2e10c807",
       "version_major": 2,
       "version_minor": 0
      },
      "text/plain": [
       "0it [00:00, ?it/s]"
      ]
     },
     "metadata": {},
     "output_type": "display_data"
    },
    {
     "name": "stdout",
     "output_type": "stream",
     "text": [
      "Enumerating monochromatic designs on level 1\n"
     ]
    },
    {
     "data": {
      "application/vnd.jupyter.widget-view+json": {
       "model_id": "46269b41c2714365975e5bf3f4520f81",
       "version_major": 2,
       "version_minor": 0
      },
      "text/plain": [
       "0it [00:00, ?it/s]"
      ]
     },
     "metadata": {},
     "output_type": "display_data"
    },
    {
     "name": "stdout",
     "output_type": "stream",
     "text": [
      "Enumerating monochromatic designs on level 2\n"
     ]
    },
    {
     "data": {
      "application/vnd.jupyter.widget-view+json": {
       "model_id": "8e8027f240a8438f9568352f8126ccc6",
       "version_major": 2,
       "version_minor": 0
      },
      "text/plain": [
       "0it [00:00, ?it/s]"
      ]
     },
     "metadata": {},
     "output_type": "display_data"
    },
    {
     "name": "stdout",
     "output_type": "stream",
     "text": [
      "Testing 3 designs with WL... (triangles only)\n"
     ]
    },
    {
     "data": {
      "application/vnd.jupyter.widget-view+json": {
       "model_id": "8bb7f66a51cc43a59213292bd8f106b5",
       "version_major": 2,
       "version_minor": 0
      },
      "text/plain": [
       "  0%|          | 0/3 [00:00<?, ?it/s]"
      ]
     },
     "metadata": {},
     "output_type": "display_data"
    },
    {
     "name": "stdout",
     "output_type": "stream",
     "text": [
      "Found: <SAS of degree 4 and ranks [1, 1, 2, 1, 1]>\n",
      "Summary: (4, 6, [1, 1, 2, 1, 1], True, True, 'D4')\n",
      "Found: <SAS of degree 4 and ranks [1, 2, 3, 2, 1]>\n",
      "Summary: (4, 9, [1, 2, 3, 2, 1], False, True, 'C2 x C2')\n",
      "Found: <SAS of degree 4 and ranks [1, 2, 2, 2, 1]>\n",
      "Summary: (4, 8, [1, 2, 2, 2, 1], False, True, 'S3')\n",
      "Searching for coherent refinements of <SAS of degree 4 and ranks [1, 1, 2, 1, 1]>\n",
      "Summary: (4, 6, [1, 1, 2, 1, 1], True, True, 'D4')\n"
     ]
    },
    {
     "data": {
      "application/vnd.jupyter.widget-view+json": {
       "model_id": "34f160ae8df34b00800ac30c47dd5fae",
       "version_major": 2,
       "version_minor": 0
      },
      "text/plain": [
       "0it [00:00, ?it/s]"
      ]
     },
     "metadata": {},
     "output_type": "display_data"
    },
    {
     "name": "stdout",
     "output_type": "stream",
     "text": [
      "Enumerating monochromatic designs on level 2\n"
     ]
    },
    {
     "data": {
      "application/vnd.jupyter.widget-view+json": {
       "model_id": "7f985f106cd747f29f5b09dfac09da4b",
       "version_major": 2,
       "version_minor": 0
      },
      "text/plain": [
       "0it [00:00, ?it/s]"
      ]
     },
     "metadata": {},
     "output_type": "display_data"
    },
    {
     "name": "stdout",
     "output_type": "stream",
     "text": [
      "Testing 1 designs with WL... (triangles only)\n"
     ]
    },
    {
     "data": {
      "application/vnd.jupyter.widget-view+json": {
       "model_id": "4ac01ffc720341fb9444279063bf0805",
       "version_major": 2,
       "version_minor": 0
      },
      "text/plain": [
       "  0%|          | 0/1 [00:00<?, ?it/s]"
      ]
     },
     "metadata": {},
     "output_type": "display_data"
    },
    {
     "name": "stdout",
     "output_type": "stream",
     "text": [
      "Found: <SAS of degree 4 and ranks [1, 1, 3, 1, 1]>\n",
      "Summary: (4, 7, [1, 1, 3, 1, 1], True, True, 'C2 x C2')\n",
      "Searching for coherent refinements of <SAS of degree 4 and ranks [1, 2, 3, 2, 1]>\n",
      "Summary: (4, 9, [1, 2, 3, 2, 1], False, True, 'C2 x C2')\n"
     ]
    },
    {
     "data": {
      "application/vnd.jupyter.widget-view+json": {
       "model_id": "9ee2dc288eae40e1a170fb953332bda3",
       "version_major": 2,
       "version_minor": 0
      },
      "text/plain": [
       "0it [00:00, ?it/s]"
      ]
     },
     "metadata": {},
     "output_type": "display_data"
    },
    {
     "name": "stdout",
     "output_type": "stream",
     "text": [
      "Enumerating monochromatic designs on level 1\n"
     ]
    },
    {
     "data": {
      "application/vnd.jupyter.widget-view+json": {
       "model_id": "a8be575104084c719c15e1829a6c5639",
       "version_major": 2,
       "version_minor": 0
      },
      "text/plain": [
       "0it [00:00, ?it/s]"
      ]
     },
     "metadata": {},
     "output_type": "display_data"
    },
    {
     "name": "stdout",
     "output_type": "stream",
     "text": [
      "Enumerating monochromatic designs on level 2\n"
     ]
    },
    {
     "data": {
      "application/vnd.jupyter.widget-view+json": {
       "model_id": "09a9c82ac75b4a0a8f1d8fae829eb2a0",
       "version_major": 2,
       "version_minor": 0
      },
      "text/plain": [
       "0it [00:00, ?it/s]"
      ]
     },
     "metadata": {},
     "output_type": "display_data"
    },
    {
     "name": "stdout",
     "output_type": "stream",
     "text": [
      "Testing 2 designs with WL... (triangles only)\n"
     ]
    },
    {
     "data": {
      "application/vnd.jupyter.widget-view+json": {
       "model_id": "25914b9f9b414bd3ab100b8991f3fa0d",
       "version_major": 2,
       "version_minor": 0
      },
      "text/plain": [
       "  0%|          | 0/2 [00:00<?, ?it/s]"
      ]
     },
     "metadata": {},
     "output_type": "display_data"
    },
    {
     "name": "stdout",
     "output_type": "stream",
     "text": [
      "Found: <SAS of degree 4 and ranks [1, 3, 4, 3, 1]>\n",
      "Summary: (4, 12, [1, 3, 4, 3, 1], False, True, 'C2')\n",
      "Found: <SAS of degree 4 and ranks [1, 2, 4, 2, 1]>\n",
      "Summary: (4, 10, [1, 2, 4, 2, 1], False, True, 'C2')\n",
      "Searching for coherent refinements of <SAS of degree 4 and ranks [1, 2, 2, 2, 1]>\n",
      "Summary: (4, 8, [1, 2, 2, 2, 1], False, True, 'S3')\n"
     ]
    },
    {
     "data": {
      "application/vnd.jupyter.widget-view+json": {
       "model_id": "cd84a07bc408490cb9992704122c781b",
       "version_major": 2,
       "version_minor": 0
      },
      "text/plain": [
       "0it [00:00, ?it/s]"
      ]
     },
     "metadata": {},
     "output_type": "display_data"
    },
    {
     "name": "stdout",
     "output_type": "stream",
     "text": [
      "Enumerating monochromatic designs on level 1\n"
     ]
    },
    {
     "data": {
      "application/vnd.jupyter.widget-view+json": {
       "model_id": "5d1e477a1b244529b6bfa3596f5ea2c0",
       "version_major": 2,
       "version_minor": 0
      },
      "text/plain": [
       "0it [00:00, ?it/s]"
      ]
     },
     "metadata": {},
     "output_type": "display_data"
    },
    {
     "name": "stdout",
     "output_type": "stream",
     "text": [
      "Enumerating monochromatic designs on level 2\n"
     ]
    },
    {
     "data": {
      "application/vnd.jupyter.widget-view+json": {
       "model_id": "57ae9ab9b97840d6b9099a48ce76cee7",
       "version_major": 2,
       "version_minor": 0
      },
      "text/plain": [
       "0it [00:00, ?it/s]"
      ]
     },
     "metadata": {},
     "output_type": "display_data"
    },
    {
     "name": "stdout",
     "output_type": "stream",
     "text": [
      "Testing 1 designs with WL... (triangles only)\n"
     ]
    },
    {
     "data": {
      "application/vnd.jupyter.widget-view+json": {
       "model_id": "d4a125be8a054efe96743b13f41297eb",
       "version_major": 2,
       "version_minor": 0
      },
      "text/plain": [
       "  0%|          | 0/1 [00:00<?, ?it/s]"
      ]
     },
     "metadata": {},
     "output_type": "display_data"
    },
    {
     "name": "stdout",
     "output_type": "stream",
     "text": [
      "Searching for coherent refinements of <SAS of degree 4 and ranks [1, 1, 3, 1, 1]>\n",
      "Summary: (4, 7, [1, 1, 3, 1, 1], True, True, 'C2 x C2')\n"
     ]
    },
    {
     "data": {
      "application/vnd.jupyter.widget-view+json": {
       "model_id": "36b79bf66e4f4607a1c37cb251d6faf9",
       "version_major": 2,
       "version_minor": 0
      },
      "text/plain": [
       "0it [00:00, ?it/s]"
      ]
     },
     "metadata": {},
     "output_type": "display_data"
    },
    {
     "name": "stdout",
     "output_type": "stream",
     "text": [
      "Enumerating monochromatic designs on level 2\n"
     ]
    },
    {
     "data": {
      "application/vnd.jupyter.widget-view+json": {
       "model_id": "f9dff1a1111348f0bec620cc2d0dc8f8",
       "version_major": 2,
       "version_minor": 0
      },
      "text/plain": [
       "0it [00:00, ?it/s]"
      ]
     },
     "metadata": {},
     "output_type": "display_data"
    },
    {
     "name": "stdout",
     "output_type": "stream",
     "text": [
      "Testing 0 designs with WL... (triangles only)\n"
     ]
    },
    {
     "data": {
      "application/vnd.jupyter.widget-view+json": {
       "model_id": "9784d3faf5f04121a3d3eeedc857b261",
       "version_major": 2,
       "version_minor": 0
      },
      "text/plain": [
       "0it [00:00, ?it/s]"
      ]
     },
     "metadata": {},
     "output_type": "display_data"
    },
    {
     "name": "stdout",
     "output_type": "stream",
     "text": [
      "Searching for coherent refinements of <SAS of degree 4 and ranks [1, 3, 4, 3, 1]>\n",
      "Summary: (4, 12, [1, 3, 4, 3, 1], False, True, 'C2')\n"
     ]
    },
    {
     "data": {
      "application/vnd.jupyter.widget-view+json": {
       "model_id": "0ff63690e8c84da8b37bf6dfc85eb205",
       "version_major": 2,
       "version_minor": 0
      },
      "text/plain": [
       "0it [00:00, ?it/s]"
      ]
     },
     "metadata": {},
     "output_type": "display_data"
    },
    {
     "name": "stdout",
     "output_type": "stream",
     "text": [
      "Enumerating monochromatic designs on level 1\n"
     ]
    },
    {
     "data": {
      "application/vnd.jupyter.widget-view+json": {
       "model_id": "873a8f9916f847849a59837361aec0b6",
       "version_major": 2,
       "version_minor": 0
      },
      "text/plain": [
       "0it [00:00, ?it/s]"
      ]
     },
     "metadata": {},
     "output_type": "display_data"
    },
    {
     "name": "stdout",
     "output_type": "stream",
     "text": [
      "Enumerating monochromatic designs on level 2\n"
     ]
    },
    {
     "data": {
      "application/vnd.jupyter.widget-view+json": {
       "model_id": "d20b40f2bf4a44cfa24332fb8aa9f0a6",
       "version_major": 2,
       "version_minor": 0
      },
      "text/plain": [
       "0it [00:00, ?it/s]"
      ]
     },
     "metadata": {},
     "output_type": "display_data"
    },
    {
     "name": "stdout",
     "output_type": "stream",
     "text": [
      "Testing 1 designs with WL... (triangles only)\n"
     ]
    },
    {
     "data": {
      "application/vnd.jupyter.widget-view+json": {
       "model_id": "7f44308b3fcf4932b538cec67748b69d",
       "version_major": 2,
       "version_minor": 0
      },
      "text/plain": [
       "  0%|          | 0/1 [00:00<?, ?it/s]"
      ]
     },
     "metadata": {},
     "output_type": "display_data"
    },
    {
     "name": "stdout",
     "output_type": "stream",
     "text": [
      "Found: <SAS of degree 4 and ranks [1, 4, 6, 4, 1]>\n",
      "Summary: (4, 16, [1, 4, 6, 4, 1], False, True, '1')\n",
      "Searching for coherent refinements of <SAS of degree 4 and ranks [1, 2, 4, 2, 1]>\n",
      "Summary: (4, 10, [1, 2, 4, 2, 1], False, True, 'C2')\n"
     ]
    },
    {
     "data": {
      "application/vnd.jupyter.widget-view+json": {
       "model_id": "dd4d340667404852bdfda95bf7a52745",
       "version_major": 2,
       "version_minor": 0
      },
      "text/plain": [
       "0it [00:00, ?it/s]"
      ]
     },
     "metadata": {},
     "output_type": "display_data"
    },
    {
     "name": "stdout",
     "output_type": "stream",
     "text": [
      "Enumerating monochromatic designs on level 2\n"
     ]
    },
    {
     "data": {
      "application/vnd.jupyter.widget-view+json": {
       "model_id": "b4ede68579154b49bc4750b4a084d41d",
       "version_major": 2,
       "version_minor": 0
      },
      "text/plain": [
       "0it [00:00, ?it/s]"
      ]
     },
     "metadata": {},
     "output_type": "display_data"
    },
    {
     "name": "stdout",
     "output_type": "stream",
     "text": [
      "Testing 0 designs with WL... (triangles only)\n"
     ]
    },
    {
     "data": {
      "application/vnd.jupyter.widget-view+json": {
       "model_id": "efbf7e45844d4ea69ef7e9360190b86f",
       "version_major": 2,
       "version_minor": 0
      },
      "text/plain": [
       "0it [00:00, ?it/s]"
      ]
     },
     "metadata": {},
     "output_type": "display_data"
    },
    {
     "name": "stdout",
     "output_type": "stream",
     "text": [
      "Searching for coherent refinements of <SAS of degree 4 and ranks [1, 4, 6, 4, 1]>\n",
      "Summary: (4, 16, [1, 4, 6, 4, 1], False, True, '1')\n"
     ]
    },
    {
     "data": {
      "application/vnd.jupyter.widget-view+json": {
       "model_id": "9abe208923a54885b73c0359c87215dd",
       "version_major": 2,
       "version_minor": 0
      },
      "text/plain": [
       "0it [00:00, ?it/s]"
      ]
     },
     "metadata": {},
     "output_type": "display_data"
    },
    {
     "name": "stdout",
     "output_type": "stream",
     "text": [
      "Enumerating monochromatic designs on level 1\n"
     ]
    },
    {
     "data": {
      "application/vnd.jupyter.widget-view+json": {
       "model_id": "344fe8e9956f4f63bc78cb98d4629129",
       "version_major": 2,
       "version_minor": 0
      },
      "text/plain": [
       "0it [00:00, ?it/s]"
      ]
     },
     "metadata": {},
     "output_type": "display_data"
    },
    {
     "name": "stdout",
     "output_type": "stream",
     "text": [
      "Enumerating monochromatic designs on level 2\n"
     ]
    },
    {
     "data": {
      "application/vnd.jupyter.widget-view+json": {
       "model_id": "24317e8767f44fd3b9882f4085a3eefa",
       "version_major": 2,
       "version_minor": 0
      },
      "text/plain": [
       "0it [00:00, ?it/s]"
      ]
     },
     "metadata": {},
     "output_type": "display_data"
    },
    {
     "name": "stdout",
     "output_type": "stream",
     "text": [
      "Testing 0 designs with WL... (triangles only)\n"
     ]
    },
    {
     "data": {
      "application/vnd.jupyter.widget-view+json": {
       "model_id": "09a56fa7c5924e2e9ac5a38cb2078235",
       "version_major": 2,
       "version_minor": 0
      },
      "text/plain": [
       "0it [00:00, ?it/s]"
      ]
     },
     "metadata": {},
     "output_type": "display_data"
    },
    {
     "name": "stdout",
     "output_type": "stream",
     "text": [
      "Searching for coherent refinements of <SAS of degree 5 and ranks [1, 1, 1, 1, 1, 1]>\n",
      "Summary: (5, 6, [1, 1, 1, 1, 1, 1], True, True, 'S5')\n"
     ]
    },
    {
     "data": {
      "application/vnd.jupyter.widget-view+json": {
       "model_id": "32a18012ba1741e2a85281165a7f9754",
       "version_major": 2,
       "version_minor": 0
      },
      "text/plain": [
       "0it [00:00, ?it/s]"
      ]
     },
     "metadata": {},
     "output_type": "display_data"
    },
    {
     "name": "stdout",
     "output_type": "stream",
     "text": [
      "Enumerating monochromatic designs on level 1\n"
     ]
    },
    {
     "data": {
      "application/vnd.jupyter.widget-view+json": {
       "model_id": "1bade5894590410881a34e108aee285b",
       "version_major": 2,
       "version_minor": 0
      },
      "text/plain": [
       "0it [00:00, ?it/s]"
      ]
     },
     "metadata": {},
     "output_type": "display_data"
    },
    {
     "name": "stdout",
     "output_type": "stream",
     "text": [
      "Enumerating monochromatic designs on level 2\n"
     ]
    },
    {
     "data": {
      "application/vnd.jupyter.widget-view+json": {
       "model_id": "f30c07ab9e0f4e4e86ca5325e98b808f",
       "version_major": 2,
       "version_minor": 0
      },
      "text/plain": [
       "0it [00:00, ?it/s]"
      ]
     },
     "metadata": {},
     "output_type": "display_data"
    },
    {
     "name": "stdout",
     "output_type": "stream",
     "text": [
      "Testing 3 designs with WL... (triangles only)\n"
     ]
    },
    {
     "data": {
      "application/vnd.jupyter.widget-view+json": {
       "model_id": "17b4db63c5fe47d790b5b307c586369c",
       "version_major": 2,
       "version_minor": 0
      },
      "text/plain": [
       "  0%|          | 0/3 [00:00<?, ?it/s]"
      ]
     },
     "metadata": {},
     "output_type": "display_data"
    },
    {
     "name": "stdout",
     "output_type": "stream",
     "text": [
      "Found: <SAS of degree 5 and ranks [1, 2, 2, 2, 2, 1]>\n",
      "Summary: (5, 10, [1, 2, 2, 2, 2, 1], False, True, 'S4')\n",
      "Found: <SAS of degree 5 and ranks [1, 2, 3, 3, 2, 1]>\n",
      "Summary: (5, 12, [1, 2, 3, 3, 2, 1], False, True, 'D6')\n",
      "Found: <SAS of degree 5 and ranks [1, 1, 2, 2, 1, 1]>\n",
      "Summary: (5, 8, [1, 1, 2, 2, 1, 1], True, True, 'D5')\n",
      "Searching for coherent refinements of <SAS of degree 5 and ranks [1, 2, 2, 2, 2, 1]>\n",
      "Summary: (5, 10, [1, 2, 2, 2, 2, 1], False, True, 'S4')\n"
     ]
    },
    {
     "data": {
      "application/vnd.jupyter.widget-view+json": {
       "model_id": "ec72af0e22b8493d909954f6dcb57617",
       "version_major": 2,
       "version_minor": 0
      },
      "text/plain": [
       "0it [00:00, ?it/s]"
      ]
     },
     "metadata": {},
     "output_type": "display_data"
    },
    {
     "name": "stdout",
     "output_type": "stream",
     "text": [
      "Enumerating monochromatic designs on level 1\n"
     ]
    },
    {
     "data": {
      "application/vnd.jupyter.widget-view+json": {
       "model_id": "c29544acf89247078b22d9e07b3a1d53",
       "version_major": 2,
       "version_minor": 0
      },
      "text/plain": [
       "0it [00:00, ?it/s]"
      ]
     },
     "metadata": {},
     "output_type": "display_data"
    },
    {
     "name": "stdout",
     "output_type": "stream",
     "text": [
      "Enumerating monochromatic designs on level 2\n"
     ]
    },
    {
     "data": {
      "application/vnd.jupyter.widget-view+json": {
       "model_id": "066d0f6afd884be6953cd8ff4f1f2f08",
       "version_major": 2,
       "version_minor": 0
      },
      "text/plain": [
       "0it [00:00, ?it/s]"
      ]
     },
     "metadata": {},
     "output_type": "display_data"
    },
    {
     "name": "stdout",
     "output_type": "stream",
     "text": [
      "Testing 3 designs with WL... (triangles only)\n"
     ]
    },
    {
     "data": {
      "application/vnd.jupyter.widget-view+json": {
       "model_id": "4e327a0616f944cdadae4f643407127a",
       "version_major": 2,
       "version_minor": 0
      },
      "text/plain": [
       "  0%|          | 0/3 [00:00<?, ?it/s]"
      ]
     },
     "metadata": {},
     "output_type": "display_data"
    },
    {
     "name": "stdout",
     "output_type": "stream",
     "text": [
      "Found: <SAS of degree 5 and ranks [1, 2, 3, 3, 2, 1]>\n",
      "Summary: (5, 12, [1, 2, 3, 3, 2, 1], False, True, 'D4')\n",
      "Found: <SAS of degree 5 and ranks [1, 3, 5, 5, 3, 1]>\n",
      "Summary: (5, 18, [1, 3, 5, 5, 3, 1], False, True, 'C2 x C2')\n",
      "Found: <SAS of degree 5 and ranks [1, 3, 4, 4, 3, 1]>\n",
      "Summary: (5, 16, [1, 3, 4, 4, 3, 1], False, True, 'S3')\n",
      "Searching for coherent refinements of <SAS of degree 5 and ranks [1, 2, 3, 3, 2, 1]>\n",
      "Summary: (5, 12, [1, 2, 3, 3, 2, 1], False, True, 'D6')\n"
     ]
    },
    {
     "data": {
      "application/vnd.jupyter.widget-view+json": {
       "model_id": "fcd69c08335147e097c977b3c50b692b",
       "version_major": 2,
       "version_minor": 0
      },
      "text/plain": [
       "0it [00:00, ?it/s]"
      ]
     },
     "metadata": {},
     "output_type": "display_data"
    },
    {
     "name": "stdout",
     "output_type": "stream",
     "text": [
      "Enumerating monochromatic designs on level 1\n"
     ]
    },
    {
     "data": {
      "application/vnd.jupyter.widget-view+json": {
       "model_id": "bedab692a6484da096740b4316fb4c34",
       "version_major": 2,
       "version_minor": 0
      },
      "text/plain": [
       "0it [00:00, ?it/s]"
      ]
     },
     "metadata": {},
     "output_type": "display_data"
    },
    {
     "name": "stdout",
     "output_type": "stream",
     "text": [
      "Enumerating monochromatic designs on level 2\n"
     ]
    },
    {
     "data": {
      "application/vnd.jupyter.widget-view+json": {
       "model_id": "2f31ed859ad94871979fcb5a25264e6d",
       "version_major": 2,
       "version_minor": 0
      },
      "text/plain": [
       "0it [00:00, ?it/s]"
      ]
     },
     "metadata": {},
     "output_type": "display_data"
    },
    {
     "name": "stdout",
     "output_type": "stream",
     "text": [
      "Testing 2 designs with WL... (triangles only)\n"
     ]
    },
    {
     "data": {
      "application/vnd.jupyter.widget-view+json": {
       "model_id": "3c3954076e7248169dffe66d779c14fb",
       "version_major": 2,
       "version_minor": 0
      },
      "text/plain": [
       "  0%|          | 0/2 [00:00<?, ?it/s]"
      ]
     },
     "metadata": {},
     "output_type": "display_data"
    },
    {
     "name": "stdout",
     "output_type": "stream",
     "text": [
      "Searching for coherent refinements of <SAS of degree 5 and ranks [1, 1, 2, 2, 1, 1]>\n",
      "Summary: (5, 8, [1, 1, 2, 2, 1, 1], True, True, 'D5')\n"
     ]
    },
    {
     "data": {
      "application/vnd.jupyter.widget-view+json": {
       "model_id": "606f9b7c727449d0ad5695166e1e60be",
       "version_major": 2,
       "version_minor": 0
      },
      "text/plain": [
       "0it [00:00, ?it/s]"
      ]
     },
     "metadata": {},
     "output_type": "display_data"
    },
    {
     "name": "stdout",
     "output_type": "stream",
     "text": [
      "Enumerating monochromatic designs on level 2\n"
     ]
    },
    {
     "data": {
      "application/vnd.jupyter.widget-view+json": {
       "model_id": "ca5491c6ebd241558cd2533dd8eaf5b9",
       "version_major": 2,
       "version_minor": 0
      },
      "text/plain": [
       "0it [00:00, ?it/s]"
      ]
     },
     "metadata": {},
     "output_type": "display_data"
    },
    {
     "name": "stdout",
     "output_type": "stream",
     "text": [
      "Testing 0 designs with WL... (triangles only)\n"
     ]
    },
    {
     "data": {
      "application/vnd.jupyter.widget-view+json": {
       "model_id": "2b80f3d8e9bd4b87a53e5fd608112455",
       "version_major": 2,
       "version_minor": 0
      },
      "text/plain": [
       "0it [00:00, ?it/s]"
      ]
     },
     "metadata": {},
     "output_type": "display_data"
    },
    {
     "name": "stdout",
     "output_type": "stream",
     "text": [
      "Searching for coherent refinements of <SAS of degree 5 and ranks [1, 2, 3, 3, 2, 1]>\n",
      "Summary: (5, 12, [1, 2, 3, 3, 2, 1], False, True, 'D4')\n"
     ]
    },
    {
     "data": {
      "application/vnd.jupyter.widget-view+json": {
       "model_id": "a934505b39e040a7830e1aa42c2d15f0",
       "version_major": 2,
       "version_minor": 0
      },
      "text/plain": [
       "0it [00:00, ?it/s]"
      ]
     },
     "metadata": {},
     "output_type": "display_data"
    },
    {
     "name": "stdout",
     "output_type": "stream",
     "text": [
      "Enumerating monochromatic designs on level 2\n"
     ]
    },
    {
     "data": {
      "application/vnd.jupyter.widget-view+json": {
       "model_id": "6c37fd715b0d4d438cfb4995d68f8412",
       "version_major": 2,
       "version_minor": 0
      },
      "text/plain": [
       "0it [00:00, ?it/s]"
      ]
     },
     "metadata": {},
     "output_type": "display_data"
    },
    {
     "name": "stdout",
     "output_type": "stream",
     "text": [
      "Testing 1 designs with WL... (triangles only)\n"
     ]
    },
    {
     "data": {
      "application/vnd.jupyter.widget-view+json": {
       "model_id": "fa7a5e8eaa234ae696e7c08f61b1ee03",
       "version_major": 2,
       "version_minor": 0
      },
      "text/plain": [
       "  0%|          | 0/1 [00:00<?, ?it/s]"
      ]
     },
     "metadata": {},
     "output_type": "display_data"
    },
    {
     "name": "stdout",
     "output_type": "stream",
     "text": [
      "Found: <SAS of degree 5 and ranks [1, 2, 4, 4, 2, 1]>\n",
      "Summary: (5, 14, [1, 2, 4, 4, 2, 1], False, True, 'C2 x C2')\n",
      "Searching for coherent refinements of <SAS of degree 5 and ranks [1, 3, 5, 5, 3, 1]>\n",
      "Summary: (5, 18, [1, 3, 5, 5, 3, 1], False, True, 'C2 x C2')\n"
     ]
    },
    {
     "data": {
      "application/vnd.jupyter.widget-view+json": {
       "model_id": "32adfb00112e421991081db94b360cc6",
       "version_major": 2,
       "version_minor": 0
      },
      "text/plain": [
       "0it [00:00, ?it/s]"
      ]
     },
     "metadata": {},
     "output_type": "display_data"
    },
    {
     "name": "stdout",
     "output_type": "stream",
     "text": [
      "Enumerating monochromatic designs on level 1\n"
     ]
    },
    {
     "data": {
      "application/vnd.jupyter.widget-view+json": {
       "model_id": "282232a88e424dada1dd8a0a741a1dc9",
       "version_major": 2,
       "version_minor": 0
      },
      "text/plain": [
       "0it [00:00, ?it/s]"
      ]
     },
     "metadata": {},
     "output_type": "display_data"
    },
    {
     "name": "stdout",
     "output_type": "stream",
     "text": [
      "Enumerating monochromatic designs on level 2\n"
     ]
    },
    {
     "data": {
      "application/vnd.jupyter.widget-view+json": {
       "model_id": "c0d1fbf22a874c5cbc9dfb81546d53fa",
       "version_major": 2,
       "version_minor": 0
      },
      "text/plain": [
       "0it [00:00, ?it/s]"
      ]
     },
     "metadata": {},
     "output_type": "display_data"
    },
    {
     "name": "stdout",
     "output_type": "stream",
     "text": [
      "Testing 2 designs with WL... (triangles only)\n"
     ]
    },
    {
     "data": {
      "application/vnd.jupyter.widget-view+json": {
       "model_id": "398615f0bdcc46a685b7cae152800790",
       "version_major": 2,
       "version_minor": 0
      },
      "text/plain": [
       "  0%|          | 0/2 [00:00<?, ?it/s]"
      ]
     },
     "metadata": {},
     "output_type": "display_data"
    },
    {
     "name": "stdout",
     "output_type": "stream",
     "text": [
      "Found: <SAS of degree 5 and ranks [1, 4, 7, 7, 4, 1]>\n",
      "Summary: (5, 24, [1, 4, 7, 7, 4, 1], False, True, 'C2')\n",
      "Found: <SAS of degree 5 and ranks [1, 3, 6, 6, 3, 1]>\n",
      "Summary: (5, 20, [1, 3, 6, 6, 3, 1], False, True, 'C2')\n",
      "Searching for coherent refinements of <SAS of degree 5 and ranks [1, 3, 4, 4, 3, 1]>\n",
      "Summary: (5, 16, [1, 3, 4, 4, 3, 1], False, True, 'S3')\n"
     ]
    },
    {
     "data": {
      "application/vnd.jupyter.widget-view+json": {
       "model_id": "76b796452ac9417fa564551587fd2d3f",
       "version_major": 2,
       "version_minor": 0
      },
      "text/plain": [
       "0it [00:00, ?it/s]"
      ]
     },
     "metadata": {},
     "output_type": "display_data"
    },
    {
     "name": "stdout",
     "output_type": "stream",
     "text": [
      "Enumerating monochromatic designs on level 1\n"
     ]
    },
    {
     "data": {
      "application/vnd.jupyter.widget-view+json": {
       "model_id": "f103df36ee854bd8b6cd04552975c422",
       "version_major": 2,
       "version_minor": 0
      },
      "text/plain": [
       "0it [00:00, ?it/s]"
      ]
     },
     "metadata": {},
     "output_type": "display_data"
    },
    {
     "name": "stdout",
     "output_type": "stream",
     "text": [
      "Enumerating monochromatic designs on level 2\n"
     ]
    },
    {
     "data": {
      "application/vnd.jupyter.widget-view+json": {
       "model_id": "99037fb7e83746cc89593640e26228b6",
       "version_major": 2,
       "version_minor": 0
      },
      "text/plain": [
       "0it [00:00, ?it/s]"
      ]
     },
     "metadata": {},
     "output_type": "display_data"
    },
    {
     "name": "stdout",
     "output_type": "stream",
     "text": [
      "Testing 1 designs with WL... (triangles only)\n"
     ]
    },
    {
     "data": {
      "application/vnd.jupyter.widget-view+json": {
       "model_id": "64b84d52091745f29afd5f5e837bc0ef",
       "version_major": 2,
       "version_minor": 0
      },
      "text/plain": [
       "  0%|          | 0/1 [00:00<?, ?it/s]"
      ]
     },
     "metadata": {},
     "output_type": "display_data"
    },
    {
     "name": "stdout",
     "output_type": "stream",
     "text": [
      "Searching for coherent refinements of <SAS of degree 5 and ranks [1, 2, 4, 4, 2, 1]>\n",
      "Summary: (5, 14, [1, 2, 4, 4, 2, 1], False, True, 'C2 x C2')\n"
     ]
    },
    {
     "data": {
      "application/vnd.jupyter.widget-view+json": {
       "model_id": "b4f9bb74a57a4310a0e57742bc429f01",
       "version_major": 2,
       "version_minor": 0
      },
      "text/plain": [
       "0it [00:00, ?it/s]"
      ]
     },
     "metadata": {},
     "output_type": "display_data"
    },
    {
     "name": "stdout",
     "output_type": "stream",
     "text": [
      "Enumerating monochromatic designs on level 2\n"
     ]
    },
    {
     "data": {
      "application/vnd.jupyter.widget-view+json": {
       "model_id": "ec034a7e86d34ddeafa2e16b928288d8",
       "version_major": 2,
       "version_minor": 0
      },
      "text/plain": [
       "0it [00:00, ?it/s]"
      ]
     },
     "metadata": {},
     "output_type": "display_data"
    },
    {
     "name": "stdout",
     "output_type": "stream",
     "text": [
      "Testing 0 designs with WL... (triangles only)\n"
     ]
    },
    {
     "data": {
      "application/vnd.jupyter.widget-view+json": {
       "model_id": "498fc63ae7bb4a118bac2a5823739daf",
       "version_major": 2,
       "version_minor": 0
      },
      "text/plain": [
       "0it [00:00, ?it/s]"
      ]
     },
     "metadata": {},
     "output_type": "display_data"
    },
    {
     "name": "stdout",
     "output_type": "stream",
     "text": [
      "Searching for coherent refinements of <SAS of degree 5 and ranks [1, 4, 7, 7, 4, 1]>\n",
      "Summary: (5, 24, [1, 4, 7, 7, 4, 1], False, True, 'C2')\n"
     ]
    },
    {
     "data": {
      "application/vnd.jupyter.widget-view+json": {
       "model_id": "858203f782b2470b8e55883b4ca13d69",
       "version_major": 2,
       "version_minor": 0
      },
      "text/plain": [
       "0it [00:00, ?it/s]"
      ]
     },
     "metadata": {},
     "output_type": "display_data"
    },
    {
     "name": "stdout",
     "output_type": "stream",
     "text": [
      "Enumerating monochromatic designs on level 1\n"
     ]
    },
    {
     "data": {
      "application/vnd.jupyter.widget-view+json": {
       "model_id": "0452d5c998da45b3bc141161dc68dfeb",
       "version_major": 2,
       "version_minor": 0
      },
      "text/plain": [
       "0it [00:00, ?it/s]"
      ]
     },
     "metadata": {},
     "output_type": "display_data"
    },
    {
     "name": "stdout",
     "output_type": "stream",
     "text": [
      "Enumerating monochromatic designs on level 2\n"
     ]
    },
    {
     "data": {
      "application/vnd.jupyter.widget-view+json": {
       "model_id": "c12bbda3ea874b1985fd740db6e6d3d4",
       "version_major": 2,
       "version_minor": 0
      },
      "text/plain": [
       "0it [00:00, ?it/s]"
      ]
     },
     "metadata": {},
     "output_type": "display_data"
    },
    {
     "name": "stdout",
     "output_type": "stream",
     "text": [
      "Testing 1 designs with WL... (triangles only)\n"
     ]
    },
    {
     "data": {
      "application/vnd.jupyter.widget-view+json": {
       "model_id": "bca1431dd5bd4ad6a81f4fa47fa93980",
       "version_major": 2,
       "version_minor": 0
      },
      "text/plain": [
       "  0%|          | 0/1 [00:00<?, ?it/s]"
      ]
     },
     "metadata": {},
     "output_type": "display_data"
    },
    {
     "name": "stdout",
     "output_type": "stream",
     "text": [
      "Found: <SAS of degree 5 and ranks [1, 5, 10, 10, 5, 1]>\n",
      "Summary: (5, 32, [1, 5, 10, 10, 5, 1], False, True, '1')\n",
      "Searching for coherent refinements of <SAS of degree 5 and ranks [1, 3, 6, 6, 3, 1]>\n",
      "Summary: (5, 20, [1, 3, 6, 6, 3, 1], False, True, 'C2')\n"
     ]
    },
    {
     "data": {
      "application/vnd.jupyter.widget-view+json": {
       "model_id": "4cde54a22ad84678a7e8d3cba456b990",
       "version_major": 2,
       "version_minor": 0
      },
      "text/plain": [
       "0it [00:00, ?it/s]"
      ]
     },
     "metadata": {},
     "output_type": "display_data"
    },
    {
     "name": "stdout",
     "output_type": "stream",
     "text": [
      "Enumerating monochromatic designs on level 2\n"
     ]
    },
    {
     "data": {
      "application/vnd.jupyter.widget-view+json": {
       "model_id": "329f3ecf524e410bbb7a8cc92547a7d2",
       "version_major": 2,
       "version_minor": 0
      },
      "text/plain": [
       "0it [00:00, ?it/s]"
      ]
     },
     "metadata": {},
     "output_type": "display_data"
    },
    {
     "name": "stdout",
     "output_type": "stream",
     "text": [
      "Testing 0 designs with WL... (triangles only)\n"
     ]
    },
    {
     "data": {
      "application/vnd.jupyter.widget-view+json": {
       "model_id": "e0308872b293436da17dd8bf309a4eff",
       "version_major": 2,
       "version_minor": 0
      },
      "text/plain": [
       "0it [00:00, ?it/s]"
      ]
     },
     "metadata": {},
     "output_type": "display_data"
    },
    {
     "name": "stdout",
     "output_type": "stream",
     "text": [
      "Searching for coherent refinements of <SAS of degree 5 and ranks [1, 5, 10, 10, 5, 1]>\n",
      "Summary: (5, 32, [1, 5, 10, 10, 5, 1], False, True, '1')\n"
     ]
    },
    {
     "data": {
      "application/vnd.jupyter.widget-view+json": {
       "model_id": "ee96aef26a20451ca9b4b06842ced3da",
       "version_major": 2,
       "version_minor": 0
      },
      "text/plain": [
       "0it [00:00, ?it/s]"
      ]
     },
     "metadata": {},
     "output_type": "display_data"
    },
    {
     "name": "stdout",
     "output_type": "stream",
     "text": [
      "Enumerating monochromatic designs on level 1\n"
     ]
    },
    {
     "data": {
      "application/vnd.jupyter.widget-view+json": {
       "model_id": "d2cd419cada145ffbf6762b277147673",
       "version_major": 2,
       "version_minor": 0
      },
      "text/plain": [
       "0it [00:00, ?it/s]"
      ]
     },
     "metadata": {},
     "output_type": "display_data"
    },
    {
     "name": "stdout",
     "output_type": "stream",
     "text": [
      "Enumerating monochromatic designs on level 2\n"
     ]
    },
    {
     "data": {
      "application/vnd.jupyter.widget-view+json": {
       "model_id": "5bccca1142cc4d658be4de15c5943be1",
       "version_major": 2,
       "version_minor": 0
      },
      "text/plain": [
       "0it [00:00, ?it/s]"
      ]
     },
     "metadata": {},
     "output_type": "display_data"
    },
    {
     "name": "stdout",
     "output_type": "stream",
     "text": [
      "Testing 0 designs with WL... (triangles only)\n"
     ]
    },
    {
     "data": {
      "application/vnd.jupyter.widget-view+json": {
       "model_id": "1f019cff1bfb4206b2883a57802a365a",
       "version_major": 2,
       "version_minor": 0
      },
      "text/plain": [
       "0it [00:00, ?it/s]"
      ]
     },
     "metadata": {},
     "output_type": "display_data"
    }
   ],
   "source": [
    "all_sas = []\n",
    "for n in [1..5]:\n",
    "    all_sas.extend(SAS.find_all(n, verbosity=2))"
   ]
  },
  {
   "cell_type": "code",
   "execution_count": 4,
   "metadata": {},
   "outputs": [
    {
     "data": {
      "text/html": [
       "<div class=\"notruncate\">\n",
       "<table  class=\"table_form\">\n",
       "<tbody>\n",
       "<tr>\n",
       "<th>n</th>\n",
       "<th>total rank</th>\n",
       "<th>ranks</th>\n",
       "<th>homogeneous?</th>\n",
       "<th>schurian?</th>\n",
       "<th><script type=\"math/tex\">\\mathrm{Aut}(\\mathfrak{X})</script></th>\n",
       "</tr>\n",
       "<tr class =\"row-a\">\n",
       "<td><script type=\"math/tex\">1</script></td>\n",
       "<td><script type=\"math/tex\">2</script></td>\n",
       "<td><script type=\"math/tex\">\\left[1, 1\\right]</script></td>\n",
       "<td><script type=\"math/tex\">\\mathrm{True}</script></td>\n",
       "<td><script type=\"math/tex\">\\mathrm{True}</script></td>\n",
       "<td>1</td>\n",
       "</tr>\n",
       "<tr class =\"row-b\">\n",
       "<td><script type=\"math/tex\">2</script></td>\n",
       "<td><script type=\"math/tex\">3</script></td>\n",
       "<td><script type=\"math/tex\">\\left[1, 1, 1\\right]</script></td>\n",
       "<td><script type=\"math/tex\">\\mathrm{True}</script></td>\n",
       "<td><script type=\"math/tex\">\\mathrm{True}</script></td>\n",
       "<td>C2</td>\n",
       "</tr>\n",
       "<tr class =\"row-a\">\n",
       "<td><script type=\"math/tex\">2</script></td>\n",
       "<td><script type=\"math/tex\">4</script></td>\n",
       "<td><script type=\"math/tex\">\\left[1, 2, 1\\right]</script></td>\n",
       "<td><script type=\"math/tex\">\\mathrm{False}</script></td>\n",
       "<td><script type=\"math/tex\">\\mathrm{True}</script></td>\n",
       "<td>1</td>\n",
       "</tr>\n",
       "<tr class =\"row-b\">\n",
       "<td><script type=\"math/tex\">3</script></td>\n",
       "<td><script type=\"math/tex\">4</script></td>\n",
       "<td><script type=\"math/tex\">\\left[1, 1, 1, 1\\right]</script></td>\n",
       "<td><script type=\"math/tex\">\\mathrm{True}</script></td>\n",
       "<td><script type=\"math/tex\">\\mathrm{True}</script></td>\n",
       "<td>S3</td>\n",
       "</tr>\n",
       "<tr class =\"row-a\">\n",
       "<td><script type=\"math/tex\">3</script></td>\n",
       "<td><script type=\"math/tex\">6</script></td>\n",
       "<td><script type=\"math/tex\">\\left[1, 2, 2, 1\\right]</script></td>\n",
       "<td><script type=\"math/tex\">\\mathrm{False}</script></td>\n",
       "<td><script type=\"math/tex\">\\mathrm{True}</script></td>\n",
       "<td>C2</td>\n",
       "</tr>\n",
       "<tr class =\"row-b\">\n",
       "<td><script type=\"math/tex\">3</script></td>\n",
       "<td><script type=\"math/tex\">8</script></td>\n",
       "<td><script type=\"math/tex\">\\left[1, 3, 3, 1\\right]</script></td>\n",
       "<td><script type=\"math/tex\">\\mathrm{False}</script></td>\n",
       "<td><script type=\"math/tex\">\\mathrm{True}</script></td>\n",
       "<td>1</td>\n",
       "</tr>\n",
       "<tr class =\"row-a\">\n",
       "<td><script type=\"math/tex\">4</script></td>\n",
       "<td><script type=\"math/tex\">5</script></td>\n",
       "<td><script type=\"math/tex\">\\left[1, 1, 1, 1, 1\\right]</script></td>\n",
       "<td><script type=\"math/tex\">\\mathrm{True}</script></td>\n",
       "<td><script type=\"math/tex\">\\mathrm{True}</script></td>\n",
       "<td>S4</td>\n",
       "</tr>\n",
       "<tr class =\"row-b\">\n",
       "<td><script type=\"math/tex\">4</script></td>\n",
       "<td><script type=\"math/tex\">6</script></td>\n",
       "<td><script type=\"math/tex\">\\left[1, 1, 2, 1, 1\\right]</script></td>\n",
       "<td><script type=\"math/tex\">\\mathrm{True}</script></td>\n",
       "<td><script type=\"math/tex\">\\mathrm{True}</script></td>\n",
       "<td>D4</td>\n",
       "</tr>\n",
       "<tr class =\"row-a\">\n",
       "<td><script type=\"math/tex\">4</script></td>\n",
       "<td><script type=\"math/tex\">9</script></td>\n",
       "<td><script type=\"math/tex\">\\left[1, 2, 3, 2, 1\\right]</script></td>\n",
       "<td><script type=\"math/tex\">\\mathrm{False}</script></td>\n",
       "<td><script type=\"math/tex\">\\mathrm{True}</script></td>\n",
       "<td>C2 x C2</td>\n",
       "</tr>\n",
       "<tr class =\"row-b\">\n",
       "<td><script type=\"math/tex\">4</script></td>\n",
       "<td><script type=\"math/tex\">8</script></td>\n",
       "<td><script type=\"math/tex\">\\left[1, 2, 2, 2, 1\\right]</script></td>\n",
       "<td><script type=\"math/tex\">\\mathrm{False}</script></td>\n",
       "<td><script type=\"math/tex\">\\mathrm{True}</script></td>\n",
       "<td>S3</td>\n",
       "</tr>\n",
       "<tr class =\"row-a\">\n",
       "<td><script type=\"math/tex\">4</script></td>\n",
       "<td><script type=\"math/tex\">7</script></td>\n",
       "<td><script type=\"math/tex\">\\left[1, 1, 3, 1, 1\\right]</script></td>\n",
       "<td><script type=\"math/tex\">\\mathrm{True}</script></td>\n",
       "<td><script type=\"math/tex\">\\mathrm{True}</script></td>\n",
       "<td>C2 x C2</td>\n",
       "</tr>\n",
       "<tr class =\"row-b\">\n",
       "<td><script type=\"math/tex\">4</script></td>\n",
       "<td><script type=\"math/tex\">12</script></td>\n",
       "<td><script type=\"math/tex\">\\left[1, 3, 4, 3, 1\\right]</script></td>\n",
       "<td><script type=\"math/tex\">\\mathrm{False}</script></td>\n",
       "<td><script type=\"math/tex\">\\mathrm{True}</script></td>\n",
       "<td>C2</td>\n",
       "</tr>\n",
       "<tr class =\"row-a\">\n",
       "<td><script type=\"math/tex\">4</script></td>\n",
       "<td><script type=\"math/tex\">10</script></td>\n",
       "<td><script type=\"math/tex\">\\left[1, 2, 4, 2, 1\\right]</script></td>\n",
       "<td><script type=\"math/tex\">\\mathrm{False}</script></td>\n",
       "<td><script type=\"math/tex\">\\mathrm{True}</script></td>\n",
       "<td>C2</td>\n",
       "</tr>\n",
       "<tr class =\"row-b\">\n",
       "<td><script type=\"math/tex\">4</script></td>\n",
       "<td><script type=\"math/tex\">16</script></td>\n",
       "<td><script type=\"math/tex\">\\left[1, 4, 6, 4, 1\\right]</script></td>\n",
       "<td><script type=\"math/tex\">\\mathrm{False}</script></td>\n",
       "<td><script type=\"math/tex\">\\mathrm{True}</script></td>\n",
       "<td>1</td>\n",
       "</tr>\n",
       "<tr class =\"row-a\">\n",
       "<td><script type=\"math/tex\">5</script></td>\n",
       "<td><script type=\"math/tex\">6</script></td>\n",
       "<td><script type=\"math/tex\">\\left[1, 1, 1, 1, 1, 1\\right]</script></td>\n",
       "<td><script type=\"math/tex\">\\mathrm{True}</script></td>\n",
       "<td><script type=\"math/tex\">\\mathrm{True}</script></td>\n",
       "<td>S5</td>\n",
       "</tr>\n",
       "<tr class =\"row-b\">\n",
       "<td><script type=\"math/tex\">5</script></td>\n",
       "<td><script type=\"math/tex\">10</script></td>\n",
       "<td><script type=\"math/tex\">\\left[1, 2, 2, 2, 2, 1\\right]</script></td>\n",
       "<td><script type=\"math/tex\">\\mathrm{False}</script></td>\n",
       "<td><script type=\"math/tex\">\\mathrm{True}</script></td>\n",
       "<td>S4</td>\n",
       "</tr>\n",
       "<tr class =\"row-a\">\n",
       "<td><script type=\"math/tex\">5</script></td>\n",
       "<td><script type=\"math/tex\">12</script></td>\n",
       "<td><script type=\"math/tex\">\\left[1, 2, 3, 3, 2, 1\\right]</script></td>\n",
       "<td><script type=\"math/tex\">\\mathrm{False}</script></td>\n",
       "<td><script type=\"math/tex\">\\mathrm{True}</script></td>\n",
       "<td>D6</td>\n",
       "</tr>\n",
       "<tr class =\"row-b\">\n",
       "<td><script type=\"math/tex\">5</script></td>\n",
       "<td><script type=\"math/tex\">8</script></td>\n",
       "<td><script type=\"math/tex\">\\left[1, 1, 2, 2, 1, 1\\right]</script></td>\n",
       "<td><script type=\"math/tex\">\\mathrm{True}</script></td>\n",
       "<td><script type=\"math/tex\">\\mathrm{True}</script></td>\n",
       "<td>D5</td>\n",
       "</tr>\n",
       "<tr class =\"row-a\">\n",
       "<td><script type=\"math/tex\">5</script></td>\n",
       "<td><script type=\"math/tex\">12</script></td>\n",
       "<td><script type=\"math/tex\">\\left[1, 2, 3, 3, 2, 1\\right]</script></td>\n",
       "<td><script type=\"math/tex\">\\mathrm{False}</script></td>\n",
       "<td><script type=\"math/tex\">\\mathrm{True}</script></td>\n",
       "<td>D4</td>\n",
       "</tr>\n",
       "<tr class =\"row-b\">\n",
       "<td><script type=\"math/tex\">5</script></td>\n",
       "<td><script type=\"math/tex\">18</script></td>\n",
       "<td><script type=\"math/tex\">\\left[1, 3, 5, 5, 3, 1\\right]</script></td>\n",
       "<td><script type=\"math/tex\">\\mathrm{False}</script></td>\n",
       "<td><script type=\"math/tex\">\\mathrm{True}</script></td>\n",
       "<td>C2 x C2</td>\n",
       "</tr>\n",
       "<tr class =\"row-a\">\n",
       "<td><script type=\"math/tex\">5</script></td>\n",
       "<td><script type=\"math/tex\">16</script></td>\n",
       "<td><script type=\"math/tex\">\\left[1, 3, 4, 4, 3, 1\\right]</script></td>\n",
       "<td><script type=\"math/tex\">\\mathrm{False}</script></td>\n",
       "<td><script type=\"math/tex\">\\mathrm{True}</script></td>\n",
       "<td>S3</td>\n",
       "</tr>\n",
       "<tr class =\"row-b\">\n",
       "<td><script type=\"math/tex\">5</script></td>\n",
       "<td><script type=\"math/tex\">14</script></td>\n",
       "<td><script type=\"math/tex\">\\left[1, 2, 4, 4, 2, 1\\right]</script></td>\n",
       "<td><script type=\"math/tex\">\\mathrm{False}</script></td>\n",
       "<td><script type=\"math/tex\">\\mathrm{True}</script></td>\n",
       "<td>C2 x C2</td>\n",
       "</tr>\n",
       "<tr class =\"row-a\">\n",
       "<td><script type=\"math/tex\">5</script></td>\n",
       "<td><script type=\"math/tex\">24</script></td>\n",
       "<td><script type=\"math/tex\">\\left[1, 4, 7, 7, 4, 1\\right]</script></td>\n",
       "<td><script type=\"math/tex\">\\mathrm{False}</script></td>\n",
       "<td><script type=\"math/tex\">\\mathrm{True}</script></td>\n",
       "<td>C2</td>\n",
       "</tr>\n",
       "<tr class =\"row-b\">\n",
       "<td><script type=\"math/tex\">5</script></td>\n",
       "<td><script type=\"math/tex\">20</script></td>\n",
       "<td><script type=\"math/tex\">\\left[1, 3, 6, 6, 3, 1\\right]</script></td>\n",
       "<td><script type=\"math/tex\">\\mathrm{False}</script></td>\n",
       "<td><script type=\"math/tex\">\\mathrm{True}</script></td>\n",
       "<td>C2</td>\n",
       "</tr>\n",
       "<tr class =\"row-a\">\n",
       "<td><script type=\"math/tex\">5</script></td>\n",
       "<td><script type=\"math/tex\">32</script></td>\n",
       "<td><script type=\"math/tex\">\\left[1, 5, 10, 10, 5, 1\\right]</script></td>\n",
       "<td><script type=\"math/tex\">\\mathrm{False}</script></td>\n",
       "<td><script type=\"math/tex\">\\mathrm{True}</script></td>\n",
       "<td>1</td>\n",
       "</tr>\n",
       "</tbody>\n",
       "</table>\n",
       "</div>"
      ],
      "text/plain": [
       "  n   total rank   ranks                  homogeneous?   schurian?   $\\mathrm{Aut}(\\mathfrak{X})$\n",
       "+---+------------+----------------------+--------------+-----------+------------------------------+\n",
       "  1   2            [1, 1]                 True           True        1\n",
       "  2   3            [1, 1, 1]              True           True        C2\n",
       "  2   4            [1, 2, 1]              False          True        1\n",
       "  3   4            [1, 1, 1, 1]           True           True        S3\n",
       "  3   6            [1, 2, 2, 1]           False          True        C2\n",
       "  3   8            [1, 3, 3, 1]           False          True        1\n",
       "  4   5            [1, 1, 1, 1, 1]        True           True        S4\n",
       "  4   6            [1, 1, 2, 1, 1]        True           True        D4\n",
       "  4   9            [1, 2, 3, 2, 1]        False          True        C2 x C2\n",
       "  4   8            [1, 2, 2, 2, 1]        False          True        S3\n",
       "  4   7            [1, 1, 3, 1, 1]        True           True        C2 x C2\n",
       "  4   12           [1, 3, 4, 3, 1]        False          True        C2\n",
       "  4   10           [1, 2, 4, 2, 1]        False          True        C2\n",
       "  4   16           [1, 4, 6, 4, 1]        False          True        1\n",
       "  5   6            [1, 1, 1, 1, 1, 1]     True           True        S5\n",
       "  5   10           [1, 2, 2, 2, 2, 1]     False          True        S4\n",
       "  5   12           [1, 2, 3, 3, 2, 1]     False          True        D6\n",
       "  5   8            [1, 1, 2, 2, 1, 1]     True           True        D5\n",
       "  5   12           [1, 2, 3, 3, 2, 1]     False          True        D4\n",
       "  5   18           [1, 3, 5, 5, 3, 1]     False          True        C2 x C2\n",
       "  5   16           [1, 3, 4, 4, 3, 1]     False          True        S3\n",
       "  5   14           [1, 2, 4, 4, 2, 1]     False          True        C2 x C2\n",
       "  5   24           [1, 4, 7, 7, 4, 1]     False          True        C2\n",
       "  5   20           [1, 3, 6, 6, 3, 1]     False          True        C2\n",
       "  5   32           [1, 5, 10, 10, 5, 1]   False          True        1"
      ]
     },
     "execution_count": 4,
     "metadata": {},
     "output_type": "execute_result"
    }
   ],
   "source": [
    "table([s.summary() for s in all_sas],\n",
    "      header_row=('n', 'total rank', 'ranks', 'homogeneous?', 'schurian?', r'$\\mathrm{Aut}(\\mathfrak{X})$'))"
   ]
  },
  {
   "cell_type": "code",
   "execution_count": 5,
   "metadata": {},
   "outputs": [
    {
     "data": {
      "text/plain": [
       "0"
      ]
     },
     "execution_count": 5,
     "metadata": {},
     "output_type": "execute_result"
    }
   ],
   "source": [
    "missing_schurians = [\n",
    "    sch\n",
    "    for n in [1..5]\n",
    "    for gp in (SymmetricGroup(n).conjugacy_classes_subgroups() if n > 1 else [SymmetricGroup(1)])\n",
    "    for sch in [SAS.orbital_scheme(gp)]\n",
    "    if sch.automorphism_group() == gp\n",
    "    if not(any(map(sch.is_isomorphic_to, all_sas)))\n",
    "]\n",
    "len(missing_schurians)"
   ]
  },
  {
   "cell_type": "markdown",
   "metadata": {},
   "source": [
    "## $n = 6$"
   ]
  },
  {
   "cell_type": "code",
   "execution_count": 6,
   "metadata": {},
   "outputs": [],
   "source": [
    "n = 6"
   ]
  },
  {
   "cell_type": "code",
   "execution_count": 7,
   "metadata": {
    "scrolled": true
   },
   "outputs": [
    {
     "name": "stdout",
     "output_type": "stream",
     "text": [
      "Searching for coherent refinements of <SAS of degree 6 and ranks [1, 1, 1, 1, 1, 1, 1]>\n",
      "Summary: (6, 7, [1, 1, 1, 1, 1, 1, 1], True, True, 'S6')\n"
     ]
    },
    {
     "data": {
      "application/vnd.jupyter.widget-view+json": {
       "model_id": "54b254a59c624b36b41885398bc5ce6c",
       "version_major": 2,
       "version_minor": 0
      },
      "text/plain": [
       "0it [00:00, ?it/s]"
      ]
     },
     "metadata": {},
     "output_type": "display_data"
    },
    {
     "name": "stdout",
     "output_type": "stream",
     "text": [
      "Enumerating monochromatic designs on level 1\n"
     ]
    },
    {
     "data": {
      "application/vnd.jupyter.widget-view+json": {
       "model_id": "63029ddbdbcc4583a7716273791efedf",
       "version_major": 2,
       "version_minor": 0
      },
      "text/plain": [
       "0it [00:00, ?it/s]"
      ]
     },
     "metadata": {},
     "output_type": "display_data"
    },
    {
     "name": "stdout",
     "output_type": "stream",
     "text": [
      "Enumerating monochromatic designs on level 2\n"
     ]
    },
    {
     "data": {
      "application/vnd.jupyter.widget-view+json": {
       "model_id": "4197bc1f54864c65ad99ba62333572d5",
       "version_major": 2,
       "version_minor": 0
      },
      "text/plain": [
       "0it [00:00, ?it/s]"
      ]
     },
     "metadata": {},
     "output_type": "display_data"
    },
    {
     "name": "stdout",
     "output_type": "stream",
     "text": [
      "Enumerating monochromatic designs on level 3\n"
     ]
    },
    {
     "data": {
      "application/vnd.jupyter.widget-view+json": {
       "model_id": "9ae89bc9cfc04445a5a446a4619e71be",
       "version_major": 2,
       "version_minor": 0
      },
      "text/plain": [
       "0it [00:00, ?it/s]"
      ]
     },
     "metadata": {},
     "output_type": "display_data"
    },
    {
     "name": "stdout",
     "output_type": "stream",
     "text": [
      "Testing 7 designs with WL... (triangles only)\n"
     ]
    },
    {
     "data": {
      "application/vnd.jupyter.widget-view+json": {
       "model_id": "0fa7c29124eb439984ad9ca5224f315e",
       "version_major": 2,
       "version_minor": 0
      },
      "text/plain": [
       "  0%|          | 0/7 [00:00<?, ?it/s]"
      ]
     },
     "metadata": {},
     "output_type": "display_data"
    },
    {
     "name": "stdout",
     "output_type": "stream",
     "text": [
      "Found: <SAS of degree 6 and ranks [1, 1, 2, 2, 2, 1, 1]>\n",
      "Summary: (6, 10, [1, 1, 2, 2, 2, 1, 1], True, True, 'C2 x S4')\n",
      "Found: <SAS of degree 6 and ranks [1, 1, 1, 2, 1, 1, 1]>\n",
      "Summary: (6, 8, [1, 1, 1, 2, 1, 1, 1], True, True, 'A5')\n",
      "Found: <SAS of degree 6 and ranks [1, 2, 3, 4, 3, 2, 1]>\n",
      "Summary: (6, 16, [1, 2, 3, 4, 3, 2, 1], False, True, 'S3 x S3')\n",
      "Found: <SAS of degree 6 and ranks [1, 1, 2, 2, 2, 1, 1]>\n",
      "Summary: (6, 10, [1, 1, 2, 2, 2, 1, 1], True, True, '(S3 x S3) : C2')\n",
      "Found: <SAS of degree 6 and ranks [1, 2, 2, 2, 2, 2, 1]>\n",
      "Summary: (6, 12, [1, 2, 2, 2, 2, 2, 1], False, True, 'S5')\n",
      "Found: <SAS of degree 6 and ranks [1, 2, 3, 3, 3, 2, 1]>\n",
      "Summary: (6, 15, [1, 2, 3, 3, 3, 2, 1], False, True, 'C2 x S4')\n",
      "Found: <SAS of degree 6 and ranks [1, 1, 3, 3, 3, 1, 1]>\n",
      "Summary: (6, 13, [1, 1, 3, 3, 3, 1, 1], True, True, 'D6')\n",
      "Searching for coherent refinements of <SAS of degree 6 and ranks [1, 1, 2, 2, 2, 1, 1]>\n",
      "Summary: (6, 10, [1, 1, 2, 2, 2, 1, 1], True, True, 'C2 x S4')\n"
     ]
    },
    {
     "data": {
      "application/vnd.jupyter.widget-view+json": {
       "model_id": "461b11e0365a43d6aa303741f450a3ae",
       "version_major": 2,
       "version_minor": 0
      },
      "text/plain": [
       "0it [00:00, ?it/s]"
      ]
     },
     "metadata": {},
     "output_type": "display_data"
    },
    {
     "name": "stdout",
     "output_type": "stream",
     "text": [
      "Enumerating monochromatic designs on level 2\n"
     ]
    },
    {
     "data": {
      "application/vnd.jupyter.widget-view+json": {
       "model_id": "58143e9c01604b1a9add1ac5a1d6dd10",
       "version_major": 2,
       "version_minor": 0
      },
      "text/plain": [
       "0it [00:00, ?it/s]"
      ]
     },
     "metadata": {},
     "output_type": "display_data"
    },
    {
     "name": "stdout",
     "output_type": "stream",
     "text": [
      "Enumerating monochromatic designs on level 3\n"
     ]
    },
    {
     "data": {
      "application/vnd.jupyter.widget-view+json": {
       "model_id": "a2678b2d2fb24b8abf5e23e017ebabe9",
       "version_major": 2,
       "version_minor": 0
      },
      "text/plain": [
       "0it [00:00, ?it/s]"
      ]
     },
     "metadata": {},
     "output_type": "display_data"
    },
    {
     "name": "stdout",
     "output_type": "stream",
     "text": [
      "Testing 6 designs with WL... (triangles only)\n"
     ]
    },
    {
     "data": {
      "application/vnd.jupyter.widget-view+json": {
       "model_id": "bba407556e2f43de96231711c60ac645",
       "version_major": 2,
       "version_minor": 0
      },
      "text/plain": [
       "  0%|          | 0/6 [00:00<?, ?it/s]"
      ]
     },
     "metadata": {},
     "output_type": "display_data"
    },
    {
     "name": "stdout",
     "output_type": "stream",
     "text": [
      "Found: <SAS of degree 6 and ranks [1, 1, 4, 4, 4, 1, 1]>\n",
      "Summary: (6, 16, [1, 1, 4, 4, 4, 1, 1], True, True, 'S3')\n",
      "Found: <SAS of degree 6 and ranks [1, 2, 6, 6, 6, 2, 1]>\n",
      "Summary: (6, 24, [1, 2, 6, 6, 6, 2, 1], False, True, 'C2 x C2')\n",
      "Found: <SAS of degree 6 and ranks [1, 1, 2, 3, 2, 1, 1]>\n",
      "Summary: (6, 11, [1, 1, 2, 3, 2, 1, 1], True, True, 'C2 x A4')\n",
      "Found: <SAS of degree 6 and ranks [1, 1, 2, 3, 2, 1, 1]>\n",
      "Summary: (6, 11, [1, 1, 2, 3, 2, 1, 1], True, True, 'S4')\n",
      "Searching for coherent refinements of <SAS of degree 6 and ranks [1, 1, 1, 2, 1, 1, 1]>\n",
      "Summary: (6, 8, [1, 1, 1, 2, 1, 1, 1], True, True, 'A5')\n"
     ]
    },
    {
     "data": {
      "application/vnd.jupyter.widget-view+json": {
       "model_id": "bae38a2e4625464081dbc4a9587994b3",
       "version_major": 2,
       "version_minor": 0
      },
      "text/plain": [
       "0it [00:00, ?it/s]"
      ]
     },
     "metadata": {},
     "output_type": "display_data"
    },
    {
     "name": "stdout",
     "output_type": "stream",
     "text": [
      "Enumerating monochromatic designs on level 3\n"
     ]
    },
    {
     "data": {
      "application/vnd.jupyter.widget-view+json": {
       "model_id": "fe12b2a642cf410d8d18a4a49c100ec9",
       "version_major": 2,
       "version_minor": 0
      },
      "text/plain": [
       "0it [00:00, ?it/s]"
      ]
     },
     "metadata": {},
     "output_type": "display_data"
    },
    {
     "name": "stdout",
     "output_type": "stream",
     "text": [
      "Testing 0 designs with WL... (triangles only)\n"
     ]
    },
    {
     "data": {
      "application/vnd.jupyter.widget-view+json": {
       "model_id": "bfbd530dad4e4ca58b37ed5517b5f076",
       "version_major": 2,
       "version_minor": 0
      },
      "text/plain": [
       "0it [00:00, ?it/s]"
      ]
     },
     "metadata": {},
     "output_type": "display_data"
    },
    {
     "name": "stdout",
     "output_type": "stream",
     "text": [
      "Searching for coherent refinements of <SAS of degree 6 and ranks [1, 2, 3, 4, 3, 2, 1]>\n",
      "Summary: (6, 16, [1, 2, 3, 4, 3, 2, 1], False, True, 'S3 x S3')\n"
     ]
    },
    {
     "data": {
      "application/vnd.jupyter.widget-view+json": {
       "model_id": "35be33cf44814e6e9b59b8e9f1c19663",
       "version_major": 2,
       "version_minor": 0
      },
      "text/plain": [
       "0it [00:00, ?it/s]"
      ]
     },
     "metadata": {},
     "output_type": "display_data"
    },
    {
     "name": "stdout",
     "output_type": "stream",
     "text": [
      "Enumerating monochromatic designs on level 1\n"
     ]
    },
    {
     "data": {
      "application/vnd.jupyter.widget-view+json": {
       "model_id": "17eaa30023bc42e395b288108668a692",
       "version_major": 2,
       "version_minor": 0
      },
      "text/plain": [
       "0it [00:00, ?it/s]"
      ]
     },
     "metadata": {},
     "output_type": "display_data"
    },
    {
     "name": "stdout",
     "output_type": "stream",
     "text": [
      "Enumerating monochromatic designs on level 2\n"
     ]
    },
    {
     "data": {
      "application/vnd.jupyter.widget-view+json": {
       "model_id": "d091ecf8718549c4838bffe0e0970dfb",
       "version_major": 2,
       "version_minor": 0
      },
      "text/plain": [
       "0it [00:00, ?it/s]"
      ]
     },
     "metadata": {},
     "output_type": "display_data"
    },
    {
     "name": "stdout",
     "output_type": "stream",
     "text": [
      "Enumerating monochromatic designs on level 3\n"
     ]
    },
    {
     "data": {
      "application/vnd.jupyter.widget-view+json": {
       "model_id": "f26dbf9e318c432b8039a136e9e7903a",
       "version_major": 2,
       "version_minor": 0
      },
      "text/plain": [
       "0it [00:00, ?it/s]"
      ]
     },
     "metadata": {},
     "output_type": "display_data"
    },
    {
     "name": "stdout",
     "output_type": "stream",
     "text": [
      "Testing 2 designs with WL... (triangles only)\n"
     ]
    },
    {
     "data": {
      "application/vnd.jupyter.widget-view+json": {
       "model_id": "4f9c744d850d4fd48064a78117dd4131",
       "version_major": 2,
       "version_minor": 0
      },
      "text/plain": [
       "  0%|          | 0/2 [00:00<?, ?it/s]"
      ]
     },
     "metadata": {},
     "output_type": "display_data"
    },
    {
     "name": "stdout",
     "output_type": "stream",
     "text": [
      "Found: <SAS of degree 6 and ranks [1, 2, 4, 6, 4, 2, 1]>\n",
      "Summary: (6, 20, [1, 2, 4, 6, 4, 2, 1], False, True, 'S3')\n",
      "Found: <SAS of degree 6 and ranks [1, 3, 5, 6, 5, 3, 1]>\n",
      "Summary: (6, 24, [1, 3, 5, 6, 5, 3, 1], False, True, 'D6')\n",
      "Searching for coherent refinements of <SAS of degree 6 and ranks [1, 1, 2, 2, 2, 1, 1]>\n",
      "Summary: (6, 10, [1, 1, 2, 2, 2, 1, 1], True, True, '(S3 x S3) : C2')\n"
     ]
    },
    {
     "data": {
      "application/vnd.jupyter.widget-view+json": {
       "model_id": "fb6a62bf8f564043afb77bfbf0e86e74",
       "version_major": 2,
       "version_minor": 0
      },
      "text/plain": [
       "0it [00:00, ?it/s]"
      ]
     },
     "metadata": {},
     "output_type": "display_data"
    },
    {
     "name": "stdout",
     "output_type": "stream",
     "text": [
      "Enumerating monochromatic designs on level 2\n"
     ]
    },
    {
     "data": {
      "application/vnd.jupyter.widget-view+json": {
       "model_id": "a244e06f4cf2482e838b5302fd43e247",
       "version_major": 2,
       "version_minor": 0
      },
      "text/plain": [
       "0it [00:00, ?it/s]"
      ]
     },
     "metadata": {},
     "output_type": "display_data"
    },
    {
     "name": "stdout",
     "output_type": "stream",
     "text": [
      "Enumerating monochromatic designs on level 3\n"
     ]
    },
    {
     "data": {
      "application/vnd.jupyter.widget-view+json": {
       "model_id": "be3aacbff9de4e339c9eb4015d0c9080",
       "version_major": 2,
       "version_minor": 0
      },
      "text/plain": [
       "0it [00:00, ?it/s]"
      ]
     },
     "metadata": {},
     "output_type": "display_data"
    },
    {
     "name": "stdout",
     "output_type": "stream",
     "text": [
      "Testing 1 designs with WL... (triangles only)\n"
     ]
    },
    {
     "data": {
      "application/vnd.jupyter.widget-view+json": {
       "model_id": "877812ae88d2488ba689dc521036ecca",
       "version_major": 2,
       "version_minor": 0
      },
      "text/plain": [
       "  0%|          | 0/1 [00:00<?, ?it/s]"
      ]
     },
     "metadata": {},
     "output_type": "display_data"
    },
    {
     "name": "stdout",
     "output_type": "stream",
     "text": [
      "Searching for coherent refinements of <SAS of degree 6 and ranks [1, 2, 2, 2, 2, 2, 1]>\n",
      "Summary: (6, 12, [1, 2, 2, 2, 2, 2, 1], False, True, 'S5')\n"
     ]
    },
    {
     "data": {
      "application/vnd.jupyter.widget-view+json": {
       "model_id": "5c74a39b41774666963305d6a776a158",
       "version_major": 2,
       "version_minor": 0
      },
      "text/plain": [
       "0it [00:00, ?it/s]"
      ]
     },
     "metadata": {},
     "output_type": "display_data"
    },
    {
     "name": "stdout",
     "output_type": "stream",
     "text": [
      "Enumerating monochromatic designs on level 1\n"
     ]
    },
    {
     "data": {
      "application/vnd.jupyter.widget-view+json": {
       "model_id": "487b2ed4c1804c06beba7d6f9c1cd1cb",
       "version_major": 2,
       "version_minor": 0
      },
      "text/plain": [
       "0it [00:00, ?it/s]"
      ]
     },
     "metadata": {},
     "output_type": "display_data"
    },
    {
     "name": "stdout",
     "output_type": "stream",
     "text": [
      "Enumerating monochromatic designs on level 2\n"
     ]
    },
    {
     "data": {
      "application/vnd.jupyter.widget-view+json": {
       "model_id": "1ab3e7e63d174c059b35c4fc2ba5a1c2",
       "version_major": 2,
       "version_minor": 0
      },
      "text/plain": [
       "0it [00:00, ?it/s]"
      ]
     },
     "metadata": {},
     "output_type": "display_data"
    },
    {
     "name": "stdout",
     "output_type": "stream",
     "text": [
      "Enumerating monochromatic designs on level 3\n"
     ]
    },
    {
     "data": {
      "application/vnd.jupyter.widget-view+json": {
       "model_id": "d08a088800b149a9b86abfda11fcda69",
       "version_major": 2,
       "version_minor": 0
      },
      "text/plain": [
       "0it [00:00, ?it/s]"
      ]
     },
     "metadata": {},
     "output_type": "display_data"
    },
    {
     "name": "stdout",
     "output_type": "stream",
     "text": [
      "Testing 3 designs with WL... (triangles only)\n"
     ]
    },
    {
     "data": {
      "application/vnd.jupyter.widget-view+json": {
       "model_id": "332da011d36248aa80d8b5163e646cfe",
       "version_major": 2,
       "version_minor": 0
      },
      "text/plain": [
       "  0%|          | 0/3 [00:00<?, ?it/s]"
      ]
     },
     "metadata": {},
     "output_type": "display_data"
    },
    {
     "name": "stdout",
     "output_type": "stream",
     "text": [
      "Found: <SAS of degree 6 and ranks [1, 3, 4, 4, 4, 3, 1]>\n",
      "Summary: (6, 20, [1, 3, 4, 4, 4, 3, 1], False, True, 'S4')\n",
      "Found: <SAS of degree 6 and ranks [1, 2, 3, 4, 3, 2, 1]>\n",
      "Summary: (6, 16, [1, 2, 3, 4, 3, 2, 1], False, True, 'D5')\n",
      "Searching for coherent refinements of <SAS of degree 6 and ranks [1, 2, 3, 3, 3, 2, 1]>\n",
      "Summary: (6, 15, [1, 2, 3, 3, 3, 2, 1], False, True, 'C2 x S4')\n"
     ]
    },
    {
     "data": {
      "application/vnd.jupyter.widget-view+json": {
       "model_id": "0a007c3576834ad89655a8dbaf892ea8",
       "version_major": 2,
       "version_minor": 0
      },
      "text/plain": [
       "0it [00:00, ?it/s]"
      ]
     },
     "metadata": {},
     "output_type": "display_data"
    },
    {
     "name": "stdout",
     "output_type": "stream",
     "text": [
      "Enumerating monochromatic designs on level 1\n"
     ]
    },
    {
     "data": {
      "application/vnd.jupyter.widget-view+json": {
       "model_id": "b3b95077d1ce43be9b7e3bdc9718b00c",
       "version_major": 2,
       "version_minor": 0
      },
      "text/plain": [
       "0it [00:00, ?it/s]"
      ]
     },
     "metadata": {},
     "output_type": "display_data"
    },
    {
     "name": "stdout",
     "output_type": "stream",
     "text": [
      "Enumerating monochromatic designs on level 2\n"
     ]
    },
    {
     "data": {
      "application/vnd.jupyter.widget-view+json": {
       "model_id": "32c6e687f6e94004a8cc229c205a28eb",
       "version_major": 2,
       "version_minor": 0
      },
      "text/plain": [
       "0it [00:00, ?it/s]"
      ]
     },
     "metadata": {},
     "output_type": "display_data"
    },
    {
     "name": "stdout",
     "output_type": "stream",
     "text": [
      "Enumerating monochromatic designs on level 3\n"
     ]
    },
    {
     "data": {
      "application/vnd.jupyter.widget-view+json": {
       "model_id": "87721381004b4c088df71df9de968682",
       "version_major": 2,
       "version_minor": 0
      },
      "text/plain": [
       "0it [00:00, ?it/s]"
      ]
     },
     "metadata": {},
     "output_type": "display_data"
    },
    {
     "name": "stdout",
     "output_type": "stream",
     "text": [
      "Testing 5 designs with WL... (triangles only)\n"
     ]
    },
    {
     "data": {
      "application/vnd.jupyter.widget-view+json": {
       "model_id": "76a907316db547bab1e110f633aeaf65",
       "version_major": 2,
       "version_minor": 0
      },
      "text/plain": [
       "  0%|          | 0/5 [00:00<?, ?it/s]"
      ]
     },
     "metadata": {},
     "output_type": "display_data"
    },
    {
     "name": "stdout",
     "output_type": "stream",
     "text": [
      "Found: <SAS of degree 6 and ranks [1, 2, 5, 5, 5, 2, 1]>\n",
      "Summary: (6, 21, [1, 2, 5, 5, 5, 2, 1], False, True, 'D4')\n",
      "Found: <SAS of degree 6 and ranks [1, 2, 4, 4, 4, 2, 1]>\n",
      "Summary: (6, 18, [1, 2, 4, 4, 4, 2, 1], False, True, 'C2 x D4')\n",
      "Found: <SAS of degree 6 and ranks [1, 3, 6, 7, 6, 3, 1]>\n",
      "Summary: (6, 27, [1, 3, 6, 7, 6, 3, 1], False, True, 'C2 x C2 x C2')\n",
      "Searching for coherent refinements of <SAS of degree 6 and ranks [1, 1, 3, 3, 3, 1, 1]>\n",
      "Summary: (6, 13, [1, 1, 3, 3, 3, 1, 1], True, True, 'D6')\n"
     ]
    },
    {
     "data": {
      "application/vnd.jupyter.widget-view+json": {
       "model_id": "b837caa6080b454a9a32c1274279eb80",
       "version_major": 2,
       "version_minor": 0
      },
      "text/plain": [
       "0it [00:00, ?it/s]"
      ]
     },
     "metadata": {},
     "output_type": "display_data"
    },
    {
     "name": "stdout",
     "output_type": "stream",
     "text": [
      "Enumerating monochromatic designs on level 2\n"
     ]
    },
    {
     "data": {
      "application/vnd.jupyter.widget-view+json": {
       "model_id": "98654882b619406daf0c8d303632db3b",
       "version_major": 2,
       "version_minor": 0
      },
      "text/plain": [
       "0it [00:00, ?it/s]"
      ]
     },
     "metadata": {},
     "output_type": "display_data"
    },
    {
     "name": "stdout",
     "output_type": "stream",
     "text": [
      "Enumerating monochromatic designs on level 3\n"
     ]
    },
    {
     "data": {
      "application/vnd.jupyter.widget-view+json": {
       "model_id": "bbc6ed458bae455ca4cc6fb6a5b3bdd3",
       "version_major": 2,
       "version_minor": 0
      },
      "text/plain": [
       "0it [00:00, ?it/s]"
      ]
     },
     "metadata": {},
     "output_type": "display_data"
    },
    {
     "name": "stdout",
     "output_type": "stream",
     "text": [
      "Testing 2 designs with WL... (triangles only)\n"
     ]
    },
    {
     "data": {
      "application/vnd.jupyter.widget-view+json": {
       "model_id": "db84efc3419440c6aae9f44578270b9a",
       "version_major": 2,
       "version_minor": 0
      },
      "text/plain": [
       "  0%|          | 0/2 [00:00<?, ?it/s]"
      ]
     },
     "metadata": {},
     "output_type": "display_data"
    },
    {
     "name": "stdout",
     "output_type": "stream",
     "text": [
      "Found: <SAS of degree 6 and ranks [1, 1, 3, 4, 3, 1, 1]>\n",
      "Summary: (6, 14, [1, 1, 3, 4, 3, 1, 1], True, True, 'C6')\n",
      "Searching for coherent refinements of <SAS of degree 6 and ranks [1, 1, 4, 4, 4, 1, 1]>\n",
      "Summary: (6, 16, [1, 1, 4, 4, 4, 1, 1], True, True, 'S3')\n"
     ]
    },
    {
     "data": {
      "application/vnd.jupyter.widget-view+json": {
       "model_id": "ef28e0a2b38747bab6ed1085de6e4a07",
       "version_major": 2,
       "version_minor": 0
      },
      "text/plain": [
       "0it [00:00, ?it/s]"
      ]
     },
     "metadata": {},
     "output_type": "display_data"
    },
    {
     "name": "stdout",
     "output_type": "stream",
     "text": [
      "Enumerating monochromatic designs on level 2\n"
     ]
    },
    {
     "data": {
      "application/vnd.jupyter.widget-view+json": {
       "model_id": "47ff013a44844e30b6d626397a3c15e6",
       "version_major": 2,
       "version_minor": 0
      },
      "text/plain": [
       "0it [00:00, ?it/s]"
      ]
     },
     "metadata": {},
     "output_type": "display_data"
    },
    {
     "name": "stdout",
     "output_type": "stream",
     "text": [
      "Enumerating monochromatic designs on level 3\n"
     ]
    },
    {
     "data": {
      "application/vnd.jupyter.widget-view+json": {
       "model_id": "6cff2ada4fb44a3eac378358cfb2fbf8",
       "version_major": 2,
       "version_minor": 0
      },
      "text/plain": [
       "0it [00:00, ?it/s]"
      ]
     },
     "metadata": {},
     "output_type": "display_data"
    },
    {
     "name": "stdout",
     "output_type": "stream",
     "text": [
      "Testing 0 designs with WL... (triangles only)\n"
     ]
    },
    {
     "data": {
      "application/vnd.jupyter.widget-view+json": {
       "model_id": "730c3868970941b8a6966bca42fb6d41",
       "version_major": 2,
       "version_minor": 0
      },
      "text/plain": [
       "0it [00:00, ?it/s]"
      ]
     },
     "metadata": {},
     "output_type": "display_data"
    },
    {
     "name": "stdout",
     "output_type": "stream",
     "text": [
      "Searching for coherent refinements of <SAS of degree 6 and ranks [1, 2, 6, 6, 6, 2, 1]>\n",
      "Summary: (6, 24, [1, 2, 6, 6, 6, 2, 1], False, True, 'C2 x C2')\n"
     ]
    },
    {
     "data": {
      "application/vnd.jupyter.widget-view+json": {
       "model_id": "cb8a7fa4309d47dbae149a458e035aec",
       "version_major": 2,
       "version_minor": 0
      },
      "text/plain": [
       "0it [00:00, ?it/s]"
      ]
     },
     "metadata": {},
     "output_type": "display_data"
    },
    {
     "name": "stdout",
     "output_type": "stream",
     "text": [
      "Enumerating monochromatic designs on level 2\n"
     ]
    },
    {
     "data": {
      "application/vnd.jupyter.widget-view+json": {
       "model_id": "824dba9c2fba46f088891579beab0609",
       "version_major": 2,
       "version_minor": 0
      },
      "text/plain": [
       "0it [00:00, ?it/s]"
      ]
     },
     "metadata": {},
     "output_type": "display_data"
    },
    {
     "name": "stdout",
     "output_type": "stream",
     "text": [
      "Enumerating monochromatic designs on level 3\n"
     ]
    },
    {
     "data": {
      "application/vnd.jupyter.widget-view+json": {
       "model_id": "f0f5f9db5839436889b424f258aa45b6",
       "version_major": 2,
       "version_minor": 0
      },
      "text/plain": [
       "0it [00:00, ?it/s]"
      ]
     },
     "metadata": {},
     "output_type": "display_data"
    },
    {
     "name": "stdout",
     "output_type": "stream",
     "text": [
      "Testing 0 designs with WL... (triangles only)\n"
     ]
    },
    {
     "data": {
      "application/vnd.jupyter.widget-view+json": {
       "model_id": "3c8eccf073ef467ea4d67fe96145e806",
       "version_major": 2,
       "version_minor": 0
      },
      "text/plain": [
       "0it [00:00, ?it/s]"
      ]
     },
     "metadata": {},
     "output_type": "display_data"
    },
    {
     "name": "stdout",
     "output_type": "stream",
     "text": [
      "Searching for coherent refinements of <SAS of degree 6 and ranks [1, 1, 2, 3, 2, 1, 1]>\n",
      "Summary: (6, 11, [1, 1, 2, 3, 2, 1, 1], True, True, 'C2 x A4')\n"
     ]
    },
    {
     "data": {
      "application/vnd.jupyter.widget-view+json": {
       "model_id": "7b74c80b3c834138b127cd71d3b02522",
       "version_major": 2,
       "version_minor": 0
      },
      "text/plain": [
       "0it [00:00, ?it/s]"
      ]
     },
     "metadata": {},
     "output_type": "display_data"
    },
    {
     "name": "stdout",
     "output_type": "stream",
     "text": [
      "Enumerating monochromatic designs on level 3\n"
     ]
    },
    {
     "data": {
      "application/vnd.jupyter.widget-view+json": {
       "model_id": "00d4cf315abb44049532083bbab03509",
       "version_major": 2,
       "version_minor": 0
      },
      "text/plain": [
       "0it [00:00, ?it/s]"
      ]
     },
     "metadata": {},
     "output_type": "display_data"
    },
    {
     "name": "stdout",
     "output_type": "stream",
     "text": [
      "Testing 1 designs with WL... (triangles only)\n"
     ]
    },
    {
     "data": {
      "application/vnd.jupyter.widget-view+json": {
       "model_id": "1a72255d161b4deebde8b3b968edd50e",
       "version_major": 2,
       "version_minor": 0
      },
      "text/plain": [
       "  0%|          | 0/1 [00:00<?, ?it/s]"
      ]
     },
     "metadata": {},
     "output_type": "display_data"
    },
    {
     "name": "stdout",
     "output_type": "stream",
     "text": [
      "Found: <SAS of degree 6 and ranks [1, 1, 2, 4, 2, 1, 1]>\n",
      "Summary: (6, 12, [1, 1, 2, 4, 2, 1, 1], True, True, 'A4')\n",
      "Searching for coherent refinements of <SAS of degree 6 and ranks [1, 1, 2, 3, 2, 1, 1]>\n",
      "Summary: (6, 11, [1, 1, 2, 3, 2, 1, 1], True, True, 'S4')\n"
     ]
    },
    {
     "data": {
      "application/vnd.jupyter.widget-view+json": {
       "model_id": "8a6d02ba5b544ddb96c470b80d210940",
       "version_major": 2,
       "version_minor": 0
      },
      "text/plain": [
       "0it [00:00, ?it/s]"
      ]
     },
     "metadata": {},
     "output_type": "display_data"
    },
    {
     "name": "stdout",
     "output_type": "stream",
     "text": [
      "Enumerating monochromatic designs on level 3\n"
     ]
    },
    {
     "data": {
      "application/vnd.jupyter.widget-view+json": {
       "model_id": "5280948ccdc34da2bf3a7377b7507e57",
       "version_major": 2,
       "version_minor": 0
      },
      "text/plain": [
       "0it [00:00, ?it/s]"
      ]
     },
     "metadata": {},
     "output_type": "display_data"
    },
    {
     "name": "stdout",
     "output_type": "stream",
     "text": [
      "Testing 1 designs with WL... (triangles only)\n"
     ]
    },
    {
     "data": {
      "application/vnd.jupyter.widget-view+json": {
       "model_id": "0d815573df25438d9ae9051853de6003",
       "version_major": 2,
       "version_minor": 0
      },
      "text/plain": [
       "  0%|          | 0/1 [00:00<?, ?it/s]"
      ]
     },
     "metadata": {},
     "output_type": "display_data"
    },
    {
     "name": "stdout",
     "output_type": "stream",
     "text": [
      "Searching for coherent refinements of <SAS of degree 6 and ranks [1, 2, 4, 6, 4, 2, 1]>\n",
      "Summary: (6, 20, [1, 2, 4, 6, 4, 2, 1], False, True, 'S3')\n"
     ]
    },
    {
     "data": {
      "application/vnd.jupyter.widget-view+json": {
       "model_id": "37540d1eba434bb8b3d2fef126dbf8bc",
       "version_major": 2,
       "version_minor": 0
      },
      "text/plain": [
       "0it [00:00, ?it/s]"
      ]
     },
     "metadata": {},
     "output_type": "display_data"
    },
    {
     "name": "stdout",
     "output_type": "stream",
     "text": [
      "Enumerating monochromatic designs on level 2\n"
     ]
    },
    {
     "data": {
      "application/vnd.jupyter.widget-view+json": {
       "model_id": "5353feabd8844aec92ec5def6f4ee447",
       "version_major": 2,
       "version_minor": 0
      },
      "text/plain": [
       "0it [00:00, ?it/s]"
      ]
     },
     "metadata": {},
     "output_type": "display_data"
    },
    {
     "name": "stdout",
     "output_type": "stream",
     "text": [
      "Enumerating monochromatic designs on level 3\n"
     ]
    },
    {
     "data": {
      "application/vnd.jupyter.widget-view+json": {
       "model_id": "b1a36061d76b4bd29af71458de61aadd",
       "version_major": 2,
       "version_minor": 0
      },
      "text/plain": [
       "0it [00:00, ?it/s]"
      ]
     },
     "metadata": {},
     "output_type": "display_data"
    },
    {
     "name": "stdout",
     "output_type": "stream",
     "text": [
      "Testing 1 designs with WL... (triangles only)\n"
     ]
    },
    {
     "data": {
      "application/vnd.jupyter.widget-view+json": {
       "model_id": "4fa23b3ed56b4602a8052d746a80eafa",
       "version_major": 2,
       "version_minor": 0
      },
      "text/plain": [
       "  0%|          | 0/1 [00:00<?, ?it/s]"
      ]
     },
     "metadata": {},
     "output_type": "display_data"
    },
    {
     "name": "stdout",
     "output_type": "stream",
     "text": [
      "Found: <SAS of degree 6 and ranks [1, 2, 5, 8, 5, 2, 1]>\n",
      "Summary: (6, 24, [1, 2, 5, 8, 5, 2, 1], False, True, 'C3')\n",
      "Searching for coherent refinements of <SAS of degree 6 and ranks [1, 3, 5, 6, 5, 3, 1]>\n",
      "Summary: (6, 24, [1, 3, 5, 6, 5, 3, 1], False, True, 'D6')\n"
     ]
    },
    {
     "data": {
      "application/vnd.jupyter.widget-view+json": {
       "model_id": "50ca06f28bdb4450b7c7cb981c137562",
       "version_major": 2,
       "version_minor": 0
      },
      "text/plain": [
       "0it [00:00, ?it/s]"
      ]
     },
     "metadata": {},
     "output_type": "display_data"
    },
    {
     "name": "stdout",
     "output_type": "stream",
     "text": [
      "Enumerating monochromatic designs on level 1\n"
     ]
    },
    {
     "data": {
      "application/vnd.jupyter.widget-view+json": {
       "model_id": "e8751ba65af646e7a5c34187a0e4b6eb",
       "version_major": 2,
       "version_minor": 0
      },
      "text/plain": [
       "0it [00:00, ?it/s]"
      ]
     },
     "metadata": {},
     "output_type": "display_data"
    },
    {
     "name": "stdout",
     "output_type": "stream",
     "text": [
      "Enumerating monochromatic designs on level 2\n"
     ]
    },
    {
     "data": {
      "application/vnd.jupyter.widget-view+json": {
       "model_id": "4b8d4f21b5554311b4d54bcc996c9bd8",
       "version_major": 2,
       "version_minor": 0
      },
      "text/plain": [
       "0it [00:00, ?it/s]"
      ]
     },
     "metadata": {},
     "output_type": "display_data"
    },
    {
     "name": "stdout",
     "output_type": "stream",
     "text": [
      "Enumerating monochromatic designs on level 3\n"
     ]
    },
    {
     "data": {
      "application/vnd.jupyter.widget-view+json": {
       "model_id": "e37d72548b234656a8d984a24105bf2f",
       "version_major": 2,
       "version_minor": 0
      },
      "text/plain": [
       "0it [00:00, ?it/s]"
      ]
     },
     "metadata": {},
     "output_type": "display_data"
    },
    {
     "name": "stdout",
     "output_type": "stream",
     "text": [
      "Testing 2 designs with WL... (triangles only)\n"
     ]
    },
    {
     "data": {
      "application/vnd.jupyter.widget-view+json": {
       "model_id": "75017f905e34468c9807ff7417861c3b",
       "version_major": 2,
       "version_minor": 0
      },
      "text/plain": [
       "  0%|          | 0/2 [00:00<?, ?it/s]"
      ]
     },
     "metadata": {},
     "output_type": "display_data"
    },
    {
     "name": "stdout",
     "output_type": "stream",
     "text": [
      "Found: <SAS of degree 6 and ranks [1, 4, 8, 10, 8, 4, 1]>\n",
      "Summary: (6, 36, [1, 4, 8, 10, 8, 4, 1], False, True, 'C2 x C2')\n",
      "Found: <SAS of degree 6 and ranks [1, 4, 7, 8, 7, 4, 1]>\n",
      "Summary: (6, 32, [1, 4, 7, 8, 7, 4, 1], False, True, 'S3')\n",
      "Searching for coherent refinements of <SAS of degree 6 and ranks [1, 3, 4, 4, 4, 3, 1]>\n",
      "Summary: (6, 20, [1, 3, 4, 4, 4, 3, 1], False, True, 'S4')\n"
     ]
    },
    {
     "data": {
      "application/vnd.jupyter.widget-view+json": {
       "model_id": "2e98399a80ad4acfaae547e3a555c9a2",
       "version_major": 2,
       "version_minor": 0
      },
      "text/plain": [
       "0it [00:00, ?it/s]"
      ]
     },
     "metadata": {},
     "output_type": "display_data"
    },
    {
     "name": "stdout",
     "output_type": "stream",
     "text": [
      "Enumerating monochromatic designs on level 1\n"
     ]
    },
    {
     "data": {
      "application/vnd.jupyter.widget-view+json": {
       "model_id": "605addc7e2e1437081d50fa3cc9202ba",
       "version_major": 2,
       "version_minor": 0
      },
      "text/plain": [
       "0it [00:00, ?it/s]"
      ]
     },
     "metadata": {},
     "output_type": "display_data"
    },
    {
     "name": "stdout",
     "output_type": "stream",
     "text": [
      "Enumerating monochromatic designs on level 2\n"
     ]
    },
    {
     "data": {
      "application/vnd.jupyter.widget-view+json": {
       "model_id": "702c1cccf1624412bd1c9ea8eafa3af4",
       "version_major": 2,
       "version_minor": 0
      },
      "text/plain": [
       "0it [00:00, ?it/s]"
      ]
     },
     "metadata": {},
     "output_type": "display_data"
    },
    {
     "name": "stdout",
     "output_type": "stream",
     "text": [
      "Enumerating monochromatic designs on level 3\n"
     ]
    },
    {
     "data": {
      "application/vnd.jupyter.widget-view+json": {
       "model_id": "ff6ea29e9faf4efa8d19c61d07b73297",
       "version_major": 2,
       "version_minor": 0
      },
      "text/plain": [
       "0it [00:00, ?it/s]"
      ]
     },
     "metadata": {},
     "output_type": "display_data"
    },
    {
     "name": "stdout",
     "output_type": "stream",
     "text": [
      "Testing 3 designs with WL... (triangles only)\n"
     ]
    },
    {
     "data": {
      "application/vnd.jupyter.widget-view+json": {
       "model_id": "5300a073ad7d4ee6b064958226ec4b2d",
       "version_major": 2,
       "version_minor": 0
      },
      "text/plain": [
       "  0%|          | 0/3 [00:00<?, ?it/s]"
      ]
     },
     "metadata": {},
     "output_type": "display_data"
    },
    {
     "name": "stdout",
     "output_type": "stream",
     "text": [
      "Found: <SAS of degree 6 and ranks [1, 3, 5, 6, 5, 3, 1]>\n",
      "Summary: (6, 24, [1, 3, 5, 6, 5, 3, 1], False, True, 'D4')\n",
      "Searching for coherent refinements of <SAS of degree 6 and ranks [1, 2, 3, 4, 3, 2, 1]>\n",
      "Summary: (6, 16, [1, 2, 3, 4, 3, 2, 1], False, True, 'D5')\n"
     ]
    },
    {
     "data": {
      "application/vnd.jupyter.widget-view+json": {
       "model_id": "22a8642278554e0cb11bda1d12888341",
       "version_major": 2,
       "version_minor": 0
      },
      "text/plain": [
       "0it [00:00, ?it/s]"
      ]
     },
     "metadata": {},
     "output_type": "display_data"
    },
    {
     "name": "stdout",
     "output_type": "stream",
     "text": [
      "Enumerating monochromatic designs on level 2\n"
     ]
    },
    {
     "data": {
      "application/vnd.jupyter.widget-view+json": {
       "model_id": "f69efa6053d747fe8ed0bf3b55725819",
       "version_major": 2,
       "version_minor": 0
      },
      "text/plain": [
       "0it [00:00, ?it/s]"
      ]
     },
     "metadata": {},
     "output_type": "display_data"
    },
    {
     "name": "stdout",
     "output_type": "stream",
     "text": [
      "Enumerating monochromatic designs on level 3\n"
     ]
    },
    {
     "data": {
      "application/vnd.jupyter.widget-view+json": {
       "model_id": "f3a3efe12e0a4cfdb90327f74bedccce",
       "version_major": 2,
       "version_minor": 0
      },
      "text/plain": [
       "0it [00:00, ?it/s]"
      ]
     },
     "metadata": {},
     "output_type": "display_data"
    },
    {
     "name": "stdout",
     "output_type": "stream",
     "text": [
      "Testing 0 designs with WL... (triangles only)\n"
     ]
    },
    {
     "data": {
      "application/vnd.jupyter.widget-view+json": {
       "model_id": "e0a332b172384aa6aaca8ac9f363e0a2",
       "version_major": 2,
       "version_minor": 0
      },
      "text/plain": [
       "0it [00:00, ?it/s]"
      ]
     },
     "metadata": {},
     "output_type": "display_data"
    },
    {
     "name": "stdout",
     "output_type": "stream",
     "text": [
      "Searching for coherent refinements of <SAS of degree 6 and ranks [1, 2, 5, 5, 5, 2, 1]>\n",
      "Summary: (6, 21, [1, 2, 5, 5, 5, 2, 1], False, True, 'D4')\n"
     ]
    },
    {
     "data": {
      "application/vnd.jupyter.widget-view+json": {
       "model_id": "efd570308551451e81b78bf799678e87",
       "version_major": 2,
       "version_minor": 0
      },
      "text/plain": [
       "0it [00:00, ?it/s]"
      ]
     },
     "metadata": {},
     "output_type": "display_data"
    },
    {
     "name": "stdout",
     "output_type": "stream",
     "text": [
      "Enumerating monochromatic designs on level 2\n"
     ]
    },
    {
     "data": {
      "application/vnd.jupyter.widget-view+json": {
       "model_id": "d62440ba480145749ab6e0e8fdf06bbf",
       "version_major": 2,
       "version_minor": 0
      },
      "text/plain": [
       "0it [00:00, ?it/s]"
      ]
     },
     "metadata": {},
     "output_type": "display_data"
    },
    {
     "name": "stdout",
     "output_type": "stream",
     "text": [
      "Enumerating monochromatic designs on level 3\n"
     ]
    },
    {
     "data": {
      "application/vnd.jupyter.widget-view+json": {
       "model_id": "6793ff0db03949e3ae9e5a6d2ba8f4dd",
       "version_major": 2,
       "version_minor": 0
      },
      "text/plain": [
       "0it [00:00, ?it/s]"
      ]
     },
     "metadata": {},
     "output_type": "display_data"
    },
    {
     "name": "stdout",
     "output_type": "stream",
     "text": [
      "Testing 2 designs with WL... (triangles only)\n"
     ]
    },
    {
     "data": {
      "application/vnd.jupyter.widget-view+json": {
       "model_id": "45ac241c4a3c42ee9ab9d36285704eb0",
       "version_major": 2,
       "version_minor": 0
      },
      "text/plain": [
       "  0%|          | 0/2 [00:00<?, ?it/s]"
      ]
     },
     "metadata": {},
     "output_type": "display_data"
    },
    {
     "name": "stdout",
     "output_type": "stream",
     "text": [
      "Found: <SAS of degree 6 and ranks [1, 2, 5, 6, 5, 2, 1]>\n",
      "Summary: (6, 22, [1, 2, 5, 6, 5, 2, 1], False, True, 'C4')\n",
      "Searching for coherent refinements of <SAS of degree 6 and ranks [1, 2, 4, 4, 4, 2, 1]>\n",
      "Summary: (6, 18, [1, 2, 4, 4, 4, 2, 1], False, True, 'C2 x D4')\n"
     ]
    },
    {
     "data": {
      "application/vnd.jupyter.widget-view+json": {
       "model_id": "06649398e3414f94bebbd8bef2e827de",
       "version_major": 2,
       "version_minor": 0
      },
      "text/plain": [
       "0it [00:00, ?it/s]"
      ]
     },
     "metadata": {},
     "output_type": "display_data"
    },
    {
     "name": "stdout",
     "output_type": "stream",
     "text": [
      "Enumerating monochromatic designs on level 2\n"
     ]
    },
    {
     "data": {
      "application/vnd.jupyter.widget-view+json": {
       "model_id": "66fd574db2c74210b597f49d2048f6d7",
       "version_major": 2,
       "version_minor": 0
      },
      "text/plain": [
       "0it [00:00, ?it/s]"
      ]
     },
     "metadata": {},
     "output_type": "display_data"
    },
    {
     "name": "stdout",
     "output_type": "stream",
     "text": [
      "Enumerating monochromatic designs on level 3\n"
     ]
    },
    {
     "data": {
      "application/vnd.jupyter.widget-view+json": {
       "model_id": "0fd1b3ebe3094ff687df7190c7562bab",
       "version_major": 2,
       "version_minor": 0
      },
      "text/plain": [
       "0it [00:00, ?it/s]"
      ]
     },
     "metadata": {},
     "output_type": "display_data"
    },
    {
     "name": "stdout",
     "output_type": "stream",
     "text": [
      "Testing 4 designs with WL... (triangles only)\n"
     ]
    },
    {
     "data": {
      "application/vnd.jupyter.widget-view+json": {
       "model_id": "1502be516a114cb3aed81f6a840650f2",
       "version_major": 2,
       "version_minor": 0
      },
      "text/plain": [
       "  0%|          | 0/4 [00:00<?, ?it/s]"
      ]
     },
     "metadata": {},
     "output_type": "display_data"
    },
    {
     "name": "stdout",
     "output_type": "stream",
     "text": [
      "Found: <SAS of degree 6 and ranks [1, 2, 5, 5, 5, 2, 1]>\n",
      "Summary: (6, 21, [1, 2, 5, 5, 5, 2, 1], False, True, 'C2 x C2 x C2')\n",
      "Found: <SAS of degree 6 and ranks [1, 2, 4, 5, 4, 2, 1]>\n",
      "Summary: (6, 19, [1, 2, 4, 5, 4, 2, 1], False, True, 'D4')\n",
      "Searching for coherent refinements of <SAS of degree 6 and ranks [1, 3, 6, 7, 6, 3, 1]>\n",
      "Summary: (6, 27, [1, 3, 6, 7, 6, 3, 1], False, True, 'C2 x C2 x C2')\n"
     ]
    },
    {
     "data": {
      "application/vnd.jupyter.widget-view+json": {
       "model_id": "0677824255d74235a8744de0d33fb10c",
       "version_major": 2,
       "version_minor": 0
      },
      "text/plain": [
       "0it [00:00, ?it/s]"
      ]
     },
     "metadata": {},
     "output_type": "display_data"
    },
    {
     "name": "stdout",
     "output_type": "stream",
     "text": [
      "Enumerating monochromatic designs on level 1\n"
     ]
    },
    {
     "data": {
      "application/vnd.jupyter.widget-view+json": {
       "model_id": "605ed24bfefb433e9dd7cca09692b651",
       "version_major": 2,
       "version_minor": 0
      },
      "text/plain": [
       "0it [00:00, ?it/s]"
      ]
     },
     "metadata": {},
     "output_type": "display_data"
    },
    {
     "name": "stdout",
     "output_type": "stream",
     "text": [
      "Enumerating monochromatic designs on level 2\n"
     ]
    },
    {
     "data": {
      "application/vnd.jupyter.widget-view+json": {
       "model_id": "d1faa139a05544209471c69ca044628b",
       "version_major": 2,
       "version_minor": 0
      },
      "text/plain": [
       "0it [00:00, ?it/s]"
      ]
     },
     "metadata": {},
     "output_type": "display_data"
    },
    {
     "name": "stdout",
     "output_type": "stream",
     "text": [
      "Enumerating monochromatic designs on level 3\n"
     ]
    },
    {
     "data": {
      "application/vnd.jupyter.widget-view+json": {
       "model_id": "6854c479eab64cb5a39a4c07022c9327",
       "version_major": 2,
       "version_minor": 0
      },
      "text/plain": [
       "0it [00:00, ?it/s]"
      ]
     },
     "metadata": {},
     "output_type": "display_data"
    },
    {
     "name": "stdout",
     "output_type": "stream",
     "text": [
      "Testing 3 designs with WL... (triangles only)\n"
     ]
    },
    {
     "data": {
      "application/vnd.jupyter.widget-view+json": {
       "model_id": "ef8dc2a692404fc4b296c14e32825492",
       "version_major": 2,
       "version_minor": 0
      },
      "text/plain": [
       "  0%|          | 0/3 [00:00<?, ?it/s]"
      ]
     },
     "metadata": {},
     "output_type": "display_data"
    },
    {
     "name": "stdout",
     "output_type": "stream",
     "text": [
      "Found: <SAS of degree 6 and ranks [1, 3, 6, 8, 6, 3, 1]>\n",
      "Summary: (6, 28, [1, 3, 6, 8, 6, 3, 1], False, True, 'C2 x C2')\n",
      "Found: <SAS of degree 6 and ranks [1, 3, 7, 8, 7, 3, 1]>\n",
      "Summary: (6, 30, [1, 3, 7, 8, 7, 3, 1], False, True, 'C2 x C2')\n",
      "Searching for coherent refinements of <SAS of degree 6 and ranks [1, 1, 3, 4, 3, 1, 1]>\n",
      "Summary: (6, 14, [1, 1, 3, 4, 3, 1, 1], True, True, 'C6')\n"
     ]
    },
    {
     "data": {
      "application/vnd.jupyter.widget-view+json": {
       "model_id": "19b0e223a39f4477b5132a8cc79b95e4",
       "version_major": 2,
       "version_minor": 0
      },
      "text/plain": [
       "0it [00:00, ?it/s]"
      ]
     },
     "metadata": {},
     "output_type": "display_data"
    },
    {
     "name": "stdout",
     "output_type": "stream",
     "text": [
      "Enumerating monochromatic designs on level 3\n"
     ]
    },
    {
     "data": {
      "application/vnd.jupyter.widget-view+json": {
       "model_id": "9476a31bce5f4142bdd530b7b60929d3",
       "version_major": 2,
       "version_minor": 0
      },
      "text/plain": [
       "0it [00:00, ?it/s]"
      ]
     },
     "metadata": {},
     "output_type": "display_data"
    },
    {
     "name": "stdout",
     "output_type": "stream",
     "text": [
      "Testing 0 designs with WL... (triangles only)\n"
     ]
    },
    {
     "data": {
      "application/vnd.jupyter.widget-view+json": {
       "model_id": "202dac7f47bf419893998e119a55c695",
       "version_major": 2,
       "version_minor": 0
      },
      "text/plain": [
       "0it [00:00, ?it/s]"
      ]
     },
     "metadata": {},
     "output_type": "display_data"
    },
    {
     "name": "stdout",
     "output_type": "stream",
     "text": [
      "Searching for coherent refinements of <SAS of degree 6 and ranks [1, 1, 2, 4, 2, 1, 1]>\n",
      "Summary: (6, 12, [1, 1, 2, 4, 2, 1, 1], True, True, 'A4')\n"
     ]
    },
    {
     "data": {
      "application/vnd.jupyter.widget-view+json": {
       "model_id": "7f3eb9a55a9040f79e850d99d184b515",
       "version_major": 2,
       "version_minor": 0
      },
      "text/plain": [
       "0it [00:00, ?it/s]"
      ]
     },
     "metadata": {},
     "output_type": "display_data"
    },
    {
     "name": "stdout",
     "output_type": "stream",
     "text": [
      "Enumerating monochromatic designs on level 3\n"
     ]
    },
    {
     "data": {
      "application/vnd.jupyter.widget-view+json": {
       "model_id": "f3a740381d774f4ab02b2fcb4de76ad5",
       "version_major": 2,
       "version_minor": 0
      },
      "text/plain": [
       "0it [00:00, ?it/s]"
      ]
     },
     "metadata": {},
     "output_type": "display_data"
    },
    {
     "name": "stdout",
     "output_type": "stream",
     "text": [
      "Testing 0 designs with WL... (triangles only)\n"
     ]
    },
    {
     "data": {
      "application/vnd.jupyter.widget-view+json": {
       "model_id": "255352ff68484e6aaa74a431b0090102",
       "version_major": 2,
       "version_minor": 0
      },
      "text/plain": [
       "0it [00:00, ?it/s]"
      ]
     },
     "metadata": {},
     "output_type": "display_data"
    },
    {
     "name": "stdout",
     "output_type": "stream",
     "text": [
      "Searching for coherent refinements of <SAS of degree 6 and ranks [1, 2, 5, 8, 5, 2, 1]>\n",
      "Summary: (6, 24, [1, 2, 5, 8, 5, 2, 1], False, True, 'C3')\n"
     ]
    },
    {
     "data": {
      "application/vnd.jupyter.widget-view+json": {
       "model_id": "bec1a410420c48c8aa6fa7956eabdd7d",
       "version_major": 2,
       "version_minor": 0
      },
      "text/plain": [
       "0it [00:00, ?it/s]"
      ]
     },
     "metadata": {},
     "output_type": "display_data"
    },
    {
     "name": "stdout",
     "output_type": "stream",
     "text": [
      "Enumerating monochromatic designs on level 2\n"
     ]
    },
    {
     "data": {
      "application/vnd.jupyter.widget-view+json": {
       "model_id": "78b0a58a3086475c9dfb2e6e1fb7af3a",
       "version_major": 2,
       "version_minor": 0
      },
      "text/plain": [
       "0it [00:00, ?it/s]"
      ]
     },
     "metadata": {},
     "output_type": "display_data"
    },
    {
     "name": "stdout",
     "output_type": "stream",
     "text": [
      "Enumerating monochromatic designs on level 3\n"
     ]
    },
    {
     "data": {
      "application/vnd.jupyter.widget-view+json": {
       "model_id": "3cb176b7e03b46baa322505dc8a67067",
       "version_major": 2,
       "version_minor": 0
      },
      "text/plain": [
       "0it [00:00, ?it/s]"
      ]
     },
     "metadata": {},
     "output_type": "display_data"
    },
    {
     "name": "stdout",
     "output_type": "stream",
     "text": [
      "Testing 0 designs with WL... (triangles only)\n"
     ]
    },
    {
     "data": {
      "application/vnd.jupyter.widget-view+json": {
       "model_id": "7b0515e72f24414eb77c327640b03014",
       "version_major": 2,
       "version_minor": 0
      },
      "text/plain": [
       "0it [00:00, ?it/s]"
      ]
     },
     "metadata": {},
     "output_type": "display_data"
    },
    {
     "name": "stdout",
     "output_type": "stream",
     "text": [
      "Searching for coherent refinements of <SAS of degree 6 and ranks [1, 4, 8, 10, 8, 4, 1]>\n",
      "Summary: (6, 36, [1, 4, 8, 10, 8, 4, 1], False, True, 'C2 x C2')\n"
     ]
    },
    {
     "data": {
      "application/vnd.jupyter.widget-view+json": {
       "model_id": "e9094960b3e8456296a6a1b71ea9aa48",
       "version_major": 2,
       "version_minor": 0
      },
      "text/plain": [
       "0it [00:00, ?it/s]"
      ]
     },
     "metadata": {},
     "output_type": "display_data"
    },
    {
     "name": "stdout",
     "output_type": "stream",
     "text": [
      "Enumerating monochromatic designs on level 1\n"
     ]
    },
    {
     "data": {
      "application/vnd.jupyter.widget-view+json": {
       "model_id": "9ce066f963cc450781ae1c444f0e7bea",
       "version_major": 2,
       "version_minor": 0
      },
      "text/plain": [
       "0it [00:00, ?it/s]"
      ]
     },
     "metadata": {},
     "output_type": "display_data"
    },
    {
     "name": "stdout",
     "output_type": "stream",
     "text": [
      "Enumerating monochromatic designs on level 2\n"
     ]
    },
    {
     "data": {
      "application/vnd.jupyter.widget-view+json": {
       "model_id": "068355b8d351467b900a7d766884283e",
       "version_major": 2,
       "version_minor": 0
      },
      "text/plain": [
       "0it [00:00, ?it/s]"
      ]
     },
     "metadata": {},
     "output_type": "display_data"
    },
    {
     "name": "stdout",
     "output_type": "stream",
     "text": [
      "Enumerating monochromatic designs on level 3\n"
     ]
    },
    {
     "data": {
      "application/vnd.jupyter.widget-view+json": {
       "model_id": "857c801fcbcb4bd28a0135ea93306250",
       "version_major": 2,
       "version_minor": 0
      },
      "text/plain": [
       "0it [00:00, ?it/s]"
      ]
     },
     "metadata": {},
     "output_type": "display_data"
    },
    {
     "name": "stdout",
     "output_type": "stream",
     "text": [
      "Testing 2 designs with WL... (triangles only)\n"
     ]
    },
    {
     "data": {
      "application/vnd.jupyter.widget-view+json": {
       "model_id": "3fc73672fc3b4e488990dd1efad3b962",
       "version_major": 2,
       "version_minor": 0
      },
      "text/plain": [
       "  0%|          | 0/2 [00:00<?, ?it/s]"
      ]
     },
     "metadata": {},
     "output_type": "display_data"
    },
    {
     "name": "stdout",
     "output_type": "stream",
     "text": [
      "Found: <SAS of degree 6 and ranks [1, 4, 9, 12, 9, 4, 1]>\n",
      "Summary: (6, 40, [1, 4, 9, 12, 9, 4, 1], False, True, 'C2')\n",
      "Found: <SAS of degree 6 and ranks [1, 5, 11, 14, 11, 5, 1]>\n",
      "Summary: (6, 48, [1, 5, 11, 14, 11, 5, 1], False, True, 'C2')\n",
      "Searching for coherent refinements of <SAS of degree 6 and ranks [1, 4, 7, 8, 7, 4, 1]>\n",
      "Summary: (6, 32, [1, 4, 7, 8, 7, 4, 1], False, True, 'S3')\n"
     ]
    },
    {
     "data": {
      "application/vnd.jupyter.widget-view+json": {
       "model_id": "9ae754d20df94b2386a2faf81f310376",
       "version_major": 2,
       "version_minor": 0
      },
      "text/plain": [
       "0it [00:00, ?it/s]"
      ]
     },
     "metadata": {},
     "output_type": "display_data"
    },
    {
     "name": "stdout",
     "output_type": "stream",
     "text": [
      "Enumerating monochromatic designs on level 1\n"
     ]
    },
    {
     "data": {
      "application/vnd.jupyter.widget-view+json": {
       "model_id": "973104b266f847f8a7d208b6f4a53205",
       "version_major": 2,
       "version_minor": 0
      },
      "text/plain": [
       "0it [00:00, ?it/s]"
      ]
     },
     "metadata": {},
     "output_type": "display_data"
    },
    {
     "name": "stdout",
     "output_type": "stream",
     "text": [
      "Enumerating monochromatic designs on level 2\n"
     ]
    },
    {
     "data": {
      "application/vnd.jupyter.widget-view+json": {
       "model_id": "070e03d41e4c45c584886646051aa579",
       "version_major": 2,
       "version_minor": 0
      },
      "text/plain": [
       "0it [00:00, ?it/s]"
      ]
     },
     "metadata": {},
     "output_type": "display_data"
    },
    {
     "name": "stdout",
     "output_type": "stream",
     "text": [
      "Enumerating monochromatic designs on level 3\n"
     ]
    },
    {
     "data": {
      "application/vnd.jupyter.widget-view+json": {
       "model_id": "76159945440f4f7ea952fb1ce452e4b5",
       "version_major": 2,
       "version_minor": 0
      },
      "text/plain": [
       "0it [00:00, ?it/s]"
      ]
     },
     "metadata": {},
     "output_type": "display_data"
    },
    {
     "name": "stdout",
     "output_type": "stream",
     "text": [
      "Testing 1 designs with WL... (triangles only)\n"
     ]
    },
    {
     "data": {
      "application/vnd.jupyter.widget-view+json": {
       "model_id": "9c71103048124be79763c3fe105f67e1",
       "version_major": 2,
       "version_minor": 0
      },
      "text/plain": [
       "  0%|          | 0/1 [00:00<?, ?it/s]"
      ]
     },
     "metadata": {},
     "output_type": "display_data"
    },
    {
     "name": "stdout",
     "output_type": "stream",
     "text": [
      "Searching for coherent refinements of <SAS of degree 6 and ranks [1, 3, 5, 6, 5, 3, 1]>\n",
      "Summary: (6, 24, [1, 3, 5, 6, 5, 3, 1], False, True, 'D4')\n"
     ]
    },
    {
     "data": {
      "application/vnd.jupyter.widget-view+json": {
       "model_id": "71bad9deb1004b1bb6519e5f1d1b91d7",
       "version_major": 2,
       "version_minor": 0
      },
      "text/plain": [
       "0it [00:00, ?it/s]"
      ]
     },
     "metadata": {},
     "output_type": "display_data"
    },
    {
     "name": "stdout",
     "output_type": "stream",
     "text": [
      "Enumerating monochromatic designs on level 2\n"
     ]
    },
    {
     "data": {
      "application/vnd.jupyter.widget-view+json": {
       "model_id": "a5ce0be0a7e14356bde437936d05c65d",
       "version_major": 2,
       "version_minor": 0
      },
      "text/plain": [
       "0it [00:00, ?it/s]"
      ]
     },
     "metadata": {},
     "output_type": "display_data"
    },
    {
     "name": "stdout",
     "output_type": "stream",
     "text": [
      "Enumerating monochromatic designs on level 3\n"
     ]
    },
    {
     "data": {
      "application/vnd.jupyter.widget-view+json": {
       "model_id": "1510c3930dfb4ecaa9c581d571060418",
       "version_major": 2,
       "version_minor": 0
      },
      "text/plain": [
       "0it [00:00, ?it/s]"
      ]
     },
     "metadata": {},
     "output_type": "display_data"
    },
    {
     "name": "stdout",
     "output_type": "stream",
     "text": [
      "Testing 1 designs with WL... (triangles only)\n"
     ]
    },
    {
     "data": {
      "application/vnd.jupyter.widget-view+json": {
       "model_id": "87752e5bec53476cb7f1c1d79b5ac07c",
       "version_major": 2,
       "version_minor": 0
      },
      "text/plain": [
       "  0%|          | 0/1 [00:00<?, ?it/s]"
      ]
     },
     "metadata": {},
     "output_type": "display_data"
    },
    {
     "name": "stdout",
     "output_type": "stream",
     "text": [
      "Found: <SAS of degree 6 and ranks [1, 3, 6, 8, 6, 3, 1]>\n",
      "Summary: (6, 28, [1, 3, 6, 8, 6, 3, 1], False, True, 'C2 x C2')\n",
      "Searching for coherent refinements of <SAS of degree 6 and ranks [1, 2, 5, 6, 5, 2, 1]>\n",
      "Summary: (6, 22, [1, 2, 5, 6, 5, 2, 1], False, True, 'C4')\n"
     ]
    },
    {
     "data": {
      "application/vnd.jupyter.widget-view+json": {
       "model_id": "c3422afbefca4ab892358ad667e6148f",
       "version_major": 2,
       "version_minor": 0
      },
      "text/plain": [
       "0it [00:00, ?it/s]"
      ]
     },
     "metadata": {},
     "output_type": "display_data"
    },
    {
     "name": "stdout",
     "output_type": "stream",
     "text": [
      "Enumerating monochromatic designs on level 3\n"
     ]
    },
    {
     "data": {
      "application/vnd.jupyter.widget-view+json": {
       "model_id": "6ed7e338e6b542ac979cb001042e8718",
       "version_major": 2,
       "version_minor": 0
      },
      "text/plain": [
       "0it [00:00, ?it/s]"
      ]
     },
     "metadata": {},
     "output_type": "display_data"
    },
    {
     "name": "stdout",
     "output_type": "stream",
     "text": [
      "Testing 0 designs with WL... (triangles only)\n"
     ]
    },
    {
     "data": {
      "application/vnd.jupyter.widget-view+json": {
       "model_id": "4926d8c0fd03410f80d20e0cb80bf9b7",
       "version_major": 2,
       "version_minor": 0
      },
      "text/plain": [
       "0it [00:00, ?it/s]"
      ]
     },
     "metadata": {},
     "output_type": "display_data"
    },
    {
     "name": "stdout",
     "output_type": "stream",
     "text": [
      "Searching for coherent refinements of <SAS of degree 6 and ranks [1, 2, 5, 5, 5, 2, 1]>\n",
      "Summary: (6, 21, [1, 2, 5, 5, 5, 2, 1], False, True, 'C2 x C2 x C2')\n"
     ]
    },
    {
     "data": {
      "application/vnd.jupyter.widget-view+json": {
       "model_id": "7d768265713c4c8ebca84439ec80d73b",
       "version_major": 2,
       "version_minor": 0
      },
      "text/plain": [
       "0it [00:00, ?it/s]"
      ]
     },
     "metadata": {},
     "output_type": "display_data"
    },
    {
     "name": "stdout",
     "output_type": "stream",
     "text": [
      "Enumerating monochromatic designs on level 2\n"
     ]
    },
    {
     "data": {
      "application/vnd.jupyter.widget-view+json": {
       "model_id": "375821fb3476479886ec76359a359ec5",
       "version_major": 2,
       "version_minor": 0
      },
      "text/plain": [
       "0it [00:00, ?it/s]"
      ]
     },
     "metadata": {},
     "output_type": "display_data"
    },
    {
     "name": "stdout",
     "output_type": "stream",
     "text": [
      "Enumerating monochromatic designs on level 3\n"
     ]
    },
    {
     "data": {
      "application/vnd.jupyter.widget-view+json": {
       "model_id": "4de3d2633bc14934ab40a20ee1c4dafa",
       "version_major": 2,
       "version_minor": 0
      },
      "text/plain": [
       "0it [00:00, ?it/s]"
      ]
     },
     "metadata": {},
     "output_type": "display_data"
    },
    {
     "name": "stdout",
     "output_type": "stream",
     "text": [
      "Testing 1 designs with WL... (triangles only)\n"
     ]
    },
    {
     "data": {
      "application/vnd.jupyter.widget-view+json": {
       "model_id": "f01e88e689b44de19d63ce9ff6318102",
       "version_major": 2,
       "version_minor": 0
      },
      "text/plain": [
       "  0%|          | 0/1 [00:00<?, ?it/s]"
      ]
     },
     "metadata": {},
     "output_type": "display_data"
    },
    {
     "name": "stdout",
     "output_type": "stream",
     "text": [
      "Searching for coherent refinements of <SAS of degree 6 and ranks [1, 2, 4, 5, 4, 2, 1]>\n",
      "Summary: (6, 19, [1, 2, 4, 5, 4, 2, 1], False, True, 'D4')\n"
     ]
    },
    {
     "data": {
      "application/vnd.jupyter.widget-view+json": {
       "model_id": "870780f98ee04d6982d02b378872af26",
       "version_major": 2,
       "version_minor": 0
      },
      "text/plain": [
       "0it [00:00, ?it/s]"
      ]
     },
     "metadata": {},
     "output_type": "display_data"
    },
    {
     "name": "stdout",
     "output_type": "stream",
     "text": [
      "Enumerating monochromatic designs on level 3\n"
     ]
    },
    {
     "data": {
      "application/vnd.jupyter.widget-view+json": {
       "model_id": "cd5e65a5355d4758bbcebef20f76cfeb",
       "version_major": 2,
       "version_minor": 0
      },
      "text/plain": [
       "0it [00:00, ?it/s]"
      ]
     },
     "metadata": {},
     "output_type": "display_data"
    },
    {
     "name": "stdout",
     "output_type": "stream",
     "text": [
      "Testing 0 designs with WL... (triangles only)\n"
     ]
    },
    {
     "data": {
      "application/vnd.jupyter.widget-view+json": {
       "model_id": "6c988ee0558249bc8e24eda5a1500fca",
       "version_major": 2,
       "version_minor": 0
      },
      "text/plain": [
       "0it [00:00, ?it/s]"
      ]
     },
     "metadata": {},
     "output_type": "display_data"
    },
    {
     "name": "stdout",
     "output_type": "stream",
     "text": [
      "Searching for coherent refinements of <SAS of degree 6 and ranks [1, 3, 6, 8, 6, 3, 1]>\n",
      "Summary: (6, 28, [1, 3, 6, 8, 6, 3, 1], False, True, 'C2 x C2')\n"
     ]
    },
    {
     "data": {
      "application/vnd.jupyter.widget-view+json": {
       "model_id": "c6ab5e267094477ba1b08c1066f3e5fb",
       "version_major": 2,
       "version_minor": 0
      },
      "text/plain": [
       "0it [00:00, ?it/s]"
      ]
     },
     "metadata": {},
     "output_type": "display_data"
    },
    {
     "name": "stdout",
     "output_type": "stream",
     "text": [
      "Enumerating monochromatic designs on level 3\n"
     ]
    },
    {
     "data": {
      "application/vnd.jupyter.widget-view+json": {
       "model_id": "134c5f3340b94d3cbb3b58742567118d",
       "version_major": 2,
       "version_minor": 0
      },
      "text/plain": [
       "0it [00:00, ?it/s]"
      ]
     },
     "metadata": {},
     "output_type": "display_data"
    },
    {
     "name": "stdout",
     "output_type": "stream",
     "text": [
      "Testing 0 designs with WL... (triangles only)\n"
     ]
    },
    {
     "data": {
      "application/vnd.jupyter.widget-view+json": {
       "model_id": "d0bb1273cc3e452cb369ca020ce45d44",
       "version_major": 2,
       "version_minor": 0
      },
      "text/plain": [
       "0it [00:00, ?it/s]"
      ]
     },
     "metadata": {},
     "output_type": "display_data"
    },
    {
     "name": "stdout",
     "output_type": "stream",
     "text": [
      "Searching for coherent refinements of <SAS of degree 6 and ranks [1, 3, 7, 8, 7, 3, 1]>\n",
      "Summary: (6, 30, [1, 3, 7, 8, 7, 3, 1], False, True, 'C2 x C2')\n"
     ]
    },
    {
     "data": {
      "application/vnd.jupyter.widget-view+json": {
       "model_id": "20793192118246b9becad04a4423d645",
       "version_major": 2,
       "version_minor": 0
      },
      "text/plain": [
       "0it [00:00, ?it/s]"
      ]
     },
     "metadata": {},
     "output_type": "display_data"
    },
    {
     "name": "stdout",
     "output_type": "stream",
     "text": [
      "Enumerating monochromatic designs on level 2\n"
     ]
    },
    {
     "data": {
      "application/vnd.jupyter.widget-view+json": {
       "model_id": "0b5df327fe20456b8f7a9fd6ebf13a47",
       "version_major": 2,
       "version_minor": 0
      },
      "text/plain": [
       "0it [00:00, ?it/s]"
      ]
     },
     "metadata": {},
     "output_type": "display_data"
    },
    {
     "name": "stdout",
     "output_type": "stream",
     "text": [
      "Enumerating monochromatic designs on level 3\n"
     ]
    },
    {
     "data": {
      "application/vnd.jupyter.widget-view+json": {
       "model_id": "18729df7e1e347ed89025585b2f0fd85",
       "version_major": 2,
       "version_minor": 0
      },
      "text/plain": [
       "0it [00:00, ?it/s]"
      ]
     },
     "metadata": {},
     "output_type": "display_data"
    },
    {
     "name": "stdout",
     "output_type": "stream",
     "text": [
      "Testing 1 designs with WL... (triangles only)\n"
     ]
    },
    {
     "data": {
      "application/vnd.jupyter.widget-view+json": {
       "model_id": "3363fd3078e84e6ba0c90ffed34f1c24",
       "version_major": 2,
       "version_minor": 0
      },
      "text/plain": [
       "  0%|          | 0/1 [00:00<?, ?it/s]"
      ]
     },
     "metadata": {},
     "output_type": "display_data"
    },
    {
     "name": "stdout",
     "output_type": "stream",
     "text": [
      "Found: <SAS of degree 6 and ranks [1, 3, 9, 10, 9, 3, 1]>\n",
      "Summary: (6, 36, [1, 3, 9, 10, 9, 3, 1], False, True, 'C2')\n",
      "Searching for coherent refinements of <SAS of degree 6 and ranks [1, 4, 9, 12, 9, 4, 1]>\n",
      "Summary: (6, 40, [1, 4, 9, 12, 9, 4, 1], False, True, 'C2')\n"
     ]
    },
    {
     "data": {
      "application/vnd.jupyter.widget-view+json": {
       "model_id": "8558b40b8c234e4bbde61414a69d66c1",
       "version_major": 2,
       "version_minor": 0
      },
      "text/plain": [
       "0it [00:00, ?it/s]"
      ]
     },
     "metadata": {},
     "output_type": "display_data"
    },
    {
     "name": "stdout",
     "output_type": "stream",
     "text": [
      "Enumerating monochromatic designs on level 2\n"
     ]
    },
    {
     "data": {
      "application/vnd.jupyter.widget-view+json": {
       "model_id": "bf54dc63c4f34006829e201f1a040423",
       "version_major": 2,
       "version_minor": 0
      },
      "text/plain": [
       "0it [00:00, ?it/s]"
      ]
     },
     "metadata": {},
     "output_type": "display_data"
    },
    {
     "name": "stdout",
     "output_type": "stream",
     "text": [
      "Enumerating monochromatic designs on level 3\n"
     ]
    },
    {
     "data": {
      "application/vnd.jupyter.widget-view+json": {
       "model_id": "b3603c14e8b3442f859722b4cf406cd5",
       "version_major": 2,
       "version_minor": 0
      },
      "text/plain": [
       "0it [00:00, ?it/s]"
      ]
     },
     "metadata": {},
     "output_type": "display_data"
    },
    {
     "name": "stdout",
     "output_type": "stream",
     "text": [
      "Testing 0 designs with WL... (triangles only)\n"
     ]
    },
    {
     "data": {
      "application/vnd.jupyter.widget-view+json": {
       "model_id": "d5c05c843d0b438489c46a3231122b8a",
       "version_major": 2,
       "version_minor": 0
      },
      "text/plain": [
       "0it [00:00, ?it/s]"
      ]
     },
     "metadata": {},
     "output_type": "display_data"
    },
    {
     "name": "stdout",
     "output_type": "stream",
     "text": [
      "Searching for coherent refinements of <SAS of degree 6 and ranks [1, 5, 11, 14, 11, 5, 1]>\n",
      "Summary: (6, 48, [1, 5, 11, 14, 11, 5, 1], False, True, 'C2')\n"
     ]
    },
    {
     "data": {
      "application/vnd.jupyter.widget-view+json": {
       "model_id": "46d3ac5eb7b5482ebb0893b60ea1a317",
       "version_major": 2,
       "version_minor": 0
      },
      "text/plain": [
       "0it [00:00, ?it/s]"
      ]
     },
     "metadata": {},
     "output_type": "display_data"
    },
    {
     "name": "stdout",
     "output_type": "stream",
     "text": [
      "Enumerating monochromatic designs on level 1\n"
     ]
    },
    {
     "data": {
      "application/vnd.jupyter.widget-view+json": {
       "model_id": "90c2ecb1e94d4f428e70aba97f4fe6a3",
       "version_major": 2,
       "version_minor": 0
      },
      "text/plain": [
       "0it [00:00, ?it/s]"
      ]
     },
     "metadata": {},
     "output_type": "display_data"
    },
    {
     "name": "stdout",
     "output_type": "stream",
     "text": [
      "Enumerating monochromatic designs on level 2\n"
     ]
    },
    {
     "data": {
      "application/vnd.jupyter.widget-view+json": {
       "model_id": "e55f8868c9784390b21cd1d32c946913",
       "version_major": 2,
       "version_minor": 0
      },
      "text/plain": [
       "0it [00:00, ?it/s]"
      ]
     },
     "metadata": {},
     "output_type": "display_data"
    },
    {
     "name": "stdout",
     "output_type": "stream",
     "text": [
      "Enumerating monochromatic designs on level 3\n"
     ]
    },
    {
     "data": {
      "application/vnd.jupyter.widget-view+json": {
       "model_id": "3a9d701b30f04932ab43b8580ed27292",
       "version_major": 2,
       "version_minor": 0
      },
      "text/plain": [
       "0it [00:00, ?it/s]"
      ]
     },
     "metadata": {},
     "output_type": "display_data"
    },
    {
     "name": "stdout",
     "output_type": "stream",
     "text": [
      "Testing 1 designs with WL... (triangles only)\n"
     ]
    },
    {
     "data": {
      "application/vnd.jupyter.widget-view+json": {
       "model_id": "7af19edce13d4fd0869312acce31534d",
       "version_major": 2,
       "version_minor": 0
      },
      "text/plain": [
       "  0%|          | 0/1 [00:00<?, ?it/s]"
      ]
     },
     "metadata": {},
     "output_type": "display_data"
    },
    {
     "name": "stdout",
     "output_type": "stream",
     "text": [
      "Found: <SAS of degree 6 and ranks [1, 6, 15, 20, 15, 6, 1]>\n",
      "Summary: (6, 64, [1, 6, 15, 20, 15, 6, 1], False, True, '1')\n",
      "Searching for coherent refinements of <SAS of degree 6 and ranks [1, 3, 6, 8, 6, 3, 1]>\n",
      "Summary: (6, 28, [1, 3, 6, 8, 6, 3, 1], False, True, 'C2 x C2')\n"
     ]
    },
    {
     "data": {
      "application/vnd.jupyter.widget-view+json": {
       "model_id": "8e5218e94ab34f65ade63cbe9cd6b6c6",
       "version_major": 2,
       "version_minor": 0
      },
      "text/plain": [
       "0it [00:00, ?it/s]"
      ]
     },
     "metadata": {},
     "output_type": "display_data"
    },
    {
     "name": "stdout",
     "output_type": "stream",
     "text": [
      "Enumerating monochromatic designs on level 2\n"
     ]
    },
    {
     "data": {
      "application/vnd.jupyter.widget-view+json": {
       "model_id": "383135d1f94346d08c39288d11d6c05d",
       "version_major": 2,
       "version_minor": 0
      },
      "text/plain": [
       "0it [00:00, ?it/s]"
      ]
     },
     "metadata": {},
     "output_type": "display_data"
    },
    {
     "name": "stdout",
     "output_type": "stream",
     "text": [
      "Enumerating monochromatic designs on level 3\n"
     ]
    },
    {
     "data": {
      "application/vnd.jupyter.widget-view+json": {
       "model_id": "34117cdc2a3d432ea0f387e31c91296e",
       "version_major": 2,
       "version_minor": 0
      },
      "text/plain": [
       "0it [00:00, ?it/s]"
      ]
     },
     "metadata": {},
     "output_type": "display_data"
    },
    {
     "name": "stdout",
     "output_type": "stream",
     "text": [
      "Testing 0 designs with WL... (triangles only)\n"
     ]
    },
    {
     "data": {
      "application/vnd.jupyter.widget-view+json": {
       "model_id": "64f0411073bc466895cd8024c46735a5",
       "version_major": 2,
       "version_minor": 0
      },
      "text/plain": [
       "0it [00:00, ?it/s]"
      ]
     },
     "metadata": {},
     "output_type": "display_data"
    },
    {
     "name": "stdout",
     "output_type": "stream",
     "text": [
      "Searching for coherent refinements of <SAS of degree 6 and ranks [1, 3, 9, 10, 9, 3, 1]>\n",
      "Summary: (6, 36, [1, 3, 9, 10, 9, 3, 1], False, True, 'C2')\n"
     ]
    },
    {
     "data": {
      "application/vnd.jupyter.widget-view+json": {
       "model_id": "08fdd11ca0144c6881f8ca12984357ab",
       "version_major": 2,
       "version_minor": 0
      },
      "text/plain": [
       "0it [00:00, ?it/s]"
      ]
     },
     "metadata": {},
     "output_type": "display_data"
    },
    {
     "name": "stdout",
     "output_type": "stream",
     "text": [
      "Enumerating monochromatic designs on level 2\n"
     ]
    },
    {
     "data": {
      "application/vnd.jupyter.widget-view+json": {
       "model_id": "e3ced319cbac4a619da44f97b88fef09",
       "version_major": 2,
       "version_minor": 0
      },
      "text/plain": [
       "0it [00:00, ?it/s]"
      ]
     },
     "metadata": {},
     "output_type": "display_data"
    },
    {
     "name": "stdout",
     "output_type": "stream",
     "text": [
      "Enumerating monochromatic designs on level 3\n"
     ]
    },
    {
     "data": {
      "application/vnd.jupyter.widget-view+json": {
       "model_id": "d50a2e3cf30944639a50421eae4fc0b7",
       "version_major": 2,
       "version_minor": 0
      },
      "text/plain": [
       "0it [00:00, ?it/s]"
      ]
     },
     "metadata": {},
     "output_type": "display_data"
    },
    {
     "name": "stdout",
     "output_type": "stream",
     "text": [
      "Testing 0 designs with WL... (triangles only)\n"
     ]
    },
    {
     "data": {
      "application/vnd.jupyter.widget-view+json": {
       "model_id": "feaab85a361a4a32b3ccd5c305ab6d95",
       "version_major": 2,
       "version_minor": 0
      },
      "text/plain": [
       "0it [00:00, ?it/s]"
      ]
     },
     "metadata": {},
     "output_type": "display_data"
    },
    {
     "name": "stdout",
     "output_type": "stream",
     "text": [
      "Searching for coherent refinements of <SAS of degree 6 and ranks [1, 6, 15, 20, 15, 6, 1]>\n",
      "Summary: (6, 64, [1, 6, 15, 20, 15, 6, 1], False, True, '1')\n"
     ]
    },
    {
     "data": {
      "application/vnd.jupyter.widget-view+json": {
       "model_id": "ff3640835fd9472bb91402743cc3d39c",
       "version_major": 2,
       "version_minor": 0
      },
      "text/plain": [
       "0it [00:00, ?it/s]"
      ]
     },
     "metadata": {},
     "output_type": "display_data"
    },
    {
     "name": "stdout",
     "output_type": "stream",
     "text": [
      "Enumerating monochromatic designs on level 1\n"
     ]
    },
    {
     "data": {
      "application/vnd.jupyter.widget-view+json": {
       "model_id": "33ad9e12884f46358529c3f315a797d2",
       "version_major": 2,
       "version_minor": 0
      },
      "text/plain": [
       "0it [00:00, ?it/s]"
      ]
     },
     "metadata": {},
     "output_type": "display_data"
    },
    {
     "name": "stdout",
     "output_type": "stream",
     "text": [
      "Enumerating monochromatic designs on level 2\n"
     ]
    },
    {
     "data": {
      "application/vnd.jupyter.widget-view+json": {
       "model_id": "94146e28a7d74dc586ec2d416e4e1a8a",
       "version_major": 2,
       "version_minor": 0
      },
      "text/plain": [
       "0it [00:00, ?it/s]"
      ]
     },
     "metadata": {},
     "output_type": "display_data"
    },
    {
     "name": "stdout",
     "output_type": "stream",
     "text": [
      "Enumerating monochromatic designs on level 3\n"
     ]
    },
    {
     "data": {
      "application/vnd.jupyter.widget-view+json": {
       "model_id": "5e1b9433584b4582a60695bf3f5ab750",
       "version_major": 2,
       "version_minor": 0
      },
      "text/plain": [
       "0it [00:00, ?it/s]"
      ]
     },
     "metadata": {},
     "output_type": "display_data"
    },
    {
     "name": "stdout",
     "output_type": "stream",
     "text": [
      "Testing 0 designs with WL... (triangles only)\n"
     ]
    },
    {
     "data": {
      "application/vnd.jupyter.widget-view+json": {
       "model_id": "c0ae008ab3e94c0bac9c02b17425dd4a",
       "version_major": 2,
       "version_minor": 0
      },
      "text/plain": [
       "0it [00:00, ?it/s]"
      ]
     },
     "metadata": {},
     "output_type": "display_data"
    }
   ],
   "source": [
    "all_sas = []\n",
    "all_sas.extend(SAS.find_all(n, verbosity=2))"
   ]
  },
  {
   "cell_type": "code",
   "execution_count": 8,
   "metadata": {},
   "outputs": [
    {
     "data": {
      "text/html": [
       "<div class=\"notruncate\">\n",
       "<table  class=\"table_form\">\n",
       "<tbody>\n",
       "<tr>\n",
       "<th>n</th>\n",
       "<th>total rank</th>\n",
       "<th>ranks</th>\n",
       "<th>homogeneous?</th>\n",
       "<th>schurian?</th>\n",
       "<th><script type=\"math/tex\">\\mathrm{Aut}(\\mathfrak{X})</script></th>\n",
       "</tr>\n",
       "<tr class =\"row-a\">\n",
       "<td><script type=\"math/tex\">6</script></td>\n",
       "<td><script type=\"math/tex\">7</script></td>\n",
       "<td><script type=\"math/tex\">\\left[1, 1, 1, 1, 1, 1, 1\\right]</script></td>\n",
       "<td><script type=\"math/tex\">\\mathrm{True}</script></td>\n",
       "<td><script type=\"math/tex\">\\mathrm{True}</script></td>\n",
       "<td>S6</td>\n",
       "</tr>\n",
       "<tr class =\"row-b\">\n",
       "<td><script type=\"math/tex\">6</script></td>\n",
       "<td><script type=\"math/tex\">10</script></td>\n",
       "<td><script type=\"math/tex\">\\left[1, 1, 2, 2, 2, 1, 1\\right]</script></td>\n",
       "<td><script type=\"math/tex\">\\mathrm{True}</script></td>\n",
       "<td><script type=\"math/tex\">\\mathrm{True}</script></td>\n",
       "<td>C2 x S4</td>\n",
       "</tr>\n",
       "<tr class =\"row-a\">\n",
       "<td><script type=\"math/tex\">6</script></td>\n",
       "<td><script type=\"math/tex\">8</script></td>\n",
       "<td><script type=\"math/tex\">\\left[1, 1, 1, 2, 1, 1, 1\\right]</script></td>\n",
       "<td><script type=\"math/tex\">\\mathrm{True}</script></td>\n",
       "<td><script type=\"math/tex\">\\mathrm{True}</script></td>\n",
       "<td>A5</td>\n",
       "</tr>\n",
       "<tr class =\"row-b\">\n",
       "<td><script type=\"math/tex\">6</script></td>\n",
       "<td><script type=\"math/tex\">16</script></td>\n",
       "<td><script type=\"math/tex\">\\left[1, 2, 3, 4, 3, 2, 1\\right]</script></td>\n",
       "<td><script type=\"math/tex\">\\mathrm{False}</script></td>\n",
       "<td><script type=\"math/tex\">\\mathrm{True}</script></td>\n",
       "<td>S3 x S3</td>\n",
       "</tr>\n",
       "<tr class =\"row-a\">\n",
       "<td><script type=\"math/tex\">6</script></td>\n",
       "<td><script type=\"math/tex\">10</script></td>\n",
       "<td><script type=\"math/tex\">\\left[1, 1, 2, 2, 2, 1, 1\\right]</script></td>\n",
       "<td><script type=\"math/tex\">\\mathrm{True}</script></td>\n",
       "<td><script type=\"math/tex\">\\mathrm{True}</script></td>\n",
       "<td>(S3 x S3) : C2</td>\n",
       "</tr>\n",
       "<tr class =\"row-b\">\n",
       "<td><script type=\"math/tex\">6</script></td>\n",
       "<td><script type=\"math/tex\">12</script></td>\n",
       "<td><script type=\"math/tex\">\\left[1, 2, 2, 2, 2, 2, 1\\right]</script></td>\n",
       "<td><script type=\"math/tex\">\\mathrm{False}</script></td>\n",
       "<td><script type=\"math/tex\">\\mathrm{True}</script></td>\n",
       "<td>S5</td>\n",
       "</tr>\n",
       "<tr class =\"row-a\">\n",
       "<td><script type=\"math/tex\">6</script></td>\n",
       "<td><script type=\"math/tex\">15</script></td>\n",
       "<td><script type=\"math/tex\">\\left[1, 2, 3, 3, 3, 2, 1\\right]</script></td>\n",
       "<td><script type=\"math/tex\">\\mathrm{False}</script></td>\n",
       "<td><script type=\"math/tex\">\\mathrm{True}</script></td>\n",
       "<td>C2 x S4</td>\n",
       "</tr>\n",
       "<tr class =\"row-b\">\n",
       "<td><script type=\"math/tex\">6</script></td>\n",
       "<td><script type=\"math/tex\">13</script></td>\n",
       "<td><script type=\"math/tex\">\\left[1, 1, 3, 3, 3, 1, 1\\right]</script></td>\n",
       "<td><script type=\"math/tex\">\\mathrm{True}</script></td>\n",
       "<td><script type=\"math/tex\">\\mathrm{True}</script></td>\n",
       "<td>D6</td>\n",
       "</tr>\n",
       "<tr class =\"row-a\">\n",
       "<td><script type=\"math/tex\">6</script></td>\n",
       "<td><script type=\"math/tex\">16</script></td>\n",
       "<td><script type=\"math/tex\">\\left[1, 1, 4, 4, 4, 1, 1\\right]</script></td>\n",
       "<td><script type=\"math/tex\">\\mathrm{True}</script></td>\n",
       "<td><script type=\"math/tex\">\\mathrm{True}</script></td>\n",
       "<td>S3</td>\n",
       "</tr>\n",
       "<tr class =\"row-b\">\n",
       "<td><script type=\"math/tex\">6</script></td>\n",
       "<td><script type=\"math/tex\">24</script></td>\n",
       "<td><script type=\"math/tex\">\\left[1, 2, 6, 6, 6, 2, 1\\right]</script></td>\n",
       "<td><script type=\"math/tex\">\\mathrm{False}</script></td>\n",
       "<td><script type=\"math/tex\">\\mathrm{True}</script></td>\n",
       "<td>C2 x C2</td>\n",
       "</tr>\n",
       "<tr class =\"row-a\">\n",
       "<td><script type=\"math/tex\">6</script></td>\n",
       "<td><script type=\"math/tex\">11</script></td>\n",
       "<td><script type=\"math/tex\">\\left[1, 1, 2, 3, 2, 1, 1\\right]</script></td>\n",
       "<td><script type=\"math/tex\">\\mathrm{True}</script></td>\n",
       "<td><script type=\"math/tex\">\\mathrm{True}</script></td>\n",
       "<td>C2 x A4</td>\n",
       "</tr>\n",
       "<tr class =\"row-b\">\n",
       "<td><script type=\"math/tex\">6</script></td>\n",
       "<td><script type=\"math/tex\">11</script></td>\n",
       "<td><script type=\"math/tex\">\\left[1, 1, 2, 3, 2, 1, 1\\right]</script></td>\n",
       "<td><script type=\"math/tex\">\\mathrm{True}</script></td>\n",
       "<td><script type=\"math/tex\">\\mathrm{True}</script></td>\n",
       "<td>S4</td>\n",
       "</tr>\n",
       "<tr class =\"row-a\">\n",
       "<td><script type=\"math/tex\">6</script></td>\n",
       "<td><script type=\"math/tex\">20</script></td>\n",
       "<td><script type=\"math/tex\">\\left[1, 2, 4, 6, 4, 2, 1\\right]</script></td>\n",
       "<td><script type=\"math/tex\">\\mathrm{False}</script></td>\n",
       "<td><script type=\"math/tex\">\\mathrm{True}</script></td>\n",
       "<td>S3</td>\n",
       "</tr>\n",
       "<tr class =\"row-b\">\n",
       "<td><script type=\"math/tex\">6</script></td>\n",
       "<td><script type=\"math/tex\">24</script></td>\n",
       "<td><script type=\"math/tex\">\\left[1, 3, 5, 6, 5, 3, 1\\right]</script></td>\n",
       "<td><script type=\"math/tex\">\\mathrm{False}</script></td>\n",
       "<td><script type=\"math/tex\">\\mathrm{True}</script></td>\n",
       "<td>D6</td>\n",
       "</tr>\n",
       "<tr class =\"row-a\">\n",
       "<td><script type=\"math/tex\">6</script></td>\n",
       "<td><script type=\"math/tex\">20</script></td>\n",
       "<td><script type=\"math/tex\">\\left[1, 3, 4, 4, 4, 3, 1\\right]</script></td>\n",
       "<td><script type=\"math/tex\">\\mathrm{False}</script></td>\n",
       "<td><script type=\"math/tex\">\\mathrm{True}</script></td>\n",
       "<td>S4</td>\n",
       "</tr>\n",
       "<tr class =\"row-b\">\n",
       "<td><script type=\"math/tex\">6</script></td>\n",
       "<td><script type=\"math/tex\">16</script></td>\n",
       "<td><script type=\"math/tex\">\\left[1, 2, 3, 4, 3, 2, 1\\right]</script></td>\n",
       "<td><script type=\"math/tex\">\\mathrm{False}</script></td>\n",
       "<td><script type=\"math/tex\">\\mathrm{True}</script></td>\n",
       "<td>D5</td>\n",
       "</tr>\n",
       "<tr class =\"row-a\">\n",
       "<td><script type=\"math/tex\">6</script></td>\n",
       "<td><script type=\"math/tex\">21</script></td>\n",
       "<td><script type=\"math/tex\">\\left[1, 2, 5, 5, 5, 2, 1\\right]</script></td>\n",
       "<td><script type=\"math/tex\">\\mathrm{False}</script></td>\n",
       "<td><script type=\"math/tex\">\\mathrm{True}</script></td>\n",
       "<td>D4</td>\n",
       "</tr>\n",
       "<tr class =\"row-b\">\n",
       "<td><script type=\"math/tex\">6</script></td>\n",
       "<td><script type=\"math/tex\">18</script></td>\n",
       "<td><script type=\"math/tex\">\\left[1, 2, 4, 4, 4, 2, 1\\right]</script></td>\n",
       "<td><script type=\"math/tex\">\\mathrm{False}</script></td>\n",
       "<td><script type=\"math/tex\">\\mathrm{True}</script></td>\n",
       "<td>C2 x D4</td>\n",
       "</tr>\n",
       "<tr class =\"row-a\">\n",
       "<td><script type=\"math/tex\">6</script></td>\n",
       "<td><script type=\"math/tex\">27</script></td>\n",
       "<td><script type=\"math/tex\">\\left[1, 3, 6, 7, 6, 3, 1\\right]</script></td>\n",
       "<td><script type=\"math/tex\">\\mathrm{False}</script></td>\n",
       "<td><script type=\"math/tex\">\\mathrm{True}</script></td>\n",
       "<td>C2 x C2 x C2</td>\n",
       "</tr>\n",
       "<tr class =\"row-b\">\n",
       "<td><script type=\"math/tex\">6</script></td>\n",
       "<td><script type=\"math/tex\">14</script></td>\n",
       "<td><script type=\"math/tex\">\\left[1, 1, 3, 4, 3, 1, 1\\right]</script></td>\n",
       "<td><script type=\"math/tex\">\\mathrm{True}</script></td>\n",
       "<td><script type=\"math/tex\">\\mathrm{True}</script></td>\n",
       "<td>C6</td>\n",
       "</tr>\n",
       "<tr class =\"row-a\">\n",
       "<td><script type=\"math/tex\">6</script></td>\n",
       "<td><script type=\"math/tex\">12</script></td>\n",
       "<td><script type=\"math/tex\">\\left[1, 1, 2, 4, 2, 1, 1\\right]</script></td>\n",
       "<td><script type=\"math/tex\">\\mathrm{True}</script></td>\n",
       "<td><script type=\"math/tex\">\\mathrm{True}</script></td>\n",
       "<td>A4</td>\n",
       "</tr>\n",
       "<tr class =\"row-b\">\n",
       "<td><script type=\"math/tex\">6</script></td>\n",
       "<td><script type=\"math/tex\">24</script></td>\n",
       "<td><script type=\"math/tex\">\\left[1, 2, 5, 8, 5, 2, 1\\right]</script></td>\n",
       "<td><script type=\"math/tex\">\\mathrm{False}</script></td>\n",
       "<td><script type=\"math/tex\">\\mathrm{True}</script></td>\n",
       "<td>C3</td>\n",
       "</tr>\n",
       "<tr class =\"row-a\">\n",
       "<td><script type=\"math/tex\">6</script></td>\n",
       "<td><script type=\"math/tex\">36</script></td>\n",
       "<td><script type=\"math/tex\">\\left[1, 4, 8, 10, 8, 4, 1\\right]</script></td>\n",
       "<td><script type=\"math/tex\">\\mathrm{False}</script></td>\n",
       "<td><script type=\"math/tex\">\\mathrm{True}</script></td>\n",
       "<td>C2 x C2</td>\n",
       "</tr>\n",
       "<tr class =\"row-b\">\n",
       "<td><script type=\"math/tex\">6</script></td>\n",
       "<td><script type=\"math/tex\">32</script></td>\n",
       "<td><script type=\"math/tex\">\\left[1, 4, 7, 8, 7, 4, 1\\right]</script></td>\n",
       "<td><script type=\"math/tex\">\\mathrm{False}</script></td>\n",
       "<td><script type=\"math/tex\">\\mathrm{True}</script></td>\n",
       "<td>S3</td>\n",
       "</tr>\n",
       "<tr class =\"row-a\">\n",
       "<td><script type=\"math/tex\">6</script></td>\n",
       "<td><script type=\"math/tex\">24</script></td>\n",
       "<td><script type=\"math/tex\">\\left[1, 3, 5, 6, 5, 3, 1\\right]</script></td>\n",
       "<td><script type=\"math/tex\">\\mathrm{False}</script></td>\n",
       "<td><script type=\"math/tex\">\\mathrm{True}</script></td>\n",
       "<td>D4</td>\n",
       "</tr>\n",
       "<tr class =\"row-b\">\n",
       "<td><script type=\"math/tex\">6</script></td>\n",
       "<td><script type=\"math/tex\">22</script></td>\n",
       "<td><script type=\"math/tex\">\\left[1, 2, 5, 6, 5, 2, 1\\right]</script></td>\n",
       "<td><script type=\"math/tex\">\\mathrm{False}</script></td>\n",
       "<td><script type=\"math/tex\">\\mathrm{True}</script></td>\n",
       "<td>C4</td>\n",
       "</tr>\n",
       "<tr class =\"row-a\">\n",
       "<td><script type=\"math/tex\">6</script></td>\n",
       "<td><script type=\"math/tex\">21</script></td>\n",
       "<td><script type=\"math/tex\">\\left[1, 2, 5, 5, 5, 2, 1\\right]</script></td>\n",
       "<td><script type=\"math/tex\">\\mathrm{False}</script></td>\n",
       "<td><script type=\"math/tex\">\\mathrm{True}</script></td>\n",
       "<td>C2 x C2 x C2</td>\n",
       "</tr>\n",
       "<tr class =\"row-b\">\n",
       "<td><script type=\"math/tex\">6</script></td>\n",
       "<td><script type=\"math/tex\">19</script></td>\n",
       "<td><script type=\"math/tex\">\\left[1, 2, 4, 5, 4, 2, 1\\right]</script></td>\n",
       "<td><script type=\"math/tex\">\\mathrm{False}</script></td>\n",
       "<td><script type=\"math/tex\">\\mathrm{True}</script></td>\n",
       "<td>D4</td>\n",
       "</tr>\n",
       "<tr class =\"row-a\">\n",
       "<td><script type=\"math/tex\">6</script></td>\n",
       "<td><script type=\"math/tex\">28</script></td>\n",
       "<td><script type=\"math/tex\">\\left[1, 3, 6, 8, 6, 3, 1\\right]</script></td>\n",
       "<td><script type=\"math/tex\">\\mathrm{False}</script></td>\n",
       "<td><script type=\"math/tex\">\\mathrm{True}</script></td>\n",
       "<td>C2 x C2</td>\n",
       "</tr>\n",
       "<tr class =\"row-b\">\n",
       "<td><script type=\"math/tex\">6</script></td>\n",
       "<td><script type=\"math/tex\">30</script></td>\n",
       "<td><script type=\"math/tex\">\\left[1, 3, 7, 8, 7, 3, 1\\right]</script></td>\n",
       "<td><script type=\"math/tex\">\\mathrm{False}</script></td>\n",
       "<td><script type=\"math/tex\">\\mathrm{True}</script></td>\n",
       "<td>C2 x C2</td>\n",
       "</tr>\n",
       "<tr class =\"row-a\">\n",
       "<td><script type=\"math/tex\">6</script></td>\n",
       "<td><script type=\"math/tex\">40</script></td>\n",
       "<td><script type=\"math/tex\">\\left[1, 4, 9, 12, 9, 4, 1\\right]</script></td>\n",
       "<td><script type=\"math/tex\">\\mathrm{False}</script></td>\n",
       "<td><script type=\"math/tex\">\\mathrm{True}</script></td>\n",
       "<td>C2</td>\n",
       "</tr>\n",
       "<tr class =\"row-b\">\n",
       "<td><script type=\"math/tex\">6</script></td>\n",
       "<td><script type=\"math/tex\">48</script></td>\n",
       "<td><script type=\"math/tex\">\\left[1, 5, 11, 14, 11, 5, 1\\right]</script></td>\n",
       "<td><script type=\"math/tex\">\\mathrm{False}</script></td>\n",
       "<td><script type=\"math/tex\">\\mathrm{True}</script></td>\n",
       "<td>C2</td>\n",
       "</tr>\n",
       "<tr class =\"row-a\">\n",
       "<td><script type=\"math/tex\">6</script></td>\n",
       "<td><script type=\"math/tex\">28</script></td>\n",
       "<td><script type=\"math/tex\">\\left[1, 3, 6, 8, 6, 3, 1\\right]</script></td>\n",
       "<td><script type=\"math/tex\">\\mathrm{False}</script></td>\n",
       "<td><script type=\"math/tex\">\\mathrm{True}</script></td>\n",
       "<td>C2 x C2</td>\n",
       "</tr>\n",
       "<tr class =\"row-b\">\n",
       "<td><script type=\"math/tex\">6</script></td>\n",
       "<td><script type=\"math/tex\">36</script></td>\n",
       "<td><script type=\"math/tex\">\\left[1, 3, 9, 10, 9, 3, 1\\right]</script></td>\n",
       "<td><script type=\"math/tex\">\\mathrm{False}</script></td>\n",
       "<td><script type=\"math/tex\">\\mathrm{True}</script></td>\n",
       "<td>C2</td>\n",
       "</tr>\n",
       "<tr class =\"row-a\">\n",
       "<td><script type=\"math/tex\">6</script></td>\n",
       "<td><script type=\"math/tex\">64</script></td>\n",
       "<td><script type=\"math/tex\">\\left[1, 6, 15, 20, 15, 6, 1\\right]</script></td>\n",
       "<td><script type=\"math/tex\">\\mathrm{False}</script></td>\n",
       "<td><script type=\"math/tex\">\\mathrm{True}</script></td>\n",
       "<td>1</td>\n",
       "</tr>\n",
       "</tbody>\n",
       "</table>\n",
       "</div>"
      ],
      "text/plain": [
       "  n   total rank   ranks                      homogeneous?   schurian?   $\\mathrm{Aut}(\\mathfrak{X})$\n",
       "+---+------------+--------------------------+--------------+-----------+------------------------------+\n",
       "  6   7            [1, 1, 1, 1, 1, 1, 1]      True           True        S6\n",
       "  6   10           [1, 1, 2, 2, 2, 1, 1]      True           True        C2 x S4\n",
       "  6   8            [1, 1, 1, 2, 1, 1, 1]      True           True        A5\n",
       "  6   16           [1, 2, 3, 4, 3, 2, 1]      False          True        S3 x S3\n",
       "  6   10           [1, 1, 2, 2, 2, 1, 1]      True           True        (S3 x S3) : C2\n",
       "  6   12           [1, 2, 2, 2, 2, 2, 1]      False          True        S5\n",
       "  6   15           [1, 2, 3, 3, 3, 2, 1]      False          True        C2 x S4\n",
       "  6   13           [1, 1, 3, 3, 3, 1, 1]      True           True        D6\n",
       "  6   16           [1, 1, 4, 4, 4, 1, 1]      True           True        S3\n",
       "  6   24           [1, 2, 6, 6, 6, 2, 1]      False          True        C2 x C2\n",
       "  6   11           [1, 1, 2, 3, 2, 1, 1]      True           True        C2 x A4\n",
       "  6   11           [1, 1, 2, 3, 2, 1, 1]      True           True        S4\n",
       "  6   20           [1, 2, 4, 6, 4, 2, 1]      False          True        S3\n",
       "  6   24           [1, 3, 5, 6, 5, 3, 1]      False          True        D6\n",
       "  6   20           [1, 3, 4, 4, 4, 3, 1]      False          True        S4\n",
       "  6   16           [1, 2, 3, 4, 3, 2, 1]      False          True        D5\n",
       "  6   21           [1, 2, 5, 5, 5, 2, 1]      False          True        D4\n",
       "  6   18           [1, 2, 4, 4, 4, 2, 1]      False          True        C2 x D4\n",
       "  6   27           [1, 3, 6, 7, 6, 3, 1]      False          True        C2 x C2 x C2\n",
       "  6   14           [1, 1, 3, 4, 3, 1, 1]      True           True        C6\n",
       "  6   12           [1, 1, 2, 4, 2, 1, 1]      True           True        A4\n",
       "  6   24           [1, 2, 5, 8, 5, 2, 1]      False          True        C3\n",
       "  6   36           [1, 4, 8, 10, 8, 4, 1]     False          True        C2 x C2\n",
       "  6   32           [1, 4, 7, 8, 7, 4, 1]      False          True        S3\n",
       "  6   24           [1, 3, 5, 6, 5, 3, 1]      False          True        D4\n",
       "  6   22           [1, 2, 5, 6, 5, 2, 1]      False          True        C4\n",
       "  6   21           [1, 2, 5, 5, 5, 2, 1]      False          True        C2 x C2 x C2\n",
       "  6   19           [1, 2, 4, 5, 4, 2, 1]      False          True        D4\n",
       "  6   28           [1, 3, 6, 8, 6, 3, 1]      False          True        C2 x C2\n",
       "  6   30           [1, 3, 7, 8, 7, 3, 1]      False          True        C2 x C2\n",
       "  6   40           [1, 4, 9, 12, 9, 4, 1]     False          True        C2\n",
       "  6   48           [1, 5, 11, 14, 11, 5, 1]   False          True        C2\n",
       "  6   28           [1, 3, 6, 8, 6, 3, 1]      False          True        C2 x C2\n",
       "  6   36           [1, 3, 9, 10, 9, 3, 1]     False          True        C2\n",
       "  6   64           [1, 6, 15, 20, 15, 6, 1]   False          True        1"
      ]
     },
     "execution_count": 8,
     "metadata": {},
     "output_type": "execute_result"
    }
   ],
   "source": [
    "table([s.summary() for s in all_sas],\n",
    "      header_row=('n', 'total rank', 'ranks', 'homogeneous?', 'schurian?', r'$\\mathrm{Aut}(\\mathfrak{X})$'))"
   ]
  },
  {
   "cell_type": "code",
   "execution_count": 9,
   "metadata": {},
   "outputs": [
    {
     "data": {
      "text/plain": [
       "0"
      ]
     },
     "execution_count": 9,
     "metadata": {},
     "output_type": "execute_result"
    }
   ],
   "source": [
    "missing_schurians = [\n",
    "    sch\n",
    "    for gp in (SymmetricGroup(n).conjugacy_classes_subgroups() if n > 1 else [SymmetricGroup(1)])\n",
    "    for sch in [SAS.orbital_scheme(gp)]\n",
    "    if sch.automorphism_group() == gp\n",
    "    if not(any(map(sch.is_isomorphic_to, all_sas)))\n",
    "]\n",
    "len(missing_schurians)"
   ]
  },
  {
   "cell_type": "markdown",
   "metadata": {},
   "source": [
    "## $n = 7$"
   ]
  },
  {
   "cell_type": "code",
   "execution_count": 10,
   "metadata": {},
   "outputs": [],
   "source": [
    "n = 7"
   ]
  },
  {
   "cell_type": "code",
   "execution_count": 11,
   "metadata": {},
   "outputs": [
    {
     "name": "stdout",
     "output_type": "stream",
     "text": [
      "Searching for coherent refinements of <SAS of degree 7 and ranks [1, 1, 1, 1, 1, 1, 1, 1]>\n",
      "Summary: (7, 8, [1, 1, 1, 1, 1, 1, 1, 1], True, True, 'S7')\n"
     ]
    },
    {
     "data": {
      "application/vnd.jupyter.widget-view+json": {
       "model_id": "ba9de101a29341dba8e37681e836ff0e",
       "version_major": 2,
       "version_minor": 0
      },
      "text/plain": [
       "0it [00:00, ?it/s]"
      ]
     },
     "metadata": {},
     "output_type": "display_data"
    },
    {
     "name": "stdout",
     "output_type": "stream",
     "text": [
      "Enumerating monochromatic designs on level 1\n"
     ]
    },
    {
     "data": {
      "application/vnd.jupyter.widget-view+json": {
       "model_id": "ce8d15840dec4c01a9c09ac4cfa93d6b",
       "version_major": 2,
       "version_minor": 0
      },
      "text/plain": [
       "0it [00:00, ?it/s]"
      ]
     },
     "metadata": {},
     "output_type": "display_data"
    },
    {
     "name": "stdout",
     "output_type": "stream",
     "text": [
      "Enumerating monochromatic designs on level 2\n"
     ]
    },
    {
     "data": {
      "application/vnd.jupyter.widget-view+json": {
       "model_id": "5ea72a87b628482ba29340618734b09c",
       "version_major": 2,
       "version_minor": 0
      },
      "text/plain": [
       "0it [00:00, ?it/s]"
      ]
     },
     "metadata": {},
     "output_type": "display_data"
    },
    {
     "name": "stdout",
     "output_type": "stream",
     "text": [
      "Enumerating monochromatic designs on level 3\n"
     ]
    },
    {
     "data": {
      "application/vnd.jupyter.widget-view+json": {
       "model_id": "6fc052a7881b4d61af0b5acab03746e5",
       "version_major": 2,
       "version_minor": 0
      },
      "text/plain": [
       "0it [00:00, ?it/s]"
      ]
     },
     "metadata": {},
     "output_type": "display_data"
    },
    {
     "name": "stdout",
     "output_type": "stream",
     "text": [
      "Testing 7 designs with WL... (triangles only)\n"
     ]
    },
    {
     "data": {
      "application/vnd.jupyter.widget-view+json": {
       "model_id": "d7834fa1443d42f2b56ae1626ed4935c",
       "version_major": 2,
       "version_minor": 0
      },
      "text/plain": [
       "  0%|          | 0/7 [00:00<?, ?it/s]"
      ]
     },
     "metadata": {},
     "output_type": "display_data"
    },
    {
     "name": "stdout",
     "output_type": "stream",
     "text": [
      "Found: <SAS of degree 7 and ranks [1, 1, 3, 4, 4, 3, 1, 1]>\n",
      "Summary: (7, 18, [1, 1, 3, 4, 4, 3, 1, 1], True, True, 'D7')\n",
      "Found: <SAS of degree 7 and ranks [1, 1, 1, 2, 2, 1, 1, 1]>\n",
      "Summary: (7, 10, [1, 1, 1, 2, 2, 1, 1, 1], True, True, 'PSL(3,2)')\n",
      "Found: <SAS of degree 7 and ranks [1, 2, 3, 3, 3, 3, 2, 1]>\n",
      "Summary: (7, 18, [1, 2, 3, 3, 3, 3, 2, 1], False, True, 'C2 x S5')\n",
      "Found: <SAS of degree 7 and ranks [1, 1, 1, 2, 2, 1, 1, 1]>\n",
      "Summary: (7, 10, [1, 1, 1, 2, 2, 1, 1, 1], True, True, 'C7 : C6')\n",
      "Found: <SAS of degree 7 and ranks [1, 2, 3, 4, 4, 3, 2, 1]>\n",
      "Summary: (7, 20, [1, 2, 3, 4, 4, 3, 2, 1], False, True, 'S3 x S4')\n",
      "Found: <SAS of degree 7 and ranks [1, 2, 4, 5, 5, 4, 2, 1]>\n",
      "Summary: (7, 24, [1, 2, 4, 5, 5, 4, 2, 1], False, True, 'D4 x S3')\n",
      "Found: <SAS of degree 7 and ranks [1, 2, 2, 2, 2, 2, 2, 1]>\n",
      "Summary: (7, 14, [1, 2, 2, 2, 2, 2, 2, 1], False, True, 'S6')\n",
      "Searching for coherent refinements of <SAS of degree 7 and ranks [1, 1, 3, 4, 4, 3, 1, 1]>\n",
      "Summary: (7, 18, [1, 1, 3, 4, 4, 3, 1, 1], True, True, 'D7')\n"
     ]
    },
    {
     "data": {
      "application/vnd.jupyter.widget-view+json": {
       "model_id": "165f8134536d4f99987339096c38c94b",
       "version_major": 2,
       "version_minor": 0
      },
      "text/plain": [
       "0it [00:00, ?it/s]"
      ]
     },
     "metadata": {},
     "output_type": "display_data"
    },
    {
     "name": "stdout",
     "output_type": "stream",
     "text": [
      "Enumerating monochromatic designs on level 2\n"
     ]
    },
    {
     "data": {
      "application/vnd.jupyter.widget-view+json": {
       "model_id": "8f7a2089a37349ae92da479be293ccec",
       "version_major": 2,
       "version_minor": 0
      },
      "text/plain": [
       "0it [00:00, ?it/s]"
      ]
     },
     "metadata": {},
     "output_type": "display_data"
    },
    {
     "name": "stdout",
     "output_type": "stream",
     "text": [
      "Enumerating monochromatic designs on level 3\n"
     ]
    },
    {
     "data": {
      "application/vnd.jupyter.widget-view+json": {
       "model_id": "e36fcf2016d74d26b5865cae61f0c742",
       "version_major": 2,
       "version_minor": 0
      },
      "text/plain": [
       "0it [00:00, ?it/s]"
      ]
     },
     "metadata": {},
     "output_type": "display_data"
    },
    {
     "name": "stdout",
     "output_type": "stream",
     "text": [
      "Testing 1 designs with WL... (triangles only)\n"
     ]
    },
    {
     "data": {
      "application/vnd.jupyter.widget-view+json": {
       "model_id": "ec086b0e07624679aa36c83ca9425a6c",
       "version_major": 2,
       "version_minor": 0
      },
      "text/plain": [
       "  0%|          | 0/1 [00:00<?, ?it/s]"
      ]
     },
     "metadata": {},
     "output_type": "display_data"
    },
    {
     "name": "stdout",
     "output_type": "stream",
     "text": [
      "Found: <SAS of degree 7 and ranks [1, 1, 3, 5, 5, 3, 1, 1]>\n",
      "Summary: (7, 20, [1, 1, 3, 5, 5, 3, 1, 1], True, True, 'C7')\n",
      "Searching for coherent refinements of <SAS of degree 7 and ranks [1, 1, 1, 2, 2, 1, 1, 1]>\n",
      "Summary: (7, 10, [1, 1, 1, 2, 2, 1, 1, 1], True, True, 'PSL(3,2)')\n"
     ]
    },
    {
     "data": {
      "application/vnd.jupyter.widget-view+json": {
       "model_id": "06578f6a17ce48ecb53021f5960c4eb5",
       "version_major": 2,
       "version_minor": 0
      },
      "text/plain": [
       "0it [00:00, ?it/s]"
      ]
     },
     "metadata": {},
     "output_type": "display_data"
    },
    {
     "name": "stdout",
     "output_type": "stream",
     "text": [
      "Enumerating monochromatic designs on level 3\n"
     ]
    },
    {
     "data": {
      "application/vnd.jupyter.widget-view+json": {
       "model_id": "16ef1ed512c44cf99fc49959a058b0d7",
       "version_major": 2,
       "version_minor": 0
      },
      "text/plain": [
       "0it [00:00, ?it/s]"
      ]
     },
     "metadata": {},
     "output_type": "display_data"
    },
    {
     "name": "stdout",
     "output_type": "stream",
     "text": [
      "Testing 1 designs with WL... (triangles only)\n"
     ]
    },
    {
     "data": {
      "application/vnd.jupyter.widget-view+json": {
       "model_id": "7e06e8d73faa4de395a05d17aa5af6e7",
       "version_major": 2,
       "version_minor": 0
      },
      "text/plain": [
       "  0%|          | 0/1 [00:00<?, ?it/s]"
      ]
     },
     "metadata": {},
     "output_type": "display_data"
    },
    {
     "name": "stdout",
     "output_type": "stream",
     "text": [
      "Found: <SAS of degree 7 and ranks [1, 1, 1, 3, 3, 1, 1, 1]>\n",
      "Summary: (7, 12, [1, 1, 1, 3, 3, 1, 1, 1], True, True, 'C7 : C3')\n",
      "Searching for coherent refinements of <SAS of degree 7 and ranks [1, 2, 3, 3, 3, 3, 2, 1]>\n",
      "Summary: (7, 18, [1, 2, 3, 3, 3, 3, 2, 1], False, True, 'C2 x S5')\n"
     ]
    },
    {
     "data": {
      "application/vnd.jupyter.widget-view+json": {
       "model_id": "a2d1ad54780a4a809dfba6b2f7bb2e2b",
       "version_major": 2,
       "version_minor": 0
      },
      "text/plain": [
       "0it [00:00, ?it/s]"
      ]
     },
     "metadata": {},
     "output_type": "display_data"
    },
    {
     "name": "stdout",
     "output_type": "stream",
     "text": [
      "Enumerating monochromatic designs on level 1\n"
     ]
    },
    {
     "data": {
      "application/vnd.jupyter.widget-view+json": {
       "model_id": "8f1e213b89604356bdd991cd1189ded6",
       "version_major": 2,
       "version_minor": 0
      },
      "text/plain": [
       "0it [00:00, ?it/s]"
      ]
     },
     "metadata": {},
     "output_type": "display_data"
    },
    {
     "name": "stdout",
     "output_type": "stream",
     "text": [
      "Enumerating monochromatic designs on level 2\n"
     ]
    },
    {
     "data": {
      "application/vnd.jupyter.widget-view+json": {
       "model_id": "dd4be930194849fa968aa54965925d3d",
       "version_major": 2,
       "version_minor": 0
      },
      "text/plain": [
       "0it [00:00, ?it/s]"
      ]
     },
     "metadata": {},
     "output_type": "display_data"
    },
    {
     "name": "stdout",
     "output_type": "stream",
     "text": [
      "Enumerating monochromatic designs on level 3\n"
     ]
    },
    {
     "data": {
      "application/vnd.jupyter.widget-view+json": {
       "model_id": "840e2b608a6a4323946e2480254e2309",
       "version_major": 2,
       "version_minor": 0
      },
      "text/plain": [
       "0it [00:00, ?it/s]"
      ]
     },
     "metadata": {},
     "output_type": "display_data"
    },
    {
     "name": "stdout",
     "output_type": "stream",
     "text": [
      "Testing 5 designs with WL... (triangles only)\n"
     ]
    },
    {
     "data": {
      "application/vnd.jupyter.widget-view+json": {
       "model_id": "741e60752c3841dc88a68d76f77ecab1",
       "version_major": 2,
       "version_minor": 0
      },
      "text/plain": [
       "  0%|          | 0/5 [00:00<?, ?it/s]"
      ]
     },
     "metadata": {},
     "output_type": "display_data"
    },
    {
     "name": "stdout",
     "output_type": "stream",
     "text": [
      "Found: <SAS of degree 7 and ranks [1, 2, 3, 4, 4, 3, 2, 1]>\n",
      "Summary: (7, 20, [1, 2, 3, 4, 4, 3, 2, 1], False, True, 'C5 : C4')\n",
      "Found: <SAS of degree 7 and ranks [1, 3, 4, 4, 4, 4, 3, 1]>\n",
      "Summary: (7, 24, [1, 3, 4, 4, 4, 4, 3, 1], False, True, 'S5')\n",
      "Found: <SAS of degree 7 and ranks [1, 2, 4, 5, 5, 4, 2, 1]>\n",
      "Summary: (7, 24, [1, 2, 4, 5, 5, 4, 2, 1], False, True, 'D10')\n",
      "Found: <SAS of degree 7 and ranks [1, 3, 6, 8, 8, 6, 3, 1]>\n",
      "Summary: (7, 36, [1, 3, 6, 8, 8, 6, 3, 1], False, True, 'C2 x C2 x S3')\n",
      "Found: <SAS of degree 7 and ranks [1, 3, 5, 6, 6, 5, 3, 1]>\n",
      "Summary: (7, 30, [1, 3, 5, 6, 6, 5, 3, 1], False, True, 'C2 x S4')\n",
      "Searching for coherent refinements of <SAS of degree 7 and ranks [1, 1, 1, 2, 2, 1, 1, 1]>\n",
      "Summary: (7, 10, [1, 1, 1, 2, 2, 1, 1, 1], True, True, 'C7 : C6')\n"
     ]
    },
    {
     "data": {
      "application/vnd.jupyter.widget-view+json": {
       "model_id": "51d1252e6f7f47b29bbf030882bdc19c",
       "version_major": 2,
       "version_minor": 0
      },
      "text/plain": [
       "0it [00:00, ?it/s]"
      ]
     },
     "metadata": {},
     "output_type": "display_data"
    },
    {
     "name": "stdout",
     "output_type": "stream",
     "text": [
      "Enumerating monochromatic designs on level 3\n"
     ]
    },
    {
     "data": {
      "application/vnd.jupyter.widget-view+json": {
       "model_id": "97329f06ce7749a397343b5e4c62e4fe",
       "version_major": 2,
       "version_minor": 0
      },
      "text/plain": [
       "0it [00:00, ?it/s]"
      ]
     },
     "metadata": {},
     "output_type": "display_data"
    },
    {
     "name": "stdout",
     "output_type": "stream",
     "text": [
      "Testing 1 designs with WL... (triangles only)\n"
     ]
    },
    {
     "data": {
      "application/vnd.jupyter.widget-view+json": {
       "model_id": "aab8bf5c71004bb5bcfa52660b90f84f",
       "version_major": 2,
       "version_minor": 0
      },
      "text/plain": [
       "  0%|          | 0/1 [00:00<?, ?it/s]"
      ]
     },
     "metadata": {},
     "output_type": "display_data"
    },
    {
     "name": "stdout",
     "output_type": "stream",
     "text": [
      "Searching for coherent refinements of <SAS of degree 7 and ranks [1, 2, 3, 4, 4, 3, 2, 1]>\n",
      "Summary: (7, 20, [1, 2, 3, 4, 4, 3, 2, 1], False, True, 'S3 x S4')\n"
     ]
    },
    {
     "data": {
      "application/vnd.jupyter.widget-view+json": {
       "model_id": "93f8b54f7b1548cba1862a56978726d9",
       "version_major": 2,
       "version_minor": 0
      },
      "text/plain": [
       "0it [00:00, ?it/s]"
      ]
     },
     "metadata": {},
     "output_type": "display_data"
    },
    {
     "name": "stdout",
     "output_type": "stream",
     "text": [
      "Enumerating monochromatic designs on level 1\n"
     ]
    },
    {
     "data": {
      "application/vnd.jupyter.widget-view+json": {
       "model_id": "7f757f9445df4913b0f46001cef4a11c",
       "version_major": 2,
       "version_minor": 0
      },
      "text/plain": [
       "0it [00:00, ?it/s]"
      ]
     },
     "metadata": {},
     "output_type": "display_data"
    },
    {
     "name": "stdout",
     "output_type": "stream",
     "text": [
      "Enumerating monochromatic designs on level 2\n"
     ]
    },
    {
     "data": {
      "application/vnd.jupyter.widget-view+json": {
       "model_id": "b69c0b9c26ed4fc48dbe1f514205f49e",
       "version_major": 2,
       "version_minor": 0
      },
      "text/plain": [
       "0it [00:00, ?it/s]"
      ]
     },
     "metadata": {},
     "output_type": "display_data"
    },
    {
     "name": "stdout",
     "output_type": "stream",
     "text": [
      "Enumerating monochromatic designs on level 3\n"
     ]
    },
    {
     "data": {
      "application/vnd.jupyter.widget-view+json": {
       "model_id": "5e8a696b22ae4e7fb21d15cfc2388529",
       "version_major": 2,
       "version_minor": 0
      },
      "text/plain": [
       "0it [00:00, ?it/s]"
      ]
     },
     "metadata": {},
     "output_type": "display_data"
    },
    {
     "name": "stdout",
     "output_type": "stream",
     "text": [
      "Testing 5 designs with WL... (triangles only)\n"
     ]
    },
    {
     "data": {
      "application/vnd.jupyter.widget-view+json": {
       "model_id": "902fa9a25a3340f2830315395af96601",
       "version_major": 2,
       "version_minor": 0
      },
      "text/plain": [
       "  0%|          | 0/5 [00:00<?, ?it/s]"
      ]
     },
     "metadata": {},
     "output_type": "display_data"
    },
    {
     "name": "stdout",
     "output_type": "stream",
     "text": [
      "Found: <SAS of degree 7 and ranks [1, 2, 3, 5, 5, 3, 2, 1]>\n",
      "Summary: (7, 22, [1, 2, 3, 5, 5, 3, 2, 1], False, True, 'S4')\n",
      "Found: <SAS of degree 7 and ranks [1, 3, 5, 7, 7, 5, 3, 1]>\n",
      "Summary: (7, 32, [1, 3, 5, 7, 7, 5, 3, 1], False, True, 'S3 x S3')\n",
      "Searching for coherent refinements of <SAS of degree 7 and ranks [1, 2, 4, 5, 5, 4, 2, 1]>\n",
      "Summary: (7, 24, [1, 2, 4, 5, 5, 4, 2, 1], False, True, 'D4 x S3')\n"
     ]
    },
    {
     "data": {
      "application/vnd.jupyter.widget-view+json": {
       "model_id": "b7085ff026334b0d93a6e060e7c41364",
       "version_major": 2,
       "version_minor": 0
      },
      "text/plain": [
       "0it [00:00, ?it/s]"
      ]
     },
     "metadata": {},
     "output_type": "display_data"
    },
    {
     "name": "stdout",
     "output_type": "stream",
     "text": [
      "Enumerating monochromatic designs on level 2\n"
     ]
    },
    {
     "data": {
      "application/vnd.jupyter.widget-view+json": {
       "model_id": "57dfd11fefe84dc98f4e41556efd9b49",
       "version_major": 2,
       "version_minor": 0
      },
      "text/plain": [
       "0it [00:00, ?it/s]"
      ]
     },
     "metadata": {},
     "output_type": "display_data"
    },
    {
     "name": "stdout",
     "output_type": "stream",
     "text": [
      "Enumerating monochromatic designs on level 3\n"
     ]
    },
    {
     "data": {
      "application/vnd.jupyter.widget-view+json": {
       "model_id": "a5ad6bc490494e8ba90f96bb32e62f97",
       "version_major": 2,
       "version_minor": 0
      },
      "text/plain": [
       "0it [00:00, ?it/s]"
      ]
     },
     "metadata": {},
     "output_type": "display_data"
    },
    {
     "name": "stdout",
     "output_type": "stream",
     "text": [
      "Testing 1 designs with WL... (triangles only)\n"
     ]
    },
    {
     "data": {
      "application/vnd.jupyter.widget-view+json": {
       "model_id": "f1174647c578437fa89fa10977f75dc1",
       "version_major": 2,
       "version_minor": 0
      },
      "text/plain": [
       "  0%|          | 0/1 [00:00<?, ?it/s]"
      ]
     },
     "metadata": {},
     "output_type": "display_data"
    },
    {
     "name": "stdout",
     "output_type": "stream",
     "text": [
      "Found: <SAS of degree 7 and ranks [1, 2, 5, 6, 6, 5, 2, 1]>\n",
      "Summary: (7, 28, [1, 2, 5, 6, 6, 5, 2, 1], False, True, 'C2 x C2 x S3')\n",
      "Searching for coherent refinements of <SAS of degree 7 and ranks [1, 2, 2, 2, 2, 2, 2, 1]>\n",
      "Summary: (7, 14, [1, 2, 2, 2, 2, 2, 2, 1], False, True, 'S6')\n"
     ]
    },
    {
     "data": {
      "application/vnd.jupyter.widget-view+json": {
       "model_id": "c148410e2a7f4d7295b82552cb98a8bd",
       "version_major": 2,
       "version_minor": 0
      },
      "text/plain": [
       "0it [00:00, ?it/s]"
      ]
     },
     "metadata": {},
     "output_type": "display_data"
    },
    {
     "name": "stdout",
     "output_type": "stream",
     "text": [
      "Enumerating monochromatic designs on level 1\n"
     ]
    },
    {
     "data": {
      "application/vnd.jupyter.widget-view+json": {
       "model_id": "d81bf31d4405486b864c366babfec146",
       "version_major": 2,
       "version_minor": 0
      },
      "text/plain": [
       "0it [00:00, ?it/s]"
      ]
     },
     "metadata": {},
     "output_type": "display_data"
    },
    {
     "name": "stdout",
     "output_type": "stream",
     "text": [
      "Enumerating monochromatic designs on level 2\n"
     ]
    },
    {
     "data": {
      "application/vnd.jupyter.widget-view+json": {
       "model_id": "e02713508c654c10825c61e2bed1da5c",
       "version_major": 2,
       "version_minor": 0
      },
      "text/plain": [
       "0it [00:00, ?it/s]"
      ]
     },
     "metadata": {},
     "output_type": "display_data"
    },
    {
     "name": "stdout",
     "output_type": "stream",
     "text": [
      "Enumerating monochromatic designs on level 3\n"
     ]
    },
    {
     "data": {
      "application/vnd.jupyter.widget-view+json": {
       "model_id": "bf5d47f0fc8b4fea819d30b72c98967e",
       "version_major": 2,
       "version_minor": 0
      },
      "text/plain": [
       "0it [00:00, ?it/s]"
      ]
     },
     "metadata": {},
     "output_type": "display_data"
    },
    {
     "name": "stdout",
     "output_type": "stream",
     "text": [
      "Testing 7 designs with WL... (triangles only)\n"
     ]
    },
    {
     "data": {
      "application/vnd.jupyter.widget-view+json": {
       "model_id": "aa88bc2db23b49b8b42210c1a53ad5f3",
       "version_major": 2,
       "version_minor": 0
      },
      "text/plain": [
       "  0%|          | 0/7 [00:00<?, ?it/s]"
      ]
     },
     "metadata": {},
     "output_type": "display_data"
    },
    {
     "name": "stdout",
     "output_type": "stream",
     "text": [
      "Found: <SAS of degree 7 and ranks [1, 2, 3, 4, 4, 3, 2, 1]>\n",
      "Summary: (7, 20, [1, 2, 3, 4, 4, 3, 2, 1], False, True, 'C2 x S4')\n",
      "Found: <SAS of degree 7 and ranks [1, 2, 3, 4, 4, 3, 2, 1]>\n",
      "Summary: (7, 20, [1, 2, 3, 4, 4, 3, 2, 1], False, True, '(S3 x S3) : C2')\n",
      "Found: <SAS of degree 7 and ranks [1, 2, 4, 6, 6, 4, 2, 1]>\n",
      "Summary: (7, 26, [1, 2, 4, 6, 6, 4, 2, 1], False, True, 'D6')\n",
      "Found: <SAS of degree 7 and ranks [1, 2, 2, 3, 3, 2, 2, 1]>\n",
      "Summary: (7, 16, [1, 2, 2, 3, 3, 2, 2, 1], False, True, 'A5')\n",
      "Searching for coherent refinements of <SAS of degree 7 and ranks [1, 1, 3, 5, 5, 3, 1, 1]>\n",
      "Summary: (7, 20, [1, 1, 3, 5, 5, 3, 1, 1], True, True, 'C7')\n"
     ]
    },
    {
     "data": {
      "application/vnd.jupyter.widget-view+json": {
       "model_id": "24ab2c9934314dbda350226be2d46969",
       "version_major": 2,
       "version_minor": 0
      },
      "text/plain": [
       "0it [00:00, ?it/s]"
      ]
     },
     "metadata": {},
     "output_type": "display_data"
    },
    {
     "name": "stdout",
     "output_type": "stream",
     "text": [
      "Enumerating monochromatic designs on level 3\n"
     ]
    },
    {
     "data": {
      "application/vnd.jupyter.widget-view+json": {
       "model_id": "ed60a833d1cd4d108a2831e0ff707030",
       "version_major": 2,
       "version_minor": 0
      },
      "text/plain": [
       "0it [00:00, ?it/s]"
      ]
     },
     "metadata": {},
     "output_type": "display_data"
    },
    {
     "name": "stdout",
     "output_type": "stream",
     "text": [
      "Testing 0 designs with WL... (triangles only)\n"
     ]
    },
    {
     "data": {
      "application/vnd.jupyter.widget-view+json": {
       "model_id": "099cd5dae0bf46879704b9e28f2b70ba",
       "version_major": 2,
       "version_minor": 0
      },
      "text/plain": [
       "0it [00:00, ?it/s]"
      ]
     },
     "metadata": {},
     "output_type": "display_data"
    },
    {
     "name": "stdout",
     "output_type": "stream",
     "text": [
      "Searching for coherent refinements of <SAS of degree 7 and ranks [1, 1, 1, 3, 3, 1, 1, 1]>\n",
      "Summary: (7, 12, [1, 1, 1, 3, 3, 1, 1, 1], True, True, 'C7 : C3')\n"
     ]
    },
    {
     "data": {
      "application/vnd.jupyter.widget-view+json": {
       "model_id": "5b0426ada53747148ff2407ba989bd02",
       "version_major": 2,
       "version_minor": 0
      },
      "text/plain": [
       "0it [00:00, ?it/s]"
      ]
     },
     "metadata": {},
     "output_type": "display_data"
    },
    {
     "name": "stdout",
     "output_type": "stream",
     "text": [
      "Enumerating monochromatic designs on level 3\n"
     ]
    },
    {
     "data": {
      "application/vnd.jupyter.widget-view+json": {
       "model_id": "d63caf4be53d49aea4175d54f17a38d6",
       "version_major": 2,
       "version_minor": 0
      },
      "text/plain": [
       "0it [00:00, ?it/s]"
      ]
     },
     "metadata": {},
     "output_type": "display_data"
    },
    {
     "name": "stdout",
     "output_type": "stream",
     "text": [
      "Testing 0 designs with WL... (triangles only)\n"
     ]
    },
    {
     "data": {
      "application/vnd.jupyter.widget-view+json": {
       "model_id": "4c791863287f407ea5eb0a32e4893cd6",
       "version_major": 2,
       "version_minor": 0
      },
      "text/plain": [
       "0it [00:00, ?it/s]"
      ]
     },
     "metadata": {},
     "output_type": "display_data"
    },
    {
     "name": "stdout",
     "output_type": "stream",
     "text": [
      "Searching for coherent refinements of <SAS of degree 7 and ranks [1, 2, 3, 4, 4, 3, 2, 1]>\n",
      "Summary: (7, 20, [1, 2, 3, 4, 4, 3, 2, 1], False, True, 'C5 : C4')\n"
     ]
    },
    {
     "data": {
      "application/vnd.jupyter.widget-view+json": {
       "model_id": "c09ddb01ff414d1ea7775324266cf528",
       "version_major": 2,
       "version_minor": 0
      },
      "text/plain": [
       "0it [00:00, ?it/s]"
      ]
     },
     "metadata": {},
     "output_type": "display_data"
    },
    {
     "name": "stdout",
     "output_type": "stream",
     "text": [
      "Enumerating monochromatic designs on level 3\n"
     ]
    },
    {
     "data": {
      "application/vnd.jupyter.widget-view+json": {
       "model_id": "c64737e307cb4734868aeeb37bc32078",
       "version_major": 2,
       "version_minor": 0
      },
      "text/plain": [
       "0it [00:00, ?it/s]"
      ]
     },
     "metadata": {},
     "output_type": "display_data"
    },
    {
     "name": "stdout",
     "output_type": "stream",
     "text": [
      "Testing 0 designs with WL... (triangles only)\n"
     ]
    },
    {
     "data": {
      "application/vnd.jupyter.widget-view+json": {
       "model_id": "51d1c0ac27084fedbd2ce2673e362811",
       "version_major": 2,
       "version_minor": 0
      },
      "text/plain": [
       "0it [00:00, ?it/s]"
      ]
     },
     "metadata": {},
     "output_type": "display_data"
    },
    {
     "name": "stdout",
     "output_type": "stream",
     "text": [
      "Searching for coherent refinements of <SAS of degree 7 and ranks [1, 3, 4, 4, 4, 4, 3, 1]>\n",
      "Summary: (7, 24, [1, 3, 4, 4, 4, 4, 3, 1], False, True, 'S5')\n"
     ]
    },
    {
     "data": {
      "application/vnd.jupyter.widget-view+json": {
       "model_id": "db12e71e3c5442f186210c37d6d71ad3",
       "version_major": 2,
       "version_minor": 0
      },
      "text/plain": [
       "0it [00:00, ?it/s]"
      ]
     },
     "metadata": {},
     "output_type": "display_data"
    },
    {
     "name": "stdout",
     "output_type": "stream",
     "text": [
      "Enumerating monochromatic designs on level 1\n"
     ]
    },
    {
     "data": {
      "application/vnd.jupyter.widget-view+json": {
       "model_id": "3a7ae158366b40adb57ea1b57aa5f093",
       "version_major": 2,
       "version_minor": 0
      },
      "text/plain": [
       "0it [00:00, ?it/s]"
      ]
     },
     "metadata": {},
     "output_type": "display_data"
    },
    {
     "name": "stdout",
     "output_type": "stream",
     "text": [
      "Enumerating monochromatic designs on level 2\n"
     ]
    },
    {
     "data": {
      "application/vnd.jupyter.widget-view+json": {
       "model_id": "a7de983fbf0d4a67afce57b292369dbb",
       "version_major": 2,
       "version_minor": 0
      },
      "text/plain": [
       "0it [00:00, ?it/s]"
      ]
     },
     "metadata": {},
     "output_type": "display_data"
    },
    {
     "name": "stdout",
     "output_type": "stream",
     "text": [
      "Enumerating monochromatic designs on level 3\n"
     ]
    },
    {
     "data": {
      "application/vnd.jupyter.widget-view+json": {
       "model_id": "8a2254ba8c5044a9ab1f2a0c209bf788",
       "version_major": 2,
       "version_minor": 0
      },
      "text/plain": [
       "0it [00:00, ?it/s]"
      ]
     },
     "metadata": {},
     "output_type": "display_data"
    },
    {
     "name": "stdout",
     "output_type": "stream",
     "text": [
      "Testing 3 designs with WL... (triangles only)\n"
     ]
    },
    {
     "data": {
      "application/vnd.jupyter.widget-view+json": {
       "model_id": "d0fcf571de15440b9e8fb008d57734fa",
       "version_major": 2,
       "version_minor": 0
      },
      "text/plain": [
       "  0%|          | 0/3 [00:00<?, ?it/s]"
      ]
     },
     "metadata": {},
     "output_type": "display_data"
    },
    {
     "name": "stdout",
     "output_type": "stream",
     "text": [
      "Found: <SAS of degree 7 and ranks [1, 3, 5, 7, 7, 5, 3, 1]>\n",
      "Summary: (7, 32, [1, 3, 5, 7, 7, 5, 3, 1], False, True, 'D5')\n",
      "Found: <SAS of degree 7 and ranks [1, 4, 7, 8, 8, 7, 4, 1]>\n",
      "Summary: (7, 40, [1, 4, 7, 8, 8, 7, 4, 1], False, True, 'S4')\n",
      "Found: <SAS of degree 7 and ranks [1, 4, 8, 11, 11, 8, 4, 1]>\n",
      "Summary: (7, 48, [1, 4, 8, 11, 11, 8, 4, 1], False, True, 'D6')\n",
      "Searching for coherent refinements of <SAS of degree 7 and ranks [1, 2, 4, 5, 5, 4, 2, 1]>\n",
      "Summary: (7, 24, [1, 2, 4, 5, 5, 4, 2, 1], False, True, 'D10')\n"
     ]
    },
    {
     "data": {
      "application/vnd.jupyter.widget-view+json": {
       "model_id": "bcd0f32edafe4557a1df132b146d01e6",
       "version_major": 2,
       "version_minor": 0
      },
      "text/plain": [
       "0it [00:00, ?it/s]"
      ]
     },
     "metadata": {},
     "output_type": "display_data"
    },
    {
     "name": "stdout",
     "output_type": "stream",
     "text": [
      "Enumerating monochromatic designs on level 2\n"
     ]
    },
    {
     "data": {
      "application/vnd.jupyter.widget-view+json": {
       "model_id": "125c867290684d63b7898699e22386fb",
       "version_major": 2,
       "version_minor": 0
      },
      "text/plain": [
       "0it [00:00, ?it/s]"
      ]
     },
     "metadata": {},
     "output_type": "display_data"
    },
    {
     "name": "stdout",
     "output_type": "stream",
     "text": [
      "Enumerating monochromatic designs on level 3\n"
     ]
    },
    {
     "data": {
      "application/vnd.jupyter.widget-view+json": {
       "model_id": "e3e1b24121464c9a8f621311b1edb859",
       "version_major": 2,
       "version_minor": 0
      },
      "text/plain": [
       "0it [00:00, ?it/s]"
      ]
     },
     "metadata": {},
     "output_type": "display_data"
    },
    {
     "name": "stdout",
     "output_type": "stream",
     "text": [
      "Testing 0 designs with WL... (triangles only)\n"
     ]
    },
    {
     "data": {
      "application/vnd.jupyter.widget-view+json": {
       "model_id": "27e20bd5cee84dcf833fd4e9c3a2e9b3",
       "version_major": 2,
       "version_minor": 0
      },
      "text/plain": [
       "0it [00:00, ?it/s]"
      ]
     },
     "metadata": {},
     "output_type": "display_data"
    },
    {
     "name": "stdout",
     "output_type": "stream",
     "text": [
      "Searching for coherent refinements of <SAS of degree 7 and ranks [1, 3, 6, 8, 8, 6, 3, 1]>\n",
      "Summary: (7, 36, [1, 3, 6, 8, 8, 6, 3, 1], False, True, 'C2 x C2 x S3')\n"
     ]
    },
    {
     "data": {
      "application/vnd.jupyter.widget-view+json": {
       "model_id": "3a9f70681803497b87e3b7b502bb74eb",
       "version_major": 2,
       "version_minor": 0
      },
      "text/plain": [
       "0it [00:00, ?it/s]"
      ]
     },
     "metadata": {},
     "output_type": "display_data"
    },
    {
     "name": "stdout",
     "output_type": "stream",
     "text": [
      "Enumerating monochromatic designs on level 1\n"
     ]
    },
    {
     "data": {
      "application/vnd.jupyter.widget-view+json": {
       "model_id": "c68300e96dad44238a897bbe7100fbd5",
       "version_major": 2,
       "version_minor": 0
      },
      "text/plain": [
       "0it [00:00, ?it/s]"
      ]
     },
     "metadata": {},
     "output_type": "display_data"
    },
    {
     "name": "stdout",
     "output_type": "stream",
     "text": [
      "Enumerating monochromatic designs on level 2\n"
     ]
    },
    {
     "data": {
      "application/vnd.jupyter.widget-view+json": {
       "model_id": "3630475b01b147998250d12f817fe2f8",
       "version_major": 2,
       "version_minor": 0
      },
      "text/plain": [
       "0it [00:00, ?it/s]"
      ]
     },
     "metadata": {},
     "output_type": "display_data"
    },
    {
     "name": "stdout",
     "output_type": "stream",
     "text": [
      "Enumerating monochromatic designs on level 3\n"
     ]
    },
    {
     "data": {
      "application/vnd.jupyter.widget-view+json": {
       "model_id": "115b2d7ecc6c490caf9a63937e86d491",
       "version_major": 2,
       "version_minor": 0
      },
      "text/plain": [
       "0it [00:00, ?it/s]"
      ]
     },
     "metadata": {},
     "output_type": "display_data"
    },
    {
     "name": "stdout",
     "output_type": "stream",
     "text": [
      "Testing 3 designs with WL... (triangles only)\n"
     ]
    },
    {
     "data": {
      "application/vnd.jupyter.widget-view+json": {
       "model_id": "b65c63d0375f46e2bfcc53806db81d41",
       "version_major": 2,
       "version_minor": 0
      },
      "text/plain": [
       "  0%|          | 0/3 [00:00<?, ?it/s]"
      ]
     },
     "metadata": {},
     "output_type": "display_data"
    },
    {
     "name": "stdout",
     "output_type": "stream",
     "text": [
      "Found: <SAS of degree 7 and ranks [1, 4, 9, 13, 13, 9, 4, 1]>\n",
      "Summary: (7, 54, [1, 4, 9, 13, 13, 9, 4, 1], False, True, 'C2 x C2 x C2')\n",
      "Found: <SAS of degree 7 and ranks [1, 3, 7, 9, 9, 7, 3, 1]>\n",
      "Summary: (7, 40, [1, 3, 7, 9, 9, 7, 3, 1], False, True, 'D6')\n",
      "Searching for coherent refinements of <SAS of degree 7 and ranks [1, 3, 5, 6, 6, 5, 3, 1]>\n",
      "Summary: (7, 30, [1, 3, 5, 6, 6, 5, 3, 1], False, True, 'C2 x S4')\n"
     ]
    },
    {
     "data": {
      "application/vnd.jupyter.widget-view+json": {
       "model_id": "4c7dcc17d563475fb9ec5e5758c877fc",
       "version_major": 2,
       "version_minor": 0
      },
      "text/plain": [
       "0it [00:00, ?it/s]"
      ]
     },
     "metadata": {},
     "output_type": "display_data"
    },
    {
     "name": "stdout",
     "output_type": "stream",
     "text": [
      "Enumerating monochromatic designs on level 1\n"
     ]
    },
    {
     "data": {
      "application/vnd.jupyter.widget-view+json": {
       "model_id": "44e1db7700b74920938fe1735572791e",
       "version_major": 2,
       "version_minor": 0
      },
      "text/plain": [
       "0it [00:00, ?it/s]"
      ]
     },
     "metadata": {},
     "output_type": "display_data"
    },
    {
     "name": "stdout",
     "output_type": "stream",
     "text": [
      "Enumerating monochromatic designs on level 2\n"
     ]
    },
    {
     "data": {
      "application/vnd.jupyter.widget-view+json": {
       "model_id": "de26bf7fb8c24ce8ba802b8954f02287",
       "version_major": 2,
       "version_minor": 0
      },
      "text/plain": [
       "0it [00:00, ?it/s]"
      ]
     },
     "metadata": {},
     "output_type": "display_data"
    },
    {
     "name": "stdout",
     "output_type": "stream",
     "text": [
      "Enumerating monochromatic designs on level 3\n"
     ]
    },
    {
     "data": {
      "application/vnd.jupyter.widget-view+json": {
       "model_id": "614f20c467e7489886f7e1096fd0f1b5",
       "version_major": 2,
       "version_minor": 0
      },
      "text/plain": [
       "0it [00:00, ?it/s]"
      ]
     },
     "metadata": {},
     "output_type": "display_data"
    },
    {
     "name": "stdout",
     "output_type": "stream",
     "text": [
      "Testing 5 designs with WL... (triangles only)\n"
     ]
    },
    {
     "data": {
      "application/vnd.jupyter.widget-view+json": {
       "model_id": "e63b009c769a46259615e3313e28b321",
       "version_major": 2,
       "version_minor": 0
      },
      "text/plain": [
       "  0%|          | 0/5 [00:00<?, ?it/s]"
      ]
     },
     "metadata": {},
     "output_type": "display_data"
    },
    {
     "name": "stdout",
     "output_type": "stream",
     "text": [
      "Found: <SAS of degree 7 and ranks [1, 3, 6, 8, 8, 6, 3, 1]>\n",
      "Summary: (7, 36, [1, 3, 6, 8, 8, 6, 3, 1], False, True, 'C2 x D4')\n",
      "Found: <SAS of degree 7 and ranks [1, 3, 7, 10, 10, 7, 3, 1]>\n",
      "Summary: (7, 42, [1, 3, 7, 10, 10, 7, 3, 1], False, True, 'D4')\n",
      "Searching for coherent refinements of <SAS of degree 7 and ranks [1, 2, 3, 5, 5, 3, 2, 1]>\n",
      "Summary: (7, 22, [1, 2, 3, 5, 5, 3, 2, 1], False, True, 'S4')\n"
     ]
    },
    {
     "data": {
      "application/vnd.jupyter.widget-view+json": {
       "model_id": "5b6b7d387e3e4e9e81b022090189b284",
       "version_major": 2,
       "version_minor": 0
      },
      "text/plain": [
       "0it [00:00, ?it/s]"
      ]
     },
     "metadata": {},
     "output_type": "display_data"
    },
    {
     "name": "stdout",
     "output_type": "stream",
     "text": [
      "Enumerating monochromatic designs on level 3\n"
     ]
    },
    {
     "data": {
      "application/vnd.jupyter.widget-view+json": {
       "model_id": "55eea5d994354b54813d665c1e7f9e72",
       "version_major": 2,
       "version_minor": 0
      },
      "text/plain": [
       "0it [00:00, ?it/s]"
      ]
     },
     "metadata": {},
     "output_type": "display_data"
    },
    {
     "name": "stdout",
     "output_type": "stream",
     "text": [
      "Testing 1 designs with WL... (triangles only)\n"
     ]
    },
    {
     "data": {
      "application/vnd.jupyter.widget-view+json": {
       "model_id": "998c57734e394841bdfd736273475721",
       "version_major": 2,
       "version_minor": 0
      },
      "text/plain": [
       "  0%|          | 0/1 [00:00<?, ?it/s]"
      ]
     },
     "metadata": {},
     "output_type": "display_data"
    },
    {
     "name": "stdout",
     "output_type": "stream",
     "text": [
      "Found: <SAS of degree 7 and ranks [1, 2, 3, 6, 6, 3, 2, 1]>\n",
      "Summary: (7, 24, [1, 2, 3, 6, 6, 3, 2, 1], False, True, 'A4')\n",
      "Searching for coherent refinements of <SAS of degree 7 and ranks [1, 3, 5, 7, 7, 5, 3, 1]>\n",
      "Summary: (7, 32, [1, 3, 5, 7, 7, 5, 3, 1], False, True, 'S3 x S3')\n"
     ]
    },
    {
     "data": {
      "application/vnd.jupyter.widget-view+json": {
       "model_id": "3da384fae2bd4dfdbea8ccfd810cb600",
       "version_major": 2,
       "version_minor": 0
      },
      "text/plain": [
       "0it [00:00, ?it/s]"
      ]
     },
     "metadata": {},
     "output_type": "display_data"
    },
    {
     "name": "stdout",
     "output_type": "stream",
     "text": [
      "Enumerating monochromatic designs on level 1\n"
     ]
    },
    {
     "data": {
      "application/vnd.jupyter.widget-view+json": {
       "model_id": "4847b79ab5af454996fd748cced1342e",
       "version_major": 2,
       "version_minor": 0
      },
      "text/plain": [
       "0it [00:00, ?it/s]"
      ]
     },
     "metadata": {},
     "output_type": "display_data"
    },
    {
     "name": "stdout",
     "output_type": "stream",
     "text": [
      "Enumerating monochromatic designs on level 2\n"
     ]
    },
    {
     "data": {
      "application/vnd.jupyter.widget-view+json": {
       "model_id": "b4882d1716744952841e3c96fc9337c4",
       "version_major": 2,
       "version_minor": 0
      },
      "text/plain": [
       "0it [00:00, ?it/s]"
      ]
     },
     "metadata": {},
     "output_type": "display_data"
    },
    {
     "name": "stdout",
     "output_type": "stream",
     "text": [
      "Enumerating monochromatic designs on level 3\n"
     ]
    },
    {
     "data": {
      "application/vnd.jupyter.widget-view+json": {
       "model_id": "5d97887b11ff42839c313397393d852a",
       "version_major": 2,
       "version_minor": 0
      },
      "text/plain": [
       "0it [00:00, ?it/s]"
      ]
     },
     "metadata": {},
     "output_type": "display_data"
    },
    {
     "name": "stdout",
     "output_type": "stream",
     "text": [
      "Testing 2 designs with WL... (triangles only)\n"
     ]
    },
    {
     "data": {
      "application/vnd.jupyter.widget-view+json": {
       "model_id": "1ed134fedf5d4e20af0edd32dfd122e1",
       "version_major": 2,
       "version_minor": 0
      },
      "text/plain": [
       "  0%|          | 0/2 [00:00<?, ?it/s]"
      ]
     },
     "metadata": {},
     "output_type": "display_data"
    },
    {
     "name": "stdout",
     "output_type": "stream",
     "text": [
      "Found: <SAS of degree 7 and ranks [1, 3, 6, 10, 10, 6, 3, 1]>\n",
      "Summary: (7, 40, [1, 3, 6, 10, 10, 6, 3, 1], False, True, 'S3')\n",
      "Searching for coherent refinements of <SAS of degree 7 and ranks [1, 2, 5, 6, 6, 5, 2, 1]>\n",
      "Summary: (7, 28, [1, 2, 5, 6, 6, 5, 2, 1], False, True, 'C2 x C2 x S3')\n"
     ]
    },
    {
     "data": {
      "application/vnd.jupyter.widget-view+json": {
       "model_id": "3a680df104d6412384a07d1027c2801d",
       "version_major": 2,
       "version_minor": 0
      },
      "text/plain": [
       "0it [00:00, ?it/s]"
      ]
     },
     "metadata": {},
     "output_type": "display_data"
    },
    {
     "name": "stdout",
     "output_type": "stream",
     "text": [
      "Enumerating monochromatic designs on level 2\n"
     ]
    },
    {
     "data": {
      "application/vnd.jupyter.widget-view+json": {
       "model_id": "55132e0678034413a40725cd8668d865",
       "version_major": 2,
       "version_minor": 0
      },
      "text/plain": [
       "0it [00:00, ?it/s]"
      ]
     },
     "metadata": {},
     "output_type": "display_data"
    },
    {
     "name": "stdout",
     "output_type": "stream",
     "text": [
      "Enumerating monochromatic designs on level 3\n"
     ]
    },
    {
     "data": {
      "application/vnd.jupyter.widget-view+json": {
       "model_id": "658cf665d541489b9552be5abbb5d7c8",
       "version_major": 2,
       "version_minor": 0
      },
      "text/plain": [
       "0it [00:00, ?it/s]"
      ]
     },
     "metadata": {},
     "output_type": "display_data"
    },
    {
     "name": "stdout",
     "output_type": "stream",
     "text": [
      "Testing 0 designs with WL... (triangles only)\n"
     ]
    },
    {
     "data": {
      "application/vnd.jupyter.widget-view+json": {
       "model_id": "90f4916593364d35862fadecb0cdf4de",
       "version_major": 2,
       "version_minor": 0
      },
      "text/plain": [
       "0it [00:00, ?it/s]"
      ]
     },
     "metadata": {},
     "output_type": "display_data"
    },
    {
     "name": "stdout",
     "output_type": "stream",
     "text": [
      "Searching for coherent refinements of <SAS of degree 7 and ranks [1, 2, 3, 4, 4, 3, 2, 1]>\n",
      "Summary: (7, 20, [1, 2, 3, 4, 4, 3, 2, 1], False, True, 'C2 x S4')\n"
     ]
    },
    {
     "data": {
      "application/vnd.jupyter.widget-view+json": {
       "model_id": "75322602d5e841d88739db813e547610",
       "version_major": 2,
       "version_minor": 0
      },
      "text/plain": [
       "0it [00:00, ?it/s]"
      ]
     },
     "metadata": {},
     "output_type": "display_data"
    },
    {
     "name": "stdout",
     "output_type": "stream",
     "text": [
      "Enumerating monochromatic designs on level 2\n"
     ]
    },
    {
     "data": {
      "application/vnd.jupyter.widget-view+json": {
       "model_id": "b3a563ef869e47359d583a81a29e2234",
       "version_major": 2,
       "version_minor": 0
      },
      "text/plain": [
       "0it [00:00, ?it/s]"
      ]
     },
     "metadata": {},
     "output_type": "display_data"
    },
    {
     "name": "stdout",
     "output_type": "stream",
     "text": [
      "Enumerating monochromatic designs on level 3\n"
     ]
    },
    {
     "data": {
      "application/vnd.jupyter.widget-view+json": {
       "model_id": "322eb3cf730f4906bca5f3aba373570f",
       "version_major": 2,
       "version_minor": 0
      },
      "text/plain": [
       "0it [00:00, ?it/s]"
      ]
     },
     "metadata": {},
     "output_type": "display_data"
    },
    {
     "name": "stdout",
     "output_type": "stream",
     "text": [
      "Testing 6 designs with WL... (triangles only)\n"
     ]
    },
    {
     "data": {
      "application/vnd.jupyter.widget-view+json": {
       "model_id": "36e5e45e307f45adb184a3220b5fc3a6",
       "version_major": 2,
       "version_minor": 0
      },
      "text/plain": [
       "  0%|          | 0/6 [00:00<?, ?it/s]"
      ]
     },
     "metadata": {},
     "output_type": "display_data"
    },
    {
     "name": "stdout",
     "output_type": "stream",
     "text": [
      "Found: <SAS of degree 7 and ranks [1, 3, 8, 12, 12, 8, 3, 1]>\n",
      "Summary: (7, 48, [1, 3, 8, 12, 12, 8, 3, 1], False, True, 'C2 x C2')\n",
      "Found: <SAS of degree 7 and ranks [1, 2, 5, 8, 8, 5, 2, 1]>\n",
      "Summary: (7, 32, [1, 2, 5, 8, 8, 5, 2, 1], False, True, 'S3')\n",
      "Found: <SAS of degree 7 and ranks [1, 2, 3, 5, 5, 3, 2, 1]>\n",
      "Summary: (7, 22, [1, 2, 3, 5, 5, 3, 2, 1], False, True, 'C2 x A4')\n",
      "Found: <SAS of degree 7 and ranks [1, 2, 3, 5, 5, 3, 2, 1]>\n",
      "Summary: (7, 22, [1, 2, 3, 5, 5, 3, 2, 1], False, True, 'S4')\n",
      "Searching for coherent refinements of <SAS of degree 7 and ranks [1, 2, 3, 4, 4, 3, 2, 1]>\n",
      "Summary: (7, 20, [1, 2, 3, 4, 4, 3, 2, 1], False, True, '(S3 x S3) : C2')\n"
     ]
    },
    {
     "data": {
      "application/vnd.jupyter.widget-view+json": {
       "model_id": "f5aefb77f43544e4bd9ffa8a0c04aff1",
       "version_major": 2,
       "version_minor": 0
      },
      "text/plain": [
       "0it [00:00, ?it/s]"
      ]
     },
     "metadata": {},
     "output_type": "display_data"
    },
    {
     "name": "stdout",
     "output_type": "stream",
     "text": [
      "Enumerating monochromatic designs on level 2\n"
     ]
    },
    {
     "data": {
      "application/vnd.jupyter.widget-view+json": {
       "model_id": "d72580e5162941aeaa281f050d2085a7",
       "version_major": 2,
       "version_minor": 0
      },
      "text/plain": [
       "0it [00:00, ?it/s]"
      ]
     },
     "metadata": {},
     "output_type": "display_data"
    },
    {
     "name": "stdout",
     "output_type": "stream",
     "text": [
      "Enumerating monochromatic designs on level 3\n"
     ]
    },
    {
     "data": {
      "application/vnd.jupyter.widget-view+json": {
       "model_id": "3a44d931d9bb4b3e82a31c923cd210c7",
       "version_major": 2,
       "version_minor": 0
      },
      "text/plain": [
       "0it [00:00, ?it/s]"
      ]
     },
     "metadata": {},
     "output_type": "display_data"
    },
    {
     "name": "stdout",
     "output_type": "stream",
     "text": [
      "Testing 1 designs with WL... (triangles only)\n"
     ]
    },
    {
     "data": {
      "application/vnd.jupyter.widget-view+json": {
       "model_id": "c67e48ce6acb4b328eb9aea6618b5d6c",
       "version_major": 2,
       "version_minor": 0
      },
      "text/plain": [
       "  0%|          | 0/1 [00:00<?, ?it/s]"
      ]
     },
     "metadata": {},
     "output_type": "display_data"
    },
    {
     "name": "stdout",
     "output_type": "stream",
     "text": [
      "Searching for coherent refinements of <SAS of degree 7 and ranks [1, 2, 4, 6, 6, 4, 2, 1]>\n",
      "Summary: (7, 26, [1, 2, 4, 6, 6, 4, 2, 1], False, True, 'D6')\n"
     ]
    },
    {
     "data": {
      "application/vnd.jupyter.widget-view+json": {
       "model_id": "86b8de3eae1548e792fdb9851ddfe098",
       "version_major": 2,
       "version_minor": 0
      },
      "text/plain": [
       "0it [00:00, ?it/s]"
      ]
     },
     "metadata": {},
     "output_type": "display_data"
    },
    {
     "name": "stdout",
     "output_type": "stream",
     "text": [
      "Enumerating monochromatic designs on level 2\n"
     ]
    },
    {
     "data": {
      "application/vnd.jupyter.widget-view+json": {
       "model_id": "02703631c33b48bba489eb42370fcc2f",
       "version_major": 2,
       "version_minor": 0
      },
      "text/plain": [
       "0it [00:00, ?it/s]"
      ]
     },
     "metadata": {},
     "output_type": "display_data"
    },
    {
     "name": "stdout",
     "output_type": "stream",
     "text": [
      "Enumerating monochromatic designs on level 3\n"
     ]
    },
    {
     "data": {
      "application/vnd.jupyter.widget-view+json": {
       "model_id": "65141d192f7e4902b4d27c8ba599deec",
       "version_major": 2,
       "version_minor": 0
      },
      "text/plain": [
       "0it [00:00, ?it/s]"
      ]
     },
     "metadata": {},
     "output_type": "display_data"
    },
    {
     "name": "stdout",
     "output_type": "stream",
     "text": [
      "Testing 2 designs with WL... (triangles only)\n"
     ]
    },
    {
     "data": {
      "application/vnd.jupyter.widget-view+json": {
       "model_id": "adf83b14dfd04e57bfb8ebbbd7e96f45",
       "version_major": 2,
       "version_minor": 0
      },
      "text/plain": [
       "  0%|          | 0/2 [00:00<?, ?it/s]"
      ]
     },
     "metadata": {},
     "output_type": "display_data"
    },
    {
     "name": "stdout",
     "output_type": "stream",
     "text": [
      "Found: <SAS of degree 7 and ranks [1, 2, 4, 7, 7, 4, 2, 1]>\n",
      "Summary: (7, 28, [1, 2, 4, 7, 7, 4, 2, 1], False, True, 'C6')\n",
      "Searching for coherent refinements of <SAS of degree 7 and ranks [1, 2, 2, 3, 3, 2, 2, 1]>\n",
      "Summary: (7, 16, [1, 2, 2, 3, 3, 2, 2, 1], False, True, 'A5')\n"
     ]
    },
    {
     "data": {
      "application/vnd.jupyter.widget-view+json": {
       "model_id": "4c796e3e53484f0d841f60c1d8584324",
       "version_major": 2,
       "version_minor": 0
      },
      "text/plain": [
       "0it [00:00, ?it/s]"
      ]
     },
     "metadata": {},
     "output_type": "display_data"
    },
    {
     "name": "stdout",
     "output_type": "stream",
     "text": [
      "Enumerating monochromatic designs on level 3\n"
     ]
    },
    {
     "data": {
      "application/vnd.jupyter.widget-view+json": {
       "model_id": "d16fe05639204a04b38bb64030b5a1a6",
       "version_major": 2,
       "version_minor": 0
      },
      "text/plain": [
       "0it [00:00, ?it/s]"
      ]
     },
     "metadata": {},
     "output_type": "display_data"
    },
    {
     "name": "stdout",
     "output_type": "stream",
     "text": [
      "Testing 0 designs with WL... (triangles only)\n"
     ]
    },
    {
     "data": {
      "application/vnd.jupyter.widget-view+json": {
       "model_id": "10ba939256554a95b96b5819fb0c7830",
       "version_major": 2,
       "version_minor": 0
      },
      "text/plain": [
       "0it [00:00, ?it/s]"
      ]
     },
     "metadata": {},
     "output_type": "display_data"
    },
    {
     "name": "stdout",
     "output_type": "stream",
     "text": [
      "Searching for coherent refinements of <SAS of degree 7 and ranks [1, 3, 5, 7, 7, 5, 3, 1]>\n",
      "Summary: (7, 32, [1, 3, 5, 7, 7, 5, 3, 1], False, True, 'D5')\n"
     ]
    },
    {
     "data": {
      "application/vnd.jupyter.widget-view+json": {
       "model_id": "2779060586494d03b87b1cdf5754e438",
       "version_major": 2,
       "version_minor": 0
      },
      "text/plain": [
       "0it [00:00, ?it/s]"
      ]
     },
     "metadata": {},
     "output_type": "display_data"
    },
    {
     "name": "stdout",
     "output_type": "stream",
     "text": [
      "Enumerating monochromatic designs on level 2\n"
     ]
    },
    {
     "data": {
      "application/vnd.jupyter.widget-view+json": {
       "model_id": "76530187a55c426d8b220fbcab3c2e75",
       "version_major": 2,
       "version_minor": 0
      },
      "text/plain": [
       "0it [00:00, ?it/s]"
      ]
     },
     "metadata": {},
     "output_type": "display_data"
    },
    {
     "name": "stdout",
     "output_type": "stream",
     "text": [
      "Enumerating monochromatic designs on level 3\n"
     ]
    },
    {
     "data": {
      "application/vnd.jupyter.widget-view+json": {
       "model_id": "ecf31a8b670a4f088781a44c291857aa",
       "version_major": 2,
       "version_minor": 0
      },
      "text/plain": [
       "0it [00:00, ?it/s]"
      ]
     },
     "metadata": {},
     "output_type": "display_data"
    },
    {
     "name": "stdout",
     "output_type": "stream",
     "text": [
      "Testing 0 designs with WL... (triangles only)\n"
     ]
    },
    {
     "data": {
      "application/vnd.jupyter.widget-view+json": {
       "model_id": "ee858be72fe54117af8a87cd1736bc20",
       "version_major": 2,
       "version_minor": 0
      },
      "text/plain": [
       "0it [00:00, ?it/s]"
      ]
     },
     "metadata": {},
     "output_type": "display_data"
    },
    {
     "name": "stdout",
     "output_type": "stream",
     "text": [
      "Searching for coherent refinements of <SAS of degree 7 and ranks [1, 4, 7, 8, 8, 7, 4, 1]>\n",
      "Summary: (7, 40, [1, 4, 7, 8, 8, 7, 4, 1], False, True, 'S4')\n"
     ]
    },
    {
     "data": {
      "application/vnd.jupyter.widget-view+json": {
       "model_id": "023a8e91dc244b06945a3949dd36b580",
       "version_major": 2,
       "version_minor": 0
      },
      "text/plain": [
       "0it [00:00, ?it/s]"
      ]
     },
     "metadata": {},
     "output_type": "display_data"
    },
    {
     "name": "stdout",
     "output_type": "stream",
     "text": [
      "Enumerating monochromatic designs on level 1\n"
     ]
    },
    {
     "data": {
      "application/vnd.jupyter.widget-view+json": {
       "model_id": "712fbfc10e0e444fa94f78c1e16ed39e",
       "version_major": 2,
       "version_minor": 0
      },
      "text/plain": [
       "0it [00:00, ?it/s]"
      ]
     },
     "metadata": {},
     "output_type": "display_data"
    },
    {
     "name": "stdout",
     "output_type": "stream",
     "text": [
      "Enumerating monochromatic designs on level 2\n"
     ]
    },
    {
     "data": {
      "application/vnd.jupyter.widget-view+json": {
       "model_id": "9fa3f625eacc49bba2473bea89f5f5af",
       "version_major": 2,
       "version_minor": 0
      },
      "text/plain": [
       "0it [00:00, ?it/s]"
      ]
     },
     "metadata": {},
     "output_type": "display_data"
    },
    {
     "name": "stdout",
     "output_type": "stream",
     "text": [
      "Enumerating monochromatic designs on level 3\n"
     ]
    },
    {
     "data": {
      "application/vnd.jupyter.widget-view+json": {
       "model_id": "d07c0544a12d459cadf7e3a808fae8d7",
       "version_major": 2,
       "version_minor": 0
      },
      "text/plain": [
       "0it [00:00, ?it/s]"
      ]
     },
     "metadata": {},
     "output_type": "display_data"
    },
    {
     "name": "stdout",
     "output_type": "stream",
     "text": [
      "Testing 3 designs with WL... (triangles only)\n"
     ]
    },
    {
     "data": {
      "application/vnd.jupyter.widget-view+json": {
       "model_id": "0c0b2f644264493e993d96590fd04b8e",
       "version_major": 2,
       "version_minor": 0
      },
      "text/plain": [
       "  0%|          | 0/3 [00:00<?, ?it/s]"
      ]
     },
     "metadata": {},
     "output_type": "display_data"
    },
    {
     "name": "stdout",
     "output_type": "stream",
     "text": [
      "Found: <SAS of degree 7 and ranks [1, 4, 8, 11, 11, 8, 4, 1]>\n",
      "Summary: (7, 48, [1, 4, 8, 11, 11, 8, 4, 1], False, True, 'D4')\n",
      "Found: <SAS of degree 7 and ranks [1, 5, 12, 18, 18, 12, 5, 1]>\n",
      "Summary: (7, 72, [1, 5, 12, 18, 18, 12, 5, 1], False, True, 'C2 x C2')\n",
      "Found: <SAS of degree 7 and ranks [1, 5, 11, 15, 15, 11, 5, 1]>\n",
      "Summary: (7, 64, [1, 5, 11, 15, 15, 11, 5, 1], False, True, 'S3')\n",
      "Searching for coherent refinements of <SAS of degree 7 and ranks [1, 4, 8, 11, 11, 8, 4, 1]>\n",
      "Summary: (7, 48, [1, 4, 8, 11, 11, 8, 4, 1], False, True, 'D6')\n"
     ]
    },
    {
     "data": {
      "application/vnd.jupyter.widget-view+json": {
       "model_id": "209b7951514c4c7ca082e9268b223fa2",
       "version_major": 2,
       "version_minor": 0
      },
      "text/plain": [
       "0it [00:00, ?it/s]"
      ]
     },
     "metadata": {},
     "output_type": "display_data"
    },
    {
     "name": "stdout",
     "output_type": "stream",
     "text": [
      "Enumerating monochromatic designs on level 1\n"
     ]
    },
    {
     "data": {
      "application/vnd.jupyter.widget-view+json": {
       "model_id": "9863c0f936d247e88486496ddbf3d35f",
       "version_major": 2,
       "version_minor": 0
      },
      "text/plain": [
       "0it [00:00, ?it/s]"
      ]
     },
     "metadata": {},
     "output_type": "display_data"
    },
    {
     "name": "stdout",
     "output_type": "stream",
     "text": [
      "Enumerating monochromatic designs on level 2\n"
     ]
    },
    {
     "data": {
      "application/vnd.jupyter.widget-view+json": {
       "model_id": "4be6cdbb43df4d578ec8153a31ab6fa2",
       "version_major": 2,
       "version_minor": 0
      },
      "text/plain": [
       "0it [00:00, ?it/s]"
      ]
     },
     "metadata": {},
     "output_type": "display_data"
    },
    {
     "name": "stdout",
     "output_type": "stream",
     "text": [
      "Enumerating monochromatic designs on level 3\n"
     ]
    },
    {
     "data": {
      "application/vnd.jupyter.widget-view+json": {
       "model_id": "75b9b28b60234d0f8daa0611017549ec",
       "version_major": 2,
       "version_minor": 0
      },
      "text/plain": [
       "0it [00:00, ?it/s]"
      ]
     },
     "metadata": {},
     "output_type": "display_data"
    },
    {
     "name": "stdout",
     "output_type": "stream",
     "text": [
      "Testing 2 designs with WL... (triangles only)\n"
     ]
    },
    {
     "data": {
      "application/vnd.jupyter.widget-view+json": {
       "model_id": "4846ab3678814679895d8cbea5c734b1",
       "version_major": 2,
       "version_minor": 0
      },
      "text/plain": [
       "  0%|          | 0/2 [00:00<?, ?it/s]"
      ]
     },
     "metadata": {},
     "output_type": "display_data"
    },
    {
     "name": "stdout",
     "output_type": "stream",
     "text": [
      "Searching for coherent refinements of <SAS of degree 7 and ranks [1, 4, 9, 13, 13, 9, 4, 1]>\n",
      "Summary: (7, 54, [1, 4, 9, 13, 13, 9, 4, 1], False, True, 'C2 x C2 x C2')\n"
     ]
    },
    {
     "data": {
      "application/vnd.jupyter.widget-view+json": {
       "model_id": "a8b7db4fd5ac404c8b5991673cf0bb8c",
       "version_major": 2,
       "version_minor": 0
      },
      "text/plain": [
       "0it [00:00, ?it/s]"
      ]
     },
     "metadata": {},
     "output_type": "display_data"
    },
    {
     "name": "stdout",
     "output_type": "stream",
     "text": [
      "Enumerating monochromatic designs on level 1\n"
     ]
    },
    {
     "data": {
      "application/vnd.jupyter.widget-view+json": {
       "model_id": "7d28839d5b3a441993869ae068a4d1e3",
       "version_major": 2,
       "version_minor": 0
      },
      "text/plain": [
       "0it [00:00, ?it/s]"
      ]
     },
     "metadata": {},
     "output_type": "display_data"
    },
    {
     "name": "stdout",
     "output_type": "stream",
     "text": [
      "Enumerating monochromatic designs on level 2\n"
     ]
    },
    {
     "data": {
      "application/vnd.jupyter.widget-view+json": {
       "model_id": "9e86ee635cd940e6a6f6d169ee8a4bae",
       "version_major": 2,
       "version_minor": 0
      },
      "text/plain": [
       "0it [00:00, ?it/s]"
      ]
     },
     "metadata": {},
     "output_type": "display_data"
    },
    {
     "name": "stdout",
     "output_type": "stream",
     "text": [
      "Enumerating monochromatic designs on level 3\n"
     ]
    },
    {
     "data": {
      "application/vnd.jupyter.widget-view+json": {
       "model_id": "e77c1a8735a349f7bdfcc938bf9d9723",
       "version_major": 2,
       "version_minor": 0
      },
      "text/plain": [
       "0it [00:00, ?it/s]"
      ]
     },
     "metadata": {},
     "output_type": "display_data"
    },
    {
     "name": "stdout",
     "output_type": "stream",
     "text": [
      "Testing 3 designs with WL... (triangles only)\n"
     ]
    },
    {
     "data": {
      "application/vnd.jupyter.widget-view+json": {
       "model_id": "35fd6ad459474d4596c9af39229c3938",
       "version_major": 2,
       "version_minor": 0
      },
      "text/plain": [
       "  0%|          | 0/3 [00:00<?, ?it/s]"
      ]
     },
     "metadata": {},
     "output_type": "display_data"
    },
    {
     "name": "stdout",
     "output_type": "stream",
     "text": [
      "Found: <SAS of degree 7 and ranks [1, 4, 10, 15, 15, 10, 4, 1]>\n",
      "Summary: (7, 60, [1, 4, 10, 15, 15, 10, 4, 1], False, True, 'C2 x C2')\n",
      "Found: <SAS of degree 7 and ranks [1, 4, 9, 14, 14, 9, 4, 1]>\n",
      "Summary: (7, 56, [1, 4, 9, 14, 14, 9, 4, 1], False, True, 'C2 x C2')\n",
      "Searching for coherent refinements of <SAS of degree 7 and ranks [1, 3, 7, 9, 9, 7, 3, 1]>\n",
      "Summary: (7, 40, [1, 3, 7, 9, 9, 7, 3, 1], False, True, 'D6')\n"
     ]
    },
    {
     "data": {
      "application/vnd.jupyter.widget-view+json": {
       "model_id": "079ecd81b5154dbbbf4b16ad1dc71888",
       "version_major": 2,
       "version_minor": 0
      },
      "text/plain": [
       "0it [00:00, ?it/s]"
      ]
     },
     "metadata": {},
     "output_type": "display_data"
    },
    {
     "name": "stdout",
     "output_type": "stream",
     "text": [
      "Enumerating monochromatic designs on level 2\n"
     ]
    },
    {
     "data": {
      "application/vnd.jupyter.widget-view+json": {
       "model_id": "f49c7413f9894e5cbbd0f8528d0460a3",
       "version_major": 2,
       "version_minor": 0
      },
      "text/plain": [
       "0it [00:00, ?it/s]"
      ]
     },
     "metadata": {},
     "output_type": "display_data"
    },
    {
     "name": "stdout",
     "output_type": "stream",
     "text": [
      "Enumerating monochromatic designs on level 3\n"
     ]
    },
    {
     "data": {
      "application/vnd.jupyter.widget-view+json": {
       "model_id": "71fa11c1504a4d6298b231ef0dc8c552",
       "version_major": 2,
       "version_minor": 0
      },
      "text/plain": [
       "0it [00:00, ?it/s]"
      ]
     },
     "metadata": {},
     "output_type": "display_data"
    },
    {
     "name": "stdout",
     "output_type": "stream",
     "text": [
      "Testing 0 designs with WL... (triangles only)\n"
     ]
    },
    {
     "data": {
      "application/vnd.jupyter.widget-view+json": {
       "model_id": "81014e5f9d6e4922800d4be31b9dc678",
       "version_major": 2,
       "version_minor": 0
      },
      "text/plain": [
       "0it [00:00, ?it/s]"
      ]
     },
     "metadata": {},
     "output_type": "display_data"
    },
    {
     "name": "stdout",
     "output_type": "stream",
     "text": [
      "Searching for coherent refinements of <SAS of degree 7 and ranks [1, 3, 6, 8, 8, 6, 3, 1]>\n",
      "Summary: (7, 36, [1, 3, 6, 8, 8, 6, 3, 1], False, True, 'C2 x D4')\n"
     ]
    },
    {
     "data": {
      "application/vnd.jupyter.widget-view+json": {
       "model_id": "02d59df6eb27461a8baf5d9138058cfc",
       "version_major": 2,
       "version_minor": 0
      },
      "text/plain": [
       "0it [00:00, ?it/s]"
      ]
     },
     "metadata": {},
     "output_type": "display_data"
    },
    {
     "name": "stdout",
     "output_type": "stream",
     "text": [
      "Enumerating monochromatic designs on level 2\n"
     ]
    },
    {
     "data": {
      "application/vnd.jupyter.widget-view+json": {
       "model_id": "b4b314f3ebe04cb8ab2b307ee4f7f1a3",
       "version_major": 2,
       "version_minor": 0
      },
      "text/plain": [
       "0it [00:00, ?it/s]"
      ]
     },
     "metadata": {},
     "output_type": "display_data"
    },
    {
     "name": "stdout",
     "output_type": "stream",
     "text": [
      "Enumerating monochromatic designs on level 3\n"
     ]
    },
    {
     "data": {
      "application/vnd.jupyter.widget-view+json": {
       "model_id": "1268daba5b874d8394ee2dabccb73dff",
       "version_major": 2,
       "version_minor": 0
      },
      "text/plain": [
       "0it [00:00, ?it/s]"
      ]
     },
     "metadata": {},
     "output_type": "display_data"
    },
    {
     "name": "stdout",
     "output_type": "stream",
     "text": [
      "Testing 4 designs with WL... (triangles only)\n"
     ]
    },
    {
     "data": {
      "application/vnd.jupyter.widget-view+json": {
       "model_id": "2f6e7bab572f44428e28297576fe0979",
       "version_major": 2,
       "version_minor": 0
      },
      "text/plain": [
       "  0%|          | 0/4 [00:00<?, ?it/s]"
      ]
     },
     "metadata": {},
     "output_type": "display_data"
    },
    {
     "name": "stdout",
     "output_type": "stream",
     "text": [
      "Found: <SAS of degree 7 and ranks [1, 3, 7, 10, 10, 7, 3, 1]>\n",
      "Summary: (7, 42, [1, 3, 7, 10, 10, 7, 3, 1], False, True, 'C2 x C2 x C2')\n",
      "Found: <SAS of degree 7 and ranks [1, 3, 6, 9, 9, 6, 3, 1]>\n",
      "Summary: (7, 38, [1, 3, 6, 9, 9, 6, 3, 1], False, True, 'D4')\n",
      "Searching for coherent refinements of <SAS of degree 7 and ranks [1, 3, 7, 10, 10, 7, 3, 1]>\n",
      "Summary: (7, 42, [1, 3, 7, 10, 10, 7, 3, 1], False, True, 'D4')\n"
     ]
    },
    {
     "data": {
      "application/vnd.jupyter.widget-view+json": {
       "model_id": "3b86007725bf4883ba8b26255fa08e53",
       "version_major": 2,
       "version_minor": 0
      },
      "text/plain": [
       "0it [00:00, ?it/s]"
      ]
     },
     "metadata": {},
     "output_type": "display_data"
    },
    {
     "name": "stdout",
     "output_type": "stream",
     "text": [
      "Enumerating monochromatic designs on level 2\n"
     ]
    },
    {
     "data": {
      "application/vnd.jupyter.widget-view+json": {
       "model_id": "b556b8b886e9403493763ceea910528e",
       "version_major": 2,
       "version_minor": 0
      },
      "text/plain": [
       "0it [00:00, ?it/s]"
      ]
     },
     "metadata": {},
     "output_type": "display_data"
    },
    {
     "name": "stdout",
     "output_type": "stream",
     "text": [
      "Enumerating monochromatic designs on level 3\n"
     ]
    },
    {
     "data": {
      "application/vnd.jupyter.widget-view+json": {
       "model_id": "9c7561ebc5744bcdb59332ed75f5b9d9",
       "version_major": 2,
       "version_minor": 0
      },
      "text/plain": [
       "0it [00:00, ?it/s]"
      ]
     },
     "metadata": {},
     "output_type": "display_data"
    },
    {
     "name": "stdout",
     "output_type": "stream",
     "text": [
      "Testing 2 designs with WL... (triangles only)\n"
     ]
    },
    {
     "data": {
      "application/vnd.jupyter.widget-view+json": {
       "model_id": "440b8ba1521a40d5b9a2573fd5ee84f1",
       "version_major": 2,
       "version_minor": 0
      },
      "text/plain": [
       "  0%|          | 0/2 [00:00<?, ?it/s]"
      ]
     },
     "metadata": {},
     "output_type": "display_data"
    },
    {
     "name": "stdout",
     "output_type": "stream",
     "text": [
      "Found: <SAS of degree 7 and ranks [1, 3, 7, 11, 11, 7, 3, 1]>\n",
      "Summary: (7, 44, [1, 3, 7, 11, 11, 7, 3, 1], False, True, 'C4')\n",
      "Searching for coherent refinements of <SAS of degree 7 and ranks [1, 2, 3, 6, 6, 3, 2, 1]>\n",
      "Summary: (7, 24, [1, 2, 3, 6, 6, 3, 2, 1], False, True, 'A4')\n"
     ]
    },
    {
     "data": {
      "application/vnd.jupyter.widget-view+json": {
       "model_id": "67594c1b9f0343e480e026a68bb71d91",
       "version_major": 2,
       "version_minor": 0
      },
      "text/plain": [
       "0it [00:00, ?it/s]"
      ]
     },
     "metadata": {},
     "output_type": "display_data"
    },
    {
     "name": "stdout",
     "output_type": "stream",
     "text": [
      "Enumerating monochromatic designs on level 3\n"
     ]
    },
    {
     "data": {
      "application/vnd.jupyter.widget-view+json": {
       "model_id": "adbb31bad6f743c8888ad9016c48542e",
       "version_major": 2,
       "version_minor": 0
      },
      "text/plain": [
       "0it [00:00, ?it/s]"
      ]
     },
     "metadata": {},
     "output_type": "display_data"
    },
    {
     "name": "stdout",
     "output_type": "stream",
     "text": [
      "Testing 0 designs with WL... (triangles only)\n"
     ]
    },
    {
     "data": {
      "application/vnd.jupyter.widget-view+json": {
       "model_id": "bce61ae7465e4f13bfbcb1c2a3ec840e",
       "version_major": 2,
       "version_minor": 0
      },
      "text/plain": [
       "0it [00:00, ?it/s]"
      ]
     },
     "metadata": {},
     "output_type": "display_data"
    },
    {
     "name": "stdout",
     "output_type": "stream",
     "text": [
      "Searching for coherent refinements of <SAS of degree 7 and ranks [1, 3, 6, 10, 10, 6, 3, 1]>\n",
      "Summary: (7, 40, [1, 3, 6, 10, 10, 6, 3, 1], False, True, 'S3')\n"
     ]
    },
    {
     "data": {
      "application/vnd.jupyter.widget-view+json": {
       "model_id": "a520baf9ca794788acaee3e3dbc14579",
       "version_major": 2,
       "version_minor": 0
      },
      "text/plain": [
       "0it [00:00, ?it/s]"
      ]
     },
     "metadata": {},
     "output_type": "display_data"
    },
    {
     "name": "stdout",
     "output_type": "stream",
     "text": [
      "Enumerating monochromatic designs on level 2\n"
     ]
    },
    {
     "data": {
      "application/vnd.jupyter.widget-view+json": {
       "model_id": "d8a6d7a54fa64e0db82b5e11be05b7d8",
       "version_major": 2,
       "version_minor": 0
      },
      "text/plain": [
       "0it [00:00, ?it/s]"
      ]
     },
     "metadata": {},
     "output_type": "display_data"
    },
    {
     "name": "stdout",
     "output_type": "stream",
     "text": [
      "Enumerating monochromatic designs on level 3\n"
     ]
    },
    {
     "data": {
      "application/vnd.jupyter.widget-view+json": {
       "model_id": "6491da296c2f46648e88d69c5b2ef1ae",
       "version_major": 2,
       "version_minor": 0
      },
      "text/plain": [
       "0it [00:00, ?it/s]"
      ]
     },
     "metadata": {},
     "output_type": "display_data"
    },
    {
     "name": "stdout",
     "output_type": "stream",
     "text": [
      "Testing 1 designs with WL... (triangles only)\n"
     ]
    },
    {
     "data": {
      "application/vnd.jupyter.widget-view+json": {
       "model_id": "e93d61c9e6e94e60bcac96d9af2e4f05",
       "version_major": 2,
       "version_minor": 0
      },
      "text/plain": [
       "  0%|          | 0/1 [00:00<?, ?it/s]"
      ]
     },
     "metadata": {},
     "output_type": "display_data"
    },
    {
     "name": "stdout",
     "output_type": "stream",
     "text": [
      "Found: <SAS of degree 7 and ranks [1, 3, 7, 13, 13, 7, 3, 1]>\n",
      "Summary: (7, 48, [1, 3, 7, 13, 13, 7, 3, 1], False, True, 'C3')\n",
      "Searching for coherent refinements of <SAS of degree 7 and ranks [1, 3, 8, 12, 12, 8, 3, 1]>\n",
      "Summary: (7, 48, [1, 3, 8, 12, 12, 8, 3, 1], False, True, 'C2 x C2')\n"
     ]
    },
    {
     "data": {
      "application/vnd.jupyter.widget-view+json": {
       "model_id": "3aa97468db424ba8bd05cef4ca0336ac",
       "version_major": 2,
       "version_minor": 0
      },
      "text/plain": [
       "0it [00:00, ?it/s]"
      ]
     },
     "metadata": {},
     "output_type": "display_data"
    },
    {
     "name": "stdout",
     "output_type": "stream",
     "text": [
      "Enumerating monochromatic designs on level 2\n"
     ]
    },
    {
     "data": {
      "application/vnd.jupyter.widget-view+json": {
       "model_id": "09ad9fc5466d4996aae3c6e2d4c027c2",
       "version_major": 2,
       "version_minor": 0
      },
      "text/plain": [
       "0it [00:00, ?it/s]"
      ]
     },
     "metadata": {},
     "output_type": "display_data"
    },
    {
     "name": "stdout",
     "output_type": "stream",
     "text": [
      "Enumerating monochromatic designs on level 3\n"
     ]
    },
    {
     "data": {
      "application/vnd.jupyter.widget-view+json": {
       "model_id": "60212e5a5b284fceaf028285413d2552",
       "version_major": 2,
       "version_minor": 0
      },
      "text/plain": [
       "0it [00:00, ?it/s]"
      ]
     },
     "metadata": {},
     "output_type": "display_data"
    },
    {
     "name": "stdout",
     "output_type": "stream",
     "text": [
      "Testing 0 designs with WL... (triangles only)\n"
     ]
    },
    {
     "data": {
      "application/vnd.jupyter.widget-view+json": {
       "model_id": "d8d9ac2869f341819308ab974dc0e512",
       "version_major": 2,
       "version_minor": 0
      },
      "text/plain": [
       "0it [00:00, ?it/s]"
      ]
     },
     "metadata": {},
     "output_type": "display_data"
    },
    {
     "name": "stdout",
     "output_type": "stream",
     "text": [
      "Searching for coherent refinements of <SAS of degree 7 and ranks [1, 2, 5, 8, 8, 5, 2, 1]>\n",
      "Summary: (7, 32, [1, 2, 5, 8, 8, 5, 2, 1], False, True, 'S3')\n"
     ]
    },
    {
     "data": {
      "application/vnd.jupyter.widget-view+json": {
       "model_id": "964041ede9a1404f988e52d4f7c760e4",
       "version_major": 2,
       "version_minor": 0
      },
      "text/plain": [
       "0it [00:00, ?it/s]"
      ]
     },
     "metadata": {},
     "output_type": "display_data"
    },
    {
     "name": "stdout",
     "output_type": "stream",
     "text": [
      "Enumerating monochromatic designs on level 2\n"
     ]
    },
    {
     "data": {
      "application/vnd.jupyter.widget-view+json": {
       "model_id": "1e5afdd58420494ab65f292d0a34c6be",
       "version_major": 2,
       "version_minor": 0
      },
      "text/plain": [
       "0it [00:00, ?it/s]"
      ]
     },
     "metadata": {},
     "output_type": "display_data"
    },
    {
     "name": "stdout",
     "output_type": "stream",
     "text": [
      "Enumerating monochromatic designs on level 3\n"
     ]
    },
    {
     "data": {
      "application/vnd.jupyter.widget-view+json": {
       "model_id": "2630098275a54ca8b4fd91bdeac2e0f8",
       "version_major": 2,
       "version_minor": 0
      },
      "text/plain": [
       "0it [00:00, ?it/s]"
      ]
     },
     "metadata": {},
     "output_type": "display_data"
    },
    {
     "name": "stdout",
     "output_type": "stream",
     "text": [
      "Testing 0 designs with WL... (triangles only)\n"
     ]
    },
    {
     "data": {
      "application/vnd.jupyter.widget-view+json": {
       "model_id": "5cb68453e1984f54b3d255c9a81c02b9",
       "version_major": 2,
       "version_minor": 0
      },
      "text/plain": [
       "0it [00:00, ?it/s]"
      ]
     },
     "metadata": {},
     "output_type": "display_data"
    },
    {
     "name": "stdout",
     "output_type": "stream",
     "text": [
      "Searching for coherent refinements of <SAS of degree 7 and ranks [1, 2, 3, 5, 5, 3, 2, 1]>\n",
      "Summary: (7, 22, [1, 2, 3, 5, 5, 3, 2, 1], False, True, 'C2 x A4')\n"
     ]
    },
    {
     "data": {
      "application/vnd.jupyter.widget-view+json": {
       "model_id": "1d847b686afa48519b08abbc65791c37",
       "version_major": 2,
       "version_minor": 0
      },
      "text/plain": [
       "0it [00:00, ?it/s]"
      ]
     },
     "metadata": {},
     "output_type": "display_data"
    },
    {
     "name": "stdout",
     "output_type": "stream",
     "text": [
      "Enumerating monochromatic designs on level 3\n"
     ]
    },
    {
     "data": {
      "application/vnd.jupyter.widget-view+json": {
       "model_id": "04446ae6d39b4173979ca7e6aa63a872",
       "version_major": 2,
       "version_minor": 0
      },
      "text/plain": [
       "0it [00:00, ?it/s]"
      ]
     },
     "metadata": {},
     "output_type": "display_data"
    },
    {
     "name": "stdout",
     "output_type": "stream",
     "text": [
      "Testing 1 designs with WL... (triangles only)\n"
     ]
    },
    {
     "data": {
      "application/vnd.jupyter.widget-view+json": {
       "model_id": "ec0990f24e4a44bfb114c825dfeadfd8",
       "version_major": 2,
       "version_minor": 0
      },
      "text/plain": [
       "  0%|          | 0/1 [00:00<?, ?it/s]"
      ]
     },
     "metadata": {},
     "output_type": "display_data"
    },
    {
     "name": "stdout",
     "output_type": "stream",
     "text": [
      "Found: <SAS of degree 7 and ranks [1, 2, 3, 6, 6, 3, 2, 1]>\n",
      "Summary: (7, 24, [1, 2, 3, 6, 6, 3, 2, 1], False, True, 'A4')\n",
      "Searching for coherent refinements of <SAS of degree 7 and ranks [1, 2, 3, 5, 5, 3, 2, 1]>\n",
      "Summary: (7, 22, [1, 2, 3, 5, 5, 3, 2, 1], False, True, 'S4')\n"
     ]
    },
    {
     "data": {
      "application/vnd.jupyter.widget-view+json": {
       "model_id": "5e45afe6dec94969bcf841362ab541aa",
       "version_major": 2,
       "version_minor": 0
      },
      "text/plain": [
       "0it [00:00, ?it/s]"
      ]
     },
     "metadata": {},
     "output_type": "display_data"
    },
    {
     "name": "stdout",
     "output_type": "stream",
     "text": [
      "Enumerating monochromatic designs on level 3\n"
     ]
    },
    {
     "data": {
      "application/vnd.jupyter.widget-view+json": {
       "model_id": "8250b2b28c034649b1908ec5ac062e62",
       "version_major": 2,
       "version_minor": 0
      },
      "text/plain": [
       "0it [00:00, ?it/s]"
      ]
     },
     "metadata": {},
     "output_type": "display_data"
    },
    {
     "name": "stdout",
     "output_type": "stream",
     "text": [
      "Testing 1 designs with WL... (triangles only)\n"
     ]
    },
    {
     "data": {
      "application/vnd.jupyter.widget-view+json": {
       "model_id": "b106244b440a402490f5e2e024f912e0",
       "version_major": 2,
       "version_minor": 0
      },
      "text/plain": [
       "  0%|          | 0/1 [00:00<?, ?it/s]"
      ]
     },
     "metadata": {},
     "output_type": "display_data"
    },
    {
     "name": "stdout",
     "output_type": "stream",
     "text": [
      "Searching for coherent refinements of <SAS of degree 7 and ranks [1, 2, 4, 7, 7, 4, 2, 1]>\n",
      "Summary: (7, 28, [1, 2, 4, 7, 7, 4, 2, 1], False, True, 'C6')\n"
     ]
    },
    {
     "data": {
      "application/vnd.jupyter.widget-view+json": {
       "model_id": "51fe403ce28e4080897ff52973f1323a",
       "version_major": 2,
       "version_minor": 0
      },
      "text/plain": [
       "0it [00:00, ?it/s]"
      ]
     },
     "metadata": {},
     "output_type": "display_data"
    },
    {
     "name": "stdout",
     "output_type": "stream",
     "text": [
      "Enumerating monochromatic designs on level 3\n"
     ]
    },
    {
     "data": {
      "application/vnd.jupyter.widget-view+json": {
       "model_id": "42cda3c721734c55824b54904e63ba98",
       "version_major": 2,
       "version_minor": 0
      },
      "text/plain": [
       "0it [00:00, ?it/s]"
      ]
     },
     "metadata": {},
     "output_type": "display_data"
    },
    {
     "name": "stdout",
     "output_type": "stream",
     "text": [
      "Testing 0 designs with WL... (triangles only)\n"
     ]
    },
    {
     "data": {
      "application/vnd.jupyter.widget-view+json": {
       "model_id": "6ef126c4623e4e52bc664e50c6fccaf9",
       "version_major": 2,
       "version_minor": 0
      },
      "text/plain": [
       "0it [00:00, ?it/s]"
      ]
     },
     "metadata": {},
     "output_type": "display_data"
    },
    {
     "name": "stdout",
     "output_type": "stream",
     "text": [
      "Searching for coherent refinements of <SAS of degree 7 and ranks [1, 4, 8, 11, 11, 8, 4, 1]>\n",
      "Summary: (7, 48, [1, 4, 8, 11, 11, 8, 4, 1], False, True, 'D4')\n"
     ]
    },
    {
     "data": {
      "application/vnd.jupyter.widget-view+json": {
       "model_id": "1dc8c2eb2e194e35b88945479fcb521b",
       "version_major": 2,
       "version_minor": 0
      },
      "text/plain": [
       "0it [00:00, ?it/s]"
      ]
     },
     "metadata": {},
     "output_type": "display_data"
    },
    {
     "name": "stdout",
     "output_type": "stream",
     "text": [
      "Enumerating monochromatic designs on level 2\n"
     ]
    },
    {
     "data": {
      "application/vnd.jupyter.widget-view+json": {
       "model_id": "4ba42469e5bb4d1c90c165f02729132e",
       "version_major": 2,
       "version_minor": 0
      },
      "text/plain": [
       "0it [00:00, ?it/s]"
      ]
     },
     "metadata": {},
     "output_type": "display_data"
    },
    {
     "name": "stdout",
     "output_type": "stream",
     "text": [
      "Enumerating monochromatic designs on level 3\n"
     ]
    },
    {
     "data": {
      "application/vnd.jupyter.widget-view+json": {
       "model_id": "cc0c69fdf8ef40b8a06a08c24981e86b",
       "version_major": 2,
       "version_minor": 0
      },
      "text/plain": [
       "0it [00:00, ?it/s]"
      ]
     },
     "metadata": {},
     "output_type": "display_data"
    },
    {
     "name": "stdout",
     "output_type": "stream",
     "text": [
      "Testing 1 designs with WL... (triangles only)\n"
     ]
    },
    {
     "data": {
      "application/vnd.jupyter.widget-view+json": {
       "model_id": "cad985b5daf4418495c3ec41e87fbd26",
       "version_major": 2,
       "version_minor": 0
      },
      "text/plain": [
       "  0%|          | 0/1 [00:00<?, ?it/s]"
      ]
     },
     "metadata": {},
     "output_type": "display_data"
    },
    {
     "name": "stdout",
     "output_type": "stream",
     "text": [
      "Found: <SAS of degree 7 and ranks [1, 4, 9, 14, 14, 9, 4, 1]>\n",
      "Summary: (7, 56, [1, 4, 9, 14, 14, 9, 4, 1], False, True, 'C2 x C2')\n",
      "Searching for coherent refinements of <SAS of degree 7 and ranks [1, 5, 12, 18, 18, 12, 5, 1]>\n",
      "Summary: (7, 72, [1, 5, 12, 18, 18, 12, 5, 1], False, True, 'C2 x C2')\n"
     ]
    },
    {
     "data": {
      "application/vnd.jupyter.widget-view+json": {
       "model_id": "ef2e9a36fcb347cabc050209d3dd0190",
       "version_major": 2,
       "version_minor": 0
      },
      "text/plain": [
       "0it [00:00, ?it/s]"
      ]
     },
     "metadata": {},
     "output_type": "display_data"
    },
    {
     "name": "stdout",
     "output_type": "stream",
     "text": [
      "Enumerating monochromatic designs on level 1\n"
     ]
    },
    {
     "data": {
      "application/vnd.jupyter.widget-view+json": {
       "model_id": "a59aa02dff924247a9ef36b1769a57e1",
       "version_major": 2,
       "version_minor": 0
      },
      "text/plain": [
       "0it [00:00, ?it/s]"
      ]
     },
     "metadata": {},
     "output_type": "display_data"
    },
    {
     "name": "stdout",
     "output_type": "stream",
     "text": [
      "Enumerating monochromatic designs on level 2\n"
     ]
    },
    {
     "data": {
      "application/vnd.jupyter.widget-view+json": {
       "model_id": "2d88fc653c9d49ba826691b3931e8f0a",
       "version_major": 2,
       "version_minor": 0
      },
      "text/plain": [
       "0it [00:00, ?it/s]"
      ]
     },
     "metadata": {},
     "output_type": "display_data"
    },
    {
     "name": "stdout",
     "output_type": "stream",
     "text": [
      "Enumerating monochromatic designs on level 3\n"
     ]
    },
    {
     "data": {
      "application/vnd.jupyter.widget-view+json": {
       "model_id": "20cb751c87744a41a62b5c7d0ba8f7da",
       "version_major": 2,
       "version_minor": 0
      },
      "text/plain": [
       "0it [00:00, ?it/s]"
      ]
     },
     "metadata": {},
     "output_type": "display_data"
    },
    {
     "name": "stdout",
     "output_type": "stream",
     "text": [
      "Testing 2 designs with WL... (triangles only)\n"
     ]
    },
    {
     "data": {
      "application/vnd.jupyter.widget-view+json": {
       "model_id": "1a2550192fc14abcb34cc50610a6b7fa",
       "version_major": 2,
       "version_minor": 0
      },
      "text/plain": [
       "  0%|          | 0/2 [00:00<?, ?it/s]"
      ]
     },
     "metadata": {},
     "output_type": "display_data"
    },
    {
     "name": "stdout",
     "output_type": "stream",
     "text": [
      "Found: <SAS of degree 7 and ranks [1, 5, 13, 21, 21, 13, 5, 1]>\n",
      "Summary: (7, 80, [1, 5, 13, 21, 21, 13, 5, 1], False, True, 'C2')\n",
      "Found: <SAS of degree 7 and ranks [1, 6, 16, 25, 25, 16, 6, 1]>\n",
      "Summary: (7, 96, [1, 6, 16, 25, 25, 16, 6, 1], False, True, 'C2')\n",
      "Searching for coherent refinements of <SAS of degree 7 and ranks [1, 5, 11, 15, 15, 11, 5, 1]>\n",
      "Summary: (7, 64, [1, 5, 11, 15, 15, 11, 5, 1], False, True, 'S3')\n"
     ]
    },
    {
     "data": {
      "application/vnd.jupyter.widget-view+json": {
       "model_id": "e0c44ac7b6d940328ded491db90bcd4a",
       "version_major": 2,
       "version_minor": 0
      },
      "text/plain": [
       "0it [00:00, ?it/s]"
      ]
     },
     "metadata": {},
     "output_type": "display_data"
    },
    {
     "name": "stdout",
     "output_type": "stream",
     "text": [
      "Enumerating monochromatic designs on level 1\n"
     ]
    },
    {
     "data": {
      "application/vnd.jupyter.widget-view+json": {
       "model_id": "e7a8e4390c6448dda9c7f1cfc0e25881",
       "version_major": 2,
       "version_minor": 0
      },
      "text/plain": [
       "0it [00:00, ?it/s]"
      ]
     },
     "metadata": {},
     "output_type": "display_data"
    },
    {
     "name": "stdout",
     "output_type": "stream",
     "text": [
      "Enumerating monochromatic designs on level 2\n"
     ]
    },
    {
     "data": {
      "application/vnd.jupyter.widget-view+json": {
       "model_id": "f59c4786ee7845b5a18fd326852d4b26",
       "version_major": 2,
       "version_minor": 0
      },
      "text/plain": [
       "0it [00:00, ?it/s]"
      ]
     },
     "metadata": {},
     "output_type": "display_data"
    },
    {
     "name": "stdout",
     "output_type": "stream",
     "text": [
      "Enumerating monochromatic designs on level 3\n"
     ]
    },
    {
     "data": {
      "application/vnd.jupyter.widget-view+json": {
       "model_id": "36ffd4a6da444a21b3a76ac90f2f82db",
       "version_major": 2,
       "version_minor": 0
      },
      "text/plain": [
       "0it [00:00, ?it/s]"
      ]
     },
     "metadata": {},
     "output_type": "display_data"
    },
    {
     "name": "stdout",
     "output_type": "stream",
     "text": [
      "Testing 1 designs with WL... (triangles only)\n"
     ]
    },
    {
     "data": {
      "application/vnd.jupyter.widget-view+json": {
       "model_id": "e14763b76b65440f8d0b561f6722db26",
       "version_major": 2,
       "version_minor": 0
      },
      "text/plain": [
       "  0%|          | 0/1 [00:00<?, ?it/s]"
      ]
     },
     "metadata": {},
     "output_type": "display_data"
    },
    {
     "name": "stdout",
     "output_type": "stream",
     "text": [
      "Searching for coherent refinements of <SAS of degree 7 and ranks [1, 4, 10, 15, 15, 10, 4, 1]>\n",
      "Summary: (7, 60, [1, 4, 10, 15, 15, 10, 4, 1], False, True, 'C2 x C2')\n"
     ]
    },
    {
     "data": {
      "application/vnd.jupyter.widget-view+json": {
       "model_id": "32c99d9d3e964125af8439ead3623c22",
       "version_major": 2,
       "version_minor": 0
      },
      "text/plain": [
       "0it [00:00, ?it/s]"
      ]
     },
     "metadata": {},
     "output_type": "display_data"
    },
    {
     "name": "stdout",
     "output_type": "stream",
     "text": [
      "Enumerating monochromatic designs on level 2\n"
     ]
    },
    {
     "data": {
      "application/vnd.jupyter.widget-view+json": {
       "model_id": "fd7197b444544da3813e21b22a6054ce",
       "version_major": 2,
       "version_minor": 0
      },
      "text/plain": [
       "0it [00:00, ?it/s]"
      ]
     },
     "metadata": {},
     "output_type": "display_data"
    },
    {
     "name": "stdout",
     "output_type": "stream",
     "text": [
      "Enumerating monochromatic designs on level 3\n"
     ]
    },
    {
     "data": {
      "application/vnd.jupyter.widget-view+json": {
       "model_id": "a19434770ebb442282b9c35ff136ca70",
       "version_major": 2,
       "version_minor": 0
      },
      "text/plain": [
       "0it [00:00, ?it/s]"
      ]
     },
     "metadata": {},
     "output_type": "display_data"
    },
    {
     "name": "stdout",
     "output_type": "stream",
     "text": [
      "Testing 1 designs with WL... (triangles only)\n"
     ]
    },
    {
     "data": {
      "application/vnd.jupyter.widget-view+json": {
       "model_id": "28670b2276b6442db054640f84f53ac3",
       "version_major": 2,
       "version_minor": 0
      },
      "text/plain": [
       "  0%|          | 0/1 [00:00<?, ?it/s]"
      ]
     },
     "metadata": {},
     "output_type": "display_data"
    },
    {
     "name": "stdout",
     "output_type": "stream",
     "text": [
      "Found: <SAS of degree 7 and ranks [1, 4, 12, 19, 19, 12, 4, 1]>\n",
      "Summary: (7, 72, [1, 4, 12, 19, 19, 12, 4, 1], False, True, 'C2')\n",
      "Searching for coherent refinements of <SAS of degree 7 and ranks [1, 4, 9, 14, 14, 9, 4, 1]>\n",
      "Summary: (7, 56, [1, 4, 9, 14, 14, 9, 4, 1], False, True, 'C2 x C2')\n"
     ]
    },
    {
     "data": {
      "application/vnd.jupyter.widget-view+json": {
       "model_id": "56a22418329b4335811f1945909a0980",
       "version_major": 2,
       "version_minor": 0
      },
      "text/plain": [
       "0it [00:00, ?it/s]"
      ]
     },
     "metadata": {},
     "output_type": "display_data"
    },
    {
     "name": "stdout",
     "output_type": "stream",
     "text": [
      "Enumerating monochromatic designs on level 3\n"
     ]
    },
    {
     "data": {
      "application/vnd.jupyter.widget-view+json": {
       "model_id": "85ae926ea9554309950ad71380a8f8bf",
       "version_major": 2,
       "version_minor": 0
      },
      "text/plain": [
       "0it [00:00, ?it/s]"
      ]
     },
     "metadata": {},
     "output_type": "display_data"
    },
    {
     "name": "stdout",
     "output_type": "stream",
     "text": [
      "Testing 0 designs with WL... (triangles only)\n"
     ]
    },
    {
     "data": {
      "application/vnd.jupyter.widget-view+json": {
       "model_id": "29749c697c994ff1ad269ac65adf0791",
       "version_major": 2,
       "version_minor": 0
      },
      "text/plain": [
       "0it [00:00, ?it/s]"
      ]
     },
     "metadata": {},
     "output_type": "display_data"
    },
    {
     "name": "stdout",
     "output_type": "stream",
     "text": [
      "Searching for coherent refinements of <SAS of degree 7 and ranks [1, 3, 7, 10, 10, 7, 3, 1]>\n",
      "Summary: (7, 42, [1, 3, 7, 10, 10, 7, 3, 1], False, True, 'C2 x C2 x C2')\n"
     ]
    },
    {
     "data": {
      "application/vnd.jupyter.widget-view+json": {
       "model_id": "410c864453d14e1b81ca9cf119a4a040",
       "version_major": 2,
       "version_minor": 0
      },
      "text/plain": [
       "0it [00:00, ?it/s]"
      ]
     },
     "metadata": {},
     "output_type": "display_data"
    },
    {
     "name": "stdout",
     "output_type": "stream",
     "text": [
      "Enumerating monochromatic designs on level 2\n"
     ]
    },
    {
     "data": {
      "application/vnd.jupyter.widget-view+json": {
       "model_id": "d5f0b6850039428687b93413247d3411",
       "version_major": 2,
       "version_minor": 0
      },
      "text/plain": [
       "0it [00:00, ?it/s]"
      ]
     },
     "metadata": {},
     "output_type": "display_data"
    },
    {
     "name": "stdout",
     "output_type": "stream",
     "text": [
      "Enumerating monochromatic designs on level 3\n"
     ]
    },
    {
     "data": {
      "application/vnd.jupyter.widget-view+json": {
       "model_id": "9f42713acc354f2b85324a35f66920ce",
       "version_major": 2,
       "version_minor": 0
      },
      "text/plain": [
       "0it [00:00, ?it/s]"
      ]
     },
     "metadata": {},
     "output_type": "display_data"
    },
    {
     "name": "stdout",
     "output_type": "stream",
     "text": [
      "Testing 1 designs with WL... (triangles only)\n"
     ]
    },
    {
     "data": {
      "application/vnd.jupyter.widget-view+json": {
       "model_id": "deee75a3a95d4c828ca4c9ced28da26e",
       "version_major": 2,
       "version_minor": 0
      },
      "text/plain": [
       "  0%|          | 0/1 [00:00<?, ?it/s]"
      ]
     },
     "metadata": {},
     "output_type": "display_data"
    },
    {
     "name": "stdout",
     "output_type": "stream",
     "text": [
      "Searching for coherent refinements of <SAS of degree 7 and ranks [1, 3, 6, 9, 9, 6, 3, 1]>\n",
      "Summary: (7, 38, [1, 3, 6, 9, 9, 6, 3, 1], False, True, 'D4')\n"
     ]
    },
    {
     "data": {
      "application/vnd.jupyter.widget-view+json": {
       "model_id": "10f1ec2aed6349308e8d4829b64059ae",
       "version_major": 2,
       "version_minor": 0
      },
      "text/plain": [
       "0it [00:00, ?it/s]"
      ]
     },
     "metadata": {},
     "output_type": "display_data"
    },
    {
     "name": "stdout",
     "output_type": "stream",
     "text": [
      "Enumerating monochromatic designs on level 3\n"
     ]
    },
    {
     "data": {
      "application/vnd.jupyter.widget-view+json": {
       "model_id": "3657e55bc5ba4510a97b236e46aac112",
       "version_major": 2,
       "version_minor": 0
      },
      "text/plain": [
       "0it [00:00, ?it/s]"
      ]
     },
     "metadata": {},
     "output_type": "display_data"
    },
    {
     "name": "stdout",
     "output_type": "stream",
     "text": [
      "Testing 0 designs with WL... (triangles only)\n"
     ]
    },
    {
     "data": {
      "application/vnd.jupyter.widget-view+json": {
       "model_id": "5b27dd2429fe4462aadc539cbe18d81b",
       "version_major": 2,
       "version_minor": 0
      },
      "text/plain": [
       "0it [00:00, ?it/s]"
      ]
     },
     "metadata": {},
     "output_type": "display_data"
    },
    {
     "name": "stdout",
     "output_type": "stream",
     "text": [
      "Searching for coherent refinements of <SAS of degree 7 and ranks [1, 3, 7, 11, 11, 7, 3, 1]>\n",
      "Summary: (7, 44, [1, 3, 7, 11, 11, 7, 3, 1], False, True, 'C4')\n"
     ]
    },
    {
     "data": {
      "application/vnd.jupyter.widget-view+json": {
       "model_id": "1801e65bf60c46439a3426fe89268d78",
       "version_major": 2,
       "version_minor": 0
      },
      "text/plain": [
       "0it [00:00, ?it/s]"
      ]
     },
     "metadata": {},
     "output_type": "display_data"
    },
    {
     "name": "stdout",
     "output_type": "stream",
     "text": [
      "Enumerating monochromatic designs on level 3\n"
     ]
    },
    {
     "data": {
      "application/vnd.jupyter.widget-view+json": {
       "model_id": "883bf911589d40cf8956e59de792bfb2",
       "version_major": 2,
       "version_minor": 0
      },
      "text/plain": [
       "0it [00:00, ?it/s]"
      ]
     },
     "metadata": {},
     "output_type": "display_data"
    },
    {
     "name": "stdout",
     "output_type": "stream",
     "text": [
      "Testing 0 designs with WL... (triangles only)\n"
     ]
    },
    {
     "data": {
      "application/vnd.jupyter.widget-view+json": {
       "model_id": "9d656676bb3542f7a89fd2c8e3c1e8df",
       "version_major": 2,
       "version_minor": 0
      },
      "text/plain": [
       "0it [00:00, ?it/s]"
      ]
     },
     "metadata": {},
     "output_type": "display_data"
    },
    {
     "name": "stdout",
     "output_type": "stream",
     "text": [
      "Searching for coherent refinements of <SAS of degree 7 and ranks [1, 3, 7, 13, 13, 7, 3, 1]>\n",
      "Summary: (7, 48, [1, 3, 7, 13, 13, 7, 3, 1], False, True, 'C3')\n"
     ]
    },
    {
     "data": {
      "application/vnd.jupyter.widget-view+json": {
       "model_id": "8aec7f74a543491b94cd5fe7d7b91d7f",
       "version_major": 2,
       "version_minor": 0
      },
      "text/plain": [
       "0it [00:00, ?it/s]"
      ]
     },
     "metadata": {},
     "output_type": "display_data"
    },
    {
     "name": "stdout",
     "output_type": "stream",
     "text": [
      "Enumerating monochromatic designs on level 2\n"
     ]
    },
    {
     "data": {
      "application/vnd.jupyter.widget-view+json": {
       "model_id": "3293354614744424936a9a363d2d0141",
       "version_major": 2,
       "version_minor": 0
      },
      "text/plain": [
       "0it [00:00, ?it/s]"
      ]
     },
     "metadata": {},
     "output_type": "display_data"
    },
    {
     "name": "stdout",
     "output_type": "stream",
     "text": [
      "Enumerating monochromatic designs on level 3\n"
     ]
    },
    {
     "data": {
      "application/vnd.jupyter.widget-view+json": {
       "model_id": "d4c845356b72485cbaa1a22aa3434dd0",
       "version_major": 2,
       "version_minor": 0
      },
      "text/plain": [
       "0it [00:00, ?it/s]"
      ]
     },
     "metadata": {},
     "output_type": "display_data"
    },
    {
     "name": "stdout",
     "output_type": "stream",
     "text": [
      "Testing 0 designs with WL... (triangles only)\n"
     ]
    },
    {
     "data": {
      "application/vnd.jupyter.widget-view+json": {
       "model_id": "2176dd38090e49edbe5fbe2dedb58577",
       "version_major": 2,
       "version_minor": 0
      },
      "text/plain": [
       "0it [00:00, ?it/s]"
      ]
     },
     "metadata": {},
     "output_type": "display_data"
    },
    {
     "name": "stdout",
     "output_type": "stream",
     "text": [
      "Searching for coherent refinements of <SAS of degree 7 and ranks [1, 2, 3, 6, 6, 3, 2, 1]>\n",
      "Summary: (7, 24, [1, 2, 3, 6, 6, 3, 2, 1], False, True, 'A4')\n"
     ]
    },
    {
     "data": {
      "application/vnd.jupyter.widget-view+json": {
       "model_id": "e30d5e83a7da4481a0dc17eef2bc01b6",
       "version_major": 2,
       "version_minor": 0
      },
      "text/plain": [
       "0it [00:00, ?it/s]"
      ]
     },
     "metadata": {},
     "output_type": "display_data"
    },
    {
     "name": "stdout",
     "output_type": "stream",
     "text": [
      "Enumerating monochromatic designs on level 3\n"
     ]
    },
    {
     "data": {
      "application/vnd.jupyter.widget-view+json": {
       "model_id": "ec2a0389cb7f4be49f52683367bca012",
       "version_major": 2,
       "version_minor": 0
      },
      "text/plain": [
       "0it [00:00, ?it/s]"
      ]
     },
     "metadata": {},
     "output_type": "display_data"
    },
    {
     "name": "stdout",
     "output_type": "stream",
     "text": [
      "Testing 0 designs with WL... (triangles only)\n"
     ]
    },
    {
     "data": {
      "application/vnd.jupyter.widget-view+json": {
       "model_id": "6cf9b452dd624bbd83e957001bdd394f",
       "version_major": 2,
       "version_minor": 0
      },
      "text/plain": [
       "0it [00:00, ?it/s]"
      ]
     },
     "metadata": {},
     "output_type": "display_data"
    },
    {
     "name": "stdout",
     "output_type": "stream",
     "text": [
      "Searching for coherent refinements of <SAS of degree 7 and ranks [1, 4, 9, 14, 14, 9, 4, 1]>\n",
      "Summary: (7, 56, [1, 4, 9, 14, 14, 9, 4, 1], False, True, 'C2 x C2')\n"
     ]
    },
    {
     "data": {
      "application/vnd.jupyter.widget-view+json": {
       "model_id": "ea678f0f5df348fc8313a3721ed5d392",
       "version_major": 2,
       "version_minor": 0
      },
      "text/plain": [
       "0it [00:00, ?it/s]"
      ]
     },
     "metadata": {},
     "output_type": "display_data"
    },
    {
     "name": "stdout",
     "output_type": "stream",
     "text": [
      "Enumerating monochromatic designs on level 2\n"
     ]
    },
    {
     "data": {
      "application/vnd.jupyter.widget-view+json": {
       "model_id": "3ed0675a23dc4e09961c63ed88559e0c",
       "version_major": 2,
       "version_minor": 0
      },
      "text/plain": [
       "0it [00:00, ?it/s]"
      ]
     },
     "metadata": {},
     "output_type": "display_data"
    },
    {
     "name": "stdout",
     "output_type": "stream",
     "text": [
      "Enumerating monochromatic designs on level 3\n"
     ]
    },
    {
     "data": {
      "application/vnd.jupyter.widget-view+json": {
       "model_id": "87e2e6afc93a4ab094b1162520206c92",
       "version_major": 2,
       "version_minor": 0
      },
      "text/plain": [
       "0it [00:00, ?it/s]"
      ]
     },
     "metadata": {},
     "output_type": "display_data"
    },
    {
     "name": "stdout",
     "output_type": "stream",
     "text": [
      "Testing 0 designs with WL... (triangles only)\n"
     ]
    },
    {
     "data": {
      "application/vnd.jupyter.widget-view+json": {
       "model_id": "831b1975b25348f0b2d4b481558c2c0e",
       "version_major": 2,
       "version_minor": 0
      },
      "text/plain": [
       "0it [00:00, ?it/s]"
      ]
     },
     "metadata": {},
     "output_type": "display_data"
    },
    {
     "name": "stdout",
     "output_type": "stream",
     "text": [
      "Searching for coherent refinements of <SAS of degree 7 and ranks [1, 5, 13, 21, 21, 13, 5, 1]>\n",
      "Summary: (7, 80, [1, 5, 13, 21, 21, 13, 5, 1], False, True, 'C2')\n"
     ]
    },
    {
     "data": {
      "application/vnd.jupyter.widget-view+json": {
       "model_id": "30e316c21e4847a18caa93b95463ce53",
       "version_major": 2,
       "version_minor": 0
      },
      "text/plain": [
       "0it [00:00, ?it/s]"
      ]
     },
     "metadata": {},
     "output_type": "display_data"
    },
    {
     "name": "stdout",
     "output_type": "stream",
     "text": [
      "Enumerating monochromatic designs on level 2\n"
     ]
    },
    {
     "data": {
      "application/vnd.jupyter.widget-view+json": {
       "model_id": "7b317212885b422799a67685b0fa0a25",
       "version_major": 2,
       "version_minor": 0
      },
      "text/plain": [
       "0it [00:00, ?it/s]"
      ]
     },
     "metadata": {},
     "output_type": "display_data"
    },
    {
     "name": "stdout",
     "output_type": "stream",
     "text": [
      "Enumerating monochromatic designs on level 3\n"
     ]
    },
    {
     "data": {
      "application/vnd.jupyter.widget-view+json": {
       "model_id": "8972191d9ed346ae8d47f1a6bbbf9e1c",
       "version_major": 2,
       "version_minor": 0
      },
      "text/plain": [
       "0it [00:00, ?it/s]"
      ]
     },
     "metadata": {},
     "output_type": "display_data"
    },
    {
     "name": "stdout",
     "output_type": "stream",
     "text": [
      "Testing 0 designs with WL... (triangles only)\n"
     ]
    },
    {
     "data": {
      "application/vnd.jupyter.widget-view+json": {
       "model_id": "c7ded2a89aad42e59cc46a4c64316d1f",
       "version_major": 2,
       "version_minor": 0
      },
      "text/plain": [
       "0it [00:00, ?it/s]"
      ]
     },
     "metadata": {},
     "output_type": "display_data"
    },
    {
     "name": "stdout",
     "output_type": "stream",
     "text": [
      "Searching for coherent refinements of <SAS of degree 7 and ranks [1, 6, 16, 25, 25, 16, 6, 1]>\n",
      "Summary: (7, 96, [1, 6, 16, 25, 25, 16, 6, 1], False, True, 'C2')\n"
     ]
    },
    {
     "data": {
      "application/vnd.jupyter.widget-view+json": {
       "model_id": "da8131521e5e416a82badc3631d4e85b",
       "version_major": 2,
       "version_minor": 0
      },
      "text/plain": [
       "0it [00:00, ?it/s]"
      ]
     },
     "metadata": {},
     "output_type": "display_data"
    },
    {
     "name": "stdout",
     "output_type": "stream",
     "text": [
      "Enumerating monochromatic designs on level 1\n"
     ]
    },
    {
     "data": {
      "application/vnd.jupyter.widget-view+json": {
       "model_id": "d2c3a47898c3453e9f27aacc9b81b835",
       "version_major": 2,
       "version_minor": 0
      },
      "text/plain": [
       "0it [00:00, ?it/s]"
      ]
     },
     "metadata": {},
     "output_type": "display_data"
    },
    {
     "name": "stdout",
     "output_type": "stream",
     "text": [
      "Enumerating monochromatic designs on level 2\n"
     ]
    },
    {
     "data": {
      "application/vnd.jupyter.widget-view+json": {
       "model_id": "ee51ffe4bc6a42198643a41da43dfadb",
       "version_major": 2,
       "version_minor": 0
      },
      "text/plain": [
       "0it [00:00, ?it/s]"
      ]
     },
     "metadata": {},
     "output_type": "display_data"
    },
    {
     "name": "stdout",
     "output_type": "stream",
     "text": [
      "Enumerating monochromatic designs on level 3\n"
     ]
    },
    {
     "data": {
      "application/vnd.jupyter.widget-view+json": {
       "model_id": "ba52d1e939a8489d96e8e0894d271ea9",
       "version_major": 2,
       "version_minor": 0
      },
      "text/plain": [
       "0it [00:00, ?it/s]"
      ]
     },
     "metadata": {},
     "output_type": "display_data"
    },
    {
     "name": "stdout",
     "output_type": "stream",
     "text": [
      "Testing 1 designs with WL... (triangles only)\n"
     ]
    },
    {
     "data": {
      "application/vnd.jupyter.widget-view+json": {
       "model_id": "35b0ddf747964ffeba6aa1d08db9104e",
       "version_major": 2,
       "version_minor": 0
      },
      "text/plain": [
       "  0%|          | 0/1 [00:00<?, ?it/s]"
      ]
     },
     "metadata": {},
     "output_type": "display_data"
    },
    {
     "name": "stdout",
     "output_type": "stream",
     "text": [
      "Found: <SAS of degree 7 and ranks [1, 7, 21, 35, 35, 21, 7, 1]>\n",
      "Summary: (7, 128, [1, 7, 21, 35, 35, 21, 7, 1], False, True, '1')\n",
      "Searching for coherent refinements of <SAS of degree 7 and ranks [1, 4, 12, 19, 19, 12, 4, 1]>\n",
      "Summary: (7, 72, [1, 4, 12, 19, 19, 12, 4, 1], False, True, 'C2')\n"
     ]
    },
    {
     "data": {
      "application/vnd.jupyter.widget-view+json": {
       "model_id": "ef6851487ae14671983aafb53ff4ac18",
       "version_major": 2,
       "version_minor": 0
      },
      "text/plain": [
       "0it [00:00, ?it/s]"
      ]
     },
     "metadata": {},
     "output_type": "display_data"
    },
    {
     "name": "stdout",
     "output_type": "stream",
     "text": [
      "Enumerating monochromatic designs on level 2\n"
     ]
    },
    {
     "data": {
      "application/vnd.jupyter.widget-view+json": {
       "model_id": "c625d51bc9e843a3ace02d984be2c8aa",
       "version_major": 2,
       "version_minor": 0
      },
      "text/plain": [
       "0it [00:00, ?it/s]"
      ]
     },
     "metadata": {},
     "output_type": "display_data"
    },
    {
     "name": "stdout",
     "output_type": "stream",
     "text": [
      "Enumerating monochromatic designs on level 3\n"
     ]
    },
    {
     "data": {
      "application/vnd.jupyter.widget-view+json": {
       "model_id": "b7301e59d6274352a0d3deced9a744eb",
       "version_major": 2,
       "version_minor": 0
      },
      "text/plain": [
       "0it [00:00, ?it/s]"
      ]
     },
     "metadata": {},
     "output_type": "display_data"
    },
    {
     "name": "stdout",
     "output_type": "stream",
     "text": [
      "Testing 0 designs with WL... (triangles only)\n"
     ]
    },
    {
     "data": {
      "application/vnd.jupyter.widget-view+json": {
       "model_id": "b44c56b8e9d34c36a7c9e4e19b1b6b60",
       "version_major": 2,
       "version_minor": 0
      },
      "text/plain": [
       "0it [00:00, ?it/s]"
      ]
     },
     "metadata": {},
     "output_type": "display_data"
    },
    {
     "name": "stdout",
     "output_type": "stream",
     "text": [
      "Searching for coherent refinements of <SAS of degree 7 and ranks [1, 7, 21, 35, 35, 21, 7, 1]>\n",
      "Summary: (7, 128, [1, 7, 21, 35, 35, 21, 7, 1], False, True, '1')\n"
     ]
    },
    {
     "data": {
      "application/vnd.jupyter.widget-view+json": {
       "model_id": "d61a81f90edf43fc9ae3a534ffa3087d",
       "version_major": 2,
       "version_minor": 0
      },
      "text/plain": [
       "0it [00:00, ?it/s]"
      ]
     },
     "metadata": {},
     "output_type": "display_data"
    },
    {
     "name": "stdout",
     "output_type": "stream",
     "text": [
      "Enumerating monochromatic designs on level 1\n"
     ]
    },
    {
     "data": {
      "application/vnd.jupyter.widget-view+json": {
       "model_id": "9fad992b1996430f87547bb643cffabd",
       "version_major": 2,
       "version_minor": 0
      },
      "text/plain": [
       "0it [00:00, ?it/s]"
      ]
     },
     "metadata": {},
     "output_type": "display_data"
    },
    {
     "name": "stdout",
     "output_type": "stream",
     "text": [
      "Enumerating monochromatic designs on level 2\n"
     ]
    },
    {
     "data": {
      "application/vnd.jupyter.widget-view+json": {
       "model_id": "bc03c67e42d348988ee0eeb46e97cfac",
       "version_major": 2,
       "version_minor": 0
      },
      "text/plain": [
       "0it [00:00, ?it/s]"
      ]
     },
     "metadata": {},
     "output_type": "display_data"
    },
    {
     "name": "stdout",
     "output_type": "stream",
     "text": [
      "Enumerating monochromatic designs on level 3\n"
     ]
    },
    {
     "data": {
      "application/vnd.jupyter.widget-view+json": {
       "model_id": "07088d4807764d5eac171b39123ed8b5",
       "version_major": 2,
       "version_minor": 0
      },
      "text/plain": [
       "0it [00:00, ?it/s]"
      ]
     },
     "metadata": {},
     "output_type": "display_data"
    },
    {
     "name": "stdout",
     "output_type": "stream",
     "text": [
      "Testing 0 designs with WL... (triangles only)\n"
     ]
    },
    {
     "data": {
      "application/vnd.jupyter.widget-view+json": {
       "model_id": "843f4da2aa6b4ea5a5ec1deff50e9258",
       "version_major": 2,
       "version_minor": 0
      },
      "text/plain": [
       "0it [00:00, ?it/s]"
      ]
     },
     "metadata": {},
     "output_type": "display_data"
    }
   ],
   "source": [
    "all_sas = []\n",
    "all_sas.extend(SAS.find_all(n, verbosity=2))"
   ]
  },
  {
   "cell_type": "code",
   "execution_count": 12,
   "metadata": {},
   "outputs": [
    {
     "data": {
      "text/html": [
       "<div class=\"notruncate\">\n",
       "<table  class=\"table_form\">\n",
       "<tbody>\n",
       "<tr>\n",
       "<th>n</th>\n",
       "<th>total rank</th>\n",
       "<th>ranks</th>\n",
       "<th>homogeneous?</th>\n",
       "<th>schurian?</th>\n",
       "<th><script type=\"math/tex\">\\mathrm{Aut}(\\mathfrak{X})</script></th>\n",
       "</tr>\n",
       "<tr class =\"row-a\">\n",
       "<td><script type=\"math/tex\">7</script></td>\n",
       "<td><script type=\"math/tex\">8</script></td>\n",
       "<td><script type=\"math/tex\">\\left[1, 1, 1, 1, 1, 1, 1, 1\\right]</script></td>\n",
       "<td><script type=\"math/tex\">\\mathrm{True}</script></td>\n",
       "<td><script type=\"math/tex\">\\mathrm{True}</script></td>\n",
       "<td>S7</td>\n",
       "</tr>\n",
       "<tr class =\"row-b\">\n",
       "<td><script type=\"math/tex\">7</script></td>\n",
       "<td><script type=\"math/tex\">18</script></td>\n",
       "<td><script type=\"math/tex\">\\left[1, 1, 3, 4, 4, 3, 1, 1\\right]</script></td>\n",
       "<td><script type=\"math/tex\">\\mathrm{True}</script></td>\n",
       "<td><script type=\"math/tex\">\\mathrm{True}</script></td>\n",
       "<td>D7</td>\n",
       "</tr>\n",
       "<tr class =\"row-a\">\n",
       "<td><script type=\"math/tex\">7</script></td>\n",
       "<td><script type=\"math/tex\">10</script></td>\n",
       "<td><script type=\"math/tex\">\\left[1, 1, 1, 2, 2, 1, 1, 1\\right]</script></td>\n",
       "<td><script type=\"math/tex\">\\mathrm{True}</script></td>\n",
       "<td><script type=\"math/tex\">\\mathrm{True}</script></td>\n",
       "<td>PSL(3,2)</td>\n",
       "</tr>\n",
       "<tr class =\"row-b\">\n",
       "<td><script type=\"math/tex\">7</script></td>\n",
       "<td><script type=\"math/tex\">18</script></td>\n",
       "<td><script type=\"math/tex\">\\left[1, 2, 3, 3, 3, 3, 2, 1\\right]</script></td>\n",
       "<td><script type=\"math/tex\">\\mathrm{False}</script></td>\n",
       "<td><script type=\"math/tex\">\\mathrm{True}</script></td>\n",
       "<td>C2 x S5</td>\n",
       "</tr>\n",
       "<tr class =\"row-a\">\n",
       "<td><script type=\"math/tex\">7</script></td>\n",
       "<td><script type=\"math/tex\">10</script></td>\n",
       "<td><script type=\"math/tex\">\\left[1, 1, 1, 2, 2, 1, 1, 1\\right]</script></td>\n",
       "<td><script type=\"math/tex\">\\mathrm{True}</script></td>\n",
       "<td><script type=\"math/tex\">\\mathrm{True}</script></td>\n",
       "<td>C7 : C6</td>\n",
       "</tr>\n",
       "<tr class =\"row-b\">\n",
       "<td><script type=\"math/tex\">7</script></td>\n",
       "<td><script type=\"math/tex\">20</script></td>\n",
       "<td><script type=\"math/tex\">\\left[1, 2, 3, 4, 4, 3, 2, 1\\right]</script></td>\n",
       "<td><script type=\"math/tex\">\\mathrm{False}</script></td>\n",
       "<td><script type=\"math/tex\">\\mathrm{True}</script></td>\n",
       "<td>S3 x S4</td>\n",
       "</tr>\n",
       "<tr class =\"row-a\">\n",
       "<td><script type=\"math/tex\">7</script></td>\n",
       "<td><script type=\"math/tex\">24</script></td>\n",
       "<td><script type=\"math/tex\">\\left[1, 2, 4, 5, 5, 4, 2, 1\\right]</script></td>\n",
       "<td><script type=\"math/tex\">\\mathrm{False}</script></td>\n",
       "<td><script type=\"math/tex\">\\mathrm{True}</script></td>\n",
       "<td>D4 x S3</td>\n",
       "</tr>\n",
       "<tr class =\"row-b\">\n",
       "<td><script type=\"math/tex\">7</script></td>\n",
       "<td><script type=\"math/tex\">14</script></td>\n",
       "<td><script type=\"math/tex\">\\left[1, 2, 2, 2, 2, 2, 2, 1\\right]</script></td>\n",
       "<td><script type=\"math/tex\">\\mathrm{False}</script></td>\n",
       "<td><script type=\"math/tex\">\\mathrm{True}</script></td>\n",
       "<td>S6</td>\n",
       "</tr>\n",
       "<tr class =\"row-a\">\n",
       "<td><script type=\"math/tex\">7</script></td>\n",
       "<td><script type=\"math/tex\">20</script></td>\n",
       "<td><script type=\"math/tex\">\\left[1, 1, 3, 5, 5, 3, 1, 1\\right]</script></td>\n",
       "<td><script type=\"math/tex\">\\mathrm{True}</script></td>\n",
       "<td><script type=\"math/tex\">\\mathrm{True}</script></td>\n",
       "<td>C7</td>\n",
       "</tr>\n",
       "<tr class =\"row-b\">\n",
       "<td><script type=\"math/tex\">7</script></td>\n",
       "<td><script type=\"math/tex\">12</script></td>\n",
       "<td><script type=\"math/tex\">\\left[1, 1, 1, 3, 3, 1, 1, 1\\right]</script></td>\n",
       "<td><script type=\"math/tex\">\\mathrm{True}</script></td>\n",
       "<td><script type=\"math/tex\">\\mathrm{True}</script></td>\n",
       "<td>C7 : C3</td>\n",
       "</tr>\n",
       "<tr class =\"row-a\">\n",
       "<td><script type=\"math/tex\">7</script></td>\n",
       "<td><script type=\"math/tex\">20</script></td>\n",
       "<td><script type=\"math/tex\">\\left[1, 2, 3, 4, 4, 3, 2, 1\\right]</script></td>\n",
       "<td><script type=\"math/tex\">\\mathrm{False}</script></td>\n",
       "<td><script type=\"math/tex\">\\mathrm{True}</script></td>\n",
       "<td>C5 : C4</td>\n",
       "</tr>\n",
       "<tr class =\"row-b\">\n",
       "<td><script type=\"math/tex\">7</script></td>\n",
       "<td><script type=\"math/tex\">24</script></td>\n",
       "<td><script type=\"math/tex\">\\left[1, 3, 4, 4, 4, 4, 3, 1\\right]</script></td>\n",
       "<td><script type=\"math/tex\">\\mathrm{False}</script></td>\n",
       "<td><script type=\"math/tex\">\\mathrm{True}</script></td>\n",
       "<td>S5</td>\n",
       "</tr>\n",
       "<tr class =\"row-a\">\n",
       "<td><script type=\"math/tex\">7</script></td>\n",
       "<td><script type=\"math/tex\">24</script></td>\n",
       "<td><script type=\"math/tex\">\\left[1, 2, 4, 5, 5, 4, 2, 1\\right]</script></td>\n",
       "<td><script type=\"math/tex\">\\mathrm{False}</script></td>\n",
       "<td><script type=\"math/tex\">\\mathrm{True}</script></td>\n",
       "<td>D10</td>\n",
       "</tr>\n",
       "<tr class =\"row-b\">\n",
       "<td><script type=\"math/tex\">7</script></td>\n",
       "<td><script type=\"math/tex\">36</script></td>\n",
       "<td><script type=\"math/tex\">\\left[1, 3, 6, 8, 8, 6, 3, 1\\right]</script></td>\n",
       "<td><script type=\"math/tex\">\\mathrm{False}</script></td>\n",
       "<td><script type=\"math/tex\">\\mathrm{True}</script></td>\n",
       "<td>C2 x C2 x S3</td>\n",
       "</tr>\n",
       "<tr class =\"row-a\">\n",
       "<td><script type=\"math/tex\">7</script></td>\n",
       "<td><script type=\"math/tex\">30</script></td>\n",
       "<td><script type=\"math/tex\">\\left[1, 3, 5, 6, 6, 5, 3, 1\\right]</script></td>\n",
       "<td><script type=\"math/tex\">\\mathrm{False}</script></td>\n",
       "<td><script type=\"math/tex\">\\mathrm{True}</script></td>\n",
       "<td>C2 x S4</td>\n",
       "</tr>\n",
       "<tr class =\"row-b\">\n",
       "<td><script type=\"math/tex\">7</script></td>\n",
       "<td><script type=\"math/tex\">22</script></td>\n",
       "<td><script type=\"math/tex\">\\left[1, 2, 3, 5, 5, 3, 2, 1\\right]</script></td>\n",
       "<td><script type=\"math/tex\">\\mathrm{False}</script></td>\n",
       "<td><script type=\"math/tex\">\\mathrm{True}</script></td>\n",
       "<td>S4</td>\n",
       "</tr>\n",
       "<tr class =\"row-a\">\n",
       "<td><script type=\"math/tex\">7</script></td>\n",
       "<td><script type=\"math/tex\">32</script></td>\n",
       "<td><script type=\"math/tex\">\\left[1, 3, 5, 7, 7, 5, 3, 1\\right]</script></td>\n",
       "<td><script type=\"math/tex\">\\mathrm{False}</script></td>\n",
       "<td><script type=\"math/tex\">\\mathrm{True}</script></td>\n",
       "<td>S3 x S3</td>\n",
       "</tr>\n",
       "<tr class =\"row-b\">\n",
       "<td><script type=\"math/tex\">7</script></td>\n",
       "<td><script type=\"math/tex\">28</script></td>\n",
       "<td><script type=\"math/tex\">\\left[1, 2, 5, 6, 6, 5, 2, 1\\right]</script></td>\n",
       "<td><script type=\"math/tex\">\\mathrm{False}</script></td>\n",
       "<td><script type=\"math/tex\">\\mathrm{True}</script></td>\n",
       "<td>C2 x C2 x S3</td>\n",
       "</tr>\n",
       "<tr class =\"row-a\">\n",
       "<td><script type=\"math/tex\">7</script></td>\n",
       "<td><script type=\"math/tex\">20</script></td>\n",
       "<td><script type=\"math/tex\">\\left[1, 2, 3, 4, 4, 3, 2, 1\\right]</script></td>\n",
       "<td><script type=\"math/tex\">\\mathrm{False}</script></td>\n",
       "<td><script type=\"math/tex\">\\mathrm{True}</script></td>\n",
       "<td>C2 x S4</td>\n",
       "</tr>\n",
       "<tr class =\"row-b\">\n",
       "<td><script type=\"math/tex\">7</script></td>\n",
       "<td><script type=\"math/tex\">20</script></td>\n",
       "<td><script type=\"math/tex\">\\left[1, 2, 3, 4, 4, 3, 2, 1\\right]</script></td>\n",
       "<td><script type=\"math/tex\">\\mathrm{False}</script></td>\n",
       "<td><script type=\"math/tex\">\\mathrm{True}</script></td>\n",
       "<td>(S3 x S3) : C2</td>\n",
       "</tr>\n",
       "<tr class =\"row-a\">\n",
       "<td><script type=\"math/tex\">7</script></td>\n",
       "<td><script type=\"math/tex\">26</script></td>\n",
       "<td><script type=\"math/tex\">\\left[1, 2, 4, 6, 6, 4, 2, 1\\right]</script></td>\n",
       "<td><script type=\"math/tex\">\\mathrm{False}</script></td>\n",
       "<td><script type=\"math/tex\">\\mathrm{True}</script></td>\n",
       "<td>D6</td>\n",
       "</tr>\n",
       "<tr class =\"row-b\">\n",
       "<td><script type=\"math/tex\">7</script></td>\n",
       "<td><script type=\"math/tex\">16</script></td>\n",
       "<td><script type=\"math/tex\">\\left[1, 2, 2, 3, 3, 2, 2, 1\\right]</script></td>\n",
       "<td><script type=\"math/tex\">\\mathrm{False}</script></td>\n",
       "<td><script type=\"math/tex\">\\mathrm{True}</script></td>\n",
       "<td>A5</td>\n",
       "</tr>\n",
       "<tr class =\"row-a\">\n",
       "<td><script type=\"math/tex\">7</script></td>\n",
       "<td><script type=\"math/tex\">32</script></td>\n",
       "<td><script type=\"math/tex\">\\left[1, 3, 5, 7, 7, 5, 3, 1\\right]</script></td>\n",
       "<td><script type=\"math/tex\">\\mathrm{False}</script></td>\n",
       "<td><script type=\"math/tex\">\\mathrm{True}</script></td>\n",
       "<td>D5</td>\n",
       "</tr>\n",
       "<tr class =\"row-b\">\n",
       "<td><script type=\"math/tex\">7</script></td>\n",
       "<td><script type=\"math/tex\">40</script></td>\n",
       "<td><script type=\"math/tex\">\\left[1, 4, 7, 8, 8, 7, 4, 1\\right]</script></td>\n",
       "<td><script type=\"math/tex\">\\mathrm{False}</script></td>\n",
       "<td><script type=\"math/tex\">\\mathrm{True}</script></td>\n",
       "<td>S4</td>\n",
       "</tr>\n",
       "<tr class =\"row-a\">\n",
       "<td><script type=\"math/tex\">7</script></td>\n",
       "<td><script type=\"math/tex\">48</script></td>\n",
       "<td><script type=\"math/tex\">\\left[1, 4, 8, 11, 11, 8, 4, 1\\right]</script></td>\n",
       "<td><script type=\"math/tex\">\\mathrm{False}</script></td>\n",
       "<td><script type=\"math/tex\">\\mathrm{True}</script></td>\n",
       "<td>D6</td>\n",
       "</tr>\n",
       "<tr class =\"row-b\">\n",
       "<td><script type=\"math/tex\">7</script></td>\n",
       "<td><script type=\"math/tex\">54</script></td>\n",
       "<td><script type=\"math/tex\">\\left[1, 4, 9, 13, 13, 9, 4, 1\\right]</script></td>\n",
       "<td><script type=\"math/tex\">\\mathrm{False}</script></td>\n",
       "<td><script type=\"math/tex\">\\mathrm{True}</script></td>\n",
       "<td>C2 x C2 x C2</td>\n",
       "</tr>\n",
       "<tr class =\"row-a\">\n",
       "<td><script type=\"math/tex\">7</script></td>\n",
       "<td><script type=\"math/tex\">40</script></td>\n",
       "<td><script type=\"math/tex\">\\left[1, 3, 7, 9, 9, 7, 3, 1\\right]</script></td>\n",
       "<td><script type=\"math/tex\">\\mathrm{False}</script></td>\n",
       "<td><script type=\"math/tex\">\\mathrm{True}</script></td>\n",
       "<td>D6</td>\n",
       "</tr>\n",
       "<tr class =\"row-b\">\n",
       "<td><script type=\"math/tex\">7</script></td>\n",
       "<td><script type=\"math/tex\">36</script></td>\n",
       "<td><script type=\"math/tex\">\\left[1, 3, 6, 8, 8, 6, 3, 1\\right]</script></td>\n",
       "<td><script type=\"math/tex\">\\mathrm{False}</script></td>\n",
       "<td><script type=\"math/tex\">\\mathrm{True}</script></td>\n",
       "<td>C2 x D4</td>\n",
       "</tr>\n",
       "<tr class =\"row-a\">\n",
       "<td><script type=\"math/tex\">7</script></td>\n",
       "<td><script type=\"math/tex\">42</script></td>\n",
       "<td><script type=\"math/tex\">\\left[1, 3, 7, 10, 10, 7, 3, 1\\right]</script></td>\n",
       "<td><script type=\"math/tex\">\\mathrm{False}</script></td>\n",
       "<td><script type=\"math/tex\">\\mathrm{True}</script></td>\n",
       "<td>D4</td>\n",
       "</tr>\n",
       "<tr class =\"row-b\">\n",
       "<td><script type=\"math/tex\">7</script></td>\n",
       "<td><script type=\"math/tex\">24</script></td>\n",
       "<td><script type=\"math/tex\">\\left[1, 2, 3, 6, 6, 3, 2, 1\\right]</script></td>\n",
       "<td><script type=\"math/tex\">\\mathrm{False}</script></td>\n",
       "<td><script type=\"math/tex\">\\mathrm{True}</script></td>\n",
       "<td>A4</td>\n",
       "</tr>\n",
       "<tr class =\"row-a\">\n",
       "<td><script type=\"math/tex\">7</script></td>\n",
       "<td><script type=\"math/tex\">40</script></td>\n",
       "<td><script type=\"math/tex\">\\left[1, 3, 6, 10, 10, 6, 3, 1\\right]</script></td>\n",
       "<td><script type=\"math/tex\">\\mathrm{False}</script></td>\n",
       "<td><script type=\"math/tex\">\\mathrm{True}</script></td>\n",
       "<td>S3</td>\n",
       "</tr>\n",
       "<tr class =\"row-b\">\n",
       "<td><script type=\"math/tex\">7</script></td>\n",
       "<td><script type=\"math/tex\">48</script></td>\n",
       "<td><script type=\"math/tex\">\\left[1, 3, 8, 12, 12, 8, 3, 1\\right]</script></td>\n",
       "<td><script type=\"math/tex\">\\mathrm{False}</script></td>\n",
       "<td><script type=\"math/tex\">\\mathrm{True}</script></td>\n",
       "<td>C2 x C2</td>\n",
       "</tr>\n",
       "<tr class =\"row-a\">\n",
       "<td><script type=\"math/tex\">7</script></td>\n",
       "<td><script type=\"math/tex\">32</script></td>\n",
       "<td><script type=\"math/tex\">\\left[1, 2, 5, 8, 8, 5, 2, 1\\right]</script></td>\n",
       "<td><script type=\"math/tex\">\\mathrm{False}</script></td>\n",
       "<td><script type=\"math/tex\">\\mathrm{True}</script></td>\n",
       "<td>S3</td>\n",
       "</tr>\n",
       "<tr class =\"row-b\">\n",
       "<td><script type=\"math/tex\">7</script></td>\n",
       "<td><script type=\"math/tex\">22</script></td>\n",
       "<td><script type=\"math/tex\">\\left[1, 2, 3, 5, 5, 3, 2, 1\\right]</script></td>\n",
       "<td><script type=\"math/tex\">\\mathrm{False}</script></td>\n",
       "<td><script type=\"math/tex\">\\mathrm{True}</script></td>\n",
       "<td>C2 x A4</td>\n",
       "</tr>\n",
       "<tr class =\"row-a\">\n",
       "<td><script type=\"math/tex\">7</script></td>\n",
       "<td><script type=\"math/tex\">22</script></td>\n",
       "<td><script type=\"math/tex\">\\left[1, 2, 3, 5, 5, 3, 2, 1\\right]</script></td>\n",
       "<td><script type=\"math/tex\">\\mathrm{False}</script></td>\n",
       "<td><script type=\"math/tex\">\\mathrm{True}</script></td>\n",
       "<td>S4</td>\n",
       "</tr>\n",
       "<tr class =\"row-b\">\n",
       "<td><script type=\"math/tex\">7</script></td>\n",
       "<td><script type=\"math/tex\">28</script></td>\n",
       "<td><script type=\"math/tex\">\\left[1, 2, 4, 7, 7, 4, 2, 1\\right]</script></td>\n",
       "<td><script type=\"math/tex\">\\mathrm{False}</script></td>\n",
       "<td><script type=\"math/tex\">\\mathrm{True}</script></td>\n",
       "<td>C6</td>\n",
       "</tr>\n",
       "<tr class =\"row-a\">\n",
       "<td><script type=\"math/tex\">7</script></td>\n",
       "<td><script type=\"math/tex\">48</script></td>\n",
       "<td><script type=\"math/tex\">\\left[1, 4, 8, 11, 11, 8, 4, 1\\right]</script></td>\n",
       "<td><script type=\"math/tex\">\\mathrm{False}</script></td>\n",
       "<td><script type=\"math/tex\">\\mathrm{True}</script></td>\n",
       "<td>D4</td>\n",
       "</tr>\n",
       "<tr class =\"row-b\">\n",
       "<td><script type=\"math/tex\">7</script></td>\n",
       "<td><script type=\"math/tex\">72</script></td>\n",
       "<td><script type=\"math/tex\">\\left[1, 5, 12, 18, 18, 12, 5, 1\\right]</script></td>\n",
       "<td><script type=\"math/tex\">\\mathrm{False}</script></td>\n",
       "<td><script type=\"math/tex\">\\mathrm{True}</script></td>\n",
       "<td>C2 x C2</td>\n",
       "</tr>\n",
       "<tr class =\"row-a\">\n",
       "<td><script type=\"math/tex\">7</script></td>\n",
       "<td><script type=\"math/tex\">64</script></td>\n",
       "<td><script type=\"math/tex\">\\left[1, 5, 11, 15, 15, 11, 5, 1\\right]</script></td>\n",
       "<td><script type=\"math/tex\">\\mathrm{False}</script></td>\n",
       "<td><script type=\"math/tex\">\\mathrm{True}</script></td>\n",
       "<td>S3</td>\n",
       "</tr>\n",
       "<tr class =\"row-b\">\n",
       "<td><script type=\"math/tex\">7</script></td>\n",
       "<td><script type=\"math/tex\">60</script></td>\n",
       "<td><script type=\"math/tex\">\\left[1, 4, 10, 15, 15, 10, 4, 1\\right]</script></td>\n",
       "<td><script type=\"math/tex\">\\mathrm{False}</script></td>\n",
       "<td><script type=\"math/tex\">\\mathrm{True}</script></td>\n",
       "<td>C2 x C2</td>\n",
       "</tr>\n",
       "<tr class =\"row-a\">\n",
       "<td><script type=\"math/tex\">7</script></td>\n",
       "<td><script type=\"math/tex\">56</script></td>\n",
       "<td><script type=\"math/tex\">\\left[1, 4, 9, 14, 14, 9, 4, 1\\right]</script></td>\n",
       "<td><script type=\"math/tex\">\\mathrm{False}</script></td>\n",
       "<td><script type=\"math/tex\">\\mathrm{True}</script></td>\n",
       "<td>C2 x C2</td>\n",
       "</tr>\n",
       "<tr class =\"row-b\">\n",
       "<td><script type=\"math/tex\">7</script></td>\n",
       "<td><script type=\"math/tex\">42</script></td>\n",
       "<td><script type=\"math/tex\">\\left[1, 3, 7, 10, 10, 7, 3, 1\\right]</script></td>\n",
       "<td><script type=\"math/tex\">\\mathrm{False}</script></td>\n",
       "<td><script type=\"math/tex\">\\mathrm{True}</script></td>\n",
       "<td>C2 x C2 x C2</td>\n",
       "</tr>\n",
       "<tr class =\"row-a\">\n",
       "<td><script type=\"math/tex\">7</script></td>\n",
       "<td><script type=\"math/tex\">38</script></td>\n",
       "<td><script type=\"math/tex\">\\left[1, 3, 6, 9, 9, 6, 3, 1\\right]</script></td>\n",
       "<td><script type=\"math/tex\">\\mathrm{False}</script></td>\n",
       "<td><script type=\"math/tex\">\\mathrm{True}</script></td>\n",
       "<td>D4</td>\n",
       "</tr>\n",
       "<tr class =\"row-b\">\n",
       "<td><script type=\"math/tex\">7</script></td>\n",
       "<td><script type=\"math/tex\">44</script></td>\n",
       "<td><script type=\"math/tex\">\\left[1, 3, 7, 11, 11, 7, 3, 1\\right]</script></td>\n",
       "<td><script type=\"math/tex\">\\mathrm{False}</script></td>\n",
       "<td><script type=\"math/tex\">\\mathrm{True}</script></td>\n",
       "<td>C4</td>\n",
       "</tr>\n",
       "<tr class =\"row-a\">\n",
       "<td><script type=\"math/tex\">7</script></td>\n",
       "<td><script type=\"math/tex\">48</script></td>\n",
       "<td><script type=\"math/tex\">\\left[1, 3, 7, 13, 13, 7, 3, 1\\right]</script></td>\n",
       "<td><script type=\"math/tex\">\\mathrm{False}</script></td>\n",
       "<td><script type=\"math/tex\">\\mathrm{True}</script></td>\n",
       "<td>C3</td>\n",
       "</tr>\n",
       "<tr class =\"row-b\">\n",
       "<td><script type=\"math/tex\">7</script></td>\n",
       "<td><script type=\"math/tex\">24</script></td>\n",
       "<td><script type=\"math/tex\">\\left[1, 2, 3, 6, 6, 3, 2, 1\\right]</script></td>\n",
       "<td><script type=\"math/tex\">\\mathrm{False}</script></td>\n",
       "<td><script type=\"math/tex\">\\mathrm{True}</script></td>\n",
       "<td>A4</td>\n",
       "</tr>\n",
       "<tr class =\"row-a\">\n",
       "<td><script type=\"math/tex\">7</script></td>\n",
       "<td><script type=\"math/tex\">56</script></td>\n",
       "<td><script type=\"math/tex\">\\left[1, 4, 9, 14, 14, 9, 4, 1\\right]</script></td>\n",
       "<td><script type=\"math/tex\">\\mathrm{False}</script></td>\n",
       "<td><script type=\"math/tex\">\\mathrm{True}</script></td>\n",
       "<td>C2 x C2</td>\n",
       "</tr>\n",
       "<tr class =\"row-b\">\n",
       "<td><script type=\"math/tex\">7</script></td>\n",
       "<td><script type=\"math/tex\">80</script></td>\n",
       "<td><script type=\"math/tex\">\\left[1, 5, 13, 21, 21, 13, 5, 1\\right]</script></td>\n",
       "<td><script type=\"math/tex\">\\mathrm{False}</script></td>\n",
       "<td><script type=\"math/tex\">\\mathrm{True}</script></td>\n",
       "<td>C2</td>\n",
       "</tr>\n",
       "<tr class =\"row-a\">\n",
       "<td><script type=\"math/tex\">7</script></td>\n",
       "<td><script type=\"math/tex\">96</script></td>\n",
       "<td><script type=\"math/tex\">\\left[1, 6, 16, 25, 25, 16, 6, 1\\right]</script></td>\n",
       "<td><script type=\"math/tex\">\\mathrm{False}</script></td>\n",
       "<td><script type=\"math/tex\">\\mathrm{True}</script></td>\n",
       "<td>C2</td>\n",
       "</tr>\n",
       "<tr class =\"row-b\">\n",
       "<td><script type=\"math/tex\">7</script></td>\n",
       "<td><script type=\"math/tex\">72</script></td>\n",
       "<td><script type=\"math/tex\">\\left[1, 4, 12, 19, 19, 12, 4, 1\\right]</script></td>\n",
       "<td><script type=\"math/tex\">\\mathrm{False}</script></td>\n",
       "<td><script type=\"math/tex\">\\mathrm{True}</script></td>\n",
       "<td>C2</td>\n",
       "</tr>\n",
       "<tr class =\"row-a\">\n",
       "<td><script type=\"math/tex\">7</script></td>\n",
       "<td><script type=\"math/tex\">128</script></td>\n",
       "<td><script type=\"math/tex\">\\left[1, 7, 21, 35, 35, 21, 7, 1\\right]</script></td>\n",
       "<td><script type=\"math/tex\">\\mathrm{False}</script></td>\n",
       "<td><script type=\"math/tex\">\\mathrm{True}</script></td>\n",
       "<td>1</td>\n",
       "</tr>\n",
       "</tbody>\n",
       "</table>\n",
       "</div>"
      ],
      "text/plain": [
       "  n   total rank   ranks                          homogeneous?   schurian?   $\\mathrm{Aut}(\\mathfrak{X})$\n",
       "+---+------------+------------------------------+--------------+-----------+------------------------------+\n",
       "  7   8            [1, 1, 1, 1, 1, 1, 1, 1]       True           True        S7\n",
       "  7   18           [1, 1, 3, 4, 4, 3, 1, 1]       True           True        D7\n",
       "  7   10           [1, 1, 1, 2, 2, 1, 1, 1]       True           True        PSL(3,2)\n",
       "  7   18           [1, 2, 3, 3, 3, 3, 2, 1]       False          True        C2 x S5\n",
       "  7   10           [1, 1, 1, 2, 2, 1, 1, 1]       True           True        C7 : C6\n",
       "  7   20           [1, 2, 3, 4, 4, 3, 2, 1]       False          True        S3 x S4\n",
       "  7   24           [1, 2, 4, 5, 5, 4, 2, 1]       False          True        D4 x S3\n",
       "  7   14           [1, 2, 2, 2, 2, 2, 2, 1]       False          True        S6\n",
       "  7   20           [1, 1, 3, 5, 5, 3, 1, 1]       True           True        C7\n",
       "  7   12           [1, 1, 1, 3, 3, 1, 1, 1]       True           True        C7 : C3\n",
       "  7   20           [1, 2, 3, 4, 4, 3, 2, 1]       False          True        C5 : C4\n",
       "  7   24           [1, 3, 4, 4, 4, 4, 3, 1]       False          True        S5\n",
       "  7   24           [1, 2, 4, 5, 5, 4, 2, 1]       False          True        D10\n",
       "  7   36           [1, 3, 6, 8, 8, 6, 3, 1]       False          True        C2 x C2 x S3\n",
       "  7   30           [1, 3, 5, 6, 6, 5, 3, 1]       False          True        C2 x S4\n",
       "  7   22           [1, 2, 3, 5, 5, 3, 2, 1]       False          True        S4\n",
       "  7   32           [1, 3, 5, 7, 7, 5, 3, 1]       False          True        S3 x S3\n",
       "  7   28           [1, 2, 5, 6, 6, 5, 2, 1]       False          True        C2 x C2 x S3\n",
       "  7   20           [1, 2, 3, 4, 4, 3, 2, 1]       False          True        C2 x S4\n",
       "  7   20           [1, 2, 3, 4, 4, 3, 2, 1]       False          True        (S3 x S3) : C2\n",
       "  7   26           [1, 2, 4, 6, 6, 4, 2, 1]       False          True        D6\n",
       "  7   16           [1, 2, 2, 3, 3, 2, 2, 1]       False          True        A5\n",
       "  7   32           [1, 3, 5, 7, 7, 5, 3, 1]       False          True        D5\n",
       "  7   40           [1, 4, 7, 8, 8, 7, 4, 1]       False          True        S4\n",
       "  7   48           [1, 4, 8, 11, 11, 8, 4, 1]     False          True        D6\n",
       "  7   54           [1, 4, 9, 13, 13, 9, 4, 1]     False          True        C2 x C2 x C2\n",
       "  7   40           [1, 3, 7, 9, 9, 7, 3, 1]       False          True        D6\n",
       "  7   36           [1, 3, 6, 8, 8, 6, 3, 1]       False          True        C2 x D4\n",
       "  7   42           [1, 3, 7, 10, 10, 7, 3, 1]     False          True        D4\n",
       "  7   24           [1, 2, 3, 6, 6, 3, 2, 1]       False          True        A4\n",
       "  7   40           [1, 3, 6, 10, 10, 6, 3, 1]     False          True        S3\n",
       "  7   48           [1, 3, 8, 12, 12, 8, 3, 1]     False          True        C2 x C2\n",
       "  7   32           [1, 2, 5, 8, 8, 5, 2, 1]       False          True        S3\n",
       "  7   22           [1, 2, 3, 5, 5, 3, 2, 1]       False          True        C2 x A4\n",
       "  7   22           [1, 2, 3, 5, 5, 3, 2, 1]       False          True        S4\n",
       "  7   28           [1, 2, 4, 7, 7, 4, 2, 1]       False          True        C6\n",
       "  7   48           [1, 4, 8, 11, 11, 8, 4, 1]     False          True        D4\n",
       "  7   72           [1, 5, 12, 18, 18, 12, 5, 1]   False          True        C2 x C2\n",
       "  7   64           [1, 5, 11, 15, 15, 11, 5, 1]   False          True        S3\n",
       "  7   60           [1, 4, 10, 15, 15, 10, 4, 1]   False          True        C2 x C2\n",
       "  7   56           [1, 4, 9, 14, 14, 9, 4, 1]     False          True        C2 x C2\n",
       "  7   42           [1, 3, 7, 10, 10, 7, 3, 1]     False          True        C2 x C2 x C2\n",
       "  7   38           [1, 3, 6, 9, 9, 6, 3, 1]       False          True        D4\n",
       "  7   44           [1, 3, 7, 11, 11, 7, 3, 1]     False          True        C4\n",
       "  7   48           [1, 3, 7, 13, 13, 7, 3, 1]     False          True        C3\n",
       "  7   24           [1, 2, 3, 6, 6, 3, 2, 1]       False          True        A4\n",
       "  7   56           [1, 4, 9, 14, 14, 9, 4, 1]     False          True        C2 x C2\n",
       "  7   80           [1, 5, 13, 21, 21, 13, 5, 1]   False          True        C2\n",
       "  7   96           [1, 6, 16, 25, 25, 16, 6, 1]   False          True        C2\n",
       "  7   72           [1, 4, 12, 19, 19, 12, 4, 1]   False          True        C2\n",
       "  7   128          [1, 7, 21, 35, 35, 21, 7, 1]   False          True        1"
      ]
     },
     "execution_count": 12,
     "metadata": {},
     "output_type": "execute_result"
    }
   ],
   "source": [
    "table([s.summary() for s in all_sas],\n",
    "      header_row=('n', 'total rank', 'ranks', 'homogeneous?', 'schurian?', r'$\\mathrm{Aut}(\\mathfrak{X})$'))"
   ]
  },
  {
   "cell_type": "code",
   "execution_count": 13,
   "metadata": {},
   "outputs": [
    {
     "data": {
      "text/plain": [
       "0"
      ]
     },
     "execution_count": 13,
     "metadata": {},
     "output_type": "execute_result"
    }
   ],
   "source": [
    "missing_schurians = [\n",
    "    sch\n",
    "    for gp in SymmetricGroup(n).conjugacy_classes_subgroups()\n",
    "    for sch in [SAS.orbital_scheme(gp)]\n",
    "    if sch.automorphism_group() == gp\n",
    "    if not(any(map(sch.is_isomorphic_to, all_sas)))\n",
    "]\n",
    "len(missing_schurians)"
   ]
  },
  {
   "cell_type": "markdown",
   "metadata": {},
   "source": [
    "## $n = 8$"
   ]
  },
  {
   "cell_type": "code",
   "execution_count": 14,
   "metadata": {},
   "outputs": [],
   "source": [
    "n = 8"
   ]
  },
  {
   "cell_type": "code",
   "execution_count": 15,
   "metadata": {
    "scrolled": true
   },
   "outputs": [
    {
     "name": "stdout",
     "output_type": "stream",
     "text": [
      "Searching for coherent refinements of <SAS of degree 8 and ranks [1, 1, 1, 1, 1, 1, 1, 1, 1]>\n",
      "Summary: (8, 9, [1, 1, 1, 1, 1, 1, 1, 1, 1], True, True, 'S8')\n"
     ]
    },
    {
     "data": {
      "application/vnd.jupyter.widget-view+json": {
       "model_id": "09057f1b6c9a43caad055e693046fb73",
       "version_major": 2,
       "version_minor": 0
      },
      "text/plain": [
       "0it [00:00, ?it/s]"
      ]
     },
     "metadata": {},
     "output_type": "display_data"
    },
    {
     "name": "stdout",
     "output_type": "stream",
     "text": [
      "Enumerating monochromatic designs on level 1\n"
     ]
    },
    {
     "data": {
      "application/vnd.jupyter.widget-view+json": {
       "model_id": "8cf845e718b74e4c98724ec43cfc2c1c",
       "version_major": 2,
       "version_minor": 0
      },
      "text/plain": [
       "0it [00:00, ?it/s]"
      ]
     },
     "metadata": {},
     "output_type": "display_data"
    },
    {
     "name": "stdout",
     "output_type": "stream",
     "text": [
      "Enumerating monochromatic designs on level 2\n"
     ]
    },
    {
     "data": {
      "application/vnd.jupyter.widget-view+json": {
       "model_id": "6ef405d400b94fb99f8085a1989ea894",
       "version_major": 2,
       "version_minor": 0
      },
      "text/plain": [
       "0it [00:00, ?it/s]"
      ]
     },
     "metadata": {},
     "output_type": "display_data"
    },
    {
     "name": "stdout",
     "output_type": "stream",
     "text": [
      "Enumerating monochromatic designs on level 3\n"
     ]
    },
    {
     "data": {
      "application/vnd.jupyter.widget-view+json": {
       "model_id": "9176f6902dce447aa44f38205e84356c",
       "version_major": 2,
       "version_minor": 0
      },
      "text/plain": [
       "0it [00:00, ?it/s]"
      ]
     },
     "metadata": {},
     "output_type": "display_data"
    },
    {
     "name": "stdout",
     "output_type": "stream",
     "text": [
      "Enumerating monochromatic designs on level 4\n"
     ]
    },
    {
     "data": {
      "application/vnd.jupyter.widget-view+json": {
       "model_id": "12cbe39c18ca47f4b865680dcfb84429",
       "version_major": 2,
       "version_minor": 0
      },
      "text/plain": [
       "0it [00:00, ?it/s]"
      ]
     },
     "metadata": {},
     "output_type": "display_data"
    },
    {
     "name": "stdout",
     "output_type": "stream",
     "text": [
      "Testing 16 designs with WL... (triangles only)\n"
     ]
    },
    {
     "data": {
      "application/vnd.jupyter.widget-view+json": {
       "model_id": "e46d55b607b44155bccc0a6acaa7fb8f",
       "version_major": 2,
       "version_minor": 0
      },
      "text/plain": [
       "  0%|          | 0/16 [00:00<?, ?it/s]"
      ]
     },
     "metadata": {},
     "output_type": "display_data"
    },
    {
     "name": "stdout",
     "output_type": "stream",
     "text": [
      "Found: <SAS of degree 8 and ranks [1, 2, 2, 2, 2, 2, 2, 2, 1]>\n",
      "Summary: (8, 16, [1, 2, 2, 2, 2, 2, 2, 2, 1], False, True, 'S7')\n",
      "Found: <SAS of degree 8 and ranks [1, 1, 2, 2, 3, 2, 2, 1, 1]>\n",
      "Summary: (8, 15, [1, 1, 2, 2, 3, 2, 2, 1, 1], True, True, '(S4 x S4) : C2')\n",
      "Found: <SAS of degree 8 and ranks [1, 1, 3, 3, 6, 3, 3, 1, 1]>\n",
      "Summary: (8, 22, [1, 1, 3, 3, 6, 3, 3, 1, 1], True, True, 'C2 x S4')\n",
      "Found: <SAS of degree 8 and ranks [1, 1, 3, 3, 5, 3, 3, 1, 1]>\n",
      "Summary: (8, 21, [1, 1, 3, 3, 5, 3, 3, 1, 1], True, True, '(((C2 x C2 x C2 x C2) : C2) : C2) : C2')\n",
      "Found: <SAS of degree 8 and ranks [1, 3, 10, 17, 22, 17, 10, 3, 1]>\n",
      "Summary: (8, 84, [1, 3, 10, 17, 22, 17, 10, 3, 1], False, True, 'C2 x C2')\n",
      "Found: <SAS of degree 8 and ranks [1, 1, 1, 1, 2, 1, 1, 1, 1]>\n",
      "Summary: (8, 10, [1, 1, 1, 1, 2, 1, 1, 1, 1], True, True, 'PSL(3,2) : C2')\n",
      "Found: <SAS of degree 8 and ranks [1, 2, 3, 4, 5, 4, 3, 2, 1]>\n",
      "Summary: (8, 25, [1, 2, 3, 4, 5, 4, 3, 2, 1], False, True, 'S4 x S4')\n",
      "Found: <SAS of degree 8 and ranks [1, 2, 3, 4, 4, 4, 3, 2, 1]>\n",
      "Summary: (8, 24, [1, 2, 3, 4, 4, 4, 3, 2, 1], False, True, 'S3 x S5')\n",
      "Found: <SAS of degree 8 and ranks [1, 2, 4, 6, 6, 6, 4, 2, 1]>\n",
      "Summary: (8, 32, [1, 2, 4, 6, 6, 6, 4, 2, 1], False, True, 'S3 x D5')\n",
      "Found: <SAS of degree 8 and ranks [1, 1, 2, 2, 3, 2, 2, 1, 1]>\n",
      "Summary: (8, 15, [1, 1, 2, 2, 3, 2, 2, 1, 1], True, True, '((((C2 x C2 x C2 x C2) : C2) : C2) : C3) : C2')\n",
      "Found: <SAS of degree 8 and ranks [1, 3, 7, 12, 14, 12, 7, 3, 1]>\n",
      "Summary: (8, 60, [1, 3, 7, 12, 14, 12, 7, 3, 1], False, True, 'D6')\n",
      "Found: <SAS of degree 8 and ranks [1, 1, 4, 5, 8, 5, 4, 1, 1]>\n",
      "Summary: (8, 30, [1, 1, 4, 5, 8, 5, 4, 1, 1], True, True, 'D8')\n",
      "Found: <SAS of degree 8 and ranks [1, 1, 1, 1, 2, 1, 1, 1, 1]>\n",
      "Summary: (8, 10, [1, 1, 1, 1, 2, 1, 1, 1, 1], True, True, '(C2 x C2 x C2) : PSL(3,2)')\n",
      "Found: <SAS of degree 8 and ranks [1, 2, 7, 9, 13, 9, 7, 2, 1]>\n",
      "Summary: (8, 51, [1, 2, 7, 9, 13, 9, 7, 2, 1], False, True, 'C2 x D4')\n",
      "Found: <SAS of degree 8 and ranks [1, 2, 3, 3, 3, 3, 3, 2, 1]>\n",
      "Summary: (8, 21, [1, 2, 3, 3, 3, 3, 3, 2, 1], False, True, 'C2 x S6')\n",
      "Searching for coherent refinements of <SAS of degree 8 and ranks [1, 2, 2, 2, 2, 2, 2, 2, 1]>\n",
      "Summary: (8, 16, [1, 2, 2, 2, 2, 2, 2, 2, 1], False, True, 'S7')\n"
     ]
    },
    {
     "data": {
      "application/vnd.jupyter.widget-view+json": {
       "model_id": "1f1048625a3b485ba858272d7c607ad7",
       "version_major": 2,
       "version_minor": 0
      },
      "text/plain": [
       "0it [00:00, ?it/s]"
      ]
     },
     "metadata": {},
     "output_type": "display_data"
    },
    {
     "name": "stdout",
     "output_type": "stream",
     "text": [
      "Enumerating monochromatic designs on level 1\n"
     ]
    },
    {
     "data": {
      "application/vnd.jupyter.widget-view+json": {
       "model_id": "f86ecc545a2a45ecb54b7564f744d37b",
       "version_major": 2,
       "version_minor": 0
      },
      "text/plain": [
       "0it [00:00, ?it/s]"
      ]
     },
     "metadata": {},
     "output_type": "display_data"
    },
    {
     "name": "stdout",
     "output_type": "stream",
     "text": [
      "Enumerating monochromatic designs on level 2\n"
     ]
    },
    {
     "data": {
      "application/vnd.jupyter.widget-view+json": {
       "model_id": "2481ce0477624fd9810ee1c7d66949a9",
       "version_major": 2,
       "version_minor": 0
      },
      "text/plain": [
       "0it [00:00, ?it/s]"
      ]
     },
     "metadata": {},
     "output_type": "display_data"
    },
    {
     "name": "stdout",
     "output_type": "stream",
     "text": [
      "Enumerating monochromatic designs on level 3\n"
     ]
    },
    {
     "data": {
      "application/vnd.jupyter.widget-view+json": {
       "model_id": "3ee0fd5772fa48dd9e29498ae73901a3",
       "version_major": 2,
       "version_minor": 0
      },
      "text/plain": [
       "0it [00:00, ?it/s]"
      ]
     },
     "metadata": {},
     "output_type": "display_data"
    },
    {
     "name": "stdout",
     "output_type": "stream",
     "text": [
      "Enumerating monochromatic designs on level 4\n"
     ]
    },
    {
     "data": {
      "application/vnd.jupyter.widget-view+json": {
       "model_id": "6ed387d2fe274c5d93c7b69caa45aca9",
       "version_major": 2,
       "version_minor": 0
      },
      "text/plain": [
       "0it [00:00, ?it/s]"
      ]
     },
     "metadata": {},
     "output_type": "display_data"
    },
    {
     "name": "stdout",
     "output_type": "stream",
     "text": [
      "Testing 7 designs with WL... (triangles only)\n"
     ]
    },
    {
     "data": {
      "application/vnd.jupyter.widget-view+json": {
       "model_id": "d1795bdb37c14009b46709dab97837e0",
       "version_major": 2,
       "version_minor": 0
      },
      "text/plain": [
       "  0%|          | 0/7 [00:00<?, ?it/s]"
      ]
     },
     "metadata": {},
     "output_type": "display_data"
    },
    {
     "name": "stdout",
     "output_type": "stream",
     "text": [
      "Found: <SAS of degree 8 and ranks [1, 3, 5, 6, 6, 6, 5, 3, 1]>\n",
      "Summary: (8, 36, [1, 3, 5, 6, 6, 6, 5, 3, 1], False, True, 'C2 x S5')\n",
      "Found: <SAS of degree 8 and ranks [1, 3, 6, 9, 10, 9, 6, 3, 1]>\n",
      "Summary: (8, 48, [1, 3, 6, 9, 10, 9, 6, 3, 1], False, True, 'D4 x S3')\n",
      "Found: <SAS of degree 8 and ranks [1, 2, 2, 3, 4, 3, 2, 2, 1]>\n",
      "Summary: (8, 20, [1, 2, 2, 3, 4, 3, 2, 2, 1], False, True, 'C7 : C6')\n",
      "Found: <SAS of degree 8 and ranks [1, 3, 5, 7, 8, 7, 5, 3, 1]>\n",
      "Summary: (8, 40, [1, 3, 5, 7, 8, 7, 5, 3, 1], False, True, 'S3 x S4')\n",
      "Found: <SAS of degree 8 and ranks [1, 2, 4, 7, 8, 7, 4, 2, 1]>\n",
      "Summary: (8, 36, [1, 2, 4, 7, 8, 7, 4, 2, 1], False, True, 'D7')\n",
      "Found: <SAS of degree 8 and ranks [1, 2, 2, 3, 4, 3, 2, 2, 1]>\n",
      "Summary: (8, 20, [1, 2, 2, 3, 4, 3, 2, 2, 1], False, True, 'PSL(3,2)')\n",
      "Found: <SAS of degree 8 and ranks [1, 3, 4, 4, 4, 4, 4, 3, 1]>\n",
      "Summary: (8, 28, [1, 3, 4, 4, 4, 4, 4, 3, 1], False, True, 'S6')\n",
      "Searching for coherent refinements of <SAS of degree 8 and ranks [1, 1, 2, 2, 3, 2, 2, 1, 1]>\n",
      "Summary: (8, 15, [1, 1, 2, 2, 3, 2, 2, 1, 1], True, True, '(S4 x S4) : C2')\n"
     ]
    },
    {
     "data": {
      "application/vnd.jupyter.widget-view+json": {
       "model_id": "8a38246b4cbb48ea869ae1c3b9126653",
       "version_major": 2,
       "version_minor": 0
      },
      "text/plain": [
       "0it [00:00, ?it/s]"
      ]
     },
     "metadata": {},
     "output_type": "display_data"
    },
    {
     "name": "stdout",
     "output_type": "stream",
     "text": [
      "Enumerating monochromatic designs on level 2\n"
     ]
    },
    {
     "data": {
      "application/vnd.jupyter.widget-view+json": {
       "model_id": "00e5f6e1e5724c0f98f6c2445cbd10eb",
       "version_major": 2,
       "version_minor": 0
      },
      "text/plain": [
       "0it [00:00, ?it/s]"
      ]
     },
     "metadata": {},
     "output_type": "display_data"
    },
    {
     "name": "stdout",
     "output_type": "stream",
     "text": [
      "Enumerating monochromatic designs on level 3\n"
     ]
    },
    {
     "data": {
      "application/vnd.jupyter.widget-view+json": {
       "model_id": "f0bcb887f5e44b219d5ac15c563e9020",
       "version_major": 2,
       "version_minor": 0
      },
      "text/plain": [
       "0it [00:00, ?it/s]"
      ]
     },
     "metadata": {},
     "output_type": "display_data"
    },
    {
     "name": "stdout",
     "output_type": "stream",
     "text": [
      "Enumerating monochromatic designs on level 4\n"
     ]
    },
    {
     "data": {
      "application/vnd.jupyter.widget-view+json": {
       "model_id": "203fc2e39d05402fb67b43f882341ab8",
       "version_major": 2,
       "version_minor": 0
      },
      "text/plain": [
       "0it [00:00, ?it/s]"
      ]
     },
     "metadata": {},
     "output_type": "display_data"
    },
    {
     "name": "stdout",
     "output_type": "stream",
     "text": [
      "Testing 14 designs with WL... (triangles only)\n"
     ]
    },
    {
     "data": {
      "application/vnd.jupyter.widget-view+json": {
       "model_id": "90cf16e3bfb54687ba0e8c7c33acb0f3",
       "version_major": 2,
       "version_minor": 0
      },
      "text/plain": [
       "  0%|          | 0/14 [00:00<?, ?it/s]"
      ]
     },
     "metadata": {},
     "output_type": "display_data"
    },
    {
     "name": "stdout",
     "output_type": "stream",
     "text": [
      "Found: <SAS of degree 8 and ranks [1, 4, 10, 20, 26, 20, 10, 4, 1]>\n",
      "Summary: (8, 96, [1, 4, 10, 20, 26, 20, 10, 4, 1], False, True, 'C3')\n",
      "Found: <SAS of degree 8 and ranks [1, 2, 8, 14, 20, 14, 8, 2, 1]>\n",
      "Summary: (8, 70, [1, 2, 8, 14, 20, 14, 8, 2, 1], False, True, 'C4')\n",
      "Found: <SAS of degree 8 and ranks [1, 4, 11, 20, 24, 20, 11, 4, 1]>\n",
      "Summary: (8, 96, [1, 4, 11, 20, 24, 20, 11, 4, 1], False, True, 'C2 x C2')\n",
      "Found: <SAS of degree 8 and ranks [1, 8, 28, 56, 70, 56, 28, 8, 1]>\n",
      "Summary: (8, 256, [1, 8, 28, 56, 70, 56, 28, 8, 1], False, True, '1')\n",
      "Found: <SAS of degree 8 and ranks [1, 1, 2, 2, 4, 2, 2, 1, 1]>\n",
      "Summary: (8, 16, [1, 1, 2, 2, 4, 2, 2, 1, 1], True, True, '(((C2 x C2 x C2 x C2) : C3) : C2) : C2')\n",
      "Found: <SAS of degree 8 and ranks [1, 1, 4, 4, 7, 4, 4, 1, 1]>\n",
      "Summary: (8, 27, [1, 1, 4, 4, 7, 4, 4, 1, 1], True, True, '((C2 x C2 x C2 x C2) : C2) : C2')\n",
      "Found: <SAS of degree 8 and ranks [1, 1, 3, 5, 7, 5, 3, 1, 1]>\n",
      "Summary: (8, 27, [1, 1, 3, 5, 7, 5, 3, 1, 1], True, True, 'C8 : C2')\n",
      "Found: <SAS of degree 8 and ranks [1, 2, 4, 6, 9, 6, 4, 2, 1]>\n",
      "Summary: (8, 35, [1, 2, 4, 6, 9, 6, 4, 2, 1], False, True, 'S4')\n",
      "Searching for coherent refinements of <SAS of degree 8 and ranks [1, 1, 3, 3, 6, 3, 3, 1, 1]>\n",
      "Summary: (8, 22, [1, 1, 3, 3, 6, 3, 3, 1, 1], True, True, 'C2 x S4')\n"
     ]
    },
    {
     "data": {
      "application/vnd.jupyter.widget-view+json": {
       "model_id": "c3e3daea7fcb44c4b0d4bcf6d5b336e6",
       "version_major": 2,
       "version_minor": 0
      },
      "text/plain": [
       "0it [00:00, ?it/s]"
      ]
     },
     "metadata": {},
     "output_type": "display_data"
    },
    {
     "name": "stdout",
     "output_type": "stream",
     "text": [
      "Enumerating monochromatic designs on level 2\n"
     ]
    },
    {
     "data": {
      "application/vnd.jupyter.widget-view+json": {
       "model_id": "625c1bf9646843c7a6656be7bd04b68c",
       "version_major": 2,
       "version_minor": 0
      },
      "text/plain": [
       "0it [00:00, ?it/s]"
      ]
     },
     "metadata": {},
     "output_type": "display_data"
    },
    {
     "name": "stdout",
     "output_type": "stream",
     "text": [
      "Enumerating monochromatic designs on level 3\n"
     ]
    },
    {
     "data": {
      "application/vnd.jupyter.widget-view+json": {
       "model_id": "0accdcd13a5e4477bc51ca24d7cbe37f",
       "version_major": 2,
       "version_minor": 0
      },
      "text/plain": [
       "0it [00:00, ?it/s]"
      ]
     },
     "metadata": {},
     "output_type": "display_data"
    },
    {
     "name": "stdout",
     "output_type": "stream",
     "text": [
      "Enumerating monochromatic designs on level 4\n"
     ]
    },
    {
     "data": {
      "application/vnd.jupyter.widget-view+json": {
       "model_id": "6dc1efcf972b45d0b76fa771ed51d417",
       "version_major": 2,
       "version_minor": 0
      },
      "text/plain": [
       "0it [00:00, ?it/s]"
      ]
     },
     "metadata": {},
     "output_type": "display_data"
    },
    {
     "name": "stdout",
     "output_type": "stream",
     "text": [
      "Testing 5 designs with WL... (triangles only)\n"
     ]
    },
    {
     "data": {
      "application/vnd.jupyter.widget-view+json": {
       "model_id": "ae134d1e5b084f6792543cfca47a20ff",
       "version_major": 2,
       "version_minor": 0
      },
      "text/plain": [
       "  0%|          | 0/5 [00:00<?, ?it/s]"
      ]
     },
     "metadata": {},
     "output_type": "display_data"
    },
    {
     "name": "stdout",
     "output_type": "stream",
     "text": [
      "Found: <SAS of degree 8 and ranks [1, 1, 5, 5, 10, 5, 5, 1, 1]>\n",
      "Summary: (8, 34, [1, 1, 5, 5, 10, 5, 5, 1, 1], True, True, 'C2 x D4')\n",
      "Found: <SAS of degree 8 and ranks [1, 1, 6, 7, 13, 7, 6, 1, 1]>\n",
      "Summary: (8, 43, [1, 1, 6, 7, 13, 7, 6, 1, 1], True, True, 'D4')\n",
      "Found: <SAS of degree 8 and ranks [1, 1, 3, 3, 7, 3, 3, 1, 1]>\n",
      "Summary: (8, 23, [1, 1, 3, 3, 7, 3, 3, 1, 1], True, True, 'S4')\n",
      "Searching for coherent refinements of <SAS of degree 8 and ranks [1, 1, 3, 3, 5, 3, 3, 1, 1]>\n",
      "Summary: (8, 21, [1, 1, 3, 3, 5, 3, 3, 1, 1], True, True, '(((C2 x C2 x C2 x C2) : C2) : C2) : C2')\n"
     ]
    },
    {
     "data": {
      "application/vnd.jupyter.widget-view+json": {
       "model_id": "7dd3ae5d9876489da42bb73ee2fb9218",
       "version_major": 2,
       "version_minor": 0
      },
      "text/plain": [
       "0it [00:00, ?it/s]"
      ]
     },
     "metadata": {},
     "output_type": "display_data"
    },
    {
     "name": "stdout",
     "output_type": "stream",
     "text": [
      "Enumerating monochromatic designs on level 2\n"
     ]
    },
    {
     "data": {
      "application/vnd.jupyter.widget-view+json": {
       "model_id": "bf9490bc592f4030a291ae7b01fd4aa3",
       "version_major": 2,
       "version_minor": 0
      },
      "text/plain": [
       "0it [00:00, ?it/s]"
      ]
     },
     "metadata": {},
     "output_type": "display_data"
    },
    {
     "name": "stdout",
     "output_type": "stream",
     "text": [
      "Enumerating monochromatic designs on level 3\n"
     ]
    },
    {
     "data": {
      "application/vnd.jupyter.widget-view+json": {
       "model_id": "6e79114dbe8544668e108962dc22a13f",
       "version_major": 2,
       "version_minor": 0
      },
      "text/plain": [
       "0it [00:00, ?it/s]"
      ]
     },
     "metadata": {},
     "output_type": "display_data"
    },
    {
     "name": "stdout",
     "output_type": "stream",
     "text": [
      "Enumerating monochromatic designs on level 4\n"
     ]
    },
    {
     "data": {
      "application/vnd.jupyter.widget-view+json": {
       "model_id": "ce8bfd5d8af84d3988127fbdf3cb0904",
       "version_major": 2,
       "version_minor": 0
      },
      "text/plain": [
       "0it [00:00, ?it/s]"
      ]
     },
     "metadata": {},
     "output_type": "display_data"
    },
    {
     "name": "stdout",
     "output_type": "stream",
     "text": [
      "Testing 17 designs with WL... (triangles only)\n"
     ]
    },
    {
     "data": {
      "application/vnd.jupyter.widget-view+json": {
       "model_id": "5987ac5239044a57af7d773a45a39663",
       "version_major": 2,
       "version_minor": 0
      },
      "text/plain": [
       "  0%|          | 0/17 [00:00<?, ?it/s]"
      ]
     },
     "metadata": {},
     "output_type": "display_data"
    },
    {
     "name": "stdout",
     "output_type": "stream",
     "text": [
      "Found: <SAS of degree 8 and ranks [1, 2, 10, 14, 22, 14, 10, 2, 1]>\n",
      "Summary: (8, 76, [1, 2, 10, 14, 22, 14, 10, 2, 1], False, True, 'C2 x C2')\n",
      "Found: <SAS of degree 8 and ranks [1, 1, 3, 5, 7, 5, 3, 1, 1]>\n",
      "Summary: (8, 27, [1, 1, 3, 5, 7, 5, 3, 1, 1], True, True, 'QD16')\n",
      "Found: <SAS of degree 8 and ranks [1, 3, 8, 13, 16, 13, 8, 3, 1]>\n",
      "Summary: (8, 66, [1, 3, 8, 13, 16, 13, 8, 3, 1], False, True, 'C2 x C2 x C2')\n",
      "Found: <SAS of degree 8 and ranks [1, 1, 3, 3, 6, 3, 3, 1, 1]>\n",
      "Summary: (8, 22, [1, 1, 3, 3, 6, 3, 3, 1, 1], True, True, '((C2 x C2 x C2 x C2) : C2) : C2')\n",
      "Found: <SAS of degree 8 and ranks [1, 1, 3, 4, 6, 4, 3, 1, 1]>\n",
      "Summary: (8, 24, [1, 1, 3, 4, 6, 4, 3, 1, 1], True, True, 'C8 : (C2 x C2)')\n",
      "Found: <SAS of degree 8 and ranks [1, 1, 4, 5, 8, 5, 4, 1, 1]>\n",
      "Summary: (8, 30, [1, 1, 4, 5, 8, 5, 4, 1, 1], True, False, '(C4 x C2) : C2')\n",
      "Found: <SAS of degree 8 and ranks [1, 2, 7, 10, 15, 10, 7, 2, 1]>\n",
      "Summary: (8, 55, [1, 2, 7, 10, 15, 10, 7, 2, 1], False, True, 'D4')\n",
      "Found: <SAS of degree 8 and ranks [1, 1, 3, 4, 6, 4, 3, 1, 1]>\n",
      "Summary: (8, 24, [1, 1, 3, 4, 6, 4, 3, 1, 1], True, True, '((C2 x C2 x C2) : C4) : C2')\n",
      "Found: <SAS of degree 8 and ranks [1, 1, 4, 4, 8, 4, 4, 1, 1]>\n",
      "Summary: (8, 28, [1, 1, 4, 4, 8, 4, 4, 1, 1], True, True, '(C2 x C2 x C2 x C2) : C2')\n",
      "Searching for coherent refinements of <SAS of degree 8 and ranks [1, 3, 10, 17, 22, 17, 10, 3, 1]>\n",
      "Summary: (8, 84, [1, 3, 10, 17, 22, 17, 10, 3, 1], False, True, 'C2 x C2')\n"
     ]
    },
    {
     "data": {
      "application/vnd.jupyter.widget-view+json": {
       "model_id": "3a199a99c65940e086892e1dff35a8d3",
       "version_major": 2,
       "version_minor": 0
      },
      "text/plain": [
       "0it [00:00, ?it/s]"
      ]
     },
     "metadata": {},
     "output_type": "display_data"
    },
    {
     "name": "stdout",
     "output_type": "stream",
     "text": [
      "Enumerating monochromatic designs on level 2\n"
     ]
    },
    {
     "data": {
      "application/vnd.jupyter.widget-view+json": {
       "model_id": "e5115524605d4b489efb302a6829cb00",
       "version_major": 2,
       "version_minor": 0
      },
      "text/plain": [
       "0it [00:00, ?it/s]"
      ]
     },
     "metadata": {},
     "output_type": "display_data"
    },
    {
     "name": "stdout",
     "output_type": "stream",
     "text": [
      "Enumerating monochromatic designs on level 3\n"
     ]
    },
    {
     "data": {
      "application/vnd.jupyter.widget-view+json": {
       "model_id": "6df13090b6ee42c7af14d1c77fa35bf3",
       "version_major": 2,
       "version_minor": 0
      },
      "text/plain": [
       "0it [00:00, ?it/s]"
      ]
     },
     "metadata": {},
     "output_type": "display_data"
    },
    {
     "name": "stdout",
     "output_type": "stream",
     "text": [
      "Enumerating monochromatic designs on level 4\n"
     ]
    },
    {
     "data": {
      "application/vnd.jupyter.widget-view+json": {
       "model_id": "23b53f6f04be47b89af618317a3f9345",
       "version_major": 2,
       "version_minor": 0
      },
      "text/plain": [
       "0it [00:00, ?it/s]"
      ]
     },
     "metadata": {},
     "output_type": "display_data"
    },
    {
     "name": "stdout",
     "output_type": "stream",
     "text": [
      "Testing 1 designs with WL... (triangles only)\n"
     ]
    },
    {
     "data": {
      "application/vnd.jupyter.widget-view+json": {
       "model_id": "e672bf51111644caa5a0e7a54d6630c0",
       "version_major": 2,
       "version_minor": 0
      },
      "text/plain": [
       "  0%|          | 0/1 [00:00<?, ?it/s]"
      ]
     },
     "metadata": {},
     "output_type": "display_data"
    },
    {
     "name": "stdout",
     "output_type": "stream",
     "text": [
      "Found: <SAS of degree 8 and ranks [1, 4, 16, 28, 38, 28, 16, 4, 1]>\n",
      "Summary: (8, 136, [1, 4, 16, 28, 38, 28, 16, 4, 1], False, True, 'C2')\n",
      "Searching for coherent refinements of <SAS of degree 8 and ranks [1, 1, 1, 1, 2, 1, 1, 1, 1]>\n",
      "Summary: (8, 10, [1, 1, 1, 1, 2, 1, 1, 1, 1], True, True, 'PSL(3,2) : C2')\n"
     ]
    },
    {
     "data": {
      "application/vnd.jupyter.widget-view+json": {
       "model_id": "6d74ecc5b6c0432b949b8d9cbede935a",
       "version_major": 2,
       "version_minor": 0
      },
      "text/plain": [
       "0it [00:00, ?it/s]"
      ]
     },
     "metadata": {},
     "output_type": "display_data"
    },
    {
     "name": "stdout",
     "output_type": "stream",
     "text": [
      "Enumerating monochromatic designs on level 4\n"
     ]
    },
    {
     "data": {
      "application/vnd.jupyter.widget-view+json": {
       "model_id": "f79b1326b82749af9287ed63c86dd5ef",
       "version_major": 2,
       "version_minor": 0
      },
      "text/plain": [
       "0it [00:00, ?it/s]"
      ]
     },
     "metadata": {},
     "output_type": "display_data"
    },
    {
     "name": "stdout",
     "output_type": "stream",
     "text": [
      "Testing 1 designs with WL... (triangles only)\n"
     ]
    },
    {
     "data": {
      "application/vnd.jupyter.widget-view+json": {
       "model_id": "3f9dbbe1da7546e28b99708b2f4d235d",
       "version_major": 2,
       "version_minor": 0
      },
      "text/plain": [
       "  0%|          | 0/1 [00:00<?, ?it/s]"
      ]
     },
     "metadata": {},
     "output_type": "display_data"
    },
    {
     "name": "stdout",
     "output_type": "stream",
     "text": [
      "Found: <SAS of degree 8 and ranks [1, 1, 1, 1, 3, 1, 1, 1, 1]>\n",
      "Summary: (8, 11, [1, 1, 1, 1, 3, 1, 1, 1, 1], True, True, 'PSL(3,2)')\n",
      "Searching for coherent refinements of <SAS of degree 8 and ranks [1, 2, 3, 4, 5, 4, 3, 2, 1]>\n",
      "Summary: (8, 25, [1, 2, 3, 4, 5, 4, 3, 2, 1], False, True, 'S4 x S4')\n"
     ]
    },
    {
     "data": {
      "application/vnd.jupyter.widget-view+json": {
       "model_id": "038d5401c1a74aeaa5d59f251dd94389",
       "version_major": 2,
       "version_minor": 0
      },
      "text/plain": [
       "0it [00:00, ?it/s]"
      ]
     },
     "metadata": {},
     "output_type": "display_data"
    },
    {
     "name": "stdout",
     "output_type": "stream",
     "text": [
      "Enumerating monochromatic designs on level 1\n"
     ]
    },
    {
     "data": {
      "application/vnd.jupyter.widget-view+json": {
       "model_id": "cd94447c97024f53ad394b66d7ec4d61",
       "version_major": 2,
       "version_minor": 0
      },
      "text/plain": [
       "0it [00:00, ?it/s]"
      ]
     },
     "metadata": {},
     "output_type": "display_data"
    },
    {
     "name": "stdout",
     "output_type": "stream",
     "text": [
      "Enumerating monochromatic designs on level 2\n"
     ]
    },
    {
     "data": {
      "application/vnd.jupyter.widget-view+json": {
       "model_id": "7593e90cc09d4934b72d3c9e765327ea",
       "version_major": 2,
       "version_minor": 0
      },
      "text/plain": [
       "0it [00:00, ?it/s]"
      ]
     },
     "metadata": {},
     "output_type": "display_data"
    },
    {
     "name": "stdout",
     "output_type": "stream",
     "text": [
      "Enumerating monochromatic designs on level 3\n"
     ]
    },
    {
     "data": {
      "application/vnd.jupyter.widget-view+json": {
       "model_id": "eb591e608b1948f18e01ba2ed8d57aac",
       "version_major": 2,
       "version_minor": 0
      },
      "text/plain": [
       "0it [00:00, ?it/s]"
      ]
     },
     "metadata": {},
     "output_type": "display_data"
    },
    {
     "name": "stdout",
     "output_type": "stream",
     "text": [
      "Enumerating monochromatic designs on level 4\n"
     ]
    },
    {
     "data": {
      "application/vnd.jupyter.widget-view+json": {
       "model_id": "178b951264914616b070a9b885a8fde8",
       "version_major": 2,
       "version_minor": 0
      },
      "text/plain": [
       "0it [00:00, ?it/s]"
      ]
     },
     "metadata": {},
     "output_type": "display_data"
    },
    {
     "name": "stdout",
     "output_type": "stream",
     "text": [
      "Testing 7 designs with WL... (triangles only)\n"
     ]
    },
    {
     "data": {
      "application/vnd.jupyter.widget-view+json": {
       "model_id": "5f3e4719ba2243a9a95d7b3176fdfb6e",
       "version_major": 2,
       "version_minor": 0
      },
      "text/plain": [
       "  0%|          | 0/7 [00:00<?, ?it/s]"
      ]
     },
     "metadata": {},
     "output_type": "display_data"
    },
    {
     "name": "stdout",
     "output_type": "stream",
     "text": [
      "Found: <SAS of degree 8 and ranks [1, 2, 6, 8, 11, 8, 6, 2, 1]>\n",
      "Summary: (8, 45, [1, 2, 6, 8, 11, 8, 6, 2, 1], False, True, '(C2 x C2 x C2 x C2) : C2')\n",
      "Found: <SAS of degree 8 and ranks [1, 2, 4, 5, 6, 5, 4, 2, 1]>\n",
      "Summary: (8, 30, [1, 2, 4, 5, 6, 5, 4, 2, 1], False, True, 'S4 x D4')\n",
      "Found: <SAS of degree 8 and ranks [1, 3, 6, 8, 9, 8, 6, 3, 1]>\n",
      "Summary: (8, 45, [1, 3, 6, 8, 9, 8, 6, 3, 1], False, True, 'C2 x C2 x S4')\n",
      "Found: <SAS of degree 8 and ranks [1, 2, 3, 4, 6, 4, 3, 2, 1]>\n",
      "Summary: (8, 26, [1, 2, 3, 4, 6, 4, 3, 2, 1], False, True, '((C2 x C2 x C2 x C2) : C3) : C2')\n",
      "Found: <SAS of degree 8 and ranks [1, 2, 6, 10, 13, 10, 6, 2, 1]>\n",
      "Summary: (8, 51, [1, 2, 6, 10, 13, 10, 6, 2, 1], False, True, 'D4')\n",
      "Searching for coherent refinements of <SAS of degree 8 and ranks [1, 2, 3, 4, 4, 4, 3, 2, 1]>\n",
      "Summary: (8, 24, [1, 2, 3, 4, 4, 4, 3, 2, 1], False, True, 'S3 x S5')\n"
     ]
    },
    {
     "data": {
      "application/vnd.jupyter.widget-view+json": {
       "model_id": "3812421d9eee40878ea08a7792932bf4",
       "version_major": 2,
       "version_minor": 0
      },
      "text/plain": [
       "0it [00:00, ?it/s]"
      ]
     },
     "metadata": {},
     "output_type": "display_data"
    },
    {
     "name": "stdout",
     "output_type": "stream",
     "text": [
      "Enumerating monochromatic designs on level 1\n"
     ]
    },
    {
     "data": {
      "application/vnd.jupyter.widget-view+json": {
       "model_id": "9fb602bb0d784382827f6899784c59db",
       "version_major": 2,
       "version_minor": 0
      },
      "text/plain": [
       "0it [00:00, ?it/s]"
      ]
     },
     "metadata": {},
     "output_type": "display_data"
    },
    {
     "name": "stdout",
     "output_type": "stream",
     "text": [
      "Enumerating monochromatic designs on level 2\n"
     ]
    },
    {
     "data": {
      "application/vnd.jupyter.widget-view+json": {
       "model_id": "d34ddce30bf6447fb1a85e075fd3619b",
       "version_major": 2,
       "version_minor": 0
      },
      "text/plain": [
       "0it [00:00, ?it/s]"
      ]
     },
     "metadata": {},
     "output_type": "display_data"
    },
    {
     "name": "stdout",
     "output_type": "stream",
     "text": [
      "Enumerating monochromatic designs on level 3\n"
     ]
    },
    {
     "data": {
      "application/vnd.jupyter.widget-view+json": {
       "model_id": "0b9f7acae04e4d2d9fb60b60dfc848cc",
       "version_major": 2,
       "version_minor": 0
      },
      "text/plain": [
       "0it [00:00, ?it/s]"
      ]
     },
     "metadata": {},
     "output_type": "display_data"
    },
    {
     "name": "stdout",
     "output_type": "stream",
     "text": [
      "Enumerating monochromatic designs on level 4\n"
     ]
    },
    {
     "data": {
      "application/vnd.jupyter.widget-view+json": {
       "model_id": "c29f851b7abc4de7b8ef1a40ff3fa9af",
       "version_major": 2,
       "version_minor": 0
      },
      "text/plain": [
       "0it [00:00, ?it/s]"
      ]
     },
     "metadata": {},
     "output_type": "display_data"
    },
    {
     "name": "stdout",
     "output_type": "stream",
     "text": [
      "Testing 4 designs with WL... (triangles only)\n"
     ]
    },
    {
     "data": {
      "application/vnd.jupyter.widget-view+json": {
       "model_id": "686aa4fd8ca243daabe57bd2a046a842",
       "version_major": 2,
       "version_minor": 0
      },
      "text/plain": [
       "  0%|          | 0/4 [00:00<?, ?it/s]"
      ]
     },
     "metadata": {},
     "output_type": "display_data"
    },
    {
     "name": "stdout",
     "output_type": "stream",
     "text": [
      "Found: <SAS of degree 8 and ranks [1, 3, 6, 9, 10, 9, 6, 3, 1]>\n",
      "Summary: (8, 48, [1, 3, 6, 9, 10, 9, 6, 3, 1], False, True, 'C2 x S3 x S3')\n",
      "Searching for coherent refinements of <SAS of degree 8 and ranks [1, 2, 4, 6, 6, 6, 4, 2, 1]>\n",
      "Summary: (8, 32, [1, 2, 4, 6, 6, 6, 4, 2, 1], False, True, 'S3 x D5')\n"
     ]
    },
    {
     "data": {
      "application/vnd.jupyter.widget-view+json": {
       "model_id": "520fe639fc08439ab26d38a78315608e",
       "version_major": 2,
       "version_minor": 0
      },
      "text/plain": [
       "0it [00:00, ?it/s]"
      ]
     },
     "metadata": {},
     "output_type": "display_data"
    },
    {
     "name": "stdout",
     "output_type": "stream",
     "text": [
      "Enumerating monochromatic designs on level 2\n"
     ]
    },
    {
     "data": {
      "application/vnd.jupyter.widget-view+json": {
       "model_id": "11677d8933864ddb98d51a8a843da9ae",
       "version_major": 2,
       "version_minor": 0
      },
      "text/plain": [
       "0it [00:00, ?it/s]"
      ]
     },
     "metadata": {},
     "output_type": "display_data"
    },
    {
     "name": "stdout",
     "output_type": "stream",
     "text": [
      "Enumerating monochromatic designs on level 3\n"
     ]
    },
    {
     "data": {
      "application/vnd.jupyter.widget-view+json": {
       "model_id": "1d238abc7a944d56ababdd8a68dff0b2",
       "version_major": 2,
       "version_minor": 0
      },
      "text/plain": [
       "0it [00:00, ?it/s]"
      ]
     },
     "metadata": {},
     "output_type": "display_data"
    },
    {
     "name": "stdout",
     "output_type": "stream",
     "text": [
      "Enumerating monochromatic designs on level 4\n"
     ]
    },
    {
     "data": {
      "application/vnd.jupyter.widget-view+json": {
       "model_id": "95c4b96e8770489a9d2dd393bdd98bc9",
       "version_major": 2,
       "version_minor": 0
      },
      "text/plain": [
       "0it [00:00, ?it/s]"
      ]
     },
     "metadata": {},
     "output_type": "display_data"
    },
    {
     "name": "stdout",
     "output_type": "stream",
     "text": [
      "Testing 0 designs with WL... (triangles only)\n"
     ]
    },
    {
     "data": {
      "application/vnd.jupyter.widget-view+json": {
       "model_id": "2cbe92684e204dbe8b58c69bc5539814",
       "version_major": 2,
       "version_minor": 0
      },
      "text/plain": [
       "0it [00:00, ?it/s]"
      ]
     },
     "metadata": {},
     "output_type": "display_data"
    },
    {
     "name": "stdout",
     "output_type": "stream",
     "text": [
      "Searching for coherent refinements of <SAS of degree 8 and ranks [1, 1, 2, 2, 3, 2, 2, 1, 1]>\n",
      "Summary: (8, 15, [1, 1, 2, 2, 3, 2, 2, 1, 1], True, True, '((((C2 x C2 x C2 x C2) : C2) : C2) : C3) : C2')\n"
     ]
    },
    {
     "data": {
      "application/vnd.jupyter.widget-view+json": {
       "model_id": "f77f0eeaa12c4a6dbd7a171cc9327900",
       "version_major": 2,
       "version_minor": 0
      },
      "text/plain": [
       "0it [00:00, ?it/s]"
      ]
     },
     "metadata": {},
     "output_type": "display_data"
    },
    {
     "name": "stdout",
     "output_type": "stream",
     "text": [
      "Enumerating monochromatic designs on level 2\n"
     ]
    },
    {
     "data": {
      "application/vnd.jupyter.widget-view+json": {
       "model_id": "1d245eb2da07459e9af35521a411d7c7",
       "version_major": 2,
       "version_minor": 0
      },
      "text/plain": [
       "0it [00:00, ?it/s]"
      ]
     },
     "metadata": {},
     "output_type": "display_data"
    },
    {
     "name": "stdout",
     "output_type": "stream",
     "text": [
      "Enumerating monochromatic designs on level 3\n"
     ]
    },
    {
     "data": {
      "application/vnd.jupyter.widget-view+json": {
       "model_id": "ab633ec0abbb46a6bb40c1639b23f3d0",
       "version_major": 2,
       "version_minor": 0
      },
      "text/plain": [
       "0it [00:00, ?it/s]"
      ]
     },
     "metadata": {},
     "output_type": "display_data"
    },
    {
     "name": "stdout",
     "output_type": "stream",
     "text": [
      "Enumerating monochromatic designs on level 4\n"
     ]
    },
    {
     "data": {
      "application/vnd.jupyter.widget-view+json": {
       "model_id": "542844ad0853439cb71b4b1541cb76b3",
       "version_major": 2,
       "version_minor": 0
      },
      "text/plain": [
       "0it [00:00, ?it/s]"
      ]
     },
     "metadata": {},
     "output_type": "display_data"
    },
    {
     "name": "stdout",
     "output_type": "stream",
     "text": [
      "Testing 38 designs with WL... (triangles only)\n"
     ]
    },
    {
     "data": {
      "application/vnd.jupyter.widget-view+json": {
       "model_id": "8434d07859394e3888cad966846f3fc6",
       "version_major": 2,
       "version_minor": 0
      },
      "text/plain": [
       "  0%|          | 0/38 [00:00<?, ?it/s]"
      ]
     },
     "metadata": {},
     "output_type": "display_data"
    },
    {
     "name": "stdout",
     "output_type": "stream",
     "text": [
      "Found: <SAS of degree 8 and ranks [1, 1, 2, 3, 4, 3, 2, 1, 1]>\n",
      "Summary: (8, 18, [1, 1, 2, 3, 4, 3, 2, 1, 1], True, True, 'GL(2,3)')\n",
      "Found: <SAS of degree 8 and ranks [1, 5, 16, 31, 38, 31, 16, 5, 1]>\n",
      "Summary: (8, 144, [1, 5, 16, 31, 38, 31, 16, 5, 1], False, True, 'C2')\n",
      "Found: <SAS of degree 8 and ranks [1, 3, 8, 15, 18, 15, 8, 3, 1]>\n",
      "Summary: (8, 72, [1, 3, 8, 15, 18, 15, 8, 3, 1], False, True, 'C6')\n",
      "Found: <SAS of degree 8 and ranks [1, 2, 8, 10, 16, 10, 8, 2, 1]>\n",
      "Summary: (8, 58, [1, 2, 8, 10, 16, 10, 8, 2, 1], False, True, 'C2 x C2 x C2')\n",
      "Found: <SAS of degree 8 and ranks [1, 1, 2, 2, 4, 2, 2, 1, 1]>\n",
      "Summary: (8, 16, [1, 1, 2, 2, 4, 2, 2, 1, 1], True, True, '(((C2 x C2 x C2) : (C2 x C2)) : C3) : C2')\n",
      "Searching for coherent refinements of <SAS of degree 8 and ranks [1, 3, 7, 12, 14, 12, 7, 3, 1]>\n",
      "Summary: (8, 60, [1, 3, 7, 12, 14, 12, 7, 3, 1], False, True, 'D6')\n"
     ]
    },
    {
     "data": {
      "application/vnd.jupyter.widget-view+json": {
       "model_id": "0f05728cc8e14e47899c0464189a34c8",
       "version_major": 2,
       "version_minor": 0
      },
      "text/plain": [
       "0it [00:00, ?it/s]"
      ]
     },
     "metadata": {},
     "output_type": "display_data"
    },
    {
     "name": "stdout",
     "output_type": "stream",
     "text": [
      "Enumerating monochromatic designs on level 2\n"
     ]
    },
    {
     "data": {
      "application/vnd.jupyter.widget-view+json": {
       "model_id": "7b13266f0bd1458ba1b5b82ce67b827b",
       "version_major": 2,
       "version_minor": 0
      },
      "text/plain": [
       "0it [00:00, ?it/s]"
      ]
     },
     "metadata": {},
     "output_type": "display_data"
    },
    {
     "name": "stdout",
     "output_type": "stream",
     "text": [
      "Enumerating monochromatic designs on level 3\n"
     ]
    },
    {
     "data": {
      "application/vnd.jupyter.widget-view+json": {
       "model_id": "0a651a3c1a8d490e99930b145bd59ab6",
       "version_major": 2,
       "version_minor": 0
      },
      "text/plain": [
       "0it [00:00, ?it/s]"
      ]
     },
     "metadata": {},
     "output_type": "display_data"
    },
    {
     "name": "stdout",
     "output_type": "stream",
     "text": [
      "Enumerating monochromatic designs on level 4\n"
     ]
    },
    {
     "data": {
      "application/vnd.jupyter.widget-view+json": {
       "model_id": "3d05442a21064180aef680b22b63bf11",
       "version_major": 2,
       "version_minor": 0
      },
      "text/plain": [
       "0it [00:00, ?it/s]"
      ]
     },
     "metadata": {},
     "output_type": "display_data"
    },
    {
     "name": "stdout",
     "output_type": "stream",
     "text": [
      "Testing 2 designs with WL... (triangles only)\n"
     ]
    },
    {
     "data": {
      "application/vnd.jupyter.widget-view+json": {
       "model_id": "941bacc8496543fea4fb0ffbd90d08a4",
       "version_major": 2,
       "version_minor": 0
      },
      "text/plain": [
       "  0%|          | 0/2 [00:00<?, ?it/s]"
      ]
     },
     "metadata": {},
     "output_type": "display_data"
    },
    {
     "name": "stdout",
     "output_type": "stream",
     "text": [
      "Found: <SAS of degree 8 and ranks [1, 3, 7, 13, 16, 13, 7, 3, 1]>\n",
      "Summary: (8, 64, [1, 3, 7, 13, 16, 13, 7, 3, 1], False, True, 'S3')\n",
      "Searching for coherent refinements of <SAS of degree 8 and ranks [1, 1, 4, 5, 8, 5, 4, 1, 1]>\n",
      "Summary: (8, 30, [1, 1, 4, 5, 8, 5, 4, 1, 1], True, True, 'D8')\n"
     ]
    },
    {
     "data": {
      "application/vnd.jupyter.widget-view+json": {
       "model_id": "5af8eac5f29f473599d3522808420c12",
       "version_major": 2,
       "version_minor": 0
      },
      "text/plain": [
       "0it [00:00, ?it/s]"
      ]
     },
     "metadata": {},
     "output_type": "display_data"
    },
    {
     "name": "stdout",
     "output_type": "stream",
     "text": [
      "Enumerating monochromatic designs on level 2\n"
     ]
    },
    {
     "data": {
      "application/vnd.jupyter.widget-view+json": {
       "model_id": "81b4f36c2aea48e4b1b1c784f0844463",
       "version_major": 2,
       "version_minor": 0
      },
      "text/plain": [
       "0it [00:00, ?it/s]"
      ]
     },
     "metadata": {},
     "output_type": "display_data"
    },
    {
     "name": "stdout",
     "output_type": "stream",
     "text": [
      "Enumerating monochromatic designs on level 3\n"
     ]
    },
    {
     "data": {
      "application/vnd.jupyter.widget-view+json": {
       "model_id": "4e710fa6e94c438b9a3f89ed8b5ed945",
       "version_major": 2,
       "version_minor": 0
      },
      "text/plain": [
       "0it [00:00, ?it/s]"
      ]
     },
     "metadata": {},
     "output_type": "display_data"
    },
    {
     "name": "stdout",
     "output_type": "stream",
     "text": [
      "Enumerating monochromatic designs on level 4\n"
     ]
    },
    {
     "data": {
      "application/vnd.jupyter.widget-view+json": {
       "model_id": "d41c419f9bff4360933a7a41660c0b46",
       "version_major": 2,
       "version_minor": 0
      },
      "text/plain": [
       "0it [00:00, ?it/s]"
      ]
     },
     "metadata": {},
     "output_type": "display_data"
    },
    {
     "name": "stdout",
     "output_type": "stream",
     "text": [
      "Testing 4 designs with WL... (triangles only)\n"
     ]
    },
    {
     "data": {
      "application/vnd.jupyter.widget-view+json": {
       "model_id": "76560dc64bcc492a97bb84f0945bb3a6",
       "version_major": 2,
       "version_minor": 0
      },
      "text/plain": [
       "  0%|          | 0/4 [00:00<?, ?it/s]"
      ]
     },
     "metadata": {},
     "output_type": "display_data"
    },
    {
     "name": "stdout",
     "output_type": "stream",
     "text": [
      "Found: <SAS of degree 8 and ranks [1, 1, 4, 7, 10, 7, 4, 1, 1]>\n",
      "Summary: (8, 36, [1, 1, 4, 7, 10, 7, 4, 1, 1], True, True, 'C8')\n",
      "Searching for coherent refinements of <SAS of degree 8 and ranks [1, 1, 1, 1, 2, 1, 1, 1, 1]>\n",
      "Summary: (8, 10, [1, 1, 1, 1, 2, 1, 1, 1, 1], True, True, '(C2 x C2 x C2) : PSL(3,2)')\n"
     ]
    },
    {
     "data": {
      "application/vnd.jupyter.widget-view+json": {
       "model_id": "f006015ca1f14afab5d609a755e95bb3",
       "version_major": 2,
       "version_minor": 0
      },
      "text/plain": [
       "0it [00:00, ?it/s]"
      ]
     },
     "metadata": {},
     "output_type": "display_data"
    },
    {
     "name": "stdout",
     "output_type": "stream",
     "text": [
      "Enumerating monochromatic designs on level 4\n"
     ]
    },
    {
     "data": {
      "application/vnd.jupyter.widget-view+json": {
       "model_id": "e0f4e94d78ce45458e83a6e5c27b7c91",
       "version_major": 2,
       "version_minor": 0
      },
      "text/plain": [
       "0it [00:00, ?it/s]"
      ]
     },
     "metadata": {},
     "output_type": "display_data"
    },
    {
     "name": "stdout",
     "output_type": "stream",
     "text": [
      "Testing 1 designs with WL... (triangles only)\n"
     ]
    },
    {
     "data": {
      "application/vnd.jupyter.widget-view+json": {
       "model_id": "e546465103b54fcbae971bf2347998ff",
       "version_major": 2,
       "version_minor": 0
      },
      "text/plain": [
       "  0%|          | 0/1 [00:00<?, ?it/s]"
      ]
     },
     "metadata": {},
     "output_type": "display_data"
    },
    {
     "name": "stdout",
     "output_type": "stream",
     "text": [
      "Searching for coherent refinements of <SAS of degree 8 and ranks [1, 2, 7, 9, 13, 9, 7, 2, 1]>\n",
      "Summary: (8, 51, [1, 2, 7, 9, 13, 9, 7, 2, 1], False, True, 'C2 x D4')\n"
     ]
    },
    {
     "data": {
      "application/vnd.jupyter.widget-view+json": {
       "model_id": "9e2fb1252f814143b8642ccbf56bb00e",
       "version_major": 2,
       "version_minor": 0
      },
      "text/plain": [
       "0it [00:00, ?it/s]"
      ]
     },
     "metadata": {},
     "output_type": "display_data"
    },
    {
     "name": "stdout",
     "output_type": "stream",
     "text": [
      "Enumerating monochromatic designs on level 2\n"
     ]
    },
    {
     "data": {
      "application/vnd.jupyter.widget-view+json": {
       "model_id": "1257457e0bf44feea47a727acac22b31",
       "version_major": 2,
       "version_minor": 0
      },
      "text/plain": [
       "0it [00:00, ?it/s]"
      ]
     },
     "metadata": {},
     "output_type": "display_data"
    },
    {
     "name": "stdout",
     "output_type": "stream",
     "text": [
      "Enumerating monochromatic designs on level 3\n"
     ]
    },
    {
     "data": {
      "application/vnd.jupyter.widget-view+json": {
       "model_id": "ff83b3df9e5a4fb99fe5eb1b715e427e",
       "version_major": 2,
       "version_minor": 0
      },
      "text/plain": [
       "0it [00:00, ?it/s]"
      ]
     },
     "metadata": {},
     "output_type": "display_data"
    },
    {
     "name": "stdout",
     "output_type": "stream",
     "text": [
      "Enumerating monochromatic designs on level 4\n"
     ]
    },
    {
     "data": {
      "application/vnd.jupyter.widget-view+json": {
       "model_id": "7da1ec59c86d4f1ab896249411003f5f",
       "version_major": 2,
       "version_minor": 0
      },
      "text/plain": [
       "0it [00:00, ?it/s]"
      ]
     },
     "metadata": {},
     "output_type": "display_data"
    },
    {
     "name": "stdout",
     "output_type": "stream",
     "text": [
      "Testing 4 designs with WL... (triangles only)\n"
     ]
    },
    {
     "data": {
      "application/vnd.jupyter.widget-view+json": {
       "model_id": "17d1bc8c22f241e6ba15f29f82f8770e",
       "version_major": 2,
       "version_minor": 0
      },
      "text/plain": [
       "  0%|          | 0/4 [00:00<?, ?it/s]"
      ]
     },
     "metadata": {},
     "output_type": "display_data"
    },
    {
     "name": "stdout",
     "output_type": "stream",
     "text": [
      "Found: <SAS of degree 8 and ranks [1, 2, 7, 10, 14, 10, 7, 2, 1]>\n",
      "Summary: (8, 54, [1, 2, 7, 10, 14, 10, 7, 2, 1], False, True, 'C4 x C2')\n",
      "Found: <SAS of degree 8 and ranks [1, 2, 7, 10, 14, 10, 7, 2, 1]>\n",
      "Summary: (8, 54, [1, 2, 7, 10, 14, 10, 7, 2, 1], False, True, 'D4')\n",
      "Searching for coherent refinements of <SAS of degree 8 and ranks [1, 2, 3, 3, 3, 3, 3, 2, 1]>\n",
      "Summary: (8, 21, [1, 2, 3, 3, 3, 3, 3, 2, 1], False, True, 'C2 x S6')\n"
     ]
    },
    {
     "data": {
      "application/vnd.jupyter.widget-view+json": {
       "model_id": "6cc0fabcfc534779a4d622925e17f976",
       "version_major": 2,
       "version_minor": 0
      },
      "text/plain": [
       "0it [00:00, ?it/s]"
      ]
     },
     "metadata": {},
     "output_type": "display_data"
    },
    {
     "name": "stdout",
     "output_type": "stream",
     "text": [
      "Enumerating monochromatic designs on level 1\n"
     ]
    },
    {
     "data": {
      "application/vnd.jupyter.widget-view+json": {
       "model_id": "86a6edc4b0ec43c485f12841d3895d5a",
       "version_major": 2,
       "version_minor": 0
      },
      "text/plain": [
       "0it [00:00, ?it/s]"
      ]
     },
     "metadata": {},
     "output_type": "display_data"
    },
    {
     "name": "stdout",
     "output_type": "stream",
     "text": [
      "Enumerating monochromatic designs on level 2\n"
     ]
    },
    {
     "data": {
      "application/vnd.jupyter.widget-view+json": {
       "model_id": "f6371daa653a41a9b4d3ad9303cb92a3",
       "version_major": 2,
       "version_minor": 0
      },
      "text/plain": [
       "0it [00:00, ?it/s]"
      ]
     },
     "metadata": {},
     "output_type": "display_data"
    },
    {
     "name": "stdout",
     "output_type": "stream",
     "text": [
      "Enumerating monochromatic designs on level 3\n"
     ]
    },
    {
     "data": {
      "application/vnd.jupyter.widget-view+json": {
       "model_id": "b679dc2f779b4642b92aae115ff7f737",
       "version_major": 2,
       "version_minor": 0
      },
      "text/plain": [
       "0it [00:00, ?it/s]"
      ]
     },
     "metadata": {},
     "output_type": "display_data"
    },
    {
     "name": "stdout",
     "output_type": "stream",
     "text": [
      "Enumerating monochromatic designs on level 4\n"
     ]
    },
    {
     "data": {
      "application/vnd.jupyter.widget-view+json": {
       "model_id": "4700867731d54ccd97fc1828a385fd54",
       "version_major": 2,
       "version_minor": 0
      },
      "text/plain": [
       "0it [00:00, ?it/s]"
      ]
     },
     "metadata": {},
     "output_type": "display_data"
    },
    {
     "name": "stdout",
     "output_type": "stream",
     "text": [
      "Testing 10 designs with WL... (triangles only)\n"
     ]
    },
    {
     "data": {
      "application/vnd.jupyter.widget-view+json": {
       "model_id": "66bc2f11db984f21afe752159036e568",
       "version_major": 2,
       "version_minor": 0
      },
      "text/plain": [
       "  0%|          | 0/10 [00:00<?, ?it/s]"
      ]
     },
     "metadata": {},
     "output_type": "display_data"
    },
    {
     "name": "stdout",
     "output_type": "stream",
     "text": [
      "Found: <SAS of degree 8 and ranks [1, 2, 5, 6, 8, 6, 5, 2, 1]>\n",
      "Summary: (8, 36, [1, 2, 5, 6, 8, 6, 5, 2, 1], False, True, '(S3 x S3) : C2')\n",
      "Found: <SAS of degree 8 and ranks [1, 2, 3, 4, 4, 4, 3, 2, 1]>\n",
      "Summary: (8, 24, [1, 2, 3, 4, 4, 4, 3, 2, 1], False, True, 'C2 x A5')\n",
      "Found: <SAS of degree 8 and ranks [1, 2, 4, 5, 6, 5, 4, 2, 1]>\n",
      "Summary: (8, 30, [1, 2, 4, 5, 6, 5, 4, 2, 1], False, True, 'C2 x C2 x S4')\n",
      "Found: <SAS of degree 8 and ranks [1, 2, 3, 3, 4, 3, 3, 2, 1]>\n",
      "Summary: (8, 22, [1, 2, 3, 3, 4, 3, 3, 2, 1], False, True, 'S5')\n",
      "Found: <SAS of degree 8 and ranks [1, 2, 5, 7, 9, 7, 5, 2, 1]>\n",
      "Summary: (8, 39, [1, 2, 5, 7, 9, 7, 5, 2, 1], False, True, 'C2 x C2 x S3')\n",
      "Found: <SAS of degree 8 and ranks [1, 2, 4, 5, 6, 5, 4, 2, 1]>\n",
      "Summary: (8, 30, [1, 2, 4, 5, 6, 5, 4, 2, 1], False, True, 'C2 x ((S3 x S3) : C2)')\n",
      "Searching for coherent refinements of <SAS of degree 8 and ranks [1, 3, 5, 6, 6, 6, 5, 3, 1]>\n",
      "Summary: (8, 36, [1, 3, 5, 6, 6, 6, 5, 3, 1], False, True, 'C2 x S5')\n"
     ]
    },
    {
     "data": {
      "application/vnd.jupyter.widget-view+json": {
       "model_id": "70f8e836ae654c3da65829d3e8871172",
       "version_major": 2,
       "version_minor": 0
      },
      "text/plain": [
       "0it [00:00, ?it/s]"
      ]
     },
     "metadata": {},
     "output_type": "display_data"
    },
    {
     "name": "stdout",
     "output_type": "stream",
     "text": [
      "Enumerating monochromatic designs on level 1\n"
     ]
    },
    {
     "data": {
      "application/vnd.jupyter.widget-view+json": {
       "model_id": "b520b84968494feead618becaa6e7a2c",
       "version_major": 2,
       "version_minor": 0
      },
      "text/plain": [
       "0it [00:00, ?it/s]"
      ]
     },
     "metadata": {},
     "output_type": "display_data"
    },
    {
     "name": "stdout",
     "output_type": "stream",
     "text": [
      "Enumerating monochromatic designs on level 2\n"
     ]
    },
    {
     "data": {
      "application/vnd.jupyter.widget-view+json": {
       "model_id": "ae7e0ff1a126404788755f4ae9ac67f8",
       "version_major": 2,
       "version_minor": 0
      },
      "text/plain": [
       "0it [00:00, ?it/s]"
      ]
     },
     "metadata": {},
     "output_type": "display_data"
    },
    {
     "name": "stdout",
     "output_type": "stream",
     "text": [
      "Enumerating monochromatic designs on level 3\n"
     ]
    },
    {
     "data": {
      "application/vnd.jupyter.widget-view+json": {
       "model_id": "5d073dfb2ca34b9ea379aca547cc6413",
       "version_major": 2,
       "version_minor": 0
      },
      "text/plain": [
       "0it [00:00, ?it/s]"
      ]
     },
     "metadata": {},
     "output_type": "display_data"
    },
    {
     "name": "stdout",
     "output_type": "stream",
     "text": [
      "Enumerating monochromatic designs on level 4\n"
     ]
    },
    {
     "data": {
      "application/vnd.jupyter.widget-view+json": {
       "model_id": "bba7e14507004e579688aa6a4355fc65",
       "version_major": 2,
       "version_minor": 0
      },
      "text/plain": [
       "0it [00:00, ?it/s]"
      ]
     },
     "metadata": {},
     "output_type": "display_data"
    },
    {
     "name": "stdout",
     "output_type": "stream",
     "text": [
      "Testing 5 designs with WL... (triangles only)\n"
     ]
    },
    {
     "data": {
      "application/vnd.jupyter.widget-view+json": {
       "model_id": "a07821207dac43e4a421054e707c0409",
       "version_major": 2,
       "version_minor": 0
      },
      "text/plain": [
       "  0%|          | 0/5 [00:00<?, ?it/s]"
      ]
     },
     "metadata": {},
     "output_type": "display_data"
    },
    {
     "name": "stdout",
     "output_type": "stream",
     "text": [
      "Found: <SAS of degree 8 and ranks [1, 3, 6, 9, 10, 9, 6, 3, 1]>\n",
      "Summary: (8, 48, [1, 3, 6, 9, 10, 9, 6, 3, 1], False, True, 'D10')\n",
      "Found: <SAS of degree 8 and ranks [1, 4, 9, 14, 16, 14, 9, 4, 1]>\n",
      "Summary: (8, 72, [1, 4, 9, 14, 16, 14, 9, 4, 1], False, True, 'C2 x C2 x S3')\n",
      "Found: <SAS of degree 8 and ranks [1, 3, 5, 7, 8, 7, 5, 3, 1]>\n",
      "Summary: (8, 40, [1, 3, 5, 7, 8, 7, 5, 3, 1], False, True, 'C5 : C4')\n",
      "Found: <SAS of degree 8 and ranks [1, 4, 7, 8, 8, 8, 7, 4, 1]>\n",
      "Summary: (8, 48, [1, 4, 7, 8, 8, 8, 7, 4, 1], False, True, 'S5')\n",
      "Found: <SAS of degree 8 and ranks [1, 4, 8, 11, 12, 11, 8, 4, 1]>\n",
      "Summary: (8, 60, [1, 4, 8, 11, 12, 11, 8, 4, 1], False, True, 'C2 x S4')\n",
      "Searching for coherent refinements of <SAS of degree 8 and ranks [1, 3, 6, 9, 10, 9, 6, 3, 1]>\n",
      "Summary: (8, 48, [1, 3, 6, 9, 10, 9, 6, 3, 1], False, True, 'D4 x S3')\n"
     ]
    },
    {
     "data": {
      "application/vnd.jupyter.widget-view+json": {
       "model_id": "2b4e19214a1a4e83855857830ec12457",
       "version_major": 2,
       "version_minor": 0
      },
      "text/plain": [
       "0it [00:00, ?it/s]"
      ]
     },
     "metadata": {},
     "output_type": "display_data"
    },
    {
     "name": "stdout",
     "output_type": "stream",
     "text": [
      "Enumerating monochromatic designs on level 2\n"
     ]
    },
    {
     "data": {
      "application/vnd.jupyter.widget-view+json": {
       "model_id": "08e545a374f24ea88381e99c8a5a2120",
       "version_major": 2,
       "version_minor": 0
      },
      "text/plain": [
       "0it [00:00, ?it/s]"
      ]
     },
     "metadata": {},
     "output_type": "display_data"
    },
    {
     "name": "stdout",
     "output_type": "stream",
     "text": [
      "Enumerating monochromatic designs on level 3\n"
     ]
    },
    {
     "data": {
      "application/vnd.jupyter.widget-view+json": {
       "model_id": "831308efb4e54b81b801867eb747fd7a",
       "version_major": 2,
       "version_minor": 0
      },
      "text/plain": [
       "0it [00:00, ?it/s]"
      ]
     },
     "metadata": {},
     "output_type": "display_data"
    },
    {
     "name": "stdout",
     "output_type": "stream",
     "text": [
      "Enumerating monochromatic designs on level 4\n"
     ]
    },
    {
     "data": {
      "application/vnd.jupyter.widget-view+json": {
       "model_id": "561d1d7287f3425a864c343f6b7943ca",
       "version_major": 2,
       "version_minor": 0
      },
      "text/plain": [
       "0it [00:00, ?it/s]"
      ]
     },
     "metadata": {},
     "output_type": "display_data"
    },
    {
     "name": "stdout",
     "output_type": "stream",
     "text": [
      "Testing 1 designs with WL... (triangles only)\n"
     ]
    },
    {
     "data": {
      "application/vnd.jupyter.widget-view+json": {
       "model_id": "19a42b6d8cb648d2a52c4ffc419c2a63",
       "version_major": 2,
       "version_minor": 0
      },
      "text/plain": [
       "  0%|          | 0/1 [00:00<?, ?it/s]"
      ]
     },
     "metadata": {},
     "output_type": "display_data"
    },
    {
     "name": "stdout",
     "output_type": "stream",
     "text": [
      "Found: <SAS of degree 8 and ranks [1, 3, 7, 11, 12, 11, 7, 3, 1]>\n",
      "Summary: (8, 56, [1, 3, 7, 11, 12, 11, 7, 3, 1], False, True, 'C2 x C2 x S3')\n",
      "Searching for coherent refinements of <SAS of degree 8 and ranks [1, 2, 2, 3, 4, 3, 2, 2, 1]>\n",
      "Summary: (8, 20, [1, 2, 2, 3, 4, 3, 2, 2, 1], False, True, 'C7 : C6')\n"
     ]
    },
    {
     "data": {
      "application/vnd.jupyter.widget-view+json": {
       "model_id": "c1f6e4a193b644de8410e22fce7e8656",
       "version_major": 2,
       "version_minor": 0
      },
      "text/plain": [
       "0it [00:00, ?it/s]"
      ]
     },
     "metadata": {},
     "output_type": "display_data"
    },
    {
     "name": "stdout",
     "output_type": "stream",
     "text": [
      "Enumerating monochromatic designs on level 3\n"
     ]
    },
    {
     "data": {
      "application/vnd.jupyter.widget-view+json": {
       "model_id": "8093def6e6334c1f9ba81f3e2380da13",
       "version_major": 2,
       "version_minor": 0
      },
      "text/plain": [
       "0it [00:00, ?it/s]"
      ]
     },
     "metadata": {},
     "output_type": "display_data"
    },
    {
     "name": "stdout",
     "output_type": "stream",
     "text": [
      "Enumerating monochromatic designs on level 4\n"
     ]
    },
    {
     "data": {
      "application/vnd.jupyter.widget-view+json": {
       "model_id": "71dee8e8d4ec45e79d75246f8efe822a",
       "version_major": 2,
       "version_minor": 0
      },
      "text/plain": [
       "0it [00:00, ?it/s]"
      ]
     },
     "metadata": {},
     "output_type": "display_data"
    },
    {
     "name": "stdout",
     "output_type": "stream",
     "text": [
      "Testing 1 designs with WL... (triangles only)\n"
     ]
    },
    {
     "data": {
      "application/vnd.jupyter.widget-view+json": {
       "model_id": "c9dc20b10a9e46fe8bcbe2b3641f5a1f",
       "version_major": 2,
       "version_minor": 0
      },
      "text/plain": [
       "  0%|          | 0/1 [00:00<?, ?it/s]"
      ]
     },
     "metadata": {},
     "output_type": "display_data"
    },
    {
     "name": "stdout",
     "output_type": "stream",
     "text": [
      "Found: <SAS of degree 8 and ranks [1, 2, 2, 4, 6, 4, 2, 2, 1]>\n",
      "Summary: (8, 24, [1, 2, 2, 4, 6, 4, 2, 2, 1], False, True, 'C7 : C3')\n",
      "Searching for coherent refinements of <SAS of degree 8 and ranks [1, 3, 5, 7, 8, 7, 5, 3, 1]>\n",
      "Summary: (8, 40, [1, 3, 5, 7, 8, 7, 5, 3, 1], False, True, 'S3 x S4')\n"
     ]
    },
    {
     "data": {
      "application/vnd.jupyter.widget-view+json": {
       "model_id": "41548c0eb2f346f08efc189a700e5bed",
       "version_major": 2,
       "version_minor": 0
      },
      "text/plain": [
       "0it [00:00, ?it/s]"
      ]
     },
     "metadata": {},
     "output_type": "display_data"
    },
    {
     "name": "stdout",
     "output_type": "stream",
     "text": [
      "Enumerating monochromatic designs on level 1\n"
     ]
    },
    {
     "data": {
      "application/vnd.jupyter.widget-view+json": {
       "model_id": "2474ba52e09b441492abcf0c35ba9d2e",
       "version_major": 2,
       "version_minor": 0
      },
      "text/plain": [
       "0it [00:00, ?it/s]"
      ]
     },
     "metadata": {},
     "output_type": "display_data"
    },
    {
     "name": "stdout",
     "output_type": "stream",
     "text": [
      "Enumerating monochromatic designs on level 2\n"
     ]
    },
    {
     "data": {
      "application/vnd.jupyter.widget-view+json": {
       "model_id": "24a12717bf5c455597a142ed4c0d0ac5",
       "version_major": 2,
       "version_minor": 0
      },
      "text/plain": [
       "0it [00:00, ?it/s]"
      ]
     },
     "metadata": {},
     "output_type": "display_data"
    },
    {
     "name": "stdout",
     "output_type": "stream",
     "text": [
      "Enumerating monochromatic designs on level 3\n"
     ]
    },
    {
     "data": {
      "application/vnd.jupyter.widget-view+json": {
       "model_id": "393ba853723b48729b27f59167045cd8",
       "version_major": 2,
       "version_minor": 0
      },
      "text/plain": [
       "0it [00:00, ?it/s]"
      ]
     },
     "metadata": {},
     "output_type": "display_data"
    },
    {
     "name": "stdout",
     "output_type": "stream",
     "text": [
      "Enumerating monochromatic designs on level 4\n"
     ]
    },
    {
     "data": {
      "application/vnd.jupyter.widget-view+json": {
       "model_id": "256c5a143ce34c29801e2a597870c572",
       "version_major": 2,
       "version_minor": 0
      },
      "text/plain": [
       "0it [00:00, ?it/s]"
      ]
     },
     "metadata": {},
     "output_type": "display_data"
    },
    {
     "name": "stdout",
     "output_type": "stream",
     "text": [
      "Testing 5 designs with WL... (triangles only)\n"
     ]
    },
    {
     "data": {
      "application/vnd.jupyter.widget-view+json": {
       "model_id": "dc7983998ea34e269c57bb91bf2b5c49",
       "version_major": 2,
       "version_minor": 0
      },
      "text/plain": [
       "  0%|          | 0/5 [00:00<?, ?it/s]"
      ]
     },
     "metadata": {},
     "output_type": "display_data"
    },
    {
     "name": "stdout",
     "output_type": "stream",
     "text": [
      "Found: <SAS of degree 8 and ranks [1, 3, 5, 8, 10, 8, 5, 3, 1]>\n",
      "Summary: (8, 44, [1, 3, 5, 8, 10, 8, 5, 3, 1], False, True, 'S4')\n",
      "Found: <SAS of degree 8 and ranks [1, 4, 8, 12, 14, 12, 8, 4, 1]>\n",
      "Summary: (8, 64, [1, 4, 8, 12, 14, 12, 8, 4, 1], False, True, 'S3 x S3')\n",
      "Searching for coherent refinements of <SAS of degree 8 and ranks [1, 2, 4, 7, 8, 7, 4, 2, 1]>\n",
      "Summary: (8, 36, [1, 2, 4, 7, 8, 7, 4, 2, 1], False, True, 'D7')\n"
     ]
    },
    {
     "data": {
      "application/vnd.jupyter.widget-view+json": {
       "model_id": "6a5d046aa6f34e8eb597b9891a16af37",
       "version_major": 2,
       "version_minor": 0
      },
      "text/plain": [
       "0it [00:00, ?it/s]"
      ]
     },
     "metadata": {},
     "output_type": "display_data"
    },
    {
     "name": "stdout",
     "output_type": "stream",
     "text": [
      "Enumerating monochromatic designs on level 2\n"
     ]
    },
    {
     "data": {
      "application/vnd.jupyter.widget-view+json": {
       "model_id": "e1ca2b7c1e394be7bb5a116faacc59cf",
       "version_major": 2,
       "version_minor": 0
      },
      "text/plain": [
       "0it [00:00, ?it/s]"
      ]
     },
     "metadata": {},
     "output_type": "display_data"
    },
    {
     "name": "stdout",
     "output_type": "stream",
     "text": [
      "Enumerating monochromatic designs on level 3\n"
     ]
    },
    {
     "data": {
      "application/vnd.jupyter.widget-view+json": {
       "model_id": "ec4da0f33d6549668f0f62cf766b1325",
       "version_major": 2,
       "version_minor": 0
      },
      "text/plain": [
       "0it [00:00, ?it/s]"
      ]
     },
     "metadata": {},
     "output_type": "display_data"
    },
    {
     "name": "stdout",
     "output_type": "stream",
     "text": [
      "Enumerating monochromatic designs on level 4\n"
     ]
    },
    {
     "data": {
      "application/vnd.jupyter.widget-view+json": {
       "model_id": "16d6f824a45b4ef5917f5ee4592963eb",
       "version_major": 2,
       "version_minor": 0
      },
      "text/plain": [
       "0it [00:00, ?it/s]"
      ]
     },
     "metadata": {},
     "output_type": "display_data"
    },
    {
     "name": "stdout",
     "output_type": "stream",
     "text": [
      "Testing 1 designs with WL... (triangles only)\n"
     ]
    },
    {
     "data": {
      "application/vnd.jupyter.widget-view+json": {
       "model_id": "7af56066a13044da8baffe7b77f78dff",
       "version_major": 2,
       "version_minor": 0
      },
      "text/plain": [
       "  0%|          | 0/1 [00:00<?, ?it/s]"
      ]
     },
     "metadata": {},
     "output_type": "display_data"
    },
    {
     "name": "stdout",
     "output_type": "stream",
     "text": [
      "Found: <SAS of degree 8 and ranks [1, 2, 4, 8, 10, 8, 4, 2, 1]>\n",
      "Summary: (8, 40, [1, 2, 4, 8, 10, 8, 4, 2, 1], False, True, 'C7')\n",
      "Searching for coherent refinements of <SAS of degree 8 and ranks [1, 2, 2, 3, 4, 3, 2, 2, 1]>\n",
      "Summary: (8, 20, [1, 2, 2, 3, 4, 3, 2, 2, 1], False, True, 'PSL(3,2)')\n"
     ]
    },
    {
     "data": {
      "application/vnd.jupyter.widget-view+json": {
       "model_id": "b8dc6b374cc341f79eb693651b01e083",
       "version_major": 2,
       "version_minor": 0
      },
      "text/plain": [
       "0it [00:00, ?it/s]"
      ]
     },
     "metadata": {},
     "output_type": "display_data"
    },
    {
     "name": "stdout",
     "output_type": "stream",
     "text": [
      "Enumerating monochromatic designs on level 3\n"
     ]
    },
    {
     "data": {
      "application/vnd.jupyter.widget-view+json": {
       "model_id": "aaa1ce2ea742479bbedec7083c2639f3",
       "version_major": 2,
       "version_minor": 0
      },
      "text/plain": [
       "0it [00:00, ?it/s]"
      ]
     },
     "metadata": {},
     "output_type": "display_data"
    },
    {
     "name": "stdout",
     "output_type": "stream",
     "text": [
      "Enumerating monochromatic designs on level 4\n"
     ]
    },
    {
     "data": {
      "application/vnd.jupyter.widget-view+json": {
       "model_id": "40ef3682402c46fbaf7f009e001deec1",
       "version_major": 2,
       "version_minor": 0
      },
      "text/plain": [
       "0it [00:00, ?it/s]"
      ]
     },
     "metadata": {},
     "output_type": "display_data"
    },
    {
     "name": "stdout",
     "output_type": "stream",
     "text": [
      "Testing 1 designs with WL... (triangles only)\n"
     ]
    },
    {
     "data": {
      "application/vnd.jupyter.widget-view+json": {
       "model_id": "8943936b97a849958a0e721b55df2f1c",
       "version_major": 2,
       "version_minor": 0
      },
      "text/plain": [
       "  0%|          | 0/1 [00:00<?, ?it/s]"
      ]
     },
     "metadata": {},
     "output_type": "display_data"
    },
    {
     "name": "stdout",
     "output_type": "stream",
     "text": [
      "Searching for coherent refinements of <SAS of degree 8 and ranks [1, 3, 4, 4, 4, 4, 4, 3, 1]>\n",
      "Summary: (8, 28, [1, 3, 4, 4, 4, 4, 4, 3, 1], False, True, 'S6')\n"
     ]
    },
    {
     "data": {
      "application/vnd.jupyter.widget-view+json": {
       "model_id": "65fa8dae9f394821929de8a20032ed32",
       "version_major": 2,
       "version_minor": 0
      },
      "text/plain": [
       "0it [00:00, ?it/s]"
      ]
     },
     "metadata": {},
     "output_type": "display_data"
    },
    {
     "name": "stdout",
     "output_type": "stream",
     "text": [
      "Enumerating monochromatic designs on level 1\n"
     ]
    },
    {
     "data": {
      "application/vnd.jupyter.widget-view+json": {
       "model_id": "043fa653499c4142b4d356f42e928f57",
       "version_major": 2,
       "version_minor": 0
      },
      "text/plain": [
       "0it [00:00, ?it/s]"
      ]
     },
     "metadata": {},
     "output_type": "display_data"
    },
    {
     "name": "stdout",
     "output_type": "stream",
     "text": [
      "Enumerating monochromatic designs on level 2\n"
     ]
    },
    {
     "data": {
      "application/vnd.jupyter.widget-view+json": {
       "model_id": "24cf67a406d048ec8cf2f5976781e7fe",
       "version_major": 2,
       "version_minor": 0
      },
      "text/plain": [
       "0it [00:00, ?it/s]"
      ]
     },
     "metadata": {},
     "output_type": "display_data"
    },
    {
     "name": "stdout",
     "output_type": "stream",
     "text": [
      "Enumerating monochromatic designs on level 3\n"
     ]
    },
    {
     "data": {
      "application/vnd.jupyter.widget-view+json": {
       "model_id": "955e1dd8701a467a99aabdae0e35c916",
       "version_major": 2,
       "version_minor": 0
      },
      "text/plain": [
       "0it [00:00, ?it/s]"
      ]
     },
     "metadata": {},
     "output_type": "display_data"
    },
    {
     "name": "stdout",
     "output_type": "stream",
     "text": [
      "Enumerating monochromatic designs on level 4\n"
     ]
    },
    {
     "data": {
      "application/vnd.jupyter.widget-view+json": {
       "model_id": "f56922d1713b4e5fb6b873ec8ae1300f",
       "version_major": 2,
       "version_minor": 0
      },
      "text/plain": [
       "0it [00:00, ?it/s]"
      ]
     },
     "metadata": {},
     "output_type": "display_data"
    },
    {
     "name": "stdout",
     "output_type": "stream",
     "text": [
      "Testing 7 designs with WL... (triangles only)\n"
     ]
    },
    {
     "data": {
      "application/vnd.jupyter.widget-view+json": {
       "model_id": "b3755df2b66f47028ba5308d07c2bc57",
       "version_major": 2,
       "version_minor": 0
      },
      "text/plain": [
       "  0%|          | 0/7 [00:00<?, ?it/s]"
      ]
     },
     "metadata": {},
     "output_type": "display_data"
    },
    {
     "name": "stdout",
     "output_type": "stream",
     "text": [
      "Found: <SAS of degree 8 and ranks [1, 3, 4, 5, 6, 5, 4, 3, 1]>\n",
      "Summary: (8, 32, [1, 3, 4, 5, 6, 5, 4, 3, 1], False, True, 'A5')\n",
      "Found: <SAS of degree 8 and ranks [1, 3, 5, 7, 8, 7, 5, 3, 1]>\n",
      "Summary: (8, 40, [1, 3, 5, 7, 8, 7, 5, 3, 1], False, True, '(S3 x S3) : C2')\n",
      "Found: <SAS of degree 8 and ranks [1, 3, 6, 10, 12, 10, 6, 3, 1]>\n",
      "Summary: (8, 52, [1, 3, 6, 10, 12, 10, 6, 3, 1], False, True, 'D6')\n",
      "Found: <SAS of degree 8 and ranks [1, 3, 5, 7, 8, 7, 5, 3, 1]>\n",
      "Summary: (8, 40, [1, 3, 5, 7, 8, 7, 5, 3, 1], False, True, 'C2 x S4')\n",
      "Searching for coherent refinements of <SAS of degree 8 and ranks [1, 4, 10, 20, 26, 20, 10, 4, 1]>\n",
      "Summary: (8, 96, [1, 4, 10, 20, 26, 20, 10, 4, 1], False, True, 'C3')\n"
     ]
    },
    {
     "data": {
      "application/vnd.jupyter.widget-view+json": {
       "model_id": "afb218aa2c40498980dfc8d5f69db9db",
       "version_major": 2,
       "version_minor": 0
      },
      "text/plain": [
       "0it [00:00, ?it/s]"
      ]
     },
     "metadata": {},
     "output_type": "display_data"
    },
    {
     "name": "stdout",
     "output_type": "stream",
     "text": [
      "Enumerating monochromatic designs on level 3\n"
     ]
    },
    {
     "data": {
      "application/vnd.jupyter.widget-view+json": {
       "model_id": "7fc731035f2543b9a800db09570bc149",
       "version_major": 2,
       "version_minor": 0
      },
      "text/plain": [
       "0it [00:00, ?it/s]"
      ]
     },
     "metadata": {},
     "output_type": "display_data"
    },
    {
     "name": "stdout",
     "output_type": "stream",
     "text": [
      "Enumerating monochromatic designs on level 4\n"
     ]
    },
    {
     "data": {
      "application/vnd.jupyter.widget-view+json": {
       "model_id": "86ca98bafa2f41978e7b0fd27fb6dc25",
       "version_major": 2,
       "version_minor": 0
      },
      "text/plain": [
       "0it [00:00, ?it/s]"
      ]
     },
     "metadata": {},
     "output_type": "display_data"
    },
    {
     "name": "stdout",
     "output_type": "stream",
     "text": [
      "Testing 0 designs with WL... (triangles only)\n"
     ]
    },
    {
     "data": {
      "application/vnd.jupyter.widget-view+json": {
       "model_id": "cf347a40ce0b494f98bdd97e230a2e20",
       "version_major": 2,
       "version_minor": 0
      },
      "text/plain": [
       "0it [00:00, ?it/s]"
      ]
     },
     "metadata": {},
     "output_type": "display_data"
    },
    {
     "name": "stdout",
     "output_type": "stream",
     "text": [
      "Searching for coherent refinements of <SAS of degree 8 and ranks [1, 2, 8, 14, 20, 14, 8, 2, 1]>\n",
      "Summary: (8, 70, [1, 2, 8, 14, 20, 14, 8, 2, 1], False, True, 'C4')\n"
     ]
    },
    {
     "data": {
      "application/vnd.jupyter.widget-view+json": {
       "model_id": "7d45cefea8d341a1999e7263b2775220",
       "version_major": 2,
       "version_minor": 0
      },
      "text/plain": [
       "0it [00:00, ?it/s]"
      ]
     },
     "metadata": {},
     "output_type": "display_data"
    },
    {
     "name": "stdout",
     "output_type": "stream",
     "text": [
      "Enumerating monochromatic designs on level 3\n"
     ]
    },
    {
     "data": {
      "application/vnd.jupyter.widget-view+json": {
       "model_id": "6a8274bc16ee46de84c3e8024845c769",
       "version_major": 2,
       "version_minor": 0
      },
      "text/plain": [
       "0it [00:00, ?it/s]"
      ]
     },
     "metadata": {},
     "output_type": "display_data"
    },
    {
     "name": "stdout",
     "output_type": "stream",
     "text": [
      "Enumerating monochromatic designs on level 4\n"
     ]
    },
    {
     "data": {
      "application/vnd.jupyter.widget-view+json": {
       "model_id": "dab4f3a6c9a34e5fbeb9dc84ac2c566f",
       "version_major": 2,
       "version_minor": 0
      },
      "text/plain": [
       "0it [00:00, ?it/s]"
      ]
     },
     "metadata": {},
     "output_type": "display_data"
    },
    {
     "name": "stdout",
     "output_type": "stream",
     "text": [
      "Testing 0 designs with WL... (triangles only)\n"
     ]
    },
    {
     "data": {
      "application/vnd.jupyter.widget-view+json": {
       "model_id": "14292eb67b22457db181ed314e16a984",
       "version_major": 2,
       "version_minor": 0
      },
      "text/plain": [
       "0it [00:00, ?it/s]"
      ]
     },
     "metadata": {},
     "output_type": "display_data"
    },
    {
     "name": "stdout",
     "output_type": "stream",
     "text": [
      "Searching for coherent refinements of <SAS of degree 8 and ranks [1, 4, 11, 20, 24, 20, 11, 4, 1]>\n",
      "Summary: (8, 96, [1, 4, 11, 20, 24, 20, 11, 4, 1], False, True, 'C2 x C2')\n"
     ]
    },
    {
     "data": {
      "application/vnd.jupyter.widget-view+json": {
       "model_id": "9913d1fcf66e4349aeecf344711a7c25",
       "version_major": 2,
       "version_minor": 0
      },
      "text/plain": [
       "0it [00:00, ?it/s]"
      ]
     },
     "metadata": {},
     "output_type": "display_data"
    },
    {
     "name": "stdout",
     "output_type": "stream",
     "text": [
      "Enumerating monochromatic designs on level 3\n"
     ]
    },
    {
     "data": {
      "application/vnd.jupyter.widget-view+json": {
       "model_id": "455ee9825c5a49e3a1d84f276f274f47",
       "version_major": 2,
       "version_minor": 0
      },
      "text/plain": [
       "0it [00:00, ?it/s]"
      ]
     },
     "metadata": {},
     "output_type": "display_data"
    },
    {
     "name": "stdout",
     "output_type": "stream",
     "text": [
      "Enumerating monochromatic designs on level 4\n"
     ]
    },
    {
     "data": {
      "application/vnd.jupyter.widget-view+json": {
       "model_id": "520a6be41af8402f80ab8c6fef074482",
       "version_major": 2,
       "version_minor": 0
      },
      "text/plain": [
       "0it [00:00, ?it/s]"
      ]
     },
     "metadata": {},
     "output_type": "display_data"
    },
    {
     "name": "stdout",
     "output_type": "stream",
     "text": [
      "Testing 0 designs with WL... (triangles only)\n"
     ]
    },
    {
     "data": {
      "application/vnd.jupyter.widget-view+json": {
       "model_id": "b1d3b4b272744e2492a38ec25d777a0e",
       "version_major": 2,
       "version_minor": 0
      },
      "text/plain": [
       "0it [00:00, ?it/s]"
      ]
     },
     "metadata": {},
     "output_type": "display_data"
    },
    {
     "name": "stdout",
     "output_type": "stream",
     "text": [
      "Searching for coherent refinements of <SAS of degree 8 and ranks [1, 8, 28, 56, 70, 56, 28, 8, 1]>\n",
      "Summary: (8, 256, [1, 8, 28, 56, 70, 56, 28, 8, 1], False, True, '1')\n"
     ]
    },
    {
     "data": {
      "application/vnd.jupyter.widget-view+json": {
       "model_id": "8faf2822cc9b4d0a8d024bdb8b292088",
       "version_major": 2,
       "version_minor": 0
      },
      "text/plain": [
       "0it [00:00, ?it/s]"
      ]
     },
     "metadata": {},
     "output_type": "display_data"
    },
    {
     "name": "stdout",
     "output_type": "stream",
     "text": [
      "Enumerating monochromatic designs on level 3\n"
     ]
    },
    {
     "data": {
      "application/vnd.jupyter.widget-view+json": {
       "model_id": "b94700e507fd4737ae7e96094f9f7562",
       "version_major": 2,
       "version_minor": 0
      },
      "text/plain": [
       "0it [00:00, ?it/s]"
      ]
     },
     "metadata": {},
     "output_type": "display_data"
    },
    {
     "name": "stdout",
     "output_type": "stream",
     "text": [
      "Enumerating monochromatic designs on level 4\n"
     ]
    },
    {
     "data": {
      "application/vnd.jupyter.widget-view+json": {
       "model_id": "86d178a6f3794a8d9119ee6d8948c68f",
       "version_major": 2,
       "version_minor": 0
      },
      "text/plain": [
       "0it [00:00, ?it/s]"
      ]
     },
     "metadata": {},
     "output_type": "display_data"
    },
    {
     "name": "stdout",
     "output_type": "stream",
     "text": [
      "Testing 0 designs with WL... (triangles only)\n"
     ]
    },
    {
     "data": {
      "application/vnd.jupyter.widget-view+json": {
       "model_id": "a84248f8121d438d86fa2c809c29ca4a",
       "version_major": 2,
       "version_minor": 0
      },
      "text/plain": [
       "0it [00:00, ?it/s]"
      ]
     },
     "metadata": {},
     "output_type": "display_data"
    },
    {
     "name": "stdout",
     "output_type": "stream",
     "text": [
      "Searching for coherent refinements of <SAS of degree 8 and ranks [1, 1, 2, 2, 4, 2, 2, 1, 1]>\n",
      "Summary: (8, 16, [1, 1, 2, 2, 4, 2, 2, 1, 1], True, True, '(((C2 x C2 x C2 x C2) : C3) : C2) : C2')\n"
     ]
    },
    {
     "data": {
      "application/vnd.jupyter.widget-view+json": {
       "model_id": "3d8f75db54c4416c8d407f0c86c401ae",
       "version_major": 2,
       "version_minor": 0
      },
      "text/plain": [
       "0it [00:00, ?it/s]"
      ]
     },
     "metadata": {},
     "output_type": "display_data"
    },
    {
     "name": "stdout",
     "output_type": "stream",
     "text": [
      "Enumerating monochromatic designs on level 4\n"
     ]
    },
    {
     "data": {
      "application/vnd.jupyter.widget-view+json": {
       "model_id": "31c878724905485082ec291952f633cd",
       "version_major": 2,
       "version_minor": 0
      },
      "text/plain": [
       "0it [00:00, ?it/s]"
      ]
     },
     "metadata": {},
     "output_type": "display_data"
    },
    {
     "name": "stdout",
     "output_type": "stream",
     "text": [
      "Testing 1 designs with WL... (triangles only)\n"
     ]
    },
    {
     "data": {
      "application/vnd.jupyter.widget-view+json": {
       "model_id": "7bfda06edbed41ff9d88d70d06dfa664",
       "version_major": 2,
       "version_minor": 0
      },
      "text/plain": [
       "  0%|          | 0/1 [00:00<?, ?it/s]"
      ]
     },
     "metadata": {},
     "output_type": "display_data"
    },
    {
     "name": "stdout",
     "output_type": "stream",
     "text": [
      "Found: <SAS of degree 8 and ranks [1, 1, 2, 2, 5, 2, 2, 1, 1]>\n",
      "Summary: (8, 17, [1, 1, 2, 2, 5, 2, 2, 1, 1], True, True, '((C2 x C2 x C2 x C2) : C3) : C2')\n",
      "Searching for coherent refinements of <SAS of degree 8 and ranks [1, 1, 4, 4, 7, 4, 4, 1, 1]>\n",
      "Summary: (8, 27, [1, 1, 4, 4, 7, 4, 4, 1, 1], True, True, '((C2 x C2 x C2 x C2) : C2) : C2')\n"
     ]
    },
    {
     "data": {
      "application/vnd.jupyter.widget-view+json": {
       "model_id": "fe907195abba4990b9527596880a7799",
       "version_major": 2,
       "version_minor": 0
      },
      "text/plain": [
       "0it [00:00, ?it/s]"
      ]
     },
     "metadata": {},
     "output_type": "display_data"
    },
    {
     "name": "stdout",
     "output_type": "stream",
     "text": [
      "Enumerating monochromatic designs on level 2\n"
     ]
    },
    {
     "data": {
      "application/vnd.jupyter.widget-view+json": {
       "model_id": "e1e1c98f44864631a1c26e6a1c39fbc1",
       "version_major": 2,
       "version_minor": 0
      },
      "text/plain": [
       "0it [00:00, ?it/s]"
      ]
     },
     "metadata": {},
     "output_type": "display_data"
    },
    {
     "name": "stdout",
     "output_type": "stream",
     "text": [
      "Enumerating monochromatic designs on level 3\n"
     ]
    },
    {
     "data": {
      "application/vnd.jupyter.widget-view+json": {
       "model_id": "3d40c7fce7e64ccfba1ee40e17b1f0ff",
       "version_major": 2,
       "version_minor": 0
      },
      "text/plain": [
       "0it [00:00, ?it/s]"
      ]
     },
     "metadata": {},
     "output_type": "display_data"
    },
    {
     "name": "stdout",
     "output_type": "stream",
     "text": [
      "Enumerating monochromatic designs on level 4\n"
     ]
    },
    {
     "data": {
      "application/vnd.jupyter.widget-view+json": {
       "model_id": "af04f4178fc54940b9c08863843c04e3",
       "version_major": 2,
       "version_minor": 0
      },
      "text/plain": [
       "0it [00:00, ?it/s]"
      ]
     },
     "metadata": {},
     "output_type": "display_data"
    },
    {
     "name": "stdout",
     "output_type": "stream",
     "text": [
      "Testing 6 designs with WL... (triangles only)\n"
     ]
    },
    {
     "data": {
      "application/vnd.jupyter.widget-view+json": {
       "model_id": "d5d62d244a0b4fd9be831e536a89b33f",
       "version_major": 2,
       "version_minor": 0
      },
      "text/plain": [
       "  0%|          | 0/6 [00:00<?, ?it/s]"
      ]
     },
     "metadata": {},
     "output_type": "display_data"
    },
    {
     "name": "stdout",
     "output_type": "stream",
     "text": [
      "Found: <SAS of degree 8 and ranks [1, 1, 4, 7, 10, 7, 4, 1, 1]>\n",
      "Summary: (8, 36, [1, 1, 4, 7, 10, 7, 4, 1, 1], True, False, 'Q8')\n",
      "Found: <SAS of degree 8 and ranks [1, 1, 4, 4, 8, 4, 4, 1, 1]>\n",
      "Summary: (8, 28, [1, 1, 4, 4, 8, 4, 4, 1, 1], True, True, '(C2 x C2 x C2) : (C2 x C2)')\n",
      "Searching for coherent refinements of <SAS of degree 8 and ranks [1, 1, 3, 5, 7, 5, 3, 1, 1]>\n",
      "Summary: (8, 27, [1, 1, 3, 5, 7, 5, 3, 1, 1], True, True, 'C8 : C2')\n"
     ]
    },
    {
     "data": {
      "application/vnd.jupyter.widget-view+json": {
       "model_id": "c4dfb699a2374c5f9673a4e0eb985126",
       "version_major": 2,
       "version_minor": 0
      },
      "text/plain": [
       "0it [00:00, ?it/s]"
      ]
     },
     "metadata": {},
     "output_type": "display_data"
    },
    {
     "name": "stdout",
     "output_type": "stream",
     "text": [
      "Enumerating monochromatic designs on level 3\n"
     ]
    },
    {
     "data": {
      "application/vnd.jupyter.widget-view+json": {
       "model_id": "898d0195bb904a20b8389bdd167c10ab",
       "version_major": 2,
       "version_minor": 0
      },
      "text/plain": [
       "0it [00:00, ?it/s]"
      ]
     },
     "metadata": {},
     "output_type": "display_data"
    },
    {
     "name": "stdout",
     "output_type": "stream",
     "text": [
      "Enumerating monochromatic designs on level 4\n"
     ]
    },
    {
     "data": {
      "application/vnd.jupyter.widget-view+json": {
       "model_id": "9c92169f74e841318984e409069fe73c",
       "version_major": 2,
       "version_minor": 0
      },
      "text/plain": [
       "0it [00:00, ?it/s]"
      ]
     },
     "metadata": {},
     "output_type": "display_data"
    },
    {
     "name": "stdout",
     "output_type": "stream",
     "text": [
      "Testing 2 designs with WL... (triangles only)\n"
     ]
    },
    {
     "data": {
      "application/vnd.jupyter.widget-view+json": {
       "model_id": "f1679b67986342118621177c8b9dd13f",
       "version_major": 2,
       "version_minor": 0
      },
      "text/plain": [
       "  0%|          | 0/2 [00:00<?, ?it/s]"
      ]
     },
     "metadata": {},
     "output_type": "display_data"
    },
    {
     "name": "stdout",
     "output_type": "stream",
     "text": [
      "Found: <SAS of degree 8 and ranks [1, 1, 3, 5, 8, 5, 3, 1, 1]>\n",
      "Summary: (8, 28, [1, 1, 3, 5, 8, 5, 3, 1, 1], True, False, 'C4 x C2')\n",
      "Searching for coherent refinements of <SAS of degree 8 and ranks [1, 2, 4, 6, 9, 6, 4, 2, 1]>\n",
      "Summary: (8, 35, [1, 2, 4, 6, 9, 6, 4, 2, 1], False, True, 'S4')\n"
     ]
    },
    {
     "data": {
      "application/vnd.jupyter.widget-view+json": {
       "model_id": "40ff0b633301481e8eac5cb977c1d36a",
       "version_major": 2,
       "version_minor": 0
      },
      "text/plain": [
       "0it [00:00, ?it/s]"
      ]
     },
     "metadata": {},
     "output_type": "display_data"
    },
    {
     "name": "stdout",
     "output_type": "stream",
     "text": [
      "Enumerating monochromatic designs on level 3\n"
     ]
    },
    {
     "data": {
      "application/vnd.jupyter.widget-view+json": {
       "model_id": "803df200262d42c8bca89e01e77da242",
       "version_major": 2,
       "version_minor": 0
      },
      "text/plain": [
       "0it [00:00, ?it/s]"
      ]
     },
     "metadata": {},
     "output_type": "display_data"
    },
    {
     "name": "stdout",
     "output_type": "stream",
     "text": [
      "Enumerating monochromatic designs on level 4\n"
     ]
    },
    {
     "data": {
      "application/vnd.jupyter.widget-view+json": {
       "model_id": "9fc7f825bab54d1883baadf8972301c0",
       "version_major": 2,
       "version_minor": 0
      },
      "text/plain": [
       "0it [00:00, ?it/s]"
      ]
     },
     "metadata": {},
     "output_type": "display_data"
    },
    {
     "name": "stdout",
     "output_type": "stream",
     "text": [
      "Testing 1 designs with WL... (triangles only)\n"
     ]
    },
    {
     "data": {
      "application/vnd.jupyter.widget-view+json": {
       "model_id": "fd341154bccf47d7ac1e1dab3052c0cc",
       "version_major": 2,
       "version_minor": 0
      },
      "text/plain": [
       "  0%|          | 0/1 [00:00<?, ?it/s]"
      ]
     },
     "metadata": {},
     "output_type": "display_data"
    },
    {
     "name": "stdout",
     "output_type": "stream",
     "text": [
      "Found: <SAS of degree 8 and ranks [1, 2, 4, 6, 10, 6, 4, 2, 1]>\n",
      "Summary: (8, 36, [1, 2, 4, 6, 10, 6, 4, 2, 1], False, True, 'A4')\n",
      "Searching for coherent refinements of <SAS of degree 8 and ranks [1, 1, 5, 5, 10, 5, 5, 1, 1]>\n",
      "Summary: (8, 34, [1, 1, 5, 5, 10, 5, 5, 1, 1], True, True, 'C2 x D4')\n"
     ]
    },
    {
     "data": {
      "application/vnd.jupyter.widget-view+json": {
       "model_id": "1051fd399b3a477aafe343d6fba9de1f",
       "version_major": 2,
       "version_minor": 0
      },
      "text/plain": [
       "0it [00:00, ?it/s]"
      ]
     },
     "metadata": {},
     "output_type": "display_data"
    },
    {
     "name": "stdout",
     "output_type": "stream",
     "text": [
      "Enumerating monochromatic designs on level 2\n"
     ]
    },
    {
     "data": {
      "application/vnd.jupyter.widget-view+json": {
       "model_id": "977e7bdcd09d46a999d593b72d4a9cea",
       "version_major": 2,
       "version_minor": 0
      },
      "text/plain": [
       "0it [00:00, ?it/s]"
      ]
     },
     "metadata": {},
     "output_type": "display_data"
    },
    {
     "name": "stdout",
     "output_type": "stream",
     "text": [
      "Enumerating monochromatic designs on level 3\n"
     ]
    },
    {
     "data": {
      "application/vnd.jupyter.widget-view+json": {
       "model_id": "189a006dd58f4ed6b1d3cb93568b6a19",
       "version_major": 2,
       "version_minor": 0
      },
      "text/plain": [
       "0it [00:00, ?it/s]"
      ]
     },
     "metadata": {},
     "output_type": "display_data"
    },
    {
     "name": "stdout",
     "output_type": "stream",
     "text": [
      "Enumerating monochromatic designs on level 4\n"
     ]
    },
    {
     "data": {
      "application/vnd.jupyter.widget-view+json": {
       "model_id": "a0bc4f280f81453b9571dcce6469aff2",
       "version_major": 2,
       "version_minor": 0
      },
      "text/plain": [
       "0it [00:00, ?it/s]"
      ]
     },
     "metadata": {},
     "output_type": "display_data"
    },
    {
     "name": "stdout",
     "output_type": "stream",
     "text": [
      "Testing 3 designs with WL... (triangles only)\n"
     ]
    },
    {
     "data": {
      "application/vnd.jupyter.widget-view+json": {
       "model_id": "f617941b02c340168390e2cf479d302d",
       "version_major": 2,
       "version_minor": 0
      },
      "text/plain": [
       "  0%|          | 0/3 [00:00<?, ?it/s]"
      ]
     },
     "metadata": {},
     "output_type": "display_data"
    },
    {
     "name": "stdout",
     "output_type": "stream",
     "text": [
      "Found: <SAS of degree 8 and ranks [1, 1, 5, 7, 12, 7, 5, 1, 1]>\n",
      "Summary: (8, 40, [1, 1, 5, 7, 12, 7, 5, 1, 1], True, True, 'C4 x C2')\n",
      "Found: <SAS of degree 8 and ranks [1, 1, 7, 7, 14, 7, 7, 1, 1]>\n",
      "Summary: (8, 46, [1, 1, 7, 7, 14, 7, 7, 1, 1], True, True, 'C2 x C2 x C2')\n",
      "Searching for coherent refinements of <SAS of degree 8 and ranks [1, 1, 6, 7, 13, 7, 6, 1, 1]>\n",
      "Summary: (8, 43, [1, 1, 6, 7, 13, 7, 6, 1, 1], True, True, 'D4')\n"
     ]
    },
    {
     "data": {
      "application/vnd.jupyter.widget-view+json": {
       "model_id": "a0759aabed314586b4071e9f3a0f8045",
       "version_major": 2,
       "version_minor": 0
      },
      "text/plain": [
       "0it [00:00, ?it/s]"
      ]
     },
     "metadata": {},
     "output_type": "display_data"
    },
    {
     "name": "stdout",
     "output_type": "stream",
     "text": [
      "Enumerating monochromatic designs on level 2\n"
     ]
    },
    {
     "data": {
      "application/vnd.jupyter.widget-view+json": {
       "model_id": "88808e4c1ac24ecd80b0b142a0a844a1",
       "version_major": 2,
       "version_minor": 0
      },
      "text/plain": [
       "0it [00:00, ?it/s]"
      ]
     },
     "metadata": {},
     "output_type": "display_data"
    },
    {
     "name": "stdout",
     "output_type": "stream",
     "text": [
      "Enumerating monochromatic designs on level 3\n"
     ]
    },
    {
     "data": {
      "application/vnd.jupyter.widget-view+json": {
       "model_id": "1523aac42b714ef18d5124fa0a1af4fd",
       "version_major": 2,
       "version_minor": 0
      },
      "text/plain": [
       "0it [00:00, ?it/s]"
      ]
     },
     "metadata": {},
     "output_type": "display_data"
    },
    {
     "name": "stdout",
     "output_type": "stream",
     "text": [
      "Enumerating monochromatic designs on level 4\n"
     ]
    },
    {
     "data": {
      "application/vnd.jupyter.widget-view+json": {
       "model_id": "845e4dc635d54613ae57cdafd4716b0a",
       "version_major": 2,
       "version_minor": 0
      },
      "text/plain": [
       "0it [00:00, ?it/s]"
      ]
     },
     "metadata": {},
     "output_type": "display_data"
    },
    {
     "name": "stdout",
     "output_type": "stream",
     "text": [
      "Testing 1 designs with WL... (triangles only)\n"
     ]
    },
    {
     "data": {
      "application/vnd.jupyter.widget-view+json": {
       "model_id": "f78ebab0d00a43a69452a8c7aa4cad6c",
       "version_major": 2,
       "version_minor": 0
      },
      "text/plain": [
       "  0%|          | 0/1 [00:00<?, ?it/s]"
      ]
     },
     "metadata": {},
     "output_type": "display_data"
    },
    {
     "name": "stdout",
     "output_type": "stream",
     "text": [
      "Searching for coherent refinements of <SAS of degree 8 and ranks [1, 1, 3, 3, 7, 3, 3, 1, 1]>\n",
      "Summary: (8, 23, [1, 1, 3, 3, 7, 3, 3, 1, 1], True, True, 'S4')\n"
     ]
    },
    {
     "data": {
      "application/vnd.jupyter.widget-view+json": {
       "model_id": "b8e9fe1df8e14c328af36aa0a94613e9",
       "version_major": 2,
       "version_minor": 0
      },
      "text/plain": [
       "0it [00:00, ?it/s]"
      ]
     },
     "metadata": {},
     "output_type": "display_data"
    },
    {
     "name": "stdout",
     "output_type": "stream",
     "text": [
      "Enumerating monochromatic designs on level 4\n"
     ]
    },
    {
     "data": {
      "application/vnd.jupyter.widget-view+json": {
       "model_id": "59e53ea023f1461887c06be6f8078185",
       "version_major": 2,
       "version_minor": 0
      },
      "text/plain": [
       "0it [00:00, ?it/s]"
      ]
     },
     "metadata": {},
     "output_type": "display_data"
    },
    {
     "name": "stdout",
     "output_type": "stream",
     "text": [
      "Testing 0 designs with WL... (triangles only)\n"
     ]
    },
    {
     "data": {
      "application/vnd.jupyter.widget-view+json": {
       "model_id": "fe4436544d2449eeaa0bc51ca2efed16",
       "version_major": 2,
       "version_minor": 0
      },
      "text/plain": [
       "0it [00:00, ?it/s]"
      ]
     },
     "metadata": {},
     "output_type": "display_data"
    },
    {
     "name": "stdout",
     "output_type": "stream",
     "text": [
      "Searching for coherent refinements of <SAS of degree 8 and ranks [1, 2, 10, 14, 22, 14, 10, 2, 1]>\n",
      "Summary: (8, 76, [1, 2, 10, 14, 22, 14, 10, 2, 1], False, True, 'C2 x C2')\n"
     ]
    },
    {
     "data": {
      "application/vnd.jupyter.widget-view+json": {
       "model_id": "d8971dd2910f4762ac65d268bff931b2",
       "version_major": 2,
       "version_minor": 0
      },
      "text/plain": [
       "0it [00:00, ?it/s]"
      ]
     },
     "metadata": {},
     "output_type": "display_data"
    },
    {
     "name": "stdout",
     "output_type": "stream",
     "text": [
      "Enumerating monochromatic designs on level 2\n"
     ]
    },
    {
     "data": {
      "application/vnd.jupyter.widget-view+json": {
       "model_id": "746ac7f36d1b40c49003f3f9b58b161d",
       "version_major": 2,
       "version_minor": 0
      },
      "text/plain": [
       "0it [00:00, ?it/s]"
      ]
     },
     "metadata": {},
     "output_type": "display_data"
    },
    {
     "name": "stdout",
     "output_type": "stream",
     "text": [
      "Enumerating monochromatic designs on level 3\n"
     ]
    },
    {
     "data": {
      "application/vnd.jupyter.widget-view+json": {
       "model_id": "ce055bfbb3e8462fb1ec549c220a17bb",
       "version_major": 2,
       "version_minor": 0
      },
      "text/plain": [
       "0it [00:00, ?it/s]"
      ]
     },
     "metadata": {},
     "output_type": "display_data"
    },
    {
     "name": "stdout",
     "output_type": "stream",
     "text": [
      "Enumerating monochromatic designs on level 4\n"
     ]
    },
    {
     "data": {
      "application/vnd.jupyter.widget-view+json": {
       "model_id": "b0c38591d932495f99fc4853027f0b51",
       "version_major": 2,
       "version_minor": 0
      },
      "text/plain": [
       "0it [00:00, ?it/s]"
      ]
     },
     "metadata": {},
     "output_type": "display_data"
    },
    {
     "name": "stdout",
     "output_type": "stream",
     "text": [
      "Testing 0 designs with WL... (triangles only)\n"
     ]
    },
    {
     "data": {
      "application/vnd.jupyter.widget-view+json": {
       "model_id": "e129fb9811bd4054b8f0fd98d38c8505",
       "version_major": 2,
       "version_minor": 0
      },
      "text/plain": [
       "0it [00:00, ?it/s]"
      ]
     },
     "metadata": {},
     "output_type": "display_data"
    },
    {
     "name": "stdout",
     "output_type": "stream",
     "text": [
      "Searching for coherent refinements of <SAS of degree 8 and ranks [1, 1, 3, 5, 7, 5, 3, 1, 1]>\n",
      "Summary: (8, 27, [1, 1, 3, 5, 7, 5, 3, 1, 1], True, True, 'QD16')\n"
     ]
    },
    {
     "data": {
      "application/vnd.jupyter.widget-view+json": {
       "model_id": "9e994d69bc68428991c92241fa042ea3",
       "version_major": 2,
       "version_minor": 0
      },
      "text/plain": [
       "0it [00:00, ?it/s]"
      ]
     },
     "metadata": {},
     "output_type": "display_data"
    },
    {
     "name": "stdout",
     "output_type": "stream",
     "text": [
      "Enumerating monochromatic designs on level 3\n"
     ]
    },
    {
     "data": {
      "application/vnd.jupyter.widget-view+json": {
       "model_id": "bbe43bdb832c43d0bdabe09d01ee1984",
       "version_major": 2,
       "version_minor": 0
      },
      "text/plain": [
       "0it [00:00, ?it/s]"
      ]
     },
     "metadata": {},
     "output_type": "display_data"
    },
    {
     "name": "stdout",
     "output_type": "stream",
     "text": [
      "Enumerating monochromatic designs on level 4\n"
     ]
    },
    {
     "data": {
      "application/vnd.jupyter.widget-view+json": {
       "model_id": "35be4bb5b3c242439115283dc081a41b",
       "version_major": 2,
       "version_minor": 0
      },
      "text/plain": [
       "0it [00:00, ?it/s]"
      ]
     },
     "metadata": {},
     "output_type": "display_data"
    },
    {
     "name": "stdout",
     "output_type": "stream",
     "text": [
      "Testing 3 designs with WL... (triangles only)\n"
     ]
    },
    {
     "data": {
      "application/vnd.jupyter.widget-view+json": {
       "model_id": "2877b7786eef43358c3e2a99ead4d9cc",
       "version_major": 2,
       "version_minor": 0
      },
      "text/plain": [
       "  0%|          | 0/3 [00:00<?, ?it/s]"
      ]
     },
     "metadata": {},
     "output_type": "display_data"
    },
    {
     "name": "stdout",
     "output_type": "stream",
     "text": [
      "Found: <SAS of degree 8 and ranks [1, 1, 3, 5, 8, 5, 3, 1, 1]>\n",
      "Summary: (8, 28, [1, 1, 3, 5, 8, 5, 3, 1, 1], True, False, 'Q8')\n",
      "Searching for coherent refinements of <SAS of degree 8 and ranks [1, 3, 8, 13, 16, 13, 8, 3, 1]>\n",
      "Summary: (8, 66, [1, 3, 8, 13, 16, 13, 8, 3, 1], False, True, 'C2 x C2 x C2')\n"
     ]
    },
    {
     "data": {
      "application/vnd.jupyter.widget-view+json": {
       "model_id": "ffc414875ce04576bb4cdc1f7829ad20",
       "version_major": 2,
       "version_minor": 0
      },
      "text/plain": [
       "0it [00:00, ?it/s]"
      ]
     },
     "metadata": {},
     "output_type": "display_data"
    },
    {
     "name": "stdout",
     "output_type": "stream",
     "text": [
      "Enumerating monochromatic designs on level 3\n"
     ]
    },
    {
     "data": {
      "application/vnd.jupyter.widget-view+json": {
       "model_id": "59b173b5a11c48898f2521b8d3cb1568",
       "version_major": 2,
       "version_minor": 0
      },
      "text/plain": [
       "0it [00:00, ?it/s]"
      ]
     },
     "metadata": {},
     "output_type": "display_data"
    },
    {
     "name": "stdout",
     "output_type": "stream",
     "text": [
      "Enumerating monochromatic designs on level 4\n"
     ]
    },
    {
     "data": {
      "application/vnd.jupyter.widget-view+json": {
       "model_id": "e9fccfeca3a24fa899ed49510f82917d",
       "version_major": 2,
       "version_minor": 0
      },
      "text/plain": [
       "0it [00:00, ?it/s]"
      ]
     },
     "metadata": {},
     "output_type": "display_data"
    },
    {
     "name": "stdout",
     "output_type": "stream",
     "text": [
      "Testing 0 designs with WL... (triangles only)\n"
     ]
    },
    {
     "data": {
      "application/vnd.jupyter.widget-view+json": {
       "model_id": "42a553646621480487734cc90d4eca05",
       "version_major": 2,
       "version_minor": 0
      },
      "text/plain": [
       "0it [00:00, ?it/s]"
      ]
     },
     "metadata": {},
     "output_type": "display_data"
    },
    {
     "name": "stdout",
     "output_type": "stream",
     "text": [
      "Searching for coherent refinements of <SAS of degree 8 and ranks [1, 1, 3, 3, 6, 3, 3, 1, 1]>\n",
      "Summary: (8, 22, [1, 1, 3, 3, 6, 3, 3, 1, 1], True, True, '((C2 x C2 x C2 x C2) : C2) : C2')\n"
     ]
    },
    {
     "data": {
      "application/vnd.jupyter.widget-view+json": {
       "model_id": "f55d00704ddf431e82cfa5ae2532c27d",
       "version_major": 2,
       "version_minor": 0
      },
      "text/plain": [
       "0it [00:00, ?it/s]"
      ]
     },
     "metadata": {},
     "output_type": "display_data"
    },
    {
     "name": "stdout",
     "output_type": "stream",
     "text": [
      "Enumerating monochromatic designs on level 4\n"
     ]
    },
    {
     "data": {
      "application/vnd.jupyter.widget-view+json": {
       "model_id": "e03e7b73803d4897a88f1905a3707874",
       "version_major": 2,
       "version_minor": 0
      },
      "text/plain": [
       "0it [00:00, ?it/s]"
      ]
     },
     "metadata": {},
     "output_type": "display_data"
    },
    {
     "name": "stdout",
     "output_type": "stream",
     "text": [
      "Testing 0 designs with WL... (triangles only)\n"
     ]
    },
    {
     "data": {
      "application/vnd.jupyter.widget-view+json": {
       "model_id": "6a0c8bfd094b4abdab24d4c3d437cb86",
       "version_major": 2,
       "version_minor": 0
      },
      "text/plain": [
       "0it [00:00, ?it/s]"
      ]
     },
     "metadata": {},
     "output_type": "display_data"
    },
    {
     "name": "stdout",
     "output_type": "stream",
     "text": [
      "Searching for coherent refinements of <SAS of degree 8 and ranks [1, 1, 3, 4, 6, 4, 3, 1, 1]>\n",
      "Summary: (8, 24, [1, 1, 3, 4, 6, 4, 3, 1, 1], True, True, 'C8 : (C2 x C2)')\n"
     ]
    },
    {
     "data": {
      "application/vnd.jupyter.widget-view+json": {
       "model_id": "62ef12ebf24c4851b31f7cc04f3ef17d",
       "version_major": 2,
       "version_minor": 0
      },
      "text/plain": [
       "0it [00:00, ?it/s]"
      ]
     },
     "metadata": {},
     "output_type": "display_data"
    },
    {
     "name": "stdout",
     "output_type": "stream",
     "text": [
      "Enumerating monochromatic designs on level 3\n"
     ]
    },
    {
     "data": {
      "application/vnd.jupyter.widget-view+json": {
       "model_id": "0a63f282c9b14f17899476d4b37d1dee",
       "version_major": 2,
       "version_minor": 0
      },
      "text/plain": [
       "0it [00:00, ?it/s]"
      ]
     },
     "metadata": {},
     "output_type": "display_data"
    },
    {
     "name": "stdout",
     "output_type": "stream",
     "text": [
      "Enumerating monochromatic designs on level 4\n"
     ]
    },
    {
     "data": {
      "application/vnd.jupyter.widget-view+json": {
       "model_id": "b15e1366b90d453a8b770ddaef861021",
       "version_major": 2,
       "version_minor": 0
      },
      "text/plain": [
       "0it [00:00, ?it/s]"
      ]
     },
     "metadata": {},
     "output_type": "display_data"
    },
    {
     "name": "stdout",
     "output_type": "stream",
     "text": [
      "Testing 3 designs with WL... (triangles only)\n"
     ]
    },
    {
     "data": {
      "application/vnd.jupyter.widget-view+json": {
       "model_id": "2603f9d9e9174715995bd768b81aa617",
       "version_major": 2,
       "version_minor": 0
      },
      "text/plain": [
       "  0%|          | 0/3 [00:00<?, ?it/s]"
      ]
     },
     "metadata": {},
     "output_type": "display_data"
    },
    {
     "name": "stdout",
     "output_type": "stream",
     "text": [
      "Found: <SAS of degree 8 and ranks [1, 1, 3, 4, 7, 4, 3, 1, 1]>\n",
      "Summary: (8, 25, [1, 1, 3, 4, 7, 4, 3, 1, 1], True, False, '(C4 x C2) : C2')\n",
      "Searching for coherent refinements of <SAS of degree 8 and ranks [1, 1, 4, 5, 8, 5, 4, 1, 1]>\n",
      "Summary: (8, 30, [1, 1, 4, 5, 8, 5, 4, 1, 1], True, False, '(C4 x C2) : C2')\n"
     ]
    },
    {
     "data": {
      "application/vnd.jupyter.widget-view+json": {
       "model_id": "64413bdf453b48adb50620bf5bd3f1ea",
       "version_major": 2,
       "version_minor": 0
      },
      "text/plain": [
       "0it [00:00, ?it/s]"
      ]
     },
     "metadata": {},
     "output_type": "display_data"
    },
    {
     "name": "stdout",
     "output_type": "stream",
     "text": [
      "Enumerating monochromatic designs on level 3\n"
     ]
    },
    {
     "data": {
      "application/vnd.jupyter.widget-view+json": {
       "model_id": "dd0db88783384e219c7ac20f870cc5e9",
       "version_major": 2,
       "version_minor": 0
      },
      "text/plain": [
       "0it [00:00, ?it/s]"
      ]
     },
     "metadata": {},
     "output_type": "display_data"
    },
    {
     "name": "stdout",
     "output_type": "stream",
     "text": [
      "Enumerating monochromatic designs on level 4\n"
     ]
    },
    {
     "data": {
      "application/vnd.jupyter.widget-view+json": {
       "model_id": "a2a27922df8d40f4b36617e7e7de5968",
       "version_major": 2,
       "version_minor": 0
      },
      "text/plain": [
       "0it [00:00, ?it/s]"
      ]
     },
     "metadata": {},
     "output_type": "display_data"
    },
    {
     "name": "stdout",
     "output_type": "stream",
     "text": [
      "Testing 4 designs with WL... (triangles only)\n"
     ]
    },
    {
     "data": {
      "application/vnd.jupyter.widget-view+json": {
       "model_id": "61c5d1baba1b40cd896c644450b02627",
       "version_major": 2,
       "version_minor": 0
      },
      "text/plain": [
       "  0%|          | 0/4 [00:00<?, ?it/s]"
      ]
     },
     "metadata": {},
     "output_type": "display_data"
    },
    {
     "name": "stdout",
     "output_type": "stream",
     "text": [
      "Found: <SAS of degree 8 and ranks [1, 1, 4, 5, 9, 5, 4, 1, 1]>\n",
      "Summary: (8, 31, [1, 1, 4, 5, 9, 5, 4, 1, 1], True, True, '(C4 x C2) : C2')\n",
      "Searching for coherent refinements of <SAS of degree 8 and ranks [1, 2, 7, 10, 15, 10, 7, 2, 1]>\n",
      "Summary: (8, 55, [1, 2, 7, 10, 15, 10, 7, 2, 1], False, True, 'D4')\n"
     ]
    },
    {
     "data": {
      "application/vnd.jupyter.widget-view+json": {
       "model_id": "691f3e6d77a540b49889063260a63f33",
       "version_major": 2,
       "version_minor": 0
      },
      "text/plain": [
       "0it [00:00, ?it/s]"
      ]
     },
     "metadata": {},
     "output_type": "display_data"
    },
    {
     "name": "stdout",
     "output_type": "stream",
     "text": [
      "Enumerating monochromatic designs on level 3\n"
     ]
    },
    {
     "data": {
      "application/vnd.jupyter.widget-view+json": {
       "model_id": "360b9a114141469bb544fa5c17480768",
       "version_major": 2,
       "version_minor": 0
      },
      "text/plain": [
       "0it [00:00, ?it/s]"
      ]
     },
     "metadata": {},
     "output_type": "display_data"
    },
    {
     "name": "stdout",
     "output_type": "stream",
     "text": [
      "Enumerating monochromatic designs on level 4\n"
     ]
    },
    {
     "data": {
      "application/vnd.jupyter.widget-view+json": {
       "model_id": "3bfa53a49a1141cfbb271a23ea5251d1",
       "version_major": 2,
       "version_minor": 0
      },
      "text/plain": [
       "0it [00:00, ?it/s]"
      ]
     },
     "metadata": {},
     "output_type": "display_data"
    },
    {
     "name": "stdout",
     "output_type": "stream",
     "text": [
      "Testing 0 designs with WL... (triangles only)\n"
     ]
    },
    {
     "data": {
      "application/vnd.jupyter.widget-view+json": {
       "model_id": "e65261d1f0cc4b9580346c88bff0d30a",
       "version_major": 2,
       "version_minor": 0
      },
      "text/plain": [
       "0it [00:00, ?it/s]"
      ]
     },
     "metadata": {},
     "output_type": "display_data"
    },
    {
     "name": "stdout",
     "output_type": "stream",
     "text": [
      "Searching for coherent refinements of <SAS of degree 8 and ranks [1, 1, 3, 4, 6, 4, 3, 1, 1]>\n",
      "Summary: (8, 24, [1, 1, 3, 4, 6, 4, 3, 1, 1], True, True, '((C2 x C2 x C2) : C4) : C2')\n"
     ]
    },
    {
     "data": {
      "application/vnd.jupyter.widget-view+json": {
       "model_id": "c2e18bc18b564df9b3475c3e47a264b3",
       "version_major": 2,
       "version_minor": 0
      },
      "text/plain": [
       "0it [00:00, ?it/s]"
      ]
     },
     "metadata": {},
     "output_type": "display_data"
    },
    {
     "name": "stdout",
     "output_type": "stream",
     "text": [
      "Enumerating monochromatic designs on level 3\n"
     ]
    },
    {
     "data": {
      "application/vnd.jupyter.widget-view+json": {
       "model_id": "3755a3939f6b4d289f45a352612b329a",
       "version_major": 2,
       "version_minor": 0
      },
      "text/plain": [
       "0it [00:00, ?it/s]"
      ]
     },
     "metadata": {},
     "output_type": "display_data"
    },
    {
     "name": "stdout",
     "output_type": "stream",
     "text": [
      "Enumerating monochromatic designs on level 4\n"
     ]
    },
    {
     "data": {
      "application/vnd.jupyter.widget-view+json": {
       "model_id": "f13184ae02a041faa97243d27136111d",
       "version_major": 2,
       "version_minor": 0
      },
      "text/plain": [
       "0it [00:00, ?it/s]"
      ]
     },
     "metadata": {},
     "output_type": "display_data"
    },
    {
     "name": "stdout",
     "output_type": "stream",
     "text": [
      "Testing 7 designs with WL... (triangles only)\n"
     ]
    },
    {
     "data": {
      "application/vnd.jupyter.widget-view+json": {
       "model_id": "2f481905589140e8a2cd49bb899a34b5",
       "version_major": 2,
       "version_minor": 0
      },
      "text/plain": [
       "  0%|          | 0/7 [00:00<?, ?it/s]"
      ]
     },
     "metadata": {},
     "output_type": "display_data"
    },
    {
     "name": "stdout",
     "output_type": "stream",
     "text": [
      "Found: <SAS of degree 8 and ranks [1, 1, 3, 4, 7, 4, 3, 1, 1]>\n",
      "Summary: (8, 25, [1, 1, 3, 4, 7, 4, 3, 1, 1], True, True, '(C2 x C2 x C2) : C4')\n",
      "Searching for coherent refinements of <SAS of degree 8 and ranks [1, 1, 4, 4, 8, 4, 4, 1, 1]>\n",
      "Summary: (8, 28, [1, 1, 4, 4, 8, 4, 4, 1, 1], True, True, '(C2 x C2 x C2 x C2) : C2')\n"
     ]
    },
    {
     "data": {
      "application/vnd.jupyter.widget-view+json": {
       "model_id": "fe908a7872604b36bc20c880b860b78c",
       "version_major": 2,
       "version_minor": 0
      },
      "text/plain": [
       "0it [00:00, ?it/s]"
      ]
     },
     "metadata": {},
     "output_type": "display_data"
    },
    {
     "name": "stdout",
     "output_type": "stream",
     "text": [
      "Enumerating monochromatic designs on level 2\n"
     ]
    },
    {
     "data": {
      "application/vnd.jupyter.widget-view+json": {
       "model_id": "112f31a5b8454bf3bafa3c07385ab220",
       "version_major": 2,
       "version_minor": 0
      },
      "text/plain": [
       "0it [00:00, ?it/s]"
      ]
     },
     "metadata": {},
     "output_type": "display_data"
    },
    {
     "name": "stdout",
     "output_type": "stream",
     "text": [
      "Enumerating monochromatic designs on level 3\n"
     ]
    },
    {
     "data": {
      "application/vnd.jupyter.widget-view+json": {
       "model_id": "877dace2bb96406dae07aff08543afd8",
       "version_major": 2,
       "version_minor": 0
      },
      "text/plain": [
       "0it [00:00, ?it/s]"
      ]
     },
     "metadata": {},
     "output_type": "display_data"
    },
    {
     "name": "stdout",
     "output_type": "stream",
     "text": [
      "Enumerating monochromatic designs on level 4\n"
     ]
    },
    {
     "data": {
      "application/vnd.jupyter.widget-view+json": {
       "model_id": "a6b87c64e8964bae8de59079558d0c39",
       "version_major": 2,
       "version_minor": 0
      },
      "text/plain": [
       "0it [00:00, ?it/s]"
      ]
     },
     "metadata": {},
     "output_type": "display_data"
    },
    {
     "name": "stdout",
     "output_type": "stream",
     "text": [
      "Testing 8 designs with WL... (triangles only)\n"
     ]
    },
    {
     "data": {
      "application/vnd.jupyter.widget-view+json": {
       "model_id": "038f9a3150114e3b9c6cde3cfd9d66c8",
       "version_major": 2,
       "version_minor": 0
      },
      "text/plain": [
       "  0%|          | 0/8 [00:00<?, ?it/s]"
      ]
     },
     "metadata": {},
     "output_type": "display_data"
    },
    {
     "name": "stdout",
     "output_type": "stream",
     "text": [
      "Found: <SAS of degree 8 and ranks [1, 1, 4, 5, 9, 5, 4, 1, 1]>\n",
      "Summary: (8, 31, [1, 1, 4, 5, 9, 5, 4, 1, 1], True, True, '(C4 x C2) : C2')\n",
      "Searching for coherent refinements of <SAS of degree 8 and ranks [1, 4, 16, 28, 38, 28, 16, 4, 1]>\n",
      "Summary: (8, 136, [1, 4, 16, 28, 38, 28, 16, 4, 1], False, True, 'C2')\n"
     ]
    },
    {
     "data": {
      "application/vnd.jupyter.widget-view+json": {
       "model_id": "c3f98f22780f456a93ca343be49251a8",
       "version_major": 2,
       "version_minor": 0
      },
      "text/plain": [
       "0it [00:00, ?it/s]"
      ]
     },
     "metadata": {},
     "output_type": "display_data"
    },
    {
     "name": "stdout",
     "output_type": "stream",
     "text": [
      "Enumerating monochromatic designs on level 2\n"
     ]
    },
    {
     "data": {
      "application/vnd.jupyter.widget-view+json": {
       "model_id": "35e73d931b784fd8b86fcfc1a4c80816",
       "version_major": 2,
       "version_minor": 0
      },
      "text/plain": [
       "0it [00:00, ?it/s]"
      ]
     },
     "metadata": {},
     "output_type": "display_data"
    },
    {
     "name": "stdout",
     "output_type": "stream",
     "text": [
      "Enumerating monochromatic designs on level 3\n"
     ]
    },
    {
     "data": {
      "application/vnd.jupyter.widget-view+json": {
       "model_id": "754469d23aee4dd38aad7553e98a5c14",
       "version_major": 2,
       "version_minor": 0
      },
      "text/plain": [
       "0it [00:00, ?it/s]"
      ]
     },
     "metadata": {},
     "output_type": "display_data"
    },
    {
     "name": "stdout",
     "output_type": "stream",
     "text": [
      "Enumerating monochromatic designs on level 4\n"
     ]
    },
    {
     "data": {
      "application/vnd.jupyter.widget-view+json": {
       "model_id": "28da241f9e4943dfa745e18144a7a375",
       "version_major": 2,
       "version_minor": 0
      },
      "text/plain": [
       "0it [00:00, ?it/s]"
      ]
     },
     "metadata": {},
     "output_type": "display_data"
    },
    {
     "name": "stdout",
     "output_type": "stream",
     "text": [
      "Testing 0 designs with WL... (triangles only)\n"
     ]
    },
    {
     "data": {
      "application/vnd.jupyter.widget-view+json": {
       "model_id": "ca55e891216a42059db5de0cef9eb291",
       "version_major": 2,
       "version_minor": 0
      },
      "text/plain": [
       "0it [00:00, ?it/s]"
      ]
     },
     "metadata": {},
     "output_type": "display_data"
    },
    {
     "name": "stdout",
     "output_type": "stream",
     "text": [
      "Searching for coherent refinements of <SAS of degree 8 and ranks [1, 1, 1, 1, 3, 1, 1, 1, 1]>\n",
      "Summary: (8, 11, [1, 1, 1, 1, 3, 1, 1, 1, 1], True, True, 'PSL(3,2)')\n"
     ]
    },
    {
     "data": {
      "application/vnd.jupyter.widget-view+json": {
       "model_id": "423a6baf3d614a8fb6f220d0d1e0e042",
       "version_major": 2,
       "version_minor": 0
      },
      "text/plain": [
       "0it [00:00, ?it/s]"
      ]
     },
     "metadata": {},
     "output_type": "display_data"
    },
    {
     "name": "stdout",
     "output_type": "stream",
     "text": [
      "Enumerating monochromatic designs on level 4\n"
     ]
    },
    {
     "data": {
      "application/vnd.jupyter.widget-view+json": {
       "model_id": "744bde05cbc041e18fa108606271dd91",
       "version_major": 2,
       "version_minor": 0
      },
      "text/plain": [
       "0it [00:00, ?it/s]"
      ]
     },
     "metadata": {},
     "output_type": "display_data"
    },
    {
     "name": "stdout",
     "output_type": "stream",
     "text": [
      "Testing 0 designs with WL... (triangles only)\n"
     ]
    },
    {
     "data": {
      "application/vnd.jupyter.widget-view+json": {
       "model_id": "3eadfa8d2dc844629929a90a461f7420",
       "version_major": 2,
       "version_minor": 0
      },
      "text/plain": [
       "0it [00:00, ?it/s]"
      ]
     },
     "metadata": {},
     "output_type": "display_data"
    },
    {
     "name": "stdout",
     "output_type": "stream",
     "text": [
      "Searching for coherent refinements of <SAS of degree 8 and ranks [1, 2, 6, 8, 11, 8, 6, 2, 1]>\n",
      "Summary: (8, 45, [1, 2, 6, 8, 11, 8, 6, 2, 1], False, True, '(C2 x C2 x C2 x C2) : C2')\n"
     ]
    },
    {
     "data": {
      "application/vnd.jupyter.widget-view+json": {
       "model_id": "368e553e87e6411c8470f3769a7c797b",
       "version_major": 2,
       "version_minor": 0
      },
      "text/plain": [
       "0it [00:00, ?it/s]"
      ]
     },
     "metadata": {},
     "output_type": "display_data"
    },
    {
     "name": "stdout",
     "output_type": "stream",
     "text": [
      "Enumerating monochromatic designs on level 2\n"
     ]
    },
    {
     "data": {
      "application/vnd.jupyter.widget-view+json": {
       "model_id": "fc654be28fc04c5dbf5a7f3246883936",
       "version_major": 2,
       "version_minor": 0
      },
      "text/plain": [
       "0it [00:00, ?it/s]"
      ]
     },
     "metadata": {},
     "output_type": "display_data"
    },
    {
     "name": "stdout",
     "output_type": "stream",
     "text": [
      "Enumerating monochromatic designs on level 3\n"
     ]
    },
    {
     "data": {
      "application/vnd.jupyter.widget-view+json": {
       "model_id": "553237b6fb7c49b8b863e63919c95214",
       "version_major": 2,
       "version_minor": 0
      },
      "text/plain": [
       "0it [00:00, ?it/s]"
      ]
     },
     "metadata": {},
     "output_type": "display_data"
    },
    {
     "name": "stdout",
     "output_type": "stream",
     "text": [
      "Enumerating monochromatic designs on level 4\n"
     ]
    },
    {
     "data": {
      "application/vnd.jupyter.widget-view+json": {
       "model_id": "8b8f735cc8984d6b94f5acb790fb91d4",
       "version_major": 2,
       "version_minor": 0
      },
      "text/plain": [
       "0it [00:00, ?it/s]"
      ]
     },
     "metadata": {},
     "output_type": "display_data"
    },
    {
     "name": "stdout",
     "output_type": "stream",
     "text": [
      "Testing 5 designs with WL... (triangles only)\n"
     ]
    },
    {
     "data": {
      "application/vnd.jupyter.widget-view+json": {
       "model_id": "e28a6808885640b0ae700218197874d3",
       "version_major": 2,
       "version_minor": 0
      },
      "text/plain": [
       "  0%|          | 0/5 [00:00<?, ?it/s]"
      ]
     },
     "metadata": {},
     "output_type": "display_data"
    },
    {
     "name": "stdout",
     "output_type": "stream",
     "text": [
      "Found: <SAS of degree 8 and ranks [1, 2, 6, 9, 12, 9, 6, 2, 1]>\n",
      "Summary: (8, 48, [1, 2, 6, 9, 12, 9, 6, 2, 1], False, True, '(C4 x C2) : C2')\n",
      "Found: <SAS of degree 8 and ranks [1, 2, 6, 8, 12, 8, 6, 2, 1]>\n",
      "Summary: (8, 46, [1, 2, 6, 8, 12, 8, 6, 2, 1], False, True, 'C2 x D4')\n",
      "Searching for coherent refinements of <SAS of degree 8 and ranks [1, 2, 4, 5, 6, 5, 4, 2, 1]>\n",
      "Summary: (8, 30, [1, 2, 4, 5, 6, 5, 4, 2, 1], False, True, 'S4 x D4')\n"
     ]
    },
    {
     "data": {
      "application/vnd.jupyter.widget-view+json": {
       "model_id": "3748486aa11747089cda253686ee1531",
       "version_major": 2,
       "version_minor": 0
      },
      "text/plain": [
       "0it [00:00, ?it/s]"
      ]
     },
     "metadata": {},
     "output_type": "display_data"
    },
    {
     "name": "stdout",
     "output_type": "stream",
     "text": [
      "Enumerating monochromatic designs on level 2\n"
     ]
    },
    {
     "data": {
      "application/vnd.jupyter.widget-view+json": {
       "model_id": "7b0c1fca78694cff9cfe814f1afea9b3",
       "version_major": 2,
       "version_minor": 0
      },
      "text/plain": [
       "0it [00:00, ?it/s]"
      ]
     },
     "metadata": {},
     "output_type": "display_data"
    },
    {
     "name": "stdout",
     "output_type": "stream",
     "text": [
      "Enumerating monochromatic designs on level 3\n"
     ]
    },
    {
     "data": {
      "application/vnd.jupyter.widget-view+json": {
       "model_id": "c04a646d19c44378bd9a7b340c06f661",
       "version_major": 2,
       "version_minor": 0
      },
      "text/plain": [
       "0it [00:00, ?it/s]"
      ]
     },
     "metadata": {},
     "output_type": "display_data"
    },
    {
     "name": "stdout",
     "output_type": "stream",
     "text": [
      "Enumerating monochromatic designs on level 4\n"
     ]
    },
    {
     "data": {
      "application/vnd.jupyter.widget-view+json": {
       "model_id": "06ce7e52652542eba1cd691922bf126d",
       "version_major": 2,
       "version_minor": 0
      },
      "text/plain": [
       "0it [00:00, ?it/s]"
      ]
     },
     "metadata": {},
     "output_type": "display_data"
    },
    {
     "name": "stdout",
     "output_type": "stream",
     "text": [
      "Testing 8 designs with WL... (triangles only)\n"
     ]
    },
    {
     "data": {
      "application/vnd.jupyter.widget-view+json": {
       "model_id": "6f69f4b128d64cd6abbf75ddb0189d48",
       "version_major": 2,
       "version_minor": 0
      },
      "text/plain": [
       "  0%|          | 0/8 [00:00<?, ?it/s]"
      ]
     },
     "metadata": {},
     "output_type": "display_data"
    },
    {
     "name": "stdout",
     "output_type": "stream",
     "text": [
      "Found: <SAS of degree 8 and ranks [1, 2, 5, 6, 7, 6, 5, 2, 1]>\n",
      "Summary: (8, 35, [1, 2, 5, 6, 7, 6, 5, 2, 1], False, True, 'C2 x C2 x S4')\n",
      "Found: <SAS of degree 8 and ranks [1, 2, 5, 6, 8, 6, 5, 2, 1]>\n",
      "Summary: (8, 36, [1, 2, 5, 6, 8, 6, 5, 2, 1], False, True, 'D4 x D4')\n",
      "Found: <SAS of degree 8 and ranks [1, 2, 5, 7, 9, 7, 5, 2, 1]>\n",
      "Summary: (8, 39, [1, 2, 5, 7, 9, 7, 5, 2, 1], False, True, '(C2 x C2 x C2 x C2) : C2')\n",
      "Searching for coherent refinements of <SAS of degree 8 and ranks [1, 3, 6, 8, 9, 8, 6, 3, 1]>\n",
      "Summary: (8, 45, [1, 3, 6, 8, 9, 8, 6, 3, 1], False, True, 'C2 x C2 x S4')\n"
     ]
    },
    {
     "data": {
      "application/vnd.jupyter.widget-view+json": {
       "model_id": "52093d0d012a48479946f0988492fa1f",
       "version_major": 2,
       "version_minor": 0
      },
      "text/plain": [
       "0it [00:00, ?it/s]"
      ]
     },
     "metadata": {},
     "output_type": "display_data"
    },
    {
     "name": "stdout",
     "output_type": "stream",
     "text": [
      "Enumerating monochromatic designs on level 1\n"
     ]
    },
    {
     "data": {
      "application/vnd.jupyter.widget-view+json": {
       "model_id": "fd0c09338128499087399abdafda7cbb",
       "version_major": 2,
       "version_minor": 0
      },
      "text/plain": [
       "0it [00:00, ?it/s]"
      ]
     },
     "metadata": {},
     "output_type": "display_data"
    },
    {
     "name": "stdout",
     "output_type": "stream",
     "text": [
      "Enumerating monochromatic designs on level 2\n"
     ]
    },
    {
     "data": {
      "application/vnd.jupyter.widget-view+json": {
       "model_id": "92b0546d84854e3fb908b94a26dfeafe",
       "version_major": 2,
       "version_minor": 0
      },
      "text/plain": [
       "0it [00:00, ?it/s]"
      ]
     },
     "metadata": {},
     "output_type": "display_data"
    },
    {
     "name": "stdout",
     "output_type": "stream",
     "text": [
      "Enumerating monochromatic designs on level 3\n"
     ]
    },
    {
     "data": {
      "application/vnd.jupyter.widget-view+json": {
       "model_id": "9ee3229b55584b9a82540ac54f2baf52",
       "version_major": 2,
       "version_minor": 0
      },
      "text/plain": [
       "0it [00:00, ?it/s]"
      ]
     },
     "metadata": {},
     "output_type": "display_data"
    },
    {
     "name": "stdout",
     "output_type": "stream",
     "text": [
      "Enumerating monochromatic designs on level 4\n"
     ]
    },
    {
     "data": {
      "application/vnd.jupyter.widget-view+json": {
       "model_id": "2b96d99a0a7a48cc92b0db10de4f6094",
       "version_major": 2,
       "version_minor": 0
      },
      "text/plain": [
       "0it [00:00, ?it/s]"
      ]
     },
     "metadata": {},
     "output_type": "display_data"
    },
    {
     "name": "stdout",
     "output_type": "stream",
     "text": [
      "Testing 7 designs with WL... (triangles only)\n"
     ]
    },
    {
     "data": {
      "application/vnd.jupyter.widget-view+json": {
       "model_id": "fef512f332524d9888086c969ea86e8a",
       "version_major": 2,
       "version_minor": 0
      },
      "text/plain": [
       "  0%|          | 0/7 [00:00<?, ?it/s]"
      ]
     },
     "metadata": {},
     "output_type": "display_data"
    },
    {
     "name": "stdout",
     "output_type": "stream",
     "text": [
      "Found: <SAS of degree 8 and ranks [1, 3, 8, 12, 15, 12, 8, 3, 1]>\n",
      "Summary: (8, 63, [1, 3, 8, 12, 15, 12, 8, 3, 1], False, True, 'C2 x D4')\n",
      "Found: <SAS of degree 8 and ranks [1, 3, 7, 10, 12, 10, 7, 3, 1]>\n",
      "Summary: (8, 54, [1, 3, 7, 10, 12, 10, 7, 3, 1], False, True, 'C2 x C2 x D4')\n",
      "Found: <SAS of degree 8 and ranks [1, 3, 7, 11, 13, 11, 7, 3, 1]>\n",
      "Summary: (8, 57, [1, 3, 7, 11, 13, 11, 7, 3, 1], False, True, 'C2 x D4')\n",
      "Found: <SAS of degree 8 and ranks [1, 3, 7, 9, 10, 9, 7, 3, 1]>\n",
      "Summary: (8, 50, [1, 3, 7, 9, 10, 9, 7, 3, 1], False, True, 'C2 x S4')\n",
      "Found: <SAS of degree 8 and ranks [1, 4, 10, 16, 19, 16, 10, 4, 1]>\n",
      "Summary: (8, 81, [1, 4, 10, 16, 19, 16, 10, 4, 1], False, True, 'C2 x C2 x C2 x C2')\n",
      "Searching for coherent refinements of <SAS of degree 8 and ranks [1, 2, 3, 4, 6, 4, 3, 2, 1]>\n",
      "Summary: (8, 26, [1, 2, 3, 4, 6, 4, 3, 2, 1], False, True, '((C2 x C2 x C2 x C2) : C3) : C2')\n"
     ]
    },
    {
     "data": {
      "application/vnd.jupyter.widget-view+json": {
       "model_id": "4a0138fad49d4df9a005e905c670a275",
       "version_major": 2,
       "version_minor": 0
      },
      "text/plain": [
       "0it [00:00, ?it/s]"
      ]
     },
     "metadata": {},
     "output_type": "display_data"
    },
    {
     "name": "stdout",
     "output_type": "stream",
     "text": [
      "Enumerating monochromatic designs on level 4\n"
     ]
    },
    {
     "data": {
      "application/vnd.jupyter.widget-view+json": {
       "model_id": "c24d0c917c85420aa31835ff5f5ff99c",
       "version_major": 2,
       "version_minor": 0
      },
      "text/plain": [
       "0it [00:00, ?it/s]"
      ]
     },
     "metadata": {},
     "output_type": "display_data"
    },
    {
     "name": "stdout",
     "output_type": "stream",
     "text": [
      "Testing 1 designs with WL... (triangles only)\n"
     ]
    },
    {
     "data": {
      "application/vnd.jupyter.widget-view+json": {
       "model_id": "87da7877faf04b08963d2768aaf0d24d",
       "version_major": 2,
       "version_minor": 0
      },
      "text/plain": [
       "  0%|          | 0/1 [00:00<?, ?it/s]"
      ]
     },
     "metadata": {},
     "output_type": "display_data"
    },
    {
     "name": "stdout",
     "output_type": "stream",
     "text": [
      "Found: <SAS of degree 8 and ranks [1, 2, 3, 4, 7, 4, 3, 2, 1]>\n",
      "Summary: (8, 27, [1, 2, 3, 4, 7, 4, 3, 2, 1], False, True, '(C2 x C2 x C2 x C2) : C3')\n",
      "Searching for coherent refinements of <SAS of degree 8 and ranks [1, 2, 6, 10, 13, 10, 6, 2, 1]>\n",
      "Summary: (8, 51, [1, 2, 6, 10, 13, 10, 6, 2, 1], False, True, 'D4')\n"
     ]
    },
    {
     "data": {
      "application/vnd.jupyter.widget-view+json": {
       "model_id": "d7a22604ce7e49ce96dcc1ef49479fc8",
       "version_major": 2,
       "version_minor": 0
      },
      "text/plain": [
       "0it [00:00, ?it/s]"
      ]
     },
     "metadata": {},
     "output_type": "display_data"
    },
    {
     "name": "stdout",
     "output_type": "stream",
     "text": [
      "Enumerating monochromatic designs on level 2\n"
     ]
    },
    {
     "data": {
      "application/vnd.jupyter.widget-view+json": {
       "model_id": "ba54f1d0d61a4b52a700f27165eb63ca",
       "version_major": 2,
       "version_minor": 0
      },
      "text/plain": [
       "0it [00:00, ?it/s]"
      ]
     },
     "metadata": {},
     "output_type": "display_data"
    },
    {
     "name": "stdout",
     "output_type": "stream",
     "text": [
      "Enumerating monochromatic designs on level 3\n"
     ]
    },
    {
     "data": {
      "application/vnd.jupyter.widget-view+json": {
       "model_id": "b0ebcc8bb0dd49f99737203bc37440ca",
       "version_major": 2,
       "version_minor": 0
      },
      "text/plain": [
       "0it [00:00, ?it/s]"
      ]
     },
     "metadata": {},
     "output_type": "display_data"
    },
    {
     "name": "stdout",
     "output_type": "stream",
     "text": [
      "Enumerating monochromatic designs on level 4\n"
     ]
    },
    {
     "data": {
      "application/vnd.jupyter.widget-view+json": {
       "model_id": "c8ba46c6d8224a76bb9965497a36a21b",
       "version_major": 2,
       "version_minor": 0
      },
      "text/plain": [
       "0it [00:00, ?it/s]"
      ]
     },
     "metadata": {},
     "output_type": "display_data"
    },
    {
     "name": "stdout",
     "output_type": "stream",
     "text": [
      "Testing 2 designs with WL... (triangles only)\n"
     ]
    },
    {
     "data": {
      "application/vnd.jupyter.widget-view+json": {
       "model_id": "c5aca18b8d2e4002a4c5cab5105ef5c5",
       "version_major": 2,
       "version_minor": 0
      },
      "text/plain": [
       "  0%|          | 0/2 [00:00<?, ?it/s]"
      ]
     },
     "metadata": {},
     "output_type": "display_data"
    },
    {
     "name": "stdout",
     "output_type": "stream",
     "text": [
      "Searching for coherent refinements of <SAS of degree 8 and ranks [1, 3, 6, 9, 10, 9, 6, 3, 1]>\n",
      "Summary: (8, 48, [1, 3, 6, 9, 10, 9, 6, 3, 1], False, True, 'C2 x S3 x S3')\n"
     ]
    },
    {
     "data": {
      "application/vnd.jupyter.widget-view+json": {
       "model_id": "96d1559885904fa4958ae522a3ade60f",
       "version_major": 2,
       "version_minor": 0
      },
      "text/plain": [
       "0it [00:00, ?it/s]"
      ]
     },
     "metadata": {},
     "output_type": "display_data"
    },
    {
     "name": "stdout",
     "output_type": "stream",
     "text": [
      "Enumerating monochromatic designs on level 1\n"
     ]
    },
    {
     "data": {
      "application/vnd.jupyter.widget-view+json": {
       "model_id": "0e4a08d80096422ba4d9a41c5462d2bb",
       "version_major": 2,
       "version_minor": 0
      },
      "text/plain": [
       "0it [00:00, ?it/s]"
      ]
     },
     "metadata": {},
     "output_type": "display_data"
    },
    {
     "name": "stdout",
     "output_type": "stream",
     "text": [
      "Enumerating monochromatic designs on level 2\n"
     ]
    },
    {
     "data": {
      "application/vnd.jupyter.widget-view+json": {
       "model_id": "51438f32f38242c8ad78324ede3c94c5",
       "version_major": 2,
       "version_minor": 0
      },
      "text/plain": [
       "0it [00:00, ?it/s]"
      ]
     },
     "metadata": {},
     "output_type": "display_data"
    },
    {
     "name": "stdout",
     "output_type": "stream",
     "text": [
      "Enumerating monochromatic designs on level 3\n"
     ]
    },
    {
     "data": {
      "application/vnd.jupyter.widget-view+json": {
       "model_id": "cbdc23c73f794f618344d9b5cb4c5d1d",
       "version_major": 2,
       "version_minor": 0
      },
      "text/plain": [
       "0it [00:00, ?it/s]"
      ]
     },
     "metadata": {},
     "output_type": "display_data"
    },
    {
     "name": "stdout",
     "output_type": "stream",
     "text": [
      "Enumerating monochromatic designs on level 4\n"
     ]
    },
    {
     "data": {
      "application/vnd.jupyter.widget-view+json": {
       "model_id": "82a7d0b47d1341acb95f704cfc13e9e1",
       "version_major": 2,
       "version_minor": 0
      },
      "text/plain": [
       "0it [00:00, ?it/s]"
      ]
     },
     "metadata": {},
     "output_type": "display_data"
    },
    {
     "name": "stdout",
     "output_type": "stream",
     "text": [
      "Testing 3 designs with WL... (triangles only)\n"
     ]
    },
    {
     "data": {
      "application/vnd.jupyter.widget-view+json": {
       "model_id": "3781073581524afc8e0a795a86fb3acb",
       "version_major": 2,
       "version_minor": 0
      },
      "text/plain": [
       "  0%|          | 0/3 [00:00<?, ?it/s]"
      ]
     },
     "metadata": {},
     "output_type": "display_data"
    },
    {
     "name": "stdout",
     "output_type": "stream",
     "text": [
      "Searching for coherent refinements of <SAS of degree 8 and ranks [1, 1, 2, 3, 4, 3, 2, 1, 1]>\n",
      "Summary: (8, 18, [1, 1, 2, 3, 4, 3, 2, 1, 1], True, True, 'GL(2,3)')\n"
     ]
    },
    {
     "data": {
      "application/vnd.jupyter.widget-view+json": {
       "model_id": "0656d3cc19764fae8834975e35b849be",
       "version_major": 2,
       "version_minor": 0
      },
      "text/plain": [
       "0it [00:00, ?it/s]"
      ]
     },
     "metadata": {},
     "output_type": "display_data"
    },
    {
     "name": "stdout",
     "output_type": "stream",
     "text": [
      "Enumerating monochromatic designs on level 3\n"
     ]
    },
    {
     "data": {
      "application/vnd.jupyter.widget-view+json": {
       "model_id": "226b0a51f36b4762908f32f4a813e2af",
       "version_major": 2,
       "version_minor": 0
      },
      "text/plain": [
       "0it [00:00, ?it/s]"
      ]
     },
     "metadata": {},
     "output_type": "display_data"
    },
    {
     "name": "stdout",
     "output_type": "stream",
     "text": [
      "Enumerating monochromatic designs on level 4\n"
     ]
    },
    {
     "data": {
      "application/vnd.jupyter.widget-view+json": {
       "model_id": "0e88caf65a7a4b08bd2a5c4d0dd116bb",
       "version_major": 2,
       "version_minor": 0
      },
      "text/plain": [
       "0it [00:00, ?it/s]"
      ]
     },
     "metadata": {},
     "output_type": "display_data"
    },
    {
     "name": "stdout",
     "output_type": "stream",
     "text": [
      "Testing 2 designs with WL... (triangles only)\n"
     ]
    },
    {
     "data": {
      "application/vnd.jupyter.widget-view+json": {
       "model_id": "36b56236a24b43c4bdb667ae7ce2dfc3",
       "version_major": 2,
       "version_minor": 0
      },
      "text/plain": [
       "  0%|          | 0/2 [00:00<?, ?it/s]"
      ]
     },
     "metadata": {},
     "output_type": "display_data"
    },
    {
     "name": "stdout",
     "output_type": "stream",
     "text": [
      "Found: <SAS of degree 8 and ranks [1, 1, 2, 3, 5, 3, 2, 1, 1]>\n",
      "Summary: (8, 19, [1, 1, 2, 3, 5, 3, 2, 1, 1], True, True, 'SL(2,3)')\n",
      "Searching for coherent refinements of <SAS of degree 8 and ranks [1, 5, 16, 31, 38, 31, 16, 5, 1]>\n",
      "Summary: (8, 144, [1, 5, 16, 31, 38, 31, 16, 5, 1], False, True, 'C2')\n"
     ]
    },
    {
     "data": {
      "application/vnd.jupyter.widget-view+json": {
       "model_id": "48f1d28ed3ed4f9aae3a0a0daf77d60d",
       "version_major": 2,
       "version_minor": 0
      },
      "text/plain": [
       "0it [00:00, ?it/s]"
      ]
     },
     "metadata": {},
     "output_type": "display_data"
    },
    {
     "name": "stdout",
     "output_type": "stream",
     "text": [
      "Enumerating monochromatic designs on level 2\n"
     ]
    },
    {
     "data": {
      "application/vnd.jupyter.widget-view+json": {
       "model_id": "957ea61cd6dd4b33bb2a79acb6cfafbf",
       "version_major": 2,
       "version_minor": 0
      },
      "text/plain": [
       "0it [00:00, ?it/s]"
      ]
     },
     "metadata": {},
     "output_type": "display_data"
    },
    {
     "name": "stdout",
     "output_type": "stream",
     "text": [
      "Enumerating monochromatic designs on level 3\n"
     ]
    },
    {
     "data": {
      "application/vnd.jupyter.widget-view+json": {
       "model_id": "1f33ac0c6d394a68adb7eb7b05457608",
       "version_major": 2,
       "version_minor": 0
      },
      "text/plain": [
       "0it [00:00, ?it/s]"
      ]
     },
     "metadata": {},
     "output_type": "display_data"
    },
    {
     "name": "stdout",
     "output_type": "stream",
     "text": [
      "Enumerating monochromatic designs on level 4\n"
     ]
    },
    {
     "data": {
      "application/vnd.jupyter.widget-view+json": {
       "model_id": "7c842545b34849bd974d6da8683ae215",
       "version_major": 2,
       "version_minor": 0
      },
      "text/plain": [
       "0it [00:00, ?it/s]"
      ]
     },
     "metadata": {},
     "output_type": "display_data"
    },
    {
     "name": "stdout",
     "output_type": "stream",
     "text": [
      "Testing 0 designs with WL... (triangles only)\n"
     ]
    },
    {
     "data": {
      "application/vnd.jupyter.widget-view+json": {
       "model_id": "1dafc5c889304f8ea1831254a564c85a",
       "version_major": 2,
       "version_minor": 0
      },
      "text/plain": [
       "0it [00:00, ?it/s]"
      ]
     },
     "metadata": {},
     "output_type": "display_data"
    },
    {
     "name": "stdout",
     "output_type": "stream",
     "text": [
      "Searching for coherent refinements of <SAS of degree 8 and ranks [1, 3, 8, 15, 18, 15, 8, 3, 1]>\n",
      "Summary: (8, 72, [1, 3, 8, 15, 18, 15, 8, 3, 1], False, True, 'C6')\n"
     ]
    },
    {
     "data": {
      "application/vnd.jupyter.widget-view+json": {
       "model_id": "c0a1d9f3d8374b078d7aa0167fe41856",
       "version_major": 2,
       "version_minor": 0
      },
      "text/plain": [
       "0it [00:00, ?it/s]"
      ]
     },
     "metadata": {},
     "output_type": "display_data"
    },
    {
     "name": "stdout",
     "output_type": "stream",
     "text": [
      "Enumerating monochromatic designs on level 2\n"
     ]
    },
    {
     "data": {
      "application/vnd.jupyter.widget-view+json": {
       "model_id": "80049d01e8924642b80530783f660ad2",
       "version_major": 2,
       "version_minor": 0
      },
      "text/plain": [
       "0it [00:00, ?it/s]"
      ]
     },
     "metadata": {},
     "output_type": "display_data"
    },
    {
     "name": "stdout",
     "output_type": "stream",
     "text": [
      "Enumerating monochromatic designs on level 3\n"
     ]
    },
    {
     "data": {
      "application/vnd.jupyter.widget-view+json": {
       "model_id": "911592509cce42cb8781e89bb4e9daf4",
       "version_major": 2,
       "version_minor": 0
      },
      "text/plain": [
       "0it [00:00, ?it/s]"
      ]
     },
     "metadata": {},
     "output_type": "display_data"
    },
    {
     "name": "stdout",
     "output_type": "stream",
     "text": [
      "Enumerating monochromatic designs on level 4\n"
     ]
    },
    {
     "data": {
      "application/vnd.jupyter.widget-view+json": {
       "model_id": "64d5258dd59a4f409cceec95e1d4c596",
       "version_major": 2,
       "version_minor": 0
      },
      "text/plain": [
       "0it [00:00, ?it/s]"
      ]
     },
     "metadata": {},
     "output_type": "display_data"
    },
    {
     "name": "stdout",
     "output_type": "stream",
     "text": [
      "Testing 0 designs with WL... (triangles only)\n"
     ]
    },
    {
     "data": {
      "application/vnd.jupyter.widget-view+json": {
       "model_id": "ff21245322fc43f0a90b553b7b90178c",
       "version_major": 2,
       "version_minor": 0
      },
      "text/plain": [
       "0it [00:00, ?it/s]"
      ]
     },
     "metadata": {},
     "output_type": "display_data"
    },
    {
     "name": "stdout",
     "output_type": "stream",
     "text": [
      "Searching for coherent refinements of <SAS of degree 8 and ranks [1, 2, 8, 10, 16, 10, 8, 2, 1]>\n",
      "Summary: (8, 58, [1, 2, 8, 10, 16, 10, 8, 2, 1], False, True, 'C2 x C2 x C2')\n"
     ]
    },
    {
     "data": {
      "application/vnd.jupyter.widget-view+json": {
       "model_id": "0e8e2e999bc84e669fdd16303566d1ca",
       "version_major": 2,
       "version_minor": 0
      },
      "text/plain": [
       "0it [00:00, ?it/s]"
      ]
     },
     "metadata": {},
     "output_type": "display_data"
    },
    {
     "name": "stdout",
     "output_type": "stream",
     "text": [
      "Enumerating monochromatic designs on level 2\n"
     ]
    },
    {
     "data": {
      "application/vnd.jupyter.widget-view+json": {
       "model_id": "9c2f01e0c21b4332887d2bc5b143dab6",
       "version_major": 2,
       "version_minor": 0
      },
      "text/plain": [
       "0it [00:00, ?it/s]"
      ]
     },
     "metadata": {},
     "output_type": "display_data"
    },
    {
     "name": "stdout",
     "output_type": "stream",
     "text": [
      "Enumerating monochromatic designs on level 3\n"
     ]
    },
    {
     "data": {
      "application/vnd.jupyter.widget-view+json": {
       "model_id": "b3cedeeb74a34f8281ebe927ddfcd167",
       "version_major": 2,
       "version_minor": 0
      },
      "text/plain": [
       "0it [00:00, ?it/s]"
      ]
     },
     "metadata": {},
     "output_type": "display_data"
    },
    {
     "name": "stdout",
     "output_type": "stream",
     "text": [
      "Enumerating monochromatic designs on level 4\n"
     ]
    },
    {
     "data": {
      "application/vnd.jupyter.widget-view+json": {
       "model_id": "ec607c2c8f5848bfa09ef7bb32ee3bfe",
       "version_major": 2,
       "version_minor": 0
      },
      "text/plain": [
       "0it [00:00, ?it/s]"
      ]
     },
     "metadata": {},
     "output_type": "display_data"
    },
    {
     "name": "stdout",
     "output_type": "stream",
     "text": [
      "Testing 1 designs with WL... (triangles only)\n"
     ]
    },
    {
     "data": {
      "application/vnd.jupyter.widget-view+json": {
       "model_id": "25a40d728a2f4b2abf5dd1952f84a50a",
       "version_major": 2,
       "version_minor": 0
      },
      "text/plain": [
       "  0%|          | 0/1 [00:00<?, ?it/s]"
      ]
     },
     "metadata": {},
     "output_type": "display_data"
    },
    {
     "name": "stdout",
     "output_type": "stream",
     "text": [
      "Searching for coherent refinements of <SAS of degree 8 and ranks [1, 1, 2, 2, 4, 2, 2, 1, 1]>\n",
      "Summary: (8, 16, [1, 1, 2, 2, 4, 2, 2, 1, 1], True, True, '(((C2 x C2 x C2) : (C2 x C2)) : C3) : C2')\n"
     ]
    },
    {
     "data": {
      "application/vnd.jupyter.widget-view+json": {
       "model_id": "a889d4354d0849079cb2885fb529ad37",
       "version_major": 2,
       "version_minor": 0
      },
      "text/plain": [
       "0it [00:00, ?it/s]"
      ]
     },
     "metadata": {},
     "output_type": "display_data"
    },
    {
     "name": "stdout",
     "output_type": "stream",
     "text": [
      "Enumerating monochromatic designs on level 4\n"
     ]
    },
    {
     "data": {
      "application/vnd.jupyter.widget-view+json": {
       "model_id": "2e2bd1ea1a6a42d19227260b82ba5c1e",
       "version_major": 2,
       "version_minor": 0
      },
      "text/plain": [
       "0it [00:00, ?it/s]"
      ]
     },
     "metadata": {},
     "output_type": "display_data"
    },
    {
     "name": "stdout",
     "output_type": "stream",
     "text": [
      "Testing 0 designs with WL... (triangles only)\n"
     ]
    },
    {
     "data": {
      "application/vnd.jupyter.widget-view+json": {
       "model_id": "1a68b0e563934d8993cd4e96c20e45cf",
       "version_major": 2,
       "version_minor": 0
      },
      "text/plain": [
       "0it [00:00, ?it/s]"
      ]
     },
     "metadata": {},
     "output_type": "display_data"
    },
    {
     "name": "stdout",
     "output_type": "stream",
     "text": [
      "Searching for coherent refinements of <SAS of degree 8 and ranks [1, 3, 7, 13, 16, 13, 7, 3, 1]>\n",
      "Summary: (8, 64, [1, 3, 7, 13, 16, 13, 7, 3, 1], False, True, 'S3')\n"
     ]
    },
    {
     "data": {
      "application/vnd.jupyter.widget-view+json": {
       "model_id": "424aa7796b7c47a38fbd40c2d8f39ee7",
       "version_major": 2,
       "version_minor": 0
      },
      "text/plain": [
       "0it [00:00, ?it/s]"
      ]
     },
     "metadata": {},
     "output_type": "display_data"
    },
    {
     "name": "stdout",
     "output_type": "stream",
     "text": [
      "Enumerating monochromatic designs on level 3\n"
     ]
    },
    {
     "data": {
      "application/vnd.jupyter.widget-view+json": {
       "model_id": "ab0ded5bc9b446bc941b136f23ab9388",
       "version_major": 2,
       "version_minor": 0
      },
      "text/plain": [
       "0it [00:00, ?it/s]"
      ]
     },
     "metadata": {},
     "output_type": "display_data"
    },
    {
     "name": "stdout",
     "output_type": "stream",
     "text": [
      "Enumerating monochromatic designs on level 4\n"
     ]
    },
    {
     "data": {
      "application/vnd.jupyter.widget-view+json": {
       "model_id": "8f835b720a3448e391fb82a7edbd11e5",
       "version_major": 2,
       "version_minor": 0
      },
      "text/plain": [
       "0it [00:00, ?it/s]"
      ]
     },
     "metadata": {},
     "output_type": "display_data"
    },
    {
     "name": "stdout",
     "output_type": "stream",
     "text": [
      "Testing 0 designs with WL... (triangles only)\n"
     ]
    },
    {
     "data": {
      "application/vnd.jupyter.widget-view+json": {
       "model_id": "affca4a3600d41208721d9fddebdcc9a",
       "version_major": 2,
       "version_minor": 0
      },
      "text/plain": [
       "0it [00:00, ?it/s]"
      ]
     },
     "metadata": {},
     "output_type": "display_data"
    },
    {
     "name": "stdout",
     "output_type": "stream",
     "text": [
      "Searching for coherent refinements of <SAS of degree 8 and ranks [1, 1, 4, 7, 10, 7, 4, 1, 1]>\n",
      "Summary: (8, 36, [1, 1, 4, 7, 10, 7, 4, 1, 1], True, True, 'C8')\n"
     ]
    },
    {
     "data": {
      "application/vnd.jupyter.widget-view+json": {
       "model_id": "c47fbf8de388461f920bd8f4975ab2f9",
       "version_major": 2,
       "version_minor": 0
      },
      "text/plain": [
       "0it [00:00, ?it/s]"
      ]
     },
     "metadata": {},
     "output_type": "display_data"
    },
    {
     "name": "stdout",
     "output_type": "stream",
     "text": [
      "Enumerating monochromatic designs on level 3\n"
     ]
    },
    {
     "data": {
      "application/vnd.jupyter.widget-view+json": {
       "model_id": "78b1971c59524b5184e8793b02ed5616",
       "version_major": 2,
       "version_minor": 0
      },
      "text/plain": [
       "0it [00:00, ?it/s]"
      ]
     },
     "metadata": {},
     "output_type": "display_data"
    },
    {
     "name": "stdout",
     "output_type": "stream",
     "text": [
      "Enumerating monochromatic designs on level 4\n"
     ]
    },
    {
     "data": {
      "application/vnd.jupyter.widget-view+json": {
       "model_id": "cd781ac5365e400e95ec4637125bb23b",
       "version_major": 2,
       "version_minor": 0
      },
      "text/plain": [
       "0it [00:00, ?it/s]"
      ]
     },
     "metadata": {},
     "output_type": "display_data"
    },
    {
     "name": "stdout",
     "output_type": "stream",
     "text": [
      "Testing 0 designs with WL... (triangles only)\n"
     ]
    },
    {
     "data": {
      "application/vnd.jupyter.widget-view+json": {
       "model_id": "449e238175b1481eaae513eed0492676",
       "version_major": 2,
       "version_minor": 0
      },
      "text/plain": [
       "0it [00:00, ?it/s]"
      ]
     },
     "metadata": {},
     "output_type": "display_data"
    },
    {
     "name": "stdout",
     "output_type": "stream",
     "text": [
      "Searching for coherent refinements of <SAS of degree 8 and ranks [1, 2, 7, 10, 14, 10, 7, 2, 1]>\n",
      "Summary: (8, 54, [1, 2, 7, 10, 14, 10, 7, 2, 1], False, True, 'C4 x C2')\n"
     ]
    },
    {
     "data": {
      "application/vnd.jupyter.widget-view+json": {
       "model_id": "3e7eb88c76d44fb280eddac595d03b7b",
       "version_major": 2,
       "version_minor": 0
      },
      "text/plain": [
       "0it [00:00, ?it/s]"
      ]
     },
     "metadata": {},
     "output_type": "display_data"
    },
    {
     "name": "stdout",
     "output_type": "stream",
     "text": [
      "Enumerating monochromatic designs on level 3\n"
     ]
    },
    {
     "data": {
      "application/vnd.jupyter.widget-view+json": {
       "model_id": "efa60dc5bd154711ad847d372b605f59",
       "version_major": 2,
       "version_minor": 0
      },
      "text/plain": [
       "0it [00:00, ?it/s]"
      ]
     },
     "metadata": {},
     "output_type": "display_data"
    },
    {
     "name": "stdout",
     "output_type": "stream",
     "text": [
      "Enumerating monochromatic designs on level 4\n"
     ]
    },
    {
     "data": {
      "application/vnd.jupyter.widget-view+json": {
       "model_id": "6314d09a98b045468db825256e6afbb6",
       "version_major": 2,
       "version_minor": 0
      },
      "text/plain": [
       "0it [00:00, ?it/s]"
      ]
     },
     "metadata": {},
     "output_type": "display_data"
    },
    {
     "name": "stdout",
     "output_type": "stream",
     "text": [
      "Testing 0 designs with WL... (triangles only)\n"
     ]
    },
    {
     "data": {
      "application/vnd.jupyter.widget-view+json": {
       "model_id": "12491e9576224403b5d8317bdc52c39a",
       "version_major": 2,
       "version_minor": 0
      },
      "text/plain": [
       "0it [00:00, ?it/s]"
      ]
     },
     "metadata": {},
     "output_type": "display_data"
    },
    {
     "name": "stdout",
     "output_type": "stream",
     "text": [
      "Searching for coherent refinements of <SAS of degree 8 and ranks [1, 2, 7, 10, 14, 10, 7, 2, 1]>\n",
      "Summary: (8, 54, [1, 2, 7, 10, 14, 10, 7, 2, 1], False, True, 'D4')\n"
     ]
    },
    {
     "data": {
      "application/vnd.jupyter.widget-view+json": {
       "model_id": "077900e641bf441e8c8e301bb1facee3",
       "version_major": 2,
       "version_minor": 0
      },
      "text/plain": [
       "0it [00:00, ?it/s]"
      ]
     },
     "metadata": {},
     "output_type": "display_data"
    },
    {
     "name": "stdout",
     "output_type": "stream",
     "text": [
      "Enumerating monochromatic designs on level 3\n"
     ]
    },
    {
     "data": {
      "application/vnd.jupyter.widget-view+json": {
       "model_id": "3122b1de342c4becbb6c22b5280f0fb7",
       "version_major": 2,
       "version_minor": 0
      },
      "text/plain": [
       "0it [00:00, ?it/s]"
      ]
     },
     "metadata": {},
     "output_type": "display_data"
    },
    {
     "name": "stdout",
     "output_type": "stream",
     "text": [
      "Enumerating monochromatic designs on level 4\n"
     ]
    },
    {
     "data": {
      "application/vnd.jupyter.widget-view+json": {
       "model_id": "fa5edbe1743e492f84d770f1075a62cb",
       "version_major": 2,
       "version_minor": 0
      },
      "text/plain": [
       "0it [00:00, ?it/s]"
      ]
     },
     "metadata": {},
     "output_type": "display_data"
    },
    {
     "name": "stdout",
     "output_type": "stream",
     "text": [
      "Testing 0 designs with WL... (triangles only)\n"
     ]
    },
    {
     "data": {
      "application/vnd.jupyter.widget-view+json": {
       "model_id": "15acdaa5b7dd4f9bbfe5ff23c34c7360",
       "version_major": 2,
       "version_minor": 0
      },
      "text/plain": [
       "0it [00:00, ?it/s]"
      ]
     },
     "metadata": {},
     "output_type": "display_data"
    },
    {
     "name": "stdout",
     "output_type": "stream",
     "text": [
      "Searching for coherent refinements of <SAS of degree 8 and ranks [1, 2, 5, 6, 8, 6, 5, 2, 1]>\n",
      "Summary: (8, 36, [1, 2, 5, 6, 8, 6, 5, 2, 1], False, True, '(S3 x S3) : C2')\n"
     ]
    },
    {
     "data": {
      "application/vnd.jupyter.widget-view+json": {
       "model_id": "d14cf34f94eb4340ba1807789286bf96",
       "version_major": 2,
       "version_minor": 0
      },
      "text/plain": [
       "0it [00:00, ?it/s]"
      ]
     },
     "metadata": {},
     "output_type": "display_data"
    },
    {
     "name": "stdout",
     "output_type": "stream",
     "text": [
      "Enumerating monochromatic designs on level 2\n"
     ]
    },
    {
     "data": {
      "application/vnd.jupyter.widget-view+json": {
       "model_id": "36f73ccc72dd4411a96af5476e1108f8",
       "version_major": 2,
       "version_minor": 0
      },
      "text/plain": [
       "0it [00:00, ?it/s]"
      ]
     },
     "metadata": {},
     "output_type": "display_data"
    },
    {
     "name": "stdout",
     "output_type": "stream",
     "text": [
      "Enumerating monochromatic designs on level 3\n"
     ]
    },
    {
     "data": {
      "application/vnd.jupyter.widget-view+json": {
       "model_id": "0db09de2d6344b06ade181cac284563d",
       "version_major": 2,
       "version_minor": 0
      },
      "text/plain": [
       "0it [00:00, ?it/s]"
      ]
     },
     "metadata": {},
     "output_type": "display_data"
    },
    {
     "name": "stdout",
     "output_type": "stream",
     "text": [
      "Enumerating monochromatic designs on level 4\n"
     ]
    },
    {
     "data": {
      "application/vnd.jupyter.widget-view+json": {
       "model_id": "dba77efea70a4ee585f798e404615902",
       "version_major": 2,
       "version_minor": 0
      },
      "text/plain": [
       "0it [00:00, ?it/s]"
      ]
     },
     "metadata": {},
     "output_type": "display_data"
    },
    {
     "name": "stdout",
     "output_type": "stream",
     "text": [
      "Testing 1 designs with WL... (triangles only)\n"
     ]
    },
    {
     "data": {
      "application/vnd.jupyter.widget-view+json": {
       "model_id": "26c1460d4b6e4e388ef6c6e8303da895",
       "version_major": 2,
       "version_minor": 0
      },
      "text/plain": [
       "  0%|          | 0/1 [00:00<?, ?it/s]"
      ]
     },
     "metadata": {},
     "output_type": "display_data"
    },
    {
     "name": "stdout",
     "output_type": "stream",
     "text": [
      "Found: <SAS of degree 8 and ranks [1, 2, 6, 8, 12, 8, 6, 2, 1]>\n",
      "Summary: (8, 46, [1, 2, 6, 8, 12, 8, 6, 2, 1], False, True, 'D6')\n",
      "Searching for coherent refinements of <SAS of degree 8 and ranks [1, 2, 3, 4, 4, 4, 3, 2, 1]>\n",
      "Summary: (8, 24, [1, 2, 3, 4, 4, 4, 3, 2, 1], False, True, 'C2 x A5')\n"
     ]
    },
    {
     "data": {
      "application/vnd.jupyter.widget-view+json": {
       "model_id": "d6794b6d96464c0f92db5533bab80077",
       "version_major": 2,
       "version_minor": 0
      },
      "text/plain": [
       "0it [00:00, ?it/s]"
      ]
     },
     "metadata": {},
     "output_type": "display_data"
    },
    {
     "name": "stdout",
     "output_type": "stream",
     "text": [
      "Enumerating monochromatic designs on level 3\n"
     ]
    },
    {
     "data": {
      "application/vnd.jupyter.widget-view+json": {
       "model_id": "cba7cdd140134facaf0d75cd8ec44c93",
       "version_major": 2,
       "version_minor": 0
      },
      "text/plain": [
       "0it [00:00, ?it/s]"
      ]
     },
     "metadata": {},
     "output_type": "display_data"
    },
    {
     "name": "stdout",
     "output_type": "stream",
     "text": [
      "Enumerating monochromatic designs on level 4\n"
     ]
    },
    {
     "data": {
      "application/vnd.jupyter.widget-view+json": {
       "model_id": "5bbdc82ab22b454c91e763003a5357fc",
       "version_major": 2,
       "version_minor": 0
      },
      "text/plain": [
       "0it [00:00, ?it/s]"
      ]
     },
     "metadata": {},
     "output_type": "display_data"
    },
    {
     "name": "stdout",
     "output_type": "stream",
     "text": [
      "Testing 0 designs with WL... (triangles only)\n"
     ]
    },
    {
     "data": {
      "application/vnd.jupyter.widget-view+json": {
       "model_id": "91a2ee467d9e4c71ba5d27d104a51680",
       "version_major": 2,
       "version_minor": 0
      },
      "text/plain": [
       "0it [00:00, ?it/s]"
      ]
     },
     "metadata": {},
     "output_type": "display_data"
    },
    {
     "name": "stdout",
     "output_type": "stream",
     "text": [
      "Searching for coherent refinements of <SAS of degree 8 and ranks [1, 2, 4, 5, 6, 5, 4, 2, 1]>\n",
      "Summary: (8, 30, [1, 2, 4, 5, 6, 5, 4, 2, 1], False, True, 'C2 x C2 x S4')\n"
     ]
    },
    {
     "data": {
      "application/vnd.jupyter.widget-view+json": {
       "model_id": "597dbe2b77534dff8028be97664dc05a",
       "version_major": 2,
       "version_minor": 0
      },
      "text/plain": [
       "0it [00:00, ?it/s]"
      ]
     },
     "metadata": {},
     "output_type": "display_data"
    },
    {
     "name": "stdout",
     "output_type": "stream",
     "text": [
      "Enumerating monochromatic designs on level 2\n"
     ]
    },
    {
     "data": {
      "application/vnd.jupyter.widget-view+json": {
       "model_id": "97da16d820f1453392dc2efe94fba45e",
       "version_major": 2,
       "version_minor": 0
      },
      "text/plain": [
       "0it [00:00, ?it/s]"
      ]
     },
     "metadata": {},
     "output_type": "display_data"
    },
    {
     "name": "stdout",
     "output_type": "stream",
     "text": [
      "Enumerating monochromatic designs on level 3\n"
     ]
    },
    {
     "data": {
      "application/vnd.jupyter.widget-view+json": {
       "model_id": "a69c1ff981834f0a9fba02d443a5a26c",
       "version_major": 2,
       "version_minor": 0
      },
      "text/plain": [
       "0it [00:00, ?it/s]"
      ]
     },
     "metadata": {},
     "output_type": "display_data"
    },
    {
     "name": "stdout",
     "output_type": "stream",
     "text": [
      "Enumerating monochromatic designs on level 4\n"
     ]
    },
    {
     "data": {
      "application/vnd.jupyter.widget-view+json": {
       "model_id": "dcb15a33fd8548e0bfb48381a7d2ed66",
       "version_major": 2,
       "version_minor": 0
      },
      "text/plain": [
       "0it [00:00, ?it/s]"
      ]
     },
     "metadata": {},
     "output_type": "display_data"
    },
    {
     "name": "stdout",
     "output_type": "stream",
     "text": [
      "Testing 12 designs with WL... (triangles only)\n"
     ]
    },
    {
     "data": {
      "application/vnd.jupyter.widget-view+json": {
       "model_id": "a8eb151255714208aaebd126caeacbe0",
       "version_major": 2,
       "version_minor": 0
      },
      "text/plain": [
       "  0%|          | 0/12 [00:00<?, ?it/s]"
      ]
     },
     "metadata": {},
     "output_type": "display_data"
    },
    {
     "name": "stdout",
     "output_type": "stream",
     "text": [
      "Found: <SAS of degree 8 and ranks [1, 3, 10, 15, 20, 15, 10, 3, 1]>\n",
      "Summary: (8, 78, [1, 3, 10, 15, 20, 15, 10, 3, 1], False, True, 'D4')\n",
      "Found: <SAS of degree 8 and ranks [1, 3, 9, 14, 18, 14, 9, 3, 1]>\n",
      "Summary: (8, 72, [1, 3, 9, 14, 18, 14, 9, 3, 1], False, True, 'C2 x C2 x C2')\n",
      "Found: <SAS of degree 8 and ranks [1, 2, 4, 6, 7, 6, 4, 2, 1]>\n",
      "Summary: (8, 33, [1, 2, 4, 6, 7, 6, 4, 2, 1], False, True, 'C2 x C2 x A4')\n",
      "Found: <SAS of degree 8 and ranks [1, 2, 4, 5, 7, 5, 4, 2, 1]>\n",
      "Summary: (8, 31, [1, 2, 4, 5, 7, 5, 4, 2, 1], False, True, 'C2 x S4')\n",
      "Found: <SAS of degree 8 and ranks [1, 2, 4, 6, 7, 6, 4, 2, 1]>\n",
      "Summary: (8, 33, [1, 2, 4, 6, 7, 6, 4, 2, 1], False, True, 'C2 x S4')\n",
      "Found: <SAS of degree 8 and ranks [1, 3, 7, 12, 14, 12, 7, 3, 1]>\n",
      "Summary: (8, 60, [1, 3, 7, 12, 14, 12, 7, 3, 1], False, True, 'D4')\n",
      "Found: <SAS of degree 8 and ranks [1, 2, 6, 9, 12, 9, 6, 2, 1]>\n",
      "Summary: (8, 48, [1, 2, 6, 9, 12, 9, 6, 2, 1], False, True, 'D6')\n",
      "Found: <SAS of degree 8 and ranks [1, 2, 4, 5, 7, 5, 4, 2, 1]>\n",
      "Summary: (8, 31, [1, 2, 4, 5, 7, 5, 4, 2, 1], False, True, 'C2 x S4')\n",
      "Searching for coherent refinements of <SAS of degree 8 and ranks [1, 2, 3, 3, 4, 3, 3, 2, 1]>\n",
      "Summary: (8, 22, [1, 2, 3, 3, 4, 3, 3, 2, 1], False, True, 'S5')\n"
     ]
    },
    {
     "data": {
      "application/vnd.jupyter.widget-view+json": {
       "model_id": "7961e03fab424b299cf9a7b3d32f58b4",
       "version_major": 2,
       "version_minor": 0
      },
      "text/plain": [
       "0it [00:00, ?it/s]"
      ]
     },
     "metadata": {},
     "output_type": "display_data"
    },
    {
     "name": "stdout",
     "output_type": "stream",
     "text": [
      "Enumerating monochromatic designs on level 4\n"
     ]
    },
    {
     "data": {
      "application/vnd.jupyter.widget-view+json": {
       "model_id": "ee8c67c418574af7b502a426611c8f4f",
       "version_major": 2,
       "version_minor": 0
      },
      "text/plain": [
       "0it [00:00, ?it/s]"
      ]
     },
     "metadata": {},
     "output_type": "display_data"
    },
    {
     "name": "stdout",
     "output_type": "stream",
     "text": [
      "Testing 0 designs with WL... (triangles only)\n"
     ]
    },
    {
     "data": {
      "application/vnd.jupyter.widget-view+json": {
       "model_id": "12ac479ae019448fbcfa047ec6e33c2b",
       "version_major": 2,
       "version_minor": 0
      },
      "text/plain": [
       "0it [00:00, ?it/s]"
      ]
     },
     "metadata": {},
     "output_type": "display_data"
    },
    {
     "name": "stdout",
     "output_type": "stream",
     "text": [
      "Searching for coherent refinements of <SAS of degree 8 and ranks [1, 2, 5, 7, 9, 7, 5, 2, 1]>\n",
      "Summary: (8, 39, [1, 2, 5, 7, 9, 7, 5, 2, 1], False, True, 'C2 x C2 x S3')\n"
     ]
    },
    {
     "data": {
      "application/vnd.jupyter.widget-view+json": {
       "model_id": "f60198f67b0f4597b16e136c12db5617",
       "version_major": 2,
       "version_minor": 0
      },
      "text/plain": [
       "0it [00:00, ?it/s]"
      ]
     },
     "metadata": {},
     "output_type": "display_data"
    },
    {
     "name": "stdout",
     "output_type": "stream",
     "text": [
      "Enumerating monochromatic designs on level 2\n"
     ]
    },
    {
     "data": {
      "application/vnd.jupyter.widget-view+json": {
       "model_id": "eb1ad4484d744124a3f5d0be603a94f1",
       "version_major": 2,
       "version_minor": 0
      },
      "text/plain": [
       "0it [00:00, ?it/s]"
      ]
     },
     "metadata": {},
     "output_type": "display_data"
    },
    {
     "name": "stdout",
     "output_type": "stream",
     "text": [
      "Enumerating monochromatic designs on level 3\n"
     ]
    },
    {
     "data": {
      "application/vnd.jupyter.widget-view+json": {
       "model_id": "76079094cc65498b8655a9f4423106c3",
       "version_major": 2,
       "version_minor": 0
      },
      "text/plain": [
       "0it [00:00, ?it/s]"
      ]
     },
     "metadata": {},
     "output_type": "display_data"
    },
    {
     "name": "stdout",
     "output_type": "stream",
     "text": [
      "Enumerating monochromatic designs on level 4\n"
     ]
    },
    {
     "data": {
      "application/vnd.jupyter.widget-view+json": {
       "model_id": "cc85298a121a431aa09053265840f170",
       "version_major": 2,
       "version_minor": 0
      },
      "text/plain": [
       "0it [00:00, ?it/s]"
      ]
     },
     "metadata": {},
     "output_type": "display_data"
    },
    {
     "name": "stdout",
     "output_type": "stream",
     "text": [
      "Testing 7 designs with WL... (triangles only)\n"
     ]
    },
    {
     "data": {
      "application/vnd.jupyter.widget-view+json": {
       "model_id": "fd8b085234d74c5d812b224f68980446",
       "version_major": 2,
       "version_minor": 0
      },
      "text/plain": [
       "  0%|          | 0/7 [00:00<?, ?it/s]"
      ]
     },
     "metadata": {},
     "output_type": "display_data"
    },
    {
     "name": "stdout",
     "output_type": "stream",
     "text": [
      "Found: <SAS of degree 8 and ranks [1, 2, 5, 7, 10, 7, 5, 2, 1]>\n",
      "Summary: (8, 40, [1, 2, 5, 7, 10, 7, 5, 2, 1], False, True, 'D6')\n",
      "Found: <SAS of degree 8 and ranks [1, 3, 11, 17, 24, 17, 11, 3, 1]>\n",
      "Summary: (8, 88, [1, 3, 11, 17, 24, 17, 11, 3, 1], False, True, 'C2 x C2')\n",
      "Found: <SAS of degree 8 and ranks [1, 2, 5, 8, 10, 8, 5, 2, 1]>\n",
      "Summary: (8, 42, [1, 2, 5, 8, 10, 8, 5, 2, 1], False, True, 'D6')\n",
      "Found: <SAS of degree 8 and ranks [1, 2, 5, 8, 10, 8, 5, 2, 1]>\n",
      "Summary: (8, 42, [1, 2, 5, 8, 10, 8, 5, 2, 1], False, True, 'C6 x C2')\n",
      "Searching for coherent refinements of <SAS of degree 8 and ranks [1, 2, 4, 5, 6, 5, 4, 2, 1]>\n",
      "Summary: (8, 30, [1, 2, 4, 5, 6, 5, 4, 2, 1], False, True, 'C2 x ((S3 x S3) : C2)')\n"
     ]
    },
    {
     "data": {
      "application/vnd.jupyter.widget-view+json": {
       "model_id": "743b9afccf474305a112308a7c5604bb",
       "version_major": 2,
       "version_minor": 0
      },
      "text/plain": [
       "0it [00:00, ?it/s]"
      ]
     },
     "metadata": {},
     "output_type": "display_data"
    },
    {
     "name": "stdout",
     "output_type": "stream",
     "text": [
      "Enumerating monochromatic designs on level 2\n"
     ]
    },
    {
     "data": {
      "application/vnd.jupyter.widget-view+json": {
       "model_id": "0fcd235906cc469d9c6ec43073e7d87c",
       "version_major": 2,
       "version_minor": 0
      },
      "text/plain": [
       "0it [00:00, ?it/s]"
      ]
     },
     "metadata": {},
     "output_type": "display_data"
    },
    {
     "name": "stdout",
     "output_type": "stream",
     "text": [
      "Enumerating monochromatic designs on level 3\n"
     ]
    },
    {
     "data": {
      "application/vnd.jupyter.widget-view+json": {
       "model_id": "49eedfe1951542838550acdb612309a9",
       "version_major": 2,
       "version_minor": 0
      },
      "text/plain": [
       "0it [00:00, ?it/s]"
      ]
     },
     "metadata": {},
     "output_type": "display_data"
    },
    {
     "name": "stdout",
     "output_type": "stream",
     "text": [
      "Enumerating monochromatic designs on level 4\n"
     ]
    },
    {
     "data": {
      "application/vnd.jupyter.widget-view+json": {
       "model_id": "5f17c969f7b747de8ce329c5b55d26fb",
       "version_major": 2,
       "version_minor": 0
      },
      "text/plain": [
       "0it [00:00, ?it/s]"
      ]
     },
     "metadata": {},
     "output_type": "display_data"
    },
    {
     "name": "stdout",
     "output_type": "stream",
     "text": [
      "Testing 3 designs with WL... (triangles only)\n"
     ]
    },
    {
     "data": {
      "application/vnd.jupyter.widget-view+json": {
       "model_id": "31422f306fdb4b64b07c7c9168a131db",
       "version_major": 2,
       "version_minor": 0
      },
      "text/plain": [
       "  0%|          | 0/3 [00:00<?, ?it/s]"
      ]
     },
     "metadata": {},
     "output_type": "display_data"
    },
    {
     "name": "stdout",
     "output_type": "stream",
     "text": [
      "Searching for coherent refinements of <SAS of degree 8 and ranks [1, 3, 6, 9, 10, 9, 6, 3, 1]>\n",
      "Summary: (8, 48, [1, 3, 6, 9, 10, 9, 6, 3, 1], False, True, 'D10')\n"
     ]
    },
    {
     "data": {
      "application/vnd.jupyter.widget-view+json": {
       "model_id": "b94cf8d96d72428ebb548e17cdba082a",
       "version_major": 2,
       "version_minor": 0
      },
      "text/plain": [
       "0it [00:00, ?it/s]"
      ]
     },
     "metadata": {},
     "output_type": "display_data"
    },
    {
     "name": "stdout",
     "output_type": "stream",
     "text": [
      "Enumerating monochromatic designs on level 2\n"
     ]
    },
    {
     "data": {
      "application/vnd.jupyter.widget-view+json": {
       "model_id": "5c940c9ecc3d48948da3968773f719c2",
       "version_major": 2,
       "version_minor": 0
      },
      "text/plain": [
       "0it [00:00, ?it/s]"
      ]
     },
     "metadata": {},
     "output_type": "display_data"
    },
    {
     "name": "stdout",
     "output_type": "stream",
     "text": [
      "Enumerating monochromatic designs on level 3\n"
     ]
    },
    {
     "data": {
      "application/vnd.jupyter.widget-view+json": {
       "model_id": "ee24bfe40214418c9896d1656b424945",
       "version_major": 2,
       "version_minor": 0
      },
      "text/plain": [
       "0it [00:00, ?it/s]"
      ]
     },
     "metadata": {},
     "output_type": "display_data"
    },
    {
     "name": "stdout",
     "output_type": "stream",
     "text": [
      "Enumerating monochromatic designs on level 4\n"
     ]
    },
    {
     "data": {
      "application/vnd.jupyter.widget-view+json": {
       "model_id": "0511b6c6bf814e98bec5326ebdabf593",
       "version_major": 2,
       "version_minor": 0
      },
      "text/plain": [
       "0it [00:00, ?it/s]"
      ]
     },
     "metadata": {},
     "output_type": "display_data"
    },
    {
     "name": "stdout",
     "output_type": "stream",
     "text": [
      "Testing 0 designs with WL... (triangles only)\n"
     ]
    },
    {
     "data": {
      "application/vnd.jupyter.widget-view+json": {
       "model_id": "f04971e3a7564eb49bafc6dbea59c9bd",
       "version_major": 2,
       "version_minor": 0
      },
      "text/plain": [
       "0it [00:00, ?it/s]"
      ]
     },
     "metadata": {},
     "output_type": "display_data"
    },
    {
     "name": "stdout",
     "output_type": "stream",
     "text": [
      "Searching for coherent refinements of <SAS of degree 8 and ranks [1, 4, 9, 14, 16, 14, 9, 4, 1]>\n",
      "Summary: (8, 72, [1, 4, 9, 14, 16, 14, 9, 4, 1], False, True, 'C2 x C2 x S3')\n"
     ]
    },
    {
     "data": {
      "application/vnd.jupyter.widget-view+json": {
       "model_id": "97a08cf5bc9f4effaf221fef685ee096",
       "version_major": 2,
       "version_minor": 0
      },
      "text/plain": [
       "0it [00:00, ?it/s]"
      ]
     },
     "metadata": {},
     "output_type": "display_data"
    },
    {
     "name": "stdout",
     "output_type": "stream",
     "text": [
      "Enumerating monochromatic designs on level 1\n"
     ]
    },
    {
     "data": {
      "application/vnd.jupyter.widget-view+json": {
       "model_id": "b3e976640b20448c88a0c6fbe99072c2",
       "version_major": 2,
       "version_minor": 0
      },
      "text/plain": [
       "0it [00:00, ?it/s]"
      ]
     },
     "metadata": {},
     "output_type": "display_data"
    },
    {
     "name": "stdout",
     "output_type": "stream",
     "text": [
      "Enumerating monochromatic designs on level 2\n"
     ]
    },
    {
     "data": {
      "application/vnd.jupyter.widget-view+json": {
       "model_id": "c18fa5b1b3b24a48b67b51c6f7cb7eb2",
       "version_major": 2,
       "version_minor": 0
      },
      "text/plain": [
       "0it [00:00, ?it/s]"
      ]
     },
     "metadata": {},
     "output_type": "display_data"
    },
    {
     "name": "stdout",
     "output_type": "stream",
     "text": [
      "Enumerating monochromatic designs on level 3\n"
     ]
    },
    {
     "data": {
      "application/vnd.jupyter.widget-view+json": {
       "model_id": "308ed8cc224645b189a036eb298b4e2f",
       "version_major": 2,
       "version_minor": 0
      },
      "text/plain": [
       "0it [00:00, ?it/s]"
      ]
     },
     "metadata": {},
     "output_type": "display_data"
    },
    {
     "name": "stdout",
     "output_type": "stream",
     "text": [
      "Enumerating monochromatic designs on level 4\n"
     ]
    },
    {
     "data": {
      "application/vnd.jupyter.widget-view+json": {
       "model_id": "2777f14fbbb94737ab687af8ffd1b380",
       "version_major": 2,
       "version_minor": 0
      },
      "text/plain": [
       "0it [00:00, ?it/s]"
      ]
     },
     "metadata": {},
     "output_type": "display_data"
    },
    {
     "name": "stdout",
     "output_type": "stream",
     "text": [
      "Testing 3 designs with WL... (triangles only)\n"
     ]
    },
    {
     "data": {
      "application/vnd.jupyter.widget-view+json": {
       "model_id": "f6b355151ecb4031b2ed5c1adb3f6e10",
       "version_major": 2,
       "version_minor": 0
      },
      "text/plain": [
       "  0%|          | 0/3 [00:00<?, ?it/s]"
      ]
     },
     "metadata": {},
     "output_type": "display_data"
    },
    {
     "name": "stdout",
     "output_type": "stream",
     "text": [
      "Found: <SAS of degree 8 and ranks [1, 5, 12, 19, 22, 19, 12, 5, 1]>\n",
      "Summary: (8, 96, [1, 5, 12, 19, 22, 19, 12, 5, 1], False, True, 'D6')\n",
      "Found: <SAS of degree 8 and ranks [1, 4, 10, 16, 18, 16, 10, 4, 1]>\n",
      "Summary: (8, 80, [1, 4, 10, 16, 18, 16, 10, 4, 1], False, True, 'D6')\n",
      "Found: <SAS of degree 8 and ranks [1, 5, 13, 22, 26, 22, 13, 5, 1]>\n",
      "Summary: (8, 108, [1, 5, 13, 22, 26, 22, 13, 5, 1], False, True, 'C2 x C2 x C2')\n",
      "Searching for coherent refinements of <SAS of degree 8 and ranks [1, 3, 5, 7, 8, 7, 5, 3, 1]>\n",
      "Summary: (8, 40, [1, 3, 5, 7, 8, 7, 5, 3, 1], False, True, 'C5 : C4')\n"
     ]
    },
    {
     "data": {
      "application/vnd.jupyter.widget-view+json": {
       "model_id": "8856061c2c0b4b27937bf0f69acc3ff9",
       "version_major": 2,
       "version_minor": 0
      },
      "text/plain": [
       "0it [00:00, ?it/s]"
      ]
     },
     "metadata": {},
     "output_type": "display_data"
    },
    {
     "name": "stdout",
     "output_type": "stream",
     "text": [
      "Enumerating monochromatic designs on level 3\n"
     ]
    },
    {
     "data": {
      "application/vnd.jupyter.widget-view+json": {
       "model_id": "84cf9497d3dd479eb4aa4915b4129c86",
       "version_major": 2,
       "version_minor": 0
      },
      "text/plain": [
       "0it [00:00, ?it/s]"
      ]
     },
     "metadata": {},
     "output_type": "display_data"
    },
    {
     "name": "stdout",
     "output_type": "stream",
     "text": [
      "Enumerating monochromatic designs on level 4\n"
     ]
    },
    {
     "data": {
      "application/vnd.jupyter.widget-view+json": {
       "model_id": "66a21e4228804c5998140fe5ae73ffea",
       "version_major": 2,
       "version_minor": 0
      },
      "text/plain": [
       "0it [00:00, ?it/s]"
      ]
     },
     "metadata": {},
     "output_type": "display_data"
    },
    {
     "name": "stdout",
     "output_type": "stream",
     "text": [
      "Testing 0 designs with WL... (triangles only)\n"
     ]
    },
    {
     "data": {
      "application/vnd.jupyter.widget-view+json": {
       "model_id": "26c6a1258b2842deb85e67c54056aee3",
       "version_major": 2,
       "version_minor": 0
      },
      "text/plain": [
       "0it [00:00, ?it/s]"
      ]
     },
     "metadata": {},
     "output_type": "display_data"
    },
    {
     "name": "stdout",
     "output_type": "stream",
     "text": [
      "Searching for coherent refinements of <SAS of degree 8 and ranks [1, 4, 7, 8, 8, 8, 7, 4, 1]>\n",
      "Summary: (8, 48, [1, 4, 7, 8, 8, 8, 7, 4, 1], False, True, 'S5')\n"
     ]
    },
    {
     "data": {
      "application/vnd.jupyter.widget-view+json": {
       "model_id": "6fb1698ab4594a7bbee5c0eb50a59bd8",
       "version_major": 2,
       "version_minor": 0
      },
      "text/plain": [
       "0it [00:00, ?it/s]"
      ]
     },
     "metadata": {},
     "output_type": "display_data"
    },
    {
     "name": "stdout",
     "output_type": "stream",
     "text": [
      "Enumerating monochromatic designs on level 1\n"
     ]
    },
    {
     "data": {
      "application/vnd.jupyter.widget-view+json": {
       "model_id": "fc8e2150a7034df292282821e9025a95",
       "version_major": 2,
       "version_minor": 0
      },
      "text/plain": [
       "0it [00:00, ?it/s]"
      ]
     },
     "metadata": {},
     "output_type": "display_data"
    },
    {
     "name": "stdout",
     "output_type": "stream",
     "text": [
      "Enumerating monochromatic designs on level 2\n"
     ]
    },
    {
     "data": {
      "application/vnd.jupyter.widget-view+json": {
       "model_id": "f727d86cb0e549369f7f4ce3e977c150",
       "version_major": 2,
       "version_minor": 0
      },
      "text/plain": [
       "0it [00:00, ?it/s]"
      ]
     },
     "metadata": {},
     "output_type": "display_data"
    },
    {
     "name": "stdout",
     "output_type": "stream",
     "text": [
      "Enumerating monochromatic designs on level 3\n"
     ]
    },
    {
     "data": {
      "application/vnd.jupyter.widget-view+json": {
       "model_id": "75c252e172fe47fa9f18797b2f1f7f58",
       "version_major": 2,
       "version_minor": 0
      },
      "text/plain": [
       "0it [00:00, ?it/s]"
      ]
     },
     "metadata": {},
     "output_type": "display_data"
    },
    {
     "name": "stdout",
     "output_type": "stream",
     "text": [
      "Enumerating monochromatic designs on level 4\n"
     ]
    },
    {
     "data": {
      "application/vnd.jupyter.widget-view+json": {
       "model_id": "253c20455dfd4c53b6199f71d4aabbbb",
       "version_major": 2,
       "version_minor": 0
      },
      "text/plain": [
       "0it [00:00, ?it/s]"
      ]
     },
     "metadata": {},
     "output_type": "display_data"
    },
    {
     "name": "stdout",
     "output_type": "stream",
     "text": [
      "Testing 3 designs with WL... (triangles only)\n"
     ]
    },
    {
     "data": {
      "application/vnd.jupyter.widget-view+json": {
       "model_id": "ccd98a9627104c509c503d01e493c1eb",
       "version_major": 2,
       "version_minor": 0
      },
      "text/plain": [
       "  0%|          | 0/3 [00:00<?, ?it/s]"
      ]
     },
     "metadata": {},
     "output_type": "display_data"
    },
    {
     "name": "stdout",
     "output_type": "stream",
     "text": [
      "Found: <SAS of degree 8 and ranks [1, 4, 8, 12, 14, 12, 8, 4, 1]>\n",
      "Summary: (8, 64, [1, 4, 8, 12, 14, 12, 8, 4, 1], False, True, 'D5')\n",
      "Found: <SAS of degree 8 and ranks [1, 5, 11, 15, 16, 15, 11, 5, 1]>\n",
      "Summary: (8, 80, [1, 5, 11, 15, 16, 15, 11, 5, 1], False, True, 'S4')\n",
      "Searching for coherent refinements of <SAS of degree 8 and ranks [1, 4, 8, 11, 12, 11, 8, 4, 1]>\n",
      "Summary: (8, 60, [1, 4, 8, 11, 12, 11, 8, 4, 1], False, True, 'C2 x S4')\n"
     ]
    },
    {
     "data": {
      "application/vnd.jupyter.widget-view+json": {
       "model_id": "69313abb586a42338a6585f1be14f9dc",
       "version_major": 2,
       "version_minor": 0
      },
      "text/plain": [
       "0it [00:00, ?it/s]"
      ]
     },
     "metadata": {},
     "output_type": "display_data"
    },
    {
     "name": "stdout",
     "output_type": "stream",
     "text": [
      "Enumerating monochromatic designs on level 1\n"
     ]
    },
    {
     "data": {
      "application/vnd.jupyter.widget-view+json": {
       "model_id": "e2e72ce814bf4ffaab02eaf5dffa3b3a",
       "version_major": 2,
       "version_minor": 0
      },
      "text/plain": [
       "0it [00:00, ?it/s]"
      ]
     },
     "metadata": {},
     "output_type": "display_data"
    },
    {
     "name": "stdout",
     "output_type": "stream",
     "text": [
      "Enumerating monochromatic designs on level 2\n"
     ]
    },
    {
     "data": {
      "application/vnd.jupyter.widget-view+json": {
       "model_id": "c84117564fed47cebaf4dabddcae5acd",
       "version_major": 2,
       "version_minor": 0
      },
      "text/plain": [
       "0it [00:00, ?it/s]"
      ]
     },
     "metadata": {},
     "output_type": "display_data"
    },
    {
     "name": "stdout",
     "output_type": "stream",
     "text": [
      "Enumerating monochromatic designs on level 3\n"
     ]
    },
    {
     "data": {
      "application/vnd.jupyter.widget-view+json": {
       "model_id": "7c6004c06b794ba4a90ec409db644c9e",
       "version_major": 2,
       "version_minor": 0
      },
      "text/plain": [
       "0it [00:00, ?it/s]"
      ]
     },
     "metadata": {},
     "output_type": "display_data"
    },
    {
     "name": "stdout",
     "output_type": "stream",
     "text": [
      "Enumerating monochromatic designs on level 4\n"
     ]
    },
    {
     "data": {
      "application/vnd.jupyter.widget-view+json": {
       "model_id": "ced689728b23498893383b047f439de6",
       "version_major": 2,
       "version_minor": 0
      },
      "text/plain": [
       "0it [00:00, ?it/s]"
      ]
     },
     "metadata": {},
     "output_type": "display_data"
    },
    {
     "name": "stdout",
     "output_type": "stream",
     "text": [
      "Testing 5 designs with WL... (triangles only)\n"
     ]
    },
    {
     "data": {
      "application/vnd.jupyter.widget-view+json": {
       "model_id": "5d376190e50f42d5ae1fe87b593970b7",
       "version_major": 2,
       "version_minor": 0
      },
      "text/plain": [
       "  0%|          | 0/5 [00:00<?, ?it/s]"
      ]
     },
     "metadata": {},
     "output_type": "display_data"
    },
    {
     "name": "stdout",
     "output_type": "stream",
     "text": [
      "Found: <SAS of degree 8 and ranks [1, 4, 10, 17, 20, 17, 10, 4, 1]>\n",
      "Summary: (8, 84, [1, 4, 10, 17, 20, 17, 10, 4, 1], False, True, 'D4')\n",
      "Found: <SAS of degree 8 and ranks [1, 4, 9, 14, 16, 14, 9, 4, 1]>\n",
      "Summary: (8, 72, [1, 4, 9, 14, 16, 14, 9, 4, 1], False, True, 'C2 x D4')\n",
      "Searching for coherent refinements of <SAS of degree 8 and ranks [1, 3, 7, 11, 12, 11, 7, 3, 1]>\n",
      "Summary: (8, 56, [1, 3, 7, 11, 12, 11, 7, 3, 1], False, True, 'C2 x C2 x S3')\n"
     ]
    },
    {
     "data": {
      "application/vnd.jupyter.widget-view+json": {
       "model_id": "2f0f5459ad314c7791e12c206da15685",
       "version_major": 2,
       "version_minor": 0
      },
      "text/plain": [
       "0it [00:00, ?it/s]"
      ]
     },
     "metadata": {},
     "output_type": "display_data"
    },
    {
     "name": "stdout",
     "output_type": "stream",
     "text": [
      "Enumerating monochromatic designs on level 2\n"
     ]
    },
    {
     "data": {
      "application/vnd.jupyter.widget-view+json": {
       "model_id": "da037595443e461896713d54d588446f",
       "version_major": 2,
       "version_minor": 0
      },
      "text/plain": [
       "0it [00:00, ?it/s]"
      ]
     },
     "metadata": {},
     "output_type": "display_data"
    },
    {
     "name": "stdout",
     "output_type": "stream",
     "text": [
      "Enumerating monochromatic designs on level 3\n"
     ]
    },
    {
     "data": {
      "application/vnd.jupyter.widget-view+json": {
       "model_id": "03a59cdcf2db4b0aadff1b482cccebd0",
       "version_major": 2,
       "version_minor": 0
      },
      "text/plain": [
       "0it [00:00, ?it/s]"
      ]
     },
     "metadata": {},
     "output_type": "display_data"
    },
    {
     "name": "stdout",
     "output_type": "stream",
     "text": [
      "Enumerating monochromatic designs on level 4\n"
     ]
    },
    {
     "data": {
      "application/vnd.jupyter.widget-view+json": {
       "model_id": "5c56601c76d04c19962ee43873194ea6",
       "version_major": 2,
       "version_minor": 0
      },
      "text/plain": [
       "0it [00:00, ?it/s]"
      ]
     },
     "metadata": {},
     "output_type": "display_data"
    },
    {
     "name": "stdout",
     "output_type": "stream",
     "text": [
      "Testing 0 designs with WL... (triangles only)\n"
     ]
    },
    {
     "data": {
      "application/vnd.jupyter.widget-view+json": {
       "model_id": "4ebcab310aa94a12a8ecdfc85a7ad546",
       "version_major": 2,
       "version_minor": 0
      },
      "text/plain": [
       "0it [00:00, ?it/s]"
      ]
     },
     "metadata": {},
     "output_type": "display_data"
    },
    {
     "name": "stdout",
     "output_type": "stream",
     "text": [
      "Searching for coherent refinements of <SAS of degree 8 and ranks [1, 2, 2, 4, 6, 4, 2, 2, 1]>\n",
      "Summary: (8, 24, [1, 2, 2, 4, 6, 4, 2, 2, 1], False, True, 'C7 : C3')\n"
     ]
    },
    {
     "data": {
      "application/vnd.jupyter.widget-view+json": {
       "model_id": "4fe5cce384614ea3b846d27cecbd205e",
       "version_major": 2,
       "version_minor": 0
      },
      "text/plain": [
       "0it [00:00, ?it/s]"
      ]
     },
     "metadata": {},
     "output_type": "display_data"
    },
    {
     "name": "stdout",
     "output_type": "stream",
     "text": [
      "Enumerating monochromatic designs on level 3\n"
     ]
    },
    {
     "data": {
      "application/vnd.jupyter.widget-view+json": {
       "model_id": "00cd409520df4af9b3f803e8ce56faf0",
       "version_major": 2,
       "version_minor": 0
      },
      "text/plain": [
       "0it [00:00, ?it/s]"
      ]
     },
     "metadata": {},
     "output_type": "display_data"
    },
    {
     "name": "stdout",
     "output_type": "stream",
     "text": [
      "Enumerating monochromatic designs on level 4\n"
     ]
    },
    {
     "data": {
      "application/vnd.jupyter.widget-view+json": {
       "model_id": "4ca5a4e1f3ba4e56859d64d720231950",
       "version_major": 2,
       "version_minor": 0
      },
      "text/plain": [
       "0it [00:00, ?it/s]"
      ]
     },
     "metadata": {},
     "output_type": "display_data"
    },
    {
     "name": "stdout",
     "output_type": "stream",
     "text": [
      "Testing 0 designs with WL... (triangles only)\n"
     ]
    },
    {
     "data": {
      "application/vnd.jupyter.widget-view+json": {
       "model_id": "db633a28abf3481f906d7140c68fe873",
       "version_major": 2,
       "version_minor": 0
      },
      "text/plain": [
       "0it [00:00, ?it/s]"
      ]
     },
     "metadata": {},
     "output_type": "display_data"
    },
    {
     "name": "stdout",
     "output_type": "stream",
     "text": [
      "Searching for coherent refinements of <SAS of degree 8 and ranks [1, 3, 5, 8, 10, 8, 5, 3, 1]>\n",
      "Summary: (8, 44, [1, 3, 5, 8, 10, 8, 5, 3, 1], False, True, 'S4')\n"
     ]
    },
    {
     "data": {
      "application/vnd.jupyter.widget-view+json": {
       "model_id": "a5fafb3f40bb4460abbb6b9af6a311ca",
       "version_major": 2,
       "version_minor": 0
      },
      "text/plain": [
       "0it [00:00, ?it/s]"
      ]
     },
     "metadata": {},
     "output_type": "display_data"
    },
    {
     "name": "stdout",
     "output_type": "stream",
     "text": [
      "Enumerating monochromatic designs on level 3\n"
     ]
    },
    {
     "data": {
      "application/vnd.jupyter.widget-view+json": {
       "model_id": "1e62e70ab2104fcca7e290c7097f0260",
       "version_major": 2,
       "version_minor": 0
      },
      "text/plain": [
       "0it [00:00, ?it/s]"
      ]
     },
     "metadata": {},
     "output_type": "display_data"
    },
    {
     "name": "stdout",
     "output_type": "stream",
     "text": [
      "Enumerating monochromatic designs on level 4\n"
     ]
    },
    {
     "data": {
      "application/vnd.jupyter.widget-view+json": {
       "model_id": "ee467322a0ed4267a36677bd6b77e645",
       "version_major": 2,
       "version_minor": 0
      },
      "text/plain": [
       "0it [00:00, ?it/s]"
      ]
     },
     "metadata": {},
     "output_type": "display_data"
    },
    {
     "name": "stdout",
     "output_type": "stream",
     "text": [
      "Testing 1 designs with WL... (triangles only)\n"
     ]
    },
    {
     "data": {
      "application/vnd.jupyter.widget-view+json": {
       "model_id": "98a2fdaf27d04c418da1580d6b40cd9c",
       "version_major": 2,
       "version_minor": 0
      },
      "text/plain": [
       "  0%|          | 0/1 [00:00<?, ?it/s]"
      ]
     },
     "metadata": {},
     "output_type": "display_data"
    },
    {
     "name": "stdout",
     "output_type": "stream",
     "text": [
      "Found: <SAS of degree 8 and ranks [1, 3, 5, 9, 12, 9, 5, 3, 1]>\n",
      "Summary: (8, 48, [1, 3, 5, 9, 12, 9, 5, 3, 1], False, True, 'A4')\n",
      "Searching for coherent refinements of <SAS of degree 8 and ranks [1, 4, 8, 12, 14, 12, 8, 4, 1]>\n",
      "Summary: (8, 64, [1, 4, 8, 12, 14, 12, 8, 4, 1], False, True, 'S3 x S3')\n"
     ]
    },
    {
     "data": {
      "application/vnd.jupyter.widget-view+json": {
       "model_id": "2654989d4a974bfb82b63baf4ec0d7c7",
       "version_major": 2,
       "version_minor": 0
      },
      "text/plain": [
       "0it [00:00, ?it/s]"
      ]
     },
     "metadata": {},
     "output_type": "display_data"
    },
    {
     "name": "stdout",
     "output_type": "stream",
     "text": [
      "Enumerating monochromatic designs on level 1\n"
     ]
    },
    {
     "data": {
      "application/vnd.jupyter.widget-view+json": {
       "model_id": "69284411baaa4d649462b8846e116a0c",
       "version_major": 2,
       "version_minor": 0
      },
      "text/plain": [
       "0it [00:00, ?it/s]"
      ]
     },
     "metadata": {},
     "output_type": "display_data"
    },
    {
     "name": "stdout",
     "output_type": "stream",
     "text": [
      "Enumerating monochromatic designs on level 2\n"
     ]
    },
    {
     "data": {
      "application/vnd.jupyter.widget-view+json": {
       "model_id": "0d8f5866a04e4ea68422952de577cd37",
       "version_major": 2,
       "version_minor": 0
      },
      "text/plain": [
       "0it [00:00, ?it/s]"
      ]
     },
     "metadata": {},
     "output_type": "display_data"
    },
    {
     "name": "stdout",
     "output_type": "stream",
     "text": [
      "Enumerating monochromatic designs on level 3\n"
     ]
    },
    {
     "data": {
      "application/vnd.jupyter.widget-view+json": {
       "model_id": "b45c0605e40045769d129d52240e3b3b",
       "version_major": 2,
       "version_minor": 0
      },
      "text/plain": [
       "0it [00:00, ?it/s]"
      ]
     },
     "metadata": {},
     "output_type": "display_data"
    },
    {
     "name": "stdout",
     "output_type": "stream",
     "text": [
      "Enumerating monochromatic designs on level 4\n"
     ]
    },
    {
     "data": {
      "application/vnd.jupyter.widget-view+json": {
       "model_id": "753562a593254a289beed72992d92415",
       "version_major": 2,
       "version_minor": 0
      },
      "text/plain": [
       "0it [00:00, ?it/s]"
      ]
     },
     "metadata": {},
     "output_type": "display_data"
    },
    {
     "name": "stdout",
     "output_type": "stream",
     "text": [
      "Testing 2 designs with WL... (triangles only)\n"
     ]
    },
    {
     "data": {
      "application/vnd.jupyter.widget-view+json": {
       "model_id": "0e52dda6d1684ed59c6bb2160a46cbfd",
       "version_major": 2,
       "version_minor": 0
      },
      "text/plain": [
       "  0%|          | 0/2 [00:00<?, ?it/s]"
      ]
     },
     "metadata": {},
     "output_type": "display_data"
    },
    {
     "name": "stdout",
     "output_type": "stream",
     "text": [
      "Found: <SAS of degree 8 and ranks [1, 4, 9, 16, 20, 16, 9, 4, 1]>\n",
      "Summary: (8, 80, [1, 4, 9, 16, 20, 16, 9, 4, 1], False, True, 'S3')\n",
      "Searching for coherent refinements of <SAS of degree 8 and ranks [1, 2, 4, 8, 10, 8, 4, 2, 1]>\n",
      "Summary: (8, 40, [1, 2, 4, 8, 10, 8, 4, 2, 1], False, True, 'C7')\n"
     ]
    },
    {
     "data": {
      "application/vnd.jupyter.widget-view+json": {
       "model_id": "a91f30c3e4dc4ceb9287e946876f1e69",
       "version_major": 2,
       "version_minor": 0
      },
      "text/plain": [
       "0it [00:00, ?it/s]"
      ]
     },
     "metadata": {},
     "output_type": "display_data"
    },
    {
     "name": "stdout",
     "output_type": "stream",
     "text": [
      "Enumerating monochromatic designs on level 3\n"
     ]
    },
    {
     "data": {
      "application/vnd.jupyter.widget-view+json": {
       "model_id": "081d76860de84583bee4e5789ef7178a",
       "version_major": 2,
       "version_minor": 0
      },
      "text/plain": [
       "0it [00:00, ?it/s]"
      ]
     },
     "metadata": {},
     "output_type": "display_data"
    },
    {
     "name": "stdout",
     "output_type": "stream",
     "text": [
      "Enumerating monochromatic designs on level 4\n"
     ]
    },
    {
     "data": {
      "application/vnd.jupyter.widget-view+json": {
       "model_id": "2ae605a1794c4967bdb9af4645bc4002",
       "version_major": 2,
       "version_minor": 0
      },
      "text/plain": [
       "0it [00:00, ?it/s]"
      ]
     },
     "metadata": {},
     "output_type": "display_data"
    },
    {
     "name": "stdout",
     "output_type": "stream",
     "text": [
      "Testing 0 designs with WL... (triangles only)\n"
     ]
    },
    {
     "data": {
      "application/vnd.jupyter.widget-view+json": {
       "model_id": "2d60f2882dfe4fc7b1fbdf536bcbdb12",
       "version_major": 2,
       "version_minor": 0
      },
      "text/plain": [
       "0it [00:00, ?it/s]"
      ]
     },
     "metadata": {},
     "output_type": "display_data"
    },
    {
     "name": "stdout",
     "output_type": "stream",
     "text": [
      "Searching for coherent refinements of <SAS of degree 8 and ranks [1, 3, 4, 5, 6, 5, 4, 3, 1]>\n",
      "Summary: (8, 32, [1, 3, 4, 5, 6, 5, 4, 3, 1], False, True, 'A5')\n"
     ]
    },
    {
     "data": {
      "application/vnd.jupyter.widget-view+json": {
       "model_id": "fef8ed68faae48b98bd95af30eb703c0",
       "version_major": 2,
       "version_minor": 0
      },
      "text/plain": [
       "0it [00:00, ?it/s]"
      ]
     },
     "metadata": {},
     "output_type": "display_data"
    },
    {
     "name": "stdout",
     "output_type": "stream",
     "text": [
      "Enumerating monochromatic designs on level 3\n"
     ]
    },
    {
     "data": {
      "application/vnd.jupyter.widget-view+json": {
       "model_id": "867be2fde50c4d8daf0bf7146fa43f47",
       "version_major": 2,
       "version_minor": 0
      },
      "text/plain": [
       "0it [00:00, ?it/s]"
      ]
     },
     "metadata": {},
     "output_type": "display_data"
    },
    {
     "name": "stdout",
     "output_type": "stream",
     "text": [
      "Enumerating monochromatic designs on level 4\n"
     ]
    },
    {
     "data": {
      "application/vnd.jupyter.widget-view+json": {
       "model_id": "ce82ae7ea8244329ad94d3583b63be50",
       "version_major": 2,
       "version_minor": 0
      },
      "text/plain": [
       "0it [00:00, ?it/s]"
      ]
     },
     "metadata": {},
     "output_type": "display_data"
    },
    {
     "name": "stdout",
     "output_type": "stream",
     "text": [
      "Testing 0 designs with WL... (triangles only)\n"
     ]
    },
    {
     "data": {
      "application/vnd.jupyter.widget-view+json": {
       "model_id": "6459a0de8c0947d6a259051321c07806",
       "version_major": 2,
       "version_minor": 0
      },
      "text/plain": [
       "0it [00:00, ?it/s]"
      ]
     },
     "metadata": {},
     "output_type": "display_data"
    },
    {
     "name": "stdout",
     "output_type": "stream",
     "text": [
      "Searching for coherent refinements of <SAS of degree 8 and ranks [1, 3, 5, 7, 8, 7, 5, 3, 1]>\n",
      "Summary: (8, 40, [1, 3, 5, 7, 8, 7, 5, 3, 1], False, True, '(S3 x S3) : C2')\n"
     ]
    },
    {
     "data": {
      "application/vnd.jupyter.widget-view+json": {
       "model_id": "1d2100f52c6b44ec87d12464b71b9483",
       "version_major": 2,
       "version_minor": 0
      },
      "text/plain": [
       "0it [00:00, ?it/s]"
      ]
     },
     "metadata": {},
     "output_type": "display_data"
    },
    {
     "name": "stdout",
     "output_type": "stream",
     "text": [
      "Enumerating monochromatic designs on level 2\n"
     ]
    },
    {
     "data": {
      "application/vnd.jupyter.widget-view+json": {
       "model_id": "a8348a8d7ece411a9b9c33efe6639a24",
       "version_major": 2,
       "version_minor": 0
      },
      "text/plain": [
       "0it [00:00, ?it/s]"
      ]
     },
     "metadata": {},
     "output_type": "display_data"
    },
    {
     "name": "stdout",
     "output_type": "stream",
     "text": [
      "Enumerating monochromatic designs on level 3\n"
     ]
    },
    {
     "data": {
      "application/vnd.jupyter.widget-view+json": {
       "model_id": "ff287a9423054409ae5f80830777697f",
       "version_major": 2,
       "version_minor": 0
      },
      "text/plain": [
       "0it [00:00, ?it/s]"
      ]
     },
     "metadata": {},
     "output_type": "display_data"
    },
    {
     "name": "stdout",
     "output_type": "stream",
     "text": [
      "Enumerating monochromatic designs on level 4\n"
     ]
    },
    {
     "data": {
      "application/vnd.jupyter.widget-view+json": {
       "model_id": "d976aac0382345a2ac15f6695b58ee5f",
       "version_major": 2,
       "version_minor": 0
      },
      "text/plain": [
       "0it [00:00, ?it/s]"
      ]
     },
     "metadata": {},
     "output_type": "display_data"
    },
    {
     "name": "stdout",
     "output_type": "stream",
     "text": [
      "Testing 1 designs with WL... (triangles only)\n"
     ]
    },
    {
     "data": {
      "application/vnd.jupyter.widget-view+json": {
       "model_id": "77c752a93613409a842463dbd0948b0d",
       "version_major": 2,
       "version_minor": 0
      },
      "text/plain": [
       "  0%|          | 0/1 [00:00<?, ?it/s]"
      ]
     },
     "metadata": {},
     "output_type": "display_data"
    },
    {
     "name": "stdout",
     "output_type": "stream",
     "text": [
      "Searching for coherent refinements of <SAS of degree 8 and ranks [1, 3, 6, 10, 12, 10, 6, 3, 1]>\n",
      "Summary: (8, 52, [1, 3, 6, 10, 12, 10, 6, 3, 1], False, True, 'D6')\n"
     ]
    },
    {
     "data": {
      "application/vnd.jupyter.widget-view+json": {
       "model_id": "d3293797657d4d1ca88aec48d93187a2",
       "version_major": 2,
       "version_minor": 0
      },
      "text/plain": [
       "0it [00:00, ?it/s]"
      ]
     },
     "metadata": {},
     "output_type": "display_data"
    },
    {
     "name": "stdout",
     "output_type": "stream",
     "text": [
      "Enumerating monochromatic designs on level 2\n"
     ]
    },
    {
     "data": {
      "application/vnd.jupyter.widget-view+json": {
       "model_id": "713d838d30f646b39eb038d7bfa8fbf5",
       "version_major": 2,
       "version_minor": 0
      },
      "text/plain": [
       "0it [00:00, ?it/s]"
      ]
     },
     "metadata": {},
     "output_type": "display_data"
    },
    {
     "name": "stdout",
     "output_type": "stream",
     "text": [
      "Enumerating monochromatic designs on level 3\n"
     ]
    },
    {
     "data": {
      "application/vnd.jupyter.widget-view+json": {
       "model_id": "f6c8365b9a29419093cb78cbc4b89e71",
       "version_major": 2,
       "version_minor": 0
      },
      "text/plain": [
       "0it [00:00, ?it/s]"
      ]
     },
     "metadata": {},
     "output_type": "display_data"
    },
    {
     "name": "stdout",
     "output_type": "stream",
     "text": [
      "Enumerating monochromatic designs on level 4\n"
     ]
    },
    {
     "data": {
      "application/vnd.jupyter.widget-view+json": {
       "model_id": "7c5e94fbfb244a44aee60f1f82796b56",
       "version_major": 2,
       "version_minor": 0
      },
      "text/plain": [
       "0it [00:00, ?it/s]"
      ]
     },
     "metadata": {},
     "output_type": "display_data"
    },
    {
     "name": "stdout",
     "output_type": "stream",
     "text": [
      "Testing 2 designs with WL... (triangles only)\n"
     ]
    },
    {
     "data": {
      "application/vnd.jupyter.widget-view+json": {
       "model_id": "45322829836a4cdba562f43201f4ed95",
       "version_major": 2,
       "version_minor": 0
      },
      "text/plain": [
       "  0%|          | 0/2 [00:00<?, ?it/s]"
      ]
     },
     "metadata": {},
     "output_type": "display_data"
    },
    {
     "name": "stdout",
     "output_type": "stream",
     "text": [
      "Found: <SAS of degree 8 and ranks [1, 3, 6, 11, 14, 11, 6, 3, 1]>\n",
      "Summary: (8, 56, [1, 3, 6, 11, 14, 11, 6, 3, 1], False, True, 'C6')\n",
      "Found: <SAS of degree 8 and ranks [1, 3, 7, 13, 16, 13, 7, 3, 1]>\n",
      "Summary: (8, 64, [1, 3, 7, 13, 16, 13, 7, 3, 1], False, True, 'S3')\n",
      "Searching for coherent refinements of <SAS of degree 8 and ranks [1, 3, 5, 7, 8, 7, 5, 3, 1]>\n",
      "Summary: (8, 40, [1, 3, 5, 7, 8, 7, 5, 3, 1], False, True, 'C2 x S4')\n"
     ]
    },
    {
     "data": {
      "application/vnd.jupyter.widget-view+json": {
       "model_id": "3cc2d78a0a964b96b628a62c6c0b2f79",
       "version_major": 2,
       "version_minor": 0
      },
      "text/plain": [
       "0it [00:00, ?it/s]"
      ]
     },
     "metadata": {},
     "output_type": "display_data"
    },
    {
     "name": "stdout",
     "output_type": "stream",
     "text": [
      "Enumerating monochromatic designs on level 2\n"
     ]
    },
    {
     "data": {
      "application/vnd.jupyter.widget-view+json": {
       "model_id": "efd63816ab6547a7864e760ae1e843b6",
       "version_major": 2,
       "version_minor": 0
      },
      "text/plain": [
       "0it [00:00, ?it/s]"
      ]
     },
     "metadata": {},
     "output_type": "display_data"
    },
    {
     "name": "stdout",
     "output_type": "stream",
     "text": [
      "Enumerating monochromatic designs on level 3\n"
     ]
    },
    {
     "data": {
      "application/vnd.jupyter.widget-view+json": {
       "model_id": "ac3459a785364b16bebf3acf85931968",
       "version_major": 2,
       "version_minor": 0
      },
      "text/plain": [
       "0it [00:00, ?it/s]"
      ]
     },
     "metadata": {},
     "output_type": "display_data"
    },
    {
     "name": "stdout",
     "output_type": "stream",
     "text": [
      "Enumerating monochromatic designs on level 4\n"
     ]
    },
    {
     "data": {
      "application/vnd.jupyter.widget-view+json": {
       "model_id": "c77f41f69fc74cc3a22991a24e94a4c0",
       "version_major": 2,
       "version_minor": 0
      },
      "text/plain": [
       "0it [00:00, ?it/s]"
      ]
     },
     "metadata": {},
     "output_type": "display_data"
    },
    {
     "name": "stdout",
     "output_type": "stream",
     "text": [
      "Testing 6 designs with WL... (triangles only)\n"
     ]
    },
    {
     "data": {
      "application/vnd.jupyter.widget-view+json": {
       "model_id": "b17d3c62ec324a6b8807af7cc2c84236",
       "version_major": 2,
       "version_minor": 0
      },
      "text/plain": [
       "  0%|          | 0/6 [00:00<?, ?it/s]"
      ]
     },
     "metadata": {},
     "output_type": "display_data"
    },
    {
     "name": "stdout",
     "output_type": "stream",
     "text": [
      "Found: <SAS of degree 8 and ranks [1, 4, 11, 20, 24, 20, 11, 4, 1]>\n",
      "Summary: (8, 96, [1, 4, 11, 20, 24, 20, 11, 4, 1], False, True, 'C2 x C2')\n",
      "Found: <SAS of degree 8 and ranks [1, 3, 5, 8, 10, 8, 5, 3, 1]>\n",
      "Summary: (8, 44, [1, 3, 5, 8, 10, 8, 5, 3, 1], False, True, 'S4')\n",
      "Found: <SAS of degree 8 and ranks [1, 3, 5, 8, 10, 8, 5, 3, 1]>\n",
      "Summary: (8, 44, [1, 3, 5, 8, 10, 8, 5, 3, 1], False, True, 'C2 x A4')\n",
      "Searching for coherent refinements of <SAS of degree 8 and ranks [1, 1, 2, 2, 5, 2, 2, 1, 1]>\n",
      "Summary: (8, 17, [1, 1, 2, 2, 5, 2, 2, 1, 1], True, True, '((C2 x C2 x C2 x C2) : C3) : C2')\n"
     ]
    },
    {
     "data": {
      "application/vnd.jupyter.widget-view+json": {
       "model_id": "7c10f247681e4ea9a496a8a155d0206c",
       "version_major": 2,
       "version_minor": 0
      },
      "text/plain": [
       "0it [00:00, ?it/s]"
      ]
     },
     "metadata": {},
     "output_type": "display_data"
    },
    {
     "name": "stdout",
     "output_type": "stream",
     "text": [
      "Enumerating monochromatic designs on level 4\n"
     ]
    },
    {
     "data": {
      "application/vnd.jupyter.widget-view+json": {
       "model_id": "b9afe028f0b04719921c1c5518a9be1b",
       "version_major": 2,
       "version_minor": 0
      },
      "text/plain": [
       "0it [00:00, ?it/s]"
      ]
     },
     "metadata": {},
     "output_type": "display_data"
    },
    {
     "name": "stdout",
     "output_type": "stream",
     "text": [
      "Testing 0 designs with WL... (triangles only)\n"
     ]
    },
    {
     "data": {
      "application/vnd.jupyter.widget-view+json": {
       "model_id": "60febae91c5c45afb6097b098f8f4c27",
       "version_major": 2,
       "version_minor": 0
      },
      "text/plain": [
       "0it [00:00, ?it/s]"
      ]
     },
     "metadata": {},
     "output_type": "display_data"
    },
    {
     "name": "stdout",
     "output_type": "stream",
     "text": [
      "Searching for coherent refinements of <SAS of degree 8 and ranks [1, 1, 4, 7, 10, 7, 4, 1, 1]>\n",
      "Summary: (8, 36, [1, 1, 4, 7, 10, 7, 4, 1, 1], True, False, 'Q8')\n"
     ]
    },
    {
     "data": {
      "application/vnd.jupyter.widget-view+json": {
       "model_id": "1f19aa6c68d1429da8f9ea8460b35ee3",
       "version_major": 2,
       "version_minor": 0
      },
      "text/plain": [
       "0it [00:00, ?it/s]"
      ]
     },
     "metadata": {},
     "output_type": "display_data"
    },
    {
     "name": "stdout",
     "output_type": "stream",
     "text": [
      "Enumerating monochromatic designs on level 3\n"
     ]
    },
    {
     "data": {
      "application/vnd.jupyter.widget-view+json": {
       "model_id": "cd127b4eee18414e97adb285d2dc9614",
       "version_major": 2,
       "version_minor": 0
      },
      "text/plain": [
       "0it [00:00, ?it/s]"
      ]
     },
     "metadata": {},
     "output_type": "display_data"
    },
    {
     "name": "stdout",
     "output_type": "stream",
     "text": [
      "Enumerating monochromatic designs on level 4\n"
     ]
    },
    {
     "data": {
      "application/vnd.jupyter.widget-view+json": {
       "model_id": "5c22d0b202b24cf4a9649e86106a32ba",
       "version_major": 2,
       "version_minor": 0
      },
      "text/plain": [
       "0it [00:00, ?it/s]"
      ]
     },
     "metadata": {},
     "output_type": "display_data"
    },
    {
     "name": "stdout",
     "output_type": "stream",
     "text": [
      "Testing 2 designs with WL... (triangles only)\n"
     ]
    },
    {
     "data": {
      "application/vnd.jupyter.widget-view+json": {
       "model_id": "a665b08c97fb42b7842179e319ef5c63",
       "version_major": 2,
       "version_minor": 0
      },
      "text/plain": [
       "  0%|          | 0/2 [00:00<?, ?it/s]"
      ]
     },
     "metadata": {},
     "output_type": "display_data"
    },
    {
     "name": "stdout",
     "output_type": "stream",
     "text": [
      "Found: <SAS of degree 8 and ranks [1, 1, 4, 7, 11, 7, 4, 1, 1]>\n",
      "Summary: (8, 37, [1, 1, 4, 7, 11, 7, 4, 1, 1], True, True, 'Q8')\n",
      "Searching for coherent refinements of <SAS of degree 8 and ranks [1, 1, 4, 4, 8, 4, 4, 1, 1]>\n",
      "Summary: (8, 28, [1, 1, 4, 4, 8, 4, 4, 1, 1], True, True, '(C2 x C2 x C2) : (C2 x C2)')\n"
     ]
    },
    {
     "data": {
      "application/vnd.jupyter.widget-view+json": {
       "model_id": "2609fe7299cf4c648af97ffc7f688905",
       "version_major": 2,
       "version_minor": 0
      },
      "text/plain": [
       "0it [00:00, ?it/s]"
      ]
     },
     "metadata": {},
     "output_type": "display_data"
    },
    {
     "name": "stdout",
     "output_type": "stream",
     "text": [
      "Enumerating monochromatic designs on level 4\n"
     ]
    },
    {
     "data": {
      "application/vnd.jupyter.widget-view+json": {
       "model_id": "9108e426bb6c40508b3d51b3353f8207",
       "version_major": 2,
       "version_minor": 0
      },
      "text/plain": [
       "0it [00:00, ?it/s]"
      ]
     },
     "metadata": {},
     "output_type": "display_data"
    },
    {
     "name": "stdout",
     "output_type": "stream",
     "text": [
      "Testing 0 designs with WL... (triangles only)\n"
     ]
    },
    {
     "data": {
      "application/vnd.jupyter.widget-view+json": {
       "model_id": "0933833aa97143f29c78fd2646c2dbbe",
       "version_major": 2,
       "version_minor": 0
      },
      "text/plain": [
       "0it [00:00, ?it/s]"
      ]
     },
     "metadata": {},
     "output_type": "display_data"
    },
    {
     "name": "stdout",
     "output_type": "stream",
     "text": [
      "Searching for coherent refinements of <SAS of degree 8 and ranks [1, 1, 3, 5, 8, 5, 3, 1, 1]>\n",
      "Summary: (8, 28, [1, 1, 3, 5, 8, 5, 3, 1, 1], True, False, 'C4 x C2')\n"
     ]
    },
    {
     "data": {
      "application/vnd.jupyter.widget-view+json": {
       "model_id": "db5071f7cac1407aabd03a74e28e3492",
       "version_major": 2,
       "version_minor": 0
      },
      "text/plain": [
       "0it [00:00, ?it/s]"
      ]
     },
     "metadata": {},
     "output_type": "display_data"
    },
    {
     "name": "stdout",
     "output_type": "stream",
     "text": [
      "Enumerating monochromatic designs on level 4\n"
     ]
    },
    {
     "data": {
      "application/vnd.jupyter.widget-view+json": {
       "model_id": "a64d4c13d77c4c51b4398356624d4767",
       "version_major": 2,
       "version_minor": 0
      },
      "text/plain": [
       "0it [00:00, ?it/s]"
      ]
     },
     "metadata": {},
     "output_type": "display_data"
    },
    {
     "name": "stdout",
     "output_type": "stream",
     "text": [
      "Testing 0 designs with WL... (triangles only)\n"
     ]
    },
    {
     "data": {
      "application/vnd.jupyter.widget-view+json": {
       "model_id": "062619dfa51d49848951fd58350e5dd1",
       "version_major": 2,
       "version_minor": 0
      },
      "text/plain": [
       "0it [00:00, ?it/s]"
      ]
     },
     "metadata": {},
     "output_type": "display_data"
    },
    {
     "name": "stdout",
     "output_type": "stream",
     "text": [
      "Searching for coherent refinements of <SAS of degree 8 and ranks [1, 2, 4, 6, 10, 6, 4, 2, 1]>\n",
      "Summary: (8, 36, [1, 2, 4, 6, 10, 6, 4, 2, 1], False, True, 'A4')\n"
     ]
    },
    {
     "data": {
      "application/vnd.jupyter.widget-view+json": {
       "model_id": "3b805022c9f447c5b5337c1bf951e534",
       "version_major": 2,
       "version_minor": 0
      },
      "text/plain": [
       "0it [00:00, ?it/s]"
      ]
     },
     "metadata": {},
     "output_type": "display_data"
    },
    {
     "name": "stdout",
     "output_type": "stream",
     "text": [
      "Enumerating monochromatic designs on level 4\n"
     ]
    },
    {
     "data": {
      "application/vnd.jupyter.widget-view+json": {
       "model_id": "cd49e04b27a64c618c016933568aa0e2",
       "version_major": 2,
       "version_minor": 0
      },
      "text/plain": [
       "0it [00:00, ?it/s]"
      ]
     },
     "metadata": {},
     "output_type": "display_data"
    },
    {
     "name": "stdout",
     "output_type": "stream",
     "text": [
      "Testing 0 designs with WL... (triangles only)\n"
     ]
    },
    {
     "data": {
      "application/vnd.jupyter.widget-view+json": {
       "model_id": "2f0a8f542d45499f9755d07fd8f217c0",
       "version_major": 2,
       "version_minor": 0
      },
      "text/plain": [
       "0it [00:00, ?it/s]"
      ]
     },
     "metadata": {},
     "output_type": "display_data"
    },
    {
     "name": "stdout",
     "output_type": "stream",
     "text": [
      "Searching for coherent refinements of <SAS of degree 8 and ranks [1, 1, 5, 7, 12, 7, 5, 1, 1]>\n",
      "Summary: (8, 40, [1, 1, 5, 7, 12, 7, 5, 1, 1], True, True, 'C4 x C2')\n"
     ]
    },
    {
     "data": {
      "application/vnd.jupyter.widget-view+json": {
       "model_id": "d9776ad384c34bd4af37ab8ceb611501",
       "version_major": 2,
       "version_minor": 0
      },
      "text/plain": [
       "0it [00:00, ?it/s]"
      ]
     },
     "metadata": {},
     "output_type": "display_data"
    },
    {
     "name": "stdout",
     "output_type": "stream",
     "text": [
      "Enumerating monochromatic designs on level 3\n"
     ]
    },
    {
     "data": {
      "application/vnd.jupyter.widget-view+json": {
       "model_id": "39199fc64d7049e5810c64cd5b8b4aa2",
       "version_major": 2,
       "version_minor": 0
      },
      "text/plain": [
       "0it [00:00, ?it/s]"
      ]
     },
     "metadata": {},
     "output_type": "display_data"
    },
    {
     "name": "stdout",
     "output_type": "stream",
     "text": [
      "Enumerating monochromatic designs on level 4\n"
     ]
    },
    {
     "data": {
      "application/vnd.jupyter.widget-view+json": {
       "model_id": "739281fdc7544ae8a0b273c84a78967c",
       "version_major": 2,
       "version_minor": 0
      },
      "text/plain": [
       "0it [00:00, ?it/s]"
      ]
     },
     "metadata": {},
     "output_type": "display_data"
    },
    {
     "name": "stdout",
     "output_type": "stream",
     "text": [
      "Testing 0 designs with WL... (triangles only)\n"
     ]
    },
    {
     "data": {
      "application/vnd.jupyter.widget-view+json": {
       "model_id": "91e22dbffb854df694e2c34ec4ccebf7",
       "version_major": 2,
       "version_minor": 0
      },
      "text/plain": [
       "0it [00:00, ?it/s]"
      ]
     },
     "metadata": {},
     "output_type": "display_data"
    },
    {
     "name": "stdout",
     "output_type": "stream",
     "text": [
      "Searching for coherent refinements of <SAS of degree 8 and ranks [1, 1, 7, 7, 14, 7, 7, 1, 1]>\n",
      "Summary: (8, 46, [1, 1, 7, 7, 14, 7, 7, 1, 1], True, True, 'C2 x C2 x C2')\n"
     ]
    },
    {
     "data": {
      "application/vnd.jupyter.widget-view+json": {
       "model_id": "1f12f51af36a451984559af60eeaf867",
       "version_major": 2,
       "version_minor": 0
      },
      "text/plain": [
       "0it [00:00, ?it/s]"
      ]
     },
     "metadata": {},
     "output_type": "display_data"
    },
    {
     "name": "stdout",
     "output_type": "stream",
     "text": [
      "Enumerating monochromatic designs on level 2\n"
     ]
    },
    {
     "data": {
      "application/vnd.jupyter.widget-view+json": {
       "model_id": "66ccb2fa5c5b415caf8e4a76aeb02254",
       "version_major": 2,
       "version_minor": 0
      },
      "text/plain": [
       "0it [00:00, ?it/s]"
      ]
     },
     "metadata": {},
     "output_type": "display_data"
    },
    {
     "name": "stdout",
     "output_type": "stream",
     "text": [
      "Enumerating monochromatic designs on level 3\n"
     ]
    },
    {
     "data": {
      "application/vnd.jupyter.widget-view+json": {
       "model_id": "5cd7f3beee24403ea256442da667c82b",
       "version_major": 2,
       "version_minor": 0
      },
      "text/plain": [
       "0it [00:00, ?it/s]"
      ]
     },
     "metadata": {},
     "output_type": "display_data"
    },
    {
     "name": "stdout",
     "output_type": "stream",
     "text": [
      "Enumerating monochromatic designs on level 4\n"
     ]
    },
    {
     "data": {
      "application/vnd.jupyter.widget-view+json": {
       "model_id": "c46b5a43450042128fcfb9969c4862fb",
       "version_major": 2,
       "version_minor": 0
      },
      "text/plain": [
       "0it [00:00, ?it/s]"
      ]
     },
     "metadata": {},
     "output_type": "display_data"
    },
    {
     "name": "stdout",
     "output_type": "stream",
     "text": [
      "Testing 0 designs with WL... (triangles only)\n"
     ]
    },
    {
     "data": {
      "application/vnd.jupyter.widget-view+json": {
       "model_id": "01891b4d71c547b293c2d9a22a7d879b",
       "version_major": 2,
       "version_minor": 0
      },
      "text/plain": [
       "0it [00:00, ?it/s]"
      ]
     },
     "metadata": {},
     "output_type": "display_data"
    },
    {
     "name": "stdout",
     "output_type": "stream",
     "text": [
      "Searching for coherent refinements of <SAS of degree 8 and ranks [1, 1, 3, 5, 8, 5, 3, 1, 1]>\n",
      "Summary: (8, 28, [1, 1, 3, 5, 8, 5, 3, 1, 1], True, False, 'Q8')\n"
     ]
    },
    {
     "data": {
      "application/vnd.jupyter.widget-view+json": {
       "model_id": "d7d89808538544088f65b49ee27546fa",
       "version_major": 2,
       "version_minor": 0
      },
      "text/plain": [
       "0it [00:00, ?it/s]"
      ]
     },
     "metadata": {},
     "output_type": "display_data"
    },
    {
     "name": "stdout",
     "output_type": "stream",
     "text": [
      "Enumerating monochromatic designs on level 4\n"
     ]
    },
    {
     "data": {
      "application/vnd.jupyter.widget-view+json": {
       "model_id": "5d947268d1ae497399620a3ab30b4369",
       "version_major": 2,
       "version_minor": 0
      },
      "text/plain": [
       "0it [00:00, ?it/s]"
      ]
     },
     "metadata": {},
     "output_type": "display_data"
    },
    {
     "name": "stdout",
     "output_type": "stream",
     "text": [
      "Testing 0 designs with WL... (triangles only)\n"
     ]
    },
    {
     "data": {
      "application/vnd.jupyter.widget-view+json": {
       "model_id": "b67019cbfd9c4424a974aab2ed2646da",
       "version_major": 2,
       "version_minor": 0
      },
      "text/plain": [
       "0it [00:00, ?it/s]"
      ]
     },
     "metadata": {},
     "output_type": "display_data"
    },
    {
     "name": "stdout",
     "output_type": "stream",
     "text": [
      "Searching for coherent refinements of <SAS of degree 8 and ranks [1, 1, 3, 4, 7, 4, 3, 1, 1]>\n",
      "Summary: (8, 25, [1, 1, 3, 4, 7, 4, 3, 1, 1], True, False, '(C4 x C2) : C2')\n"
     ]
    },
    {
     "data": {
      "application/vnd.jupyter.widget-view+json": {
       "model_id": "5cb52f383aa748aaaeb3f3079d0c5beb",
       "version_major": 2,
       "version_minor": 0
      },
      "text/plain": [
       "0it [00:00, ?it/s]"
      ]
     },
     "metadata": {},
     "output_type": "display_data"
    },
    {
     "name": "stdout",
     "output_type": "stream",
     "text": [
      "Enumerating monochromatic designs on level 4\n"
     ]
    },
    {
     "data": {
      "application/vnd.jupyter.widget-view+json": {
       "model_id": "f1e6ad4a219f499da45fc80264355ba4",
       "version_major": 2,
       "version_minor": 0
      },
      "text/plain": [
       "0it [00:00, ?it/s]"
      ]
     },
     "metadata": {},
     "output_type": "display_data"
    },
    {
     "name": "stdout",
     "output_type": "stream",
     "text": [
      "Testing 0 designs with WL... (triangles only)\n"
     ]
    },
    {
     "data": {
      "application/vnd.jupyter.widget-view+json": {
       "model_id": "2b4e8d46eacd4e37ae0eb708d01a3508",
       "version_major": 2,
       "version_minor": 0
      },
      "text/plain": [
       "0it [00:00, ?it/s]"
      ]
     },
     "metadata": {},
     "output_type": "display_data"
    },
    {
     "name": "stdout",
     "output_type": "stream",
     "text": [
      "Searching for coherent refinements of <SAS of degree 8 and ranks [1, 1, 4, 5, 9, 5, 4, 1, 1]>\n",
      "Summary: (8, 31, [1, 1, 4, 5, 9, 5, 4, 1, 1], True, True, '(C4 x C2) : C2')\n"
     ]
    },
    {
     "data": {
      "application/vnd.jupyter.widget-view+json": {
       "model_id": "7417baafa3c8424c84f28a5309741699",
       "version_major": 2,
       "version_minor": 0
      },
      "text/plain": [
       "0it [00:00, ?it/s]"
      ]
     },
     "metadata": {},
     "output_type": "display_data"
    },
    {
     "name": "stdout",
     "output_type": "stream",
     "text": [
      "Enumerating monochromatic designs on level 4\n"
     ]
    },
    {
     "data": {
      "application/vnd.jupyter.widget-view+json": {
       "model_id": "a976edc323ed4d1dab7f938759125480",
       "version_major": 2,
       "version_minor": 0
      },
      "text/plain": [
       "0it [00:00, ?it/s]"
      ]
     },
     "metadata": {},
     "output_type": "display_data"
    },
    {
     "name": "stdout",
     "output_type": "stream",
     "text": [
      "Testing 0 designs with WL... (triangles only)\n"
     ]
    },
    {
     "data": {
      "application/vnd.jupyter.widget-view+json": {
       "model_id": "0d6c411f4e714d669ccd4ae1b4f05d1a",
       "version_major": 2,
       "version_minor": 0
      },
      "text/plain": [
       "0it [00:00, ?it/s]"
      ]
     },
     "metadata": {},
     "output_type": "display_data"
    },
    {
     "name": "stdout",
     "output_type": "stream",
     "text": [
      "Searching for coherent refinements of <SAS of degree 8 and ranks [1, 1, 3, 4, 7, 4, 3, 1, 1]>\n",
      "Summary: (8, 25, [1, 1, 3, 4, 7, 4, 3, 1, 1], True, True, '(C2 x C2 x C2) : C4')\n"
     ]
    },
    {
     "data": {
      "application/vnd.jupyter.widget-view+json": {
       "model_id": "a32693b4be6944a1a31874617cb72e23",
       "version_major": 2,
       "version_minor": 0
      },
      "text/plain": [
       "0it [00:00, ?it/s]"
      ]
     },
     "metadata": {},
     "output_type": "display_data"
    },
    {
     "name": "stdout",
     "output_type": "stream",
     "text": [
      "Enumerating monochromatic designs on level 4\n"
     ]
    },
    {
     "data": {
      "application/vnd.jupyter.widget-view+json": {
       "model_id": "80bdd3ed75d144789170280f3a8376e6",
       "version_major": 2,
       "version_minor": 0
      },
      "text/plain": [
       "0it [00:00, ?it/s]"
      ]
     },
     "metadata": {},
     "output_type": "display_data"
    },
    {
     "name": "stdout",
     "output_type": "stream",
     "text": [
      "Testing 0 designs with WL... (triangles only)\n"
     ]
    },
    {
     "data": {
      "application/vnd.jupyter.widget-view+json": {
       "model_id": "627d101810fa42efa254207acf4e76b3",
       "version_major": 2,
       "version_minor": 0
      },
      "text/plain": [
       "0it [00:00, ?it/s]"
      ]
     },
     "metadata": {},
     "output_type": "display_data"
    },
    {
     "name": "stdout",
     "output_type": "stream",
     "text": [
      "Searching for coherent refinements of <SAS of degree 8 and ranks [1, 1, 4, 5, 9, 5, 4, 1, 1]>\n",
      "Summary: (8, 31, [1, 1, 4, 5, 9, 5, 4, 1, 1], True, True, '(C4 x C2) : C2')\n"
     ]
    },
    {
     "data": {
      "application/vnd.jupyter.widget-view+json": {
       "model_id": "e3133df1015b4a568b319ecf285c06a3",
       "version_major": 2,
       "version_minor": 0
      },
      "text/plain": [
       "0it [00:00, ?it/s]"
      ]
     },
     "metadata": {},
     "output_type": "display_data"
    },
    {
     "name": "stdout",
     "output_type": "stream",
     "text": [
      "Enumerating monochromatic designs on level 3\n"
     ]
    },
    {
     "data": {
      "application/vnd.jupyter.widget-view+json": {
       "model_id": "6bcab08244b941b28af1cc3794f89674",
       "version_major": 2,
       "version_minor": 0
      },
      "text/plain": [
       "0it [00:00, ?it/s]"
      ]
     },
     "metadata": {},
     "output_type": "display_data"
    },
    {
     "name": "stdout",
     "output_type": "stream",
     "text": [
      "Enumerating monochromatic designs on level 4\n"
     ]
    },
    {
     "data": {
      "application/vnd.jupyter.widget-view+json": {
       "model_id": "6a9051430a2e4c37a2bda9f70d822c6e",
       "version_major": 2,
       "version_minor": 0
      },
      "text/plain": [
       "0it [00:00, ?it/s]"
      ]
     },
     "metadata": {},
     "output_type": "display_data"
    },
    {
     "name": "stdout",
     "output_type": "stream",
     "text": [
      "Testing 1 designs with WL... (triangles only)\n"
     ]
    },
    {
     "data": {
      "application/vnd.jupyter.widget-view+json": {
       "model_id": "0cd5bec209fc49bdb1dfa6f32338251a",
       "version_major": 2,
       "version_minor": 0
      },
      "text/plain": [
       "  0%|          | 0/1 [00:00<?, ?it/s]"
      ]
     },
     "metadata": {},
     "output_type": "display_data"
    },
    {
     "name": "stdout",
     "output_type": "stream",
     "text": [
      "Searching for coherent refinements of <SAS of degree 8 and ranks [1, 2, 6, 9, 12, 9, 6, 2, 1]>\n",
      "Summary: (8, 48, [1, 2, 6, 9, 12, 9, 6, 2, 1], False, True, '(C4 x C2) : C2')\n"
     ]
    },
    {
     "data": {
      "application/vnd.jupyter.widget-view+json": {
       "model_id": "55dc7b861c784733b3d05c3d35d4f3dc",
       "version_major": 2,
       "version_minor": 0
      },
      "text/plain": [
       "0it [00:00, ?it/s]"
      ]
     },
     "metadata": {},
     "output_type": "display_data"
    },
    {
     "name": "stdout",
     "output_type": "stream",
     "text": [
      "Enumerating monochromatic designs on level 3\n"
     ]
    },
    {
     "data": {
      "application/vnd.jupyter.widget-view+json": {
       "model_id": "b575d6559afd4c10b07157a75fcf1dc4",
       "version_major": 2,
       "version_minor": 0
      },
      "text/plain": [
       "0it [00:00, ?it/s]"
      ]
     },
     "metadata": {},
     "output_type": "display_data"
    },
    {
     "name": "stdout",
     "output_type": "stream",
     "text": [
      "Enumerating monochromatic designs on level 4\n"
     ]
    },
    {
     "data": {
      "application/vnd.jupyter.widget-view+json": {
       "model_id": "b016e506b6de4f2aa4e21ac50fa634f3",
       "version_major": 2,
       "version_minor": 0
      },
      "text/plain": [
       "0it [00:00, ?it/s]"
      ]
     },
     "metadata": {},
     "output_type": "display_data"
    },
    {
     "name": "stdout",
     "output_type": "stream",
     "text": [
      "Testing 3 designs with WL... (triangles only)\n"
     ]
    },
    {
     "data": {
      "application/vnd.jupyter.widget-view+json": {
       "model_id": "5a4fb5452b234afdaad70e38592d1dce",
       "version_major": 2,
       "version_minor": 0
      },
      "text/plain": [
       "  0%|          | 0/3 [00:00<?, ?it/s]"
      ]
     },
     "metadata": {},
     "output_type": "display_data"
    },
    {
     "name": "stdout",
     "output_type": "stream",
     "text": [
      "Found: <SAS of degree 8 and ranks [1, 2, 6, 9, 13, 9, 6, 2, 1]>\n",
      "Summary: (8, 49, [1, 2, 6, 9, 13, 9, 6, 2, 1], False, False, 'C4 x C2')\n",
      "Found: <SAS of degree 8 and ranks [1, 2, 6, 10, 13, 10, 6, 2, 1]>\n",
      "Summary: (8, 51, [1, 2, 6, 10, 13, 10, 6, 2, 1], False, False, 'C4 x C2')\n",
      "Searching for coherent refinements of <SAS of degree 8 and ranks [1, 2, 6, 8, 12, 8, 6, 2, 1]>\n",
      "Summary: (8, 46, [1, 2, 6, 8, 12, 8, 6, 2, 1], False, True, 'C2 x D4')\n"
     ]
    },
    {
     "data": {
      "application/vnd.jupyter.widget-view+json": {
       "model_id": "54580bfce1c64bb8a5975acfc88d3108",
       "version_major": 2,
       "version_minor": 0
      },
      "text/plain": [
       "0it [00:00, ?it/s]"
      ]
     },
     "metadata": {},
     "output_type": "display_data"
    },
    {
     "name": "stdout",
     "output_type": "stream",
     "text": [
      "Enumerating monochromatic designs on level 4\n"
     ]
    },
    {
     "data": {
      "application/vnd.jupyter.widget-view+json": {
       "model_id": "1a97a5291d9b485a8d1e6266570ba5cf",
       "version_major": 2,
       "version_minor": 0
      },
      "text/plain": [
       "0it [00:00, ?it/s]"
      ]
     },
     "metadata": {},
     "output_type": "display_data"
    },
    {
     "name": "stdout",
     "output_type": "stream",
     "text": [
      "Testing 0 designs with WL... (triangles only)\n"
     ]
    },
    {
     "data": {
      "application/vnd.jupyter.widget-view+json": {
       "model_id": "013136f06c9b4850955325bbc118e07e",
       "version_major": 2,
       "version_minor": 0
      },
      "text/plain": [
       "0it [00:00, ?it/s]"
      ]
     },
     "metadata": {},
     "output_type": "display_data"
    },
    {
     "name": "stdout",
     "output_type": "stream",
     "text": [
      "Searching for coherent refinements of <SAS of degree 8 and ranks [1, 2, 5, 6, 7, 6, 5, 2, 1]>\n",
      "Summary: (8, 35, [1, 2, 5, 6, 7, 6, 5, 2, 1], False, True, 'C2 x C2 x S4')\n"
     ]
    },
    {
     "data": {
      "application/vnd.jupyter.widget-view+json": {
       "model_id": "3f63d5ac20f2452d80a0adadff74c6ed",
       "version_major": 2,
       "version_minor": 0
      },
      "text/plain": [
       "0it [00:00, ?it/s]"
      ]
     },
     "metadata": {},
     "output_type": "display_data"
    },
    {
     "name": "stdout",
     "output_type": "stream",
     "text": [
      "Enumerating monochromatic designs on level 2\n"
     ]
    },
    {
     "data": {
      "application/vnd.jupyter.widget-view+json": {
       "model_id": "038a2e5723e744629fa5bedf5134d11a",
       "version_major": 2,
       "version_minor": 0
      },
      "text/plain": [
       "0it [00:00, ?it/s]"
      ]
     },
     "metadata": {},
     "output_type": "display_data"
    },
    {
     "name": "stdout",
     "output_type": "stream",
     "text": [
      "Enumerating monochromatic designs on level 3\n"
     ]
    },
    {
     "data": {
      "application/vnd.jupyter.widget-view+json": {
       "model_id": "08021ffcc08c451883b3dab529ac09d0",
       "version_major": 2,
       "version_minor": 0
      },
      "text/plain": [
       "0it [00:00, ?it/s]"
      ]
     },
     "metadata": {},
     "output_type": "display_data"
    },
    {
     "name": "stdout",
     "output_type": "stream",
     "text": [
      "Enumerating monochromatic designs on level 4\n"
     ]
    },
    {
     "data": {
      "application/vnd.jupyter.widget-view+json": {
       "model_id": "1e0270e141c040788690327a9f6d6835",
       "version_major": 2,
       "version_minor": 0
      },
      "text/plain": [
       "0it [00:00, ?it/s]"
      ]
     },
     "metadata": {},
     "output_type": "display_data"
    },
    {
     "name": "stdout",
     "output_type": "stream",
     "text": [
      "Testing 4 designs with WL... (triangles only)\n"
     ]
    },
    {
     "data": {
      "application/vnd.jupyter.widget-view+json": {
       "model_id": "0d70a1fceeaf437f94fbbe32b5f1efe5",
       "version_major": 2,
       "version_minor": 0
      },
      "text/plain": [
       "  0%|          | 0/4 [00:00<?, ?it/s]"
      ]
     },
     "metadata": {},
     "output_type": "display_data"
    },
    {
     "name": "stdout",
     "output_type": "stream",
     "text": [
      "Found: <SAS of degree 8 and ranks [1, 2, 6, 7, 10, 7, 6, 2, 1]>\n",
      "Summary: (8, 42, [1, 2, 6, 7, 10, 7, 6, 2, 1], False, True, 'C2 x C2 x D4')\n",
      "Searching for coherent refinements of <SAS of degree 8 and ranks [1, 2, 5, 6, 8, 6, 5, 2, 1]>\n",
      "Summary: (8, 36, [1, 2, 5, 6, 8, 6, 5, 2, 1], False, True, 'D4 x D4')\n"
     ]
    },
    {
     "data": {
      "application/vnd.jupyter.widget-view+json": {
       "model_id": "13a6851a63d544eeabb65527d48eb7f3",
       "version_major": 2,
       "version_minor": 0
      },
      "text/plain": [
       "0it [00:00, ?it/s]"
      ]
     },
     "metadata": {},
     "output_type": "display_data"
    },
    {
     "name": "stdout",
     "output_type": "stream",
     "text": [
      "Enumerating monochromatic designs on level 2\n"
     ]
    },
    {
     "data": {
      "application/vnd.jupyter.widget-view+json": {
       "model_id": "96bfb3e0d4e745c79bc2e3c6b84cf83e",
       "version_major": 2,
       "version_minor": 0
      },
      "text/plain": [
       "0it [00:00, ?it/s]"
      ]
     },
     "metadata": {},
     "output_type": "display_data"
    },
    {
     "name": "stdout",
     "output_type": "stream",
     "text": [
      "Enumerating monochromatic designs on level 3\n"
     ]
    },
    {
     "data": {
      "application/vnd.jupyter.widget-view+json": {
       "model_id": "8d74fdac1d614336a357bdfb5d59dc25",
       "version_major": 2,
       "version_minor": 0
      },
      "text/plain": [
       "0it [00:00, ?it/s]"
      ]
     },
     "metadata": {},
     "output_type": "display_data"
    },
    {
     "name": "stdout",
     "output_type": "stream",
     "text": [
      "Enumerating monochromatic designs on level 4\n"
     ]
    },
    {
     "data": {
      "application/vnd.jupyter.widget-view+json": {
       "model_id": "7dd766cc90314b6eb8b4f57b6c652e0b",
       "version_major": 2,
       "version_minor": 0
      },
      "text/plain": [
       "0it [00:00, ?it/s]"
      ]
     },
     "metadata": {},
     "output_type": "display_data"
    },
    {
     "name": "stdout",
     "output_type": "stream",
     "text": [
      "Testing 12 designs with WL... (triangles only)\n"
     ]
    },
    {
     "data": {
      "application/vnd.jupyter.widget-view+json": {
       "model_id": "b6e521e27cbb4624a9d9737bc6c35b19",
       "version_major": 2,
       "version_minor": 0
      },
      "text/plain": [
       "  0%|          | 0/12 [00:00<?, ?it/s]"
      ]
     },
     "metadata": {},
     "output_type": "display_data"
    },
    {
     "name": "stdout",
     "output_type": "stream",
     "text": [
      "Found: <SAS of degree 8 and ranks [1, 2, 6, 8, 11, 8, 6, 2, 1]>\n",
      "Summary: (8, 45, [1, 2, 6, 8, 11, 8, 6, 2, 1], False, True, 'C2 x D4')\n",
      "Found: <SAS of degree 8 and ranks [1, 2, 5, 6, 9, 6, 5, 2, 1]>\n",
      "Summary: (8, 37, [1, 2, 5, 6, 9, 6, 5, 2, 1], False, True, '(C2 x C2 x C2 x C2) : C2')\n",
      "Searching for coherent refinements of <SAS of degree 8 and ranks [1, 2, 5, 7, 9, 7, 5, 2, 1]>\n",
      "Summary: (8, 39, [1, 2, 5, 7, 9, 7, 5, 2, 1], False, True, '(C2 x C2 x C2 x C2) : C2')\n"
     ]
    },
    {
     "data": {
      "application/vnd.jupyter.widget-view+json": {
       "model_id": "934692c3d5a7463f9507386ae29876f8",
       "version_major": 2,
       "version_minor": 0
      },
      "text/plain": [
       "0it [00:00, ?it/s]"
      ]
     },
     "metadata": {},
     "output_type": "display_data"
    },
    {
     "name": "stdout",
     "output_type": "stream",
     "text": [
      "Enumerating monochromatic designs on level 3\n"
     ]
    },
    {
     "data": {
      "application/vnd.jupyter.widget-view+json": {
       "model_id": "f1a9ed7fc7594e63a827f3124cc3685a",
       "version_major": 2,
       "version_minor": 0
      },
      "text/plain": [
       "0it [00:00, ?it/s]"
      ]
     },
     "metadata": {},
     "output_type": "display_data"
    },
    {
     "name": "stdout",
     "output_type": "stream",
     "text": [
      "Enumerating monochromatic designs on level 4\n"
     ]
    },
    {
     "data": {
      "application/vnd.jupyter.widget-view+json": {
       "model_id": "8be386230e714a20a9f3ce7185722c22",
       "version_major": 2,
       "version_minor": 0
      },
      "text/plain": [
       "0it [00:00, ?it/s]"
      ]
     },
     "metadata": {},
     "output_type": "display_data"
    },
    {
     "name": "stdout",
     "output_type": "stream",
     "text": [
      "Testing 3 designs with WL... (triangles only)\n"
     ]
    },
    {
     "data": {
      "application/vnd.jupyter.widget-view+json": {
       "model_id": "45ee07e5acaa42919bc8f2f825752a52",
       "version_major": 2,
       "version_minor": 0
      },
      "text/plain": [
       "  0%|          | 0/3 [00:00<?, ?it/s]"
      ]
     },
     "metadata": {},
     "output_type": "display_data"
    },
    {
     "name": "stdout",
     "output_type": "stream",
     "text": [
      "Found: <SAS of degree 8 and ranks [1, 2, 5, 7, 10, 7, 5, 2, 1]>\n",
      "Summary: (8, 40, [1, 2, 5, 7, 10, 7, 5, 2, 1], False, True, '(C4 x C2) : C2')\n",
      "Found: <SAS of degree 8 and ranks [1, 2, 5, 8, 10, 8, 5, 2, 1]>\n",
      "Summary: (8, 42, [1, 2, 5, 8, 10, 8, 5, 2, 1], False, True, 'C2 x D4')\n",
      "Searching for coherent refinements of <SAS of degree 8 and ranks [1, 3, 8, 12, 15, 12, 8, 3, 1]>\n",
      "Summary: (8, 63, [1, 3, 8, 12, 15, 12, 8, 3, 1], False, True, 'C2 x D4')\n"
     ]
    },
    {
     "data": {
      "application/vnd.jupyter.widget-view+json": {
       "model_id": "84eedd8a136249688b78854dc46dccf2",
       "version_major": 2,
       "version_minor": 0
      },
      "text/plain": [
       "0it [00:00, ?it/s]"
      ]
     },
     "metadata": {},
     "output_type": "display_data"
    },
    {
     "name": "stdout",
     "output_type": "stream",
     "text": [
      "Enumerating monochromatic designs on level 2\n"
     ]
    },
    {
     "data": {
      "application/vnd.jupyter.widget-view+json": {
       "model_id": "7b3afdd88f6c492fa7c4d65edf40d1c0",
       "version_major": 2,
       "version_minor": 0
      },
      "text/plain": [
       "0it [00:00, ?it/s]"
      ]
     },
     "metadata": {},
     "output_type": "display_data"
    },
    {
     "name": "stdout",
     "output_type": "stream",
     "text": [
      "Enumerating monochromatic designs on level 3\n"
     ]
    },
    {
     "data": {
      "application/vnd.jupyter.widget-view+json": {
       "model_id": "97afa62e0acd46de90d3d616230789af",
       "version_major": 2,
       "version_minor": 0
      },
      "text/plain": [
       "0it [00:00, ?it/s]"
      ]
     },
     "metadata": {},
     "output_type": "display_data"
    },
    {
     "name": "stdout",
     "output_type": "stream",
     "text": [
      "Enumerating monochromatic designs on level 4\n"
     ]
    },
    {
     "data": {
      "application/vnd.jupyter.widget-view+json": {
       "model_id": "ddaa8793043c43c99f0c7d8e50fdb48d",
       "version_major": 2,
       "version_minor": 0
      },
      "text/plain": [
       "0it [00:00, ?it/s]"
      ]
     },
     "metadata": {},
     "output_type": "display_data"
    },
    {
     "name": "stdout",
     "output_type": "stream",
     "text": [
      "Testing 7 designs with WL... (triangles only)\n"
     ]
    },
    {
     "data": {
      "application/vnd.jupyter.widget-view+json": {
       "model_id": "376f320667df47b8bf231112d14b619f",
       "version_major": 2,
       "version_minor": 0
      },
      "text/plain": [
       "  0%|          | 0/7 [00:00<?, ?it/s]"
      ]
     },
     "metadata": {},
     "output_type": "display_data"
    },
    {
     "name": "stdout",
     "output_type": "stream",
     "text": [
      "Found: <SAS of degree 8 and ranks [1, 3, 8, 12, 16, 12, 8, 3, 1]>\n",
      "Summary: (8, 64, [1, 3, 8, 12, 16, 12, 8, 3, 1], False, True, 'D4')\n",
      "Found: <SAS of degree 8 and ranks [1, 3, 8, 13, 16, 13, 8, 3, 1]>\n",
      "Summary: (8, 66, [1, 3, 8, 13, 16, 13, 8, 3, 1], False, True, 'D4')\n",
      "Found: <SAS of degree 8 and ranks [1, 3, 8, 13, 16, 13, 8, 3, 1]>\n",
      "Summary: (8, 66, [1, 3, 8, 13, 16, 13, 8, 3, 1], False, True, 'C4 x C2')\n",
      "Searching for coherent refinements of <SAS of degree 8 and ranks [1, 3, 7, 10, 12, 10, 7, 3, 1]>\n",
      "Summary: (8, 54, [1, 3, 7, 10, 12, 10, 7, 3, 1], False, True, 'C2 x C2 x D4')\n"
     ]
    },
    {
     "data": {
      "application/vnd.jupyter.widget-view+json": {
       "model_id": "d5c72c600cb34bf7bb7832016afff460",
       "version_major": 2,
       "version_minor": 0
      },
      "text/plain": [
       "0it [00:00, ?it/s]"
      ]
     },
     "metadata": {},
     "output_type": "display_data"
    },
    {
     "name": "stdout",
     "output_type": "stream",
     "text": [
      "Enumerating monochromatic designs on level 2\n"
     ]
    },
    {
     "data": {
      "application/vnd.jupyter.widget-view+json": {
       "model_id": "eeaad7e33faf4fb7a4856f27bfa8768e",
       "version_major": 2,
       "version_minor": 0
      },
      "text/plain": [
       "0it [00:00, ?it/s]"
      ]
     },
     "metadata": {},
     "output_type": "display_data"
    },
    {
     "name": "stdout",
     "output_type": "stream",
     "text": [
      "Enumerating monochromatic designs on level 3\n"
     ]
    },
    {
     "data": {
      "application/vnd.jupyter.widget-view+json": {
       "model_id": "edf0df1a8e8c497ba59fd8c27a9c2279",
       "version_major": 2,
       "version_minor": 0
      },
      "text/plain": [
       "0it [00:00, ?it/s]"
      ]
     },
     "metadata": {},
     "output_type": "display_data"
    },
    {
     "name": "stdout",
     "output_type": "stream",
     "text": [
      "Enumerating monochromatic designs on level 4\n"
     ]
    },
    {
     "data": {
      "application/vnd.jupyter.widget-view+json": {
       "model_id": "34614e91c8fb43f88278d136d5406eea",
       "version_major": 2,
       "version_minor": 0
      },
      "text/plain": [
       "0it [00:00, ?it/s]"
      ]
     },
     "metadata": {},
     "output_type": "display_data"
    },
    {
     "name": "stdout",
     "output_type": "stream",
     "text": [
      "Testing 8 designs with WL... (triangles only)\n"
     ]
    },
    {
     "data": {
      "application/vnd.jupyter.widget-view+json": {
       "model_id": "e8dcbf3642894ed4a6dd7343dce1714e",
       "version_major": 2,
       "version_minor": 0
      },
      "text/plain": [
       "  0%|          | 0/8 [00:00<?, ?it/s]"
      ]
     },
     "metadata": {},
     "output_type": "display_data"
    },
    {
     "name": "stdout",
     "output_type": "stream",
     "text": [
      "Found: <SAS of degree 8 and ranks [1, 3, 7, 10, 13, 10, 7, 3, 1]>\n",
      "Summary: (8, 55, [1, 3, 7, 10, 13, 10, 7, 3, 1], False, True, 'C2 x D4')\n",
      "Found: <SAS of degree 8 and ranks [1, 3, 7, 11, 13, 11, 7, 3, 1]>\n",
      "Summary: (8, 57, [1, 3, 7, 11, 13, 11, 7, 3, 1], False, True, 'C2 x D4')\n",
      "Found: <SAS of degree 8 and ranks [1, 3, 8, 11, 14, 11, 8, 3, 1]>\n",
      "Summary: (8, 60, [1, 3, 8, 11, 14, 11, 8, 3, 1], False, True, 'C2 x D4')\n",
      "Found: <SAS of degree 8 and ranks [1, 3, 8, 12, 15, 12, 8, 3, 1]>\n",
      "Summary: (8, 63, [1, 3, 8, 12, 15, 12, 8, 3, 1], False, True, 'C2 x C2 x C2 x C2')\n",
      "Searching for coherent refinements of <SAS of degree 8 and ranks [1, 3, 7, 11, 13, 11, 7, 3, 1]>\n",
      "Summary: (8, 57, [1, 3, 7, 11, 13, 11, 7, 3, 1], False, True, 'C2 x D4')\n"
     ]
    },
    {
     "data": {
      "application/vnd.jupyter.widget-view+json": {
       "model_id": "3c886c61f7e2490f84846f55d2ec59d3",
       "version_major": 2,
       "version_minor": 0
      },
      "text/plain": [
       "0it [00:00, ?it/s]"
      ]
     },
     "metadata": {},
     "output_type": "display_data"
    },
    {
     "name": "stdout",
     "output_type": "stream",
     "text": [
      "Enumerating monochromatic designs on level 3\n"
     ]
    },
    {
     "data": {
      "application/vnd.jupyter.widget-view+json": {
       "model_id": "a86ef279ad124fa394b871dced31a86a",
       "version_major": 2,
       "version_minor": 0
      },
      "text/plain": [
       "0it [00:00, ?it/s]"
      ]
     },
     "metadata": {},
     "output_type": "display_data"
    },
    {
     "name": "stdout",
     "output_type": "stream",
     "text": [
      "Enumerating monochromatic designs on level 4\n"
     ]
    },
    {
     "data": {
      "application/vnd.jupyter.widget-view+json": {
       "model_id": "af35dd166e5d49d89c5ba2856d381a71",
       "version_major": 2,
       "version_minor": 0
      },
      "text/plain": [
       "0it [00:00, ?it/s]"
      ]
     },
     "metadata": {},
     "output_type": "display_data"
    },
    {
     "name": "stdout",
     "output_type": "stream",
     "text": [
      "Testing 2 designs with WL... (triangles only)\n"
     ]
    },
    {
     "data": {
      "application/vnd.jupyter.widget-view+json": {
       "model_id": "5b7c8c426411403e8ac6a9eee743972e",
       "version_major": 2,
       "version_minor": 0
      },
      "text/plain": [
       "  0%|          | 0/2 [00:00<?, ?it/s]"
      ]
     },
     "metadata": {},
     "output_type": "display_data"
    },
    {
     "name": "stdout",
     "output_type": "stream",
     "text": [
      "Found: <SAS of degree 8 and ranks [1, 3, 7, 11, 14, 11, 7, 3, 1]>\n",
      "Summary: (8, 58, [1, 3, 7, 11, 14, 11, 7, 3, 1], False, True, 'C4 x C2')\n",
      "Searching for coherent refinements of <SAS of degree 8 and ranks [1, 3, 7, 9, 10, 9, 7, 3, 1]>\n",
      "Summary: (8, 50, [1, 3, 7, 9, 10, 9, 7, 3, 1], False, True, 'C2 x S4')\n"
     ]
    },
    {
     "data": {
      "application/vnd.jupyter.widget-view+json": {
       "model_id": "e1c91c150dd44e97bf478d824d81aa61",
       "version_major": 2,
       "version_minor": 0
      },
      "text/plain": [
       "0it [00:00, ?it/s]"
      ]
     },
     "metadata": {},
     "output_type": "display_data"
    },
    {
     "name": "stdout",
     "output_type": "stream",
     "text": [
      "Enumerating monochromatic designs on level 2\n"
     ]
    },
    {
     "data": {
      "application/vnd.jupyter.widget-view+json": {
       "model_id": "cf0a1c433113435abba72322b2a6bd3c",
       "version_major": 2,
       "version_minor": 0
      },
      "text/plain": [
       "0it [00:00, ?it/s]"
      ]
     },
     "metadata": {},
     "output_type": "display_data"
    },
    {
     "name": "stdout",
     "output_type": "stream",
     "text": [
      "Enumerating monochromatic designs on level 3\n"
     ]
    },
    {
     "data": {
      "application/vnd.jupyter.widget-view+json": {
       "model_id": "b9bfad9886ee4ad299b7b3ea6793b77d",
       "version_major": 2,
       "version_minor": 0
      },
      "text/plain": [
       "0it [00:00, ?it/s]"
      ]
     },
     "metadata": {},
     "output_type": "display_data"
    },
    {
     "name": "stdout",
     "output_type": "stream",
     "text": [
      "Enumerating monochromatic designs on level 4\n"
     ]
    },
    {
     "data": {
      "application/vnd.jupyter.widget-view+json": {
       "model_id": "6bb9ee1736174bed92b8b1b64f7ddc5e",
       "version_major": 2,
       "version_minor": 0
      },
      "text/plain": [
       "0it [00:00, ?it/s]"
      ]
     },
     "metadata": {},
     "output_type": "display_data"
    },
    {
     "name": "stdout",
     "output_type": "stream",
     "text": [
      "Testing 2 designs with WL... (triangles only)\n"
     ]
    },
    {
     "data": {
      "application/vnd.jupyter.widget-view+json": {
       "model_id": "4f54e29ecd7f4ca5acc447f1d1d76a63",
       "version_major": 2,
       "version_minor": 0
      },
      "text/plain": [
       "  0%|          | 0/2 [00:00<?, ?it/s]"
      ]
     },
     "metadata": {},
     "output_type": "display_data"
    },
    {
     "name": "stdout",
     "output_type": "stream",
     "text": [
      "Searching for coherent refinements of <SAS of degree 8 and ranks [1, 4, 10, 16, 19, 16, 10, 4, 1]>\n",
      "Summary: (8, 81, [1, 4, 10, 16, 19, 16, 10, 4, 1], False, True, 'C2 x C2 x C2 x C2')\n"
     ]
    },
    {
     "data": {
      "application/vnd.jupyter.widget-view+json": {
       "model_id": "a8b017e6cd4146f3ba3e400b01213ed9",
       "version_major": 2,
       "version_minor": 0
      },
      "text/plain": [
       "0it [00:00, ?it/s]"
      ]
     },
     "metadata": {},
     "output_type": "display_data"
    },
    {
     "name": "stdout",
     "output_type": "stream",
     "text": [
      "Enumerating monochromatic designs on level 1\n"
     ]
    },
    {
     "data": {
      "application/vnd.jupyter.widget-view+json": {
       "model_id": "ecd4f2eaff6a46609062945cb88d3d1a",
       "version_major": 2,
       "version_minor": 0
      },
      "text/plain": [
       "0it [00:00, ?it/s]"
      ]
     },
     "metadata": {},
     "output_type": "display_data"
    },
    {
     "name": "stdout",
     "output_type": "stream",
     "text": [
      "Enumerating monochromatic designs on level 2\n"
     ]
    },
    {
     "data": {
      "application/vnd.jupyter.widget-view+json": {
       "model_id": "b28f944f990b4aa0a6a43223996641a8",
       "version_major": 2,
       "version_minor": 0
      },
      "text/plain": [
       "0it [00:00, ?it/s]"
      ]
     },
     "metadata": {},
     "output_type": "display_data"
    },
    {
     "name": "stdout",
     "output_type": "stream",
     "text": [
      "Enumerating monochromatic designs on level 3\n"
     ]
    },
    {
     "data": {
      "application/vnd.jupyter.widget-view+json": {
       "model_id": "d4dfce2fc73641fab50c3ad5070caba7",
       "version_major": 2,
       "version_minor": 0
      },
      "text/plain": [
       "0it [00:00, ?it/s]"
      ]
     },
     "metadata": {},
     "output_type": "display_data"
    },
    {
     "name": "stdout",
     "output_type": "stream",
     "text": [
      "Enumerating monochromatic designs on level 4\n"
     ]
    },
    {
     "data": {
      "application/vnd.jupyter.widget-view+json": {
       "model_id": "0ea664b81f6140c8a922a95cc3d3c99f",
       "version_major": 2,
       "version_minor": 0
      },
      "text/plain": [
       "0it [00:00, ?it/s]"
      ]
     },
     "metadata": {},
     "output_type": "display_data"
    },
    {
     "name": "stdout",
     "output_type": "stream",
     "text": [
      "Testing 4 designs with WL... (triangles only)\n"
     ]
    },
    {
     "data": {
      "application/vnd.jupyter.widget-view+json": {
       "model_id": "b51673ac26bb439b9ab0836b9d5999ca",
       "version_major": 2,
       "version_minor": 0
      },
      "text/plain": [
       "  0%|          | 0/4 [00:00<?, ?it/s]"
      ]
     },
     "metadata": {},
     "output_type": "display_data"
    },
    {
     "name": "stdout",
     "output_type": "stream",
     "text": [
      "Found: <SAS of degree 8 and ranks [1, 4, 11, 18, 22, 18, 11, 4, 1]>\n",
      "Summary: (8, 90, [1, 4, 11, 18, 22, 18, 11, 4, 1], False, True, 'C2 x C2 x C2')\n",
      "Found: <SAS of degree 8 and ranks [1, 4, 10, 17, 20, 17, 10, 4, 1]>\n",
      "Summary: (8, 84, [1, 4, 10, 17, 20, 17, 10, 4, 1], False, True, 'C2 x C2 x C2')\n",
      "Found: <SAS of degree 8 and ranks [1, 4, 10, 16, 20, 16, 10, 4, 1]>\n",
      "Summary: (8, 82, [1, 4, 10, 16, 20, 16, 10, 4, 1], False, True, 'C2 x C2 x C2')\n",
      "Searching for coherent refinements of <SAS of degree 8 and ranks [1, 2, 3, 4, 7, 4, 3, 2, 1]>\n",
      "Summary: (8, 27, [1, 2, 3, 4, 7, 4, 3, 2, 1], False, True, '(C2 x C2 x C2 x C2) : C3')\n"
     ]
    },
    {
     "data": {
      "application/vnd.jupyter.widget-view+json": {
       "model_id": "f26f852496f5462bb382e012f2e01163",
       "version_major": 2,
       "version_minor": 0
      },
      "text/plain": [
       "0it [00:00, ?it/s]"
      ]
     },
     "metadata": {},
     "output_type": "display_data"
    },
    {
     "name": "stdout",
     "output_type": "stream",
     "text": [
      "Enumerating monochromatic designs on level 4\n"
     ]
    },
    {
     "data": {
      "application/vnd.jupyter.widget-view+json": {
       "model_id": "8026bdca70824a8c8dca5785f6a05151",
       "version_major": 2,
       "version_minor": 0
      },
      "text/plain": [
       "0it [00:00, ?it/s]"
      ]
     },
     "metadata": {},
     "output_type": "display_data"
    },
    {
     "name": "stdout",
     "output_type": "stream",
     "text": [
      "Testing 0 designs with WL... (triangles only)\n"
     ]
    },
    {
     "data": {
      "application/vnd.jupyter.widget-view+json": {
       "model_id": "fb508708205d497294051b3685d1e20f",
       "version_major": 2,
       "version_minor": 0
      },
      "text/plain": [
       "0it [00:00, ?it/s]"
      ]
     },
     "metadata": {},
     "output_type": "display_data"
    },
    {
     "name": "stdout",
     "output_type": "stream",
     "text": [
      "Searching for coherent refinements of <SAS of degree 8 and ranks [1, 1, 2, 3, 5, 3, 2, 1, 1]>\n",
      "Summary: (8, 19, [1, 1, 2, 3, 5, 3, 2, 1, 1], True, True, 'SL(2,3)')\n"
     ]
    },
    {
     "data": {
      "application/vnd.jupyter.widget-view+json": {
       "model_id": "427b53bf6be74afb8f029f4757a40dfc",
       "version_major": 2,
       "version_minor": 0
      },
      "text/plain": [
       "0it [00:00, ?it/s]"
      ]
     },
     "metadata": {},
     "output_type": "display_data"
    },
    {
     "name": "stdout",
     "output_type": "stream",
     "text": [
      "Enumerating monochromatic designs on level 4\n"
     ]
    },
    {
     "data": {
      "application/vnd.jupyter.widget-view+json": {
       "model_id": "2f3a4fe349454d7b9846a1cbb4abd92e",
       "version_major": 2,
       "version_minor": 0
      },
      "text/plain": [
       "0it [00:00, ?it/s]"
      ]
     },
     "metadata": {},
     "output_type": "display_data"
    },
    {
     "name": "stdout",
     "output_type": "stream",
     "text": [
      "Testing 0 designs with WL... (triangles only)\n"
     ]
    },
    {
     "data": {
      "application/vnd.jupyter.widget-view+json": {
       "model_id": "bcae8f0e0b92431f887bb394b0086dbc",
       "version_major": 2,
       "version_minor": 0
      },
      "text/plain": [
       "0it [00:00, ?it/s]"
      ]
     },
     "metadata": {},
     "output_type": "display_data"
    },
    {
     "name": "stdout",
     "output_type": "stream",
     "text": [
      "Searching for coherent refinements of <SAS of degree 8 and ranks [1, 2, 6, 8, 12, 8, 6, 2, 1]>\n",
      "Summary: (8, 46, [1, 2, 6, 8, 12, 8, 6, 2, 1], False, True, 'D6')\n"
     ]
    },
    {
     "data": {
      "application/vnd.jupyter.widget-view+json": {
       "model_id": "ef208cded6dc472e9fed76a1ee019243",
       "version_major": 2,
       "version_minor": 0
      },
      "text/plain": [
       "0it [00:00, ?it/s]"
      ]
     },
     "metadata": {},
     "output_type": "display_data"
    },
    {
     "name": "stdout",
     "output_type": "stream",
     "text": [
      "Enumerating monochromatic designs on level 2\n"
     ]
    },
    {
     "data": {
      "application/vnd.jupyter.widget-view+json": {
       "model_id": "b2a0847c12864c41a80bc6e31fd7b83e",
       "version_major": 2,
       "version_minor": 0
      },
      "text/plain": [
       "0it [00:00, ?it/s]"
      ]
     },
     "metadata": {},
     "output_type": "display_data"
    },
    {
     "name": "stdout",
     "output_type": "stream",
     "text": [
      "Enumerating monochromatic designs on level 3\n"
     ]
    },
    {
     "data": {
      "application/vnd.jupyter.widget-view+json": {
       "model_id": "c5f6a4fa30a5494cafca6b06db1a7e5d",
       "version_major": 2,
       "version_minor": 0
      },
      "text/plain": [
       "0it [00:00, ?it/s]"
      ]
     },
     "metadata": {},
     "output_type": "display_data"
    },
    {
     "name": "stdout",
     "output_type": "stream",
     "text": [
      "Enumerating monochromatic designs on level 4\n"
     ]
    },
    {
     "data": {
      "application/vnd.jupyter.widget-view+json": {
       "model_id": "7ec68b0f2e734bf7ac3a940e99e3e525",
       "version_major": 2,
       "version_minor": 0
      },
      "text/plain": [
       "0it [00:00, ?it/s]"
      ]
     },
     "metadata": {},
     "output_type": "display_data"
    },
    {
     "name": "stdout",
     "output_type": "stream",
     "text": [
      "Testing 3 designs with WL... (triangles only)\n"
     ]
    },
    {
     "data": {
      "application/vnd.jupyter.widget-view+json": {
       "model_id": "d7b51061faf94917b103d9ce91fba199",
       "version_major": 2,
       "version_minor": 0
      },
      "text/plain": [
       "  0%|          | 0/3 [00:00<?, ?it/s]"
      ]
     },
     "metadata": {},
     "output_type": "display_data"
    },
    {
     "name": "stdout",
     "output_type": "stream",
     "text": [
      "Found: <SAS of degree 8 and ranks [1, 2, 6, 10, 14, 10, 6, 2, 1]>\n",
      "Summary: (8, 52, [1, 2, 6, 10, 14, 10, 6, 2, 1], False, True, 'C6')\n",
      "Found: <SAS of degree 8 and ranks [1, 2, 7, 10, 16, 10, 7, 2, 1]>\n",
      "Summary: (8, 56, [1, 2, 7, 10, 16, 10, 7, 2, 1], False, True, 'S3')\n",
      "Searching for coherent refinements of <SAS of degree 8 and ranks [1, 3, 10, 15, 20, 15, 10, 3, 1]>\n",
      "Summary: (8, 78, [1, 3, 10, 15, 20, 15, 10, 3, 1], False, True, 'D4')\n"
     ]
    },
    {
     "data": {
      "application/vnd.jupyter.widget-view+json": {
       "model_id": "19014cf2d168433992d7a12343efe392",
       "version_major": 2,
       "version_minor": 0
      },
      "text/plain": [
       "0it [00:00, ?it/s]"
      ]
     },
     "metadata": {},
     "output_type": "display_data"
    },
    {
     "name": "stdout",
     "output_type": "stream",
     "text": [
      "Enumerating monochromatic designs on level 2\n"
     ]
    },
    {
     "data": {
      "application/vnd.jupyter.widget-view+json": {
       "model_id": "4747dfe48cfb4155ac1f4cd5a2250480",
       "version_major": 2,
       "version_minor": 0
      },
      "text/plain": [
       "0it [00:00, ?it/s]"
      ]
     },
     "metadata": {},
     "output_type": "display_data"
    },
    {
     "name": "stdout",
     "output_type": "stream",
     "text": [
      "Enumerating monochromatic designs on level 3\n"
     ]
    },
    {
     "data": {
      "application/vnd.jupyter.widget-view+json": {
       "model_id": "1479c10f3c2e43df907a3a8432b6c982",
       "version_major": 2,
       "version_minor": 0
      },
      "text/plain": [
       "0it [00:00, ?it/s]"
      ]
     },
     "metadata": {},
     "output_type": "display_data"
    },
    {
     "name": "stdout",
     "output_type": "stream",
     "text": [
      "Enumerating monochromatic designs on level 4\n"
     ]
    },
    {
     "data": {
      "application/vnd.jupyter.widget-view+json": {
       "model_id": "6a962613706947aa90ee0cd6d61629b2",
       "version_major": 2,
       "version_minor": 0
      },
      "text/plain": [
       "0it [00:00, ?it/s]"
      ]
     },
     "metadata": {},
     "output_type": "display_data"
    },
    {
     "name": "stdout",
     "output_type": "stream",
     "text": [
      "Testing 2 designs with WL... (triangles only)\n"
     ]
    },
    {
     "data": {
      "application/vnd.jupyter.widget-view+json": {
       "model_id": "e1c097f6e6194c4aa4017da3eb8705ee",
       "version_major": 2,
       "version_minor": 0
      },
      "text/plain": [
       "  0%|          | 0/2 [00:00<?, ?it/s]"
      ]
     },
     "metadata": {},
     "output_type": "display_data"
    },
    {
     "name": "stdout",
     "output_type": "stream",
     "text": [
      "Found: <SAS of degree 8 and ranks [1, 3, 10, 17, 22, 17, 10, 3, 1]>\n",
      "Summary: (8, 84, [1, 3, 10, 17, 22, 17, 10, 3, 1], False, True, 'C4')\n",
      "Searching for coherent refinements of <SAS of degree 8 and ranks [1, 3, 9, 14, 18, 14, 9, 3, 1]>\n",
      "Summary: (8, 72, [1, 3, 9, 14, 18, 14, 9, 3, 1], False, True, 'C2 x C2 x C2')\n"
     ]
    },
    {
     "data": {
      "application/vnd.jupyter.widget-view+json": {
       "model_id": "e697a5e983d2454eaf078214080ea548",
       "version_major": 2,
       "version_minor": 0
      },
      "text/plain": [
       "0it [00:00, ?it/s]"
      ]
     },
     "metadata": {},
     "output_type": "display_data"
    },
    {
     "name": "stdout",
     "output_type": "stream",
     "text": [
      "Enumerating monochromatic designs on level 2\n"
     ]
    },
    {
     "data": {
      "application/vnd.jupyter.widget-view+json": {
       "model_id": "f6709b195cf542a38780fb2153af7ffd",
       "version_major": 2,
       "version_minor": 0
      },
      "text/plain": [
       "0it [00:00, ?it/s]"
      ]
     },
     "metadata": {},
     "output_type": "display_data"
    },
    {
     "name": "stdout",
     "output_type": "stream",
     "text": [
      "Enumerating monochromatic designs on level 3\n"
     ]
    },
    {
     "data": {
      "application/vnd.jupyter.widget-view+json": {
       "model_id": "cd83fef397d849adbb3a46a4e30711ac",
       "version_major": 2,
       "version_minor": 0
      },
      "text/plain": [
       "0it [00:00, ?it/s]"
      ]
     },
     "metadata": {},
     "output_type": "display_data"
    },
    {
     "name": "stdout",
     "output_type": "stream",
     "text": [
      "Enumerating monochromatic designs on level 4\n"
     ]
    },
    {
     "data": {
      "application/vnd.jupyter.widget-view+json": {
       "model_id": "fd85b0167b4c42de870b2b34c69d3ba6",
       "version_major": 2,
       "version_minor": 0
      },
      "text/plain": [
       "0it [00:00, ?it/s]"
      ]
     },
     "metadata": {},
     "output_type": "display_data"
    },
    {
     "name": "stdout",
     "output_type": "stream",
     "text": [
      "Testing 3 designs with WL... (triangles only)\n"
     ]
    },
    {
     "data": {
      "application/vnd.jupyter.widget-view+json": {
       "model_id": "510a302ed3f74a3eb8eacfe5b17a7c2d",
       "version_major": 2,
       "version_minor": 0
      },
      "text/plain": [
       "  0%|          | 0/3 [00:00<?, ?it/s]"
      ]
     },
     "metadata": {},
     "output_type": "display_data"
    },
    {
     "name": "stdout",
     "output_type": "stream",
     "text": [
      "Searching for coherent refinements of <SAS of degree 8 and ranks [1, 2, 4, 6, 7, 6, 4, 2, 1]>\n",
      "Summary: (8, 33, [1, 2, 4, 6, 7, 6, 4, 2, 1], False, True, 'C2 x C2 x A4')\n"
     ]
    },
    {
     "data": {
      "application/vnd.jupyter.widget-view+json": {
       "model_id": "f63395e001bf4f0ab05f9d65bc4aef69",
       "version_major": 2,
       "version_minor": 0
      },
      "text/plain": [
       "0it [00:00, ?it/s]"
      ]
     },
     "metadata": {},
     "output_type": "display_data"
    },
    {
     "name": "stdout",
     "output_type": "stream",
     "text": [
      "Enumerating monochromatic designs on level 3\n"
     ]
    },
    {
     "data": {
      "application/vnd.jupyter.widget-view+json": {
       "model_id": "70396f844e2d413b907ee2fc998985cb",
       "version_major": 2,
       "version_minor": 0
      },
      "text/plain": [
       "0it [00:00, ?it/s]"
      ]
     },
     "metadata": {},
     "output_type": "display_data"
    },
    {
     "name": "stdout",
     "output_type": "stream",
     "text": [
      "Enumerating monochromatic designs on level 4\n"
     ]
    },
    {
     "data": {
      "application/vnd.jupyter.widget-view+json": {
       "model_id": "ad5d7c18310342d68f48930a06692e34",
       "version_major": 2,
       "version_minor": 0
      },
      "text/plain": [
       "0it [00:00, ?it/s]"
      ]
     },
     "metadata": {},
     "output_type": "display_data"
    },
    {
     "name": "stdout",
     "output_type": "stream",
     "text": [
      "Testing 4 designs with WL... (triangles only)\n"
     ]
    },
    {
     "data": {
      "application/vnd.jupyter.widget-view+json": {
       "model_id": "cc468a5b41494b679489552d574c7b00",
       "version_major": 2,
       "version_minor": 0
      },
      "text/plain": [
       "  0%|          | 0/4 [00:00<?, ?it/s]"
      ]
     },
     "metadata": {},
     "output_type": "display_data"
    },
    {
     "name": "stdout",
     "output_type": "stream",
     "text": [
      "Found: <SAS of degree 8 and ranks [1, 2, 4, 7, 8, 7, 4, 2, 1]>\n",
      "Summary: (8, 36, [1, 2, 4, 7, 8, 7, 4, 2, 1], False, True, 'C2 x A4')\n",
      "Found: <SAS of degree 8 and ranks [1, 2, 4, 6, 8, 6, 4, 2, 1]>\n",
      "Summary: (8, 34, [1, 2, 4, 6, 8, 6, 4, 2, 1], False, True, 'C2 x A4')\n",
      "Searching for coherent refinements of <SAS of degree 8 and ranks [1, 2, 4, 5, 7, 5, 4, 2, 1]>\n",
      "Summary: (8, 31, [1, 2, 4, 5, 7, 5, 4, 2, 1], False, True, 'C2 x S4')\n"
     ]
    },
    {
     "data": {
      "application/vnd.jupyter.widget-view+json": {
       "model_id": "4be56b2063794aaca4df4fa5285d757c",
       "version_major": 2,
       "version_minor": 0
      },
      "text/plain": [
       "0it [00:00, ?it/s]"
      ]
     },
     "metadata": {},
     "output_type": "display_data"
    },
    {
     "name": "stdout",
     "output_type": "stream",
     "text": [
      "Enumerating monochromatic designs on level 4\n"
     ]
    },
    {
     "data": {
      "application/vnd.jupyter.widget-view+json": {
       "model_id": "aa2cdb4bc63447329e84af6bb421624e",
       "version_major": 2,
       "version_minor": 0
      },
      "text/plain": [
       "0it [00:00, ?it/s]"
      ]
     },
     "metadata": {},
     "output_type": "display_data"
    },
    {
     "name": "stdout",
     "output_type": "stream",
     "text": [
      "Testing 1 designs with WL... (triangles only)\n"
     ]
    },
    {
     "data": {
      "application/vnd.jupyter.widget-view+json": {
       "model_id": "09469d4d09fc481fab9f4144f49a7f72",
       "version_major": 2,
       "version_minor": 0
      },
      "text/plain": [
       "  0%|          | 0/1 [00:00<?, ?it/s]"
      ]
     },
     "metadata": {},
     "output_type": "display_data"
    },
    {
     "name": "stdout",
     "output_type": "stream",
     "text": [
      "Found: <SAS of degree 8 and ranks [1, 2, 4, 5, 8, 5, 4, 2, 1]>\n",
      "Summary: (8, 32, [1, 2, 4, 5, 8, 5, 4, 2, 1], False, True, 'S4')\n",
      "Searching for coherent refinements of <SAS of degree 8 and ranks [1, 2, 4, 6, 7, 6, 4, 2, 1]>\n",
      "Summary: (8, 33, [1, 2, 4, 6, 7, 6, 4, 2, 1], False, True, 'C2 x S4')\n"
     ]
    },
    {
     "data": {
      "application/vnd.jupyter.widget-view+json": {
       "model_id": "e0ea4749372040da8719f094dd11e440",
       "version_major": 2,
       "version_minor": 0
      },
      "text/plain": [
       "0it [00:00, ?it/s]"
      ]
     },
     "metadata": {},
     "output_type": "display_data"
    },
    {
     "name": "stdout",
     "output_type": "stream",
     "text": [
      "Enumerating monochromatic designs on level 3\n"
     ]
    },
    {
     "data": {
      "application/vnd.jupyter.widget-view+json": {
       "model_id": "fa3fd7befafb410ca7a4b2276710db7a",
       "version_major": 2,
       "version_minor": 0
      },
      "text/plain": [
       "0it [00:00, ?it/s]"
      ]
     },
     "metadata": {},
     "output_type": "display_data"
    },
    {
     "name": "stdout",
     "output_type": "stream",
     "text": [
      "Enumerating monochromatic designs on level 4\n"
     ]
    },
    {
     "data": {
      "application/vnd.jupyter.widget-view+json": {
       "model_id": "a72f7f25a870446a90ba1c875c5eb797",
       "version_major": 2,
       "version_minor": 0
      },
      "text/plain": [
       "0it [00:00, ?it/s]"
      ]
     },
     "metadata": {},
     "output_type": "display_data"
    },
    {
     "name": "stdout",
     "output_type": "stream",
     "text": [
      "Testing 4 designs with WL... (triangles only)\n"
     ]
    },
    {
     "data": {
      "application/vnd.jupyter.widget-view+json": {
       "model_id": "6ffdd8d82af9407ba38071eb9ddc19f9",
       "version_major": 2,
       "version_minor": 0
      },
      "text/plain": [
       "  0%|          | 0/4 [00:00<?, ?it/s]"
      ]
     },
     "metadata": {},
     "output_type": "display_data"
    },
    {
     "name": "stdout",
     "output_type": "stream",
     "text": [
      "Found: <SAS of degree 8 and ranks [1, 2, 4, 6, 8, 6, 4, 2, 1]>\n",
      "Summary: (8, 34, [1, 2, 4, 6, 8, 6, 4, 2, 1], False, True, 'S4')\n",
      "Searching for coherent refinements of <SAS of degree 8 and ranks [1, 3, 7, 12, 14, 12, 7, 3, 1]>\n",
      "Summary: (8, 60, [1, 3, 7, 12, 14, 12, 7, 3, 1], False, True, 'D4')\n"
     ]
    },
    {
     "data": {
      "application/vnd.jupyter.widget-view+json": {
       "model_id": "a5fa5c34190748988713ccdd5dce0df9",
       "version_major": 2,
       "version_minor": 0
      },
      "text/plain": [
       "0it [00:00, ?it/s]"
      ]
     },
     "metadata": {},
     "output_type": "display_data"
    },
    {
     "name": "stdout",
     "output_type": "stream",
     "text": [
      "Enumerating monochromatic designs on level 3\n"
     ]
    },
    {
     "data": {
      "application/vnd.jupyter.widget-view+json": {
       "model_id": "6d2d55ed9e0547aa9c23938b6c97eba6",
       "version_major": 2,
       "version_minor": 0
      },
      "text/plain": [
       "0it [00:00, ?it/s]"
      ]
     },
     "metadata": {},
     "output_type": "display_data"
    },
    {
     "name": "stdout",
     "output_type": "stream",
     "text": [
      "Enumerating monochromatic designs on level 4\n"
     ]
    },
    {
     "data": {
      "application/vnd.jupyter.widget-view+json": {
       "model_id": "92fba6a97a7c4e568c5124ff6ccb5e57",
       "version_major": 2,
       "version_minor": 0
      },
      "text/plain": [
       "0it [00:00, ?it/s]"
      ]
     },
     "metadata": {},
     "output_type": "display_data"
    },
    {
     "name": "stdout",
     "output_type": "stream",
     "text": [
      "Testing 1 designs with WL... (triangles only)\n"
     ]
    },
    {
     "data": {
      "application/vnd.jupyter.widget-view+json": {
       "model_id": "230c49a41efb4c8684bfa333104abf64",
       "version_major": 2,
       "version_minor": 0
      },
      "text/plain": [
       "  0%|          | 0/1 [00:00<?, ?it/s]"
      ]
     },
     "metadata": {},
     "output_type": "display_data"
    },
    {
     "name": "stdout",
     "output_type": "stream",
     "text": [
      "Searching for coherent refinements of <SAS of degree 8 and ranks [1, 2, 6, 9, 12, 9, 6, 2, 1]>\n",
      "Summary: (8, 48, [1, 2, 6, 9, 12, 9, 6, 2, 1], False, True, 'D6')\n"
     ]
    },
    {
     "data": {
      "application/vnd.jupyter.widget-view+json": {
       "model_id": "bad4cbe7e8774033ac499cb7b5041060",
       "version_major": 2,
       "version_minor": 0
      },
      "text/plain": [
       "0it [00:00, ?it/s]"
      ]
     },
     "metadata": {},
     "output_type": "display_data"
    },
    {
     "name": "stdout",
     "output_type": "stream",
     "text": [
      "Enumerating monochromatic designs on level 2\n"
     ]
    },
    {
     "data": {
      "application/vnd.jupyter.widget-view+json": {
       "model_id": "dc204a9310634322bc8624fd6f2046bf",
       "version_major": 2,
       "version_minor": 0
      },
      "text/plain": [
       "0it [00:00, ?it/s]"
      ]
     },
     "metadata": {},
     "output_type": "display_data"
    },
    {
     "name": "stdout",
     "output_type": "stream",
     "text": [
      "Enumerating monochromatic designs on level 3\n"
     ]
    },
    {
     "data": {
      "application/vnd.jupyter.widget-view+json": {
       "model_id": "561460a872064e9a9ab0e523a0e18dc3",
       "version_major": 2,
       "version_minor": 0
      },
      "text/plain": [
       "0it [00:00, ?it/s]"
      ]
     },
     "metadata": {},
     "output_type": "display_data"
    },
    {
     "name": "stdout",
     "output_type": "stream",
     "text": [
      "Enumerating monochromatic designs on level 4\n"
     ]
    },
    {
     "data": {
      "application/vnd.jupyter.widget-view+json": {
       "model_id": "4f388ed0a3214eb7840abf97a24f7e50",
       "version_major": 2,
       "version_minor": 0
      },
      "text/plain": [
       "0it [00:00, ?it/s]"
      ]
     },
     "metadata": {},
     "output_type": "display_data"
    },
    {
     "name": "stdout",
     "output_type": "stream",
     "text": [
      "Testing 2 designs with WL... (triangles only)\n"
     ]
    },
    {
     "data": {
      "application/vnd.jupyter.widget-view+json": {
       "model_id": "d229658839c24b10925a697261612c3c",
       "version_major": 2,
       "version_minor": 0
      },
      "text/plain": [
       "  0%|          | 0/2 [00:00<?, ?it/s]"
      ]
     },
     "metadata": {},
     "output_type": "display_data"
    },
    {
     "name": "stdout",
     "output_type": "stream",
     "text": [
      "Searching for coherent refinements of <SAS of degree 8 and ranks [1, 2, 4, 5, 7, 5, 4, 2, 1]>\n",
      "Summary: (8, 31, [1, 2, 4, 5, 7, 5, 4, 2, 1], False, True, 'C2 x S4')\n"
     ]
    },
    {
     "data": {
      "application/vnd.jupyter.widget-view+json": {
       "model_id": "17c1904959fe4069b2374a3f87f8a619",
       "version_major": 2,
       "version_minor": 0
      },
      "text/plain": [
       "0it [00:00, ?it/s]"
      ]
     },
     "metadata": {},
     "output_type": "display_data"
    },
    {
     "name": "stdout",
     "output_type": "stream",
     "text": [
      "Enumerating monochromatic designs on level 4\n"
     ]
    },
    {
     "data": {
      "application/vnd.jupyter.widget-view+json": {
       "model_id": "158fd83a7c754070a61fd094d4131e0e",
       "version_major": 2,
       "version_minor": 0
      },
      "text/plain": [
       "0it [00:00, ?it/s]"
      ]
     },
     "metadata": {},
     "output_type": "display_data"
    },
    {
     "name": "stdout",
     "output_type": "stream",
     "text": [
      "Testing 1 designs with WL... (triangles only)\n"
     ]
    },
    {
     "data": {
      "application/vnd.jupyter.widget-view+json": {
       "model_id": "1108dbbef6384ceaab05cb4588688617",
       "version_major": 2,
       "version_minor": 0
      },
      "text/plain": [
       "  0%|          | 0/1 [00:00<?, ?it/s]"
      ]
     },
     "metadata": {},
     "output_type": "display_data"
    },
    {
     "name": "stdout",
     "output_type": "stream",
     "text": [
      "Searching for coherent refinements of <SAS of degree 8 and ranks [1, 2, 5, 7, 10, 7, 5, 2, 1]>\n",
      "Summary: (8, 40, [1, 2, 5, 7, 10, 7, 5, 2, 1], False, True, 'D6')\n"
     ]
    },
    {
     "data": {
      "application/vnd.jupyter.widget-view+json": {
       "model_id": "c7ac0b522559448d9eb40ef11addb37e",
       "version_major": 2,
       "version_minor": 0
      },
      "text/plain": [
       "0it [00:00, ?it/s]"
      ]
     },
     "metadata": {},
     "output_type": "display_data"
    },
    {
     "name": "stdout",
     "output_type": "stream",
     "text": [
      "Enumerating monochromatic designs on level 4\n"
     ]
    },
    {
     "data": {
      "application/vnd.jupyter.widget-view+json": {
       "model_id": "1efb0f5c61c543fbb592022dfc75e461",
       "version_major": 2,
       "version_minor": 0
      },
      "text/plain": [
       "0it [00:00, ?it/s]"
      ]
     },
     "metadata": {},
     "output_type": "display_data"
    },
    {
     "name": "stdout",
     "output_type": "stream",
     "text": [
      "Testing 0 designs with WL... (triangles only)\n"
     ]
    },
    {
     "data": {
      "application/vnd.jupyter.widget-view+json": {
       "model_id": "f9757af7b32e4bac97f67db0f34e8c4b",
       "version_major": 2,
       "version_minor": 0
      },
      "text/plain": [
       "0it [00:00, ?it/s]"
      ]
     },
     "metadata": {},
     "output_type": "display_data"
    },
    {
     "name": "stdout",
     "output_type": "stream",
     "text": [
      "Searching for coherent refinements of <SAS of degree 8 and ranks [1, 3, 11, 17, 24, 17, 11, 3, 1]>\n",
      "Summary: (8, 88, [1, 3, 11, 17, 24, 17, 11, 3, 1], False, True, 'C2 x C2')\n"
     ]
    },
    {
     "data": {
      "application/vnd.jupyter.widget-view+json": {
       "model_id": "85e7071d3d1d4ac589699cdbc98a7573",
       "version_major": 2,
       "version_minor": 0
      },
      "text/plain": [
       "0it [00:00, ?it/s]"
      ]
     },
     "metadata": {},
     "output_type": "display_data"
    },
    {
     "name": "stdout",
     "output_type": "stream",
     "text": [
      "Enumerating monochromatic designs on level 2\n"
     ]
    },
    {
     "data": {
      "application/vnd.jupyter.widget-view+json": {
       "model_id": "4fbe24121a2a4080870c13bb545214f9",
       "version_major": 2,
       "version_minor": 0
      },
      "text/plain": [
       "0it [00:00, ?it/s]"
      ]
     },
     "metadata": {},
     "output_type": "display_data"
    },
    {
     "name": "stdout",
     "output_type": "stream",
     "text": [
      "Enumerating monochromatic designs on level 3\n"
     ]
    },
    {
     "data": {
      "application/vnd.jupyter.widget-view+json": {
       "model_id": "1bbd972c96984e1681ad1ad349bb67e4",
       "version_major": 2,
       "version_minor": 0
      },
      "text/plain": [
       "0it [00:00, ?it/s]"
      ]
     },
     "metadata": {},
     "output_type": "display_data"
    },
    {
     "name": "stdout",
     "output_type": "stream",
     "text": [
      "Enumerating monochromatic designs on level 4\n"
     ]
    },
    {
     "data": {
      "application/vnd.jupyter.widget-view+json": {
       "model_id": "08782e59fbc0400d987111096102a9f0",
       "version_major": 2,
       "version_minor": 0
      },
      "text/plain": [
       "0it [00:00, ?it/s]"
      ]
     },
     "metadata": {},
     "output_type": "display_data"
    },
    {
     "name": "stdout",
     "output_type": "stream",
     "text": [
      "Testing 0 designs with WL... (triangles only)\n"
     ]
    },
    {
     "data": {
      "application/vnd.jupyter.widget-view+json": {
       "model_id": "a3dd4db2fc0a4571aa65f46c5f6f69e6",
       "version_major": 2,
       "version_minor": 0
      },
      "text/plain": [
       "0it [00:00, ?it/s]"
      ]
     },
     "metadata": {},
     "output_type": "display_data"
    },
    {
     "name": "stdout",
     "output_type": "stream",
     "text": [
      "Searching for coherent refinements of <SAS of degree 8 and ranks [1, 2, 5, 8, 10, 8, 5, 2, 1]>\n",
      "Summary: (8, 42, [1, 2, 5, 8, 10, 8, 5, 2, 1], False, True, 'D6')\n"
     ]
    },
    {
     "data": {
      "application/vnd.jupyter.widget-view+json": {
       "model_id": "a19436084e82431c8cef64cde54ab715",
       "version_major": 2,
       "version_minor": 0
      },
      "text/plain": [
       "0it [00:00, ?it/s]"
      ]
     },
     "metadata": {},
     "output_type": "display_data"
    },
    {
     "name": "stdout",
     "output_type": "stream",
     "text": [
      "Enumerating monochromatic designs on level 3\n"
     ]
    },
    {
     "data": {
      "application/vnd.jupyter.widget-view+json": {
       "model_id": "2acc7b16060f4fdca6cdccc4966392dd",
       "version_major": 2,
       "version_minor": 0
      },
      "text/plain": [
       "0it [00:00, ?it/s]"
      ]
     },
     "metadata": {},
     "output_type": "display_data"
    },
    {
     "name": "stdout",
     "output_type": "stream",
     "text": [
      "Enumerating monochromatic designs on level 4\n"
     ]
    },
    {
     "data": {
      "application/vnd.jupyter.widget-view+json": {
       "model_id": "54e2ebfe293b448cab4fe44bd063faaf",
       "version_major": 2,
       "version_minor": 0
      },
      "text/plain": [
       "0it [00:00, ?it/s]"
      ]
     },
     "metadata": {},
     "output_type": "display_data"
    },
    {
     "name": "stdout",
     "output_type": "stream",
     "text": [
      "Testing 1 designs with WL... (triangles only)\n"
     ]
    },
    {
     "data": {
      "application/vnd.jupyter.widget-view+json": {
       "model_id": "65db0426b9f44cbb870d7b401825b0dd",
       "version_major": 2,
       "version_minor": 0
      },
      "text/plain": [
       "  0%|          | 0/1 [00:00<?, ?it/s]"
      ]
     },
     "metadata": {},
     "output_type": "display_data"
    },
    {
     "name": "stdout",
     "output_type": "stream",
     "text": [
      "Searching for coherent refinements of <SAS of degree 8 and ranks [1, 2, 5, 8, 10, 8, 5, 2, 1]>\n",
      "Summary: (8, 42, [1, 2, 5, 8, 10, 8, 5, 2, 1], False, True, 'C6 x C2')\n"
     ]
    },
    {
     "data": {
      "application/vnd.jupyter.widget-view+json": {
       "model_id": "2a99123fbbd54157843d174ce5f709d5",
       "version_major": 2,
       "version_minor": 0
      },
      "text/plain": [
       "0it [00:00, ?it/s]"
      ]
     },
     "metadata": {},
     "output_type": "display_data"
    },
    {
     "name": "stdout",
     "output_type": "stream",
     "text": [
      "Enumerating monochromatic designs on level 3\n"
     ]
    },
    {
     "data": {
      "application/vnd.jupyter.widget-view+json": {
       "model_id": "59d7dd176eba43f684e0bca791aeec22",
       "version_major": 2,
       "version_minor": 0
      },
      "text/plain": [
       "0it [00:00, ?it/s]"
      ]
     },
     "metadata": {},
     "output_type": "display_data"
    },
    {
     "name": "stdout",
     "output_type": "stream",
     "text": [
      "Enumerating monochromatic designs on level 4\n"
     ]
    },
    {
     "data": {
      "application/vnd.jupyter.widget-view+json": {
       "model_id": "dfa45c2108f04348ad855884fae6e4d6",
       "version_major": 2,
       "version_minor": 0
      },
      "text/plain": [
       "0it [00:00, ?it/s]"
      ]
     },
     "metadata": {},
     "output_type": "display_data"
    },
    {
     "name": "stdout",
     "output_type": "stream",
     "text": [
      "Testing 1 designs with WL... (triangles only)\n"
     ]
    },
    {
     "data": {
      "application/vnd.jupyter.widget-view+json": {
       "model_id": "bbce75401d594b0eb638fbfe75d2556b",
       "version_major": 2,
       "version_minor": 0
      },
      "text/plain": [
       "  0%|          | 0/1 [00:00<?, ?it/s]"
      ]
     },
     "metadata": {},
     "output_type": "display_data"
    },
    {
     "name": "stdout",
     "output_type": "stream",
     "text": [
      "Searching for coherent refinements of <SAS of degree 8 and ranks [1, 5, 12, 19, 22, 19, 12, 5, 1]>\n",
      "Summary: (8, 96, [1, 5, 12, 19, 22, 19, 12, 5, 1], False, True, 'D6')\n"
     ]
    },
    {
     "data": {
      "application/vnd.jupyter.widget-view+json": {
       "model_id": "be7937764d16421ab61de67f969d6e27",
       "version_major": 2,
       "version_minor": 0
      },
      "text/plain": [
       "0it [00:00, ?it/s]"
      ]
     },
     "metadata": {},
     "output_type": "display_data"
    },
    {
     "name": "stdout",
     "output_type": "stream",
     "text": [
      "Enumerating monochromatic designs on level 1\n"
     ]
    },
    {
     "data": {
      "application/vnd.jupyter.widget-view+json": {
       "model_id": "ab485db6db3f427ca0ca3112702faf80",
       "version_major": 2,
       "version_minor": 0
      },
      "text/plain": [
       "0it [00:00, ?it/s]"
      ]
     },
     "metadata": {},
     "output_type": "display_data"
    },
    {
     "name": "stdout",
     "output_type": "stream",
     "text": [
      "Enumerating monochromatic designs on level 2\n"
     ]
    },
    {
     "data": {
      "application/vnd.jupyter.widget-view+json": {
       "model_id": "1dcda2a4867f4a36b474e90eb18e55d7",
       "version_major": 2,
       "version_minor": 0
      },
      "text/plain": [
       "0it [00:00, ?it/s]"
      ]
     },
     "metadata": {},
     "output_type": "display_data"
    },
    {
     "name": "stdout",
     "output_type": "stream",
     "text": [
      "Enumerating monochromatic designs on level 3\n"
     ]
    },
    {
     "data": {
      "application/vnd.jupyter.widget-view+json": {
       "model_id": "335fea07efc749228ccc06789a3866df",
       "version_major": 2,
       "version_minor": 0
      },
      "text/plain": [
       "0it [00:00, ?it/s]"
      ]
     },
     "metadata": {},
     "output_type": "display_data"
    },
    {
     "name": "stdout",
     "output_type": "stream",
     "text": [
      "Enumerating monochromatic designs on level 4\n"
     ]
    },
    {
     "data": {
      "application/vnd.jupyter.widget-view+json": {
       "model_id": "b6f8ecf314e74904be703f699e8ba55c",
       "version_major": 2,
       "version_minor": 0
      },
      "text/plain": [
       "0it [00:00, ?it/s]"
      ]
     },
     "metadata": {},
     "output_type": "display_data"
    },
    {
     "name": "stdout",
     "output_type": "stream",
     "text": [
      "Testing 2 designs with WL... (triangles only)\n"
     ]
    },
    {
     "data": {
      "application/vnd.jupyter.widget-view+json": {
       "model_id": "0ce1ad1146fb4a9d9aa00ca95dedaf05",
       "version_major": 2,
       "version_minor": 0
      },
      "text/plain": [
       "  0%|          | 0/2 [00:00<?, ?it/s]"
      ]
     },
     "metadata": {},
     "output_type": "display_data"
    },
    {
     "name": "stdout",
     "output_type": "stream",
     "text": [
      "Found: <SAS of degree 8 and ranks [1, 6, 16, 26, 30, 26, 16, 6, 1]>\n",
      "Summary: (8, 128, [1, 6, 16, 26, 30, 26, 16, 6, 1], False, True, 'S3')\n",
      "Found: <SAS of degree 8 and ranks [1, 6, 17, 30, 36, 30, 17, 6, 1]>\n",
      "Summary: (8, 144, [1, 6, 17, 30, 36, 30, 17, 6, 1], False, True, 'C2 x C2')\n",
      "Searching for coherent refinements of <SAS of degree 8 and ranks [1, 4, 10, 16, 18, 16, 10, 4, 1]>\n",
      "Summary: (8, 80, [1, 4, 10, 16, 18, 16, 10, 4, 1], False, True, 'D6')\n"
     ]
    },
    {
     "data": {
      "application/vnd.jupyter.widget-view+json": {
       "model_id": "44fe89cc530a4a11b612ef049e3a6d16",
       "version_major": 2,
       "version_minor": 0
      },
      "text/plain": [
       "0it [00:00, ?it/s]"
      ]
     },
     "metadata": {},
     "output_type": "display_data"
    },
    {
     "name": "stdout",
     "output_type": "stream",
     "text": [
      "Enumerating monochromatic designs on level 2\n"
     ]
    },
    {
     "data": {
      "application/vnd.jupyter.widget-view+json": {
       "model_id": "a2fe61be5cfe41e386033bf5bb97671f",
       "version_major": 2,
       "version_minor": 0
      },
      "text/plain": [
       "0it [00:00, ?it/s]"
      ]
     },
     "metadata": {},
     "output_type": "display_data"
    },
    {
     "name": "stdout",
     "output_type": "stream",
     "text": [
      "Enumerating monochromatic designs on level 3\n"
     ]
    },
    {
     "data": {
      "application/vnd.jupyter.widget-view+json": {
       "model_id": "da833a6c9fd443a5aae632c442109867",
       "version_major": 2,
       "version_minor": 0
      },
      "text/plain": [
       "0it [00:00, ?it/s]"
      ]
     },
     "metadata": {},
     "output_type": "display_data"
    },
    {
     "name": "stdout",
     "output_type": "stream",
     "text": [
      "Enumerating monochromatic designs on level 4\n"
     ]
    },
    {
     "data": {
      "application/vnd.jupyter.widget-view+json": {
       "model_id": "fa255255606f44daa3de7ec76262348c",
       "version_major": 2,
       "version_minor": 0
      },
      "text/plain": [
       "0it [00:00, ?it/s]"
      ]
     },
     "metadata": {},
     "output_type": "display_data"
    },
    {
     "name": "stdout",
     "output_type": "stream",
     "text": [
      "Testing 0 designs with WL... (triangles only)\n"
     ]
    },
    {
     "data": {
      "application/vnd.jupyter.widget-view+json": {
       "model_id": "01c63fa846ed4e30bcc43aecb4e237c5",
       "version_major": 2,
       "version_minor": 0
      },
      "text/plain": [
       "0it [00:00, ?it/s]"
      ]
     },
     "metadata": {},
     "output_type": "display_data"
    },
    {
     "name": "stdout",
     "output_type": "stream",
     "text": [
      "Searching for coherent refinements of <SAS of degree 8 and ranks [1, 5, 13, 22, 26, 22, 13, 5, 1]>\n",
      "Summary: (8, 108, [1, 5, 13, 22, 26, 22, 13, 5, 1], False, True, 'C2 x C2 x C2')\n"
     ]
    },
    {
     "data": {
      "application/vnd.jupyter.widget-view+json": {
       "model_id": "f487e6f732574e71bc0ee96e9b6e22c8",
       "version_major": 2,
       "version_minor": 0
      },
      "text/plain": [
       "0it [00:00, ?it/s]"
      ]
     },
     "metadata": {},
     "output_type": "display_data"
    },
    {
     "name": "stdout",
     "output_type": "stream",
     "text": [
      "Enumerating monochromatic designs on level 1\n"
     ]
    },
    {
     "data": {
      "application/vnd.jupyter.widget-view+json": {
       "model_id": "fba27180f6d44e298a4880ece0e0717b",
       "version_major": 2,
       "version_minor": 0
      },
      "text/plain": [
       "0it [00:00, ?it/s]"
      ]
     },
     "metadata": {},
     "output_type": "display_data"
    },
    {
     "name": "stdout",
     "output_type": "stream",
     "text": [
      "Enumerating monochromatic designs on level 2\n"
     ]
    },
    {
     "data": {
      "application/vnd.jupyter.widget-view+json": {
       "model_id": "afd7caf11c664db0b2dcccb4619297fc",
       "version_major": 2,
       "version_minor": 0
      },
      "text/plain": [
       "0it [00:00, ?it/s]"
      ]
     },
     "metadata": {},
     "output_type": "display_data"
    },
    {
     "name": "stdout",
     "output_type": "stream",
     "text": [
      "Enumerating monochromatic designs on level 3\n"
     ]
    },
    {
     "data": {
      "application/vnd.jupyter.widget-view+json": {
       "model_id": "e2d9c5a367d34be2ba4b9b782a8c9587",
       "version_major": 2,
       "version_minor": 0
      },
      "text/plain": [
       "0it [00:00, ?it/s]"
      ]
     },
     "metadata": {},
     "output_type": "display_data"
    },
    {
     "name": "stdout",
     "output_type": "stream",
     "text": [
      "Enumerating monochromatic designs on level 4\n"
     ]
    },
    {
     "data": {
      "application/vnd.jupyter.widget-view+json": {
       "model_id": "47a6def511ae4f78aaa13ede22fb0242",
       "version_major": 2,
       "version_minor": 0
      },
      "text/plain": [
       "0it [00:00, ?it/s]"
      ]
     },
     "metadata": {},
     "output_type": "display_data"
    },
    {
     "name": "stdout",
     "output_type": "stream",
     "text": [
      "Testing 3 designs with WL... (triangles only)\n"
     ]
    },
    {
     "data": {
      "application/vnd.jupyter.widget-view+json": {
       "model_id": "a07e1a3ebb984a5da7d7e402cc38e91c",
       "version_major": 2,
       "version_minor": 0
      },
      "text/plain": [
       "  0%|          | 0/3 [00:00<?, ?it/s]"
      ]
     },
     "metadata": {},
     "output_type": "display_data"
    },
    {
     "name": "stdout",
     "output_type": "stream",
     "text": [
      "Found: <SAS of degree 8 and ranks [1, 5, 13, 23, 28, 23, 13, 5, 1]>\n",
      "Summary: (8, 112, [1, 5, 13, 23, 28, 23, 13, 5, 1], False, True, 'C2 x C2')\n",
      "Found: <SAS of degree 8 and ranks [1, 5, 14, 25, 30, 25, 14, 5, 1]>\n",
      "Summary: (8, 120, [1, 5, 14, 25, 30, 25, 14, 5, 1], False, True, 'C2 x C2')\n",
      "Searching for coherent refinements of <SAS of degree 8 and ranks [1, 4, 8, 12, 14, 12, 8, 4, 1]>\n",
      "Summary: (8, 64, [1, 4, 8, 12, 14, 12, 8, 4, 1], False, True, 'D5')\n"
     ]
    },
    {
     "data": {
      "application/vnd.jupyter.widget-view+json": {
       "model_id": "60637b45ba03479ca0c2164886598ea8",
       "version_major": 2,
       "version_minor": 0
      },
      "text/plain": [
       "0it [00:00, ?it/s]"
      ]
     },
     "metadata": {},
     "output_type": "display_data"
    },
    {
     "name": "stdout",
     "output_type": "stream",
     "text": [
      "Enumerating monochromatic designs on level 2\n"
     ]
    },
    {
     "data": {
      "application/vnd.jupyter.widget-view+json": {
       "model_id": "8547bd65558e43d3a72730c6148b184e",
       "version_major": 2,
       "version_minor": 0
      },
      "text/plain": [
       "0it [00:00, ?it/s]"
      ]
     },
     "metadata": {},
     "output_type": "display_data"
    },
    {
     "name": "stdout",
     "output_type": "stream",
     "text": [
      "Enumerating monochromatic designs on level 3\n"
     ]
    },
    {
     "data": {
      "application/vnd.jupyter.widget-view+json": {
       "model_id": "a95a0115227b44aea95a658f67e9b994",
       "version_major": 2,
       "version_minor": 0
      },
      "text/plain": [
       "0it [00:00, ?it/s]"
      ]
     },
     "metadata": {},
     "output_type": "display_data"
    },
    {
     "name": "stdout",
     "output_type": "stream",
     "text": [
      "Enumerating monochromatic designs on level 4\n"
     ]
    },
    {
     "data": {
      "application/vnd.jupyter.widget-view+json": {
       "model_id": "4fec9f18c1644d98bf9ca8cd86a59866",
       "version_major": 2,
       "version_minor": 0
      },
      "text/plain": [
       "0it [00:00, ?it/s]"
      ]
     },
     "metadata": {},
     "output_type": "display_data"
    },
    {
     "name": "stdout",
     "output_type": "stream",
     "text": [
      "Testing 0 designs with WL... (triangles only)\n"
     ]
    },
    {
     "data": {
      "application/vnd.jupyter.widget-view+json": {
       "model_id": "eec7c2a3cad44f1e9574edd97eb03eff",
       "version_major": 2,
       "version_minor": 0
      },
      "text/plain": [
       "0it [00:00, ?it/s]"
      ]
     },
     "metadata": {},
     "output_type": "display_data"
    },
    {
     "name": "stdout",
     "output_type": "stream",
     "text": [
      "Searching for coherent refinements of <SAS of degree 8 and ranks [1, 5, 11, 15, 16, 15, 11, 5, 1]>\n",
      "Summary: (8, 80, [1, 5, 11, 15, 16, 15, 11, 5, 1], False, True, 'S4')\n"
     ]
    },
    {
     "data": {
      "application/vnd.jupyter.widget-view+json": {
       "model_id": "a01c87211fcd4dd087c35a23eda8b2f5",
       "version_major": 2,
       "version_minor": 0
      },
      "text/plain": [
       "0it [00:00, ?it/s]"
      ]
     },
     "metadata": {},
     "output_type": "display_data"
    },
    {
     "name": "stdout",
     "output_type": "stream",
     "text": [
      "Enumerating monochromatic designs on level 1\n"
     ]
    },
    {
     "data": {
      "application/vnd.jupyter.widget-view+json": {
       "model_id": "43b419ff02ae4713b6e37a76a98e2e4c",
       "version_major": 2,
       "version_minor": 0
      },
      "text/plain": [
       "0it [00:00, ?it/s]"
      ]
     },
     "metadata": {},
     "output_type": "display_data"
    },
    {
     "name": "stdout",
     "output_type": "stream",
     "text": [
      "Enumerating monochromatic designs on level 2\n"
     ]
    },
    {
     "data": {
      "application/vnd.jupyter.widget-view+json": {
       "model_id": "0e8668df41fc48efb5e2428af761fa74",
       "version_major": 2,
       "version_minor": 0
      },
      "text/plain": [
       "0it [00:00, ?it/s]"
      ]
     },
     "metadata": {},
     "output_type": "display_data"
    },
    {
     "name": "stdout",
     "output_type": "stream",
     "text": [
      "Enumerating monochromatic designs on level 3\n"
     ]
    },
    {
     "data": {
      "application/vnd.jupyter.widget-view+json": {
       "model_id": "d37b97a677a6498c8ea8fbee43b77a22",
       "version_major": 2,
       "version_minor": 0
      },
      "text/plain": [
       "0it [00:00, ?it/s]"
      ]
     },
     "metadata": {},
     "output_type": "display_data"
    },
    {
     "name": "stdout",
     "output_type": "stream",
     "text": [
      "Enumerating monochromatic designs on level 4\n"
     ]
    },
    {
     "data": {
      "application/vnd.jupyter.widget-view+json": {
       "model_id": "5ed70f76f25c4c41a997c730593f726c",
       "version_major": 2,
       "version_minor": 0
      },
      "text/plain": [
       "0it [00:00, ?it/s]"
      ]
     },
     "metadata": {},
     "output_type": "display_data"
    },
    {
     "name": "stdout",
     "output_type": "stream",
     "text": [
      "Testing 3 designs with WL... (triangles only)\n"
     ]
    },
    {
     "data": {
      "application/vnd.jupyter.widget-view+json": {
       "model_id": "8795b4e7bf984e21ade3fb1931ea5a4b",
       "version_major": 2,
       "version_minor": 0
      },
      "text/plain": [
       "  0%|          | 0/3 [00:00<?, ?it/s]"
      ]
     },
     "metadata": {},
     "output_type": "display_data"
    },
    {
     "name": "stdout",
     "output_type": "stream",
     "text": [
      "Found: <SAS of degree 8 and ranks [1, 5, 12, 19, 22, 19, 12, 5, 1]>\n",
      "Summary: (8, 96, [1, 5, 12, 19, 22, 19, 12, 5, 1], False, True, 'D4')\n",
      "Searching for coherent refinements of <SAS of degree 8 and ranks [1, 4, 10, 17, 20, 17, 10, 4, 1]>\n",
      "Summary: (8, 84, [1, 4, 10, 17, 20, 17, 10, 4, 1], False, True, 'D4')\n"
     ]
    },
    {
     "data": {
      "application/vnd.jupyter.widget-view+json": {
       "model_id": "75409511a15a43a1acbcecb1f5a41075",
       "version_major": 2,
       "version_minor": 0
      },
      "text/plain": [
       "0it [00:00, ?it/s]"
      ]
     },
     "metadata": {},
     "output_type": "display_data"
    },
    {
     "name": "stdout",
     "output_type": "stream",
     "text": [
      "Enumerating monochromatic designs on level 2\n"
     ]
    },
    {
     "data": {
      "application/vnd.jupyter.widget-view+json": {
       "model_id": "3f5081231b3142a79e0702eef8f3c797",
       "version_major": 2,
       "version_minor": 0
      },
      "text/plain": [
       "0it [00:00, ?it/s]"
      ]
     },
     "metadata": {},
     "output_type": "display_data"
    },
    {
     "name": "stdout",
     "output_type": "stream",
     "text": [
      "Enumerating monochromatic designs on level 3\n"
     ]
    },
    {
     "data": {
      "application/vnd.jupyter.widget-view+json": {
       "model_id": "fbd56849402647148d90fbf6a54aa827",
       "version_major": 2,
       "version_minor": 0
      },
      "text/plain": [
       "0it [00:00, ?it/s]"
      ]
     },
     "metadata": {},
     "output_type": "display_data"
    },
    {
     "name": "stdout",
     "output_type": "stream",
     "text": [
      "Enumerating monochromatic designs on level 4\n"
     ]
    },
    {
     "data": {
      "application/vnd.jupyter.widget-view+json": {
       "model_id": "e6b01ffb6b0b4ba6a2cc894a21d6db8f",
       "version_major": 2,
       "version_minor": 0
      },
      "text/plain": [
       "0it [00:00, ?it/s]"
      ]
     },
     "metadata": {},
     "output_type": "display_data"
    },
    {
     "name": "stdout",
     "output_type": "stream",
     "text": [
      "Testing 2 designs with WL... (triangles only)\n"
     ]
    },
    {
     "data": {
      "application/vnd.jupyter.widget-view+json": {
       "model_id": "82d088807d004e2cb8f7ec88cdb07402",
       "version_major": 2,
       "version_minor": 0
      },
      "text/plain": [
       "  0%|          | 0/2 [00:00<?, ?it/s]"
      ]
     },
     "metadata": {},
     "output_type": "display_data"
    },
    {
     "name": "stdout",
     "output_type": "stream",
     "text": [
      "Found: <SAS of degree 8 and ranks [1, 4, 10, 18, 22, 18, 10, 4, 1]>\n",
      "Summary: (8, 88, [1, 4, 10, 18, 22, 18, 10, 4, 1], False, True, 'C4')\n",
      "Searching for coherent refinements of <SAS of degree 8 and ranks [1, 4, 9, 14, 16, 14, 9, 4, 1]>\n",
      "Summary: (8, 72, [1, 4, 9, 14, 16, 14, 9, 4, 1], False, True, 'C2 x D4')\n"
     ]
    },
    {
     "data": {
      "application/vnd.jupyter.widget-view+json": {
       "model_id": "000fc8fb8776499896277432d1dc2a3b",
       "version_major": 2,
       "version_minor": 0
      },
      "text/plain": [
       "0it [00:00, ?it/s]"
      ]
     },
     "metadata": {},
     "output_type": "display_data"
    },
    {
     "name": "stdout",
     "output_type": "stream",
     "text": [
      "Enumerating monochromatic designs on level 2\n"
     ]
    },
    {
     "data": {
      "application/vnd.jupyter.widget-view+json": {
       "model_id": "1c86da93a29540a6a74cdec096a5497d",
       "version_major": 2,
       "version_minor": 0
      },
      "text/plain": [
       "0it [00:00, ?it/s]"
      ]
     },
     "metadata": {},
     "output_type": "display_data"
    },
    {
     "name": "stdout",
     "output_type": "stream",
     "text": [
      "Enumerating monochromatic designs on level 3\n"
     ]
    },
    {
     "data": {
      "application/vnd.jupyter.widget-view+json": {
       "model_id": "38ce6941fa7f45da8697fb83833df952",
       "version_major": 2,
       "version_minor": 0
      },
      "text/plain": [
       "0it [00:00, ?it/s]"
      ]
     },
     "metadata": {},
     "output_type": "display_data"
    },
    {
     "name": "stdout",
     "output_type": "stream",
     "text": [
      "Enumerating monochromatic designs on level 4\n"
     ]
    },
    {
     "data": {
      "application/vnd.jupyter.widget-view+json": {
       "model_id": "36633c67ca4843628357904cb9d4c8d3",
       "version_major": 2,
       "version_minor": 0
      },
      "text/plain": [
       "0it [00:00, ?it/s]"
      ]
     },
     "metadata": {},
     "output_type": "display_data"
    },
    {
     "name": "stdout",
     "output_type": "stream",
     "text": [
      "Testing 4 designs with WL... (triangles only)\n"
     ]
    },
    {
     "data": {
      "application/vnd.jupyter.widget-view+json": {
       "model_id": "f442c0d9fee5438085b97510539e6d4b",
       "version_major": 2,
       "version_minor": 0
      },
      "text/plain": [
       "  0%|          | 0/4 [00:00<?, ?it/s]"
      ]
     },
     "metadata": {},
     "output_type": "display_data"
    },
    {
     "name": "stdout",
     "output_type": "stream",
     "text": [
      "Found: <SAS of degree 8 and ranks [1, 4, 9, 15, 18, 15, 9, 4, 1]>\n",
      "Summary: (8, 76, [1, 4, 9, 15, 18, 15, 9, 4, 1], False, True, 'D4')\n",
      "Found: <SAS of degree 8 and ranks [1, 4, 10, 17, 20, 17, 10, 4, 1]>\n",
      "Summary: (8, 84, [1, 4, 10, 17, 20, 17, 10, 4, 1], False, True, 'C2 x C2 x C2')\n",
      "Searching for coherent refinements of <SAS of degree 8 and ranks [1, 3, 5, 9, 12, 9, 5, 3, 1]>\n",
      "Summary: (8, 48, [1, 3, 5, 9, 12, 9, 5, 3, 1], False, True, 'A4')\n"
     ]
    },
    {
     "data": {
      "application/vnd.jupyter.widget-view+json": {
       "model_id": "db202675be314042ba625f523354a5e3",
       "version_major": 2,
       "version_minor": 0
      },
      "text/plain": [
       "0it [00:00, ?it/s]"
      ]
     },
     "metadata": {},
     "output_type": "display_data"
    },
    {
     "name": "stdout",
     "output_type": "stream",
     "text": [
      "Enumerating monochromatic designs on level 3\n"
     ]
    },
    {
     "data": {
      "application/vnd.jupyter.widget-view+json": {
       "model_id": "98ff6ae510854c1ca2a12f79a9d5d592",
       "version_major": 2,
       "version_minor": 0
      },
      "text/plain": [
       "0it [00:00, ?it/s]"
      ]
     },
     "metadata": {},
     "output_type": "display_data"
    },
    {
     "name": "stdout",
     "output_type": "stream",
     "text": [
      "Enumerating monochromatic designs on level 4\n"
     ]
    },
    {
     "data": {
      "application/vnd.jupyter.widget-view+json": {
       "model_id": "90c0b59f17f2406a93ca0120fec8a674",
       "version_major": 2,
       "version_minor": 0
      },
      "text/plain": [
       "0it [00:00, ?it/s]"
      ]
     },
     "metadata": {},
     "output_type": "display_data"
    },
    {
     "name": "stdout",
     "output_type": "stream",
     "text": [
      "Testing 0 designs with WL... (triangles only)\n"
     ]
    },
    {
     "data": {
      "application/vnd.jupyter.widget-view+json": {
       "model_id": "39325f2b7b674fbe8983d5cf23a2d2eb",
       "version_major": 2,
       "version_minor": 0
      },
      "text/plain": [
       "0it [00:00, ?it/s]"
      ]
     },
     "metadata": {},
     "output_type": "display_data"
    },
    {
     "name": "stdout",
     "output_type": "stream",
     "text": [
      "Searching for coherent refinements of <SAS of degree 8 and ranks [1, 4, 9, 16, 20, 16, 9, 4, 1]>\n",
      "Summary: (8, 80, [1, 4, 9, 16, 20, 16, 9, 4, 1], False, True, 'S3')\n"
     ]
    },
    {
     "data": {
      "application/vnd.jupyter.widget-view+json": {
       "model_id": "2a6846bfcc2a4c8aaa1c5c65c031d36c",
       "version_major": 2,
       "version_minor": 0
      },
      "text/plain": [
       "0it [00:00, ?it/s]"
      ]
     },
     "metadata": {},
     "output_type": "display_data"
    },
    {
     "name": "stdout",
     "output_type": "stream",
     "text": [
      "Enumerating monochromatic designs on level 2\n"
     ]
    },
    {
     "data": {
      "application/vnd.jupyter.widget-view+json": {
       "model_id": "525ccd8953c146fb82fd3504177b67bf",
       "version_major": 2,
       "version_minor": 0
      },
      "text/plain": [
       "0it [00:00, ?it/s]"
      ]
     },
     "metadata": {},
     "output_type": "display_data"
    },
    {
     "name": "stdout",
     "output_type": "stream",
     "text": [
      "Enumerating monochromatic designs on level 3\n"
     ]
    },
    {
     "data": {
      "application/vnd.jupyter.widget-view+json": {
       "model_id": "560aabc44e894778be5cfa40a3a7b6f2",
       "version_major": 2,
       "version_minor": 0
      },
      "text/plain": [
       "0it [00:00, ?it/s]"
      ]
     },
     "metadata": {},
     "output_type": "display_data"
    },
    {
     "name": "stdout",
     "output_type": "stream",
     "text": [
      "Enumerating monochromatic designs on level 4\n"
     ]
    },
    {
     "data": {
      "application/vnd.jupyter.widget-view+json": {
       "model_id": "5dd430fcde2241a2883fbf168db61ce7",
       "version_major": 2,
       "version_minor": 0
      },
      "text/plain": [
       "0it [00:00, ?it/s]"
      ]
     },
     "metadata": {},
     "output_type": "display_data"
    },
    {
     "name": "stdout",
     "output_type": "stream",
     "text": [
      "Testing 1 designs with WL... (triangles only)\n"
     ]
    },
    {
     "data": {
      "application/vnd.jupyter.widget-view+json": {
       "model_id": "85bc603ea3944a70a5349f95197cd240",
       "version_major": 2,
       "version_minor": 0
      },
      "text/plain": [
       "  0%|          | 0/1 [00:00<?, ?it/s]"
      ]
     },
     "metadata": {},
     "output_type": "display_data"
    },
    {
     "name": "stdout",
     "output_type": "stream",
     "text": [
      "Searching for coherent refinements of <SAS of degree 8 and ranks [1, 3, 6, 11, 14, 11, 6, 3, 1]>\n",
      "Summary: (8, 56, [1, 3, 6, 11, 14, 11, 6, 3, 1], False, True, 'C6')\n"
     ]
    },
    {
     "data": {
      "application/vnd.jupyter.widget-view+json": {
       "model_id": "2a3b294d44ef44bd9fdf58ff88c139ab",
       "version_major": 2,
       "version_minor": 0
      },
      "text/plain": [
       "0it [00:00, ?it/s]"
      ]
     },
     "metadata": {},
     "output_type": "display_data"
    },
    {
     "name": "stdout",
     "output_type": "stream",
     "text": [
      "Enumerating monochromatic designs on level 3\n"
     ]
    },
    {
     "data": {
      "application/vnd.jupyter.widget-view+json": {
       "model_id": "d420fabd1f6e4f3f8cd85bda0072eba4",
       "version_major": 2,
       "version_minor": 0
      },
      "text/plain": [
       "0it [00:00, ?it/s]"
      ]
     },
     "metadata": {},
     "output_type": "display_data"
    },
    {
     "name": "stdout",
     "output_type": "stream",
     "text": [
      "Enumerating monochromatic designs on level 4\n"
     ]
    },
    {
     "data": {
      "application/vnd.jupyter.widget-view+json": {
       "model_id": "28347ef206f84378a280d4426eb0c29f",
       "version_major": 2,
       "version_minor": 0
      },
      "text/plain": [
       "0it [00:00, ?it/s]"
      ]
     },
     "metadata": {},
     "output_type": "display_data"
    },
    {
     "name": "stdout",
     "output_type": "stream",
     "text": [
      "Testing 0 designs with WL... (triangles only)\n"
     ]
    },
    {
     "data": {
      "application/vnd.jupyter.widget-view+json": {
       "model_id": "15a412df97df411e8b0fd97187ac040f",
       "version_major": 2,
       "version_minor": 0
      },
      "text/plain": [
       "0it [00:00, ?it/s]"
      ]
     },
     "metadata": {},
     "output_type": "display_data"
    },
    {
     "name": "stdout",
     "output_type": "stream",
     "text": [
      "Searching for coherent refinements of <SAS of degree 8 and ranks [1, 3, 7, 13, 16, 13, 7, 3, 1]>\n",
      "Summary: (8, 64, [1, 3, 7, 13, 16, 13, 7, 3, 1], False, True, 'S3')\n"
     ]
    },
    {
     "data": {
      "application/vnd.jupyter.widget-view+json": {
       "model_id": "625ac84b14534a5f85f73b1b9d79a4c8",
       "version_major": 2,
       "version_minor": 0
      },
      "text/plain": [
       "0it [00:00, ?it/s]"
      ]
     },
     "metadata": {},
     "output_type": "display_data"
    },
    {
     "name": "stdout",
     "output_type": "stream",
     "text": [
      "Enumerating monochromatic designs on level 2\n"
     ]
    },
    {
     "data": {
      "application/vnd.jupyter.widget-view+json": {
       "model_id": "ff46ae28bb8e44d99697b1f8142f5e5a",
       "version_major": 2,
       "version_minor": 0
      },
      "text/plain": [
       "0it [00:00, ?it/s]"
      ]
     },
     "metadata": {},
     "output_type": "display_data"
    },
    {
     "name": "stdout",
     "output_type": "stream",
     "text": [
      "Enumerating monochromatic designs on level 3\n"
     ]
    },
    {
     "data": {
      "application/vnd.jupyter.widget-view+json": {
       "model_id": "1d0cbca34353489f97612e5cdaef8028",
       "version_major": 2,
       "version_minor": 0
      },
      "text/plain": [
       "0it [00:00, ?it/s]"
      ]
     },
     "metadata": {},
     "output_type": "display_data"
    },
    {
     "name": "stdout",
     "output_type": "stream",
     "text": [
      "Enumerating monochromatic designs on level 4\n"
     ]
    },
    {
     "data": {
      "application/vnd.jupyter.widget-view+json": {
       "model_id": "164516a97e664c5ea3ead7d8d1e82c82",
       "version_major": 2,
       "version_minor": 0
      },
      "text/plain": [
       "0it [00:00, ?it/s]"
      ]
     },
     "metadata": {},
     "output_type": "display_data"
    },
    {
     "name": "stdout",
     "output_type": "stream",
     "text": [
      "Testing 0 designs with WL... (triangles only)\n"
     ]
    },
    {
     "data": {
      "application/vnd.jupyter.widget-view+json": {
       "model_id": "9f2954d894194098b998f27995bd7e8d",
       "version_major": 2,
       "version_minor": 0
      },
      "text/plain": [
       "0it [00:00, ?it/s]"
      ]
     },
     "metadata": {},
     "output_type": "display_data"
    },
    {
     "name": "stdout",
     "output_type": "stream",
     "text": [
      "Searching for coherent refinements of <SAS of degree 8 and ranks [1, 4, 11, 20, 24, 20, 11, 4, 1]>\n",
      "Summary: (8, 96, [1, 4, 11, 20, 24, 20, 11, 4, 1], False, True, 'C2 x C2')\n"
     ]
    },
    {
     "data": {
      "application/vnd.jupyter.widget-view+json": {
       "model_id": "b61797039414414cb54fa211a0072cab",
       "version_major": 2,
       "version_minor": 0
      },
      "text/plain": [
       "0it [00:00, ?it/s]"
      ]
     },
     "metadata": {},
     "output_type": "display_data"
    },
    {
     "name": "stdout",
     "output_type": "stream",
     "text": [
      "Enumerating monochromatic designs on level 2\n"
     ]
    },
    {
     "data": {
      "application/vnd.jupyter.widget-view+json": {
       "model_id": "522cfa56d6d9475a9188cf820f16730e",
       "version_major": 2,
       "version_minor": 0
      },
      "text/plain": [
       "0it [00:00, ?it/s]"
      ]
     },
     "metadata": {},
     "output_type": "display_data"
    },
    {
     "name": "stdout",
     "output_type": "stream",
     "text": [
      "Enumerating monochromatic designs on level 3\n"
     ]
    },
    {
     "data": {
      "application/vnd.jupyter.widget-view+json": {
       "model_id": "68d83f3407f24efea471e6d6f6691793",
       "version_major": 2,
       "version_minor": 0
      },
      "text/plain": [
       "0it [00:00, ?it/s]"
      ]
     },
     "metadata": {},
     "output_type": "display_data"
    },
    {
     "name": "stdout",
     "output_type": "stream",
     "text": [
      "Enumerating monochromatic designs on level 4\n"
     ]
    },
    {
     "data": {
      "application/vnd.jupyter.widget-view+json": {
       "model_id": "c62b8251dccf4a6f810632c999a63562",
       "version_major": 2,
       "version_minor": 0
      },
      "text/plain": [
       "0it [00:00, ?it/s]"
      ]
     },
     "metadata": {},
     "output_type": "display_data"
    },
    {
     "name": "stdout",
     "output_type": "stream",
     "text": [
      "Testing 0 designs with WL... (triangles only)\n"
     ]
    },
    {
     "data": {
      "application/vnd.jupyter.widget-view+json": {
       "model_id": "03ef0eb6c0be4a169bc1e7e11799d18e",
       "version_major": 2,
       "version_minor": 0
      },
      "text/plain": [
       "0it [00:00, ?it/s]"
      ]
     },
     "metadata": {},
     "output_type": "display_data"
    },
    {
     "name": "stdout",
     "output_type": "stream",
     "text": [
      "Searching for coherent refinements of <SAS of degree 8 and ranks [1, 3, 5, 8, 10, 8, 5, 3, 1]>\n",
      "Summary: (8, 44, [1, 3, 5, 8, 10, 8, 5, 3, 1], False, True, 'S4')\n"
     ]
    },
    {
     "data": {
      "application/vnd.jupyter.widget-view+json": {
       "model_id": "67dd13a46c464b4abdac2053824752a7",
       "version_major": 2,
       "version_minor": 0
      },
      "text/plain": [
       "0it [00:00, ?it/s]"
      ]
     },
     "metadata": {},
     "output_type": "display_data"
    },
    {
     "name": "stdout",
     "output_type": "stream",
     "text": [
      "Enumerating monochromatic designs on level 3\n"
     ]
    },
    {
     "data": {
      "application/vnd.jupyter.widget-view+json": {
       "model_id": "63cbbaf9ff9e42d2a3a950f58d248f90",
       "version_major": 2,
       "version_minor": 0
      },
      "text/plain": [
       "0it [00:00, ?it/s]"
      ]
     },
     "metadata": {},
     "output_type": "display_data"
    },
    {
     "name": "stdout",
     "output_type": "stream",
     "text": [
      "Enumerating monochromatic designs on level 4\n"
     ]
    },
    {
     "data": {
      "application/vnd.jupyter.widget-view+json": {
       "model_id": "8efb6617d9ae443e85e1492927e67adf",
       "version_major": 2,
       "version_minor": 0
      },
      "text/plain": [
       "0it [00:00, ?it/s]"
      ]
     },
     "metadata": {},
     "output_type": "display_data"
    },
    {
     "name": "stdout",
     "output_type": "stream",
     "text": [
      "Testing 1 designs with WL... (triangles only)\n"
     ]
    },
    {
     "data": {
      "application/vnd.jupyter.widget-view+json": {
       "model_id": "3a38682386c9426794eadeb3e90d1c71",
       "version_major": 2,
       "version_minor": 0
      },
      "text/plain": [
       "  0%|          | 0/1 [00:00<?, ?it/s]"
      ]
     },
     "metadata": {},
     "output_type": "display_data"
    },
    {
     "name": "stdout",
     "output_type": "stream",
     "text": [
      "Found: <SAS of degree 8 and ranks [1, 3, 5, 9, 12, 9, 5, 3, 1]>\n",
      "Summary: (8, 48, [1, 3, 5, 9, 12, 9, 5, 3, 1], False, True, 'A4')\n",
      "Searching for coherent refinements of <SAS of degree 8 and ranks [1, 3, 5, 8, 10, 8, 5, 3, 1]>\n",
      "Summary: (8, 44, [1, 3, 5, 8, 10, 8, 5, 3, 1], False, True, 'C2 x A4')\n"
     ]
    },
    {
     "data": {
      "application/vnd.jupyter.widget-view+json": {
       "model_id": "47c4418cecf64f20954b23db87e98bea",
       "version_major": 2,
       "version_minor": 0
      },
      "text/plain": [
       "0it [00:00, ?it/s]"
      ]
     },
     "metadata": {},
     "output_type": "display_data"
    },
    {
     "name": "stdout",
     "output_type": "stream",
     "text": [
      "Enumerating monochromatic designs on level 3\n"
     ]
    },
    {
     "data": {
      "application/vnd.jupyter.widget-view+json": {
       "model_id": "6ec502ca0e3d4a4182d2933483cf7594",
       "version_major": 2,
       "version_minor": 0
      },
      "text/plain": [
       "0it [00:00, ?it/s]"
      ]
     },
     "metadata": {},
     "output_type": "display_data"
    },
    {
     "name": "stdout",
     "output_type": "stream",
     "text": [
      "Enumerating monochromatic designs on level 4\n"
     ]
    },
    {
     "data": {
      "application/vnd.jupyter.widget-view+json": {
       "model_id": "89ba93bed1c345479a6f493a061a75ba",
       "version_major": 2,
       "version_minor": 0
      },
      "text/plain": [
       "0it [00:00, ?it/s]"
      ]
     },
     "metadata": {},
     "output_type": "display_data"
    },
    {
     "name": "stdout",
     "output_type": "stream",
     "text": [
      "Testing 1 designs with WL... (triangles only)\n"
     ]
    },
    {
     "data": {
      "application/vnd.jupyter.widget-view+json": {
       "model_id": "53a3c77c70b845f1898a8e4fc15cdadd",
       "version_major": 2,
       "version_minor": 0
      },
      "text/plain": [
       "  0%|          | 0/1 [00:00<?, ?it/s]"
      ]
     },
     "metadata": {},
     "output_type": "display_data"
    },
    {
     "name": "stdout",
     "output_type": "stream",
     "text": [
      "Searching for coherent refinements of <SAS of degree 8 and ranks [1, 1, 4, 7, 11, 7, 4, 1, 1]>\n",
      "Summary: (8, 37, [1, 1, 4, 7, 11, 7, 4, 1, 1], True, True, 'Q8')\n"
     ]
    },
    {
     "data": {
      "application/vnd.jupyter.widget-view+json": {
       "model_id": "5707078dfe8f4276bd092ec36c7b1615",
       "version_major": 2,
       "version_minor": 0
      },
      "text/plain": [
       "0it [00:00, ?it/s]"
      ]
     },
     "metadata": {},
     "output_type": "display_data"
    },
    {
     "name": "stdout",
     "output_type": "stream",
     "text": [
      "Enumerating monochromatic designs on level 4\n"
     ]
    },
    {
     "data": {
      "application/vnd.jupyter.widget-view+json": {
       "model_id": "20178df0d1014ad58d9ae4e284d5909c",
       "version_major": 2,
       "version_minor": 0
      },
      "text/plain": [
       "0it [00:00, ?it/s]"
      ]
     },
     "metadata": {},
     "output_type": "display_data"
    },
    {
     "name": "stdout",
     "output_type": "stream",
     "text": [
      "Testing 0 designs with WL... (triangles only)\n"
     ]
    },
    {
     "data": {
      "application/vnd.jupyter.widget-view+json": {
       "model_id": "699ce08e597340ce88ca14e8477e6e12",
       "version_major": 2,
       "version_minor": 0
      },
      "text/plain": [
       "0it [00:00, ?it/s]"
      ]
     },
     "metadata": {},
     "output_type": "display_data"
    },
    {
     "name": "stdout",
     "output_type": "stream",
     "text": [
      "Searching for coherent refinements of <SAS of degree 8 and ranks [1, 2, 6, 9, 13, 9, 6, 2, 1]>\n",
      "Summary: (8, 49, [1, 2, 6, 9, 13, 9, 6, 2, 1], False, False, 'C4 x C2')\n"
     ]
    },
    {
     "data": {
      "application/vnd.jupyter.widget-view+json": {
       "model_id": "fb03c1b9d6594db883661bea85ad403d",
       "version_major": 2,
       "version_minor": 0
      },
      "text/plain": [
       "0it [00:00, ?it/s]"
      ]
     },
     "metadata": {},
     "output_type": "display_data"
    },
    {
     "name": "stdout",
     "output_type": "stream",
     "text": [
      "Enumerating monochromatic designs on level 4\n"
     ]
    },
    {
     "data": {
      "application/vnd.jupyter.widget-view+json": {
       "model_id": "032e8ff751ca48cca9722867327a63bf",
       "version_major": 2,
       "version_minor": 0
      },
      "text/plain": [
       "0it [00:00, ?it/s]"
      ]
     },
     "metadata": {},
     "output_type": "display_data"
    },
    {
     "name": "stdout",
     "output_type": "stream",
     "text": [
      "Testing 0 designs with WL... (triangles only)\n"
     ]
    },
    {
     "data": {
      "application/vnd.jupyter.widget-view+json": {
       "model_id": "a4b491abb2d946eb8b2ccba0713387ef",
       "version_major": 2,
       "version_minor": 0
      },
      "text/plain": [
       "0it [00:00, ?it/s]"
      ]
     },
     "metadata": {},
     "output_type": "display_data"
    },
    {
     "name": "stdout",
     "output_type": "stream",
     "text": [
      "Searching for coherent refinements of <SAS of degree 8 and ranks [1, 2, 6, 10, 13, 10, 6, 2, 1]>\n",
      "Summary: (8, 51, [1, 2, 6, 10, 13, 10, 6, 2, 1], False, False, 'C4 x C2')\n"
     ]
    },
    {
     "data": {
      "application/vnd.jupyter.widget-view+json": {
       "model_id": "2ca039a5717b4415ac5ae16abcb346e0",
       "version_major": 2,
       "version_minor": 0
      },
      "text/plain": [
       "0it [00:00, ?it/s]"
      ]
     },
     "metadata": {},
     "output_type": "display_data"
    },
    {
     "name": "stdout",
     "output_type": "stream",
     "text": [
      "Enumerating monochromatic designs on level 3\n"
     ]
    },
    {
     "data": {
      "application/vnd.jupyter.widget-view+json": {
       "model_id": "194eca9de4284d21bd3a529e6fccdab0",
       "version_major": 2,
       "version_minor": 0
      },
      "text/plain": [
       "0it [00:00, ?it/s]"
      ]
     },
     "metadata": {},
     "output_type": "display_data"
    },
    {
     "name": "stdout",
     "output_type": "stream",
     "text": [
      "Enumerating monochromatic designs on level 4\n"
     ]
    },
    {
     "data": {
      "application/vnd.jupyter.widget-view+json": {
       "model_id": "c24fcc3c4fa24fadae12a09b1f860553",
       "version_major": 2,
       "version_minor": 0
      },
      "text/plain": [
       "0it [00:00, ?it/s]"
      ]
     },
     "metadata": {},
     "output_type": "display_data"
    },
    {
     "name": "stdout",
     "output_type": "stream",
     "text": [
      "Testing 2 designs with WL... (triangles only)\n"
     ]
    },
    {
     "data": {
      "application/vnd.jupyter.widget-view+json": {
       "model_id": "ff81b70470434712abbcb12ceb2462fd",
       "version_major": 2,
       "version_minor": 0
      },
      "text/plain": [
       "  0%|          | 0/2 [00:00<?, ?it/s]"
      ]
     },
     "metadata": {},
     "output_type": "display_data"
    },
    {
     "name": "stdout",
     "output_type": "stream",
     "text": [
      "Found: <SAS of degree 8 and ranks [1, 2, 6, 10, 14, 10, 6, 2, 1]>\n",
      "Summary: (8, 52, [1, 2, 6, 10, 14, 10, 6, 2, 1], False, True, 'C4 x C2')\n",
      "Searching for coherent refinements of <SAS of degree 8 and ranks [1, 2, 6, 7, 10, 7, 6, 2, 1]>\n",
      "Summary: (8, 42, [1, 2, 6, 7, 10, 7, 6, 2, 1], False, True, 'C2 x C2 x D4')\n"
     ]
    },
    {
     "data": {
      "application/vnd.jupyter.widget-view+json": {
       "model_id": "8b7401e853094ba9857fb30865656b98",
       "version_major": 2,
       "version_minor": 0
      },
      "text/plain": [
       "0it [00:00, ?it/s]"
      ]
     },
     "metadata": {},
     "output_type": "display_data"
    },
    {
     "name": "stdout",
     "output_type": "stream",
     "text": [
      "Enumerating monochromatic designs on level 2\n"
     ]
    },
    {
     "data": {
      "application/vnd.jupyter.widget-view+json": {
       "model_id": "eebf14ea573a45b5bfbc3ee5d8361a21",
       "version_major": 2,
       "version_minor": 0
      },
      "text/plain": [
       "0it [00:00, ?it/s]"
      ]
     },
     "metadata": {},
     "output_type": "display_data"
    },
    {
     "name": "stdout",
     "output_type": "stream",
     "text": [
      "Enumerating monochromatic designs on level 3\n"
     ]
    },
    {
     "data": {
      "application/vnd.jupyter.widget-view+json": {
       "model_id": "75a3482e9ae9422b80cc693d48a7b157",
       "version_major": 2,
       "version_minor": 0
      },
      "text/plain": [
       "0it [00:00, ?it/s]"
      ]
     },
     "metadata": {},
     "output_type": "display_data"
    },
    {
     "name": "stdout",
     "output_type": "stream",
     "text": [
      "Enumerating monochromatic designs on level 4\n"
     ]
    },
    {
     "data": {
      "application/vnd.jupyter.widget-view+json": {
       "model_id": "4e8a98a1194341aeaf8c45ebe9ce3baa",
       "version_major": 2,
       "version_minor": 0
      },
      "text/plain": [
       "0it [00:00, ?it/s]"
      ]
     },
     "metadata": {},
     "output_type": "display_data"
    },
    {
     "name": "stdout",
     "output_type": "stream",
     "text": [
      "Testing 7 designs with WL... (triangles only)\n"
     ]
    },
    {
     "data": {
      "application/vnd.jupyter.widget-view+json": {
       "model_id": "9ffbabf27dfa4f55af33243979df2494",
       "version_major": 2,
       "version_minor": 0
      },
      "text/plain": [
       "  0%|          | 0/7 [00:00<?, ?it/s]"
      ]
     },
     "metadata": {},
     "output_type": "display_data"
    },
    {
     "name": "stdout",
     "output_type": "stream",
     "text": [
      "Found: <SAS of degree 8 and ranks [1, 2, 7, 8, 13, 8, 7, 2, 1]>\n",
      "Summary: (8, 49, [1, 2, 7, 8, 13, 8, 7, 2, 1], False, True, 'C2 x C2 x C2 x C2')\n",
      "Searching for coherent refinements of <SAS of degree 8 and ranks [1, 2, 6, 8, 11, 8, 6, 2, 1]>\n",
      "Summary: (8, 45, [1, 2, 6, 8, 11, 8, 6, 2, 1], False, True, 'C2 x D4')\n"
     ]
    },
    {
     "data": {
      "application/vnd.jupyter.widget-view+json": {
       "model_id": "36b001b5679a4925a63884b1680193c1",
       "version_major": 2,
       "version_minor": 0
      },
      "text/plain": [
       "0it [00:00, ?it/s]"
      ]
     },
     "metadata": {},
     "output_type": "display_data"
    },
    {
     "name": "stdout",
     "output_type": "stream",
     "text": [
      "Enumerating monochromatic designs on level 3\n"
     ]
    },
    {
     "data": {
      "application/vnd.jupyter.widget-view+json": {
       "model_id": "65ce018208e44370a269b7edfa48d288",
       "version_major": 2,
       "version_minor": 0
      },
      "text/plain": [
       "0it [00:00, ?it/s]"
      ]
     },
     "metadata": {},
     "output_type": "display_data"
    },
    {
     "name": "stdout",
     "output_type": "stream",
     "text": [
      "Enumerating monochromatic designs on level 4\n"
     ]
    },
    {
     "data": {
      "application/vnd.jupyter.widget-view+json": {
       "model_id": "d19397ca62414082a62f0071ad6a5439",
       "version_major": 2,
       "version_minor": 0
      },
      "text/plain": [
       "0it [00:00, ?it/s]"
      ]
     },
     "metadata": {},
     "output_type": "display_data"
    },
    {
     "name": "stdout",
     "output_type": "stream",
     "text": [
      "Testing 0 designs with WL... (triangles only)\n"
     ]
    },
    {
     "data": {
      "application/vnd.jupyter.widget-view+json": {
       "model_id": "6d5cbf5d728b4a2395b27a2a03af2ca5",
       "version_major": 2,
       "version_minor": 0
      },
      "text/plain": [
       "0it [00:00, ?it/s]"
      ]
     },
     "metadata": {},
     "output_type": "display_data"
    },
    {
     "name": "stdout",
     "output_type": "stream",
     "text": [
      "Searching for coherent refinements of <SAS of degree 8 and ranks [1, 2, 5, 6, 9, 6, 5, 2, 1]>\n",
      "Summary: (8, 37, [1, 2, 5, 6, 9, 6, 5, 2, 1], False, True, '(C2 x C2 x C2 x C2) : C2')\n"
     ]
    },
    {
     "data": {
      "application/vnd.jupyter.widget-view+json": {
       "model_id": "9b731f456ce24c52b7187d9d2e97209e",
       "version_major": 2,
       "version_minor": 0
      },
      "text/plain": [
       "0it [00:00, ?it/s]"
      ]
     },
     "metadata": {},
     "output_type": "display_data"
    },
    {
     "name": "stdout",
     "output_type": "stream",
     "text": [
      "Enumerating monochromatic designs on level 4\n"
     ]
    },
    {
     "data": {
      "application/vnd.jupyter.widget-view+json": {
       "model_id": "9b3bc1cc4a634cb399b2f269f56c4b50",
       "version_major": 2,
       "version_minor": 0
      },
      "text/plain": [
       "0it [00:00, ?it/s]"
      ]
     },
     "metadata": {},
     "output_type": "display_data"
    },
    {
     "name": "stdout",
     "output_type": "stream",
     "text": [
      "Testing 0 designs with WL... (triangles only)\n"
     ]
    },
    {
     "data": {
      "application/vnd.jupyter.widget-view+json": {
       "model_id": "3f14c5418eeb47a69f7f053c4d8d7bec",
       "version_major": 2,
       "version_minor": 0
      },
      "text/plain": [
       "0it [00:00, ?it/s]"
      ]
     },
     "metadata": {},
     "output_type": "display_data"
    },
    {
     "name": "stdout",
     "output_type": "stream",
     "text": [
      "Searching for coherent refinements of <SAS of degree 8 and ranks [1, 2, 5, 7, 10, 7, 5, 2, 1]>\n",
      "Summary: (8, 40, [1, 2, 5, 7, 10, 7, 5, 2, 1], False, True, '(C4 x C2) : C2')\n"
     ]
    },
    {
     "data": {
      "application/vnd.jupyter.widget-view+json": {
       "model_id": "ac0097000b1046d292573cfc7ed203b7",
       "version_major": 2,
       "version_minor": 0
      },
      "text/plain": [
       "0it [00:00, ?it/s]"
      ]
     },
     "metadata": {},
     "output_type": "display_data"
    },
    {
     "name": "stdout",
     "output_type": "stream",
     "text": [
      "Enumerating monochromatic designs on level 4\n"
     ]
    },
    {
     "data": {
      "application/vnd.jupyter.widget-view+json": {
       "model_id": "cf47432b3c4e411b8ce8127220be9845",
       "version_major": 2,
       "version_minor": 0
      },
      "text/plain": [
       "0it [00:00, ?it/s]"
      ]
     },
     "metadata": {},
     "output_type": "display_data"
    },
    {
     "name": "stdout",
     "output_type": "stream",
     "text": [
      "Testing 0 designs with WL... (triangles only)\n"
     ]
    },
    {
     "data": {
      "application/vnd.jupyter.widget-view+json": {
       "model_id": "fb51b0f035464a49bf0bd1110f476f17",
       "version_major": 2,
       "version_minor": 0
      },
      "text/plain": [
       "0it [00:00, ?it/s]"
      ]
     },
     "metadata": {},
     "output_type": "display_data"
    },
    {
     "name": "stdout",
     "output_type": "stream",
     "text": [
      "Searching for coherent refinements of <SAS of degree 8 and ranks [1, 2, 5, 8, 10, 8, 5, 2, 1]>\n",
      "Summary: (8, 42, [1, 2, 5, 8, 10, 8, 5, 2, 1], False, True, 'C2 x D4')\n"
     ]
    },
    {
     "data": {
      "application/vnd.jupyter.widget-view+json": {
       "model_id": "a55cd6f63ae34a519cd7601a028aa537",
       "version_major": 2,
       "version_minor": 0
      },
      "text/plain": [
       "0it [00:00, ?it/s]"
      ]
     },
     "metadata": {},
     "output_type": "display_data"
    },
    {
     "name": "stdout",
     "output_type": "stream",
     "text": [
      "Enumerating monochromatic designs on level 3\n"
     ]
    },
    {
     "data": {
      "application/vnd.jupyter.widget-view+json": {
       "model_id": "47660f2b10ab4c569672c59c3dfd2be0",
       "version_major": 2,
       "version_minor": 0
      },
      "text/plain": [
       "0it [00:00, ?it/s]"
      ]
     },
     "metadata": {},
     "output_type": "display_data"
    },
    {
     "name": "stdout",
     "output_type": "stream",
     "text": [
      "Enumerating monochromatic designs on level 4\n"
     ]
    },
    {
     "data": {
      "application/vnd.jupyter.widget-view+json": {
       "model_id": "c5f93351f3f1403e85210d8aab7301c0",
       "version_major": 2,
       "version_minor": 0
      },
      "text/plain": [
       "0it [00:00, ?it/s]"
      ]
     },
     "metadata": {},
     "output_type": "display_data"
    },
    {
     "name": "stdout",
     "output_type": "stream",
     "text": [
      "Testing 1 designs with WL... (triangles only)\n"
     ]
    },
    {
     "data": {
      "application/vnd.jupyter.widget-view+json": {
       "model_id": "bce5e86ad248424e99c06872ad8fb713",
       "version_major": 2,
       "version_minor": 0
      },
      "text/plain": [
       "  0%|          | 0/1 [00:00<?, ?it/s]"
      ]
     },
     "metadata": {},
     "output_type": "display_data"
    },
    {
     "name": "stdout",
     "output_type": "stream",
     "text": [
      "Found: <SAS of degree 8 and ranks [1, 2, 5, 8, 11, 8, 5, 2, 1]>\n",
      "Summary: (8, 43, [1, 2, 5, 8, 11, 8, 5, 2, 1], False, False, 'C4 x C2')\n",
      "Searching for coherent refinements of <SAS of degree 8 and ranks [1, 3, 8, 12, 16, 12, 8, 3, 1]>\n",
      "Summary: (8, 64, [1, 3, 8, 12, 16, 12, 8, 3, 1], False, True, 'D4')\n"
     ]
    },
    {
     "data": {
      "application/vnd.jupyter.widget-view+json": {
       "model_id": "9057e76efc8d414fb64a3f3cc4460769",
       "version_major": 2,
       "version_minor": 0
      },
      "text/plain": [
       "0it [00:00, ?it/s]"
      ]
     },
     "metadata": {},
     "output_type": "display_data"
    },
    {
     "name": "stdout",
     "output_type": "stream",
     "text": [
      "Enumerating monochromatic designs on level 4\n"
     ]
    },
    {
     "data": {
      "application/vnd.jupyter.widget-view+json": {
       "model_id": "816a3c83c5714600b768d8a743a1538d",
       "version_major": 2,
       "version_minor": 0
      },
      "text/plain": [
       "0it [00:00, ?it/s]"
      ]
     },
     "metadata": {},
     "output_type": "display_data"
    },
    {
     "name": "stdout",
     "output_type": "stream",
     "text": [
      "Testing 0 designs with WL... (triangles only)\n"
     ]
    },
    {
     "data": {
      "application/vnd.jupyter.widget-view+json": {
       "model_id": "ba5e8c5dfc9f4b65b7a1d294bb551a12",
       "version_major": 2,
       "version_minor": 0
      },
      "text/plain": [
       "0it [00:00, ?it/s]"
      ]
     },
     "metadata": {},
     "output_type": "display_data"
    },
    {
     "name": "stdout",
     "output_type": "stream",
     "text": [
      "Searching for coherent refinements of <SAS of degree 8 and ranks [1, 3, 8, 13, 16, 13, 8, 3, 1]>\n",
      "Summary: (8, 66, [1, 3, 8, 13, 16, 13, 8, 3, 1], False, True, 'D4')\n"
     ]
    },
    {
     "data": {
      "application/vnd.jupyter.widget-view+json": {
       "model_id": "bdda6a5552f747039726f1fa26367000",
       "version_major": 2,
       "version_minor": 0
      },
      "text/plain": [
       "0it [00:00, ?it/s]"
      ]
     },
     "metadata": {},
     "output_type": "display_data"
    },
    {
     "name": "stdout",
     "output_type": "stream",
     "text": [
      "Enumerating monochromatic designs on level 3\n"
     ]
    },
    {
     "data": {
      "application/vnd.jupyter.widget-view+json": {
       "model_id": "117f1cc502e943b28b05a0ef2fa3133b",
       "version_major": 2,
       "version_minor": 0
      },
      "text/plain": [
       "0it [00:00, ?it/s]"
      ]
     },
     "metadata": {},
     "output_type": "display_data"
    },
    {
     "name": "stdout",
     "output_type": "stream",
     "text": [
      "Enumerating monochromatic designs on level 4\n"
     ]
    },
    {
     "data": {
      "application/vnd.jupyter.widget-view+json": {
       "model_id": "1c0660f548a54c53b8d5a3e36c640446",
       "version_major": 2,
       "version_minor": 0
      },
      "text/plain": [
       "0it [00:00, ?it/s]"
      ]
     },
     "metadata": {},
     "output_type": "display_data"
    },
    {
     "name": "stdout",
     "output_type": "stream",
     "text": [
      "Testing 1 designs with WL... (triangles only)\n"
     ]
    },
    {
     "data": {
      "application/vnd.jupyter.widget-view+json": {
       "model_id": "dcbd96cbd20e4d58aff687ced4e9af7b",
       "version_major": 2,
       "version_minor": 0
      },
      "text/plain": [
       "  0%|          | 0/1 [00:00<?, ?it/s]"
      ]
     },
     "metadata": {},
     "output_type": "display_data"
    },
    {
     "name": "stdout",
     "output_type": "stream",
     "text": [
      "Searching for coherent refinements of <SAS of degree 8 and ranks [1, 3, 8, 13, 16, 13, 8, 3, 1]>\n",
      "Summary: (8, 66, [1, 3, 8, 13, 16, 13, 8, 3, 1], False, True, 'C4 x C2')\n"
     ]
    },
    {
     "data": {
      "application/vnd.jupyter.widget-view+json": {
       "model_id": "8f3d977bb6974b7cb5858917daf69fab",
       "version_major": 2,
       "version_minor": 0
      },
      "text/plain": [
       "0it [00:00, ?it/s]"
      ]
     },
     "metadata": {},
     "output_type": "display_data"
    },
    {
     "name": "stdout",
     "output_type": "stream",
     "text": [
      "Enumerating monochromatic designs on level 3\n"
     ]
    },
    {
     "data": {
      "application/vnd.jupyter.widget-view+json": {
       "model_id": "f0f9d41975a04be591042eea0b90aabd",
       "version_major": 2,
       "version_minor": 0
      },
      "text/plain": [
       "0it [00:00, ?it/s]"
      ]
     },
     "metadata": {},
     "output_type": "display_data"
    },
    {
     "name": "stdout",
     "output_type": "stream",
     "text": [
      "Enumerating monochromatic designs on level 4\n"
     ]
    },
    {
     "data": {
      "application/vnd.jupyter.widget-view+json": {
       "model_id": "e9e207f374244247807f997e4b81a7b5",
       "version_major": 2,
       "version_minor": 0
      },
      "text/plain": [
       "0it [00:00, ?it/s]"
      ]
     },
     "metadata": {},
     "output_type": "display_data"
    },
    {
     "name": "stdout",
     "output_type": "stream",
     "text": [
      "Testing 1 designs with WL... (triangles only)\n"
     ]
    },
    {
     "data": {
      "application/vnd.jupyter.widget-view+json": {
       "model_id": "f1a243ef49974d4d9566e99aee9b9567",
       "version_major": 2,
       "version_minor": 0
      },
      "text/plain": [
       "  0%|          | 0/1 [00:00<?, ?it/s]"
      ]
     },
     "metadata": {},
     "output_type": "display_data"
    },
    {
     "name": "stdout",
     "output_type": "stream",
     "text": [
      "Searching for coherent refinements of <SAS of degree 8 and ranks [1, 3, 7, 10, 13, 10, 7, 3, 1]>\n",
      "Summary: (8, 55, [1, 3, 7, 10, 13, 10, 7, 3, 1], False, True, 'C2 x D4')\n"
     ]
    },
    {
     "data": {
      "application/vnd.jupyter.widget-view+json": {
       "model_id": "ba751bd256504bb0a8a5a52493920565",
       "version_major": 2,
       "version_minor": 0
      },
      "text/plain": [
       "0it [00:00, ?it/s]"
      ]
     },
     "metadata": {},
     "output_type": "display_data"
    },
    {
     "name": "stdout",
     "output_type": "stream",
     "text": [
      "Enumerating monochromatic designs on level 4\n"
     ]
    },
    {
     "data": {
      "application/vnd.jupyter.widget-view+json": {
       "model_id": "3776a546a36e4e5f8a4bd6998f493ea0",
       "version_major": 2,
       "version_minor": 0
      },
      "text/plain": [
       "0it [00:00, ?it/s]"
      ]
     },
     "metadata": {},
     "output_type": "display_data"
    },
    {
     "name": "stdout",
     "output_type": "stream",
     "text": [
      "Testing 0 designs with WL... (triangles only)\n"
     ]
    },
    {
     "data": {
      "application/vnd.jupyter.widget-view+json": {
       "model_id": "87bf5f8cc7364db4831a6ae39cd2358c",
       "version_major": 2,
       "version_minor": 0
      },
      "text/plain": [
       "0it [00:00, ?it/s]"
      ]
     },
     "metadata": {},
     "output_type": "display_data"
    },
    {
     "name": "stdout",
     "output_type": "stream",
     "text": [
      "Searching for coherent refinements of <SAS of degree 8 and ranks [1, 3, 7, 11, 13, 11, 7, 3, 1]>\n",
      "Summary: (8, 57, [1, 3, 7, 11, 13, 11, 7, 3, 1], False, True, 'C2 x D4')\n"
     ]
    },
    {
     "data": {
      "application/vnd.jupyter.widget-view+json": {
       "model_id": "3aad4c100734446d8dda03f2d22aa087",
       "version_major": 2,
       "version_minor": 0
      },
      "text/plain": [
       "0it [00:00, ?it/s]"
      ]
     },
     "metadata": {},
     "output_type": "display_data"
    },
    {
     "name": "stdout",
     "output_type": "stream",
     "text": [
      "Enumerating monochromatic designs on level 3\n"
     ]
    },
    {
     "data": {
      "application/vnd.jupyter.widget-view+json": {
       "model_id": "f72b9757d54349268cf0d60d966cce20",
       "version_major": 2,
       "version_minor": 0
      },
      "text/plain": [
       "0it [00:00, ?it/s]"
      ]
     },
     "metadata": {},
     "output_type": "display_data"
    },
    {
     "name": "stdout",
     "output_type": "stream",
     "text": [
      "Enumerating monochromatic designs on level 4\n"
     ]
    },
    {
     "data": {
      "application/vnd.jupyter.widget-view+json": {
       "model_id": "216c35af5c48467ea053291530768aa2",
       "version_major": 2,
       "version_minor": 0
      },
      "text/plain": [
       "0it [00:00, ?it/s]"
      ]
     },
     "metadata": {},
     "output_type": "display_data"
    },
    {
     "name": "stdout",
     "output_type": "stream",
     "text": [
      "Testing 3 designs with WL... (triangles only)\n"
     ]
    },
    {
     "data": {
      "application/vnd.jupyter.widget-view+json": {
       "model_id": "dec46df1b90a454880698c25319852b1",
       "version_major": 2,
       "version_minor": 0
      },
      "text/plain": [
       "  0%|          | 0/3 [00:00<?, ?it/s]"
      ]
     },
     "metadata": {},
     "output_type": "display_data"
    },
    {
     "name": "stdout",
     "output_type": "stream",
     "text": [
      "Found: <SAS of degree 8 and ranks [1, 3, 8, 13, 16, 13, 8, 3, 1]>\n",
      "Summary: (8, 66, [1, 3, 8, 13, 16, 13, 8, 3, 1], False, True, 'D4')\n",
      "Searching for coherent refinements of <SAS of degree 8 and ranks [1, 3, 8, 11, 14, 11, 8, 3, 1]>\n",
      "Summary: (8, 60, [1, 3, 8, 11, 14, 11, 8, 3, 1], False, True, 'C2 x D4')\n"
     ]
    },
    {
     "data": {
      "application/vnd.jupyter.widget-view+json": {
       "model_id": "4759fc4d2bf84df2b6da3f2343503e95",
       "version_major": 2,
       "version_minor": 0
      },
      "text/plain": [
       "0it [00:00, ?it/s]"
      ]
     },
     "metadata": {},
     "output_type": "display_data"
    },
    {
     "name": "stdout",
     "output_type": "stream",
     "text": [
      "Enumerating monochromatic designs on level 2\n"
     ]
    },
    {
     "data": {
      "application/vnd.jupyter.widget-view+json": {
       "model_id": "8b022147ec05456d8b522ed75c1b6bbe",
       "version_major": 2,
       "version_minor": 0
      },
      "text/plain": [
       "0it [00:00, ?it/s]"
      ]
     },
     "metadata": {},
     "output_type": "display_data"
    },
    {
     "name": "stdout",
     "output_type": "stream",
     "text": [
      "Enumerating monochromatic designs on level 3\n"
     ]
    },
    {
     "data": {
      "application/vnd.jupyter.widget-view+json": {
       "model_id": "a94f2d0b4c9f4477a8772177a1a04e1c",
       "version_major": 2,
       "version_minor": 0
      },
      "text/plain": [
       "0it [00:00, ?it/s]"
      ]
     },
     "metadata": {},
     "output_type": "display_data"
    },
    {
     "name": "stdout",
     "output_type": "stream",
     "text": [
      "Enumerating monochromatic designs on level 4\n"
     ]
    },
    {
     "data": {
      "application/vnd.jupyter.widget-view+json": {
       "model_id": "4cd8684c903546699b69e2d5ecaead33",
       "version_major": 2,
       "version_minor": 0
      },
      "text/plain": [
       "0it [00:00, ?it/s]"
      ]
     },
     "metadata": {},
     "output_type": "display_data"
    },
    {
     "name": "stdout",
     "output_type": "stream",
     "text": [
      "Testing 4 designs with WL... (triangles only)\n"
     ]
    },
    {
     "data": {
      "application/vnd.jupyter.widget-view+json": {
       "model_id": "c27018f3bc9c404d9d2c85e162cc14b9",
       "version_major": 2,
       "version_minor": 0
      },
      "text/plain": [
       "  0%|          | 0/4 [00:00<?, ?it/s]"
      ]
     },
     "metadata": {},
     "output_type": "display_data"
    },
    {
     "name": "stdout",
     "output_type": "stream",
     "text": [
      "Found: <SAS of degree 8 and ranks [1, 3, 9, 13, 18, 13, 9, 3, 1]>\n",
      "Summary: (8, 70, [1, 3, 9, 13, 18, 13, 9, 3, 1], False, True, 'C2 x C2 x C2')\n",
      "Searching for coherent refinements of <SAS of degree 8 and ranks [1, 3, 8, 12, 15, 12, 8, 3, 1]>\n",
      "Summary: (8, 63, [1, 3, 8, 12, 15, 12, 8, 3, 1], False, True, 'C2 x C2 x C2 x C2')\n"
     ]
    },
    {
     "data": {
      "application/vnd.jupyter.widget-view+json": {
       "model_id": "3a38479395074722946ca99f6faebda6",
       "version_major": 2,
       "version_minor": 0
      },
      "text/plain": [
       "0it [00:00, ?it/s]"
      ]
     },
     "metadata": {},
     "output_type": "display_data"
    },
    {
     "name": "stdout",
     "output_type": "stream",
     "text": [
      "Enumerating monochromatic designs on level 2\n"
     ]
    },
    {
     "data": {
      "application/vnd.jupyter.widget-view+json": {
       "model_id": "11f2ed6c97764c1c8cd5fd4a1c7203e2",
       "version_major": 2,
       "version_minor": 0
      },
      "text/plain": [
       "0it [00:00, ?it/s]"
      ]
     },
     "metadata": {},
     "output_type": "display_data"
    },
    {
     "name": "stdout",
     "output_type": "stream",
     "text": [
      "Enumerating monochromatic designs on level 3\n"
     ]
    },
    {
     "data": {
      "application/vnd.jupyter.widget-view+json": {
       "model_id": "9e13e07b26dc4754b9c7ece1be1a88bf",
       "version_major": 2,
       "version_minor": 0
      },
      "text/plain": [
       "0it [00:00, ?it/s]"
      ]
     },
     "metadata": {},
     "output_type": "display_data"
    },
    {
     "name": "stdout",
     "output_type": "stream",
     "text": [
      "Enumerating monochromatic designs on level 4\n"
     ]
    },
    {
     "data": {
      "application/vnd.jupyter.widget-view+json": {
       "model_id": "9a7298c6857c4e06bc27e415fb00ba35",
       "version_major": 2,
       "version_minor": 0
      },
      "text/plain": [
       "0it [00:00, ?it/s]"
      ]
     },
     "metadata": {},
     "output_type": "display_data"
    },
    {
     "name": "stdout",
     "output_type": "stream",
     "text": [
      "Testing 3 designs with WL... (triangles only)\n"
     ]
    },
    {
     "data": {
      "application/vnd.jupyter.widget-view+json": {
       "model_id": "bc12380ddc094832ae67331ce10077e6",
       "version_major": 2,
       "version_minor": 0
      },
      "text/plain": [
       "  0%|          | 0/3 [00:00<?, ?it/s]"
      ]
     },
     "metadata": {},
     "output_type": "display_data"
    },
    {
     "name": "stdout",
     "output_type": "stream",
     "text": [
      "Searching for coherent refinements of <SAS of degree 8 and ranks [1, 3, 7, 11, 14, 11, 7, 3, 1]>\n",
      "Summary: (8, 58, [1, 3, 7, 11, 14, 11, 7, 3, 1], False, True, 'C4 x C2')\n"
     ]
    },
    {
     "data": {
      "application/vnd.jupyter.widget-view+json": {
       "model_id": "a295ec3f0d134639b08c522c54322828",
       "version_major": 2,
       "version_minor": 0
      },
      "text/plain": [
       "0it [00:00, ?it/s]"
      ]
     },
     "metadata": {},
     "output_type": "display_data"
    },
    {
     "name": "stdout",
     "output_type": "stream",
     "text": [
      "Enumerating monochromatic designs on level 4\n"
     ]
    },
    {
     "data": {
      "application/vnd.jupyter.widget-view+json": {
       "model_id": "a4f09ee5ff0347dd8c52e015329b6bb9",
       "version_major": 2,
       "version_minor": 0
      },
      "text/plain": [
       "0it [00:00, ?it/s]"
      ]
     },
     "metadata": {},
     "output_type": "display_data"
    },
    {
     "name": "stdout",
     "output_type": "stream",
     "text": [
      "Testing 0 designs with WL... (triangles only)\n"
     ]
    },
    {
     "data": {
      "application/vnd.jupyter.widget-view+json": {
       "model_id": "9f5f1071949c4053899cae58ebd07d4f",
       "version_major": 2,
       "version_minor": 0
      },
      "text/plain": [
       "0it [00:00, ?it/s]"
      ]
     },
     "metadata": {},
     "output_type": "display_data"
    },
    {
     "name": "stdout",
     "output_type": "stream",
     "text": [
      "Searching for coherent refinements of <SAS of degree 8 and ranks [1, 4, 11, 18, 22, 18, 11, 4, 1]>\n",
      "Summary: (8, 90, [1, 4, 11, 18, 22, 18, 11, 4, 1], False, True, 'C2 x C2 x C2')\n"
     ]
    },
    {
     "data": {
      "application/vnd.jupyter.widget-view+json": {
       "model_id": "0fd77e6f19b94b1885e10197f5857396",
       "version_major": 2,
       "version_minor": 0
      },
      "text/plain": [
       "0it [00:00, ?it/s]"
      ]
     },
     "metadata": {},
     "output_type": "display_data"
    },
    {
     "name": "stdout",
     "output_type": "stream",
     "text": [
      "Enumerating monochromatic designs on level 2\n"
     ]
    },
    {
     "data": {
      "application/vnd.jupyter.widget-view+json": {
       "model_id": "a8cf9eac9a794a6896455412d27ef9f4",
       "version_major": 2,
       "version_minor": 0
      },
      "text/plain": [
       "0it [00:00, ?it/s]"
      ]
     },
     "metadata": {},
     "output_type": "display_data"
    },
    {
     "name": "stdout",
     "output_type": "stream",
     "text": [
      "Enumerating monochromatic designs on level 3\n"
     ]
    },
    {
     "data": {
      "application/vnd.jupyter.widget-view+json": {
       "model_id": "1c1f26c91f304695bf0b41eb1c3210e2",
       "version_major": 2,
       "version_minor": 0
      },
      "text/plain": [
       "0it [00:00, ?it/s]"
      ]
     },
     "metadata": {},
     "output_type": "display_data"
    },
    {
     "name": "stdout",
     "output_type": "stream",
     "text": [
      "Enumerating monochromatic designs on level 4\n"
     ]
    },
    {
     "data": {
      "application/vnd.jupyter.widget-view+json": {
       "model_id": "02e17ab4cf1b4db8b9c2a68547c935dd",
       "version_major": 2,
       "version_minor": 0
      },
      "text/plain": [
       "0it [00:00, ?it/s]"
      ]
     },
     "metadata": {},
     "output_type": "display_data"
    },
    {
     "name": "stdout",
     "output_type": "stream",
     "text": [
      "Testing 3 designs with WL... (triangles only)\n"
     ]
    },
    {
     "data": {
      "application/vnd.jupyter.widget-view+json": {
       "model_id": "ae408de4851548ecbfecdf1a33674502",
       "version_major": 2,
       "version_minor": 0
      },
      "text/plain": [
       "  0%|          | 0/3 [00:00<?, ?it/s]"
      ]
     },
     "metadata": {},
     "output_type": "display_data"
    },
    {
     "name": "stdout",
     "output_type": "stream",
     "text": [
      "Found: <SAS of degree 8 and ranks [1, 4, 13, 22, 28, 22, 13, 4, 1]>\n",
      "Summary: (8, 108, [1, 4, 13, 22, 28, 22, 13, 4, 1], False, True, 'C2 x C2')\n",
      "Found: <SAS of degree 8 and ranks [1, 4, 12, 20, 26, 20, 12, 4, 1]>\n",
      "Summary: (8, 100, [1, 4, 12, 20, 26, 20, 12, 4, 1], False, True, 'C2 x C2')\n",
      "Searching for coherent refinements of <SAS of degree 8 and ranks [1, 4, 10, 17, 20, 17, 10, 4, 1]>\n",
      "Summary: (8, 84, [1, 4, 10, 17, 20, 17, 10, 4, 1], False, True, 'C2 x C2 x C2')\n"
     ]
    },
    {
     "data": {
      "application/vnd.jupyter.widget-view+json": {
       "model_id": "7953c3d2109b4e2cb17d02188c1f72de",
       "version_major": 2,
       "version_minor": 0
      },
      "text/plain": [
       "0it [00:00, ?it/s]"
      ]
     },
     "metadata": {},
     "output_type": "display_data"
    },
    {
     "name": "stdout",
     "output_type": "stream",
     "text": [
      "Enumerating monochromatic designs on level 3\n"
     ]
    },
    {
     "data": {
      "application/vnd.jupyter.widget-view+json": {
       "model_id": "4a28b8e08d0943edaaa0d8ca95e4d46e",
       "version_major": 2,
       "version_minor": 0
      },
      "text/plain": [
       "0it [00:00, ?it/s]"
      ]
     },
     "metadata": {},
     "output_type": "display_data"
    },
    {
     "name": "stdout",
     "output_type": "stream",
     "text": [
      "Enumerating monochromatic designs on level 4\n"
     ]
    },
    {
     "data": {
      "application/vnd.jupyter.widget-view+json": {
       "model_id": "9cc4829fb0e7440a8c11837be08f92c3",
       "version_major": 2,
       "version_minor": 0
      },
      "text/plain": [
       "0it [00:00, ?it/s]"
      ]
     },
     "metadata": {},
     "output_type": "display_data"
    },
    {
     "name": "stdout",
     "output_type": "stream",
     "text": [
      "Testing 1 designs with WL... (triangles only)\n"
     ]
    },
    {
     "data": {
      "application/vnd.jupyter.widget-view+json": {
       "model_id": "0533b192149f4565b4dbb4028b7c2351",
       "version_major": 2,
       "version_minor": 0
      },
      "text/plain": [
       "  0%|          | 0/1 [00:00<?, ?it/s]"
      ]
     },
     "metadata": {},
     "output_type": "display_data"
    },
    {
     "name": "stdout",
     "output_type": "stream",
     "text": [
      "Searching for coherent refinements of <SAS of degree 8 and ranks [1, 4, 10, 16, 20, 16, 10, 4, 1]>\n",
      "Summary: (8, 82, [1, 4, 10, 16, 20, 16, 10, 4, 1], False, True, 'C2 x C2 x C2')\n"
     ]
    },
    {
     "data": {
      "application/vnd.jupyter.widget-view+json": {
       "model_id": "9aa1d8e475a841e2b269ad66421dbf6f",
       "version_major": 2,
       "version_minor": 0
      },
      "text/plain": [
       "0it [00:00, ?it/s]"
      ]
     },
     "metadata": {},
     "output_type": "display_data"
    },
    {
     "name": "stdout",
     "output_type": "stream",
     "text": [
      "Enumerating monochromatic designs on level 4\n"
     ]
    },
    {
     "data": {
      "application/vnd.jupyter.widget-view+json": {
       "model_id": "f733823f4f4a4ffea1da39b18a398087",
       "version_major": 2,
       "version_minor": 0
      },
      "text/plain": [
       "0it [00:00, ?it/s]"
      ]
     },
     "metadata": {},
     "output_type": "display_data"
    },
    {
     "name": "stdout",
     "output_type": "stream",
     "text": [
      "Testing 0 designs with WL... (triangles only)\n"
     ]
    },
    {
     "data": {
      "application/vnd.jupyter.widget-view+json": {
       "model_id": "2414b65a21194c16ae6c51053341c453",
       "version_major": 2,
       "version_minor": 0
      },
      "text/plain": [
       "0it [00:00, ?it/s]"
      ]
     },
     "metadata": {},
     "output_type": "display_data"
    },
    {
     "name": "stdout",
     "output_type": "stream",
     "text": [
      "Searching for coherent refinements of <SAS of degree 8 and ranks [1, 2, 6, 10, 14, 10, 6, 2, 1]>\n",
      "Summary: (8, 52, [1, 2, 6, 10, 14, 10, 6, 2, 1], False, True, 'C6')\n"
     ]
    },
    {
     "data": {
      "application/vnd.jupyter.widget-view+json": {
       "model_id": "84cfce8574294ef39ab7c3d17299a2ab",
       "version_major": 2,
       "version_minor": 0
      },
      "text/plain": [
       "0it [00:00, ?it/s]"
      ]
     },
     "metadata": {},
     "output_type": "display_data"
    },
    {
     "name": "stdout",
     "output_type": "stream",
     "text": [
      "Enumerating monochromatic designs on level 3\n"
     ]
    },
    {
     "data": {
      "application/vnd.jupyter.widget-view+json": {
       "model_id": "d9f5349522364f8d9ceb6b6d880bc979",
       "version_major": 2,
       "version_minor": 0
      },
      "text/plain": [
       "0it [00:00, ?it/s]"
      ]
     },
     "metadata": {},
     "output_type": "display_data"
    },
    {
     "name": "stdout",
     "output_type": "stream",
     "text": [
      "Enumerating monochromatic designs on level 4\n"
     ]
    },
    {
     "data": {
      "application/vnd.jupyter.widget-view+json": {
       "model_id": "38154655a311431997f373a435a93f3c",
       "version_major": 2,
       "version_minor": 0
      },
      "text/plain": [
       "0it [00:00, ?it/s]"
      ]
     },
     "metadata": {},
     "output_type": "display_data"
    },
    {
     "name": "stdout",
     "output_type": "stream",
     "text": [
      "Testing 0 designs with WL... (triangles only)\n"
     ]
    },
    {
     "data": {
      "application/vnd.jupyter.widget-view+json": {
       "model_id": "41eb67498ee840cfaf69164871d539a8",
       "version_major": 2,
       "version_minor": 0
      },
      "text/plain": [
       "0it [00:00, ?it/s]"
      ]
     },
     "metadata": {},
     "output_type": "display_data"
    },
    {
     "name": "stdout",
     "output_type": "stream",
     "text": [
      "Searching for coherent refinements of <SAS of degree 8 and ranks [1, 2, 7, 10, 16, 10, 7, 2, 1]>\n",
      "Summary: (8, 56, [1, 2, 7, 10, 16, 10, 7, 2, 1], False, True, 'S3')\n"
     ]
    },
    {
     "data": {
      "application/vnd.jupyter.widget-view+json": {
       "model_id": "1b69cee32b9343ec8441f9c287f3643e",
       "version_major": 2,
       "version_minor": 0
      },
      "text/plain": [
       "0it [00:00, ?it/s]"
      ]
     },
     "metadata": {},
     "output_type": "display_data"
    },
    {
     "name": "stdout",
     "output_type": "stream",
     "text": [
      "Enumerating monochromatic designs on level 2\n"
     ]
    },
    {
     "data": {
      "application/vnd.jupyter.widget-view+json": {
       "model_id": "e29bf40f2690454897f469ac262ac4f7",
       "version_major": 2,
       "version_minor": 0
      },
      "text/plain": [
       "0it [00:00, ?it/s]"
      ]
     },
     "metadata": {},
     "output_type": "display_data"
    },
    {
     "name": "stdout",
     "output_type": "stream",
     "text": [
      "Enumerating monochromatic designs on level 3\n"
     ]
    },
    {
     "data": {
      "application/vnd.jupyter.widget-view+json": {
       "model_id": "0c624d9de96c4c65b903a2a1f23d82fb",
       "version_major": 2,
       "version_minor": 0
      },
      "text/plain": [
       "0it [00:00, ?it/s]"
      ]
     },
     "metadata": {},
     "output_type": "display_data"
    },
    {
     "name": "stdout",
     "output_type": "stream",
     "text": [
      "Enumerating monochromatic designs on level 4\n"
     ]
    },
    {
     "data": {
      "application/vnd.jupyter.widget-view+json": {
       "model_id": "6ba1f980217d4624855bd48ba4dece02",
       "version_major": 2,
       "version_minor": 0
      },
      "text/plain": [
       "0it [00:00, ?it/s]"
      ]
     },
     "metadata": {},
     "output_type": "display_data"
    },
    {
     "name": "stdout",
     "output_type": "stream",
     "text": [
      "Testing 0 designs with WL... (triangles only)\n"
     ]
    },
    {
     "data": {
      "application/vnd.jupyter.widget-view+json": {
       "model_id": "a0ada79e78e04d84870f2021058ba575",
       "version_major": 2,
       "version_minor": 0
      },
      "text/plain": [
       "0it [00:00, ?it/s]"
      ]
     },
     "metadata": {},
     "output_type": "display_data"
    },
    {
     "name": "stdout",
     "output_type": "stream",
     "text": [
      "Searching for coherent refinements of <SAS of degree 8 and ranks [1, 3, 10, 17, 22, 17, 10, 3, 1]>\n",
      "Summary: (8, 84, [1, 3, 10, 17, 22, 17, 10, 3, 1], False, True, 'C4')\n"
     ]
    },
    {
     "data": {
      "application/vnd.jupyter.widget-view+json": {
       "model_id": "3788fee5d65941dc86fb782fac35e682",
       "version_major": 2,
       "version_minor": 0
      },
      "text/plain": [
       "0it [00:00, ?it/s]"
      ]
     },
     "metadata": {},
     "output_type": "display_data"
    },
    {
     "name": "stdout",
     "output_type": "stream",
     "text": [
      "Enumerating monochromatic designs on level 3\n"
     ]
    },
    {
     "data": {
      "application/vnd.jupyter.widget-view+json": {
       "model_id": "646d0096cf234bafb0a3543b2d41c08f",
       "version_major": 2,
       "version_minor": 0
      },
      "text/plain": [
       "0it [00:00, ?it/s]"
      ]
     },
     "metadata": {},
     "output_type": "display_data"
    },
    {
     "name": "stdout",
     "output_type": "stream",
     "text": [
      "Enumerating monochromatic designs on level 4\n"
     ]
    },
    {
     "data": {
      "application/vnd.jupyter.widget-view+json": {
       "model_id": "47ec4ad4f7434070b92b57a6589a5e06",
       "version_major": 2,
       "version_minor": 0
      },
      "text/plain": [
       "0it [00:00, ?it/s]"
      ]
     },
     "metadata": {},
     "output_type": "display_data"
    },
    {
     "name": "stdout",
     "output_type": "stream",
     "text": [
      "Testing 0 designs with WL... (triangles only)\n"
     ]
    },
    {
     "data": {
      "application/vnd.jupyter.widget-view+json": {
       "model_id": "e30a0333635549099e9d984326a83b9e",
       "version_major": 2,
       "version_minor": 0
      },
      "text/plain": [
       "0it [00:00, ?it/s]"
      ]
     },
     "metadata": {},
     "output_type": "display_data"
    },
    {
     "name": "stdout",
     "output_type": "stream",
     "text": [
      "Searching for coherent refinements of <SAS of degree 8 and ranks [1, 2, 4, 7, 8, 7, 4, 2, 1]>\n",
      "Summary: (8, 36, [1, 2, 4, 7, 8, 7, 4, 2, 1], False, True, 'C2 x A4')\n"
     ]
    },
    {
     "data": {
      "application/vnd.jupyter.widget-view+json": {
       "model_id": "2b7650c702b247c5bad8f29704b03c70",
       "version_major": 2,
       "version_minor": 0
      },
      "text/plain": [
       "0it [00:00, ?it/s]"
      ]
     },
     "metadata": {},
     "output_type": "display_data"
    },
    {
     "name": "stdout",
     "output_type": "stream",
     "text": [
      "Enumerating monochromatic designs on level 3\n"
     ]
    },
    {
     "data": {
      "application/vnd.jupyter.widget-view+json": {
       "model_id": "d5253c933a4644c6b30398acb566259b",
       "version_major": 2,
       "version_minor": 0
      },
      "text/plain": [
       "0it [00:00, ?it/s]"
      ]
     },
     "metadata": {},
     "output_type": "display_data"
    },
    {
     "name": "stdout",
     "output_type": "stream",
     "text": [
      "Enumerating monochromatic designs on level 4\n"
     ]
    },
    {
     "data": {
      "application/vnd.jupyter.widget-view+json": {
       "model_id": "e2a96dc9c2364268bca5638db330e5b3",
       "version_major": 2,
       "version_minor": 0
      },
      "text/plain": [
       "0it [00:00, ?it/s]"
      ]
     },
     "metadata": {},
     "output_type": "display_data"
    },
    {
     "name": "stdout",
     "output_type": "stream",
     "text": [
      "Testing 2 designs with WL... (triangles only)\n"
     ]
    },
    {
     "data": {
      "application/vnd.jupyter.widget-view+json": {
       "model_id": "2caf61f82a334783ad847f5bd957ed40",
       "version_major": 2,
       "version_minor": 0
      },
      "text/plain": [
       "  0%|          | 0/2 [00:00<?, ?it/s]"
      ]
     },
     "metadata": {},
     "output_type": "display_data"
    },
    {
     "name": "stdout",
     "output_type": "stream",
     "text": [
      "Searching for coherent refinements of <SAS of degree 8 and ranks [1, 2, 4, 6, 8, 6, 4, 2, 1]>\n",
      "Summary: (8, 34, [1, 2, 4, 6, 8, 6, 4, 2, 1], False, True, 'C2 x A4')\n"
     ]
    },
    {
     "data": {
      "application/vnd.jupyter.widget-view+json": {
       "model_id": "062135ed7cd04788a135b14aab4cf80f",
       "version_major": 2,
       "version_minor": 0
      },
      "text/plain": [
       "0it [00:00, ?it/s]"
      ]
     },
     "metadata": {},
     "output_type": "display_data"
    },
    {
     "name": "stdout",
     "output_type": "stream",
     "text": [
      "Enumerating monochromatic designs on level 4\n"
     ]
    },
    {
     "data": {
      "application/vnd.jupyter.widget-view+json": {
       "model_id": "6e1bc1f2f7c84a968dc344e355961ba0",
       "version_major": 2,
       "version_minor": 0
      },
      "text/plain": [
       "0it [00:00, ?it/s]"
      ]
     },
     "metadata": {},
     "output_type": "display_data"
    },
    {
     "name": "stdout",
     "output_type": "stream",
     "text": [
      "Testing 0 designs with WL... (triangles only)\n"
     ]
    },
    {
     "data": {
      "application/vnd.jupyter.widget-view+json": {
       "model_id": "f26ded44a0ba45809e877a62de2780c2",
       "version_major": 2,
       "version_minor": 0
      },
      "text/plain": [
       "0it [00:00, ?it/s]"
      ]
     },
     "metadata": {},
     "output_type": "display_data"
    },
    {
     "name": "stdout",
     "output_type": "stream",
     "text": [
      "Searching for coherent refinements of <SAS of degree 8 and ranks [1, 2, 4, 5, 8, 5, 4, 2, 1]>\n",
      "Summary: (8, 32, [1, 2, 4, 5, 8, 5, 4, 2, 1], False, True, 'S4')\n"
     ]
    },
    {
     "data": {
      "application/vnd.jupyter.widget-view+json": {
       "model_id": "f6bcab8d1b7b4349837c640fc75f9aa0",
       "version_major": 2,
       "version_minor": 0
      },
      "text/plain": [
       "0it [00:00, ?it/s]"
      ]
     },
     "metadata": {},
     "output_type": "display_data"
    },
    {
     "name": "stdout",
     "output_type": "stream",
     "text": [
      "Enumerating monochromatic designs on level 4\n"
     ]
    },
    {
     "data": {
      "application/vnd.jupyter.widget-view+json": {
       "model_id": "a41455b5a8c74dab8d49f44b1216b0cd",
       "version_major": 2,
       "version_minor": 0
      },
      "text/plain": [
       "0it [00:00, ?it/s]"
      ]
     },
     "metadata": {},
     "output_type": "display_data"
    },
    {
     "name": "stdout",
     "output_type": "stream",
     "text": [
      "Testing 0 designs with WL... (triangles only)\n"
     ]
    },
    {
     "data": {
      "application/vnd.jupyter.widget-view+json": {
       "model_id": "5a2b62214b224926b5e171ad7d5addc1",
       "version_major": 2,
       "version_minor": 0
      },
      "text/plain": [
       "0it [00:00, ?it/s]"
      ]
     },
     "metadata": {},
     "output_type": "display_data"
    },
    {
     "name": "stdout",
     "output_type": "stream",
     "text": [
      "Searching for coherent refinements of <SAS of degree 8 and ranks [1, 2, 4, 6, 8, 6, 4, 2, 1]>\n",
      "Summary: (8, 34, [1, 2, 4, 6, 8, 6, 4, 2, 1], False, True, 'S4')\n"
     ]
    },
    {
     "data": {
      "application/vnd.jupyter.widget-view+json": {
       "model_id": "e8d5be101bca40ac890518566d66e57f",
       "version_major": 2,
       "version_minor": 0
      },
      "text/plain": [
       "0it [00:00, ?it/s]"
      ]
     },
     "metadata": {},
     "output_type": "display_data"
    },
    {
     "name": "stdout",
     "output_type": "stream",
     "text": [
      "Enumerating monochromatic designs on level 4\n"
     ]
    },
    {
     "data": {
      "application/vnd.jupyter.widget-view+json": {
       "model_id": "14de004eccb14bf7806371f2e1980680",
       "version_major": 2,
       "version_minor": 0
      },
      "text/plain": [
       "0it [00:00, ?it/s]"
      ]
     },
     "metadata": {},
     "output_type": "display_data"
    },
    {
     "name": "stdout",
     "output_type": "stream",
     "text": [
      "Testing 0 designs with WL... (triangles only)\n"
     ]
    },
    {
     "data": {
      "application/vnd.jupyter.widget-view+json": {
       "model_id": "c90141dedb4f459ba8ee80e0aaf4b3ae",
       "version_major": 2,
       "version_minor": 0
      },
      "text/plain": [
       "0it [00:00, ?it/s]"
      ]
     },
     "metadata": {},
     "output_type": "display_data"
    },
    {
     "name": "stdout",
     "output_type": "stream",
     "text": [
      "Searching for coherent refinements of <SAS of degree 8 and ranks [1, 6, 16, 26, 30, 26, 16, 6, 1]>\n",
      "Summary: (8, 128, [1, 6, 16, 26, 30, 26, 16, 6, 1], False, True, 'S3')\n"
     ]
    },
    {
     "data": {
      "application/vnd.jupyter.widget-view+json": {
       "model_id": "f2c718f307df4ff097a2d126240494e8",
       "version_major": 2,
       "version_minor": 0
      },
      "text/plain": [
       "0it [00:00, ?it/s]"
      ]
     },
     "metadata": {},
     "output_type": "display_data"
    },
    {
     "name": "stdout",
     "output_type": "stream",
     "text": [
      "Enumerating monochromatic designs on level 1\n"
     ]
    },
    {
     "data": {
      "application/vnd.jupyter.widget-view+json": {
       "model_id": "953acf87998842899963983d31d970fd",
       "version_major": 2,
       "version_minor": 0
      },
      "text/plain": [
       "0it [00:00, ?it/s]"
      ]
     },
     "metadata": {},
     "output_type": "display_data"
    },
    {
     "name": "stdout",
     "output_type": "stream",
     "text": [
      "Enumerating monochromatic designs on level 2\n"
     ]
    },
    {
     "data": {
      "application/vnd.jupyter.widget-view+json": {
       "model_id": "eac3e6c3de83401a9a65ffb807316c59",
       "version_major": 2,
       "version_minor": 0
      },
      "text/plain": [
       "0it [00:00, ?it/s]"
      ]
     },
     "metadata": {},
     "output_type": "display_data"
    },
    {
     "name": "stdout",
     "output_type": "stream",
     "text": [
      "Enumerating monochromatic designs on level 3\n"
     ]
    },
    {
     "data": {
      "application/vnd.jupyter.widget-view+json": {
       "model_id": "2d9798a32a144142a28226f15680a9e1",
       "version_major": 2,
       "version_minor": 0
      },
      "text/plain": [
       "0it [00:00, ?it/s]"
      ]
     },
     "metadata": {},
     "output_type": "display_data"
    },
    {
     "name": "stdout",
     "output_type": "stream",
     "text": [
      "Enumerating monochromatic designs on level 4\n"
     ]
    },
    {
     "data": {
      "application/vnd.jupyter.widget-view+json": {
       "model_id": "50db1227873a42c9903019a872a16556",
       "version_major": 2,
       "version_minor": 0
      },
      "text/plain": [
       "0it [00:00, ?it/s]"
      ]
     },
     "metadata": {},
     "output_type": "display_data"
    },
    {
     "name": "stdout",
     "output_type": "stream",
     "text": [
      "Testing 1 designs with WL... (triangles only)\n"
     ]
    },
    {
     "data": {
      "application/vnd.jupyter.widget-view+json": {
       "model_id": "c16c277ded9142a49412e011767169be",
       "version_major": 2,
       "version_minor": 0
      },
      "text/plain": [
       "  0%|          | 0/1 [00:00<?, ?it/s]"
      ]
     },
     "metadata": {},
     "output_type": "display_data"
    },
    {
     "name": "stdout",
     "output_type": "stream",
     "text": [
      "Found: <SAS of degree 8 and ranks [1, 7, 22, 41, 50, 41, 22, 7, 1]>\n",
      "Summary: (8, 192, [1, 7, 22, 41, 50, 41, 22, 7, 1], False, True, 'C2')\n",
      "Searching for coherent refinements of <SAS of degree 8 and ranks [1, 6, 17, 30, 36, 30, 17, 6, 1]>\n",
      "Summary: (8, 144, [1, 6, 17, 30, 36, 30, 17, 6, 1], False, True, 'C2 x C2')\n"
     ]
    },
    {
     "data": {
      "application/vnd.jupyter.widget-view+json": {
       "model_id": "2bcc384c015041ffa7ef497e296b2056",
       "version_major": 2,
       "version_minor": 0
      },
      "text/plain": [
       "0it [00:00, ?it/s]"
      ]
     },
     "metadata": {},
     "output_type": "display_data"
    },
    {
     "name": "stdout",
     "output_type": "stream",
     "text": [
      "Enumerating monochromatic designs on level 1\n"
     ]
    },
    {
     "data": {
      "application/vnd.jupyter.widget-view+json": {
       "model_id": "aa3fb952a7fd40a7ac659276b52e8ebe",
       "version_major": 2,
       "version_minor": 0
      },
      "text/plain": [
       "0it [00:00, ?it/s]"
      ]
     },
     "metadata": {},
     "output_type": "display_data"
    },
    {
     "name": "stdout",
     "output_type": "stream",
     "text": [
      "Enumerating monochromatic designs on level 2\n"
     ]
    },
    {
     "data": {
      "application/vnd.jupyter.widget-view+json": {
       "model_id": "d059bf5b747a46f298d597527f252bec",
       "version_major": 2,
       "version_minor": 0
      },
      "text/plain": [
       "0it [00:00, ?it/s]"
      ]
     },
     "metadata": {},
     "output_type": "display_data"
    },
    {
     "name": "stdout",
     "output_type": "stream",
     "text": [
      "Enumerating monochromatic designs on level 3\n"
     ]
    },
    {
     "data": {
      "application/vnd.jupyter.widget-view+json": {
       "model_id": "fa6de5cc15974b83b4ba245dbf267f7f",
       "version_major": 2,
       "version_minor": 0
      },
      "text/plain": [
       "0it [00:00, ?it/s]"
      ]
     },
     "metadata": {},
     "output_type": "display_data"
    },
    {
     "name": "stdout",
     "output_type": "stream",
     "text": [
      "Enumerating monochromatic designs on level 4\n"
     ]
    },
    {
     "data": {
      "application/vnd.jupyter.widget-view+json": {
       "model_id": "708a160507f14cbea940b60cd6728629",
       "version_major": 2,
       "version_minor": 0
      },
      "text/plain": [
       "0it [00:00, ?it/s]"
      ]
     },
     "metadata": {},
     "output_type": "display_data"
    },
    {
     "name": "stdout",
     "output_type": "stream",
     "text": [
      "Testing 2 designs with WL... (triangles only)\n"
     ]
    },
    {
     "data": {
      "application/vnd.jupyter.widget-view+json": {
       "model_id": "276c7c15f8524a90b05c39bdad645aba",
       "version_major": 2,
       "version_minor": 0
      },
      "text/plain": [
       "  0%|          | 0/2 [00:00<?, ?it/s]"
      ]
     },
     "metadata": {},
     "output_type": "display_data"
    },
    {
     "name": "stdout",
     "output_type": "stream",
     "text": [
      "Found: <SAS of degree 8 and ranks [1, 6, 18, 34, 42, 34, 18, 6, 1]>\n",
      "Summary: (8, 160, [1, 6, 18, 34, 42, 34, 18, 6, 1], False, True, 'C2')\n",
      "Searching for coherent refinements of <SAS of degree 8 and ranks [1, 5, 13, 23, 28, 23, 13, 5, 1]>\n",
      "Summary: (8, 112, [1, 5, 13, 23, 28, 23, 13, 5, 1], False, True, 'C2 x C2')\n"
     ]
    },
    {
     "data": {
      "application/vnd.jupyter.widget-view+json": {
       "model_id": "37eb21a2db854f2babc73b9895f159e2",
       "version_major": 2,
       "version_minor": 0
      },
      "text/plain": [
       "0it [00:00, ?it/s]"
      ]
     },
     "metadata": {},
     "output_type": "display_data"
    },
    {
     "name": "stdout",
     "output_type": "stream",
     "text": [
      "Enumerating monochromatic designs on level 3\n"
     ]
    },
    {
     "data": {
      "application/vnd.jupyter.widget-view+json": {
       "model_id": "252ef93330e24b3cad26c4767280dba5",
       "version_major": 2,
       "version_minor": 0
      },
      "text/plain": [
       "0it [00:00, ?it/s]"
      ]
     },
     "metadata": {},
     "output_type": "display_data"
    },
    {
     "name": "stdout",
     "output_type": "stream",
     "text": [
      "Enumerating monochromatic designs on level 4\n"
     ]
    },
    {
     "data": {
      "application/vnd.jupyter.widget-view+json": {
       "model_id": "9434bbe1e474454796378dc13c1dd362",
       "version_major": 2,
       "version_minor": 0
      },
      "text/plain": [
       "0it [00:00, ?it/s]"
      ]
     },
     "metadata": {},
     "output_type": "display_data"
    },
    {
     "name": "stdout",
     "output_type": "stream",
     "text": [
      "Testing 0 designs with WL... (triangles only)\n"
     ]
    },
    {
     "data": {
      "application/vnd.jupyter.widget-view+json": {
       "model_id": "39b901690f184526ab221208dadd5ba2",
       "version_major": 2,
       "version_minor": 0
      },
      "text/plain": [
       "0it [00:00, ?it/s]"
      ]
     },
     "metadata": {},
     "output_type": "display_data"
    },
    {
     "name": "stdout",
     "output_type": "stream",
     "text": [
      "Searching for coherent refinements of <SAS of degree 8 and ranks [1, 5, 14, 25, 30, 25, 14, 5, 1]>\n",
      "Summary: (8, 120, [1, 5, 14, 25, 30, 25, 14, 5, 1], False, True, 'C2 x C2')\n"
     ]
    },
    {
     "data": {
      "application/vnd.jupyter.widget-view+json": {
       "model_id": "100d88ee567a4d1c9e9fd50719bd8a0f",
       "version_major": 2,
       "version_minor": 0
      },
      "text/plain": [
       "0it [00:00, ?it/s]"
      ]
     },
     "metadata": {},
     "output_type": "display_data"
    },
    {
     "name": "stdout",
     "output_type": "stream",
     "text": [
      "Enumerating monochromatic designs on level 2\n"
     ]
    },
    {
     "data": {
      "application/vnd.jupyter.widget-view+json": {
       "model_id": "34f2bdcee0264263948c50a231f38dea",
       "version_major": 2,
       "version_minor": 0
      },
      "text/plain": [
       "0it [00:00, ?it/s]"
      ]
     },
     "metadata": {},
     "output_type": "display_data"
    },
    {
     "name": "stdout",
     "output_type": "stream",
     "text": [
      "Enumerating monochromatic designs on level 3\n"
     ]
    },
    {
     "data": {
      "application/vnd.jupyter.widget-view+json": {
       "model_id": "975f44b83acd4745b9d361195458c46a",
       "version_major": 2,
       "version_minor": 0
      },
      "text/plain": [
       "0it [00:00, ?it/s]"
      ]
     },
     "metadata": {},
     "output_type": "display_data"
    },
    {
     "name": "stdout",
     "output_type": "stream",
     "text": [
      "Enumerating monochromatic designs on level 4\n"
     ]
    },
    {
     "data": {
      "application/vnd.jupyter.widget-view+json": {
       "model_id": "fd3dd2833a0249e886cf317e4dfe5808",
       "version_major": 2,
       "version_minor": 0
      },
      "text/plain": [
       "0it [00:00, ?it/s]"
      ]
     },
     "metadata": {},
     "output_type": "display_data"
    },
    {
     "name": "stdout",
     "output_type": "stream",
     "text": [
      "Testing 1 designs with WL... (triangles only)\n"
     ]
    },
    {
     "data": {
      "application/vnd.jupyter.widget-view+json": {
       "model_id": "b2ba947737bd465890c3288cf58e17cc",
       "version_major": 2,
       "version_minor": 0
      },
      "text/plain": [
       "  0%|          | 0/1 [00:00<?, ?it/s]"
      ]
     },
     "metadata": {},
     "output_type": "display_data"
    },
    {
     "name": "stdout",
     "output_type": "stream",
     "text": [
      "Searching for coherent refinements of <SAS of degree 8 and ranks [1, 5, 12, 19, 22, 19, 12, 5, 1]>\n",
      "Summary: (8, 96, [1, 5, 12, 19, 22, 19, 12, 5, 1], False, True, 'D4')\n"
     ]
    },
    {
     "data": {
      "application/vnd.jupyter.widget-view+json": {
       "model_id": "55be13d312e24bd5ada08231f8ef87b6",
       "version_major": 2,
       "version_minor": 0
      },
      "text/plain": [
       "0it [00:00, ?it/s]"
      ]
     },
     "metadata": {},
     "output_type": "display_data"
    },
    {
     "name": "stdout",
     "output_type": "stream",
     "text": [
      "Enumerating monochromatic designs on level 2\n"
     ]
    },
    {
     "data": {
      "application/vnd.jupyter.widget-view+json": {
       "model_id": "212127c3383848029c8eebd63deb1594",
       "version_major": 2,
       "version_minor": 0
      },
      "text/plain": [
       "0it [00:00, ?it/s]"
      ]
     },
     "metadata": {},
     "output_type": "display_data"
    },
    {
     "name": "stdout",
     "output_type": "stream",
     "text": [
      "Enumerating monochromatic designs on level 3\n"
     ]
    },
    {
     "data": {
      "application/vnd.jupyter.widget-view+json": {
       "model_id": "d2c81397d3f143c8a4587b9726df2145",
       "version_major": 2,
       "version_minor": 0
      },
      "text/plain": [
       "0it [00:00, ?it/s]"
      ]
     },
     "metadata": {},
     "output_type": "display_data"
    },
    {
     "name": "stdout",
     "output_type": "stream",
     "text": [
      "Enumerating monochromatic designs on level 4\n"
     ]
    },
    {
     "data": {
      "application/vnd.jupyter.widget-view+json": {
       "model_id": "17fe027707054eeb914280e205bde6e6",
       "version_major": 2,
       "version_minor": 0
      },
      "text/plain": [
       "0it [00:00, ?it/s]"
      ]
     },
     "metadata": {},
     "output_type": "display_data"
    },
    {
     "name": "stdout",
     "output_type": "stream",
     "text": [
      "Testing 1 designs with WL... (triangles only)\n"
     ]
    },
    {
     "data": {
      "application/vnd.jupyter.widget-view+json": {
       "model_id": "563bf84b645746d78d22e78200da23bc",
       "version_major": 2,
       "version_minor": 0
      },
      "text/plain": [
       "  0%|          | 0/1 [00:00<?, ?it/s]"
      ]
     },
     "metadata": {},
     "output_type": "display_data"
    },
    {
     "name": "stdout",
     "output_type": "stream",
     "text": [
      "Found: <SAS of degree 8 and ranks [1, 5, 13, 23, 28, 23, 13, 5, 1]>\n",
      "Summary: (8, 112, [1, 5, 13, 23, 28, 23, 13, 5, 1], False, True, 'C2 x C2')\n",
      "Searching for coherent refinements of <SAS of degree 8 and ranks [1, 4, 10, 18, 22, 18, 10, 4, 1]>\n",
      "Summary: (8, 88, [1, 4, 10, 18, 22, 18, 10, 4, 1], False, True, 'C4')\n"
     ]
    },
    {
     "data": {
      "application/vnd.jupyter.widget-view+json": {
       "model_id": "99e8d87a65704380baaa750bc0aed1b6",
       "version_major": 2,
       "version_minor": 0
      },
      "text/plain": [
       "0it [00:00, ?it/s]"
      ]
     },
     "metadata": {},
     "output_type": "display_data"
    },
    {
     "name": "stdout",
     "output_type": "stream",
     "text": [
      "Enumerating monochromatic designs on level 3\n"
     ]
    },
    {
     "data": {
      "application/vnd.jupyter.widget-view+json": {
       "model_id": "ab695b7705e24753a788ea602a7b5e06",
       "version_major": 2,
       "version_minor": 0
      },
      "text/plain": [
       "0it [00:00, ?it/s]"
      ]
     },
     "metadata": {},
     "output_type": "display_data"
    },
    {
     "name": "stdout",
     "output_type": "stream",
     "text": [
      "Enumerating monochromatic designs on level 4\n"
     ]
    },
    {
     "data": {
      "application/vnd.jupyter.widget-view+json": {
       "model_id": "eda9c97f21864c998723dc2949253940",
       "version_major": 2,
       "version_minor": 0
      },
      "text/plain": [
       "0it [00:00, ?it/s]"
      ]
     },
     "metadata": {},
     "output_type": "display_data"
    },
    {
     "name": "stdout",
     "output_type": "stream",
     "text": [
      "Testing 0 designs with WL... (triangles only)\n"
     ]
    },
    {
     "data": {
      "application/vnd.jupyter.widget-view+json": {
       "model_id": "58bb0698b5c643e29feb9b49ccb7ce1b",
       "version_major": 2,
       "version_minor": 0
      },
      "text/plain": [
       "0it [00:00, ?it/s]"
      ]
     },
     "metadata": {},
     "output_type": "display_data"
    },
    {
     "name": "stdout",
     "output_type": "stream",
     "text": [
      "Searching for coherent refinements of <SAS of degree 8 and ranks [1, 4, 9, 15, 18, 15, 9, 4, 1]>\n",
      "Summary: (8, 76, [1, 4, 9, 15, 18, 15, 9, 4, 1], False, True, 'D4')\n"
     ]
    },
    {
     "data": {
      "application/vnd.jupyter.widget-view+json": {
       "model_id": "049d353c6cca42fb91d7ad9e7e6dad06",
       "version_major": 2,
       "version_minor": 0
      },
      "text/plain": [
       "0it [00:00, ?it/s]"
      ]
     },
     "metadata": {},
     "output_type": "display_data"
    },
    {
     "name": "stdout",
     "output_type": "stream",
     "text": [
      "Enumerating monochromatic designs on level 3\n"
     ]
    },
    {
     "data": {
      "application/vnd.jupyter.widget-view+json": {
       "model_id": "05d57994205a4c95aae8d46605bac8e5",
       "version_major": 2,
       "version_minor": 0
      },
      "text/plain": [
       "0it [00:00, ?it/s]"
      ]
     },
     "metadata": {},
     "output_type": "display_data"
    },
    {
     "name": "stdout",
     "output_type": "stream",
     "text": [
      "Enumerating monochromatic designs on level 4\n"
     ]
    },
    {
     "data": {
      "application/vnd.jupyter.widget-view+json": {
       "model_id": "b4ce006cfad148a9b408280a926cb1a1",
       "version_major": 2,
       "version_minor": 0
      },
      "text/plain": [
       "0it [00:00, ?it/s]"
      ]
     },
     "metadata": {},
     "output_type": "display_data"
    },
    {
     "name": "stdout",
     "output_type": "stream",
     "text": [
      "Testing 0 designs with WL... (triangles only)\n"
     ]
    },
    {
     "data": {
      "application/vnd.jupyter.widget-view+json": {
       "model_id": "52f7cadd743c484590c8f629a935b4a9",
       "version_major": 2,
       "version_minor": 0
      },
      "text/plain": [
       "0it [00:00, ?it/s]"
      ]
     },
     "metadata": {},
     "output_type": "display_data"
    },
    {
     "name": "stdout",
     "output_type": "stream",
     "text": [
      "Searching for coherent refinements of <SAS of degree 8 and ranks [1, 4, 10, 17, 20, 17, 10, 4, 1]>\n",
      "Summary: (8, 84, [1, 4, 10, 17, 20, 17, 10, 4, 1], False, True, 'C2 x C2 x C2')\n"
     ]
    },
    {
     "data": {
      "application/vnd.jupyter.widget-view+json": {
       "model_id": "c78e88e378aa43249bb7419997912b05",
       "version_major": 2,
       "version_minor": 0
      },
      "text/plain": [
       "0it [00:00, ?it/s]"
      ]
     },
     "metadata": {},
     "output_type": "display_data"
    },
    {
     "name": "stdout",
     "output_type": "stream",
     "text": [
      "Enumerating monochromatic designs on level 2\n"
     ]
    },
    {
     "data": {
      "application/vnd.jupyter.widget-view+json": {
       "model_id": "515cd67c7f25448f83b8796036cbf8b1",
       "version_major": 2,
       "version_minor": 0
      },
      "text/plain": [
       "0it [00:00, ?it/s]"
      ]
     },
     "metadata": {},
     "output_type": "display_data"
    },
    {
     "name": "stdout",
     "output_type": "stream",
     "text": [
      "Enumerating monochromatic designs on level 3\n"
     ]
    },
    {
     "data": {
      "application/vnd.jupyter.widget-view+json": {
       "model_id": "107fc98b3f50426098b809aa5edd714a",
       "version_major": 2,
       "version_minor": 0
      },
      "text/plain": [
       "0it [00:00, ?it/s]"
      ]
     },
     "metadata": {},
     "output_type": "display_data"
    },
    {
     "name": "stdout",
     "output_type": "stream",
     "text": [
      "Enumerating monochromatic designs on level 4\n"
     ]
    },
    {
     "data": {
      "application/vnd.jupyter.widget-view+json": {
       "model_id": "17d2af21c1434ea885fa3ca42ff29f46",
       "version_major": 2,
       "version_minor": 0
      },
      "text/plain": [
       "0it [00:00, ?it/s]"
      ]
     },
     "metadata": {},
     "output_type": "display_data"
    },
    {
     "name": "stdout",
     "output_type": "stream",
     "text": [
      "Testing 1 designs with WL... (triangles only)\n"
     ]
    },
    {
     "data": {
      "application/vnd.jupyter.widget-view+json": {
       "model_id": "e026ddebe33c4dffa2956480ce497e7b",
       "version_major": 2,
       "version_minor": 0
      },
      "text/plain": [
       "  0%|          | 0/1 [00:00<?, ?it/s]"
      ]
     },
     "metadata": {},
     "output_type": "display_data"
    },
    {
     "name": "stdout",
     "output_type": "stream",
     "text": [
      "Searching for coherent refinements of <SAS of degree 8 and ranks [1, 3, 5, 9, 12, 9, 5, 3, 1]>\n",
      "Summary: (8, 48, [1, 3, 5, 9, 12, 9, 5, 3, 1], False, True, 'A4')\n"
     ]
    },
    {
     "data": {
      "application/vnd.jupyter.widget-view+json": {
       "model_id": "b4c6d0da60d844739e920b6f2b6fb707",
       "version_major": 2,
       "version_minor": 0
      },
      "text/plain": [
       "0it [00:00, ?it/s]"
      ]
     },
     "metadata": {},
     "output_type": "display_data"
    },
    {
     "name": "stdout",
     "output_type": "stream",
     "text": [
      "Enumerating monochromatic designs on level 3\n"
     ]
    },
    {
     "data": {
      "application/vnd.jupyter.widget-view+json": {
       "model_id": "698ed5852d5a4b7dbe7f8a0e9e3f1777",
       "version_major": 2,
       "version_minor": 0
      },
      "text/plain": [
       "0it [00:00, ?it/s]"
      ]
     },
     "metadata": {},
     "output_type": "display_data"
    },
    {
     "name": "stdout",
     "output_type": "stream",
     "text": [
      "Enumerating monochromatic designs on level 4\n"
     ]
    },
    {
     "data": {
      "application/vnd.jupyter.widget-view+json": {
       "model_id": "f52cca558c2d4c28972623893402b7ec",
       "version_major": 2,
       "version_minor": 0
      },
      "text/plain": [
       "0it [00:00, ?it/s]"
      ]
     },
     "metadata": {},
     "output_type": "display_data"
    },
    {
     "name": "stdout",
     "output_type": "stream",
     "text": [
      "Testing 0 designs with WL... (triangles only)\n"
     ]
    },
    {
     "data": {
      "application/vnd.jupyter.widget-view+json": {
       "model_id": "0428e88d774642a1a523b5a58ddc55ad",
       "version_major": 2,
       "version_minor": 0
      },
      "text/plain": [
       "0it [00:00, ?it/s]"
      ]
     },
     "metadata": {},
     "output_type": "display_data"
    },
    {
     "name": "stdout",
     "output_type": "stream",
     "text": [
      "Searching for coherent refinements of <SAS of degree 8 and ranks [1, 2, 6, 10, 14, 10, 6, 2, 1]>\n",
      "Summary: (8, 52, [1, 2, 6, 10, 14, 10, 6, 2, 1], False, True, 'C4 x C2')\n"
     ]
    },
    {
     "data": {
      "application/vnd.jupyter.widget-view+json": {
       "model_id": "032ed2806dd743988cccd1b0d50a1abb",
       "version_major": 2,
       "version_minor": 0
      },
      "text/plain": [
       "0it [00:00, ?it/s]"
      ]
     },
     "metadata": {},
     "output_type": "display_data"
    },
    {
     "name": "stdout",
     "output_type": "stream",
     "text": [
      "Enumerating monochromatic designs on level 4\n"
     ]
    },
    {
     "data": {
      "application/vnd.jupyter.widget-view+json": {
       "model_id": "89b6e91d44a645a6b4c13937633ea590",
       "version_major": 2,
       "version_minor": 0
      },
      "text/plain": [
       "0it [00:00, ?it/s]"
      ]
     },
     "metadata": {},
     "output_type": "display_data"
    },
    {
     "name": "stdout",
     "output_type": "stream",
     "text": [
      "Testing 0 designs with WL... (triangles only)\n"
     ]
    },
    {
     "data": {
      "application/vnd.jupyter.widget-view+json": {
       "model_id": "d27869aa0c7644f0937f3a803d73d95d",
       "version_major": 2,
       "version_minor": 0
      },
      "text/plain": [
       "0it [00:00, ?it/s]"
      ]
     },
     "metadata": {},
     "output_type": "display_data"
    },
    {
     "name": "stdout",
     "output_type": "stream",
     "text": [
      "Searching for coherent refinements of <SAS of degree 8 and ranks [1, 2, 7, 8, 13, 8, 7, 2, 1]>\n",
      "Summary: (8, 49, [1, 2, 7, 8, 13, 8, 7, 2, 1], False, True, 'C2 x C2 x C2 x C2')\n"
     ]
    },
    {
     "data": {
      "application/vnd.jupyter.widget-view+json": {
       "model_id": "0442a02521c24e538f8b77b107f13973",
       "version_major": 2,
       "version_minor": 0
      },
      "text/plain": [
       "0it [00:00, ?it/s]"
      ]
     },
     "metadata": {},
     "output_type": "display_data"
    },
    {
     "name": "stdout",
     "output_type": "stream",
     "text": [
      "Enumerating monochromatic designs on level 2\n"
     ]
    },
    {
     "data": {
      "application/vnd.jupyter.widget-view+json": {
       "model_id": "3068ff6b485f45afa370eaf7c399de10",
       "version_major": 2,
       "version_minor": 0
      },
      "text/plain": [
       "0it [00:00, ?it/s]"
      ]
     },
     "metadata": {},
     "output_type": "display_data"
    },
    {
     "name": "stdout",
     "output_type": "stream",
     "text": [
      "Enumerating monochromatic designs on level 3\n"
     ]
    },
    {
     "data": {
      "application/vnd.jupyter.widget-view+json": {
       "model_id": "7aa6a6d0317e42b197243496fca7b351",
       "version_major": 2,
       "version_minor": 0
      },
      "text/plain": [
       "0it [00:00, ?it/s]"
      ]
     },
     "metadata": {},
     "output_type": "display_data"
    },
    {
     "name": "stdout",
     "output_type": "stream",
     "text": [
      "Enumerating monochromatic designs on level 4\n"
     ]
    },
    {
     "data": {
      "application/vnd.jupyter.widget-view+json": {
       "model_id": "dc7d7d7c1b5243bab95ce4e503723e29",
       "version_major": 2,
       "version_minor": 0
      },
      "text/plain": [
       "0it [00:00, ?it/s]"
      ]
     },
     "metadata": {},
     "output_type": "display_data"
    },
    {
     "name": "stdout",
     "output_type": "stream",
     "text": [
      "Testing 3 designs with WL... (triangles only)\n"
     ]
    },
    {
     "data": {
      "application/vnd.jupyter.widget-view+json": {
       "model_id": "7605e80e3a374601b8393532efaac486",
       "version_major": 2,
       "version_minor": 0
      },
      "text/plain": [
       "  0%|          | 0/3 [00:00<?, ?it/s]"
      ]
     },
     "metadata": {},
     "output_type": "display_data"
    },
    {
     "name": "stdout",
     "output_type": "stream",
     "text": [
      "Searching for coherent refinements of <SAS of degree 8 and ranks [1, 2, 5, 8, 11, 8, 5, 2, 1]>\n",
      "Summary: (8, 43, [1, 2, 5, 8, 11, 8, 5, 2, 1], False, False, 'C4 x C2')\n"
     ]
    },
    {
     "data": {
      "application/vnd.jupyter.widget-view+json": {
       "model_id": "160c6b1ee67b4cea907d74f080499380",
       "version_major": 2,
       "version_minor": 0
      },
      "text/plain": [
       "0it [00:00, ?it/s]"
      ]
     },
     "metadata": {},
     "output_type": "display_data"
    },
    {
     "name": "stdout",
     "output_type": "stream",
     "text": [
      "Enumerating monochromatic designs on level 4\n"
     ]
    },
    {
     "data": {
      "application/vnd.jupyter.widget-view+json": {
       "model_id": "81cb640a53c8449882475e352f6fd276",
       "version_major": 2,
       "version_minor": 0
      },
      "text/plain": [
       "0it [00:00, ?it/s]"
      ]
     },
     "metadata": {},
     "output_type": "display_data"
    },
    {
     "name": "stdout",
     "output_type": "stream",
     "text": [
      "Testing 0 designs with WL... (triangles only)\n"
     ]
    },
    {
     "data": {
      "application/vnd.jupyter.widget-view+json": {
       "model_id": "6e3ba0d6627847208834b17d5cbdcff9",
       "version_major": 2,
       "version_minor": 0
      },
      "text/plain": [
       "0it [00:00, ?it/s]"
      ]
     },
     "metadata": {},
     "output_type": "display_data"
    },
    {
     "name": "stdout",
     "output_type": "stream",
     "text": [
      "Searching for coherent refinements of <SAS of degree 8 and ranks [1, 3, 8, 13, 16, 13, 8, 3, 1]>\n",
      "Summary: (8, 66, [1, 3, 8, 13, 16, 13, 8, 3, 1], False, True, 'D4')\n"
     ]
    },
    {
     "data": {
      "application/vnd.jupyter.widget-view+json": {
       "model_id": "c6202e502ba3447b8900e2ef6cbf0e1b",
       "version_major": 2,
       "version_minor": 0
      },
      "text/plain": [
       "0it [00:00, ?it/s]"
      ]
     },
     "metadata": {},
     "output_type": "display_data"
    },
    {
     "name": "stdout",
     "output_type": "stream",
     "text": [
      "Enumerating monochromatic designs on level 3\n"
     ]
    },
    {
     "data": {
      "application/vnd.jupyter.widget-view+json": {
       "model_id": "0138e35e317d4807a025e58c5f1f65b8",
       "version_major": 2,
       "version_minor": 0
      },
      "text/plain": [
       "0it [00:00, ?it/s]"
      ]
     },
     "metadata": {},
     "output_type": "display_data"
    },
    {
     "name": "stdout",
     "output_type": "stream",
     "text": [
      "Enumerating monochromatic designs on level 4\n"
     ]
    },
    {
     "data": {
      "application/vnd.jupyter.widget-view+json": {
       "model_id": "25d880bd913a4bcda7dfdb973153c187",
       "version_major": 2,
       "version_minor": 0
      },
      "text/plain": [
       "0it [00:00, ?it/s]"
      ]
     },
     "metadata": {},
     "output_type": "display_data"
    },
    {
     "name": "stdout",
     "output_type": "stream",
     "text": [
      "Testing 0 designs with WL... (triangles only)\n"
     ]
    },
    {
     "data": {
      "application/vnd.jupyter.widget-view+json": {
       "model_id": "a69828c9a2214a97a0f594ccff06e2d9",
       "version_major": 2,
       "version_minor": 0
      },
      "text/plain": [
       "0it [00:00, ?it/s]"
      ]
     },
     "metadata": {},
     "output_type": "display_data"
    },
    {
     "name": "stdout",
     "output_type": "stream",
     "text": [
      "Searching for coherent refinements of <SAS of degree 8 and ranks [1, 3, 9, 13, 18, 13, 9, 3, 1]>\n",
      "Summary: (8, 70, [1, 3, 9, 13, 18, 13, 9, 3, 1], False, True, 'C2 x C2 x C2')\n"
     ]
    },
    {
     "data": {
      "application/vnd.jupyter.widget-view+json": {
       "model_id": "51684bef87dc4293ab8430a5f68079fe",
       "version_major": 2,
       "version_minor": 0
      },
      "text/plain": [
       "0it [00:00, ?it/s]"
      ]
     },
     "metadata": {},
     "output_type": "display_data"
    },
    {
     "name": "stdout",
     "output_type": "stream",
     "text": [
      "Enumerating monochromatic designs on level 2\n"
     ]
    },
    {
     "data": {
      "application/vnd.jupyter.widget-view+json": {
       "model_id": "b7ed9d737b2747779cc2fa8f95c8dc09",
       "version_major": 2,
       "version_minor": 0
      },
      "text/plain": [
       "0it [00:00, ?it/s]"
      ]
     },
     "metadata": {},
     "output_type": "display_data"
    },
    {
     "name": "stdout",
     "output_type": "stream",
     "text": [
      "Enumerating monochromatic designs on level 3\n"
     ]
    },
    {
     "data": {
      "application/vnd.jupyter.widget-view+json": {
       "model_id": "3c87c73e1b4641049328c88e2115239e",
       "version_major": 2,
       "version_minor": 0
      },
      "text/plain": [
       "0it [00:00, ?it/s]"
      ]
     },
     "metadata": {},
     "output_type": "display_data"
    },
    {
     "name": "stdout",
     "output_type": "stream",
     "text": [
      "Enumerating monochromatic designs on level 4\n"
     ]
    },
    {
     "data": {
      "application/vnd.jupyter.widget-view+json": {
       "model_id": "beda125b76db4edba52736239da080ab",
       "version_major": 2,
       "version_minor": 0
      },
      "text/plain": [
       "0it [00:00, ?it/s]"
      ]
     },
     "metadata": {},
     "output_type": "display_data"
    },
    {
     "name": "stdout",
     "output_type": "stream",
     "text": [
      "Testing 1 designs with WL... (triangles only)\n"
     ]
    },
    {
     "data": {
      "application/vnd.jupyter.widget-view+json": {
       "model_id": "bb5fc0fa1b854a11a268f0da3b00fdde",
       "version_major": 2,
       "version_minor": 0
      },
      "text/plain": [
       "  0%|          | 0/1 [00:00<?, ?it/s]"
      ]
     },
     "metadata": {},
     "output_type": "display_data"
    },
    {
     "name": "stdout",
     "output_type": "stream",
     "text": [
      "Searching for coherent refinements of <SAS of degree 8 and ranks [1, 4, 13, 22, 28, 22, 13, 4, 1]>\n",
      "Summary: (8, 108, [1, 4, 13, 22, 28, 22, 13, 4, 1], False, True, 'C2 x C2')\n"
     ]
    },
    {
     "data": {
      "application/vnd.jupyter.widget-view+json": {
       "model_id": "6a8eecd42a4d4a35843c575c72cdf2e2",
       "version_major": 2,
       "version_minor": 0
      },
      "text/plain": [
       "0it [00:00, ?it/s]"
      ]
     },
     "metadata": {},
     "output_type": "display_data"
    },
    {
     "name": "stdout",
     "output_type": "stream",
     "text": [
      "Enumerating monochromatic designs on level 2\n"
     ]
    },
    {
     "data": {
      "application/vnd.jupyter.widget-view+json": {
       "model_id": "740c982ffae2459fb96568a675f01c1f",
       "version_major": 2,
       "version_minor": 0
      },
      "text/plain": [
       "0it [00:00, ?it/s]"
      ]
     },
     "metadata": {},
     "output_type": "display_data"
    },
    {
     "name": "stdout",
     "output_type": "stream",
     "text": [
      "Enumerating monochromatic designs on level 3\n"
     ]
    },
    {
     "data": {
      "application/vnd.jupyter.widget-view+json": {
       "model_id": "935b3a1aeb8045d28e6cedfb0d40ab8c",
       "version_major": 2,
       "version_minor": 0
      },
      "text/plain": [
       "0it [00:00, ?it/s]"
      ]
     },
     "metadata": {},
     "output_type": "display_data"
    },
    {
     "name": "stdout",
     "output_type": "stream",
     "text": [
      "Enumerating monochromatic designs on level 4\n"
     ]
    },
    {
     "data": {
      "application/vnd.jupyter.widget-view+json": {
       "model_id": "3d567ab862aa40f88c74903ec0c5b1a1",
       "version_major": 2,
       "version_minor": 0
      },
      "text/plain": [
       "0it [00:00, ?it/s]"
      ]
     },
     "metadata": {},
     "output_type": "display_data"
    },
    {
     "name": "stdout",
     "output_type": "stream",
     "text": [
      "Testing 1 designs with WL... (triangles only)\n"
     ]
    },
    {
     "data": {
      "application/vnd.jupyter.widget-view+json": {
       "model_id": "4b6a4d32b6354239828176e00dcdada6",
       "version_major": 2,
       "version_minor": 0
      },
      "text/plain": [
       "  0%|          | 0/1 [00:00<?, ?it/s]"
      ]
     },
     "metadata": {},
     "output_type": "display_data"
    },
    {
     "name": "stdout",
     "output_type": "stream",
     "text": [
      "Searching for coherent refinements of <SAS of degree 8 and ranks [1, 4, 12, 20, 26, 20, 12, 4, 1]>\n",
      "Summary: (8, 100, [1, 4, 12, 20, 26, 20, 12, 4, 1], False, True, 'C2 x C2')\n"
     ]
    },
    {
     "data": {
      "application/vnd.jupyter.widget-view+json": {
       "model_id": "695c815d10e44609a90cabee319d9053",
       "version_major": 2,
       "version_minor": 0
      },
      "text/plain": [
       "0it [00:00, ?it/s]"
      ]
     },
     "metadata": {},
     "output_type": "display_data"
    },
    {
     "name": "stdout",
     "output_type": "stream",
     "text": [
      "Enumerating monochromatic designs on level 2\n"
     ]
    },
    {
     "data": {
      "application/vnd.jupyter.widget-view+json": {
       "model_id": "c2efcb6ced3b4cac873c12de19777349",
       "version_major": 2,
       "version_minor": 0
      },
      "text/plain": [
       "0it [00:00, ?it/s]"
      ]
     },
     "metadata": {},
     "output_type": "display_data"
    },
    {
     "name": "stdout",
     "output_type": "stream",
     "text": [
      "Enumerating monochromatic designs on level 3\n"
     ]
    },
    {
     "data": {
      "application/vnd.jupyter.widget-view+json": {
       "model_id": "743c6ab9430944ea9ba560649b75e58a",
       "version_major": 2,
       "version_minor": 0
      },
      "text/plain": [
       "0it [00:00, ?it/s]"
      ]
     },
     "metadata": {},
     "output_type": "display_data"
    },
    {
     "name": "stdout",
     "output_type": "stream",
     "text": [
      "Enumerating monochromatic designs on level 4\n"
     ]
    },
    {
     "data": {
      "application/vnd.jupyter.widget-view+json": {
       "model_id": "60b9ed35f72c4694ab6f37ee2361cdff",
       "version_major": 2,
       "version_minor": 0
      },
      "text/plain": [
       "0it [00:00, ?it/s]"
      ]
     },
     "metadata": {},
     "output_type": "display_data"
    },
    {
     "name": "stdout",
     "output_type": "stream",
     "text": [
      "Testing 1 designs with WL... (triangles only)\n"
     ]
    },
    {
     "data": {
      "application/vnd.jupyter.widget-view+json": {
       "model_id": "12fbd223c6fd463ab56d011a3baa865b",
       "version_major": 2,
       "version_minor": 0
      },
      "text/plain": [
       "  0%|          | 0/1 [00:00<?, ?it/s]"
      ]
     },
     "metadata": {},
     "output_type": "display_data"
    },
    {
     "name": "stdout",
     "output_type": "stream",
     "text": [
      "Searching for coherent refinements of <SAS of degree 8 and ranks [1, 7, 22, 41, 50, 41, 22, 7, 1]>\n",
      "Summary: (8, 192, [1, 7, 22, 41, 50, 41, 22, 7, 1], False, True, 'C2')\n"
     ]
    },
    {
     "data": {
      "application/vnd.jupyter.widget-view+json": {
       "model_id": "f1b2221f254b45fab7fa6d61fa80beb7",
       "version_major": 2,
       "version_minor": 0
      },
      "text/plain": [
       "0it [00:00, ?it/s]"
      ]
     },
     "metadata": {},
     "output_type": "display_data"
    },
    {
     "name": "stdout",
     "output_type": "stream",
     "text": [
      "Enumerating monochromatic designs on level 1\n"
     ]
    },
    {
     "data": {
      "application/vnd.jupyter.widget-view+json": {
       "model_id": "ab4efcf50624482c868ad2b88f841aca",
       "version_major": 2,
       "version_minor": 0
      },
      "text/plain": [
       "0it [00:00, ?it/s]"
      ]
     },
     "metadata": {},
     "output_type": "display_data"
    },
    {
     "name": "stdout",
     "output_type": "stream",
     "text": [
      "Enumerating monochromatic designs on level 2\n"
     ]
    },
    {
     "data": {
      "application/vnd.jupyter.widget-view+json": {
       "model_id": "ad0fe3890dfe4b68bb55ae9aa6b85b7a",
       "version_major": 2,
       "version_minor": 0
      },
      "text/plain": [
       "0it [00:00, ?it/s]"
      ]
     },
     "metadata": {},
     "output_type": "display_data"
    },
    {
     "name": "stdout",
     "output_type": "stream",
     "text": [
      "Enumerating monochromatic designs on level 3\n"
     ]
    },
    {
     "data": {
      "application/vnd.jupyter.widget-view+json": {
       "model_id": "a00560a045c64bf088ceb0f1010b6092",
       "version_major": 2,
       "version_minor": 0
      },
      "text/plain": [
       "0it [00:00, ?it/s]"
      ]
     },
     "metadata": {},
     "output_type": "display_data"
    },
    {
     "name": "stdout",
     "output_type": "stream",
     "text": [
      "Enumerating monochromatic designs on level 4\n"
     ]
    },
    {
     "data": {
      "application/vnd.jupyter.widget-view+json": {
       "model_id": "c440ff5877a74dcc8e344ea9dab7a6d1",
       "version_major": 2,
       "version_minor": 0
      },
      "text/plain": [
       "0it [00:00, ?it/s]"
      ]
     },
     "metadata": {},
     "output_type": "display_data"
    },
    {
     "name": "stdout",
     "output_type": "stream",
     "text": [
      "Testing 1 designs with WL... (triangles only)\n"
     ]
    },
    {
     "data": {
      "application/vnd.jupyter.widget-view+json": {
       "model_id": "a450b87e56fa4fda95b6eb3eae39d76b",
       "version_major": 2,
       "version_minor": 0
      },
      "text/plain": [
       "  0%|          | 0/1 [00:00<?, ?it/s]"
      ]
     },
     "metadata": {},
     "output_type": "display_data"
    },
    {
     "name": "stdout",
     "output_type": "stream",
     "text": [
      "Searching for coherent refinements of <SAS of degree 8 and ranks [1, 6, 18, 34, 42, 34, 18, 6, 1]>\n",
      "Summary: (8, 160, [1, 6, 18, 34, 42, 34, 18, 6, 1], False, True, 'C2')\n"
     ]
    },
    {
     "data": {
      "application/vnd.jupyter.widget-view+json": {
       "model_id": "5e4f68a8dd44432ca80f740f2af13afa",
       "version_major": 2,
       "version_minor": 0
      },
      "text/plain": [
       "0it [00:00, ?it/s]"
      ]
     },
     "metadata": {},
     "output_type": "display_data"
    },
    {
     "name": "stdout",
     "output_type": "stream",
     "text": [
      "Enumerating monochromatic designs on level 2\n"
     ]
    },
    {
     "data": {
      "application/vnd.jupyter.widget-view+json": {
       "model_id": "becc180d1beb4773937949481d4791b8",
       "version_major": 2,
       "version_minor": 0
      },
      "text/plain": [
       "0it [00:00, ?it/s]"
      ]
     },
     "metadata": {},
     "output_type": "display_data"
    },
    {
     "name": "stdout",
     "output_type": "stream",
     "text": [
      "Enumerating monochromatic designs on level 3\n"
     ]
    },
    {
     "data": {
      "application/vnd.jupyter.widget-view+json": {
       "model_id": "a77856d549b3404ea4a77882a143562d",
       "version_major": 2,
       "version_minor": 0
      },
      "text/plain": [
       "0it [00:00, ?it/s]"
      ]
     },
     "metadata": {},
     "output_type": "display_data"
    },
    {
     "name": "stdout",
     "output_type": "stream",
     "text": [
      "Enumerating monochromatic designs on level 4\n"
     ]
    },
    {
     "data": {
      "application/vnd.jupyter.widget-view+json": {
       "model_id": "546ee69f18fb4f7db73af1084043a098",
       "version_major": 2,
       "version_minor": 0
      },
      "text/plain": [
       "0it [00:00, ?it/s]"
      ]
     },
     "metadata": {},
     "output_type": "display_data"
    },
    {
     "name": "stdout",
     "output_type": "stream",
     "text": [
      "Testing 0 designs with WL... (triangles only)\n"
     ]
    },
    {
     "data": {
      "application/vnd.jupyter.widget-view+json": {
       "model_id": "efdfe63473e24f7aa728413791390a9f",
       "version_major": 2,
       "version_minor": 0
      },
      "text/plain": [
       "0it [00:00, ?it/s]"
      ]
     },
     "metadata": {},
     "output_type": "display_data"
    },
    {
     "name": "stdout",
     "output_type": "stream",
     "text": [
      "Searching for coherent refinements of <SAS of degree 8 and ranks [1, 5, 13, 23, 28, 23, 13, 5, 1]>\n",
      "Summary: (8, 112, [1, 5, 13, 23, 28, 23, 13, 5, 1], False, True, 'C2 x C2')\n"
     ]
    },
    {
     "data": {
      "application/vnd.jupyter.widget-view+json": {
       "model_id": "def19012268b478e9fb1acf2bc431812",
       "version_major": 2,
       "version_minor": 0
      },
      "text/plain": [
       "0it [00:00, ?it/s]"
      ]
     },
     "metadata": {},
     "output_type": "display_data"
    },
    {
     "name": "stdout",
     "output_type": "stream",
     "text": [
      "Enumerating monochromatic designs on level 2\n"
     ]
    },
    {
     "data": {
      "application/vnd.jupyter.widget-view+json": {
       "model_id": "6547517c69cf4e6f9d5768b298f42d1a",
       "version_major": 2,
       "version_minor": 0
      },
      "text/plain": [
       "0it [00:00, ?it/s]"
      ]
     },
     "metadata": {},
     "output_type": "display_data"
    },
    {
     "name": "stdout",
     "output_type": "stream",
     "text": [
      "Enumerating monochromatic designs on level 3\n"
     ]
    },
    {
     "data": {
      "application/vnd.jupyter.widget-view+json": {
       "model_id": "0fee27c9875e4cb6ac78d28c2b8342da",
       "version_major": 2,
       "version_minor": 0
      },
      "text/plain": [
       "0it [00:00, ?it/s]"
      ]
     },
     "metadata": {},
     "output_type": "display_data"
    },
    {
     "name": "stdout",
     "output_type": "stream",
     "text": [
      "Enumerating monochromatic designs on level 4\n"
     ]
    },
    {
     "data": {
      "application/vnd.jupyter.widget-view+json": {
       "model_id": "3b90eba8fb8b45eab4e3c11ddd89a95e",
       "version_major": 2,
       "version_minor": 0
      },
      "text/plain": [
       "0it [00:00, ?it/s]"
      ]
     },
     "metadata": {},
     "output_type": "display_data"
    },
    {
     "name": "stdout",
     "output_type": "stream",
     "text": [
      "Testing 0 designs with WL... (triangles only)\n"
     ]
    },
    {
     "data": {
      "application/vnd.jupyter.widget-view+json": {
       "model_id": "139b9d43c1ed46eeb82432745f5d47e7",
       "version_major": 2,
       "version_minor": 0
      },
      "text/plain": [
       "0it [00:00, ?it/s]"
      ]
     },
     "metadata": {},
     "output_type": "display_data"
    }
   ],
   "source": [
    "all_sas = []\n",
    "all_sas.extend(SAS.find_all(n, verbosity=2))"
   ]
  },
  {
   "cell_type": "code",
   "execution_count": 16,
   "metadata": {},
   "outputs": [
    {
     "data": {
      "text/html": [
       "<div class=\"truncate\"><table  class=\"table_form\">\n",
       "<tbody>\n",
       "<tr class =\"row-a\">\n",
       "<td><script type=\"math/tex\">8</script></td>\n",
       "<td><script type=\"math/tex\">9</script></td>\n",
       "<td><script type=\"math/tex\">\\left[1, 1, 1, 1, 1, 1, 1, 1, 1\\right]</script></td>\n",
       "<td><script type=\"math/tex\">\\mathrm{True}</script></td>\n",
       "<td><script type=\"math/tex\">\\mathrm{True}</script></td>\n",
       "<td>S8</td>\n",
       "</tr>\n",
       "<tr class =\"row-b\">\n",
       "<td><script type=\"math/tex\">8</script></td>\n",
       "<td><script type=\"math/tex\">16</script></td>\n",
       "<td><script type=\"math/tex\">\\left[1, 2, 2, 2, 2, 2, 2, 2, 1\\right]</script></td>\n",
       "<td><script type=\"math/tex\">\\mathrm{False}</script></td>\n",
       "<td><script type=\"math/tex\">\\mathrm{True}</script></td>\n",
       "<td>S7</td>\n",
       "</tr>\n",
       "<tr class =\"row-a\">\n",
       "<td><script type=\"math/tex\">8</script></td>\n",
       "<td><script type=\"math/tex\">15</script></td>\n",
       "<td><script type=\"math/tex\">\\left[1, 1, 2, 2, 3, 2, 2, 1, 1\\right]</script></td>\n",
       "<td><script type=\"math/tex\">\\mathrm{True}</script></td>\n",
       "<td><script type=\"math/tex\">\\mathrm{True}</script></td>\n",
       "<td>(S4 x S4) : C2</td>\n",
       "</tr>\n",
       "<tr class =\"row-b\">\n",
       "<td><script type=\"math/tex\">8</script></td>\n",
       "<td><script type=\"math/tex\">22</script></td>\n",
       "<td><script type=\"math/tex\">\\left[1, 1, 3, 3, 6, 3, 3, 1, 1\\right]</script></td>\n",
       "<td><script type=\"math/tex\">\\mathrm{True}</script></td>\n",
       "<td><script type=\"math/tex\">\\mathrm{True}</script></td>\n",
       "<td>C2 x S4</td>\n",
       "</tr>\n",
       "<tr class =\"row-a\">\n",
       "<td><script type=\"math/tex\">8</script></td>\n",
       "<td><script type=\"math/tex\">21</script></td>\n",
       "<td><script type=\"math/tex\">\\left[1, 1, 3, 3, 5, 3, 3, 1, 1\\right]</script></td>\n",
       "<td><script type=\"math/tex\">\\mathrm{True}</script></td>\n",
       "<td><script type=\"math/tex\">\\mathrm{True}</script></td>\n",
       "<td>(((C2 x C2 x C2 x C2) : C2) : C2) : C2</td>\n",
       "</tr>\n",
       "<tr class =\"row-b\">\n",
       "<td><script type=\"math/tex\">8</script></td>\n",
       "<td><script type=\"math/tex\">84</script></td>\n",
       "<td><script type=\"math/tex\">\\left[1, 3, 10, 17, 22, 17, 10, 3, 1\\right]</script></td>\n",
       "<td><script type=\"math/tex\">\\mathrm{False}</script></td>\n",
       "<td><script type=\"math/tex\">\\mathrm{True}</script></td>\n",
       "<td>C2 x C2</td>\n",
       "</tr>\n",
       "<tr class =\"row-a\">\n",
       "<td><script type=\"math/tex\">8</script></td>\n",
       "<td><script type=\"math/tex\">10</script></td>\n",
       "<td><script type=\"math/tex\">\\left[1, 1, 1, 1, 2, 1, 1, 1, 1\\right]</script></td>\n",
       "<td><script type=\"math/tex\">\\mathrm{True}</script></td>\n",
       "<td><script type=\"math/tex\">\\mathrm{True}</script></td>\n",
       "<td>PSL(3,2) : C2</td>\n",
       "</tr>\n",
       "<tr class =\"row-b\">\n",
       "<td><script type=\"math/tex\">8</script></td>\n",
       "<td><script type=\"math/tex\">25</script></td>\n",
       "<td><script type=\"math/tex\">\\left[1, 2, 3, 4, 5, 4, 3, 2, 1\\right]</script></td>\n",
       "<td><script type=\"math/tex\">\\mathrm{False}</script></td>\n",
       "<td><script type=\"math/tex\">\\mathrm{True}</script></td>\n",
       "<td>S4 x S4</td>\n",
       "</tr>\n",
       "<tr class =\"row-a\">\n",
       "<td><script type=\"math/tex\">8</script></td>\n",
       "<td><script type=\"math/tex\">24</script></td>\n",
       "<td><script type=\"math/tex\">\\left[1, 2, 3, 4, 4, 4, 3, 2, 1\\right]</script></td>\n",
       "<td><script type=\"math/tex\">\\mathrm{False}</script></td>\n",
       "<td><script type=\"math/tex\">\\mathrm{True}</script></td>\n",
       "<td>S3 x S5</td>\n",
       "</tr>\n",
       "<tr class =\"row-b\">\n",
       "<td><script type=\"math/tex\">8</script></td>\n",
       "<td><script type=\"math/tex\">32</script></td>\n",
       "<td><script type=\"math/tex\">\\left[1, 2, 4, 6, 6, 6, 4, 2, 1\\right]</script></td>\n",
       "<td><script type=\"math/tex\">\\mathrm{False}</script></td>\n",
       "<td><script type=\"math/tex\">\\mathrm{True}</script></td>\n",
       "<td>S3 x D5</td>\n",
       "</tr>\n",
       "<tr class =\"row-a\">\n",
       "<td><script type=\"math/tex\">8</script></td>\n",
       "<td><script type=\"math/tex\">15</script></td>\n",
       "<td><script type=\"math/tex\">\\left[1, 1, 2, 2, 3, 2, 2, 1, 1\\right]</script></td>\n",
       "<td><script type=\"math/tex\">\\mathrm{True}</script></td>\n",
       "<td><script type=\"math/tex\">\\mathrm{True}</script></td>\n",
       "<td>((((C2 x C2 x C2 x C2) : C2) : C2) : C3) : C2</td>\n",
       "</tr>\n",
       "<tr class =\"row-b\">\n",
       "<td><script type=\"math/tex\">8</script></td>\n",
       "<td><script type=\"math/tex\">60</script></td>\n",
       "<td><script type=\"math/tex\">\\left[1, 3, 7, 12, 14, 12, 7, 3, 1\\right]</script></td>\n",
       "<td><script type=\"math/tex\">\\mathrm{False}</script></td>\n",
       "<td><script type=\"math/tex\">\\mathrm{True}</script></td>\n",
       "<td>D6</td>\n",
       "</tr>\n",
       "<tr class =\"row-a\">\n",
       "<td><script type=\"math/tex\">8</script></td>\n",
       "<td><script type=\"math/tex\">30</script></td>\n",
       "<td><script type=\"math/tex\">\\left[1, 1, 4, 5, 8, 5, 4, 1, 1\\right]</script></td>\n",
       "<td><script type=\"math/tex\">\\mathrm{True}</script></td>\n",
       "<td><script type=\"math/tex\">\\mathrm{True}</script></td>\n",
       "<td>D8</td>\n",
       "</tr>\n",
       "<tr class =\"row-b\">\n",
       "<td><script type=\"math/tex\">8</script></td>\n",
       "<td><script type=\"math/tex\">10</script></td>\n",
       "<td><script type=\"math/tex\">\\left[1, 1, 1, 1, 2, 1, 1, 1, 1\\right]</script></td>\n",
       "<td><script type=\"math/tex\">\\mathrm{True}</script></td>\n",
       "<td><script type=\"math/tex\">\\mathrm{True}</script></td>\n",
       "<td>(C2 x C2 x C2) : PSL(3,2)</td>\n",
       "</tr>\n",
       "<tr class =\"row-a\">\n",
       "<td><script type=\"math/tex\">8</script></td>\n",
       "<td><script type=\"math/tex\">51</script></td>\n",
       "<td><script type=\"math/tex\">\\left[1, 2, 7, 9, 13, 9, 7, 2, 1\\right]</script></td>\n",
       "<td><script type=\"math/tex\">\\mathrm{False}</script></td>\n",
       "<td><script type=\"math/tex\">\\mathrm{True}</script></td>\n",
       "<td>C2 x D4</td>\n",
       "</tr>\n",
       "<tr class =\"row-b\">\n",
       "<td><script type=\"math/tex\">8</script></td>\n",
       "<td><script type=\"math/tex\">21</script></td>\n",
       "<td><script type=\"math/tex\">\\left[1, 2, 3, 3, 3, 3, 3, 2, 1\\right]</script></td>\n",
       "<td><script type=\"math/tex\">\\mathrm{False}</script></td>\n",
       "<td><script type=\"math/tex\">\\mathrm{True}</script></td>\n",
       "<td>C2 x S6</td>\n",
       "</tr>\n",
       "<tr class =\"row-a\">\n",
       "<td><script type=\"math/tex\">8</script></td>\n",
       "<td><script type=\"math/tex\">36</script></td>\n",
       "<td><script type=\"math/tex\">\\left[1, 3, 5, 6, 6, 6, 5, 3, 1\\right]</script></td>\n",
       "<td><script type=\"math/tex\">\\mathrm{False}</script></td>\n",
       "<td><script type=\"math/tex\">\\mathrm{True}</script></td>\n",
       "<td>C2 x S5</td>\n",
       "</tr>\n",
       "<tr class =\"row-b\">\n",
       "<td><script type=\"math/tex\">8</script></td>\n",
       "<td><script type=\"math/tex\">48</script></td>\n",
       "<td><script type=\"math/tex\">\\left[1, 3, 6, 9, 10, 9, 6, 3, 1\\right]</script></td>\n",
       "<td><script type=\"math/tex\">\\mathrm{False}</script></td>\n",
       "<td><script type=\"math/tex\">\\mathrm{True}</script></td>\n",
       "<td>D4 x S3</td>\n",
       "</tr>\n",
       "<tr class =\"row-a\">\n",
       "<td><script type=\"math/tex\">8</script></td>\n",
       "<td><script type=\"math/tex\">20</script></td>\n",
       "<td><script type=\"math/tex\">\\left[1, 2, 2, 3, 4, 3, 2, 2, 1\\right]</script></td>\n",
       "<td><script type=\"math/tex\">\\mathrm{False}</script></td>\n",
       "<td><script type=\"math/tex\">\\mathrm{True}</script></td>\n",
       "<td>C7 : C6</td>\n",
       "</tr>\n",
       "<tr class =\"row-b\">\n",
       "<td><script type=\"math/tex\">8</script></td>\n",
       "<td><script type=\"math/tex\">40</script></td>\n",
       "<td><script type=\"math/tex\">\\left[1, 3, 5, 7, 8, 7, 5, 3, 1\\right]</script></td>\n",
       "<td><script type=\"math/tex\">\\mathrm{False}</script></td>\n",
       "<td><script type=\"math/tex\">\\mathrm{True}</script></td>\n",
       "<td>S3 x S4</td>\n",
       "</tr>\n",
       "<tr class =\"row-a\">\n",
       "<td><script type=\"math/tex\">8</script></td>\n",
       "<td><script type=\"math/tex\">36</script></td>\n",
       "<td><script type=\"math/tex\">\\left[1, 2, 4, 7, 8, 7, 4, 2, 1\\right]</script></td>\n",
       "<td><script type=\"math/tex\">\\mathrm{False}</script></td>\n",
       "<td><script type=\"math/tex\">\\mathrm{True}</script></td>\n",
       "<td>D7</td>\n",
       "</tr>\n",
       "<tr class =\"row-b\">\n",
       "<td><script type=\"math/tex\">8</script></td>\n",
       "<td><script type=\"math/tex\">20</script></td>\n",
       "<td><script type=\"math/tex\">\\left[1, 2, 2, 3, 4, 3, 2, 2, 1\\right]</script></td>\n",
       "<td><script type=\"math/tex\">\\mathrm{False}</script></td>\n",
       "<td><script type=\"math/tex\">\\mathrm{True}</script></td>\n",
       "<td>PSL(3,2)</td>\n",
       "</tr>\n",
       "<tr class =\"row-a\">\n",
       "<td><script type=\"math/tex\">8</script></td>\n",
       "<td><script type=\"math/tex\">28</script></td>\n",
       "<td><script type=\"math/tex\">\\left[1, 3, 4, 4, 4, 4, 4, 3, 1\\right]</script></td>\n",
       "<td><script type=\"math/tex\">\\mathrm{False}</script></td>\n",
       "<td><script type=\"math/tex\">\\mathrm{True}</script></td>\n",
       "<td>S6</td>\n",
       "</tr>\n",
       "<tr class =\"row-b\">\n",
       "<td><script type=\"math/tex\">8</script></td>\n",
       "<td><script type=\"math/tex\">96</script></td>\n",
       "<td><script type=\"math/tex\">\\left[1, 4, 10, 20, 26, 20, 10, 4, 1\\right]</script></td>\n",
       "<td><script type=\"math/tex\">\\mathrm{False}</script></td>\n",
       "<td><script type=\"math/tex\">\\mathrm{True}</script></td>\n",
       "<td>C3</td>\n",
       "</tr>\n",
       "<tr class =\"row-a\">\n",
       "<td><script type=\"math/tex\">8</script></td>\n",
       "<td><script type=\"math/tex\">70</script></td>\n",
       "<td><script type=\"math/tex\">\\left[1, 2, 8, 14, 20, 14, 8, 2, 1\\right]</script></td>\n",
       "<td><script type=\"math/tex\">\\mathrm{False}</script></td>\n",
       "<td><script type=\"math/tex\">\\mathrm{True}</script></td>\n",
       "<td>C4</td>\n",
       "</tr>\n",
       "<tr class =\"row-b\">\n",
       "<td><script type=\"math/tex\">8</script></td>\n",
       "<td><script type=\"math/tex\">96</script></td>\n",
       "<td><script type=\"math/tex\">\\left[1, 4, 11, 20, 24, 20, 11, 4, 1\\right]</script></td>\n",
       "<td><script type=\"math/tex\">\\mathrm{False}</script></td>\n",
       "<td><script type=\"math/tex\">\\mathrm{True}</script></td>\n",
       "<td>C2 x C2</td>\n",
       "</tr>\n",
       "<tr class =\"row-a\">\n",
       "<td><script type=\"math/tex\">8</script></td>\n",
       "<td><script type=\"math/tex\">256</script></td>\n",
       "<td><script type=\"math/tex\">\\left[1, 8, 28, 56, 70, 56, 28, 8, 1\\right]</script></td>\n",
       "<td><script type=\"math/tex\">\\mathrm{False}</script></td>\n",
       "<td><script type=\"math/tex\">\\mathrm{True}</script></td>\n",
       "<td>1</td>\n",
       "</tr>\n",
       "<tr class =\"row-b\">\n",
       "<td><script type=\"math/tex\">8</script></td>\n",
       "<td><script type=\"math/tex\">16</script></td>\n",
       "<td><script type=\"math/tex\">\\left[1, 1, 2, 2, 4, 2, 2, 1, 1\\right]</script></td>\n",
       "<td><script type=\"math/tex\">\\mathrm{True}</script></td>\n",
       "<td><script type=\"math/tex\">\\mathrm{True}</script></td>\n",
       "<td>(((C2 x C2 x C2 x C2) : C3) : C2) : C2</td>\n",
       "</tr>\n",
       "<tr class =\"row-a\">\n",
       "<td><script type=\"math/tex\">8</script></td>\n",
       "<td><script type=\"math/tex\">27</script></td>\n",
       "<td><script type=\"math/tex\">\\left[1, 1, 4, 4, 7, 4, 4, 1, 1\\right]</script></td>\n",
       "<td><script type=\"math/tex\">\\mathrm{True}</script></td>\n",
       "<td><script type=\"math/tex\">\\mathrm{True}</script></td>\n",
       "<td>((C2 x C2 x C2 x C2) : C2) : C2</td>\n",
       "</tr>\n",
       "<tr class =\"row-b\">\n",
       "<td><script type=\"math/tex\">8</script></td>\n",
       "<td><script type=\"math/tex\">27</script></td>\n",
       "<td><script type=\"math/tex\">\\left[1, 1, 3, 5, 7, 5, 3, 1, 1\\right]</script></td>\n",
       "<td><script type=\"math/tex\">\\mathrm{True}</script></td>\n",
       "<td><script type=\"math/tex\">\\mathrm{True}</script></td>\n",
       "<td>C8 : C2</td>\n",
       "</tr>\n",
       "<tr class =\"row-a\">\n",
       "<td><script type=\"math/tex\">8</script></td>\n",
       "<td><script type=\"math/tex\">35</script></td>\n",
       "<td><script type=\"math/tex\">\\left[1, 2, 4, 6, 9, 6, 4, 2, 1\\right]</script></td>\n",
       "<td><script type=\"math/tex\">\\mathrm{False}</script></td>\n",
       "<td><script type=\"math/tex\">\\mathrm{True}</script></td>\n",
       "<td>S4</td>\n",
       "</tr>\n",
       "<tr class =\"row-b\">\n",
       "<td><script type=\"math/tex\">8</script></td>\n",
       "<td><script type=\"math/tex\">34</script></td>\n",
       "<td><script type=\"math/tex\">\\left[1, 1, 5, 5, 10, 5, 5, 1, 1\\right]</script></td>\n",
       "<td><script type=\"math/tex\">\\mathrm{True}</script></td>\n",
       "<td><script type=\"math/tex\">\\mathrm{True}</script></td>\n",
       "<td>C2 x D4</td>\n",
       "</tr>\n",
       "<tr class =\"row-a\">\n",
       "<td><script type=\"math/tex\">8</script></td>\n",
       "<td><script type=\"math/tex\">43</script></td>\n",
       "<td><script type=\"math/tex\">\\left[1, 1, 6, 7, 13, 7, 6, 1, 1\\right]</script></td>\n",
       "<td><script type=\"math/tex\">\\mathrm{True}</script></td>\n",
       "<td><script type=\"math/tex\">\\mathrm{True}</script></td>\n",
       "<td>D4</td>\n",
       "</tr>\n",
       "<tr class =\"row-b\">\n",
       "<td><script type=\"math/tex\">8</script></td>\n",
       "<td><script type=\"math/tex\">23</script></td>\n",
       "<td><script type=\"math/tex\">\\left[1, 1, 3, 3, 7, 3, 3, 1, 1\\right]</script></td>\n",
       "<td><script type=\"math/tex\">\\mathrm{True}</script></td>\n",
       "<td><script type=\"math/tex\">\\mathrm{True}</script></td>\n",
       "<td>S4</td>\n",
       "</tr>\n",
       "<tr class =\"row-a\">\n",
       "<td><script type=\"math/tex\">8</script></td>\n",
       "<td><script type=\"math/tex\">76</script></td>\n",
       "<td><script type=\"math/tex\">\\left[1, 2, 10, 14, 22, 14, 10, 2, 1\\right]</script></td>\n",
       "<td><script type=\"math/tex\">\\mathrm{False}</script></td>\n",
       "<td><script type=\"math/tex\">\\mathrm{True}</script></td>\n",
       "<td>C2 x C2</td>\n",
       "</tr>\n",
       "<tr class =\"row-b\">\n",
       "<td><script type=\"math/tex\">8</script></td>\n",
       "<td><script type=\"math/tex\">27</script></td>\n",
       "<td><script type=\"math/tex\">\\left[1, 1, 3, 5, 7, 5, 3, 1, 1\\right]</script></td>\n",
       "<td><script type=\"math/tex\">\\mathrm{True}</script></td>\n",
       "<td><script type=\"math/tex\">\\mathrm{True}</script></td>\n",
       "<td>QD16</td>\n",
       "</tr>\n",
       "<tr class =\"row-a\">\n",
       "<td><script type=\"math/tex\">8</script></td>\n",
       "<td><script type=\"math/tex\">66</script></td>\n",
       "<td><script type=\"math/tex\">\\left[1, 3, 8, 13, 16, 13, 8, 3, 1\\right]</script></td>\n",
       "<td><script type=\"math/tex\">\\mathrm{False}</script></td>\n",
       "<td><script type=\"math/tex\">\\mathrm{True}</script></td>\n",
       "<td>C2 x C2 x C2</td>\n",
       "</tr>\n",
       "<tr class =\"row-b\">\n",
       "<td><script type=\"math/tex\">8</script></td>\n",
       "<td><script type=\"math/tex\">22</script></td>\n",
       "<td><script type=\"math/tex\">\\left[1, 1, 3, 3, 6, 3, 3, 1, 1\\right]</script></td>\n",
       "<td><script type=\"math/tex\">\\mathrm{True}</script></td>\n",
       "<td><script type=\"math/tex\">\\mathrm{True}</script></td>\n",
       "<td>((C2 x C2 x C2 x C2) : C2) : C2</td>\n",
       "</tr>\n",
       "<tr class =\"row-a\">\n",
       "<td><script type=\"math/tex\">8</script></td>\n",
       "<td><script type=\"math/tex\">24</script></td>\n",
       "<td><script type=\"math/tex\">\\left[1, 1, 3, 4, 6, 4, 3, 1, 1\\right]</script></td>\n",
       "<td><script type=\"math/tex\">\\mathrm{True}</script></td>\n",
       "<td><script type=\"math/tex\">\\mathrm{True}</script></td>\n",
       "<td>C8 : (C2 x C2)</td>\n",
       "</tr>\n",
       "<tr class =\"row-b\">\n",
       "<td><script type=\"math/tex\">8</script></td>\n",
       "<td><script type=\"math/tex\">30</script></td>\n",
       "<td><script type=\"math/tex\">\\left[1, 1, 4, 5, 8, 5, 4, 1, 1\\right]</script></td>\n",
       "<td><script type=\"math/tex\">\\mathrm{True}</script></td>\n",
       "<td><script type=\"math/tex\">\\mathrm{False}</script></td>\n",
       "<td>(C4 x C2) : C2</td>\n",
       "</tr>\n",
       "<tr class =\"row-a\">\n",
       "<td><script type=\"math/tex\">8</script></td>\n",
       "<td><script type=\"math/tex\">55</script></td>\n",
       "<td><script type=\"math/tex\">\\left[1, 2, 7, 10, 15, 10, 7, 2, 1\\right]</script></td>\n",
       "<td><script type=\"math/tex\">\\mathrm{False}</script></td>\n",
       "<td><script type=\"math/tex\">\\mathrm{True}</script></td>\n",
       "<td>D4</td>\n",
       "</tr>\n",
       "<tr class =\"row-b\">\n",
       "<td><script type=\"math/tex\">8</script></td>\n",
       "<td><script type=\"math/tex\">24</script></td>\n",
       "<td><script type=\"math/tex\">\\left[1, 1, 3, 4, 6, 4, 3, 1, 1\\right]</script></td>\n",
       "<td><script type=\"math/tex\">\\mathrm{True}</script></td>\n",
       "<td><script type=\"math/tex\">\\mathrm{True}</script></td>\n",
       "<td>((C2 x C2 x C2) : C4) : C2</td>\n",
       "</tr>\n",
       "<tr class =\"row-a\">\n",
       "<td><script type=\"math/tex\">8</script></td>\n",
       "<td><script type=\"math/tex\">28</script></td>\n",
       "<td><script type=\"math/tex\">\\left[1, 1, 4, 4, 8, 4, 4, 1, 1\\right]</script></td>\n",
       "<td><script type=\"math/tex\">\\mathrm{True}</script></td>\n",
       "<td><script type=\"math/tex\">\\mathrm{True}</script></td>\n",
       "<td>(C2 x C2 x C2 x C2) : C2</td>\n",
       "</tr>\n",
       "<tr class =\"row-b\">\n",
       "<td><script type=\"math/tex\">8</script></td>\n",
       "<td><script type=\"math/tex\">136</script></td>\n",
       "<td><script type=\"math/tex\">\\left[1, 4, 16, 28, 38, 28, 16, 4, 1\\right]</script></td>\n",
       "<td><script type=\"math/tex\">\\mathrm{False}</script></td>\n",
       "<td><script type=\"math/tex\">\\mathrm{True}</script></td>\n",
       "<td>C2</td>\n",
       "</tr>\n",
       "<tr class =\"row-a\">\n",
       "<td><script type=\"math/tex\">8</script></td>\n",
       "<td><script type=\"math/tex\">11</script></td>\n",
       "<td><script type=\"math/tex\">\\left[1, 1, 1, 1, 3, 1, 1, 1, 1\\right]</script></td>\n",
       "<td><script type=\"math/tex\">\\mathrm{True}</script></td>\n",
       "<td><script type=\"math/tex\">\\mathrm{True}</script></td>\n",
       "<td>PSL(3,2)</td>\n",
       "</tr>\n",
       "<tr class =\"row-b\">\n",
       "<td><script type=\"math/tex\">8</script></td>\n",
       "<td><script type=\"math/tex\">45</script></td>\n",
       "<td><script type=\"math/tex\">\\left[1, 2, 6, 8, 11, 8, 6, 2, 1\\right]</script></td>\n",
       "<td><script type=\"math/tex\">\\mathrm{False}</script></td>\n",
       "<td><script type=\"math/tex\">\\mathrm{True}</script></td>\n",
       "<td>(C2 x C2 x C2 x C2) : C2</td>\n",
       "</tr>\n",
       "<tr class =\"row-a\">\n",
       "<td><script type=\"math/tex\">8</script></td>\n",
       "<td><script type=\"math/tex\">30</script></td>\n",
       "<td><script type=\"math/tex\">\\left[1, 2, 4, 5, 6, 5, 4, 2, 1\\right]</script></td>\n",
       "<td><script type=\"math/tex\">\\mathrm{False}</script></td>\n",
       "<td><script type=\"math/tex\">\\mathrm{True}</script></td>\n",
       "<td>S4 x D4</td>\n",
       "</tr>\n",
       "<tr class =\"row-b\">\n",
       "<td><script type=\"math/tex\">8</script></td>\n",
       "<td><script type=\"math/tex\">45</script></td>\n",
       "<td><script type=\"math/tex\">\\left[1, 3, 6, 8, 9, 8, 6, 3, 1\\right]</script></td>\n",
       "<td><script type=\"math/tex\">\\mathrm{False}</script></td>\n",
       "<td><script type=\"math/tex\">\\mathrm{True}</script></td>\n",
       "<td>C2 x C2 x S4</td>\n",
       "</tr>\n",
       "<tr class =\"row-a\">\n",
       "<td><script type=\"math/tex\">8</script></td>\n",
       "<td><script type=\"math/tex\">26</script></td>\n",
       "<td><script type=\"math/tex\">\\left[1, 2, 3, 4, 6, 4, 3, 2, 1\\right]</script></td>\n",
       "<td><script type=\"math/tex\">\\mathrm{False}</script></td>\n",
       "<td><script type=\"math/tex\">\\mathrm{True}</script></td>\n",
       "<td>((C2 x C2 x C2 x C2) : C3) : C2</td>\n",
       "</tr>\n",
       "<tr class =\"row-b\">\n",
       "<td><script type=\"math/tex\">8</script></td>\n",
       "<td><script type=\"math/tex\">51</script></td>\n",
       "<td><script type=\"math/tex\">\\left[1, 2, 6, 10, 13, 10, 6, 2, 1\\right]</script></td>\n",
       "<td><script type=\"math/tex\">\\mathrm{False}</script></td>\n",
       "<td><script type=\"math/tex\">\\mathrm{True}</script></td>\n",
       "<td>D4</td>\n",
       "</tr>\n",
       "<tr class =\"row-a\">\n",
       "<td><script type=\"math/tex\">8</script></td>\n",
       "<td><script type=\"math/tex\">48</script></td>\n",
       "<td><script type=\"math/tex\">\\left[1, 3, 6, 9, 10, 9, 6, 3, 1\\right]</script></td>\n",
       "<td><script type=\"math/tex\">\\mathrm{False}</script></td>\n",
       "<td><script type=\"math/tex\">\\mathrm{True}</script></td>\n",
       "<td>C2 x S3 x S3</td>\n",
       "</tr>\n",
       "<tr class =\"row-b\">\n",
       "<td><script type=\"math/tex\">8</script></td>\n",
       "<td><script type=\"math/tex\">18</script></td>\n",
       "<td><script type=\"math/tex\">\\left[1, 1, 2, 3, 4, 3, 2, 1, 1\\right]</script></td>\n",
       "<td><script type=\"math/tex\">\\mathrm{True}</script></td>\n",
       "<td><script type=\"math/tex\">\\mathrm{True}</script></td>\n",
       "<td>GL(2,3)</td>\n",
       "</tr>\n",
       "<tr class =\"row-a\">\n",
       "<td><script type=\"math/tex\">8</script></td>\n",
       "<td><script type=\"math/tex\">144</script></td>\n",
       "<td><script type=\"math/tex\">\\left[1, 5, 16, 31, 38, 31, 16, 5, 1\\right]</script></td>\n",
       "<td><script type=\"math/tex\">\\mathrm{False}</script></td>\n",
       "<td><script type=\"math/tex\">\\mathrm{True}</script></td>\n",
       "<td>C2</td>\n",
       "</tr>\n",
       "<tr class =\"row-b\">\n",
       "<td><script type=\"math/tex\">8</script></td>\n",
       "<td><script type=\"math/tex\">72</script></td>\n",
       "<td><script type=\"math/tex\">\\left[1, 3, 8, 15, 18, 15, 8, 3, 1\\right]</script></td>\n",
       "<td><script type=\"math/tex\">\\mathrm{False}</script></td>\n",
       "<td><script type=\"math/tex\">\\mathrm{True}</script></td>\n",
       "<td>C6</td>\n",
       "</tr>\n",
       "<tr class =\"row-a\">\n",
       "<td><script type=\"math/tex\">8</script></td>\n",
       "<td><script type=\"math/tex\">58</script></td>\n",
       "<td><script type=\"math/tex\">\\left[1, 2, 8, 10, 16, 10, 8, 2, 1\\right]</script></td>\n",
       "<td><script type=\"math/tex\">\\mathrm{False}</script></td>\n",
       "<td><script type=\"math/tex\">\\mathrm{True}</script></td>\n",
       "<td>C2 x C2 x C2</td>\n",
       "</tr>\n",
       "<tr class =\"row-b\">\n",
       "<td><script type=\"math/tex\">8</script></td>\n",
       "<td><script type=\"math/tex\">16</script></td>\n",
       "<td><script type=\"math/tex\">\\left[1, 1, 2, 2, 4, 2, 2, 1, 1\\right]</script></td>\n",
       "<td><script type=\"math/tex\">\\mathrm{True}</script></td>\n",
       "<td><script type=\"math/tex\">\\mathrm{True}</script></td>\n",
       "<td>(((C2 x C2 x C2) : (C2 x C2)) : C3) : C2</td>\n",
       "</tr>\n",
       "<tr class =\"row-a\">\n",
       "<td><script type=\"math/tex\">8</script></td>\n",
       "<td><script type=\"math/tex\">64</script></td>\n",
       "<td><script type=\"math/tex\">\\left[1, 3, 7, 13, 16, 13, 7, 3, 1\\right]</script></td>\n",
       "<td><script type=\"math/tex\">\\mathrm{False}</script></td>\n",
       "<td><script type=\"math/tex\">\\mathrm{True}</script></td>\n",
       "<td>S3</td>\n",
       "</tr>\n",
       "<tr class =\"row-b\">\n",
       "<td><script type=\"math/tex\">8</script></td>\n",
       "<td><script type=\"math/tex\">36</script></td>\n",
       "<td><script type=\"math/tex\">\\left[1, 1, 4, 7, 10, 7, 4, 1, 1\\right]</script></td>\n",
       "<td><script type=\"math/tex\">\\mathrm{True}</script></td>\n",
       "<td><script type=\"math/tex\">\\mathrm{True}</script></td>\n",
       "<td>C8</td>\n",
       "</tr>\n",
       "<tr class =\"row-a\">\n",
       "<td><script type=\"math/tex\">8</script></td>\n",
       "<td><script type=\"math/tex\">54</script></td>\n",
       "<td><script type=\"math/tex\">\\left[1, 2, 7, 10, 14, 10, 7, 2, 1\\right]</script></td>\n",
       "<td><script type=\"math/tex\">\\mathrm{False}</script></td>\n",
       "<td><script type=\"math/tex\">\\mathrm{True}</script></td>\n",
       "<td>C4 x C2</td>\n",
       "</tr>\n",
       "<tr class =\"row-b\">\n",
       "<td><script type=\"math/tex\">8</script></td>\n",
       "<td><script type=\"math/tex\">54</script></td>\n",
       "<td><script type=\"math/tex\">\\left[1, 2, 7, 10, 14, 10, 7, 2, 1\\right]</script></td>\n",
       "<td><script type=\"math/tex\">\\mathrm{False}</script></td>\n",
       "<td><script type=\"math/tex\">\\mathrm{True}</script></td>\n",
       "<td>D4</td>\n",
       "</tr>\n",
       "<tr class =\"row-a\">\n",
       "<td><script type=\"math/tex\">8</script></td>\n",
       "<td><script type=\"math/tex\">36</script></td>\n",
       "<td><script type=\"math/tex\">\\left[1, 2, 5, 6, 8, 6, 5, 2, 1\\right]</script></td>\n",
       "<td><script type=\"math/tex\">\\mathrm{False}</script></td>\n",
       "<td><script type=\"math/tex\">\\mathrm{True}</script></td>\n",
       "<td>(S3 x S3) : C2</td>\n",
       "</tr>\n",
       "<tr class =\"row-b\">\n",
       "<td><script type=\"math/tex\">8</script></td>\n",
       "<td><script type=\"math/tex\">24</script></td>\n",
       "<td><script type=\"math/tex\">\\left[1, 2, 3, 4, 4, 4, 3, 2, 1\\right]</script></td>\n",
       "<td><script type=\"math/tex\">\\mathrm{False}</script></td>\n",
       "<td><script type=\"math/tex\">\\mathrm{True}</script></td>\n",
       "<td>C2 x A5</td>\n",
       "</tr>\n",
       "<tr class =\"row-a\">\n",
       "<td><script type=\"math/tex\">8</script></td>\n",
       "<td><script type=\"math/tex\">30</script></td>\n",
       "<td><script type=\"math/tex\">\\left[1, 2, 4, 5, 6, 5, 4, 2, 1\\right]</script></td>\n",
       "<td><script type=\"math/tex\">\\mathrm{False}</script></td>\n",
       "<td><script type=\"math/tex\">\\mathrm{True}</script></td>\n",
       "<td>C2 x C2 x S4</td>\n",
       "</tr>\n",
       "<tr class =\"row-b\">\n",
       "<td><script type=\"math/tex\">8</script></td>\n",
       "<td><script type=\"math/tex\">22</script></td>\n",
       "<td><script type=\"math/tex\">\\left[1, 2, 3, 3, 4, 3, 3, 2, 1\\right]</script></td>\n",
       "<td><script type=\"math/tex\">\\mathrm{False}</script></td>\n",
       "<td><script type=\"math/tex\">\\mathrm{True}</script></td>\n",
       "<td>S5</td>\n",
       "</tr>\n",
       "<tr class =\"row-a\">\n",
       "<td><script type=\"math/tex\">8</script></td>\n",
       "<td><script type=\"math/tex\">39</script></td>\n",
       "<td><script type=\"math/tex\">\\left[1, 2, 5, 7, 9, 7, 5, 2, 1\\right]</script></td>\n",
       "<td><script type=\"math/tex\">\\mathrm{False}</script></td>\n",
       "<td><script type=\"math/tex\">\\mathrm{True}</script></td>\n",
       "<td>C2 x C2 x S3</td>\n",
       "</tr>\n",
       "<tr class =\"row-b\">\n",
       "<td><script type=\"math/tex\">8</script></td>\n",
       "<td><script type=\"math/tex\">30</script></td>\n",
       "<td><script type=\"math/tex\">\\left[1, 2, 4, 5, 6, 5, 4, 2, 1\\right]</script></td>\n",
       "<td><script type=\"math/tex\">\\mathrm{False}</script></td>\n",
       "<td><script type=\"math/tex\">\\mathrm{True}</script></td>\n",
       "<td>C2 x ((S3 x S3) : C2)</td>\n",
       "</tr>\n",
       "<tr class =\"row-a\">\n",
       "<td><script type=\"math/tex\">8</script></td>\n",
       "<td><script type=\"math/tex\">48</script></td>\n",
       "<td><script type=\"math/tex\">\\left[1, 3, 6, 9, 10, 9, 6, 3, 1\\right]</script></td>\n",
       "<td><script type=\"math/tex\">\\mathrm{False}</script></td>\n",
       "<td><script type=\"math/tex\">\\mathrm{True}</script></td>\n",
       "<td>D10</td>\n",
       "</tr>\n",
       "<tr class =\"row-b\">\n",
       "<td><script type=\"math/tex\">8</script></td>\n",
       "<td><script type=\"math/tex\">72</script></td>\n",
       "<td><script type=\"math/tex\">\\left[1, 4, 9, 14, 16, 14, 9, 4, 1\\right]</script></td>\n",
       "<td><script type=\"math/tex\">\\mathrm{False}</script></td>\n",
       "<td><script type=\"math/tex\">\\mathrm{True}</script></td>\n",
       "<td>C2 x C2 x S3</td>\n",
       "</tr>\n",
       "<tr class =\"row-a\">\n",
       "<td><script type=\"math/tex\">8</script></td>\n",
       "<td><script type=\"math/tex\">40</script></td>\n",
       "<td><script type=\"math/tex\">\\left[1, 3, 5, 7, 8, 7, 5, 3, 1\\right]</script></td>\n",
       "<td><script type=\"math/tex\">\\mathrm{False}</script></td>\n",
       "<td><script type=\"math/tex\">\\mathrm{True}</script></td>\n",
       "<td>C5 : C4</td>\n",
       "</tr>\n",
       "<tr class =\"row-b\">\n",
       "<td><script type=\"math/tex\">8</script></td>\n",
       "<td><script type=\"math/tex\">48</script></td>\n",
       "<td><script type=\"math/tex\">\\left[1, 4, 7, 8, 8, 8, 7, 4, 1\\right]</script></td>\n",
       "<td><script type=\"math/tex\">\\mathrm{False}</script></td>\n",
       "<td><script type=\"math/tex\">\\mathrm{True}</script></td>\n",
       "<td>S5</td>\n",
       "</tr>\n",
       "<tr class =\"row-a\">\n",
       "<td><script type=\"math/tex\">8</script></td>\n",
       "<td><script type=\"math/tex\">60</script></td>\n",
       "<td><script type=\"math/tex\">\\left[1, 4, 8, 11, 12, 11, 8, 4, 1\\right]</script></td>\n",
       "<td><script type=\"math/tex\">\\mathrm{False}</script></td>\n",
       "<td><script type=\"math/tex\">\\mathrm{True}</script></td>\n",
       "<td>C2 x S4</td>\n",
       "</tr>\n",
       "<tr class =\"row-b\">\n",
       "<td><script type=\"math/tex\">8</script></td>\n",
       "<td><script type=\"math/tex\">56</script></td>\n",
       "<td><script type=\"math/tex\">\\left[1, 3, 7, 11, 12, 11, 7, 3, 1\\right]</script></td>\n",
       "<td><script type=\"math/tex\">\\mathrm{False}</script></td>\n",
       "<td><script type=\"math/tex\">\\mathrm{True}</script></td>\n",
       "<td>C2 x C2 x S3</td>\n",
       "</tr>\n",
       "<tr class =\"row-a\">\n",
       "<td><script type=\"math/tex\">8</script></td>\n",
       "<td><script type=\"math/tex\">24</script></td>\n",
       "<td><script type=\"math/tex\">\\left[1, 2, 2, 4, 6, 4, 2, 2, 1\\right]</script></td>\n",
       "<td><script type=\"math/tex\">\\mathrm{False}</script></td>\n",
       "<td><script type=\"math/tex\">\\mathrm{True}</script></td>\n",
       "<td>C7 : C3</td>\n",
       "</tr>\n",
       "<tr class =\"row-b\">\n",
       "<td><script type=\"math/tex\">8</script></td>\n",
       "<td><script type=\"math/tex\">44</script></td>\n",
       "<td><script type=\"math/tex\">\\left[1, 3, 5, 8, 10, 8, 5, 3, 1\\right]</script></td>\n",
       "<td><script type=\"math/tex\">\\mathrm{False}</script></td>\n",
       "<td><script type=\"math/tex\">\\mathrm{True}</script></td>\n",
       "<td>S4</td>\n",
       "</tr>\n",
       "<tr class =\"row-a\">\n",
       "<td><script type=\"math/tex\">8</script></td>\n",
       "<td><script type=\"math/tex\">64</script></td>\n",
       "<td><script type=\"math/tex\">\\left[1, 4, 8, 12, 14, 12, 8, 4, 1\\right]</script></td>\n",
       "<td><script type=\"math/tex\">\\mathrm{False}</script></td>\n",
       "<td><script type=\"math/tex\">\\mathrm{True}</script></td>\n",
       "<td>S3 x S3</td>\n",
       "</tr>\n",
       "<tr class =\"row-b\">\n",
       "<td><script type=\"math/tex\">8</script></td>\n",
       "<td><script type=\"math/tex\">40</script></td>\n",
       "<td><script type=\"math/tex\">\\left[1, 2, 4, 8, 10, 8, 4, 2, 1\\right]</script></td>\n",
       "<td><script type=\"math/tex\">\\mathrm{False}</script></td>\n",
       "<td><script type=\"math/tex\">\\mathrm{True}</script></td>\n",
       "<td>C7</td>\n",
       "</tr>\n",
       "<tr class =\"row-a\">\n",
       "<td><script type=\"math/tex\">8</script></td>\n",
       "<td><script type=\"math/tex\">32</script></td>\n",
       "<td><script type=\"math/tex\">\\left[1, 3, 4, 5, 6, 5, 4, 3, 1\\right]</script></td>\n",
       "<td><script type=\"math/tex\">\\mathrm{False}</script></td>\n",
       "<td><script type=\"math/tex\">\\mathrm{True}</script></td>\n",
       "<td>A5</td>\n",
       "</tr>\n",
       "<tr class =\"row-b\">\n",
       "<td><script type=\"math/tex\">8</script></td>\n",
       "<td><script type=\"math/tex\">40</script></td>\n",
       "<td><script type=\"math/tex\">\\left[1, 3, 5, 7, 8, 7, 5, 3, 1\\right]</script></td>\n",
       "<td><script type=\"math/tex\">\\mathrm{False}</script></td>\n",
       "<td><script type=\"math/tex\">\\mathrm{True}</script></td>\n",
       "<td>(S3 x S3) : C2</td>\n",
       "</tr>\n",
       "<tr class =\"row-a\">\n",
       "<td><script type=\"math/tex\">8</script></td>\n",
       "<td><script type=\"math/tex\">52</script></td>\n",
       "<td><script type=\"math/tex\">\\left[1, 3, 6, 10, 12, 10, 6, 3, 1\\right]</script></td>\n",
       "<td><script type=\"math/tex\">\\mathrm{False}</script></td>\n",
       "<td><script type=\"math/tex\">\\mathrm{True}</script></td>\n",
       "<td>D6</td>\n",
       "</tr>\n",
       "<tr class =\"row-b\">\n",
       "<td><script type=\"math/tex\">8</script></td>\n",
       "<td><script type=\"math/tex\">40</script></td>\n",
       "<td><script type=\"math/tex\">\\left[1, 3, 5, 7, 8, 7, 5, 3, 1\\right]</script></td>\n",
       "<td><script type=\"math/tex\">\\mathrm{False}</script></td>\n",
       "<td><script type=\"math/tex\">\\mathrm{True}</script></td>\n",
       "<td>C2 x S4</td>\n",
       "</tr>\n",
       "<tr class =\"row-a\">\n",
       "<td><script type=\"math/tex\">8</script></td>\n",
       "<td><script type=\"math/tex\">17</script></td>\n",
       "<td><script type=\"math/tex\">\\left[1, 1, 2, 2, 5, 2, 2, 1, 1\\right]</script></td>\n",
       "<td><script type=\"math/tex\">\\mathrm{True}</script></td>\n",
       "<td><script type=\"math/tex\">\\mathrm{True}</script></td>\n",
       "<td>((C2 x C2 x C2 x C2) : C3) : C2</td>\n",
       "</tr>\n",
       "<tr class =\"row-b\">\n",
       "<td><script type=\"math/tex\">8</script></td>\n",
       "<td><script type=\"math/tex\">36</script></td>\n",
       "<td><script type=\"math/tex\">\\left[1, 1, 4, 7, 10, 7, 4, 1, 1\\right]</script></td>\n",
       "<td><script type=\"math/tex\">\\mathrm{True}</script></td>\n",
       "<td><script type=\"math/tex\">\\mathrm{False}</script></td>\n",
       "<td>Q8</td>\n",
       "</tr>\n",
       "<tr class =\"row-a\">\n",
       "<td><script type=\"math/tex\">8</script></td>\n",
       "<td><script type=\"math/tex\">28</script></td>\n",
       "<td><script type=\"math/tex\">\\left[1, 1, 4, 4, 8, 4, 4, 1, 1\\right]</script></td>\n",
       "<td><script type=\"math/tex\">\\mathrm{True}</script></td>\n",
       "<td><script type=\"math/tex\">\\mathrm{True}</script></td>\n",
       "<td>(C2 x C2 x C2) : (C2 x C2)</td>\n",
       "</tr>\n",
       "<tr class =\"row-b\">\n",
       "<td><script type=\"math/tex\">8</script></td>\n",
       "<td><script type=\"math/tex\">28</script></td>\n",
       "<td><script type=\"math/tex\">\\left[1, 1, 3, 5, 8, 5, 3, 1, 1\\right]</script></td>\n",
       "<td><script type=\"math/tex\">\\mathrm{True}</script></td>\n",
       "<td><script type=\"math/tex\">\\mathrm{False}</script></td>\n",
       "<td>C4 x C2</td>\n",
       "</tr>\n",
       "<tr class =\"row-a\">\n",
       "<td><script type=\"math/tex\">8</script></td>\n",
       "<td><script type=\"math/tex\">36</script></td>\n",
       "<td><script type=\"math/tex\">\\left[1, 2, 4, 6, 10, 6, 4, 2, 1\\right]</script></td>\n",
       "<td><script type=\"math/tex\">\\mathrm{False}</script></td>\n",
       "<td><script type=\"math/tex\">\\mathrm{True}</script></td>\n",
       "<td>A4</td>\n",
       "</tr>\n",
       "<tr class =\"row-b\">\n",
       "<td><script type=\"math/tex\">8</script></td>\n",
       "<td><script type=\"math/tex\">40</script></td>\n",
       "<td><script type=\"math/tex\">\\left[1, 1, 5, 7, 12, 7, 5, 1, 1\\right]</script></td>\n",
       "<td><script type=\"math/tex\">\\mathrm{True}</script></td>\n",
       "<td><script type=\"math/tex\">\\mathrm{True}</script></td>\n",
       "<td>C4 x C2</td>\n",
       "</tr>\n",
       "<tr class =\"row-a\">\n",
       "<td><script type=\"math/tex\">8</script></td>\n",
       "<td><script type=\"math/tex\">46</script></td>\n",
       "<td><script type=\"math/tex\">\\left[1, 1, 7, 7, 14, 7, 7, 1, 1\\right]</script></td>\n",
       "<td><script type=\"math/tex\">\\mathrm{True}</script></td>\n",
       "<td><script type=\"math/tex\">\\mathrm{True}</script></td>\n",
       "<td>C2 x C2 x C2</td>\n",
       "</tr>\n",
       "<tr class =\"row-b\">\n",
       "<td><script type=\"math/tex\">8</script></td>\n",
       "<td><script type=\"math/tex\">28</script></td>\n",
       "<td><script type=\"math/tex\">\\left[1, 1, 3, 5, 8, 5, 3, 1, 1\\right]</script></td>\n",
       "<td><script type=\"math/tex\">\\mathrm{True}</script></td>\n",
       "<td><script type=\"math/tex\">\\mathrm{False}</script></td>\n",
       "<td>Q8</td>\n",
       "</tr>\n",
       "<tr class =\"row-a\">\n",
       "<td><script type=\"math/tex\">8</script></td>\n",
       "<td><script type=\"math/tex\">25</script></td>\n",
       "<td><script type=\"math/tex\">\\left[1, 1, 3, 4, 7, 4, 3, 1, 1\\right]</script></td>\n",
       "<td><script type=\"math/tex\">\\mathrm{True}</script></td>\n",
       "<td><script type=\"math/tex\">\\mathrm{False}</script></td>\n",
       "<td>(C4 x C2) : C2</td>\n",
       "</tr>\n",
       "<tr class =\"row-b\">\n",
       "<td><script type=\"math/tex\">8</script></td>\n",
       "<td><script type=\"math/tex\">31</script></td>\n",
       "<td><script type=\"math/tex\">\\left[1, 1, 4, 5, 9, 5, 4, 1, 1\\right]</script></td>\n",
       "<td><script type=\"math/tex\">\\mathrm{True}</script></td>\n",
       "<td><script type=\"math/tex\">\\mathrm{True}</script></td>\n",
       "<td>(C4 x C2) : C2</td>\n",
       "</tr>\n",
       "<tr class =\"row-a\">\n",
       "<td><script type=\"math/tex\">8</script></td>\n",
       "<td><script type=\"math/tex\">25</script></td>\n",
       "<td><script type=\"math/tex\">\\left[1, 1, 3, 4, 7, 4, 3, 1, 1\\right]</script></td>\n",
       "<td><script type=\"math/tex\">\\mathrm{True}</script></td>\n",
       "<td><script type=\"math/tex\">\\mathrm{True}</script></td>\n",
       "<td>(C2 x C2 x C2) : C4</td>\n",
       "</tr>\n",
       "<tr class =\"row-b\">\n",
       "<td><script type=\"math/tex\">8</script></td>\n",
       "<td><script type=\"math/tex\">31</script></td>\n",
       "<td><script type=\"math/tex\">\\left[1, 1, 4, 5, 9, 5, 4, 1, 1\\right]</script></td>\n",
       "<td><script type=\"math/tex\">\\mathrm{True}</script></td>\n",
       "<td><script type=\"math/tex\">\\mathrm{True}</script></td>\n",
       "<td>(C4 x C2) : C2</td>\n",
       "</tr>\n",
       "<tr class =\"row-a\">\n",
       "<td><script type=\"math/tex\">8</script></td>\n",
       "<td><script type=\"math/tex\">48</script></td>\n",
       "<td><script type=\"math/tex\">\\left[1, 2, 6, 9, 12, 9, 6, 2, 1\\right]</script></td>\n",
       "<td><script type=\"math/tex\">\\mathrm{False}</script></td>\n",
       "<td><script type=\"math/tex\">\\mathrm{True}</script></td>\n",
       "<td>(C4 x C2) : C2</td>\n",
       "</tr>\n",
       "<tr class =\"row-b\">\n",
       "<td><script type=\"math/tex\">8</script></td>\n",
       "<td><script type=\"math/tex\">46</script></td>\n",
       "<td><script type=\"math/tex\">\\left[1, 2, 6, 8, 12, 8, 6, 2, 1\\right]</script></td>\n",
       "<td><script type=\"math/tex\">\\mathrm{False}</script></td>\n",
       "<td><script type=\"math/tex\">\\mathrm{True}</script></td>\n",
       "<td>C2 x D4</td>\n",
       "</tr>\n",
       "<tr class =\"row-a\">\n",
       "<td><script type=\"math/tex\">8</script></td>\n",
       "<td><script type=\"math/tex\">35</script></td>\n",
       "<td><script type=\"math/tex\">\\left[1, 2, 5, 6, 7, 6, 5, 2, 1\\right]</script></td>\n",
       "<td><script type=\"math/tex\">\\mathrm{False}</script></td>\n",
       "<td><script type=\"math/tex\">\\mathrm{True}</script></td>\n",
       "<td>C2 x C2 x S4</td>\n",
       "</tr>\n",
       "<tr class =\"row-b\">\n",
       "<td><script type=\"math/tex\">8</script></td>\n",
       "<td><script type=\"math/tex\">36</script></td>\n",
       "<td><script type=\"math/tex\">\\left[1, 2, 5, 6, 8, 6, 5, 2, 1\\right]</script></td>\n",
       "<td><script type=\"math/tex\">\\mathrm{False}</script></td>\n",
       "<td><script type=\"math/tex\">\\mathrm{True}</script></td>\n",
       "<td>D4 x D4</td>\n",
       "</tr>\n",
       "<tr class =\"row-a\">\n",
       "<td><script type=\"math/tex\">8</script></td>\n",
       "<td><script type=\"math/tex\">39</script></td>\n",
       "<td><script type=\"math/tex\">\\left[1, 2, 5, 7, 9, 7, 5, 2, 1\\right]</script></td>\n",
       "<td><script type=\"math/tex\">\\mathrm{False}</script></td>\n",
       "<td><script type=\"math/tex\">\\mathrm{True}</script></td>\n",
       "<td>(C2 x C2 x C2 x C2) : C2</td>\n",
       "</tr>\n",
       "<tr class =\"row-b\">\n",
       "<td><script type=\"math/tex\">8</script></td>\n",
       "<td><script type=\"math/tex\">63</script></td>\n",
       "<td><script type=\"math/tex\">\\left[1, 3, 8, 12, 15, 12, 8, 3, 1\\right]</script></td>\n",
       "<td><script type=\"math/tex\">\\mathrm{False}</script></td>\n",
       "<td><script type=\"math/tex\">\\mathrm{True}</script></td>\n",
       "<td>C2 x D4</td>\n",
       "</tr>\n",
       "<tr class =\"row-a\">\n",
       "<td><script type=\"math/tex\">8</script></td>\n",
       "<td><script type=\"math/tex\">54</script></td>\n",
       "<td><script type=\"math/tex\">\\left[1, 3, 7, 10, 12, 10, 7, 3, 1\\right]</script></td>\n",
       "<td><script type=\"math/tex\">\\mathrm{False}</script></td>\n",
       "<td><script type=\"math/tex\">\\mathrm{True}</script></td>\n",
       "<td>C2 x C2 x D4</td>\n",
       "</tr>\n",
       "<tr class =\"row-b\">\n",
       "<td><script type=\"math/tex\">8</script></td>\n",
       "<td><script type=\"math/tex\">57</script></td>\n",
       "<td><script type=\"math/tex\">\\left[1, 3, 7, 11, 13, 11, 7, 3, 1\\right]</script></td>\n",
       "<td><script type=\"math/tex\">\\mathrm{False}</script></td>\n",
       "<td><script type=\"math/tex\">\\mathrm{True}</script></td>\n",
       "<td>C2 x D4</td>\n",
       "</tr>\n",
       "<tr class =\"row-a\">\n",
       "<td><script type=\"math/tex\">8</script></td>\n",
       "<td><script type=\"math/tex\">50</script></td>\n",
       "<td><script type=\"math/tex\">\\left[1, 3, 7, 9, 10, 9, 7, 3, 1\\right]</script></td>\n",
       "<td><script type=\"math/tex\">\\mathrm{False}</script></td>\n",
       "<td><script type=\"math/tex\">\\mathrm{True}</script></td>\n",
       "<td>C2 x S4</td>\n",
       "</tr>\n",
       "<tr class =\"row-b\">\n",
       "<td><script type=\"math/tex\">8</script></td>\n",
       "<td><script type=\"math/tex\">81</script></td>\n",
       "<td><script type=\"math/tex\">\\left[1, 4, 10, 16, 19, 16, 10, 4, 1\\right]</script></td>\n",
       "<td><script type=\"math/tex\">\\mathrm{False}</script></td>\n",
       "<td><script type=\"math/tex\">\\mathrm{True}</script></td>\n",
       "<td>C2 x C2 x C2 x C2</td>\n",
       "</tr>\n",
       "<tr class =\"row-a\">\n",
       "<td><script type=\"math/tex\">8</script></td>\n",
       "<td><script type=\"math/tex\">27</script></td>\n",
       "<td><script type=\"math/tex\">\\left[1, 2, 3, 4, 7, 4, 3, 2, 1\\right]</script></td>\n",
       "<td><script type=\"math/tex\">\\mathrm{False}</script></td>\n",
       "<td><script type=\"math/tex\">\\mathrm{True}</script></td>\n",
       "<td>(C2 x C2 x C2 x C2) : C3</td>\n",
       "</tr>\n",
       "<tr class =\"row-b\">\n",
       "<td><script type=\"math/tex\">8</script></td>\n",
       "<td><script type=\"math/tex\">19</script></td>\n",
       "<td><script type=\"math/tex\">\\left[1, 1, 2, 3, 5, 3, 2, 1, 1\\right]</script></td>\n",
       "<td><script type=\"math/tex\">\\mathrm{True}</script></td>\n",
       "<td><script type=\"math/tex\">\\mathrm{True}</script></td>\n",
       "<td>SL(2,3)</td>\n",
       "</tr>\n",
       "<tr class =\"row-a\">\n",
       "<td><script type=\"math/tex\">8</script></td>\n",
       "<td><script type=\"math/tex\">46</script></td>\n",
       "<td><script type=\"math/tex\">\\left[1, 2, 6, 8, 12, 8, 6, 2, 1\\right]</script></td>\n",
       "<td><script type=\"math/tex\">\\mathrm{False}</script></td>\n",
       "<td><script type=\"math/tex\">\\mathrm{True}</script></td>\n",
       "<td>D6</td>\n",
       "</tr>\n",
       "<tr class =\"row-b\">\n",
       "<td><script type=\"math/tex\">8</script></td>\n",
       "<td><script type=\"math/tex\">78</script></td>\n",
       "<td><script type=\"math/tex\">\\left[1, 3, 10, 15, 20, 15, 10, 3, 1\\right]</script></td>\n",
       "<td><script type=\"math/tex\">\\mathrm{False}</script></td>\n",
       "<td><script type=\"math/tex\">\\mathrm{True}</script></td>\n",
       "<td>D4</td>\n",
       "</tr>\n",
       "<tr class =\"row-a\">\n",
       "<td><script type=\"math/tex\">8</script></td>\n",
       "<td><script type=\"math/tex\">72</script></td>\n",
       "<td><script type=\"math/tex\">\\left[1, 3, 9, 14, 18, 14, 9, 3, 1\\right]</script></td>\n",
       "<td><script type=\"math/tex\">\\mathrm{False}</script></td>\n",
       "<td><script type=\"math/tex\">\\mathrm{True}</script></td>\n",
       "<td>C2 x C2 x C2</td>\n",
       "</tr>\n",
       "<tr class =\"row-b\">\n",
       "<td><script type=\"math/tex\">8</script></td>\n",
       "<td><script type=\"math/tex\">33</script></td>\n",
       "<td><script type=\"math/tex\">\\left[1, 2, 4, 6, 7, 6, 4, 2, 1\\right]</script></td>\n",
       "<td><script type=\"math/tex\">\\mathrm{False}</script></td>\n",
       "<td><script type=\"math/tex\">\\mathrm{True}</script></td>\n",
       "<td>C2 x C2 x A4</td>\n",
       "</tr>\n",
       "<tr class =\"row-a\">\n",
       "<td><script type=\"math/tex\">8</script></td>\n",
       "<td><script type=\"math/tex\">31</script></td>\n",
       "<td><script type=\"math/tex\">\\left[1, 2, 4, 5, 7, 5, 4, 2, 1\\right]</script></td>\n",
       "<td><script type=\"math/tex\">\\mathrm{False}</script></td>\n",
       "<td><script type=\"math/tex\">\\mathrm{True}</script></td>\n",
       "<td>C2 x S4</td>\n",
       "</tr>\n",
       "<tr class =\"row-b\">\n",
       "<td><script type=\"math/tex\">8</script></td>\n",
       "<td><script type=\"math/tex\">33</script></td>\n",
       "<td><script type=\"math/tex\">\\left[1, 2, 4, 6, 7, 6, 4, 2, 1\\right]</script></td>\n",
       "<td><script type=\"math/tex\">\\mathrm{False}</script></td>\n",
       "<td><script type=\"math/tex\">\\mathrm{True}</script></td>\n",
       "<td>C2 x S4</td>\n",
       "</tr>\n",
       "<tr class =\"row-a\">\n",
       "<td><script type=\"math/tex\">8</script></td>\n",
       "<td><script type=\"math/tex\">60</script></td>\n",
       "<td><script type=\"math/tex\">\\left[1, 3, 7, 12, 14, 12, 7, 3, 1\\right]</script></td>\n",
       "<td><script type=\"math/tex\">\\mathrm{False}</script></td>\n",
       "<td><script type=\"math/tex\">\\mathrm{True}</script></td>\n",
       "<td>D4</td>\n",
       "</tr>\n",
       "<tr class =\"row-b\">\n",
       "<td><script type=\"math/tex\">8</script></td>\n",
       "<td><script type=\"math/tex\">48</script></td>\n",
       "<td><script type=\"math/tex\">\\left[1, 2, 6, 9, 12, 9, 6, 2, 1\\right]</script></td>\n",
       "<td><script type=\"math/tex\">\\mathrm{False}</script></td>\n",
       "<td><script type=\"math/tex\">\\mathrm{True}</script></td>\n",
       "<td>D6</td>\n",
       "</tr>\n",
       "<tr class =\"row-a\">\n",
       "<td><script type=\"math/tex\">8</script></td>\n",
       "<td><script type=\"math/tex\">31</script></td>\n",
       "<td><script type=\"math/tex\">\\left[1, 2, 4, 5, 7, 5, 4, 2, 1\\right]</script></td>\n",
       "<td><script type=\"math/tex\">\\mathrm{False}</script></td>\n",
       "<td><script type=\"math/tex\">\\mathrm{True}</script></td>\n",
       "<td>C2 x S4</td>\n",
       "</tr>\n",
       "<tr class =\"row-b\">\n",
       "<td><script type=\"math/tex\">8</script></td>\n",
       "<td><script type=\"math/tex\">40</script></td>\n",
       "<td><script type=\"math/tex\">\\left[1, 2, 5, 7, 10, 7, 5, 2, 1\\right]</script></td>\n",
       "<td><script type=\"math/tex\">\\mathrm{False}</script></td>\n",
       "<td><script type=\"math/tex\">\\mathrm{True}</script></td>\n",
       "<td>D6</td>\n",
       "</tr>\n",
       "<tr class =\"row-a\">\n",
       "<td><script type=\"math/tex\">8</script></td>\n",
       "<td><script type=\"math/tex\">88</script></td>\n",
       "<td><script type=\"math/tex\">\\left[1, 3, 11, 17, 24, 17, 11, 3, 1\\right]</script></td>\n",
       "<td><script type=\"math/tex\">\\mathrm{False}</script></td>\n",
       "<td><script type=\"math/tex\">\\mathrm{True}</script></td>\n",
       "<td>C2 x C2</td>\n",
       "</tr>\n",
       "<tr class =\"row-b\">\n",
       "<td><script type=\"math/tex\">8</script></td>\n",
       "<td><script type=\"math/tex\">42</script></td>\n",
       "<td><script type=\"math/tex\">\\left[1, 2, 5, 8, 10, 8, 5, 2, 1\\right]</script></td>\n",
       "<td><script type=\"math/tex\">\\mathrm{False}</script></td>\n",
       "<td><script type=\"math/tex\">\\mathrm{True}</script></td>\n",
       "<td>D6</td>\n",
       "</tr>\n",
       "<tr class =\"row-a\">\n",
       "<td><script type=\"math/tex\">8</script></td>\n",
       "<td><script type=\"math/tex\">42</script></td>\n",
       "<td><script type=\"math/tex\">\\left[1, 2, 5, 8, 10, 8, 5, 2, 1\\right]</script></td>\n",
       "<td><script type=\"math/tex\">\\mathrm{False}</script></td>\n",
       "<td><script type=\"math/tex\">\\mathrm{True}</script></td>\n",
       "<td>C6 x C2</td>\n",
       "</tr>\n",
       "<tr class =\"row-b\">\n",
       "<td><script type=\"math/tex\">8</script></td>\n",
       "<td><script type=\"math/tex\">96</script></td>\n",
       "<td><script type=\"math/tex\">\\left[1, 5, 12, 19, 22, 19, 12, 5, 1\\right]</script></td>\n",
       "<td><script type=\"math/tex\">\\mathrm{False}</script></td>\n",
       "<td><script type=\"math/tex\">\\mathrm{True}</script></td>\n",
       "<td>D6</td>\n",
       "</tr>\n",
       "<tr class =\"row-a\">\n",
       "<td><script type=\"math/tex\">8</script></td>\n",
       "<td><script type=\"math/tex\">80</script></td>\n",
       "<td><script type=\"math/tex\">\\left[1, 4, 10, 16, 18, 16, 10, 4, 1\\right]</script></td>\n",
       "<td><script type=\"math/tex\">\\mathrm{False}</script></td>\n",
       "<td><script type=\"math/tex\">\\mathrm{True}</script></td>\n",
       "<td>D6</td>\n",
       "</tr>\n",
       "<tr class =\"row-b\">\n",
       "<td><script type=\"math/tex\">8</script></td>\n",
       "<td><script type=\"math/tex\">108</script></td>\n",
       "<td><script type=\"math/tex\">\\left[1, 5, 13, 22, 26, 22, 13, 5, 1\\right]</script></td>\n",
       "<td><script type=\"math/tex\">\\mathrm{False}</script></td>\n",
       "<td><script type=\"math/tex\">\\mathrm{True}</script></td>\n",
       "<td>C2 x C2 x C2</td>\n",
       "</tr>\n",
       "<tr class =\"row-a\">\n",
       "<td><script type=\"math/tex\">8</script></td>\n",
       "<td><script type=\"math/tex\">64</script></td>\n",
       "<td><script type=\"math/tex\">\\left[1, 4, 8, 12, 14, 12, 8, 4, 1\\right]</script></td>\n",
       "<td><script type=\"math/tex\">\\mathrm{False}</script></td>\n",
       "<td><script type=\"math/tex\">\\mathrm{True}</script></td>\n",
       "<td>D5</td>\n",
       "</tr>\n",
       "<tr class =\"row-b\">\n",
       "<td><script type=\"math/tex\">8</script></td>\n",
       "<td><script type=\"math/tex\">80</script></td>\n",
       "<td><script type=\"math/tex\">\\left[1, 5, 11, 15, 16, 15, 11, 5, 1\\right]</script></td>\n",
       "<td><script type=\"math/tex\">\\mathrm{False}</script></td>\n",
       "<td><script type=\"math/tex\">\\mathrm{True}</script></td>\n",
       "<td>S4</td>\n",
       "</tr>\n",
       "<tr class =\"row-a\">\n",
       "<td><script type=\"math/tex\">8</script></td>\n",
       "<td><script type=\"math/tex\">84</script></td>\n",
       "<td><script type=\"math/tex\">\\left[1, 4, 10, 17, 20, 17, 10, 4, 1\\right]</script></td>\n",
       "<td><script type=\"math/tex\">\\mathrm{False}</script></td>\n",
       "<td><script type=\"math/tex\">\\mathrm{True}</script></td>\n",
       "<td>D4</td>\n",
       "</tr>\n",
       "<tr class =\"row-b\">\n",
       "<td><script type=\"math/tex\">8</script></td>\n",
       "<td><script type=\"math/tex\">72</script></td>\n",
       "<td><script type=\"math/tex\">\\left[1, 4, 9, 14, 16, 14, 9, 4, 1\\right]</script></td>\n",
       "<td><script type=\"math/tex\">\\mathrm{False}</script></td>\n",
       "<td><script type=\"math/tex\">\\mathrm{True}</script></td>\n",
       "<td>C2 x D4</td>\n",
       "</tr>\n",
       "<tr class =\"row-a\">\n",
       "<td><script type=\"math/tex\">8</script></td>\n",
       "<td><script type=\"math/tex\">48</script></td>\n",
       "<td><script type=\"math/tex\">\\left[1, 3, 5, 9, 12, 9, 5, 3, 1\\right]</script></td>\n",
       "<td><script type=\"math/tex\">\\mathrm{False}</script></td>\n",
       "<td><script type=\"math/tex\">\\mathrm{True}</script></td>\n",
       "<td>A4</td>\n",
       "</tr>\n",
       "<tr class =\"row-b\">\n",
       "<td><script type=\"math/tex\">8</script></td>\n",
       "<td><script type=\"math/tex\">80</script></td>\n",
       "<td><script type=\"math/tex\">\\left[1, 4, 9, 16, 20, 16, 9, 4, 1\\right]</script></td>\n",
       "<td><script type=\"math/tex\">\\mathrm{False}</script></td>\n",
       "<td><script type=\"math/tex\">\\mathrm{True}</script></td>\n",
       "<td>S3</td>\n",
       "</tr>\n",
       "<tr class =\"row-a\">\n",
       "<td><script type=\"math/tex\">8</script></td>\n",
       "<td><script type=\"math/tex\">56</script></td>\n",
       "<td><script type=\"math/tex\">\\left[1, 3, 6, 11, 14, 11, 6, 3, 1\\right]</script></td>\n",
       "<td><script type=\"math/tex\">\\mathrm{False}</script></td>\n",
       "<td><script type=\"math/tex\">\\mathrm{True}</script></td>\n",
       "<td>C6</td>\n",
       "</tr>\n",
       "<tr class =\"row-b\">\n",
       "<td><script type=\"math/tex\">8</script></td>\n",
       "<td><script type=\"math/tex\">64</script></td>\n",
       "<td><script type=\"math/tex\">\\left[1, 3, 7, 13, 16, 13, 7, 3, 1\\right]</script></td>\n",
       "<td><script type=\"math/tex\">\\mathrm{False}</script></td>\n",
       "<td><script type=\"math/tex\">\\mathrm{True}</script></td>\n",
       "<td>S3</td>\n",
       "</tr>\n",
       "<tr class =\"row-a\">\n",
       "<td><script type=\"math/tex\">8</script></td>\n",
       "<td><script type=\"math/tex\">96</script></td>\n",
       "<td><script type=\"math/tex\">\\left[1, 4, 11, 20, 24, 20, 11, 4, 1\\right]</script></td>\n",
       "<td><script type=\"math/tex\">\\mathrm{False}</script></td>\n",
       "<td><script type=\"math/tex\">\\mathrm{True}</script></td>\n",
       "<td>C2 x C2</td>\n",
       "</tr>\n",
       "<tr class =\"row-b\">\n",
       "<td><script type=\"math/tex\">8</script></td>\n",
       "<td><script type=\"math/tex\">44</script></td>\n",
       "<td><script type=\"math/tex\">\\left[1, 3, 5, 8, 10, 8, 5, 3, 1\\right]</script></td>\n",
       "<td><script type=\"math/tex\">\\mathrm{False}</script></td>\n",
       "<td><script type=\"math/tex\">\\mathrm{True}</script></td>\n",
       "<td>S4</td>\n",
       "</tr>\n",
       "<tr class =\"row-a\">\n",
       "<td><script type=\"math/tex\">8</script></td>\n",
       "<td><script type=\"math/tex\">44</script></td>\n",
       "<td><script type=\"math/tex\">\\left[1, 3, 5, 8, 10, 8, 5, 3, 1\\right]</script></td>\n",
       "<td><script type=\"math/tex\">\\mathrm{False}</script></td>\n",
       "<td><script type=\"math/tex\">\\mathrm{True}</script></td>\n",
       "<td>C2 x A4</td>\n",
       "</tr>\n",
       "<tr class =\"row-b\">\n",
       "<td><script type=\"math/tex\">8</script></td>\n",
       "<td><script type=\"math/tex\">37</script></td>\n",
       "<td><script type=\"math/tex\">\\left[1, 1, 4, 7, 11, 7, 4, 1, 1\\right]</script></td>\n",
       "<td><script type=\"math/tex\">\\mathrm{True}</script></td>\n",
       "<td><script type=\"math/tex\">\\mathrm{True}</script></td>\n",
       "<td>Q8</td>\n",
       "</tr>\n",
       "<tr class =\"row-a\">\n",
       "<td><script type=\"math/tex\">8</script></td>\n",
       "<td><script type=\"math/tex\">49</script></td>\n",
       "<td><script type=\"math/tex\">\\left[1, 2, 6, 9, 13, 9, 6, 2, 1\\right]</script></td>\n",
       "<td><script type=\"math/tex\">\\mathrm{False}</script></td>\n",
       "<td><script type=\"math/tex\">\\mathrm{False}</script></td>\n",
       "<td>C4 x C2</td>\n",
       "</tr>\n",
       "<tr class =\"row-b\">\n",
       "<td><script type=\"math/tex\">8</script></td>\n",
       "<td><script type=\"math/tex\">51</script></td>\n",
       "<td><script type=\"math/tex\">\\left[1, 2, 6, 10, 13, 10, 6, 2, 1\\right]</script></td>\n",
       "<td><script type=\"math/tex\">\\mathrm{False}</script></td>\n",
       "<td><script type=\"math/tex\">\\mathrm{False}</script></td>\n",
       "<td>C4 x C2</td>\n",
       "</tr>\n",
       "<tr class =\"row-a\">\n",
       "<td><script type=\"math/tex\">8</script></td>\n",
       "<td><script type=\"math/tex\">42</script></td>\n",
       "<td><script type=\"math/tex\">\\left[1, 2, 6, 7, 10, 7, 6, 2, 1\\right]</script></td>\n",
       "<td><script type=\"math/tex\">\\mathrm{False}</script></td>\n",
       "<td><script type=\"math/tex\">\\mathrm{True}</script></td>\n",
       "<td>C2 x C2 x D4</td>\n",
       "</tr>\n",
       "<tr class =\"row-b\">\n",
       "<td><script type=\"math/tex\">8</script></td>\n",
       "<td><script type=\"math/tex\">45</script></td>\n",
       "<td><script type=\"math/tex\">\\left[1, 2, 6, 8, 11, 8, 6, 2, 1\\right]</script></td>\n",
       "<td><script type=\"math/tex\">\\mathrm{False}</script></td>\n",
       "<td><script type=\"math/tex\">\\mathrm{True}</script></td>\n",
       "<td>C2 x D4</td>\n",
       "</tr>\n",
       "<tr class =\"row-a\">\n",
       "<td><script type=\"math/tex\">8</script></td>\n",
       "<td><script type=\"math/tex\">37</script></td>\n",
       "<td><script type=\"math/tex\">\\left[1, 2, 5, 6, 9, 6, 5, 2, 1\\right]</script></td>\n",
       "<td><script type=\"math/tex\">\\mathrm{False}</script></td>\n",
       "<td><script type=\"math/tex\">\\mathrm{True}</script></td>\n",
       "<td>(C2 x C2 x C2 x C2) : C2</td>\n",
       "</tr>\n",
       "<tr class =\"row-b\">\n",
       "<td><script type=\"math/tex\">8</script></td>\n",
       "<td><script type=\"math/tex\">40</script></td>\n",
       "<td><script type=\"math/tex\">\\left[1, 2, 5, 7, 10, 7, 5, 2, 1\\right]</script></td>\n",
       "<td><script type=\"math/tex\">\\mathrm{False}</script></td>\n",
       "<td><script type=\"math/tex\">\\mathrm{True}</script></td>\n",
       "<td>(C4 x C2) : C2</td>\n",
       "</tr>\n",
       "<tr class =\"row-a\">\n",
       "<td><script type=\"math/tex\">8</script></td>\n",
       "<td><script type=\"math/tex\">42</script></td>\n",
       "<td><script type=\"math/tex\">\\left[1, 2, 5, 8, 10, 8, 5, 2, 1\\right]</script></td>\n",
       "<td><script type=\"math/tex\">\\mathrm{False}</script></td>\n",
       "<td><script type=\"math/tex\">\\mathrm{True}</script></td>\n",
       "<td>C2 x D4</td>\n",
       "</tr>\n",
       "<tr class =\"row-b\">\n",
       "<td><script type=\"math/tex\">8</script></td>\n",
       "<td><script type=\"math/tex\">64</script></td>\n",
       "<td><script type=\"math/tex\">\\left[1, 3, 8, 12, 16, 12, 8, 3, 1\\right]</script></td>\n",
       "<td><script type=\"math/tex\">\\mathrm{False}</script></td>\n",
       "<td><script type=\"math/tex\">\\mathrm{True}</script></td>\n",
       "<td>D4</td>\n",
       "</tr>\n",
       "<tr class =\"row-a\">\n",
       "<td><script type=\"math/tex\">8</script></td>\n",
       "<td><script type=\"math/tex\">66</script></td>\n",
       "<td><script type=\"math/tex\">\\left[1, 3, 8, 13, 16, 13, 8, 3, 1\\right]</script></td>\n",
       "<td><script type=\"math/tex\">\\mathrm{False}</script></td>\n",
       "<td><script type=\"math/tex\">\\mathrm{True}</script></td>\n",
       "<td>D4</td>\n",
       "</tr>\n",
       "<tr class =\"row-b\">\n",
       "<td><script type=\"math/tex\">8</script></td>\n",
       "<td><script type=\"math/tex\">66</script></td>\n",
       "<td><script type=\"math/tex\">\\left[1, 3, 8, 13, 16, 13, 8, 3, 1\\right]</script></td>\n",
       "<td><script type=\"math/tex\">\\mathrm{False}</script></td>\n",
       "<td><script type=\"math/tex\">\\mathrm{True}</script></td>\n",
       "<td>C4 x C2</td>\n",
       "</tr>\n",
       "<tr class =\"row-a\">\n",
       "<td><script type=\"math/tex\">8</script></td>\n",
       "<td><script type=\"math/tex\">55</script></td>\n",
       "<td><script type=\"math/tex\">\\left[1, 3, 7, 10, 13, 10, 7, 3, 1\\right]</script></td>\n",
       "<td><script type=\"math/tex\">\\mathrm{False}</script></td>\n",
       "<td><script type=\"math/tex\">\\mathrm{True}</script></td>\n",
       "<td>C2 x D4</td>\n",
       "</tr>\n",
       "<tr class =\"row-b\">\n",
       "<td><script type=\"math/tex\">8</script></td>\n",
       "<td><script type=\"math/tex\">57</script></td>\n",
       "<td><script type=\"math/tex\">\\left[1, 3, 7, 11, 13, 11, 7, 3, 1\\right]</script></td>\n",
       "<td><script type=\"math/tex\">\\mathrm{False}</script></td>\n",
       "<td><script type=\"math/tex\">\\mathrm{True}</script></td>\n",
       "<td>C2 x D4</td>\n",
       "</tr>\n",
       "<tr class =\"row-a\">\n",
       "<td><script type=\"math/tex\">8</script></td>\n",
       "<td><script type=\"math/tex\">60</script></td>\n",
       "<td><script type=\"math/tex\">\\left[1, 3, 8, 11, 14, 11, 8, 3, 1\\right]</script></td>\n",
       "<td><script type=\"math/tex\">\\mathrm{False}</script></td>\n",
       "<td><script type=\"math/tex\">\\mathrm{True}</script></td>\n",
       "<td>C2 x D4</td>\n",
       "</tr>\n",
       "<tr class =\"row-b\">\n",
       "<td><script type=\"math/tex\">8</script></td>\n",
       "<td><script type=\"math/tex\">63</script></td>\n",
       "<td><script type=\"math/tex\">\\left[1, 3, 8, 12, 15, 12, 8, 3, 1\\right]</script></td>\n",
       "<td><script type=\"math/tex\">\\mathrm{False}</script></td>\n",
       "<td><script type=\"math/tex\">\\mathrm{True}</script></td>\n",
       "<td>C2 x C2 x C2 x C2</td>\n",
       "</tr>\n",
       "<tr class =\"row-a\">\n",
       "<td><script type=\"math/tex\">8</script></td>\n",
       "<td><script type=\"math/tex\">58</script></td>\n",
       "<td><script type=\"math/tex\">\\left[1, 3, 7, 11, 14, 11, 7, 3, 1\\right]</script></td>\n",
       "<td><script type=\"math/tex\">\\mathrm{False}</script></td>\n",
       "<td><script type=\"math/tex\">\\mathrm{True}</script></td>\n",
       "<td>C4 x C2</td>\n",
       "</tr>\n",
       "<tr class =\"row-b\">\n",
       "<td><script type=\"math/tex\">8</script></td>\n",
       "<td><script type=\"math/tex\">90</script></td>\n",
       "<td><script type=\"math/tex\">\\left[1, 4, 11, 18, 22, 18, 11, 4, 1\\right]</script></td>\n",
       "<td><script type=\"math/tex\">\\mathrm{False}</script></td>\n",
       "<td><script type=\"math/tex\">\\mathrm{True}</script></td>\n",
       "<td>C2 x C2 x C2</td>\n",
       "</tr>\n",
       "<tr class =\"row-a\">\n",
       "<td><script type=\"math/tex\">8</script></td>\n",
       "<td><script type=\"math/tex\">84</script></td>\n",
       "<td><script type=\"math/tex\">\\left[1, 4, 10, 17, 20, 17, 10, 4, 1\\right]</script></td>\n",
       "<td><script type=\"math/tex\">\\mathrm{False}</script></td>\n",
       "<td><script type=\"math/tex\">\\mathrm{True}</script></td>\n",
       "<td>C2 x C2 x C2</td>\n",
       "</tr>\n",
       "<tr class =\"row-b\">\n",
       "<td><script type=\"math/tex\">8</script></td>\n",
       "<td><script type=\"math/tex\">82</script></td>\n",
       "<td><script type=\"math/tex\">\\left[1, 4, 10, 16, 20, 16, 10, 4, 1\\right]</script></td>\n",
       "<td><script type=\"math/tex\">\\mathrm{False}</script></td>\n",
       "<td><script type=\"math/tex\">\\mathrm{True}</script></td>\n",
       "<td>C2 x C2 x C2</td>\n",
       "</tr>\n",
       "<tr class =\"row-a\">\n",
       "<td><script type=\"math/tex\">8</script></td>\n",
       "<td><script type=\"math/tex\">52</script></td>\n",
       "<td><script type=\"math/tex\">\\left[1, 2, 6, 10, 14, 10, 6, 2, 1\\right]</script></td>\n",
       "<td><script type=\"math/tex\">\\mathrm{False}</script></td>\n",
       "<td><script type=\"math/tex\">\\mathrm{True}</script></td>\n",
       "<td>C6</td>\n",
       "</tr>\n",
       "<tr class =\"row-b\">\n",
       "<td><script type=\"math/tex\">8</script></td>\n",
       "<td><script type=\"math/tex\">56</script></td>\n",
       "<td><script type=\"math/tex\">\\left[1, 2, 7, 10, 16, 10, 7, 2, 1\\right]</script></td>\n",
       "<td><script type=\"math/tex\">\\mathrm{False}</script></td>\n",
       "<td><script type=\"math/tex\">\\mathrm{True}</script></td>\n",
       "<td>S3</td>\n",
       "</tr>\n",
       "<tr class =\"row-a\">\n",
       "<td><script type=\"math/tex\">8</script></td>\n",
       "<td><script type=\"math/tex\">84</script></td>\n",
       "<td><script type=\"math/tex\">\\left[1, 3, 10, 17, 22, 17, 10, 3, 1\\right]</script></td>\n",
       "<td><script type=\"math/tex\">\\mathrm{False}</script></td>\n",
       "<td><script type=\"math/tex\">\\mathrm{True}</script></td>\n",
       "<td>C4</td>\n",
       "</tr>\n",
       "<tr class =\"row-b\">\n",
       "<td><script type=\"math/tex\">8</script></td>\n",
       "<td><script type=\"math/tex\">36</script></td>\n",
       "<td><script type=\"math/tex\">\\left[1, 2, 4, 7, 8, 7, 4, 2, 1\\right]</script></td>\n",
       "<td><script type=\"math/tex\">\\mathrm{False}</script></td>\n",
       "<td><script type=\"math/tex\">\\mathrm{True}</script></td>\n",
       "<td>C2 x A4</td>\n",
       "</tr>\n",
       "<tr class =\"row-a\">\n",
       "<td><script type=\"math/tex\">8</script></td>\n",
       "<td><script type=\"math/tex\">34</script></td>\n",
       "<td><script type=\"math/tex\">\\left[1, 2, 4, 6, 8, 6, 4, 2, 1\\right]</script></td>\n",
       "<td><script type=\"math/tex\">\\mathrm{False}</script></td>\n",
       "<td><script type=\"math/tex\">\\mathrm{True}</script></td>\n",
       "<td>C2 x A4</td>\n",
       "</tr>\n",
       "<tr class =\"row-b\">\n",
       "<td><script type=\"math/tex\">8</script></td>\n",
       "<td><script type=\"math/tex\">32</script></td>\n",
       "<td><script type=\"math/tex\">\\left[1, 2, 4, 5, 8, 5, 4, 2, 1\\right]</script></td>\n",
       "<td><script type=\"math/tex\">\\mathrm{False}</script></td>\n",
       "<td><script type=\"math/tex\">\\mathrm{True}</script></td>\n",
       "<td>S4</td>\n",
       "</tr>\n",
       "<tr class =\"row-a\">\n",
       "<td><script type=\"math/tex\">8</script></td>\n",
       "<td><script type=\"math/tex\">34</script></td>\n",
       "<td><script type=\"math/tex\">\\left[1, 2, 4, 6, 8, 6, 4, 2, 1\\right]</script></td>\n",
       "<td><script type=\"math/tex\">\\mathrm{False}</script></td>\n",
       "<td><script type=\"math/tex\">\\mathrm{True}</script></td>\n",
       "<td>S4</td>\n",
       "</tr>\n",
       "<tr class =\"row-b\">\n",
       "<td><script type=\"math/tex\">8</script></td>\n",
       "<td><script type=\"math/tex\">128</script></td>\n",
       "<td><script type=\"math/tex\">\\left[1, 6, 16, 26, 30, 26, 16, 6, 1\\right]</script></td>\n",
       "<td><script type=\"math/tex\">\\mathrm{False}</script></td>\n",
       "<td><script type=\"math/tex\">\\mathrm{True}</script></td>\n",
       "<td>S3</td>\n",
       "</tr>\n",
       "<tr class =\"row-a\">\n",
       "<td><script type=\"math/tex\">8</script></td>\n",
       "<td><script type=\"math/tex\">144</script></td>\n",
       "<td><script type=\"math/tex\">\\left[1, 6, 17, 30, 36, 30, 17, 6, 1\\right]</script></td>\n",
       "<td><script type=\"math/tex\">\\mathrm{False}</script></td>\n",
       "<td><script type=\"math/tex\">\\mathrm{True}</script></td>\n",
       "<td>C2 x C2</td>\n",
       "</tr>\n",
       "<tr class =\"row-b\">\n",
       "<td><script type=\"math/tex\">8</script></td>\n",
       "<td><script type=\"math/tex\">112</script></td>\n",
       "<td><script type=\"math/tex\">\\left[1, 5, 13, 23, 28, 23, 13, 5, 1\\right]</script></td>\n",
       "<td><script type=\"math/tex\">\\mathrm{False}</script></td>\n",
       "<td><script type=\"math/tex\">\\mathrm{True}</script></td>\n",
       "<td>C2 x C2</td>\n",
       "</tr>\n",
       "<tr class =\"row-a\">\n",
       "<td><script type=\"math/tex\">8</script></td>\n",
       "<td><script type=\"math/tex\">120</script></td>\n",
       "<td><script type=\"math/tex\">\\left[1, 5, 14, 25, 30, 25, 14, 5, 1\\right]</script></td>\n",
       "<td><script type=\"math/tex\">\\mathrm{False}</script></td>\n",
       "<td><script type=\"math/tex\">\\mathrm{True}</script></td>\n",
       "<td>C2 x C2</td>\n",
       "</tr>\n",
       "<tr class =\"row-b\">\n",
       "<td><script type=\"math/tex\">8</script></td>\n",
       "<td><script type=\"math/tex\">96</script></td>\n",
       "<td><script type=\"math/tex\">\\left[1, 5, 12, 19, 22, 19, 12, 5, 1\\right]</script></td>\n",
       "<td><script type=\"math/tex\">\\mathrm{False}</script></td>\n",
       "<td><script type=\"math/tex\">\\mathrm{True}</script></td>\n",
       "<td>D4</td>\n",
       "</tr>\n",
       "<tr class =\"row-a\">\n",
       "<td><script type=\"math/tex\">8</script></td>\n",
       "<td><script type=\"math/tex\">88</script></td>\n",
       "<td><script type=\"math/tex\">\\left[1, 4, 10, 18, 22, 18, 10, 4, 1\\right]</script></td>\n",
       "<td><script type=\"math/tex\">\\mathrm{False}</script></td>\n",
       "<td><script type=\"math/tex\">\\mathrm{True}</script></td>\n",
       "<td>C4</td>\n",
       "</tr>\n",
       "<tr class =\"row-b\">\n",
       "<td><script type=\"math/tex\">8</script></td>\n",
       "<td><script type=\"math/tex\">76</script></td>\n",
       "<td><script type=\"math/tex\">\\left[1, 4, 9, 15, 18, 15, 9, 4, 1\\right]</script></td>\n",
       "<td><script type=\"math/tex\">\\mathrm{False}</script></td>\n",
       "<td><script type=\"math/tex\">\\mathrm{True}</script></td>\n",
       "<td>D4</td>\n",
       "</tr>\n",
       "<tr class =\"row-a\">\n",
       "<td><script type=\"math/tex\">8</script></td>\n",
       "<td><script type=\"math/tex\">84</script></td>\n",
       "<td><script type=\"math/tex\">\\left[1, 4, 10, 17, 20, 17, 10, 4, 1\\right]</script></td>\n",
       "<td><script type=\"math/tex\">\\mathrm{False}</script></td>\n",
       "<td><script type=\"math/tex\">\\mathrm{True}</script></td>\n",
       "<td>C2 x C2 x C2</td>\n",
       "</tr>\n",
       "<tr class =\"row-b\">\n",
       "<td><script type=\"math/tex\">8</script></td>\n",
       "<td><script type=\"math/tex\">48</script></td>\n",
       "<td><script type=\"math/tex\">\\left[1, 3, 5, 9, 12, 9, 5, 3, 1\\right]</script></td>\n",
       "<td><script type=\"math/tex\">\\mathrm{False}</script></td>\n",
       "<td><script type=\"math/tex\">\\mathrm{True}</script></td>\n",
       "<td>A4</td>\n",
       "</tr>\n",
       "<tr class =\"row-a\">\n",
       "<td><script type=\"math/tex\">8</script></td>\n",
       "<td><script type=\"math/tex\">52</script></td>\n",
       "<td><script type=\"math/tex\">\\left[1, 2, 6, 10, 14, 10, 6, 2, 1\\right]</script></td>\n",
       "<td><script type=\"math/tex\">\\mathrm{False}</script></td>\n",
       "<td><script type=\"math/tex\">\\mathrm{True}</script></td>\n",
       "<td>C4 x C2</td>\n",
       "</tr>\n",
       "<tr class =\"row-b\">\n",
       "<td><script type=\"math/tex\">8</script></td>\n",
       "<td><script type=\"math/tex\">49</script></td>\n",
       "<td><script type=\"math/tex\">\\left[1, 2, 7, 8, 13, 8, 7, 2, 1\\right]</script></td>\n",
       "<td><script type=\"math/tex\">\\mathrm{False}</script></td>\n",
       "<td><script type=\"math/tex\">\\mathrm{True}</script></td>\n",
       "<td>C2 x C2 x C2 x C2</td>\n",
       "</tr>\n",
       "<tr class =\"row-a\">\n",
       "<td><script type=\"math/tex\">8</script></td>\n",
       "<td><script type=\"math/tex\">43</script></td>\n",
       "<td><script type=\"math/tex\">\\left[1, 2, 5, 8, 11, 8, 5, 2, 1\\right]</script></td>\n",
       "<td><script type=\"math/tex\">\\mathrm{False}</script></td>\n",
       "<td><script type=\"math/tex\">\\mathrm{False}</script></td>\n",
       "<td>C4 x C2</td>\n",
       "</tr>\n",
       "<tr class =\"row-b\">\n",
       "<td><script type=\"math/tex\">8</script></td>\n",
       "<td><script type=\"math/tex\">66</script></td>\n",
       "<td><script type=\"math/tex\">\\left[1, 3, 8, 13, 16, 13, 8, 3, 1\\right]</script></td>\n",
       "<td><script type=\"math/tex\">\\mathrm{False}</script></td>\n",
       "<td><script type=\"math/tex\">\\mathrm{True}</script></td>\n",
       "<td>D4</td>\n",
       "</tr>\n",
       "<tr class =\"row-a\">\n",
       "<td><script type=\"math/tex\">8</script></td>\n",
       "<td><script type=\"math/tex\">70</script></td>\n",
       "<td><script type=\"math/tex\">\\left[1, 3, 9, 13, 18, 13, 9, 3, 1\\right]</script></td>\n",
       "<td><script type=\"math/tex\">\\mathrm{False}</script></td>\n",
       "<td><script type=\"math/tex\">\\mathrm{True}</script></td>\n",
       "<td>C2 x C2 x C2</td>\n",
       "</tr>\n",
       "<tr class =\"row-b\">\n",
       "<td><script type=\"math/tex\">8</script></td>\n",
       "<td><script type=\"math/tex\">108</script></td>\n",
       "<td><script type=\"math/tex\">\\left[1, 4, 13, 22, 28, 22, 13, 4, 1\\right]</script></td>\n",
       "<td><script type=\"math/tex\">\\mathrm{False}</script></td>\n",
       "<td><script type=\"math/tex\">\\mathrm{True}</script></td>\n",
       "<td>C2 x C2</td>\n",
       "</tr>\n",
       "<tr class =\"row-a\">\n",
       "<td><script type=\"math/tex\">8</script></td>\n",
       "<td><script type=\"math/tex\">100</script></td>\n",
       "<td><script type=\"math/tex\">\\left[1, 4, 12, 20, 26, 20, 12, 4, 1\\right]</script></td>\n",
       "<td><script type=\"math/tex\">\\mathrm{False}</script></td>\n",
       "<td><script type=\"math/tex\">\\mathrm{True}</script></td>\n",
       "<td>C2 x C2</td>\n",
       "</tr>\n",
       "<tr class =\"row-b\">\n",
       "<td><script type=\"math/tex\">8</script></td>\n",
       "<td><script type=\"math/tex\">192</script></td>\n",
       "<td><script type=\"math/tex\">\\left[1, 7, 22, 41, 50, 41, 22, 7, 1\\right]</script></td>\n",
       "<td><script type=\"math/tex\">\\mathrm{False}</script></td>\n",
       "<td><script type=\"math/tex\">\\mathrm{True}</script></td>\n",
       "<td>C2</td>\n",
       "</tr>\n",
       "<tr class =\"row-a\">\n",
       "<td><script type=\"math/tex\">8</script></td>\n",
       "<td><script type=\"math/tex\">160</script></td>\n",
       "<td><script type=\"math/tex\">\\left[1, 6, 18, 34, 42, 34, 18, 6, 1\\right]</script></td>\n",
       "<td><script type=\"math/tex\">\\mathrm{False}</script></td>\n",
       "<td><script type=\"math/tex\">\\mathrm{True}</script></td>\n",
       "<td>C2</td>\n",
       "</tr>\n",
       "<tr class =\"row-b\">\n",
       "<td><script type=\"math/tex\">8</script></td>\n",
       "<td><script type=\"math/tex\">112</script></td>\n",
       "<td><script type=\"math/tex\">\\left[1, 5, 13, 23, 28, 23, 13, 5, 1\\right]</script></td>\n",
       "<td><script type=\"math/tex\">\\mathrm{False}</script></td>\n",
       "<td><script type=\"math/tex\">\\mathrm{True}</script></td>\n",
       "<td>C2 x C2</td>\n",
       "</tr>\n",
       "</tbody>\n",
       "</table>\n",
       "</div>"
      ],
      "text/plain": [
       "  8   9     [1, 1, 1, 1, 1, 1, 1, 1, 1]        True    True    S8\n",
       "  8   16    [1, 2, 2, 2, 2, 2, 2, 2, 1]        False   True    S7\n",
       "  8   15    [1, 1, 2, 2, 3, 2, 2, 1, 1]        True    True    (S4 x S4) : C2\n",
       "  8   22    [1, 1, 3, 3, 6, 3, 3, 1, 1]        True    True    C2 x S4\n",
       "  8   21    [1, 1, 3, 3, 5, 3, 3, 1, 1]        True    True    (((C2 x C2 x C2 x C2) : C2) : C2) : C2\n",
       "  8   84    [1, 3, 10, 17, 22, 17, 10, 3, 1]   False   True    C2 x C2\n",
       "  8   10    [1, 1, 1, 1, 2, 1, 1, 1, 1]        True    True    PSL(3,2) : C2\n",
       "  8   25    [1, 2, 3, 4, 5, 4, 3, 2, 1]        False   True    S4 x S4\n",
       "  8   24    [1, 2, 3, 4, 4, 4, 3, 2, 1]        False   True    S3 x S5\n",
       "  8   32    [1, 2, 4, 6, 6, 6, 4, 2, 1]        False   True    S3 x D5\n",
       "  8   15    [1, 1, 2, 2, 3, 2, 2, 1, 1]        True    True    ((((C2 x C2 x C2 x C2) : C2) : C2) : C3) : C2\n",
       "  8   60    [1, 3, 7, 12, 14, 12, 7, 3, 1]     False   True    D6\n",
       "  8   30    [1, 1, 4, 5, 8, 5, 4, 1, 1]        True    True    D8\n",
       "  8   10    [1, 1, 1, 1, 2, 1, 1, 1, 1]        True    True    (C2 x C2 x C2) : PSL(3,2)\n",
       "  8   51    [1, 2, 7, 9, 13, 9, 7, 2, 1]       False   True    C2 x D4\n",
       "  8   21    [1, 2, 3, 3, 3, 3, 3, 2, 1]        False   True    C2 x S6\n",
       "  8   36    [1, 3, 5, 6, 6, 6, 5, 3, 1]        False   True    C2 x S5\n",
       "  8   48    [1, 3, 6, 9, 10, 9, 6, 3, 1]       False   True    D4 x S3\n",
       "  8   20    [1, 2, 2, 3, 4, 3, 2, 2, 1]        False   True    C7 : C6\n",
       "  8   40    [1, 3, 5, 7, 8, 7, 5, 3, 1]        False   True    S3 x S4\n",
       "  8   36    [1, 2, 4, 7, 8, 7, 4, 2, 1]        False   True    D7\n",
       "  8   20    [1, 2, 2, 3, 4, 3, 2, 2, 1]        False   True    PSL(3,2)\n",
       "  8   28    [1, 3, 4, 4, 4, 4, 4, 3, 1]        False   True    S6\n",
       "  8   96    [1, 4, 10, 20, 26, 20, 10, 4, 1]   False   True    C3\n",
       "  8   70    [1, 2, 8, 14, 20, 14, 8, 2, 1]     False   True    C4\n",
       "  8   96    [1, 4, 11, 20, 24, 20, 11, 4, 1]   False   True    C2 x C2\n",
       "  8   256   [1, 8, 28, 56, 70, 56, 28, 8, 1]   False   True    1\n",
       "  8   16    [1, 1, 2, 2, 4, 2, 2, 1, 1]        True    True    (((C2 x C2 x C2 x C2) : C3) : C2) : C2\n",
       "  8   27    [1, 1, 4, 4, 7, 4, 4, 1, 1]        True    True    ((C2 x C2 x C2 x C2) : C2) : C2\n",
       "  8   27    [1, 1, 3, 5, 7, 5, 3, 1, 1]        True    True    C8 : C2\n",
       "  8   35    [1, 2, 4, 6, 9, 6, 4, 2, 1]        False   True    S4\n",
       "  8   34    [1, 1, 5, 5, 10, 5, 5, 1, 1]       True    True    C2 x D4\n",
       "  8   43    [1, 1, 6, 7, 13, 7, 6, 1, 1]       True    True    D4\n",
       "  8   23    [1, 1, 3, 3, 7, 3, 3, 1, 1]        True    True    S4\n",
       "  8   76    [1, 2, 10, 14, 22, 14, 10, 2, 1]   False   True    C2 x C2\n",
       "  8   27    [1, 1, 3, 5, 7, 5, 3, 1, 1]        True    True    QD16\n",
       "  8   66    [1, 3, 8, 13, 16, 13, 8, 3, 1]     False   True    C2 x C2 x C2\n",
       "  8   22    [1, 1, 3, 3, 6, 3, 3, 1, 1]        True    True    ((C2 x C2 x C2 x C2) : C2) : C2\n",
       "  8   24    [1, 1, 3, 4, 6, 4, 3, 1, 1]        True    True    C8 : (C2 x C2)\n",
       "  8   30    [1, 1, 4, 5, 8, 5, 4, 1, 1]        True    False   (C4 x C2) : C2\n",
       "  8   55    [1, 2, 7, 10, 15, 10, 7, 2, 1]     False   True    D4\n",
       "  8   24    [1, 1, 3, 4, 6, 4, 3, 1, 1]        True    True    ((C2 x C2 x C2) : C4) : C2\n",
       "  8   28    [1, 1, 4, 4, 8, 4, 4, 1, 1]        True    True    (C2 x C2 x C2 x C2) : C2\n",
       "  8   136   [1, 4, 16, 28, 38, 28, 16, 4, 1]   False   True    C2\n",
       "  8   11    [1, 1, 1, 1, 3, 1, 1, 1, 1]        True    True    PSL(3,2)\n",
       "  8   45    [1, 2, 6, 8, 11, 8, 6, 2, 1]       False   True    (C2 x C2 x C2 x C2) : C2\n",
       "  8   30    [1, 2, 4, 5, 6, 5, 4, 2, 1]        False   True    S4 x D4\n",
       "  8   45    [1, 3, 6, 8, 9, 8, 6, 3, 1]        False   True    C2 x C2 x S4\n",
       "  8   26    [1, 2, 3, 4, 6, 4, 3, 2, 1]        False   True    ((C2 x C2 x C2 x C2) : C3) : C2\n",
       "  8   51    [1, 2, 6, 10, 13, 10, 6, 2, 1]     False   True    D4\n",
       "  8   48    [1, 3, 6, 9, 10, 9, 6, 3, 1]       False   True    C2 x S3 x S3\n",
       "  8   18    [1, 1, 2, 3, 4, 3, 2, 1, 1]        True    True    GL(2,3)\n",
       "  8   144   [1, 5, 16, 31, 38, 31, 16, 5, 1]   False   True    C2\n",
       "  8   72    [1, 3, 8, 15, 18, 15, 8, 3, 1]     False   True    C6\n",
       "  8   58    [1, 2, 8, 10, 16, 10, 8, 2, 1]     False   True    C2 x C2 x C2\n",
       "  8   16    [1, 1, 2, 2, 4, 2, 2, 1, 1]        True    True    (((C2 x C2 x C2) : (C2 x C2)) : C3) : C2\n",
       "  8   64    [1, 3, 7, 13, 16, 13, 7, 3, 1]     False   True    S3\n",
       "  8   36    [1, 1, 4, 7, 10, 7, 4, 1, 1]       True    True    C8\n",
       "  8   54    [1, 2, 7, 10, 14, 10, 7, 2, 1]     False   True    C4 x C2\n",
       "  8   54    [1, 2, 7, 10, 14, 10, 7, 2, 1]     False   True    D4\n",
       "  8   36    [1, 2, 5, 6, 8, 6, 5, 2, 1]        False   True    (S3 x S3) : C2\n",
       "  8   24    [1, 2, 3, 4, 4, 4, 3, 2, 1]        False   True    C2 x A5\n",
       "  8   30    [1, 2, 4, 5, 6, 5, 4, 2, 1]        False   True    C2 x C2 x S4\n",
       "  8   22    [1, 2, 3, 3, 4, 3, 3, 2, 1]        False   True    S5\n",
       "  8   39    [1, 2, 5, 7, 9, 7, 5, 2, 1]        False   True    C2 x C2 x S3\n",
       "  8   30    [1, 2, 4, 5, 6, 5, 4, 2, 1]        False   True    C2 x ((S3 x S3) : C2)\n",
       "  8   48    [1, 3, 6, 9, 10, 9, 6, 3, 1]       False   True    D10\n",
       "  8   72    [1, 4, 9, 14, 16, 14, 9, 4, 1]     False   True    C2 x C2 x S3\n",
       "  8   40    [1, 3, 5, 7, 8, 7, 5, 3, 1]        False   True    C5 : C4\n",
       "  8   48    [1, 4, 7, 8, 8, 8, 7, 4, 1]        False   True    S5\n",
       "  8   60    [1, 4, 8, 11, 12, 11, 8, 4, 1]     False   True    C2 x S4\n",
       "  8   56    [1, 3, 7, 11, 12, 11, 7, 3, 1]     False   True    C2 x C2 x S3\n",
       "  8   24    [1, 2, 2, 4, 6, 4, 2, 2, 1]        False   True    C7 : C3\n",
       "  8   44    [1, 3, 5, 8, 10, 8, 5, 3, 1]       False   True    S4\n",
       "  8   64    [1, 4, 8, 12, 14, 12, 8, 4, 1]     False   True    S3 x S3\n",
       "  8   40    [1, 2, 4, 8, 10, 8, 4, 2, 1]       False   True    C7\n",
       "  8   32    [1, 3, 4, 5, 6, 5, 4, 3, 1]        False   True    A5\n",
       "  8   40    [1, 3, 5, 7, 8, 7, 5, 3, 1]        False   True    (S3 x S3) : C2\n",
       "  8   52    [1, 3, 6, 10, 12, 10, 6, 3, 1]     False   True    D6\n",
       "  8   40    [1, 3, 5, 7, 8, 7, 5, 3, 1]        False   True    C2 x S4\n",
       "  8   17    [1, 1, 2, 2, 5, 2, 2, 1, 1]        True    True    ((C2 x C2 x C2 x C2) : C3) : C2\n",
       "  8   36    [1, 1, 4, 7, 10, 7, 4, 1, 1]       True    False   Q8\n",
       "  8   28    [1, 1, 4, 4, 8, 4, 4, 1, 1]        True    True    (C2 x C2 x C2) : (C2 x C2)\n",
       "  8   28    [1, 1, 3, 5, 8, 5, 3, 1, 1]        True    False   C4 x C2\n",
       "  8   36    [1, 2, 4, 6, 10, 6, 4, 2, 1]       False   True    A4\n",
       "  8   40    [1, 1, 5, 7, 12, 7, 5, 1, 1]       True    True    C4 x C2\n",
       "  8   46    [1, 1, 7, 7, 14, 7, 7, 1, 1]       True    True    C2 x C2 x C2\n",
       "  8   28    [1, 1, 3, 5, 8, 5, 3, 1, 1]        True    False   Q8\n",
       "  8   25    [1, 1, 3, 4, 7, 4, 3, 1, 1]        True    False   (C4 x C2) : C2\n",
       "  8   31    [1, 1, 4, 5, 9, 5, 4, 1, 1]        True    True    (C4 x C2) : C2\n",
       "  8   25    [1, 1, 3, 4, 7, 4, 3, 1, 1]        True    True    (C2 x C2 x C2) : C4\n",
       "  8   31    [1, 1, 4, 5, 9, 5, 4, 1, 1]        True    True    (C4 x C2) : C2\n",
       "  8   48    [1, 2, 6, 9, 12, 9, 6, 2, 1]       False   True    (C4 x C2) : C2\n",
       "  8   46    [1, 2, 6, 8, 12, 8, 6, 2, 1]       False   True    C2 x D4\n",
       "  8   35    [1, 2, 5, 6, 7, 6, 5, 2, 1]        False   True    C2 x C2 x S4\n",
       "  8   36    [1, 2, 5, 6, 8, 6, 5, 2, 1]        False   True    D4 x D4\n",
       "  8   39    [1, 2, 5, 7, 9, 7, 5, 2, 1]        False   True    (C2 x C2 x C2 x C2) : C2\n",
       "  8   63    [1, 3, 8, 12, 15, 12, 8, 3, 1]     False   True    C2 x D4\n",
       "  8   54    [1, 3, 7, 10, 12, 10, 7, 3, 1]     False   True    C2 x C2 x D4\n",
       "  8   57    [1, 3, 7, 11, 13, 11, 7, 3, 1]     False   True    C2 x D4\n",
       "  8   50    [1, 3, 7, 9, 10, 9, 7, 3, 1]       False   True    C2 x S4\n",
       "  8   81    [1, 4, 10, 16, 19, 16, 10, 4, 1]   False   True    C2 x C2 x C2 x C2\n",
       "  8   27    [1, 2, 3, 4, 7, 4, 3, 2, 1]        False   True    (C2 x C2 x C2 x C2) : C3\n",
       "  8   19    [1, 1, 2, 3, 5, 3, 2, 1, 1]        True    True    SL(2,3)\n",
       "  8   46    [1, 2, 6, 8, 12, 8, 6, 2, 1]       False   True    D6\n",
       "  8   78    [1, 3, 10, 15, 20, 15, 10, 3, 1]   False   True    D4\n",
       "  8   72    [1, 3, 9, 14, 18, 14, 9, 3, 1]     False   True    C2 x C2 x C2\n",
       "  8   33    [1, 2, 4, 6, 7, 6, 4, 2, 1]        False   True    C2 x C2 x A4\n",
       "  8   31    [1, 2, 4, 5, 7, 5, 4, 2, 1]        False   True    C2 x S4\n",
       "  8   33    [1, 2, 4, 6, 7, 6, 4, 2, 1]        False   True    C2 x S4\n",
       "  8   60    [1, 3, 7, 12, 14, 12, 7, 3, 1]     False   True    D4\n",
       "  8   48    [1, 2, 6, 9, 12, 9, 6, 2, 1]       False   True    D6\n",
       "  8   31    [1, 2, 4, 5, 7, 5, 4, 2, 1]        False   True    C2 x S4\n",
       "  8   40    [1, 2, 5, 7, 10, 7, 5, 2, 1]       False   True    D6\n",
       "  8   88    [1, 3, 11, 17, 24, 17, 11, 3, 1]   False   True    C2 x C2\n",
       "  8   42    [1, 2, 5, 8, 10, 8, 5, 2, 1]       False   True    D6\n",
       "  8   42    [1, 2, 5, 8, 10, 8, 5, 2, 1]       False   True    C6 x C2\n",
       "  8   96    [1, 5, 12, 19, 22, 19, 12, 5, 1]   False   True    D6\n",
       "  8   80    [1, 4, 10, 16, 18, 16, 10, 4, 1]   False   True    D6\n",
       "  8   108   [1, 5, 13, 22, 26, 22, 13, 5, 1]   False   True    C2 x C2 x C2\n",
       "  8   64    [1, 4, 8, 12, 14, 12, 8, 4, 1]     False   True    D5\n",
       "  8   80    [1, 5, 11, 15, 16, 15, 11, 5, 1]   False   True    S4\n",
       "  8   84    [1, 4, 10, 17, 20, 17, 10, 4, 1]   False   True    D4\n",
       "  8   72    [1, 4, 9, 14, 16, 14, 9, 4, 1]     False   True    C2 x D4\n",
       "  8   48    [1, 3, 5, 9, 12, 9, 5, 3, 1]       False   True    A4\n",
       "  8   80    [1, 4, 9, 16, 20, 16, 9, 4, 1]     False   True    S3\n",
       "  8   56    [1, 3, 6, 11, 14, 11, 6, 3, 1]     False   True    C6\n",
       "  8   64    [1, 3, 7, 13, 16, 13, 7, 3, 1]     False   True    S3\n",
       "  8   96    [1, 4, 11, 20, 24, 20, 11, 4, 1]   False   True    C2 x C2\n",
       "  8   44    [1, 3, 5, 8, 10, 8, 5, 3, 1]       False   True    S4\n",
       "  8   44    [1, 3, 5, 8, 10, 8, 5, 3, 1]       False   True    C2 x A4\n",
       "  8   37    [1, 1, 4, 7, 11, 7, 4, 1, 1]       True    True    Q8\n",
       "  8   49    [1, 2, 6, 9, 13, 9, 6, 2, 1]       False   False   C4 x C2\n",
       "  8   51    [1, 2, 6, 10, 13, 10, 6, 2, 1]     False   False   C4 x C2\n",
       "  8   42    [1, 2, 6, 7, 10, 7, 6, 2, 1]       False   True    C2 x C2 x D4\n",
       "  8   45    [1, 2, 6, 8, 11, 8, 6, 2, 1]       False   True    C2 x D4\n",
       "  8   37    [1, 2, 5, 6, 9, 6, 5, 2, 1]        False   True    (C2 x C2 x C2 x C2) : C2\n",
       "  8   40    [1, 2, 5, 7, 10, 7, 5, 2, 1]       False   True    (C4 x C2) : C2\n",
       "  8   42    [1, 2, 5, 8, 10, 8, 5, 2, 1]       False   True    C2 x D4\n",
       "  8   64    [1, 3, 8, 12, 16, 12, 8, 3, 1]     False   True    D4\n",
       "  8   66    [1, 3, 8, 13, 16, 13, 8, 3, 1]     False   True    D4\n",
       "  8   66    [1, 3, 8, 13, 16, 13, 8, 3, 1]     False   True    C4 x C2\n",
       "  8   55    [1, 3, 7, 10, 13, 10, 7, 3, 1]     False   True    C2 x D4\n",
       "  8   57    [1, 3, 7, 11, 13, 11, 7, 3, 1]     False   True    C2 x D4\n",
       "  8   60    [1, 3, 8, 11, 14, 11, 8, 3, 1]     False   True    C2 x D4\n",
       "  8   63    [1, 3, 8, 12, 15, 12, 8, 3, 1]     False   True    C2 x C2 x C2 x C2\n",
       "  8   58    [1, 3, 7, 11, 14, 11, 7, 3, 1]     False   True    C4 x C2\n",
       "  8   90    [1, 4, 11, 18, 22, 18, 11, 4, 1]   False   True    C2 x C2 x C2\n",
       "  8   84    [1, 4, 10, 17, 20, 17, 10, 4, 1]   False   True    C2 x C2 x C2\n",
       "  8   82    [1, 4, 10, 16, 20, 16, 10, 4, 1]   False   True    C2 x C2 x C2\n",
       "  8   52    [1, 2, 6, 10, 14, 10, 6, 2, 1]     False   True    C6\n",
       "  8   56    [1, 2, 7, 10, 16, 10, 7, 2, 1]     False   True    S3\n",
       "  8   84    [1, 3, 10, 17, 22, 17, 10, 3, 1]   False   True    C4\n",
       "  8   36    [1, 2, 4, 7, 8, 7, 4, 2, 1]        False   True    C2 x A4\n",
       "  8   34    [1, 2, 4, 6, 8, 6, 4, 2, 1]        False   True    C2 x A4\n",
       "  8   32    [1, 2, 4, 5, 8, 5, 4, 2, 1]        False   True    S4\n",
       "  8   34    [1, 2, 4, 6, 8, 6, 4, 2, 1]        False   True    S4\n",
       "  8   128   [1, 6, 16, 26, 30, 26, 16, 6, 1]   False   True    S3\n",
       "  8   144   [1, 6, 17, 30, 36, 30, 17, 6, 1]   False   True    C2 x C2\n",
       "  8   112   [1, 5, 13, 23, 28, 23, 13, 5, 1]   False   True    C2 x C2\n",
       "  8   120   [1, 5, 14, 25, 30, 25, 14, 5, 1]   False   True    C2 x C2\n",
       "  8   96    [1, 5, 12, 19, 22, 19, 12, 5, 1]   False   True    D4\n",
       "  8   88    [1, 4, 10, 18, 22, 18, 10, 4, 1]   False   True    C4\n",
       "  8   76    [1, 4, 9, 15, 18, 15, 9, 4, 1]     False   True    D4\n",
       "  8   84    [1, 4, 10, 17, 20, 17, 10, 4, 1]   False   True    C2 x C2 x C2\n",
       "  8   48    [1, 3, 5, 9, 12, 9, 5, 3, 1]       False   True    A4\n",
       "  8   52    [1, 2, 6, 10, 14, 10, 6, 2, 1]     False   True    C4 x C2\n",
       "  8   49    [1, 2, 7, 8, 13, 8, 7, 2, 1]       False   True    C2 x C2 x C2 x C2\n",
       "  8   43    [1, 2, 5, 8, 11, 8, 5, 2, 1]       False   False   C4 x C2\n",
       "  8   66    [1, 3, 8, 13, 16, 13, 8, 3, 1]     False   True    D4\n",
       "  8   70    [1, 3, 9, 13, 18, 13, 9, 3, 1]     False   True    C2 x C2 x C2\n",
       "  8   108   [1, 4, 13, 22, 28, 22, 13, 4, 1]   False   True    C2 x C2\n",
       "  8   100   [1, 4, 12, 20, 26, 20, 12, 4, 1]   False   True    C2 x C2\n",
       "  8   192   [1, 7, 22, 41, 50, 41, 22, 7, 1]   False   True    C2\n",
       "  8   160   [1, 6, 18, 34, 42, 34, 18, 6, 1]   False   True    C2\n",
       "  8   112   [1, 5, 13, 23, 28, 23, 13, 5, 1]   False   True    C2 x C2"
      ]
     },
     "execution_count": 16,
     "metadata": {},
     "output_type": "execute_result"
    }
   ],
   "source": [
    "table([s.summary() for s in all_sas])"
   ]
  },
  {
   "cell_type": "code",
   "execution_count": 17,
   "metadata": {},
   "outputs": [
    {
     "data": {
      "text/html": [
       "<div class=\"notruncate\">\n",
       "<table  class=\"table_form\">\n",
       "<tbody>\n",
       "<tr class =\"row-a\">\n",
       "<td><script type=\"math/tex\">8</script></td>\n",
       "<td><script type=\"math/tex\">30</script></td>\n",
       "<td><script type=\"math/tex\">\\left[1, 1, 4, 5, 8, 5, 4, 1, 1\\right]</script></td>\n",
       "<td><script type=\"math/tex\">\\mathrm{True}</script></td>\n",
       "<td><script type=\"math/tex\">\\mathrm{False}</script></td>\n",
       "<td>(C4 x C2) : C2</td>\n",
       "</tr>\n",
       "<tr class =\"row-b\">\n",
       "<td><script type=\"math/tex\">8</script></td>\n",
       "<td><script type=\"math/tex\">36</script></td>\n",
       "<td><script type=\"math/tex\">\\left[1, 1, 4, 7, 10, 7, 4, 1, 1\\right]</script></td>\n",
       "<td><script type=\"math/tex\">\\mathrm{True}</script></td>\n",
       "<td><script type=\"math/tex\">\\mathrm{False}</script></td>\n",
       "<td>Q8</td>\n",
       "</tr>\n",
       "<tr class =\"row-a\">\n",
       "<td><script type=\"math/tex\">8</script></td>\n",
       "<td><script type=\"math/tex\">28</script></td>\n",
       "<td><script type=\"math/tex\">\\left[1, 1, 3, 5, 8, 5, 3, 1, 1\\right]</script></td>\n",
       "<td><script type=\"math/tex\">\\mathrm{True}</script></td>\n",
       "<td><script type=\"math/tex\">\\mathrm{False}</script></td>\n",
       "<td>C4 x C2</td>\n",
       "</tr>\n",
       "<tr class =\"row-b\">\n",
       "<td><script type=\"math/tex\">8</script></td>\n",
       "<td><script type=\"math/tex\">28</script></td>\n",
       "<td><script type=\"math/tex\">\\left[1, 1, 3, 5, 8, 5, 3, 1, 1\\right]</script></td>\n",
       "<td><script type=\"math/tex\">\\mathrm{True}</script></td>\n",
       "<td><script type=\"math/tex\">\\mathrm{False}</script></td>\n",
       "<td>Q8</td>\n",
       "</tr>\n",
       "<tr class =\"row-a\">\n",
       "<td><script type=\"math/tex\">8</script></td>\n",
       "<td><script type=\"math/tex\">25</script></td>\n",
       "<td><script type=\"math/tex\">\\left[1, 1, 3, 4, 7, 4, 3, 1, 1\\right]</script></td>\n",
       "<td><script type=\"math/tex\">\\mathrm{True}</script></td>\n",
       "<td><script type=\"math/tex\">\\mathrm{False}</script></td>\n",
       "<td>(C4 x C2) : C2</td>\n",
       "</tr>\n",
       "<tr class =\"row-b\">\n",
       "<td><script type=\"math/tex\">8</script></td>\n",
       "<td><script type=\"math/tex\">49</script></td>\n",
       "<td><script type=\"math/tex\">\\left[1, 2, 6, 9, 13, 9, 6, 2, 1\\right]</script></td>\n",
       "<td><script type=\"math/tex\">\\mathrm{False}</script></td>\n",
       "<td><script type=\"math/tex\">\\mathrm{False}</script></td>\n",
       "<td>C4 x C2</td>\n",
       "</tr>\n",
       "<tr class =\"row-a\">\n",
       "<td><script type=\"math/tex\">8</script></td>\n",
       "<td><script type=\"math/tex\">51</script></td>\n",
       "<td><script type=\"math/tex\">\\left[1, 2, 6, 10, 13, 10, 6, 2, 1\\right]</script></td>\n",
       "<td><script type=\"math/tex\">\\mathrm{False}</script></td>\n",
       "<td><script type=\"math/tex\">\\mathrm{False}</script></td>\n",
       "<td>C4 x C2</td>\n",
       "</tr>\n",
       "<tr class =\"row-b\">\n",
       "<td><script type=\"math/tex\">8</script></td>\n",
       "<td><script type=\"math/tex\">43</script></td>\n",
       "<td><script type=\"math/tex\">\\left[1, 2, 5, 8, 11, 8, 5, 2, 1\\right]</script></td>\n",
       "<td><script type=\"math/tex\">\\mathrm{False}</script></td>\n",
       "<td><script type=\"math/tex\">\\mathrm{False}</script></td>\n",
       "<td>C4 x C2</td>\n",
       "</tr>\n",
       "</tbody>\n",
       "</table>\n",
       "</div>"
      ],
      "text/plain": [
       "  8   30   [1, 1, 4, 5, 8, 5, 4, 1, 1]      True    False   (C4 x C2) : C2\n",
       "  8   36   [1, 1, 4, 7, 10, 7, 4, 1, 1]     True    False   Q8\n",
       "  8   28   [1, 1, 3, 5, 8, 5, 3, 1, 1]      True    False   C4 x C2\n",
       "  8   28   [1, 1, 3, 5, 8, 5, 3, 1, 1]      True    False   Q8\n",
       "  8   25   [1, 1, 3, 4, 7, 4, 3, 1, 1]      True    False   (C4 x C2) : C2\n",
       "  8   49   [1, 2, 6, 9, 13, 9, 6, 2, 1]     False   False   C4 x C2\n",
       "  8   51   [1, 2, 6, 10, 13, 10, 6, 2, 1]   False   False   C4 x C2\n",
       "  8   43   [1, 2, 5, 8, 11, 8, 5, 2, 1]     False   False   C4 x C2"
      ]
     },
     "execution_count": 17,
     "metadata": {},
     "output_type": "execute_result"
    }
   ],
   "source": [
    "table([s.summary() for s in all_sas if not s.is_schurian()])"
   ]
  }
 ],
 "metadata": {
  "kernelspec": {
   "display_name": "SageMath 9.1",
   "language": "sage",
   "name": "sagemath"
  },
  "language_info": {
   "codemirror_mode": {
    "name": "ipython",
    "version": 3
   },
   "file_extension": ".py",
   "mimetype": "text/x-python",
   "name": "python",
   "nbconvert_exporter": "python",
   "pygments_lexer": "ipython3",
   "version": "3.7.3"
  }
 },
 "nbformat": 4,
 "nbformat_minor": 2
}
