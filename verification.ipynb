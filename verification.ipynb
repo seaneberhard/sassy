{
 "cells": [
  {
   "cell_type": "code",
   "execution_count": 1,
   "metadata": {},
   "outputs": [],
   "source": [
    "from sassy import SAS"
   ]
  },
  {
   "cell_type": "code",
   "execution_count": 2,
   "metadata": {},
   "outputs": [
    {
     "data": {
      "text/html": [
       "<div class=\"notruncate\">\n",
       "<table  class=\"table_form\">\n",
       "<tbody>\n",
       "<tr>\n",
       "<th>degree</th>\n",
       "<th>rank</th>\n",
       "<th>per-level ranks</th>\n",
       "<th>homo?</th>\n",
       "<th>schurian?</th>\n",
       "<th>aut group</th>\n",
       "<th>vertex-transitive?</th>\n",
       "</tr>\n",
       "<tr class =\"row-a\">\n",
       "<td><script type=\"math/tex\">8</script></td>\n",
       "<td><script type=\"math/tex\">25</script></td>\n",
       "<td><script type=\"math/tex\">\\left[1, 1, 3, 4, 7, 4, 3, 1, 1\\right]</script></td>\n",
       "<td><script type=\"math/tex\">\\mathrm{True}</script></td>\n",
       "<td><script type=\"math/tex\">\\mathrm{False}</script></td>\n",
       "<td>(C4 x C2) : C2</td>\n",
       "<td><script type=\"math/tex\">\\mathrm{True}</script></td>\n",
       "</tr>\n",
       "<tr class =\"row-b\">\n",
       "<td><script type=\"math/tex\">8</script></td>\n",
       "<td><script type=\"math/tex\">30</script></td>\n",
       "<td><script type=\"math/tex\">\\left[1, 1, 4, 5, 8, 5, 4, 1, 1\\right]</script></td>\n",
       "<td><script type=\"math/tex\">\\mathrm{True}</script></td>\n",
       "<td><script type=\"math/tex\">\\mathrm{False}</script></td>\n",
       "<td>(C4 x C2) : C2</td>\n",
       "<td><script type=\"math/tex\">\\mathrm{True}</script></td>\n",
       "</tr>\n",
       "<tr class =\"row-a\">\n",
       "<td><script type=\"math/tex\">8</script></td>\n",
       "<td><script type=\"math/tex\">28</script></td>\n",
       "<td><script type=\"math/tex\">\\left[1, 1, 3, 5, 8, 5, 3, 1, 1\\right]</script></td>\n",
       "<td><script type=\"math/tex\">\\mathrm{True}</script></td>\n",
       "<td><script type=\"math/tex\">\\mathrm{False}</script></td>\n",
       "<td>Q8</td>\n",
       "<td><script type=\"math/tex\">\\mathrm{True}</script></td>\n",
       "</tr>\n",
       "<tr class =\"row-b\">\n",
       "<td><script type=\"math/tex\">8</script></td>\n",
       "<td><script type=\"math/tex\">36</script></td>\n",
       "<td><script type=\"math/tex\">\\left[1, 1, 4, 7, 10, 7, 4, 1, 1\\right]</script></td>\n",
       "<td><script type=\"math/tex\">\\mathrm{True}</script></td>\n",
       "<td><script type=\"math/tex\">\\mathrm{False}</script></td>\n",
       "<td>Q8</td>\n",
       "<td><script type=\"math/tex\">\\mathrm{True}</script></td>\n",
       "</tr>\n",
       "<tr class =\"row-a\">\n",
       "<td><script type=\"math/tex\">8</script></td>\n",
       "<td><script type=\"math/tex\">28</script></td>\n",
       "<td><script type=\"math/tex\">\\left[1, 1, 3, 5, 8, 5, 3, 1, 1\\right]</script></td>\n",
       "<td><script type=\"math/tex\">\\mathrm{True}</script></td>\n",
       "<td><script type=\"math/tex\">\\mathrm{False}</script></td>\n",
       "<td>C4 x C2</td>\n",
       "<td><script type=\"math/tex\">\\mathrm{False}</script></td>\n",
       "</tr>\n",
       "<tr class =\"row-b\">\n",
       "<td><script type=\"math/tex\">8</script></td>\n",
       "<td><script type=\"math/tex\">51</script></td>\n",
       "<td><script type=\"math/tex\">\\left[1, 2, 6, 10, 13, 10, 6, 2, 1\\right]</script></td>\n",
       "<td><script type=\"math/tex\">\\mathrm{False}</script></td>\n",
       "<td><script type=\"math/tex\">\\mathrm{False}</script></td>\n",
       "<td>C4 x C2</td>\n",
       "<td><script type=\"math/tex\">\\mathrm{False}</script></td>\n",
       "</tr>\n",
       "<tr class =\"row-a\">\n",
       "<td><script type=\"math/tex\">8</script></td>\n",
       "<td><script type=\"math/tex\">43</script></td>\n",
       "<td><script type=\"math/tex\">\\left[1, 2, 5, 8, 11, 8, 5, 2, 1\\right]</script></td>\n",
       "<td><script type=\"math/tex\">\\mathrm{False}</script></td>\n",
       "<td><script type=\"math/tex\">\\mathrm{False}</script></td>\n",
       "<td>C4 x C2</td>\n",
       "<td><script type=\"math/tex\">\\mathrm{False}</script></td>\n",
       "</tr>\n",
       "<tr class =\"row-b\">\n",
       "<td><script type=\"math/tex\">8</script></td>\n",
       "<td><script type=\"math/tex\">49</script></td>\n",
       "<td><script type=\"math/tex\">\\left[1, 2, 6, 9, 13, 9, 6, 2, 1\\right]</script></td>\n",
       "<td><script type=\"math/tex\">\\mathrm{False}</script></td>\n",
       "<td><script type=\"math/tex\">\\mathrm{False}</script></td>\n",
       "<td>C4 x C2</td>\n",
       "<td><script type=\"math/tex\">\\mathrm{False}</script></td>\n",
       "</tr>\n",
       "</tbody>\n",
       "</table>\n",
       "</div>"
      ],
      "text/plain": [
       "  degree   rank   per-level ranks                  homo?   schurian?   aut group        vertex-transitive?\n",
       "+--------+------+--------------------------------+-------+-----------+----------------+--------------------+\n",
       "  8        25     [1, 1, 3, 4, 7, 4, 3, 1, 1]      True    False       (C4 x C2) : C2   True\n",
       "  8        30     [1, 1, 4, 5, 8, 5, 4, 1, 1]      True    False       (C4 x C2) : C2   True\n",
       "  8        28     [1, 1, 3, 5, 8, 5, 3, 1, 1]      True    False       Q8               True\n",
       "  8        36     [1, 1, 4, 7, 10, 7, 4, 1, 1]     True    False       Q8               True\n",
       "  8        28     [1, 1, 3, 5, 8, 5, 3, 1, 1]      True    False       C4 x C2          False\n",
       "  8        51     [1, 2, 6, 10, 13, 10, 6, 2, 1]   False   False       C4 x C2          False\n",
       "  8        43     [1, 2, 5, 8, 11, 8, 5, 2, 1]     False   False       C4 x C2          False\n",
       "  8        49     [1, 2, 6, 9, 13, 9, 6, 2, 1]     False   False       C4 x C2          False"
      ]
     },
     "execution_count": 2,
     "metadata": {},
     "output_type": "execute_result"
    }
   ],
   "source": [
    "nonschurians = [SAS.nonschurian_scheme(8, i) for i in [1..8]]\n",
    "table([s.summary() + (G.is_transitive(),) for s in nonschurians for G in [s.automorphism_group()]],\n",
    "      header_row=('degree', 'rank', 'per-level ranks', 'homo?', 'schurian?',\n",
    "                  'aut group', 'vertex-transitive?'))"
   ]
  },
  {
   "cell_type": "code",
   "execution_count": 3,
   "metadata": {},
   "outputs": [
    {
     "name": "stdout",
     "output_type": "stream",
     "text": [
      "WL step:\n"
     ]
    },
    {
     "data": {
      "application/vnd.jupyter.widget-view+json": {
       "model_id": "a0ab89d87bab4f2d8595670c0ff8efba",
       "version_major": 2,
       "version_minor": 0
      },
      "text/plain": [
       "  0%|          | 0/1215293 [00:00<?, ?it/s]"
      ]
     },
     "metadata": {},
     "output_type": "display_data"
    },
    {
     "name": "stdout",
     "output_type": "stream",
     "text": [
      "Rank: 25 --> 25\n",
      "WL step:\n"
     ]
    },
    {
     "data": {
      "application/vnd.jupyter.widget-view+json": {
       "model_id": "dd437bb2f5734d2cad2cbd0aa9ceb552",
       "version_major": 2,
       "version_minor": 0
      },
      "text/plain": [
       "  0%|          | 0/1215293 [00:00<?, ?it/s]"
      ]
     },
     "metadata": {},
     "output_type": "display_data"
    },
    {
     "name": "stdout",
     "output_type": "stream",
     "text": [
      "Rank: 30 --> 30\n",
      "WL step:\n"
     ]
    },
    {
     "data": {
      "application/vnd.jupyter.widget-view+json": {
       "model_id": "a11ee9d1de1543c8a18ca550946c6af8",
       "version_major": 2,
       "version_minor": 0
      },
      "text/plain": [
       "  0%|          | 0/1450511 [00:00<?, ?it/s]"
      ]
     },
     "metadata": {},
     "output_type": "display_data"
    },
    {
     "name": "stdout",
     "output_type": "stream",
     "text": [
      "Rank: 28 --> 28\n",
      "WL step:\n"
     ]
    },
    {
     "data": {
      "application/vnd.jupyter.widget-view+json": {
       "model_id": "95fab237d2584e8088ee15828aa42fb5",
       "version_major": 2,
       "version_minor": 0
      },
      "text/plain": [
       "  0%|          | 0/1450511 [00:00<?, ?it/s]"
      ]
     },
     "metadata": {},
     "output_type": "display_data"
    },
    {
     "name": "stdout",
     "output_type": "stream",
     "text": [
      "Rank: 36 --> 36\n",
      "WL step:\n"
     ]
    },
    {
     "data": {
      "application/vnd.jupyter.widget-view+json": {
       "model_id": "2534e7ed4b14493bb35d78570a399889",
       "version_major": 2,
       "version_minor": 0
      },
      "text/plain": [
       "  0%|          | 0/2038556 [00:00<?, ?it/s]"
      ]
     },
     "metadata": {},
     "output_type": "display_data"
    },
    {
     "name": "stdout",
     "output_type": "stream",
     "text": [
      "Rank: 28 --> 28\n",
      "WL step:\n"
     ]
    },
    {
     "data": {
      "application/vnd.jupyter.widget-view+json": {
       "model_id": "c5cb70273e3847d19975fca10806b5e1",
       "version_major": 2,
       "version_minor": 0
      },
      "text/plain": [
       "  0%|          | 0/2038556 [00:00<?, ?it/s]"
      ]
     },
     "metadata": {},
     "output_type": "display_data"
    },
    {
     "name": "stdout",
     "output_type": "stream",
     "text": [
      "Rank: 51 --> 51\n",
      "WL step:\n"
     ]
    },
    {
     "data": {
      "application/vnd.jupyter.widget-view+json": {
       "model_id": "4cdbf1d3b68e45a486d9b80b592ada93",
       "version_major": 2,
       "version_minor": 0
      },
      "text/plain": [
       "  0%|          | 0/2038556 [00:00<?, ?it/s]"
      ]
     },
     "metadata": {},
     "output_type": "display_data"
    },
    {
     "name": "stdout",
     "output_type": "stream",
     "text": [
      "Rank: 43 --> 43\n",
      "WL step:\n"
     ]
    },
    {
     "data": {
      "application/vnd.jupyter.widget-view+json": {
       "model_id": "25a60e6ae218431996803e73542c84e5",
       "version_major": 2,
       "version_minor": 0
      },
      "text/plain": [
       "  0%|          | 0/2038556 [00:00<?, ?it/s]"
      ]
     },
     "metadata": {},
     "output_type": "display_data"
    },
    {
     "name": "stdout",
     "output_type": "stream",
     "text": [
      "Rank: 49 --> 49\n"
     ]
    },
    {
     "data": {
      "text/plain": [
       "True"
      ]
     },
     "execution_count": 3,
     "metadata": {},
     "output_type": "execute_result"
    }
   ],
   "source": [
    "all(s.wl_step(log_progress=True) == 0 for s in nonschurians)"
   ]
  }
 ],
 "metadata": {
  "kernelspec": {
   "display_name": "SageMath 9.1",
   "language": "sage",
   "name": "sagemath"
  },
  "language_info": {
   "codemirror_mode": {
    "name": "ipython",
    "version": 3
   },
   "file_extension": ".py",
   "mimetype": "text/x-python",
   "name": "python",
   "nbconvert_exporter": "python",
   "pygments_lexer": "ipython3",
   "version": "3.7.3"
  }
 },
 "nbformat": 4,
 "nbformat_minor": 2
}
